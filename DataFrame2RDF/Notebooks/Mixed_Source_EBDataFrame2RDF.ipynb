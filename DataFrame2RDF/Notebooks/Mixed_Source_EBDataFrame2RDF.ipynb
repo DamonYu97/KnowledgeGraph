{
 "cells": [
  {
   "cell_type": "markdown",
   "source": [
    "# Mixed source EB Dataframe to RDF\n",
    "\n",
    "This notebook creates rdf triples from EB dataframe based on the [Heritage Text Ontology](https://github.com/frances-ai/HeritageTextOntology), and export it as ttl file. It will first load graph generated from single source using [single source notebook](Single_Source_EBDataFrame2RDF.ipynb), and then add triples which represents data from different sources. As a result, one EB term will have multiple original descriptions extracted from different sources.\n",
    "\n",
    "## Load and check dataframe\n",
    "\n",
    "Per entry in dataframes, it should have the following columns (see an example of one entry of the first edition):\n",
    "\n",
    "- MMSID:\n",
    "- editor:                                                  Smellie, William\n",
    "- editor_date:                                                   1740-1795\n",
    "- genre:                                                       encyclopedia\n",
    "- language:                                                             eng\n",
    "- termsOfAddress:                                                       NaN\n",
    "- physicalDescription:               3 v., 160 plates : ill. ; 26 cm. (4to)\n",
    "- place:                                                         Edinburgh\n",
    "- publisher:              Printed for A. Bell and C. Macfarquhar; and so...\n",
    "- referencedBy:           [Alston, R.C.  Engl. language III, 560, ESTC T...\n",
    "- shelfLocator:                                                        EB.1\n",
    "- editionSubTitle:        Illustrated with one hundred and sixty copperp...\n",
    "- volumeTitle:            Encyclopaedia Britannica; or, A dictionary of ...\n",
    "- year:                                                                1771\n",
    "- volumeId:                                                       144133901\n",
    "- permanentURL:                            https://digital.nls.uk/144133901\n",
    "- publisherPersons:                     [C. Macfarquhar, Colin Macfarquhar]\n",
    "- volumeNum:                                                              1\n",
    "- letters:                                                              A-B\n",
    "- part:                                                                   0\n",
    "- editionNum:                                                             1\n",
    "- supplementTitle:\n",
    "- supplementSubTitle:\n",
    "- supplementsTo:                                                         []\n",
    "- term:                                                                  OR\n",
    "- definition:             A NEW A D I C T I A A, the name of several riv...\n",
    "- relatedTerms:                                                          []\n",
    "- header:                                           EncyclopaediaBritannica\n",
    "- startsAt:                                                              15\n",
    "- endsAt:                                                                15\n",
    "- position:                                                           0\n",
    "- termType:                                                         Article\n",
    "- filePath:                                  144133901/alto/188082904.34.xml"
   ],
   "metadata": {
    "collapsed": false
   }
  },
  {
   "cell_type": "code",
   "execution_count": 141,
   "outputs": [
    {
     "data": {
      "text/plain": "23970"
     },
     "execution_count": 141,
     "metadata": {},
     "output_type": "execute_result"
    }
   ],
   "source": [
    "import re\n",
    "\n",
    "import pandas as pd\n",
    "\n",
    "# Nineteenth-Century Knowledge Project Dataframe\n",
    "df = pd.read_json('../source_dataframes/eb/nckp_final_eb_7_dataframe_clean_Damon', orient=\"index\")\n",
    "df =df.fillna(0)\n",
    "\n",
    "len(df)"
   ],
   "metadata": {
    "collapsed": false
   }
  },
  {
   "cell_type": "code",
   "execution_count": 142,
   "outputs": [
    {
     "name": "stdout",
     "output_type": "stream",
     "text": [
      "[9910796273804340]\n"
     ]
    }
   ],
   "source": [
    "edition_mmsids = df[\"MMSID\"].unique()\n",
    "print(edition_mmsids)"
   ],
   "metadata": {
    "collapsed": false
   }
  },
  {
   "cell_type": "code",
   "execution_count": 143,
   "outputs": [
    {
     "data": {
      "text/plain": "               term                                               note  \\\n0                 A                                                  0   \n1                 A                                                  0   \n2                AA                                                  0   \n3                AA                                                  0   \n4                AA                                                  0   \n...             ...                                                ...   \n23965  ZWENIGORODKA                                                  0   \n23966       ZWICKAU                                                  0   \n23967        ZWOLLE                                                  0   \n23968        ZYGHUR                                                  0   \n23969   ZYMOSIMETER  formed from ζύμωσις , fermentation, and μέτϑον...   \n\n      alter_names reference_terms  \\\n0              []              []   \n1              []              []   \n2              []              []   \n3              []              []   \n4              []              []   \n...           ...             ...   \n23965          []              []   \n23966          []              []   \n23967          []              []   \n23968          []              []   \n23969          []              []   \n\n                                              definition  startsAt  endsAt  \\\n0      The first letter of the alphabet in every know...        11      12   \n1      as an abbreviation, is likewise of frequent oc...        12      12   \n2      a river of the province of Groningen, in the k...        12      12   \n3      a river in the province of Overyssel. in the N...        12      12   \n4      a river of the province of Antwerp, in the Net...        12      12   \n...                                                  ...       ...     ...   \n23965  a circle of the Russian government of Kiew. It...      1037    1037   \n23966  a city of the kingdom of Saxony, the capital o...      1037    1037   \n23967  a city, the capital of the circle of the same ...      1037    1037   \n23968  a town of Hindustan, in the province of Bejapo...      1037    1037   \n23969  is the name given to an instrument described b...      1037    1037   \n\n       position termType                                        filePath  ...  \\\n0             1  Article   ./eb07_TXT_v2/a2/kp-eb0702-000101-9822-v2.txt  ...   \n1             2  Article   ./eb07_TXT_v2/a2/kp-eb0702-000101-9822-v2.txt  ...   \n2             3  Article   ./eb07_TXT_v2/a2/kp-eb0702-000201-9835-v2.txt  ...   \n3             4  Article   ./eb07_TXT_v2/a2/kp-eb0702-000201-9835-v2.txt  ...   \n4             5  Article   ./eb07_TXT_v2/a2/kp-eb0702-000201-9835-v2.txt  ...   \n...         ...      ...                                             ...  ...   \n23965         4  Article  ./eb07_TXT_v2/z21/kp-eb0721-102704-1077-v2.txt  ...   \n23966         5  Article  ./eb07_TXT_v2/z21/kp-eb0721-102705-1077-v2.txt  ...   \n23967         6  Article  ./eb07_TXT_v2/z21/kp-eb0721-102706-1077-v2.txt  ...   \n23968         7  Article  ./eb07_TXT_v2/z21/kp-eb0721-102707-1077-v2.txt  ...   \n23969         8  Article  ./eb07_TXT_v2/z21/kp-eb0721-102708-1077-v2.txt  ...   \n\n        volumeId                      permanentURL publisherPersons  \\\n0      192984259  https://digital.nls.uk/192984259               []   \n1      192984259  https://digital.nls.uk/192984259               []   \n2      192984259  https://digital.nls.uk/192984259               []   \n3      192984259  https://digital.nls.uk/192984259               []   \n4      192984259  https://digital.nls.uk/192984259               []   \n...          ...                               ...              ...   \n23965  193819045  https://digital.nls.uk/193819045               []   \n23966  193819045  https://digital.nls.uk/193819045               []   \n23967  193819045  https://digital.nls.uk/193819045               []   \n23968  193819045  https://digital.nls.uk/193819045               []   \n23969  193819045  https://digital.nls.uk/193819045               []   \n\n       volumeNum  editionNum numberOfVolumes numberOfTerms supplementTitle  \\\n0              2           7              22           0.0                   \n1              2           7              22           0.0                   \n2              2           7              22           0.0                   \n3              2           7              22           0.0                   \n4              2           7              22           0.0                   \n...          ...         ...             ...           ...             ...   \n23965         21           7              22           0.0                   \n23966         21           7              22           0.0                   \n23967         21           7              22           0.0                   \n23968         21           7              22           0.0                   \n23969         21           7              22           0.0                   \n\n      supplementSubTitle supplementsTo  \n0                                   []  \n1                                   []  \n2                                   []  \n3                                   []  \n4                                   []  \n...                  ...           ...  \n23965                               []  \n23966                               []  \n23967                               []  \n23968                               []  \n23969                               []  \n\n[23970 rows x 40 columns]",
      "text/html": "<div>\n<style scoped>\n    .dataframe tbody tr th:only-of-type {\n        vertical-align: middle;\n    }\n\n    .dataframe tbody tr th {\n        vertical-align: top;\n    }\n\n    .dataframe thead th {\n        text-align: right;\n    }\n</style>\n<table border=\"1\" class=\"dataframe\">\n  <thead>\n    <tr style=\"text-align: right;\">\n      <th></th>\n      <th>term</th>\n      <th>note</th>\n      <th>alter_names</th>\n      <th>reference_terms</th>\n      <th>definition</th>\n      <th>startsAt</th>\n      <th>endsAt</th>\n      <th>position</th>\n      <th>termType</th>\n      <th>filePath</th>\n      <th>...</th>\n      <th>volumeId</th>\n      <th>permanentURL</th>\n      <th>publisherPersons</th>\n      <th>volumeNum</th>\n      <th>editionNum</th>\n      <th>numberOfVolumes</th>\n      <th>numberOfTerms</th>\n      <th>supplementTitle</th>\n      <th>supplementSubTitle</th>\n      <th>supplementsTo</th>\n    </tr>\n  </thead>\n  <tbody>\n    <tr>\n      <th>0</th>\n      <td>A</td>\n      <td>0</td>\n      <td>[]</td>\n      <td>[]</td>\n      <td>The first letter of the alphabet in every know...</td>\n      <td>11</td>\n      <td>12</td>\n      <td>1</td>\n      <td>Article</td>\n      <td>./eb07_TXT_v2/a2/kp-eb0702-000101-9822-v2.txt</td>\n      <td>...</td>\n      <td>192984259</td>\n      <td>https://digital.nls.uk/192984259</td>\n      <td>[]</td>\n      <td>2</td>\n      <td>7</td>\n      <td>22</td>\n      <td>0.0</td>\n      <td></td>\n      <td></td>\n      <td>[]</td>\n    </tr>\n    <tr>\n      <th>1</th>\n      <td>A</td>\n      <td>0</td>\n      <td>[]</td>\n      <td>[]</td>\n      <td>as an abbreviation, is likewise of frequent oc...</td>\n      <td>12</td>\n      <td>12</td>\n      <td>2</td>\n      <td>Article</td>\n      <td>./eb07_TXT_v2/a2/kp-eb0702-000101-9822-v2.txt</td>\n      <td>...</td>\n      <td>192984259</td>\n      <td>https://digital.nls.uk/192984259</td>\n      <td>[]</td>\n      <td>2</td>\n      <td>7</td>\n      <td>22</td>\n      <td>0.0</td>\n      <td></td>\n      <td></td>\n      <td>[]</td>\n    </tr>\n    <tr>\n      <th>2</th>\n      <td>AA</td>\n      <td>0</td>\n      <td>[]</td>\n      <td>[]</td>\n      <td>a river of the province of Groningen, in the k...</td>\n      <td>12</td>\n      <td>12</td>\n      <td>3</td>\n      <td>Article</td>\n      <td>./eb07_TXT_v2/a2/kp-eb0702-000201-9835-v2.txt</td>\n      <td>...</td>\n      <td>192984259</td>\n      <td>https://digital.nls.uk/192984259</td>\n      <td>[]</td>\n      <td>2</td>\n      <td>7</td>\n      <td>22</td>\n      <td>0.0</td>\n      <td></td>\n      <td></td>\n      <td>[]</td>\n    </tr>\n    <tr>\n      <th>3</th>\n      <td>AA</td>\n      <td>0</td>\n      <td>[]</td>\n      <td>[]</td>\n      <td>a river in the province of Overyssel. in the N...</td>\n      <td>12</td>\n      <td>12</td>\n      <td>4</td>\n      <td>Article</td>\n      <td>./eb07_TXT_v2/a2/kp-eb0702-000201-9835-v2.txt</td>\n      <td>...</td>\n      <td>192984259</td>\n      <td>https://digital.nls.uk/192984259</td>\n      <td>[]</td>\n      <td>2</td>\n      <td>7</td>\n      <td>22</td>\n      <td>0.0</td>\n      <td></td>\n      <td></td>\n      <td>[]</td>\n    </tr>\n    <tr>\n      <th>4</th>\n      <td>AA</td>\n      <td>0</td>\n      <td>[]</td>\n      <td>[]</td>\n      <td>a river of the province of Antwerp, in the Net...</td>\n      <td>12</td>\n      <td>12</td>\n      <td>5</td>\n      <td>Article</td>\n      <td>./eb07_TXT_v2/a2/kp-eb0702-000201-9835-v2.txt</td>\n      <td>...</td>\n      <td>192984259</td>\n      <td>https://digital.nls.uk/192984259</td>\n      <td>[]</td>\n      <td>2</td>\n      <td>7</td>\n      <td>22</td>\n      <td>0.0</td>\n      <td></td>\n      <td></td>\n      <td>[]</td>\n    </tr>\n    <tr>\n      <th>...</th>\n      <td>...</td>\n      <td>...</td>\n      <td>...</td>\n      <td>...</td>\n      <td>...</td>\n      <td>...</td>\n      <td>...</td>\n      <td>...</td>\n      <td>...</td>\n      <td>...</td>\n      <td>...</td>\n      <td>...</td>\n      <td>...</td>\n      <td>...</td>\n      <td>...</td>\n      <td>...</td>\n      <td>...</td>\n      <td>...</td>\n      <td>...</td>\n      <td>...</td>\n      <td>...</td>\n    </tr>\n    <tr>\n      <th>23965</th>\n      <td>ZWENIGORODKA</td>\n      <td>0</td>\n      <td>[]</td>\n      <td>[]</td>\n      <td>a circle of the Russian government of Kiew. It...</td>\n      <td>1037</td>\n      <td>1037</td>\n      <td>4</td>\n      <td>Article</td>\n      <td>./eb07_TXT_v2/z21/kp-eb0721-102704-1077-v2.txt</td>\n      <td>...</td>\n      <td>193819045</td>\n      <td>https://digital.nls.uk/193819045</td>\n      <td>[]</td>\n      <td>21</td>\n      <td>7</td>\n      <td>22</td>\n      <td>0.0</td>\n      <td></td>\n      <td></td>\n      <td>[]</td>\n    </tr>\n    <tr>\n      <th>23966</th>\n      <td>ZWICKAU</td>\n      <td>0</td>\n      <td>[]</td>\n      <td>[]</td>\n      <td>a city of the kingdom of Saxony, the capital o...</td>\n      <td>1037</td>\n      <td>1037</td>\n      <td>5</td>\n      <td>Article</td>\n      <td>./eb07_TXT_v2/z21/kp-eb0721-102705-1077-v2.txt</td>\n      <td>...</td>\n      <td>193819045</td>\n      <td>https://digital.nls.uk/193819045</td>\n      <td>[]</td>\n      <td>21</td>\n      <td>7</td>\n      <td>22</td>\n      <td>0.0</td>\n      <td></td>\n      <td></td>\n      <td>[]</td>\n    </tr>\n    <tr>\n      <th>23967</th>\n      <td>ZWOLLE</td>\n      <td>0</td>\n      <td>[]</td>\n      <td>[]</td>\n      <td>a city, the capital of the circle of the same ...</td>\n      <td>1037</td>\n      <td>1037</td>\n      <td>6</td>\n      <td>Article</td>\n      <td>./eb07_TXT_v2/z21/kp-eb0721-102706-1077-v2.txt</td>\n      <td>...</td>\n      <td>193819045</td>\n      <td>https://digital.nls.uk/193819045</td>\n      <td>[]</td>\n      <td>21</td>\n      <td>7</td>\n      <td>22</td>\n      <td>0.0</td>\n      <td></td>\n      <td></td>\n      <td>[]</td>\n    </tr>\n    <tr>\n      <th>23968</th>\n      <td>ZYGHUR</td>\n      <td>0</td>\n      <td>[]</td>\n      <td>[]</td>\n      <td>a town of Hindustan, in the province of Bejapo...</td>\n      <td>1037</td>\n      <td>1037</td>\n      <td>7</td>\n      <td>Article</td>\n      <td>./eb07_TXT_v2/z21/kp-eb0721-102707-1077-v2.txt</td>\n      <td>...</td>\n      <td>193819045</td>\n      <td>https://digital.nls.uk/193819045</td>\n      <td>[]</td>\n      <td>21</td>\n      <td>7</td>\n      <td>22</td>\n      <td>0.0</td>\n      <td></td>\n      <td></td>\n      <td>[]</td>\n    </tr>\n    <tr>\n      <th>23969</th>\n      <td>ZYMOSIMETER</td>\n      <td>formed from ζύμωσις , fermentation, and μέτϑον...</td>\n      <td>[]</td>\n      <td>[]</td>\n      <td>is the name given to an instrument described b...</td>\n      <td>1037</td>\n      <td>1037</td>\n      <td>8</td>\n      <td>Article</td>\n      <td>./eb07_TXT_v2/z21/kp-eb0721-102708-1077-v2.txt</td>\n      <td>...</td>\n      <td>193819045</td>\n      <td>https://digital.nls.uk/193819045</td>\n      <td>[]</td>\n      <td>21</td>\n      <td>7</td>\n      <td>22</td>\n      <td>0.0</td>\n      <td></td>\n      <td></td>\n      <td>[]</td>\n    </tr>\n  </tbody>\n</table>\n<p>23970 rows × 40 columns</p>\n</div>"
     },
     "execution_count": 143,
     "metadata": {},
     "output_type": "execute_result"
    }
   ],
   "source": [
    "df_edition = df[df[\"MMSID\"] == edition_mmsids[0]].reset_index(drop=True)\n",
    "df_edition"
   ],
   "metadata": {
    "collapsed": false
   }
  },
  {
   "cell_type": "markdown",
   "source": [
    "## Load the graph, add extract triples"
   ],
   "metadata": {
    "collapsed": false
   }
  },
  {
   "cell_type": "code",
   "execution_count": 2,
   "outputs": [],
   "source": [
    "from rdflib import Graph, URIRef, Namespace\n",
    "\n",
    "graph = Graph()\n",
    "\n",
    "# Load the ttl file into the graph\n",
    "ontology_file = \"../../results/hto_eb_total_lq.ttl\"\n",
    "graph.parse(ontology_file, format=\"turtle\")\n",
    "hto = Namespace(\"https://w3id.org/hto#\")"
   ],
   "metadata": {
    "collapsed": false
   }
  },
  {
   "cell_type": "code",
   "execution_count": 3,
   "outputs": [
    {
     "name": "stdout",
     "output_type": "stream",
     "text": [
      "Graph g has 2208100 statements.\n"
     ]
    }
   ],
   "source": [
    "# Print the number of \"triples\" in the Graph\n",
    "print(f\"Graph g has {len(graph)} statements.\")"
   ],
   "metadata": {
    "collapsed": false
   }
  },
  {
   "cell_type": "code",
   "execution_count": 7,
   "outputs": [
    {
     "data": {
      "text/plain": "151065"
     },
     "execution_count": 7,
     "metadata": {},
     "output_type": "execute_result"
    }
   ],
   "source": [
    "import pandas as pd\n",
    "single_source_dataframe_with_uris = pd.read_json(\"../dataframe_with_uris/eb_total_lq_dataframe_uris\", orient=\"index\")\n",
    "len(single_source_dataframe_with_uris)"
   ],
   "metadata": {
    "collapsed": false
   }
  },
  {
   "cell_type": "code",
   "execution_count": 8,
   "outputs": [],
   "source": [
    "from rdflib import URIRef\n",
    "test_term_ref = URIRef(\"https://w3id.org/hto/ArticleTermRecord/992277653804341_144133901_OR_0\")"
   ],
   "metadata": {
    "collapsed": false
   }
  },
  {
   "cell_type": "code",
   "execution_count": 9,
   "outputs": [
    {
     "data": {
      "text/plain": "             MMSID                        editionTitle            editor  \\\n0  992277653804341  First edition, 1771, Volume 1, A-B  Smellie, William   \n\n  editor_date         genre language termsOfAddress  numberOfPages  \\\n0   1740-1795  encyclopedia      eng            0.0            832   \n\n                      physicalDescription      place  ... header startsAt  \\\n0  3 v., 160 plates : ill. ; 26 cm. (4to)  Edinburgh  ...   EBAA       15   \n\n  endsAt numberOfTerms numberOfWords  position  termType  \\\n0     15            22            54         0   Article   \n\n                          filePath id  \\\n0  144133901/alto/188082904.34.xml  0   \n\n                                                 uri  \n0  https://w3id.org/hto/ArticleTermRecord/9922776...  \n\n[1 rows x 41 columns]",
      "text/html": "<div>\n<style scoped>\n    .dataframe tbody tr th:only-of-type {\n        vertical-align: middle;\n    }\n\n    .dataframe tbody tr th {\n        vertical-align: top;\n    }\n\n    .dataframe thead th {\n        text-align: right;\n    }\n</style>\n<table border=\"1\" class=\"dataframe\">\n  <thead>\n    <tr style=\"text-align: right;\">\n      <th></th>\n      <th>MMSID</th>\n      <th>editionTitle</th>\n      <th>editor</th>\n      <th>editor_date</th>\n      <th>genre</th>\n      <th>language</th>\n      <th>termsOfAddress</th>\n      <th>numberOfPages</th>\n      <th>physicalDescription</th>\n      <th>place</th>\n      <th>...</th>\n      <th>header</th>\n      <th>startsAt</th>\n      <th>endsAt</th>\n      <th>numberOfTerms</th>\n      <th>numberOfWords</th>\n      <th>position</th>\n      <th>termType</th>\n      <th>filePath</th>\n      <th>id</th>\n      <th>uri</th>\n    </tr>\n  </thead>\n  <tbody>\n    <tr>\n      <th>0</th>\n      <td>992277653804341</td>\n      <td>First edition, 1771, Volume 1, A-B</td>\n      <td>Smellie, William</td>\n      <td>1740-1795</td>\n      <td>encyclopedia</td>\n      <td>eng</td>\n      <td>0.0</td>\n      <td>832</td>\n      <td>3 v., 160 plates : ill. ; 26 cm. (4to)</td>\n      <td>Edinburgh</td>\n      <td>...</td>\n      <td>EBAA</td>\n      <td>15</td>\n      <td>15</td>\n      <td>22</td>\n      <td>54</td>\n      <td>0</td>\n      <td>Article</td>\n      <td>144133901/alto/188082904.34.xml</td>\n      <td>0</td>\n      <td>https://w3id.org/hto/ArticleTermRecord/9922776...</td>\n    </tr>\n  </tbody>\n</table>\n<p>1 rows × 41 columns</p>\n</div>"
     },
     "execution_count": 9,
     "metadata": {},
     "output_type": "execute_result"
    }
   ],
   "source": [
    "single_source_dataframe_with_uris[single_source_dataframe_with_uris[\"uri\"] == str(test_term_ref)]"
   ],
   "metadata": {
    "collapsed": false
   }
  },
  {
   "cell_type": "code",
   "execution_count": 10,
   "outputs": [],
   "source": [
    "import regex\n",
    "\n",
    "NON_AZ09_REGEXP = regex.compile('[^\\p{L}\\p{N}]')\n",
    "def name_to_uri_name(name):\n",
    "    uri_name=NON_AZ09_REGEXP.sub('', name)\n",
    "    return uri_name"
   ],
   "metadata": {
    "collapsed": false
   }
  },
  {
   "cell_type": "code",
   "execution_count": 11,
   "outputs": [],
   "source": [
    "from datetime import datetime\n",
    "from rdflib import Literal, XSD, RDF\n",
    "from rdflib.namespace import FOAF, PROV, SDO\n",
    "# create organization NCKP\n",
    "agents = {\n",
    "    \"NCKP\": [\"Nineteen Century Knowledge Project\", hto.Organization],\n",
    "    \"Ash\": [\"Ash Charlton\", hto.Person],\n",
    "    \"NLS\": [\"National Library of Scotland\", hto.Organization]\n",
    "}\n",
    "\n",
    "def create_organization(graph, agent):\n",
    "    agent_uri = URIRef(\"https://w3id.org/hto/Organization/\" + agent)\n",
    "    graph.add((agent_uri, RDF.type, agents[agent][1]))\n",
    "    graph.add((agent_uri, FOAF.name, Literal(agents[agent][0], datatype=XSD.string)))\n",
    "    return agent_uri"
   ],
   "metadata": {
    "collapsed": false
   }
  },
  {
   "cell_type": "code",
   "execution_count": 12,
   "outputs": [],
   "source": [
    "def create_eb_text_dataset(graph, agent_uri, agent):\n",
    "    eb_text_dataset = URIRef(\"https://w3id.org/hto/Collection/\" + agent + \"_eb_dataset\")\n",
    "    graph.add((eb_text_dataset, RDF.type, PROV.Collection))\n",
    "    graph.add((eb_text_dataset, PROV.wasAttributedTo, agent_uri))\n",
    "\n",
    "    # Create digitalising activity\n",
    "    digitalising_activity = URIRef(\"https://w3id.org/hto/Activity/\" + agent + \"_digitalising_activity\")\n",
    "    graph.add((digitalising_activity, RDF.type, hto.Activity))\n",
    "    graph.add((digitalising_activity, PROV.generated, eb_text_dataset))\n",
    "    graph.add((digitalising_activity, PROV.wasAssociatedWith, agent_uri))\n",
    "    graph.add((eb_text_dataset, PROV.wasGeneratedBy, digitalising_activity))\n",
    "    return eb_text_dataset"
   ],
   "metadata": {
    "collapsed": false
   }
  },
  {
   "cell_type": "code",
   "execution_count": 13,
   "outputs": [],
   "source": [
    "def get_term_class_name(term_type, hto):\n",
    "    term_class_name = hto.ArticleTermRecord\n",
    "    if term_type == \"TopicTermRecord\":\n",
    "        term_class_name = hto.TopicTermRecord\n",
    "    return term_class_name"
   ],
   "metadata": {
    "collapsed": false
   }
  },
  {
   "cell_type": "code",
   "execution_count": 14,
   "outputs": [],
   "source": [
    "from difflib import SequenceMatcher\n",
    "\n",
    "def is_descriptions_for_same_term(description_1, description_2):\n",
    "    MAX_COMPARE_LENGTH = 200\n",
    "    if len(description_1) > MAX_COMPARE_LENGTH:\n",
    "        description_1 = description_1[:MAX_COMPARE_LENGTH]\n",
    "    if len(description_2) > MAX_COMPARE_LENGTH:\n",
    "        description_2 = description_2[:MAX_COMPARE_LENGTH]\n",
    "\n",
    "    similarity_ratio = SequenceMatcher(None, description_1, description_2).quick_ratio()\n",
    "\n",
    "    threshold = 0.7\n",
    "\n",
    "    if similarity_ratio >= threshold:\n",
    "        return True\n",
    "    else:\n",
    "        len_1 = len(description_1)\n",
    "        len_2 = len(description_2)\n",
    "        recheck = False\n",
    "        if len_1 > len_2:\n",
    "            recheck = True\n",
    "            description_1 = description_1[:len_2]\n",
    "        elif len_2 > len_1:\n",
    "            recheck = True\n",
    "            description_2 = description_2[:len_1]\n",
    "        if recheck:\n",
    "            similarity_ratio = SequenceMatcher(None, description_1, description_2).quick_ratio()\n",
    "            threshold = 0.85\n",
    "            if similarity_ratio > threshold:\n",
    "                return True\n",
    "        return False\n",
    "\n",
    "\n",
    "def find_existing_term(same_vol_term_name_in_graph, description):\n",
    "    for index in range(0, len(same_vol_term_name_in_graph)):\n",
    "        term_info_in_graph = same_vol_term_name_in_graph.loc[index]\n",
    "        if not term_info_in_graph[\"match\"]:\n",
    "            description_in_graph = term_info_in_graph[\"definition\"]\n",
    "            if is_descriptions_for_same_term(description_in_graph, description):\n",
    "                description_pair = {\n",
    "                    \"new\": description,\n",
    "                    \"graph\": description_in_graph,\n",
    "                    \"uri\": term_info_in_graph[\"uri\"]\n",
    "                }\n",
    "                description_pairs.append(description_pair)\n",
    "                same_vol_term_name_in_graph.loc[index, \"match\"] = True\n",
    "                return term_info_in_graph[\"uri\"]\n",
    "    return None"
   ],
   "metadata": {
    "collapsed": false
   }
  },
  {
   "cell_type": "code",
   "execution_count": 15,
   "outputs": [
    {
     "data": {
      "text/plain": "<Graph identifier=Nbb1cd110c7a248d4ae0500eda81633e8 (<class 'rdflib.graph.Graph'>)>"
     },
     "execution_count": 15,
     "metadata": {},
     "output_type": "execute_result"
    }
   ],
   "source": [
    "# create software uris\n",
    "defoe = URIRef(\"https://github.com/defoe-code/defoe\")\n",
    "graph.add((defoe, RDF.type, hto.SoftwareAgent))\n",
    "frances_information_extraction = URIRef(\"https://github.com/frances-ai/frances-InformationExtraction\")\n",
    "graph.add((frances_information_extraction, RDF.type, hto.SoftwareAgent))\n",
    "ABBYYFineReader = URIRef(\"https://pdf.abbyy.com\")\n",
    "graph.add((ABBYYFineReader, RDF.type, hto.SoftwareAgent))"
   ],
   "metadata": {
    "collapsed": false
   }
  },
  {
   "cell_type": "code",
   "execution_count": 16,
   "outputs": [],
   "source": [
    "def link_entity_with_software(graph, entity, entity_type, agent):\n",
    "    software = None\n",
    "    if entity_type == \"description\":\n",
    "        if agent == \"NLS\":\n",
    "            software = defoe\n",
    "        else:\n",
    "            software = frances_information_extraction\n",
    "    else:\n",
    "        if agent == \"NCKP\":\n",
    "            software = ABBYYFineReader\n",
    "\n",
    "    if software:\n",
    "        graph.add((entity, PROV.wasAttributedTo, software))"
   ],
   "metadata": {
    "collapsed": false
   }
  },
  {
   "cell_type": "code",
   "execution_count": 17,
   "outputs": [],
   "source": [
    "def get_source_ref(filePath, agent):\n",
    "    if agent == \"NCKP\":\n",
    "        parts = filePath.split(\"/\")\n",
    "        if len(parts) < 3:\n",
    "            raise Exception(\"Wrong input format\")\n",
    "        edition_parts = parts[-3].split(\"_\", 1)\n",
    "        file_uri = \"https://raw.githubusercontent.com/TU-plogan/kp-editions/main/\" + edition_parts[0] + \"/\" +  edition_parts[1] + \"/\" +  parts[-2] + \"/\" + parts[-1]\n",
    "        source_ref = URIRef(file_uri)\n",
    "    else:\n",
    "        source_uri_name = filePath.replace(\"/\", \"_\").replace(\".\", \"_\")\n",
    "        source_ref = URIRef(\"https://w3id.org/hto/InformationResource/\" + source_uri_name)\n",
    "    return source_ref"
   ],
   "metadata": {
    "collapsed": false
   }
  },
  {
   "cell_type": "code",
   "execution_count": 22,
   "outputs": [],
   "source": [
    "# Add triples to graph\n",
    "# description_pairs stores two descriptions (new: the one will be added, graph: the one already in graph) of terms which has same uri with the existing one in the graph\n",
    "description_pairs = []\n",
    "def dataframe_to_rdf(dataframe, graph, agent_uri, agent, eb_dataset):\n",
    "    edition_mmsids = dataframe[\"MMSID\"].unique()\n",
    "    dataframe_with_uri_list = []\n",
    "    for mmsid in edition_mmsids:\n",
    "        df_edition = dataframe[dataframe[\"MMSID\"] == mmsid]\n",
    "        # VOLUMES\n",
    "        vol_numbers = df_edition[\"volumeNum\"].unique()\n",
    "        for vol_number in vol_numbers:\n",
    "            df_vol = df_edition[df_edition[\"volumeNum\"] == vol_number].reset_index(drop=True)\n",
    "            volume_info = df_vol.loc[0]\n",
    "            volume_id = volume_info[\"volumeId\"]\n",
    "            volume_ref = URIRef(\"https://w3id.org/hto/Volume/\" + str(volume_info[\"MMSID\"]) + \"_\" + str(volume_id))\n",
    "\n",
    "            df_vol_by_term = df_vol.groupby(['term'], )[\"term\"].count().reset_index(name='counts')\n",
    "            # print(df_vol_by_term)\n",
    "            #### TERMS\n",
    "\n",
    "            for t_index in range(0, len(df_vol_by_term)):\n",
    "                term = df_vol_by_term.loc[t_index][\"term\"]\n",
    "                term_counts = df_vol_by_term.loc[t_index][\"counts\"]\n",
    "                term_uri_name = name_to_uri_name(term)\n",
    "\n",
    "                same_vol_term_name_in_graph = single_source_dataframe_with_uris[\n",
    "                    (single_source_dataframe_with_uris[\"volumeId\"] == volume_id) & (\n",
    "                                single_source_dataframe_with_uris[\"term\"] == term)].reset_index(drop=True)\n",
    "                same_vol_term_name_in_graph[\"match\"] = False\n",
    "                # print(term_uri_name)\n",
    "                # All terms in one volume with name equals to value of term\n",
    "                df_entries = df_vol[df_vol[\"term\"] == term].reset_index(drop=True)\n",
    "                new_term_count = 0\n",
    "                len_same_vol_term_name_in_graph = len(same_vol_term_name_in_graph)\n",
    "                for t_count in range(0, term_counts):\n",
    "                    df_entry = df_entries.loc[t_count]\n",
    "                    description = str(df_entry[\"definition\"])\n",
    "                    existing_term = find_existing_term(same_vol_term_name_in_graph, description)\n",
    "                    term_type = str(df_entry[\"termType\"]) + \"TermRecord\"\n",
    "                    term_class_name = get_term_class_name(term_type, hto)\n",
    "                    if existing_term:\n",
    "                        term_ref = URIRef(existing_term)\n",
    "                        # new description, new source\n",
    "                    else:\n",
    "                        # add new term record\n",
    "                        term_id = str(mmsid) + \"_\" + str(df_entry[\"volumeId\"]) + \"_\" + term_uri_name + \"_\" + str(\n",
    "                            new_term_count + len_same_vol_term_name_in_graph)\n",
    "                        term_ref = URIRef(\"https://w3id.org/hto/\" + term_type + \"/\" + term_id)\n",
    "                        graph.add((term_ref, RDF.type, term_class_name))\n",
    "                        graph.add((term_ref, hto.name, Literal(term, datatype=XSD.string)))\n",
    "                        graph.add((term_ref, hto.position, Literal(df_entry[\"position\"], datatype=XSD.int)))\n",
    "\n",
    "                        # Add the term_ref to dataframe\n",
    "                        dataframe_new_term = df_entry.copy()\n",
    "                        dataframe_new_term[\"uri\"] = term_ref\n",
    "                        dataframe_with_uri_list.append(dataframe_new_term)\n",
    "\n",
    "                        ## startsAt\n",
    "                        page_startsAt = URIRef(\"https://w3id.org/hto/Page/\" + str(df_entry[\"MMSID\"]) + \"_\" + str(\n",
    "                            df_entry[\"volumeId\"]) + \"_\" + str(df_entry[\"startsAt\"]))\n",
    "                        graph.add((page_startsAt, RDF.type, hto.Page))\n",
    "                        graph.add((page_startsAt, hto.number, Literal(df_entry[\"startsAt\"], datatype=XSD.int)))\n",
    "                        graph.add((volume_ref, hto.hadMember, page_startsAt))\n",
    "                        graph.add((term_ref, hto.startsAtPage, page_startsAt))\n",
    "                        graph.add((page_startsAt, RDF.type, hto.WorkCollection))\n",
    "                        graph.add((page_startsAt, hto.hadMember, term_ref))\n",
    "\n",
    "                        ## endsAt\n",
    "                        page_endsAt = URIRef(\"https://w3id.org/hto/Page/\" + str(df_entry[\"MMSID\"]) + \"_\" + str(\n",
    "                            df_entry[\"volumeId\"]) + \"_\" + str(df_entry[\"endsAt\"]))\n",
    "                        graph.add((page_endsAt, RDF.type, hto.Page))\n",
    "                        graph.add((page_endsAt, hto.number, Literal(df_entry[\"endsAt\"], datatype=XSD.int)))\n",
    "                        graph.add((volume_ref, hto.hadMember, page_endsAt))\n",
    "                        graph.add((term_ref, hto.endsAtPage, page_endsAt))\n",
    "                        graph.add((page_endsAt, RDF.type, hto.WorkCollection))\n",
    "                        graph.add((page_endsAt, hto.hadMember, term_ref))\n",
    "\n",
    "                        new_term_count += 1\n",
    "                        # new term, add new page, new description, new source\n",
    "\n",
    "                    if \"note\" in df_entry:\n",
    "                        note = df_entry[\"note\"]\n",
    "                        if note != 0:\n",
    "                            graph.add((term_ref, hto.note, Literal(note, datatype=XSD.string)))\n",
    "\n",
    "                    if \"alter_names\" in df_entry:\n",
    "                        alter_names = df_entry[\"alter_names\"]\n",
    "                        for alter_name in alter_names:\n",
    "                            graph.add((term_ref, hto.name, Literal(alter_name, datatype=XSD.string)))\n",
    "\n",
    "                    # Create original description instance\n",
    "                    if description != \"\":\n",
    "                        term_original_description = URIRef(\n",
    "                            \"https://w3id.org/hto/OriginalDescription/\" + term_id + agent)\n",
    "                        graph.add((term_original_description, RDF.type, hto.OriginalDescription))\n",
    "                        text_quality = hto.Low\n",
    "                        if agent == \"Ash\":\n",
    "                            text_quality = hto.Moderate\n",
    "                        elif agent == \"NCKP\":\n",
    "                            text_quality = hto.High\n",
    "                        graph.add((term_original_description, hto.hasTextQuality, text_quality))\n",
    "                        # graph.add((term_original_description, hto.numberOfWords, Literal(df_entry[\"numberOfWords\"], datatype=XSD.int)))\n",
    "                        graph.add((term_original_description, hto.text, Literal(description, datatype=XSD.string)))\n",
    "                        graph.add((term_ref, hto.hasOriginalDescription, term_original_description))\n",
    "                        link_entity_with_software(graph, term_original_description, \"description\", agent)\n",
    "\n",
    "                        # Create source entity where original description was extracted\n",
    "                        # source location\n",
    "                        # source_path_name = df_entry[\"altoXML\"]\n",
    "                        # source_path_ref = URIRef(\"https://w3id.org/eb/Location/\" + source_path_name)\n",
    "                        # graph.add((source_path_ref, RDF.type, PROV.Location))\n",
    "                        # source\n",
    "                        file_path = str(df_entry[\"filePath\"])\n",
    "                        source_ref = get_source_ref(file_path, agent)\n",
    "                        graph.add((source_ref, RDF.type, hto.InformationResource))\n",
    "                        graph.add((source_ref, PROV.value, Literal(file_path, datatype=XSD.string)))\n",
    "                        graph.add((eb_dataset, hto.hadMember, source_ref))\n",
    "                        graph.add((source_ref, PROV.wasAttributedTo, agent_uri))\n",
    "                        link_entity_with_software(graph, source_ref, \"source\", agent)\n",
    "\n",
    "                        # graph.add((source_ref, PROV.atLocation, source_path_ref))\n",
    "                        # related agent and activity\n",
    "\n",
    "                        \"\"\"\n",
    "                        source_digitalising_activity = URIRef(\"https://w3id.org/eb/Activity/nls_digitalising_activity\" + source_name)\n",
    "                        graph.add((source_digitalising_activity, RDF.type, PROV.Activity))\n",
    "                        graph.add((source_digitalising_activity, PROV.generated, source_ref))\n",
    "                        graph.add((source_digitalising_activity, PROV.wasAssociatedWith, nls))\n",
    "                        graph.add((source_ref, PROV.wasGeneratedBy, source_digitalising_activity))\n",
    "                        \"\"\"\n",
    "                        graph.add((term_original_description, hto.wasExtractedFrom, source_ref))\n",
    "\n",
    "    dataframe_with_uris = pd.concat(dataframe_with_uri_list, axis=1).T.reset_index(drop=True)\n",
    "    return graph, dataframe_with_uris"
   ],
   "metadata": {
    "collapsed": false
   }
  },
  {
   "cell_type": "code",
   "execution_count": 23,
   "outputs": [
    {
     "name": "stdout",
     "output_type": "stream",
     "text": [
      "1\n"
     ]
    }
   ],
   "source": [
    "print(1)\n",
    "# Ash Edition 1\n",
    "agent = \"Ash\"\n",
    "agent_uri = create_organization(graph, agent)\n",
    "eb_text_dataset = create_eb_text_dataset(graph, agent_uri, agent)\n",
    "df_1= pd.read_json('../../source_dataframes/eb/ash_final_eb_1_dataframe_clean_Damon', orient=\"index\")\n",
    "graph, dataframe_with_uris = dataframe_to_rdf(df_1, graph,  agent_uri, agent, eb_text_dataset)\n"
   ],
   "metadata": {
    "collapsed": false
   }
  },
  {
   "cell_type": "code",
   "execution_count": 24,
   "outputs": [
    {
     "data": {
      "text/plain": "              term note alter_names reference_terms  \\\n0                A  NaN          []              []   \n1          A AND C  NaN          []       [CHANCES]   \n2     A CRICULTURE  NaN          []              []   \n3     A POSTERIORI  NaN          []              []   \n4       A STRONOMY  NaN          []              []   \n...            ...  ...         ...             ...   \n9760          ZINK  NaN          []              []   \n9761          ZLYI  NaN          []              []   \n9762        ZV F Y  NaN          []              []   \n9763   ZYGOMATICUS  NaN          []       [ANATOMT]   \n9764        ZYGÆNA  NaN          []        [SQALUS]   \n\n                                             definition startsAt endsAt  \\\n0     the name of several rivers in different parts ...        1      1   \n1     161 XIOOINIG6LIO. S and C, 1Æ12XI0OIZI4134 beb...      410    411   \n2      Airinus of erliere more, or toe brits fet pla...       73     75   \n3                    or demonstration a posteriori. See      444    444   \n4      hours 48 minutes 523 seconds, as seen at that...      556    561   \n...                                                 ...      ...    ...   \n9760                    See CHEMISTRY. 1. 90, 106, 143.      969    969   \n9761  O U Fw gol 4Ci Fis. wsl S,  Ah A b VLCIS-EMM L...      748    749   \n9762   Wf bys ONO C &ew, AN A ZW. W O 4 7 QV I W Aw ...      741    741   \n9763                     in anatomy. See ANATOMT.p 306.      969    969   \n9764  i ichthyology. See SQALUS. ZYGOMA in mnarumy. ...      969    969   \n\n     position termType                     filePath  ...  \\\n0           1  Article  ./data/EB_1_1_clean_cut.txt  ...   \n1           1  Article  ./data/EB_1_1_clean_cut.txt  ...   \n2           8  Article  ./data/EB_1_1_clean_cut.txt  ...   \n3           1  Article  ./data/EB_1_1_clean_cut.txt  ...   \n4           1  Article  ./data/EB_1_1_clean_cut.txt  ...   \n...       ...      ...                          ...  ...   \n9760        9  Article  ./data/EB_1_3_clean_cut.txt  ...   \n9761        1  Article  ./data/EB_1_3_clean_cut.txt  ...   \n9762       10  Article  ./data/EB_1_3_clean_cut.txt  ...   \n9763       22  Article  ./data/EB_1_3_clean_cut.txt  ...   \n9764       21  Article  ./data/EB_1_3_clean_cut.txt  ...   \n\n                          permanentURL                     publisherPersons  \\\n0     https://digital.nls.uk/144133901  [C. Macfarquhar, Colin Macfarquhar]   \n1     https://digital.nls.uk/144133901  [C. Macfarquhar, Colin Macfarquhar]   \n2     https://digital.nls.uk/144133901  [C. Macfarquhar, Colin Macfarquhar]   \n3     https://digital.nls.uk/144133901  [C. Macfarquhar, Colin Macfarquhar]   \n4     https://digital.nls.uk/144133901  [C. Macfarquhar, Colin Macfarquhar]   \n...                                ...                                  ...   \n9760  https://digital.nls.uk/144133903  [C. Macfarquhar, Colin Macfarquhar]   \n9761  https://digital.nls.uk/144133903  [C. Macfarquhar, Colin Macfarquhar]   \n9762  https://digital.nls.uk/144133903  [C. Macfarquhar, Colin Macfarquhar]   \n9763  https://digital.nls.uk/144133903  [C. Macfarquhar, Colin Macfarquhar]   \n9764  https://digital.nls.uk/144133903  [C. Macfarquhar, Colin Macfarquhar]   \n\n     volumeNum editionNum numberOfVolumes supplementTitle supplementSubTitle  \\\n0            1          1               6                                      \n1            1          1               6                                      \n2            1          1               6                                      \n3            1          1               6                                      \n4            1          1               6                                      \n...        ...        ...             ...             ...                ...   \n9760         3          1               6                                      \n9761         3          1               6                                      \n9762         3          1               6                                      \n9763         3          1               6                                      \n9764         3          1               6                                      \n\n     supplementsTo numberOfTerms  \\\n0               []           NaN   \n1               []           NaN   \n2               []           NaN   \n3               []           NaN   \n4               []           NaN   \n...            ...           ...   \n9760            []           NaN   \n9761            []           NaN   \n9762            []           NaN   \n9763            []           NaN   \n9764            []           NaN   \n\n                                                    uri  \n0     https://w3id.org/hto/ArticleTermRecord/9922776...  \n1     https://w3id.org/hto/ArticleTermRecord/9922776...  \n2     https://w3id.org/hto/ArticleTermRecord/9922776...  \n3     https://w3id.org/hto/ArticleTermRecord/9922776...  \n4     https://w3id.org/hto/ArticleTermRecord/9922776...  \n...                                                 ...  \n9760  https://w3id.org/hto/ArticleTermRecord/9922776...  \n9761  https://w3id.org/hto/ArticleTermRecord/9922776...  \n9762  https://w3id.org/hto/ArticleTermRecord/9922776...  \n9763  https://w3id.org/hto/ArticleTermRecord/9922776...  \n9764  https://w3id.org/hto/ArticleTermRecord/9922776...  \n\n[9765 rows x 41 columns]",
      "text/html": "<div>\n<style scoped>\n    .dataframe tbody tr th:only-of-type {\n        vertical-align: middle;\n    }\n\n    .dataframe tbody tr th {\n        vertical-align: top;\n    }\n\n    .dataframe thead th {\n        text-align: right;\n    }\n</style>\n<table border=\"1\" class=\"dataframe\">\n  <thead>\n    <tr style=\"text-align: right;\">\n      <th></th>\n      <th>term</th>\n      <th>note</th>\n      <th>alter_names</th>\n      <th>reference_terms</th>\n      <th>definition</th>\n      <th>startsAt</th>\n      <th>endsAt</th>\n      <th>position</th>\n      <th>termType</th>\n      <th>filePath</th>\n      <th>...</th>\n      <th>permanentURL</th>\n      <th>publisherPersons</th>\n      <th>volumeNum</th>\n      <th>editionNum</th>\n      <th>numberOfVolumes</th>\n      <th>supplementTitle</th>\n      <th>supplementSubTitle</th>\n      <th>supplementsTo</th>\n      <th>numberOfTerms</th>\n      <th>uri</th>\n    </tr>\n  </thead>\n  <tbody>\n    <tr>\n      <th>0</th>\n      <td>A</td>\n      <td>NaN</td>\n      <td>[]</td>\n      <td>[]</td>\n      <td>the name of several rivers in different parts ...</td>\n      <td>1</td>\n      <td>1</td>\n      <td>1</td>\n      <td>Article</td>\n      <td>./data/EB_1_1_clean_cut.txt</td>\n      <td>...</td>\n      <td>https://digital.nls.uk/144133901</td>\n      <td>[C. Macfarquhar, Colin Macfarquhar]</td>\n      <td>1</td>\n      <td>1</td>\n      <td>6</td>\n      <td></td>\n      <td></td>\n      <td>[]</td>\n      <td>NaN</td>\n      <td>https://w3id.org/hto/ArticleTermRecord/9922776...</td>\n    </tr>\n    <tr>\n      <th>1</th>\n      <td>A AND C</td>\n      <td>NaN</td>\n      <td>[]</td>\n      <td>[CHANCES]</td>\n      <td>161 XIOOINIG6LIO. S and C, 1Æ12XI0OIZI4134 beb...</td>\n      <td>410</td>\n      <td>411</td>\n      <td>1</td>\n      <td>Article</td>\n      <td>./data/EB_1_1_clean_cut.txt</td>\n      <td>...</td>\n      <td>https://digital.nls.uk/144133901</td>\n      <td>[C. Macfarquhar, Colin Macfarquhar]</td>\n      <td>1</td>\n      <td>1</td>\n      <td>6</td>\n      <td></td>\n      <td></td>\n      <td>[]</td>\n      <td>NaN</td>\n      <td>https://w3id.org/hto/ArticleTermRecord/9922776...</td>\n    </tr>\n    <tr>\n      <th>2</th>\n      <td>A CRICULTURE</td>\n      <td>NaN</td>\n      <td>[]</td>\n      <td>[]</td>\n      <td>Airinus of erliere more, or toe brits fet pla...</td>\n      <td>73</td>\n      <td>75</td>\n      <td>8</td>\n      <td>Article</td>\n      <td>./data/EB_1_1_clean_cut.txt</td>\n      <td>...</td>\n      <td>https://digital.nls.uk/144133901</td>\n      <td>[C. Macfarquhar, Colin Macfarquhar]</td>\n      <td>1</td>\n      <td>1</td>\n      <td>6</td>\n      <td></td>\n      <td></td>\n      <td>[]</td>\n      <td>NaN</td>\n      <td>https://w3id.org/hto/ArticleTermRecord/9922776...</td>\n    </tr>\n    <tr>\n      <th>3</th>\n      <td>A POSTERIORI</td>\n      <td>NaN</td>\n      <td>[]</td>\n      <td>[]</td>\n      <td>or demonstration a posteriori. See</td>\n      <td>444</td>\n      <td>444</td>\n      <td>1</td>\n      <td>Article</td>\n      <td>./data/EB_1_1_clean_cut.txt</td>\n      <td>...</td>\n      <td>https://digital.nls.uk/144133901</td>\n      <td>[C. Macfarquhar, Colin Macfarquhar]</td>\n      <td>1</td>\n      <td>1</td>\n      <td>6</td>\n      <td></td>\n      <td></td>\n      <td>[]</td>\n      <td>NaN</td>\n      <td>https://w3id.org/hto/ArticleTermRecord/9922776...</td>\n    </tr>\n    <tr>\n      <th>4</th>\n      <td>A STRONOMY</td>\n      <td>NaN</td>\n      <td>[]</td>\n      <td>[]</td>\n      <td>hours 48 minutes 523 seconds, as seen at that...</td>\n      <td>556</td>\n      <td>561</td>\n      <td>1</td>\n      <td>Article</td>\n      <td>./data/EB_1_1_clean_cut.txt</td>\n      <td>...</td>\n      <td>https://digital.nls.uk/144133901</td>\n      <td>[C. Macfarquhar, Colin Macfarquhar]</td>\n      <td>1</td>\n      <td>1</td>\n      <td>6</td>\n      <td></td>\n      <td></td>\n      <td>[]</td>\n      <td>NaN</td>\n      <td>https://w3id.org/hto/ArticleTermRecord/9922776...</td>\n    </tr>\n    <tr>\n      <th>...</th>\n      <td>...</td>\n      <td>...</td>\n      <td>...</td>\n      <td>...</td>\n      <td>...</td>\n      <td>...</td>\n      <td>...</td>\n      <td>...</td>\n      <td>...</td>\n      <td>...</td>\n      <td>...</td>\n      <td>...</td>\n      <td>...</td>\n      <td>...</td>\n      <td>...</td>\n      <td>...</td>\n      <td>...</td>\n      <td>...</td>\n      <td>...</td>\n      <td>...</td>\n      <td>...</td>\n    </tr>\n    <tr>\n      <th>9760</th>\n      <td>ZINK</td>\n      <td>NaN</td>\n      <td>[]</td>\n      <td>[]</td>\n      <td>See CHEMISTRY. 1. 90, 106, 143.</td>\n      <td>969</td>\n      <td>969</td>\n      <td>9</td>\n      <td>Article</td>\n      <td>./data/EB_1_3_clean_cut.txt</td>\n      <td>...</td>\n      <td>https://digital.nls.uk/144133903</td>\n      <td>[C. Macfarquhar, Colin Macfarquhar]</td>\n      <td>3</td>\n      <td>1</td>\n      <td>6</td>\n      <td></td>\n      <td></td>\n      <td>[]</td>\n      <td>NaN</td>\n      <td>https://w3id.org/hto/ArticleTermRecord/9922776...</td>\n    </tr>\n    <tr>\n      <th>9761</th>\n      <td>ZLYI</td>\n      <td>NaN</td>\n      <td>[]</td>\n      <td>[]</td>\n      <td>O U Fw gol 4Ci Fis. wsl S,  Ah A b VLCIS-EMM L...</td>\n      <td>748</td>\n      <td>749</td>\n      <td>1</td>\n      <td>Article</td>\n      <td>./data/EB_1_3_clean_cut.txt</td>\n      <td>...</td>\n      <td>https://digital.nls.uk/144133903</td>\n      <td>[C. Macfarquhar, Colin Macfarquhar]</td>\n      <td>3</td>\n      <td>1</td>\n      <td>6</td>\n      <td></td>\n      <td></td>\n      <td>[]</td>\n      <td>NaN</td>\n      <td>https://w3id.org/hto/ArticleTermRecord/9922776...</td>\n    </tr>\n    <tr>\n      <th>9762</th>\n      <td>ZV F Y</td>\n      <td>NaN</td>\n      <td>[]</td>\n      <td>[]</td>\n      <td>Wf bys ONO C &amp;ew, AN A ZW. W O 4 7 QV I W Aw ...</td>\n      <td>741</td>\n      <td>741</td>\n      <td>10</td>\n      <td>Article</td>\n      <td>./data/EB_1_3_clean_cut.txt</td>\n      <td>...</td>\n      <td>https://digital.nls.uk/144133903</td>\n      <td>[C. Macfarquhar, Colin Macfarquhar]</td>\n      <td>3</td>\n      <td>1</td>\n      <td>6</td>\n      <td></td>\n      <td></td>\n      <td>[]</td>\n      <td>NaN</td>\n      <td>https://w3id.org/hto/ArticleTermRecord/9922776...</td>\n    </tr>\n    <tr>\n      <th>9763</th>\n      <td>ZYGOMATICUS</td>\n      <td>NaN</td>\n      <td>[]</td>\n      <td>[ANATOMT]</td>\n      <td>in anatomy. See ANATOMT.p 306.</td>\n      <td>969</td>\n      <td>969</td>\n      <td>22</td>\n      <td>Article</td>\n      <td>./data/EB_1_3_clean_cut.txt</td>\n      <td>...</td>\n      <td>https://digital.nls.uk/144133903</td>\n      <td>[C. Macfarquhar, Colin Macfarquhar]</td>\n      <td>3</td>\n      <td>1</td>\n      <td>6</td>\n      <td></td>\n      <td></td>\n      <td>[]</td>\n      <td>NaN</td>\n      <td>https://w3id.org/hto/ArticleTermRecord/9922776...</td>\n    </tr>\n    <tr>\n      <th>9764</th>\n      <td>ZYGÆNA</td>\n      <td>NaN</td>\n      <td>[]</td>\n      <td>[SQALUS]</td>\n      <td>i ichthyology. See SQALUS. ZYGOMA in mnarumy. ...</td>\n      <td>969</td>\n      <td>969</td>\n      <td>21</td>\n      <td>Article</td>\n      <td>./data/EB_1_3_clean_cut.txt</td>\n      <td>...</td>\n      <td>https://digital.nls.uk/144133903</td>\n      <td>[C. Macfarquhar, Colin Macfarquhar]</td>\n      <td>3</td>\n      <td>1</td>\n      <td>6</td>\n      <td></td>\n      <td></td>\n      <td>[]</td>\n      <td>NaN</td>\n      <td>https://w3id.org/hto/ArticleTermRecord/9922776...</td>\n    </tr>\n  </tbody>\n</table>\n<p>9765 rows × 41 columns</p>\n</div>"
     },
     "execution_count": 24,
     "metadata": {},
     "output_type": "execute_result"
    }
   ],
   "source": [
    "dataframe_with_uris"
   ],
   "metadata": {
    "collapsed": false
   }
  },
  {
   "cell_type": "code",
   "execution_count": 161,
   "outputs": [
    {
     "data": {
      "text/plain": "13407"
     },
     "execution_count": 161,
     "metadata": {},
     "output_type": "execute_result"
    }
   ],
   "source": [
    "len(description_pairs)"
   ],
   "metadata": {
    "collapsed": false
   }
  },
  {
   "cell_type": "code",
   "execution_count": 162,
   "outputs": [
    {
     "data": {
      "text/plain": "<Graph identifier=N7b6c8a3db7d248c88b7920827c835faf (<class 'rdflib.graph.Graph'>)>"
     },
     "execution_count": 162,
     "metadata": {},
     "output_type": "execute_result"
    }
   ],
   "source": [
    "# Save the Graph in the RDF Turtle format\n",
    "graph.serialize(format=\"turtle\", destination=\"../results/hto_eb_total.ttl\")"
   ],
   "metadata": {
    "collapsed": false
   }
  }
 ],
 "metadata": {
  "kernelspec": {
   "display_name": "Python 3",
   "language": "python",
   "name": "python3"
  },
  "language_info": {
   "codemirror_mode": {
    "name": "ipython",
    "version": 2
   },
   "file_extension": ".py",
   "mimetype": "text/x-python",
   "name": "python",
   "nbconvert_exporter": "python",
   "pygments_lexer": "ipython2",
   "version": "2.7.6"
  }
 },
 "nbformat": 4,
 "nbformat_minor": 0
}
