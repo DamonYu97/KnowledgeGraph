{
 "cells": [
  {
   "cell_type": "markdown",
   "source": [
    "This notebook will create triples to link term records when one term is referenced by another term (term after \"See\" in its description). It will first load a EB KG which does not have such relations, and also load a dataframe which contains following information:\n",
    "- MMSID:                                                        992277653804341\n",
    "- term:                                                                  OR\n",
    "- definition:             A NEW A D I C T I A A, the name of several riv...\n",
    "- reference_terms:                                                          []\n",
    "- uri:                      https://w3id.org/hto/ArticleTermRecord/9922776...\n",
    "\n",
    "Then, for each term in the dataframe, it will find the reference term and return the uri of that term. After that, it will create triples for each term and its reference term, and add triples to the graph."
   ],
   "metadata": {
    "collapsed": false
   }
  },
  {
   "cell_type": "code",
   "execution_count": 1,
   "outputs": [],
   "source": [
    "# Load the graph\n",
    "from rdflib import Graph, URIRef, Namespace\n",
    "\n",
    "# Create a new RDFLib Graph\n",
    "graph = Graph()\n",
    "\n",
    "# Load hto ontology file into the graph\n",
    "ontology_file = \"../results/hto_eb_7th_hq.ttl\"\n",
    "graph.parse(ontology_file, format=\"turtle\")\n",
    "hto = Namespace(\"https://w3id.org/hto#\")"
   ],
   "metadata": {
    "collapsed": false
   }
  },
  {
   "cell_type": "code",
   "execution_count": null,
   "outputs": [],
   "source": [
    "len(graph)"
   ],
   "metadata": {
    "collapsed": false
   }
  },
  {
   "cell_type": "code",
   "execution_count": 4,
   "outputs": [],
   "source": [
    "import pandas as pd\n",
    "\n",
    "# Load the dataframe\n",
    "df_7= pd.read_json('../dataframe_with_uris/nckp_final_eb_7_dataframe_clean_Damon_with_uris', orient=\"index\")\n",
    "if \"relatedTerms\" in df_7.keys():\n",
    "    df_7.rename(columns={\"relatedTerms\": \"reference_terms\"}, inplace=True)\n"
   ],
   "metadata": {
    "collapsed": false
   }
  },
  {
   "cell_type": "code",
   "execution_count": 5,
   "outputs": [
    {
     "data": {
      "text/plain": "               term                                               note  \\\n0                 A                                                  0   \n1                 A                                                  0   \n2                AA                                                  0   \n3                AA                                                  0   \n4                AA                                                  0   \n...             ...                                                ...   \n23965  ZWENIGORODKA                                                  0   \n23966       ZWICKAU                                                  0   \n23967        ZWOLLE                                                  0   \n23968        ZYGHUR                                                  0   \n23969   ZYMOSIMETER  formed from ζύμωσις , fermentation, and μέτϑον...   \n\n      alter_names reference_terms  \\\n0              []              []   \n1              []              []   \n2              []              []   \n3              []              []   \n4              []              []   \n...           ...             ...   \n23965          []              []   \n23966          []              []   \n23967          []              []   \n23968          []              []   \n23969          []              []   \n\n                                              definition  startsAt  endsAt  \\\n0      The first letter of the alphabet in every know...        11      12   \n1      as an abbreviation, is likewise of frequent oc...        12      12   \n2      a river of the province of Groningen, in the k...        12      12   \n3      a river in the province of Overyssel. in the N...        12      12   \n4      a river of the province of Antwerp, in the Net...        12      12   \n...                                                  ...       ...     ...   \n23965  a circle of the Russian government of Kiew. It...      1037    1037   \n23966  a city of the kingdom of Saxony, the capital o...      1037    1037   \n23967  a city, the capital of the circle of the same ...      1037    1037   \n23968  a town of Hindustan, in the province of Bejapo...      1037    1037   \n23969  is the name given to an instrument described b...      1037    1037   \n\n       position termType                                        filePath  ...  \\\n0             1  Article   ./eb07_TXT_v2/a2/kp-eb0702-000101-9822-v2.txt  ...   \n1             2  Article   ./eb07_TXT_v2/a2/kp-eb0702-000101-9822-v2.txt  ...   \n2             3  Article   ./eb07_TXT_v2/a2/kp-eb0702-000201-9835-v2.txt  ...   \n3             4  Article   ./eb07_TXT_v2/a2/kp-eb0702-000201-9835-v2.txt  ...   \n4             5  Article   ./eb07_TXT_v2/a2/kp-eb0702-000201-9835-v2.txt  ...   \n...         ...      ...                                             ...  ...   \n23965         4  Article  ./eb07_TXT_v2/z21/kp-eb0721-102704-1077-v2.txt  ...   \n23966         5  Article  ./eb07_TXT_v2/z21/kp-eb0721-102705-1077-v2.txt  ...   \n23967         6  Article  ./eb07_TXT_v2/z21/kp-eb0721-102706-1077-v2.txt  ...   \n23968         7  Article  ./eb07_TXT_v2/z21/kp-eb0721-102707-1077-v2.txt  ...   \n23969         8  Article  ./eb07_TXT_v2/z21/kp-eb0721-102708-1077-v2.txt  ...   \n\n       publisherPersons  volumeNum editionNum  numberOfVolumes  numberOfTerms  \\\n0                    []          2          7               22              0   \n1                    []          2          7               22              0   \n2                    []          2          7               22              0   \n3                    []          2          7               22              0   \n4                    []          2          7               22              0   \n...                 ...        ...        ...              ...            ...   \n23965                []         21          7               22              0   \n23966                []         21          7               22              0   \n23967                []         21          7               22              0   \n23968                []         21          7               22              0   \n23969                []         21          7               22              0   \n\n      supplementTitle supplementSubTitle supplementsTo     id  \\\n0                                                   []      0   \n1                                                   []      1   \n2                                                   []      2   \n3                                                   []      3   \n4                                                   []      4   \n...               ...                ...           ...    ...   \n23965                                               []  23965   \n23966                                               []  23966   \n23967                                               []  23967   \n23968                                               []  23968   \n23969                                               []  23969   \n\n                                                     uri  \n0      https://w3id.org/hto/ArticleTermRecord/9910796...  \n1      https://w3id.org/hto/ArticleTermRecord/9910796...  \n2      https://w3id.org/hto/ArticleTermRecord/9910796...  \n3      https://w3id.org/hto/ArticleTermRecord/9910796...  \n4      https://w3id.org/hto/ArticleTermRecord/9910796...  \n...                                                  ...  \n23965  https://w3id.org/hto/ArticleTermRecord/9910796...  \n23966  https://w3id.org/hto/ArticleTermRecord/9910796...  \n23967  https://w3id.org/hto/ArticleTermRecord/9910796...  \n23968  https://w3id.org/hto/ArticleTermRecord/9910796...  \n23969  https://w3id.org/hto/ArticleTermRecord/9910796...  \n\n[23970 rows x 42 columns]",
      "text/html": "<div>\n<style scoped>\n    .dataframe tbody tr th:only-of-type {\n        vertical-align: middle;\n    }\n\n    .dataframe tbody tr th {\n        vertical-align: top;\n    }\n\n    .dataframe thead th {\n        text-align: right;\n    }\n</style>\n<table border=\"1\" class=\"dataframe\">\n  <thead>\n    <tr style=\"text-align: right;\">\n      <th></th>\n      <th>term</th>\n      <th>note</th>\n      <th>alter_names</th>\n      <th>reference_terms</th>\n      <th>definition</th>\n      <th>startsAt</th>\n      <th>endsAt</th>\n      <th>position</th>\n      <th>termType</th>\n      <th>filePath</th>\n      <th>...</th>\n      <th>publisherPersons</th>\n      <th>volumeNum</th>\n      <th>editionNum</th>\n      <th>numberOfVolumes</th>\n      <th>numberOfTerms</th>\n      <th>supplementTitle</th>\n      <th>supplementSubTitle</th>\n      <th>supplementsTo</th>\n      <th>id</th>\n      <th>uri</th>\n    </tr>\n  </thead>\n  <tbody>\n    <tr>\n      <th>0</th>\n      <td>A</td>\n      <td>0</td>\n      <td>[]</td>\n      <td>[]</td>\n      <td>The first letter of the alphabet in every know...</td>\n      <td>11</td>\n      <td>12</td>\n      <td>1</td>\n      <td>Article</td>\n      <td>./eb07_TXT_v2/a2/kp-eb0702-000101-9822-v2.txt</td>\n      <td>...</td>\n      <td>[]</td>\n      <td>2</td>\n      <td>7</td>\n      <td>22</td>\n      <td>0</td>\n      <td></td>\n      <td></td>\n      <td>[]</td>\n      <td>0</td>\n      <td>https://w3id.org/hto/ArticleTermRecord/9910796...</td>\n    </tr>\n    <tr>\n      <th>1</th>\n      <td>A</td>\n      <td>0</td>\n      <td>[]</td>\n      <td>[]</td>\n      <td>as an abbreviation, is likewise of frequent oc...</td>\n      <td>12</td>\n      <td>12</td>\n      <td>2</td>\n      <td>Article</td>\n      <td>./eb07_TXT_v2/a2/kp-eb0702-000101-9822-v2.txt</td>\n      <td>...</td>\n      <td>[]</td>\n      <td>2</td>\n      <td>7</td>\n      <td>22</td>\n      <td>0</td>\n      <td></td>\n      <td></td>\n      <td>[]</td>\n      <td>1</td>\n      <td>https://w3id.org/hto/ArticleTermRecord/9910796...</td>\n    </tr>\n    <tr>\n      <th>2</th>\n      <td>AA</td>\n      <td>0</td>\n      <td>[]</td>\n      <td>[]</td>\n      <td>a river of the province of Groningen, in the k...</td>\n      <td>12</td>\n      <td>12</td>\n      <td>3</td>\n      <td>Article</td>\n      <td>./eb07_TXT_v2/a2/kp-eb0702-000201-9835-v2.txt</td>\n      <td>...</td>\n      <td>[]</td>\n      <td>2</td>\n      <td>7</td>\n      <td>22</td>\n      <td>0</td>\n      <td></td>\n      <td></td>\n      <td>[]</td>\n      <td>2</td>\n      <td>https://w3id.org/hto/ArticleTermRecord/9910796...</td>\n    </tr>\n    <tr>\n      <th>3</th>\n      <td>AA</td>\n      <td>0</td>\n      <td>[]</td>\n      <td>[]</td>\n      <td>a river in the province of Overyssel. in the N...</td>\n      <td>12</td>\n      <td>12</td>\n      <td>4</td>\n      <td>Article</td>\n      <td>./eb07_TXT_v2/a2/kp-eb0702-000201-9835-v2.txt</td>\n      <td>...</td>\n      <td>[]</td>\n      <td>2</td>\n      <td>7</td>\n      <td>22</td>\n      <td>0</td>\n      <td></td>\n      <td></td>\n      <td>[]</td>\n      <td>3</td>\n      <td>https://w3id.org/hto/ArticleTermRecord/9910796...</td>\n    </tr>\n    <tr>\n      <th>4</th>\n      <td>AA</td>\n      <td>0</td>\n      <td>[]</td>\n      <td>[]</td>\n      <td>a river of the province of Antwerp, in the Net...</td>\n      <td>12</td>\n      <td>12</td>\n      <td>5</td>\n      <td>Article</td>\n      <td>./eb07_TXT_v2/a2/kp-eb0702-000201-9835-v2.txt</td>\n      <td>...</td>\n      <td>[]</td>\n      <td>2</td>\n      <td>7</td>\n      <td>22</td>\n      <td>0</td>\n      <td></td>\n      <td></td>\n      <td>[]</td>\n      <td>4</td>\n      <td>https://w3id.org/hto/ArticleTermRecord/9910796...</td>\n    </tr>\n    <tr>\n      <th>...</th>\n      <td>...</td>\n      <td>...</td>\n      <td>...</td>\n      <td>...</td>\n      <td>...</td>\n      <td>...</td>\n      <td>...</td>\n      <td>...</td>\n      <td>...</td>\n      <td>...</td>\n      <td>...</td>\n      <td>...</td>\n      <td>...</td>\n      <td>...</td>\n      <td>...</td>\n      <td>...</td>\n      <td>...</td>\n      <td>...</td>\n      <td>...</td>\n      <td>...</td>\n      <td>...</td>\n    </tr>\n    <tr>\n      <th>23965</th>\n      <td>ZWENIGORODKA</td>\n      <td>0</td>\n      <td>[]</td>\n      <td>[]</td>\n      <td>a circle of the Russian government of Kiew. It...</td>\n      <td>1037</td>\n      <td>1037</td>\n      <td>4</td>\n      <td>Article</td>\n      <td>./eb07_TXT_v2/z21/kp-eb0721-102704-1077-v2.txt</td>\n      <td>...</td>\n      <td>[]</td>\n      <td>21</td>\n      <td>7</td>\n      <td>22</td>\n      <td>0</td>\n      <td></td>\n      <td></td>\n      <td>[]</td>\n      <td>23965</td>\n      <td>https://w3id.org/hto/ArticleTermRecord/9910796...</td>\n    </tr>\n    <tr>\n      <th>23966</th>\n      <td>ZWICKAU</td>\n      <td>0</td>\n      <td>[]</td>\n      <td>[]</td>\n      <td>a city of the kingdom of Saxony, the capital o...</td>\n      <td>1037</td>\n      <td>1037</td>\n      <td>5</td>\n      <td>Article</td>\n      <td>./eb07_TXT_v2/z21/kp-eb0721-102705-1077-v2.txt</td>\n      <td>...</td>\n      <td>[]</td>\n      <td>21</td>\n      <td>7</td>\n      <td>22</td>\n      <td>0</td>\n      <td></td>\n      <td></td>\n      <td>[]</td>\n      <td>23966</td>\n      <td>https://w3id.org/hto/ArticleTermRecord/9910796...</td>\n    </tr>\n    <tr>\n      <th>23967</th>\n      <td>ZWOLLE</td>\n      <td>0</td>\n      <td>[]</td>\n      <td>[]</td>\n      <td>a city, the capital of the circle of the same ...</td>\n      <td>1037</td>\n      <td>1037</td>\n      <td>6</td>\n      <td>Article</td>\n      <td>./eb07_TXT_v2/z21/kp-eb0721-102706-1077-v2.txt</td>\n      <td>...</td>\n      <td>[]</td>\n      <td>21</td>\n      <td>7</td>\n      <td>22</td>\n      <td>0</td>\n      <td></td>\n      <td></td>\n      <td>[]</td>\n      <td>23967</td>\n      <td>https://w3id.org/hto/ArticleTermRecord/9910796...</td>\n    </tr>\n    <tr>\n      <th>23968</th>\n      <td>ZYGHUR</td>\n      <td>0</td>\n      <td>[]</td>\n      <td>[]</td>\n      <td>a town of Hindustan, in the province of Bejapo...</td>\n      <td>1037</td>\n      <td>1037</td>\n      <td>7</td>\n      <td>Article</td>\n      <td>./eb07_TXT_v2/z21/kp-eb0721-102707-1077-v2.txt</td>\n      <td>...</td>\n      <td>[]</td>\n      <td>21</td>\n      <td>7</td>\n      <td>22</td>\n      <td>0</td>\n      <td></td>\n      <td></td>\n      <td>[]</td>\n      <td>23968</td>\n      <td>https://w3id.org/hto/ArticleTermRecord/9910796...</td>\n    </tr>\n    <tr>\n      <th>23969</th>\n      <td>ZYMOSIMETER</td>\n      <td>formed from ζύμωσις , fermentation, and μέτϑον...</td>\n      <td>[]</td>\n      <td>[]</td>\n      <td>is the name given to an instrument described b...</td>\n      <td>1037</td>\n      <td>1037</td>\n      <td>8</td>\n      <td>Article</td>\n      <td>./eb07_TXT_v2/z21/kp-eb0721-102708-1077-v2.txt</td>\n      <td>...</td>\n      <td>[]</td>\n      <td>21</td>\n      <td>7</td>\n      <td>22</td>\n      <td>0</td>\n      <td></td>\n      <td></td>\n      <td>[]</td>\n      <td>23969</td>\n      <td>https://w3id.org/hto/ArticleTermRecord/9910796...</td>\n    </tr>\n  </tbody>\n</table>\n<p>23970 rows × 42 columns</p>\n</div>"
     },
     "execution_count": 5,
     "metadata": {},
     "output_type": "execute_result"
    }
   ],
   "source": [
    "df_7"
   ],
   "metadata": {
    "collapsed": false
   }
  },
  {
   "cell_type": "code",
   "execution_count": 15,
   "outputs": [],
   "source": [
    "from tqdm import tqdm\n",
    "\n",
    "\n",
    "def link_reference_terms(new_terms_dataframe_with_uris, graph, previous_dataframe_with_uris=None):\n",
    "    \"\"\"\n",
    "    Given a dataframe and a graph, return the graph with triples that links a term with its reference terms using refersTo property. the dataframe should have the column called reference_terms, a list of strings representing term names, uris.\n",
    "    :param new_terms_dataframe_with_uris: dataframe with uris of eb collection from single source, terms in this\n",
    "    dataframe are added in this specific task\n",
    "    :param previous_dataframe_with_uris: terms in this dataframe are added in previous task\n",
    "    :param graph: graph of eb collection from single source, it does not have links for reference terms\n",
    "    :return: a graph\n",
    "    \"\"\"\n",
    "    # 1. In dataframe, find all term records that have non-empty reference-terms\n",
    "    # 2. For each term in above records, find the term URI in graph.\n",
    "    # 3. then find all term URIs in graph that has name which appears in reference-terms\n",
    "    # 4. create triples with refersTo relation for term uri and reference term uri.\n",
    "    compare_df = new_terms_dataframe_with_uris\n",
    "    if not isinstance(previous_dataframe_with_uris, type(None)):\n",
    "        print(\"here\")\n",
    "        compare_df = previous_dataframe_with_uris\n",
    "    df_with_references = new_terms_dataframe_with_uris[new_terms_dataframe_with_uris[\"reference_terms\"].apply(\n",
    "        lambda references: len(references) > 0 and references[0] != '')].reset_index(drop=True)\n",
    "    for df_term_index in tqdm(range(0, len(df_with_references)), desc=\"Processing\", unit=\"item\"):\n",
    "        # find the term URI in graph\n",
    "        df_term = df_with_references.loc[df_term_index]\n",
    "        term_uri = URIRef(str(df_term[\"uri\"]))\n",
    "        edition_mmsid = df_term[\"MMSID\"]\n",
    "        reference_terms = df_term[\"reference_terms\"]\n",
    "        for reference_term in reference_terms:\n",
    "            if reference_term == \"\":\n",
    "                continue\n",
    "            references_df = compare_df[\n",
    "                (compare_df[\"MMSID\"] == edition_mmsid) & (compare_df[\"term\"] == reference_term)].reset_index(drop=True)\n",
    "            if len(references_df) > 0:\n",
    "                # One term should have only one reference term with specific name. If there are more than one terms have such name, then in theory, we should only take the term which is talking about the same topic. However, some term has no meaningful description except alternative names, or \"See Term\". In this case, there is no way to identify the topic, so we always take the first reference term found.\n",
    "                refers_to = URIRef(str(references_df.loc[0][\"uri\"]))\n",
    "                # print(f\"link {term_uri} in {edition_mmsid} to {refers_to}\")\n",
    "                graph.add((term_uri, hto.refersTo, refers_to))\n",
    "    return graph"
   ],
   "metadata": {
    "collapsed": false
   }
  },
  {
   "cell_type": "code",
   "execution_count": 17,
   "outputs": [
    {
     "name": "stderr",
     "output_type": "stream",
     "text": [
      "Processing: 100%|██████████| 1821/1821 [00:03<00:00, 586.31item/s]\n"
     ]
    },
    {
     "data": {
      "text/plain": "418717"
     },
     "execution_count": 17,
     "metadata": {},
     "output_type": "execute_result"
    }
   ],
   "source": [
    "graph = link_reference_terms(df_7, graph)\n",
    "len(graph)"
   ],
   "metadata": {
    "collapsed": false
   }
  },
  {
   "cell_type": "code",
   "execution_count": null,
   "outputs": [],
   "source": [
    "# Save the Graph in the RDF Turtle format\n",
    "graph.serialize(format=\"turtle\", destination=\"../results/hto_eb_7th_hq_reference.ttl\")"
   ],
   "metadata": {
    "collapsed": false
   }
  }
 ],
 "metadata": {
  "kernelspec": {
   "display_name": "Python 3",
   "language": "python",
   "name": "python3"
  },
  "language_info": {
   "codemirror_mode": {
    "name": "ipython",
    "version": 2
   },
   "file_extension": ".py",
   "mimetype": "text/x-python",
   "name": "python",
   "nbconvert_exporter": "python",
   "pygments_lexer": "ipython2",
   "version": "2.7.6"
  }
 },
 "nbformat": 4,
 "nbformat_minor": 0
}
