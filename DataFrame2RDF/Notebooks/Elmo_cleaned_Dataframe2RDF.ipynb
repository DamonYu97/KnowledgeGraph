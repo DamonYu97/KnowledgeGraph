{
 "cells": [
  {
   "cell_type": "code",
   "execution_count": 2,
   "metadata": {
    "collapsed": true
   },
   "outputs": [],
   "source": [
    "import pandas as pd\n",
    "\n",
    "# load the total dataframe for eb from NLS with uris\n",
    "eb_total_nls_df_with_uris = pd.read_json(\"../dataframe_with_uris/eb_total_lq_dataframe_uris\", orient=\"index\")"
   ]
  },
  {
   "cell_type": "code",
   "execution_count": 18,
   "outputs": [
    {
     "ename": "ValueError",
     "evalue": "Location based indexing can only have [integer, integer slice (START point is INCLUDED, END point is EXCLUDED), listlike of integers, boolean array] types",
     "output_type": "error",
     "traceback": [
      "\u001B[0;31m---------------------------------------------------------------------------\u001B[0m",
      "\u001B[0;31mValueError\u001B[0m                                Traceback (most recent call last)",
      "File \u001B[0;32m~/Documents/PhD/KnowledgeGraph/venv/lib/python3.9/site-packages/pandas/core/indexing.py:940\u001B[0m, in \u001B[0;36m_LocationIndexer._validate_tuple_indexer\u001B[0;34m(self, key)\u001B[0m\n\u001B[1;32m    939\u001B[0m \u001B[38;5;28;01mtry\u001B[39;00m:\n\u001B[0;32m--> 940\u001B[0m     \u001B[38;5;28;43mself\u001B[39;49m\u001B[38;5;241;43m.\u001B[39;49m\u001B[43m_validate_key\u001B[49m\u001B[43m(\u001B[49m\u001B[43mk\u001B[49m\u001B[43m,\u001B[49m\u001B[43m \u001B[49m\u001B[43mi\u001B[49m\u001B[43m)\u001B[49m\n\u001B[1;32m    941\u001B[0m \u001B[38;5;28;01mexcept\u001B[39;00m \u001B[38;5;167;01mValueError\u001B[39;00m \u001B[38;5;28;01mas\u001B[39;00m err:\n",
      "File \u001B[0;32m~/Documents/PhD/KnowledgeGraph/venv/lib/python3.9/site-packages/pandas/core/indexing.py:1576\u001B[0m, in \u001B[0;36m_iLocIndexer._validate_key\u001B[0;34m(self, key, axis)\u001B[0m\n\u001B[1;32m   1575\u001B[0m \u001B[38;5;28;01melse\u001B[39;00m:\n\u001B[0;32m-> 1576\u001B[0m     \u001B[38;5;28;01mraise\u001B[39;00m \u001B[38;5;167;01mValueError\u001B[39;00m(\u001B[38;5;124mf\u001B[39m\u001B[38;5;124m\"\u001B[39m\u001B[38;5;124mCan only index by location with a [\u001B[39m\u001B[38;5;132;01m{\u001B[39;00m\u001B[38;5;28mself\u001B[39m\u001B[38;5;241m.\u001B[39m_valid_types\u001B[38;5;132;01m}\u001B[39;00m\u001B[38;5;124m]\u001B[39m\u001B[38;5;124m\"\u001B[39m)\n",
      "\u001B[0;31mValueError\u001B[0m: Can only index by location with a [integer, integer slice (START point is INCLUDED, END point is EXCLUDED), listlike of integers, boolean array]",
      "\nThe above exception was the direct cause of the following exception:\n",
      "\u001B[0;31mValueError\u001B[0m                                Traceback (most recent call last)",
      "Cell \u001B[0;32mIn[18], line 1\u001B[0m\n\u001B[0;32m----> 1\u001B[0m \u001B[43meb_total_nls_df_with_uris\u001B[49m\u001B[43m[\u001B[49m\u001B[43m(\u001B[49m\u001B[43meb_total_nls_df_with_uris\u001B[49m\u001B[43m[\u001B[49m\u001B[38;5;124;43m\"\u001B[39;49m\u001B[38;5;124;43mMMSID\u001B[39;49m\u001B[38;5;124;43m\"\u001B[39;49m\u001B[43m]\u001B[49m\u001B[43m \u001B[49m\u001B[38;5;241;43m==\u001B[39;49m\u001B[43m \u001B[49m\u001B[38;5;241;43m992277653804341\u001B[39;49m\u001B[43m)\u001B[49m\u001B[43m \u001B[49m\u001B[38;5;241;43m&\u001B[39;49m\u001B[43m \u001B[49m\u001B[43m(\u001B[49m\u001B[43meb_total_nls_df_with_uris\u001B[49m\u001B[43m[\u001B[49m\u001B[38;5;124;43m\"\u001B[39;49m\u001B[38;5;124;43mid\u001B[39;49m\u001B[38;5;124;43m\"\u001B[39;49m\u001B[43m]\u001B[49m\u001B[43m \u001B[49m\u001B[38;5;241;43m==\u001B[39;49m\u001B[43m \u001B[49m\u001B[38;5;241;43m0\u001B[39;49m\u001B[43m)\u001B[49m\u001B[43m]\u001B[49m\u001B[38;5;241;43m.\u001B[39;49m\u001B[43miloc\u001B[49m\u001B[43m[\u001B[49m\u001B[38;5;241;43m0\u001B[39;49m\u001B[43m,\u001B[49m\u001B[43m \u001B[49m\u001B[38;5;124;43m\"\u001B[39;49m\u001B[38;5;124;43muri\u001B[39;49m\u001B[38;5;124;43m\"\u001B[39;49m\u001B[43m]\u001B[49m\n",
      "File \u001B[0;32m~/Documents/PhD/KnowledgeGraph/venv/lib/python3.9/site-packages/pandas/core/indexing.py:1147\u001B[0m, in \u001B[0;36m_LocationIndexer.__getitem__\u001B[0;34m(self, key)\u001B[0m\n\u001B[1;32m   1145\u001B[0m     \u001B[38;5;28;01mif\u001B[39;00m \u001B[38;5;28mself\u001B[39m\u001B[38;5;241m.\u001B[39m_is_scalar_access(key):\n\u001B[1;32m   1146\u001B[0m         \u001B[38;5;28;01mreturn\u001B[39;00m \u001B[38;5;28mself\u001B[39m\u001B[38;5;241m.\u001B[39mobj\u001B[38;5;241m.\u001B[39m_get_value(\u001B[38;5;241m*\u001B[39mkey, takeable\u001B[38;5;241m=\u001B[39m\u001B[38;5;28mself\u001B[39m\u001B[38;5;241m.\u001B[39m_takeable)\n\u001B[0;32m-> 1147\u001B[0m     \u001B[38;5;28;01mreturn\u001B[39;00m \u001B[38;5;28;43mself\u001B[39;49m\u001B[38;5;241;43m.\u001B[39;49m\u001B[43m_getitem_tuple\u001B[49m\u001B[43m(\u001B[49m\u001B[43mkey\u001B[49m\u001B[43m)\u001B[49m\n\u001B[1;32m   1148\u001B[0m \u001B[38;5;28;01melse\u001B[39;00m:\n\u001B[1;32m   1149\u001B[0m     \u001B[38;5;66;03m# we by definition only have the 0th axis\u001B[39;00m\n\u001B[1;32m   1150\u001B[0m     axis \u001B[38;5;241m=\u001B[39m \u001B[38;5;28mself\u001B[39m\u001B[38;5;241m.\u001B[39maxis \u001B[38;5;129;01mor\u001B[39;00m \u001B[38;5;241m0\u001B[39m\n",
      "File \u001B[0;32m~/Documents/PhD/KnowledgeGraph/venv/lib/python3.9/site-packages/pandas/core/indexing.py:1652\u001B[0m, in \u001B[0;36m_iLocIndexer._getitem_tuple\u001B[0;34m(self, tup)\u001B[0m\n\u001B[1;32m   1651\u001B[0m \u001B[38;5;28;01mdef\u001B[39;00m \u001B[38;5;21m_getitem_tuple\u001B[39m(\u001B[38;5;28mself\u001B[39m, tup: \u001B[38;5;28mtuple\u001B[39m):\n\u001B[0;32m-> 1652\u001B[0m     tup \u001B[38;5;241m=\u001B[39m \u001B[38;5;28;43mself\u001B[39;49m\u001B[38;5;241;43m.\u001B[39;49m\u001B[43m_validate_tuple_indexer\u001B[49m\u001B[43m(\u001B[49m\u001B[43mtup\u001B[49m\u001B[43m)\u001B[49m\n\u001B[1;32m   1653\u001B[0m     \u001B[38;5;28;01mwith\u001B[39;00m suppress(IndexingError):\n\u001B[1;32m   1654\u001B[0m         \u001B[38;5;28;01mreturn\u001B[39;00m \u001B[38;5;28mself\u001B[39m\u001B[38;5;241m.\u001B[39m_getitem_lowerdim(tup)\n",
      "File \u001B[0;32m~/Documents/PhD/KnowledgeGraph/venv/lib/python3.9/site-packages/pandas/core/indexing.py:942\u001B[0m, in \u001B[0;36m_LocationIndexer._validate_tuple_indexer\u001B[0;34m(self, key)\u001B[0m\n\u001B[1;32m    940\u001B[0m         \u001B[38;5;28mself\u001B[39m\u001B[38;5;241m.\u001B[39m_validate_key(k, i)\n\u001B[1;32m    941\u001B[0m     \u001B[38;5;28;01mexcept\u001B[39;00m \u001B[38;5;167;01mValueError\u001B[39;00m \u001B[38;5;28;01mas\u001B[39;00m err:\n\u001B[0;32m--> 942\u001B[0m         \u001B[38;5;28;01mraise\u001B[39;00m \u001B[38;5;167;01mValueError\u001B[39;00m(\n\u001B[1;32m    943\u001B[0m             \u001B[38;5;124m\"\u001B[39m\u001B[38;5;124mLocation based indexing can only have \u001B[39m\u001B[38;5;124m\"\u001B[39m\n\u001B[1;32m    944\u001B[0m             \u001B[38;5;124mf\u001B[39m\u001B[38;5;124m\"\u001B[39m\u001B[38;5;124m[\u001B[39m\u001B[38;5;132;01m{\u001B[39;00m\u001B[38;5;28mself\u001B[39m\u001B[38;5;241m.\u001B[39m_valid_types\u001B[38;5;132;01m}\u001B[39;00m\u001B[38;5;124m] types\u001B[39m\u001B[38;5;124m\"\u001B[39m\n\u001B[1;32m    945\u001B[0m         ) \u001B[38;5;28;01mfrom\u001B[39;00m \u001B[38;5;21;01merr\u001B[39;00m\n\u001B[1;32m    946\u001B[0m \u001B[38;5;28;01mreturn\u001B[39;00m key\n",
      "\u001B[0;31mValueError\u001B[0m: Location based indexing can only have [integer, integer slice (START point is INCLUDED, END point is EXCLUDED), listlike of integers, boolean array] types"
     ]
    }
   ],
   "source": [
    "eb_total_nls_df_with_uris[(eb_total_nls_df_with_uris[\"MMSID\"] == 992277653804341) & (eb_total_nls_df_with_uris[\"id\"] == 0)][\"uri\"].iloc[0]"
   ],
   "metadata": {
    "collapsed": false
   }
  },
  {
   "cell_type": "code",
   "execution_count": 56,
   "outputs": [],
   "source": [
    "import re\n",
    "def remove_extra_spaces(text):\n",
    "    text = text.strip()\n",
    "    # Remove extra spaces before punctuation\n",
    "    text = re.sub(r'\\s+([,.;:])', r'\\1', text)\n",
    "    # Remove extra spaces around slashes and hyphens that are not part of words\n",
    "    #text = re.sub(r'\\s*/\\s*', '/', text)\n",
    "    text = re.sub(r'\\s*-\\s*', '-', text)\n",
    "    # Replace multiple spaces with a single space\n",
    "    text = re.sub(r'\\s+', ' ', text)\n",
    "    return text"
   ],
   "metadata": {
    "collapsed": false
   }
  },
  {
   "cell_type": "code",
   "execution_count": 45,
   "outputs": [],
   "source": [
    "def get_uri_cleaned_definition(clean_dataframe):\n",
    "    cleaned_definitions = []\n",
    "    for index in range(0, len(clean_dataframe)):\n",
    "        MMSID = clean_dataframe.loc[index, \"MMSID\"]\n",
    "        uri = eb_total_nls_df_with_uris[(eb_total_nls_df_with_uris[\"MMSID\"] == MMSID) & (eb_total_nls_df_with_uris[\"id\"] == index)][\"uri\"].iloc[0]\n",
    "        cleaned_definitions.append({\n",
    "            \"uri\": uri,\n",
    "            \"definition\": remove_extra_spaces(clean_dataframe.loc[index, \"definition\"])\n",
    "        })\n",
    "    return  cleaned_definitions"
   ],
   "metadata": {
    "collapsed": false
   }
  },
  {
   "cell_type": "code",
   "execution_count": 10,
   "outputs": [],
   "source": [
    "elmo_cleaned_eb_2_df = pd.read_json(\"../../source_dataframes/eb/final_eb_2_dataframe_ElmosclstmChecker\", orient=\"index\")"
   ],
   "metadata": {
    "collapsed": false
   }
  },
  {
   "cell_type": "code",
   "execution_count": 57,
   "outputs": [],
   "source": [
    "clean_definitions = get_uri_cleaned_definition(elmo_cleaned_eb_2_df)"
   ],
   "metadata": {
    "collapsed": false
   }
  },
  {
   "cell_type": "code",
   "execution_count": 73,
   "outputs": [
    {
     "data": {
      "text/plain": "{'uri': 'https://w3id.org/hto/ArticleTermRecord/997902523804341_144850370_9798985120_0',\n 'definition': 'the eleventh month of the civil year of the Hebrews, and the fifth of their ecclesiastical year, which begins with the month Nations. It answers to the moon of July; that is, to part of our month of the same name, and to the beginning of August: it consists of thirty days. The Jews face on the first of this month, in memory of Aaron its death; and on the ninth, because on that day both the temple of Solomon, and that erected after the captivity, were burnt; the former by the Chaldeans, and the latter by the Romans. The same day is also remarkable among the people for the publication of Adrian is left, where they were forbid to continue in Judea, or even to lookback when at a distance from Jerusalem in order to lament the desolation of that city. The 18th of the same month is also a fast among the Jews; because the lamp in the sanctuary was that night extinguiftied, in the time of Ahaz.'}"
     },
     "execution_count": 73,
     "metadata": {},
     "output_type": "execute_result"
    }
   ],
   "source": [
    "clean_definitions[10]"
   ],
   "metadata": {
    "collapsed": false
   }
  },
  {
   "cell_type": "code",
   "execution_count": 34,
   "outputs": [],
   "source": [
    "from rdflib import Graph, URIRef, Namespace\n",
    "\n",
    "# Load the graph with NLS EB definitions\n",
    "graph = Graph()\n",
    "\n",
    "ontology_file = \"../../results/hto_eb_total.ttl\"\n",
    "graph.parse(ontology_file, format=\"turtle\")\n",
    "hto = Namespace(\"https://w3id.org/hto#\")"
   ],
   "metadata": {
    "collapsed": false
   }
  },
  {
   "cell_type": "code",
   "execution_count": 60,
   "outputs": [
    {
     "data": {
      "text/plain": "2779538"
     },
     "execution_count": 60,
     "metadata": {},
     "output_type": "execute_result"
    }
   ],
   "source": [
    "len(graph)"
   ],
   "metadata": {
    "collapsed": false
   }
  },
  {
   "cell_type": "code",
   "execution_count": 61,
   "outputs": [
    {
     "data": {
      "text/plain": "<Graph identifier=N4ae0ed11ad05435b955f2327b8ff9051 (<class 'rdflib.graph.Graph'>)>"
     },
     "execution_count": 61,
     "metadata": {},
     "output_type": "execute_result"
    }
   ],
   "source": [
    "from rdflib import RDF\n",
    "Neuspell = URIRef(\"https://github.com/neuspell/neuspell\")\n",
    "graph.add((Neuspell, RDF.type, hto.SoftwareAgent))"
   ],
   "metadata": {
    "collapsed": false
   }
  },
  {
   "cell_type": "code",
   "execution_count": 26,
   "outputs": [],
   "source": [
    "from rdflib import RDF, Literal, XSD, PROV\n",
    "def add_definition_and_source_to_graph(clean_definitions):\n",
    "    for clean_definition in clean_definitions:\n",
    "        uri = clean_definition[\"uri\"]\n",
    "        definition = clean_definition[\"definition\"]\n",
    "        term_uri_ref = URIRef(uri)\n",
    "        definition_uri_ref = URIRef(uri + \"Neuspell\")\n",
    "        graph.add((definition_uri_ref, RDF.type, hto.OriginalDescription))\n",
    "        graph.add((definition_uri_ref, hto.hasTextQuality, hto.Moderate))\n",
    "        graph.add((definition_uri_ref, hto.text, Literal(definition, datatype=XSD.string)))\n",
    "        graph.add((definition_uri_ref, PROV.wasAttributedTo, Neuspell))\n",
    "        graph.add((term_uri_ref, hto.hasOriginalDescription, definition_uri_ref))\n",
    "        nls_definition_uri_ref = URIRef(uri + \"NLS\")\n",
    "        graph.add((definition_uri_ref, PROV.wasDerivedFrom, nls_definition_uri_ref))\n"
   ],
   "metadata": {
    "collapsed": false
   }
  },
  {
   "cell_type": "code",
   "execution_count": 62,
   "outputs": [],
   "source": [
    "add_definition_and_source_to_graph(clean_definitions)"
   ],
   "metadata": {
    "collapsed": false
   }
  },
  {
   "cell_type": "code",
   "execution_count": 76,
   "outputs": [
    {
     "name": "stdout",
     "output_type": "stream",
     "text": [
      "AB http://www.w3.org/1999/02/22-rdf-syntax-ns#type https://w3id.org/hto#OriginalDescription\n",
      "AB http://www.w3.org/ns/prov#wasAttributedTo https://github.com/defoe-code/defoe\n",
      "AB https://w3id.org/hto#hasTextQuality https://w3id.org/hto#Low\n",
      "AB https://w3id.org/hto#text the eleventh month of the civil year of the Hebrews, and the fifth of their ecclesiastical year, which begins with the month Nifan. It answers to the moon of July; that is, to part of our month of the same name, and to the beginning of August : it consists of thirty days. The Jews faff on the first of this month, in memory of Aaron’s death; and on the ninth, because on that day both the temple of Solomon, and that erefted after the captivity, were burnt; the former by the Chaldeans, and the latter by the Romans. The same day is also remarkable among that people for the publication of Adrian’s edift, wherein they were forbid to continue in Judea, or even to lookback when at a distance from Jerusalem in order to lament the desolation of that city. The 18th of the same month is also a fast among the Jews ; because the lamp in the sanctuary was that night extinguiftied, in the time of Ahaz.\n",
      "AB https://w3id.org/hto#wasExtractedFrom https://w3id.org/hto/InformationResource/144850370_alto_188386629_34_xml\n",
      "AB http://www.w3.org/1999/02/22-rdf-syntax-ns#type https://w3id.org/hto#OriginalDescription\n",
      "AB https://w3id.org/hto#hasTextQuality https://w3id.org/hto#Moderate\n",
      "AB https://w3id.org/hto#text the eleventh month of the civil year of the Hebrews, and the fifth of their ecclesiastical year, which begins with the month Nations. It answers to the moon of July; that is, to part of our month of the same name, and to the beginning of August: it consists of thirty days. The Jews face on the first of this month, in memory of Aaron its death; and on the ninth, because on that day both the temple of Solomon, and that erected after the captivity, were burnt; the former by the Chaldeans, and the latter by the Romans. The same day is also remarkable among the people for the publication of Adrian is left, where they were forbid to continue in Judea, or even to lookback when at a distance from Jerusalem in order to lament the desolation of that city. The 18th of the same month is also a fast among the Jews; because the lamp in the sanctuary was that night extinguiftied, in the time of Ahaz.\n",
      "AB http://www.w3.org/ns/prov#wasAttributedTo https://github.com/neuspell/neuspell\n",
      "AB http://www.w3.org/ns/prov#wasDerivedFrom https://w3id.org/hto/ArticleTermRecord/997902523804341_144850370_9798985120_0NLS\n"
     ]
    }
   ],
   "source": [
    "from rdflib.plugins.sparql import prepareQuery\n",
    "# term_uri = \"<https://w3id.org/hto/ArticleTermRecord/997902523804341_144850370_6414251593_0>\"\n",
    "term_uri = \"<https://w3id.org/hto/ArticleTermRecord/997902523804341_144850370_9798985120_0>\"\n",
    "q1 = prepareQuery('''\n",
    "    SELECT * WHERE {\n",
    "        %s hto:hasOriginalDescription ?desc;\n",
    "            hto:name ?name.\n",
    "        ?desc hto:text ?text;\n",
    "            ?pre ?obj.\n",
    "}\n",
    "  ''' % term_uri,\n",
    "  initNs = { \"hto\": hto}\n",
    ")\n",
    "\n",
    "for r in graph.query(q1):\n",
    "      print(\"%s %s %s\" % (r.name, r.pre, r.obj))"
   ],
   "metadata": {
    "collapsed": false
   }
  },
  {
   "cell_type": "code",
   "execution_count": 77,
   "outputs": [
    {
     "data": {
      "text/plain": "<Graph identifier=N4ae0ed11ad05435b955f2327b8ff9051 (<class 'rdflib.graph.Graph'>)>"
     },
     "execution_count": 77,
     "metadata": {},
     "output_type": "execute_result"
    }
   ],
   "source": [
    "graph.serialize(format=\"turtle\", destination=\"../../results/hto_eb_total_elmo2.ttl\")"
   ],
   "metadata": {
    "collapsed": false
   }
  }
 ],
 "metadata": {
  "kernelspec": {
   "display_name": "Python 3",
   "language": "python",
   "name": "python3"
  },
  "language_info": {
   "codemirror_mode": {
    "name": "ipython",
    "version": 2
   },
   "file_extension": ".py",
   "mimetype": "text/x-python",
   "name": "python",
   "nbconvert_exporter": "python",
   "pygments_lexer": "ipython2",
   "version": "2.7.6"
  }
 },
 "nbformat": 4,
 "nbformat_minor": 0
}
