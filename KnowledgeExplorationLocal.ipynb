{
 "cells": [
  {
   "cell_type": "markdown",
   "source": [
    "# Knowledge Exploration With SPARQL queries\n",
    "This notebook explores the knowledge in knowledge graphs generated in this repository using sparql queries. Note that, this notebook are **only designed to test or explore sample knowledge graphs** as loading large graph here can be time-consuming!\n",
    "Overall, we will parse an RDF source to a Graph using rdflib, and explore the knowledge by querying the graph.\n",
    "\n",
    "Questions this knowledge graph should answer:\n",
    "1. List all digitalised collections in this graph.\n",
    "2. What volumes, editions, or series does a digitalised collection _C_ include?\n",
    "3. What time period does a digitalised collection _C_ cover?\n",
    "4. When was edition _E_, series _S_, or volume _V_ published?\n",
    "5. Who published edition _E_, series _S_, or volume _V_?\n",
    "6. Who edited edition _E_, series _S_, or volume _V_?\n",
    "7. Which genre does an edition _E_, series _S_, or volume _V_ belongs to?\n",
    "8. Where was an edition _E_, series _S_, or volume _V_ published or printed?\n",
    "9. Which language did an edition _E_, series _S_, or volume _V_ use?\n",
    "10. In EB, what articles a volume _V_ include?\n",
    "11. Where an EB article _A_ was described (in a page, volume, edition)?\n",
    "12. What are EB articles related to another EB article _T_?\n",
    "13. What are EB articles which has similar description to _T_?\n",
    "14. How a term with name _T_ was described in all editions?\n",
    "15. What is the text in a page?\n",
    "16. What sources the text descriptions of article _T_ or a page _P_ are extracted from?\n",
    "17. What is the high description of term _T_?\n",
    "18. What are the descriptions of term _T_ with the highest text quality?\n",
    "19. What software was used to extract the description of article _T_ or a page _P_?\n",
    "20. What software was used to digitise a document?\n",
    "21. What is the primary name and alternative names of an article T\n",
    "22. List all articles which have more than one name\n",
    "23. List editions which was revision of another edition\n",
    "24. Find the summary of the description of a topic article _A_\n",
    "25. List all records for a concept\n",
    "26. Given a description uri, track the source\n"
   ],
   "metadata": {
    "collapsed": false
   }
  },
  {
   "cell_type": "markdown",
   "source": [
    "## Load the graph"
   ],
   "metadata": {
    "collapsed": false
   }
  },
  {
   "cell_type": "code",
   "source": [
    "from rdflib import Graph, URIRef, Namespace\n",
    "\n",
    "# Create a new RDFLib Graph\n",
    "graph = Graph()\n",
    "\n",
    "# Load the rdf file into the graph\n",
    "ontology_file = \"results/hto_eb.ttl\"\n",
    "graph.parse(ontology_file, format=\"turtle\")\n",
    "hto = Namespace(\"https://w3id.org/hto#\")"
   ],
   "metadata": {
    "collapsed": false,
    "ExecuteTime": {
     "end_time": "2024-11-04T00:14:40.267581Z",
     "start_time": "2024-11-04T00:10:04.940772Z"
    }
   },
   "outputs": [],
   "execution_count": 1
  },
  {
   "cell_type": "code",
   "source": [
    "# Print the number of \"triples\" in the Graph\n",
    "print(f\"Graph g has {len(graph)} statements.\")"
   ],
   "metadata": {
    "collapsed": false,
    "ExecuteTime": {
     "end_time": "2024-11-04T00:14:49.225428Z",
     "start_time": "2024-11-04T00:14:49.220413Z"
    }
   },
   "outputs": [
    {
     "name": "stdout",
     "output_type": "stream",
     "text": [
      "Graph g has 4150776 statements.\n"
     ]
    }
   ],
   "execution_count": 2
  },
  {
   "cell_type": "markdown",
   "source": [
    "## Query the graph\n",
    "\n",
    "### Question 1: List all digital collections"
   ],
   "metadata": {
    "collapsed": false
   }
  },
  {
   "cell_type": "code",
   "source": [
    "from rdflib.plugins.sparql import prepareQuery\n",
    "query = prepareQuery('''\n",
    "    PREFIX hto: <https://w3id.org/hto#>\n",
    "    SELECT ?collection ?name WHERE {\n",
    "        ?collection a hto:WorkCollection;\n",
    "            hto:name ?name.\n",
    "        FILTER (regex(?name, \"Collection$\", \"i\"))\n",
    "        }\n",
    "  '''\n",
    ")\n",
    "\n",
    "for r in graph.query(query):\n",
    "      print(\"%s %s\" % (r.collection, r.name))"
   ],
   "metadata": {
    "collapsed": false,
    "ExecuteTime": {
     "end_time": "2024-11-04T00:17:12.364736Z",
     "start_time": "2024-11-04T00:17:11.692122Z"
    }
   },
   "outputs": [
    {
     "name": "stdout",
     "output_type": "stream",
     "text": [
      "https://w3id.org/hto/WorkCollection/EncyclopaediaBritannica Encyclopaedia Britannica Collection\n"
     ]
    }
   ],
   "execution_count": 6
  },
  {
   "cell_type": "markdown",
   "source": [
    "### Question 2: What volumes, editions, or series does a digitalised collection _C_ include?"
   ],
   "metadata": {
    "collapsed": false
   }
  },
  {
   "cell_type": "code",
   "source": [
    "## List all editions of Encyclopaedia Britannica collection\n",
    "eb_collection = \"<https://w3id.org/hto/WorkCollection/EncyclopaediaBritannica>\"\n",
    "\n",
    "query = prepareQuery(\"\"\"\n",
    "    PREFIX hto: <https://w3id.org/hto#>\n",
    "    SELECT * WHERE {\n",
    "        %s  a hto:WorkCollection;\n",
    "            hto:hadMember ?edition.\n",
    "        ?edition a hto:Edition;\n",
    "            hto:mmsid ?mmsid;\n",
    "            hto:title ?title.\n",
    "        OPTIONAL {\n",
    "            ?edition hto:subtitle ?subtitle;\n",
    "        }\n",
    "        OPTIONAL {\n",
    "            ?edition hto:number ?number.\n",
    "        }\n",
    "} ORDER BY ?number\n",
    "    \"\"\" % eb_collection\n",
    ")\n",
    "\n",
    "try:\n",
    "    for r in graph.query(query):\n",
    "        subtitle = r[\"subtitle\"]\n",
    "        number = r[\"number\"]\n",
    "        print(\"Edition uri: %s | MMSID: %s | title: %s | subtitle: %s | number: %s\" % (r[\"edition\"], r[\"mmsid\"], r[\"title\"], subtitle,  number))\n",
    "except Exception as e:\n",
    "    print(e)"
   ],
   "metadata": {
    "collapsed": false,
    "ExecuteTime": {
     "end_time": "2024-11-04T00:28:10.632998Z",
     "start_time": "2024-11-04T00:28:10.613897Z"
    }
   },
   "outputs": [
    {
     "name": "stdout",
     "output_type": "stream",
     "text": [
      "Edition uri: https://w3id.org/hto/Edition/9910796343804340 | MMSID: 9910796343804340 | title: Supplement to the third edition of the Encyclopaedia Britannica ... Illustrated with ... copperplates | subtitle: None | number: None\n",
      "Edition uri: https://w3id.org/hto/Edition/9910796373804340 | MMSID: 9910796373804340 | title: Supplement to the fourth, fifth and sixth editions of the Encyclopaedia Britannica | subtitle: None | number: None\n",
      "Edition uri: https://w3id.org/hto/Edition/9929192893804340 | MMSID: 9929192893804340 | title: Encyclopaedia Britannica: or, A dictionary of arts and sciences | subtitle: compiled upon a new plan. In which the different sciences and arts are digested into distinct treatises or systems; and the various technical terms, &c. are explained as they occur in the order of the alphabet. Illustrated with one hundred and sixty copperplates | number: 1\n",
      "Edition uri: https://w3id.org/hto/Edition/992277653804341 | MMSID: 992277653804341 | title: Encyclopaedia Britannica; or, A dictionary of arts and sciences, compiled upon a new plan | subtitle: Illustrated with one hundred and sixty copperplates | number: 1\n",
      "Edition uri: https://w3id.org/hto/Edition/997902523804341 | MMSID: 997902523804341 | title: Encyclopaedia Britannica | subtitle: or, a dictionary of arts, sciences, &c. On a plan entirely new: ... The second edition; greatly improved and enlarged. Illustrated with above two hundred copperplates | number: 2\n",
      "Edition uri: https://w3id.org/hto/Edition/997902543804341 | MMSID: 997902543804341 | title: Encyclopaedia Britannica | subtitle: or, a dictionary of arts, sciences, and miscellaneous literature; ... The third edition, in eighteen volumes, greatly improved. Illustrated with five hundred and forty-two copperplates | number: 3\n",
      "Edition uri: https://w3id.org/hto/Edition/9910796233804340 | MMSID: 9910796233804340 | title: Encyclopaedia Britannica; or, A dictionary of arts, sciences, and miscellaneous literature | subtitle: None | number: 4\n",
      "Edition uri: https://w3id.org/hto/Edition/9922270543804340 | MMSID: 9922270543804340 | title: Encyclopaedia Britannica, or, a Dictionary of arts, sciences, and miscellaneous literature : enlarged and improved. Illustrated with nearly six hundred engravings | subtitle: None | number: 5\n",
      "Edition uri: https://w3id.org/hto/Edition/9910796253804340 | MMSID: 9910796253804340 | title: Encyclopaedia Britannica | subtitle: None | number: 6\n",
      "Edition uri: https://w3id.org/hto/Edition/9910796273804340 | MMSID: 9910796273804340 | title: Encyclopaedia Britannica | subtitle: None | number: 7\n",
      "Edition uri: https://w3id.org/hto/Edition/9929777383804340 | MMSID: 9929777383804340 | title: Encyclopaedia Britannica | subtitle: None | number: 8\n"
     ]
    }
   ],
   "execution_count": 18
  },
  {
   "cell_type": "code",
   "source": [
    "## List all volumes in Encyclopaedia Britannica 7th Edition\n",
    "eb_edition7_uri = \"<https://w3id.org/hto/Edition/9910796273804340>\"\n",
    "\n",
    "query = prepareQuery(\"\"\"\n",
    "     PREFIX hto: <https://w3id.org/hto#>\n",
    "     SELECT * WHERE {\n",
    "        %s  a hto:Edition;\n",
    "            hto:hadMember ?volume.\n",
    "        ?volume a hto:Volume;\n",
    "            hto:title ?title;\n",
    "            hto:number ?number;\n",
    "            hto:volumeId ?volumeId;\n",
    "            hto:permanentURL ?permanentURL.\n",
    "        OPTIONAL {\n",
    "            ?volume hto:letters ?letters;\n",
    "        }\n",
    "    } ORDER BY ?number\n",
    "    \"\"\" % eb_edition7_uri\n",
    ")\n",
    "\n",
    "try:\n",
    "    for r in graph.query(query):\n",
    "        letters = r[\"letters\"]\n",
    "        print(\"Volume uri: %s | title: %s | number: %s | id: %s |  permanent url: %s | letters: %s\" % (r[\"volume\"], r[\"title\"] ,r[\"number\"], r[\"volumeId\"], r[\"permanentURL\"], letters))\n",
    "except Exception as e:\n",
    "    print(e)"
   ],
   "metadata": {
    "collapsed": false,
    "ExecuteTime": {
     "end_time": "2024-11-04T00:28:57.643755Z",
     "start_time": "2024-11-04T00:28:57.618415Z"
    }
   },
   "outputs": [
    {
     "name": "stdout",
     "output_type": "stream",
     "text": [
      "Volume uri: https://w3id.org/hto/Volume/9910796273804340_192547789 | title: Seventh edition, General index | number: 0 | id: 192547789 |  permanent url: https://digital.nls.uk/192547789 | letters: None\n",
      "Volume uri: https://w3id.org/hto/Volume/9910796273804340_192984258 | title: Seventh edition, Volume 1, Preliminary dissertations | number: 1 | id: 192984258 |  permanent url: https://digital.nls.uk/192984258 | letters: Preliminarydissertations\n",
      "Volume uri: https://w3id.org/hto/Volume/9910796273804340_192984259 | title: Seventh edition, Volume 2, A-Anatomy | number: 2 | id: 192984259 |  permanent url: https://digital.nls.uk/192984259 | letters: A-Anatomy\n",
      "Volume uri: https://w3id.org/hto/Volume/9910796273804340_193057500 | title: Seventh edition, Volume 3, Anatomy-Astronomy | number: 3 | id: 193057500 |  permanent url: https://digital.nls.uk/193057500 | letters: Anatomy-Astronomy\n",
      "Volume uri: https://w3id.org/hto/Volume/9910796273804340_193108322 | title: Seventh edition, Volume 4, Astronomy-BOR | number: 4 | id: 193108322 |  permanent url: https://digital.nls.uk/193108322 | letters: Astronomy-BOR\n",
      "Volume uri: https://w3id.org/hto/Volume/9910796273804340_193696083 | title: Seventh edition, Volume 5, BOR-CAL | number: 5 | id: 193696083 |  permanent url: https://digital.nls.uk/193696083 | letters: BOR-CAL\n",
      "Volume uri: https://w3id.org/hto/Volume/9910796273804340_193322690 | title: Seventh edition, Volume 6, CAL-Clock | number: 6 | id: 193322690 |  permanent url: https://digital.nls.uk/193322690 | letters: CAL-Clock\n",
      "Volume uri: https://w3id.org/hto/Volume/9910796273804340_193819043 | title: Seventh edition, Volume 7, CLO-Dialling | number: 7 | id: 193819043 |  permanent url: https://digital.nls.uk/193819043 | letters: CLO-Dialling\n",
      "Volume uri: https://w3id.org/hto/Volume/9910796273804340_193322688 | title: Seventh edition, Volume 8, DIA-England | number: 8 | id: 193322688 |  permanent url: https://digital.nls.uk/193322688 | letters: DIA-England\n",
      "Volume uri: https://w3id.org/hto/Volume/9910796273804340_193696084 | title: Seventh edition, Volume 9, England-FRA | number: 9 | id: 193696084 |  permanent url: https://digital.nls.uk/193696084 | letters: England-FRA\n",
      "Volume uri: https://w3id.org/hto/Volume/9910796273804340_193469090 | title: Seventh edition, Volume 10, France-GRO | number: 10 | id: 193469090 |  permanent url: https://digital.nls.uk/193469090 | letters: France-GRO\n",
      "Volume uri: https://w3id.org/hto/Volume/9910796273804340_193638940 | title: Seventh edition, Volume 11, Grotius-HYD | number: 11 | id: 193638940 |  permanent url: https://digital.nls.uk/193638940 | letters: Grotius-HYD\n",
      "Volume uri: https://w3id.org/hto/Volume/9910796273804340_192693199 | title: Seventh edition, Volume 12, Hydrodynamics-KYR | number: 12 | id: 192693199 |  permanent url: https://digital.nls.uk/192693199 | letters: Hydrodynamics-KYR\n",
      "Volume uri: https://w3id.org/hto/Volume/9910796273804340_193108323 | title: Seventh edition, Volume 13, LAB-Magnetism | number: 13 | id: 193108323 |  permanent url: https://digital.nls.uk/193108323 | letters: LAB-Magnetism\n",
      "Volume uri: https://w3id.org/hto/Volume/9910796273804340_193322689 | title: Seventh edition, Volume 14, Magnetism-Mexico | number: 14 | id: 193322689 |  permanent url: https://digital.nls.uk/193322689 | letters: Magnetism-Mexico\n",
      "Volume uri: https://w3id.org/hto/Volume/9910796273804340_193819044 | title: Seventh edition, Volume 15, MEY-Navigation | number: 15 | id: 193819044 |  permanent url: https://digital.nls.uk/193819044 | letters: MEY-Navigation\n",
      "Volume uri: https://w3id.org/hto/Volume/9910796273804340_194474782 | title: Seventh edition, Volume 16, Navigation-PAN | number: 16 | id: 194474782 |  permanent url: https://digital.nls.uk/194474782 | letters: Navigation-PAN\n",
      "Volume uri: https://w3id.org/hto/Volume/9910796273804340_193469091 | title: Seventh edition, Volume 17, PAN-Plastic nature | number: 17 | id: 193469091 |  permanent url: https://digital.nls.uk/193469091 | letters: PAN-Plasticnature\n",
      "Volume uri: https://w3id.org/hto/Volume/9910796273804340_193469092 | title: Seventh edition, Volume 18, PLA-QUI | number: 18 | id: 193469092 |  permanent url: https://digital.nls.uk/193469092 | letters: PLA-QUI\n",
      "Volume uri: https://w3id.org/hto/Volume/9910796273804340_193057501 | title: Seventh edition, Volume 19, RAB-SCU | number: 19 | id: 193057501 |  permanent url: https://digital.nls.uk/193057501 | letters: RAB-SCU\n",
      "Volume uri: https://w3id.org/hto/Volume/9910796273804340_193913444 | title: Seventh edition, Volume 20, Sculpture-SUR | number: 20 | id: 193913444 |  permanent url: https://digital.nls.uk/193913444 | letters: Sculpture-SUR\n",
      "Volume uri: https://w3id.org/hto/Volume/9910796273804340_193819045 | title: Seventh edition, Volume 21, Surveying-ZYM | number: 21 | id: 193819045 |  permanent url: https://digital.nls.uk/193819045 | letters: Surveying-ZYM\n"
     ]
    }
   ],
   "execution_count": 19
  },
  {
   "cell_type": "markdown",
   "source": [
    "### Question 3: What time period does a digitalised collection _C_ cover? (next version)"
   ],
   "metadata": {
    "collapsed": false
   }
  },
  {
   "metadata": {
    "ExecuteTime": {
     "end_time": "2024-11-04T00:21:21.841680Z",
     "start_time": "2024-11-04T00:21:21.831945Z"
    }
   },
   "cell_type": "code",
   "source": [
    "# At current version, this can be done check the publication years of a collection.\n",
    "# For example, the publication year of each edition for EB collection.\n",
    "eb_collection_uri = \"<https://w3id.org/hto/WorkCollection/EncyclopaediaBritannica>\"\n",
    "query = prepareQuery(\"\"\"\n",
    "     PREFIX hto: <https://w3id.org/hto#>\n",
    "     SELECT * WHERE {\n",
    "        %s hto:hadMember ?edition.\n",
    "        ?edition hto:yearPublished ?yearPublished.\n",
    "    }\n",
    "    \"\"\" % eb_collection_uri\n",
    ")\n",
    "\n",
    "try:\n",
    "    years = []\n",
    "    for r in graph.query(query):\n",
    "            years.append(int(r[\"yearPublished\"]))\n",
    "    years.sort()\n",
    "    print(years)\n",
    "except Exception as e:\n",
    "    print(e)"
   ],
   "outputs": [
    {
     "name": "stdout",
     "output_type": "stream",
     "text": [
      "[1771, 1773, 1778, 1797, 1801, 1810, 1815, 1823, 1824, 1842, 1853]\n"
     ]
    }
   ],
   "execution_count": 11
  },
  {
   "cell_type": "code",
   "execution_count": 33,
   "outputs": [],
   "source": "# TODO Get time period which a digitalised collection _C_ cover through direct link to the collection (next version)",
   "metadata": {
    "collapsed": false
   }
  },
  {
   "cell_type": "markdown",
   "source": [
    "### Question 4: When was edition _E_, series _S_, or volume _V_ published?"
   ],
   "metadata": {
    "collapsed": false
   }
  },
  {
   "cell_type": "code",
   "source": [
    "eb_edition7_uri = \"<https://w3id.org/hto/Edition/9910796273804340>\"\n",
    "\n",
    "query = prepareQuery(\"\"\"\n",
    "     PREFIX hto: <https://w3id.org/hto#>\n",
    "     SELECT * WHERE {\n",
    "        %s  a hto:Edition;\n",
    "            hto:mmsid ?mmsid;\n",
    "            hto:title ?title;\n",
    "            hto:number ?number;\n",
    "            hto:yearPublished ?year_published;\n",
    "    }\n",
    "    \"\"\" % eb_edition7_uri\n",
    ")\n",
    "\n",
    "try:\n",
    "    for r in graph.query(query):\n",
    "        print(\"MMSID: %s | title: %s |  number: %s | year published: %s \" % (r[\"mmsid\"], r[\"title\"] ,r[\"number\"], r[\"year_published\"]))\n",
    "except Exception as e:\n",
    "    print(e)\n"
   ],
   "metadata": {
    "collapsed": false,
    "ExecuteTime": {
     "end_time": "2024-11-04T00:22:30.522588Z",
     "start_time": "2024-11-04T00:22:30.513375Z"
    }
   },
   "outputs": [
    {
     "name": "stdout",
     "output_type": "stream",
     "text": [
      "MMSID: 9910796273804340 | title: Encyclopaedia Britannica |  number: 7 | year published: 1842 \n"
     ]
    }
   ],
   "execution_count": 12
  },
  {
   "cell_type": "markdown",
   "source": [
    "### Question 5: Who published edition _E_, series _S_, or volume _V_?"
   ],
   "metadata": {
    "collapsed": false
   }
  },
  {
   "cell_type": "code",
   "source": [
    "eb_edition7_uri = \"<https://w3id.org/hto/Edition/9910796273804340>\"\n",
    "\n",
    "query = prepareQuery(\"\"\"\n",
    "     PREFIX hto: <https://w3id.org/hto#>\n",
    "     PREFIX foaf: <http://xmlns.com/foaf/0.1/>\n",
    "     SELECT * WHERE {\n",
    "        %s  a hto:Edition;\n",
    "            hto:mmsid ?mmsid;\n",
    "            hto:title ?title;\n",
    "            hto:number ?number;\n",
    "            hto:yearPublished ?year_published.\n",
    "        OPTIONAL {\n",
    "            %s hto:publisher ?publisher.\n",
    "            ?publisher foaf:name ?publisher_name;\n",
    "        }\n",
    "    }\n",
    "    \"\"\" % (eb_edition7_uri, eb_edition7_uri)\n",
    ")\n",
    "\n",
    "try:\n",
    "    for r in graph.query(query):\n",
    "        publisher = r[\"publisher\"]\n",
    "        publisher_name = r[\"publisher_name\"]\n",
    "        print(\"MMSID: %s | title: %s | number: %s | year published: %s | | (publisher: %s | name: %s) \" % (r[\"mmsid\"], r[\"title\"] ,r[\"number\"], r[\"year_published\"], publisher, publisher_name))\n",
    "except Exception as e:\n",
    "    print(e)"
   ],
   "metadata": {
    "collapsed": false,
    "ExecuteTime": {
     "end_time": "2024-11-04T00:31:21.159372Z",
     "start_time": "2024-11-04T00:31:21.146501Z"
    }
   },
   "outputs": [
    {
     "name": "stdout",
     "output_type": "stream",
     "text": [
      "MMSID: 9910796273804340 | title: Encyclopaedia Britannica | number: 7 | year published: 1842 | | (publisher: None | name: None) \n"
     ]
    }
   ],
   "execution_count": 24
  },
  {
   "cell_type": "markdown",
   "source": [
    "### Question 6: Who edited edition _E_, series _S_, or volume _V_?"
   ],
   "metadata": {
    "collapsed": false
   }
  },
  {
   "cell_type": "code",
   "source": [
    "eb_edition7_uri = \"<https://w3id.org/hto/Edition/9910796273804340>\"\n",
    "\n",
    "query = prepareQuery(\"\"\"\n",
    "     PREFIX hto: <https://w3id.org/hto#>\n",
    "     PREFIX foaf: <http://xmlns.com/foaf/0.1/>\n",
    "     SELECT * WHERE {\n",
    "        %s  a hto:Edition;\n",
    "            hto:mmsid ?mmsid;\n",
    "            hto:title ?title;\n",
    "            hto:number ?number;\n",
    "            hto:yearPublished ?year_published.\n",
    "        OPTIONAL {\n",
    "            %s hto:editor ?editor.\n",
    "            ?editor a hto:Person;\n",
    "                foaf:name ?editor_name;\n",
    "            OPTIONAL {\n",
    "                ?editor hto:birthYear ?birthYear.\n",
    "            }\n",
    "            OPTIONAL {\n",
    "                ?editor hto:deathYear ?deathYear.\n",
    "            }\n",
    "            OPTIONAL {\n",
    "                ?editor hto:termsOfAddress ?termsOfAddress.\n",
    "            }\n",
    "        }\n",
    "}\n",
    "    \"\"\" % (eb_edition7_uri, eb_edition7_uri)\n",
    ")\n",
    "\n",
    "try:\n",
    "\n",
    "    for r in graph.query(query):\n",
    "        editor = r[\"editor\"]\n",
    "        editor_name = r[\"editor_name\"]\n",
    "        birthYear = r[\"birthYear\"]\n",
    "        deathYear = r[\"deathYear\"]\n",
    "        termsOfAddress = r[\"termsOfAddress\"]\n",
    "        print(\"MMSID: %s | title: %s | number: %s | year published: %s | (editor: %s | name: %s | terms of address: %s | %s-%s ) \" % (r[\"mmsid\"], r[\"title\"] ,r[\"number\"], r[\"year_published\"], editor, editor_name, termsOfAddress, birthYear, deathYear))\n",
    "except Exception as e:\n",
    "    print(e)"
   ],
   "metadata": {
    "collapsed": false,
    "ExecuteTime": {
     "end_time": "2024-11-04T00:31:51.265623Z",
     "start_time": "2024-11-04T00:31:51.243121Z"
    }
   },
   "outputs": [
    {
     "name": "stdout",
     "output_type": "stream",
     "text": [
      "MMSID: 9910796273804340 | title: Encyclopaedia Britannica | number: 7 | year published: 1842 | (editor: https://w3id.org/hto/Person/1436491835 | name: Stewart, Dugald | terms of address: Sir | 1753-1828 ) \n"
     ]
    }
   ],
   "execution_count": 25
  },
  {
   "cell_type": "markdown",
   "source": [
    "### Question 7: Which genre does a volume _V_ belongs to?"
   ],
   "metadata": {
    "collapsed": false
   }
  },
  {
   "cell_type": "code",
   "source": [
    "eb_edition7 = \"<https://w3id.org/hto/Edition/9910796273804340>\"\n",
    "\n",
    "query = prepareQuery(\"\"\"\n",
    "     PREFIX hto: <https://w3id.org/hto#>\n",
    "     SELECT * WHERE {\n",
    "        %s  a hto:Edition;\n",
    "            hto:mmsid ?mmsid;\n",
    "            hto:title ?title;\n",
    "            hto:number ?number;\n",
    "            hto:genre ?genre;\n",
    "    }\n",
    "    \"\"\" % eb_edition7\n",
    ")\n",
    "\n",
    "try:\n",
    "    for r in graph.query(query):\n",
    "        print(\"MMSID: %s | title: %s |  number: %s | genre: %s \" % (r[\"mmsid\"], r[\"title\"] ,r[\"number\"], r[\"genre\"]))\n",
    "except Exception as e:\n",
    "    print(e)"
   ],
   "metadata": {
    "collapsed": false,
    "ExecuteTime": {
     "end_time": "2024-11-04T00:32:49.882240Z",
     "start_time": "2024-11-04T00:32:49.873527Z"
    }
   },
   "outputs": [
    {
     "name": "stdout",
     "output_type": "stream",
     "text": [
      "MMSID: 9910796273804340 | title: Encyclopaedia Britannica |  number: 7 | genre: encyclopedia \n"
     ]
    }
   ],
   "execution_count": 26
  },
  {
   "cell_type": "markdown",
   "source": [
    "### Question 8: Where was a volume _V_ published or printed?"
   ],
   "metadata": {
    "collapsed": false
   }
  },
  {
   "cell_type": "code",
   "source": [
    "eb_edition7_uri = \"<https://w3id.org/hto/Edition/9910796273804340>\"\n",
    "\n",
    "query = prepareQuery(\"\"\"\n",
    "     PREFIX hto: <https://w3id.org/hto#>\n",
    "     PREFIX rdfs: <http://www.w3.org/2000/01/rdf-schema#>\n",
    "     SELECT * WHERE {\n",
    "        %s  a hto:Edition;\n",
    "            hto:mmsid ?mmsid;\n",
    "            hto:title ?title;\n",
    "            hto:number ?number;\n",
    "            hto:printedAt ?placePrinted_uri;\n",
    "            hto:shelfLocator ?shelfLocator_uri.\n",
    "        ?placePrinted_uri rdfs:label ?placePrinted.\n",
    "        ?shelfLocator_uri rdfs:label ?shelfLocator.\n",
    "    }\n",
    "    \"\"\" % eb_edition7_uri\n",
    ")\n",
    "\n",
    "try:\n",
    "    for r in graph.query(query):\n",
    "        print(\"MMSID: %s | title: %s |  number: %s | place printed: %s | shelf locator: %s \" % (r[\"mmsid\"], r[\"title\"] ,r[\"number\"], r[\"placePrinted\"], r[\"shelfLocator\"]))\n",
    "except Exception as e:\n",
    "    print(e)"
   ],
   "metadata": {
    "collapsed": false,
    "ExecuteTime": {
     "end_time": "2024-11-04T00:37:19.417507Z",
     "start_time": "2024-11-04T00:37:19.403490Z"
    }
   },
   "outputs": [
    {
     "name": "stdout",
     "output_type": "stream",
     "text": [
      "MMSID: 9910796273804340 | title: Encyclopaedia Britannica |  number: 7 | place printed: Edinburgh | shelf locator: EB.15 \n"
     ]
    }
   ],
   "execution_count": 27
  },
  {
   "cell_type": "markdown",
   "source": [
    "### Question 9: Which language does a volume _V_ use?"
   ],
   "metadata": {
    "collapsed": false
   }
  },
  {
   "cell_type": "code",
   "source": [
    "eb_edition7_uri = \"<https://w3id.org/hto/Edition/9910796273804340>\"\n",
    "query = prepareQuery(\"\"\"\n",
    "     PREFIX hto: <https://w3id.org/hto#>\n",
    "     SELECT * WHERE {\n",
    "        %s  a hto:Edition;\n",
    "            hto:mmsid ?mmsid;\n",
    "            hto:title ?title;\n",
    "            hto:number ?number;\n",
    "            hto:language ?language;\n",
    "}\n",
    "    \"\"\" % eb_edition7_uri\n",
    ")\n",
    "\n",
    "try:\n",
    "    for r in graph.query(query):\n",
    "        print(\"MMSID: %s | title: %s |  number: %s | language: %s\" % (r[\"mmsid\"], r[\"title\"],r[\"number\"], r[\"language\"]))\n",
    "except Exception as e:\n",
    "    print(e)"
   ],
   "metadata": {
    "collapsed": false,
    "ExecuteTime": {
     "end_time": "2024-11-04T00:43:28.570372Z",
     "start_time": "2024-11-04T00:43:28.561464Z"
    }
   },
   "outputs": [
    {
     "name": "stdout",
     "output_type": "stream",
     "text": [
      "MMSID: 9910796273804340 | title: Encyclopaedia Britannica |  number: 7 | language: eng\n"
     ]
    }
   ],
   "execution_count": 28
  },
  {
   "cell_type": "markdown",
   "source": [
    "### Question 10: In EB, what articles a volume _V_ include?"
   ],
   "metadata": {
    "collapsed": false
   }
  },
  {
   "cell_type": "code",
   "source": [
    "# List 20 articles in volume 2 of 7th edition.\n",
    "eb_edition7_volume2 = \"<https://w3id.org/hto/Volume/9910796273804340_192984259>\"\n",
    "\n",
    "query = prepareQuery(\"\"\"\n",
    "     PREFIX hto: <https://w3id.org/hto#>\n",
    "     SELECT * WHERE {\n",
    "        %s a hto:Volume;\n",
    "            hto:hadMember ?page.\n",
    "        ?termRecord a ?term_type;\n",
    "                hto:name ?name.\n",
    "        FILTER (?term_type = hto:ArticleTermRecord || ?term_type = hto:TopicTermRecord)\n",
    "    } LIMIT 20\n",
    "    \"\"\" % eb_edition7_volume2\n",
    ")\n",
    "\n",
    "try:\n",
    "    \n",
    "    for r in graph.query(query):\n",
    "        print(\"Term uri: %s, name: %s\" % (r[\"termRecord\"], r[\"name\"]))\n",
    "except Exception as e:\n",
    "    print(e)"
   ],
   "metadata": {
    "collapsed": false,
    "ExecuteTime": {
     "end_time": "2024-11-04T00:48:25.058884Z",
     "start_time": "2024-11-04T00:48:19.790931Z"
    }
   },
   "outputs": [
    {
     "name": "stdout",
     "output_type": "stream",
     "text": [
      "Term uri: https://w3id.org/hto/ArticleTermRecord/9910796233804340_191253819_1007164464_0, name: ALZIRA\n",
      "Term uri: https://w3id.org/hto/ArticleTermRecord/9910796233804340_191253819_1018837245_0, name: ALEURITES\n",
      "Term uri: https://w3id.org/hto/ArticleTermRecord/9910796233804340_191253819_102256234_0, name: ALTIN\n",
      "Term uri: https://w3id.org/hto/ArticleTermRecord/9910796233804340_191253819_102256234_1, name: ALTIN\n",
      "Term uri: https://w3id.org/hto/ArticleTermRecord/9910796233804340_191253819_103000667_0, name: ALAN\n",
      "Term uri: https://w3id.org/hto/ArticleTermRecord/9910796233804340_191253819_1033477591_0, name: ALGOL\n",
      "Term uri: https://w3id.org/hto/ArticleTermRecord/9910796233804340_191253819_1083154598_0, name: ALMEHRAB\n",
      "Term uri: https://w3id.org/hto/ArticleTermRecord/9910796233804340_191253819_1115449109_0, name: ALEXIS\n",
      "Term uri: https://w3id.org/hto/ArticleTermRecord/9910796233804340_191253819_1148828355_0, name: ALABARCHA\n",
      "Term uri: https://w3id.org/hto/ArticleTermRecord/9910796233804340_191253819_1177027914_0, name: ALLOPHYLLUS\n",
      "Term uri: https://w3id.org/hto/ArticleTermRecord/9910796233804340_191253819_119815541_0, name: AKISSAT\n",
      "Term uri: https://w3id.org/hto/ArticleTermRecord/9910796233804340_191253819_1204682170_0, name: AMBLYOPY\n",
      "Term uri: https://w3id.org/hto/ArticleTermRecord/9910796233804340_191253819_12218809_0, name: ALSINA\n",
      "Term uri: https://w3id.org/hto/ArticleTermRecord/9910796233804340_191253819_1241707054_0, name: ALBARII\n",
      "Term uri: https://w3id.org/hto/ArticleTermRecord/9910796233804340_191253819_1245382168_0, name: ALKADARII\n",
      "Term uri: https://w3id.org/hto/ArticleTermRecord/9910796233804340_191253819_1249268163_1, name: ALLEGRI\n",
      "Term uri: https://w3id.org/hto/ArticleTermRecord/9910796233804340_191253819_1253749493_0, name: AM\n",
      "Term uri: https://w3id.org/hto/ArticleTermRecord/9910796233804340_191253819_1253749493_1, name: AM\n",
      "Term uri: https://w3id.org/hto/ArticleTermRecord/9910796233804340_191253819_1253749493_2, name: AM\n",
      "Term uri: https://w3id.org/hto/ArticleTermRecord/9910796233804340_191253819_1253749493_3, name: AM\n"
     ]
    }
   ],
   "execution_count": 36
  },
  {
   "cell_type": "markdown",
   "source": [
    "### Question 11: Where an EB article _A_ was described (in a page, volume, edition)?"
   ],
   "metadata": {
    "collapsed": false
   }
  },
  {
   "cell_type": "code",
   "source": [
    "# Show which page an article starts at, which volume and edition, collection, this article was described\n",
    "article_uri = \"<https://w3id.org/hto/ArticleTermRecord/9910796233804340_193108317_6364534740_0>\"\n",
    "\n",
    "query = prepareQuery(\"\"\"\n",
    "     PREFIX hto: <https://w3id.org/hto#>\n",
    "     SELECT * WHERE {\n",
    "        %s a hto:ArticleTermRecord;\n",
    "            hto:name ?term_name;\n",
    "            hto:startsAtPage ?page.\n",
    "        ?volume a hto:Volume;\n",
    "                hto:hadMember ?page.\n",
    "        ?edition hto:hadMember ?volume.\n",
    "        ?collection hto:hadMember ?edition.\n",
    "    } \n",
    "    \"\"\" % article_uri\n",
    ")\n",
    "\n",
    "try:\n",
    "    for r in graph.query(query):\n",
    "        print(\"term name: %s | starts at page: %s | volume: %s | edition %s | collection: %s\" % (r[\"term_name\"], r[\"page\"], r[\"volume\"], r[\"edition\"], r[\"collection\"]))\n",
    "except Exception as e:\n",
    "    print(e)"
   ],
   "metadata": {
    "collapsed": false,
    "ExecuteTime": {
     "end_time": "2024-11-04T01:15:13.330447Z",
     "start_time": "2024-11-04T01:15:13.306493Z"
    }
   },
   "outputs": [
    {
     "name": "stdout",
     "output_type": "stream",
     "text": [
      "term name: SUGAR | starts at page: https://w3id.org/hto/Page/9910796233804340_193108317_435 | volume: https://w3id.org/hto/Volume/9910796233804340_193108316 | edition https://w3id.org/hto/Edition/9910796233804340 | collection: https://w3id.org/hto/WorkCollection/EncyclopaediaBritannica\n"
     ]
    }
   ],
   "execution_count": 53
  },
  {
   "cell_type": "markdown",
   "source": "### Question 12: What are EB articles related to another EB article _T_?",
   "metadata": {
    "collapsed": false
   }
  },
  {
   "cell_type": "code",
   "source": [
    "article_sugar = \"<https://w3id.org/hto/ArticleTermRecord/992277653804341_144133903_6364534740_0>\"\n",
    "\n",
    "query = prepareQuery(\"\"\"\n",
    "     PREFIX hto: <https://w3id.org/hto#>\n",
    "     SELECT * WHERE {\n",
    "        %s a hto:ArticleTermRecord;\n",
    "            hto:name ?name;\n",
    "        OPTIONAL {\n",
    "            %s hto:refersTo ?see_term.\n",
    "            ?see_term a ?term_type;\n",
    "                hto:name ?see_term_name\n",
    "            FILTER (?term_type = hto:ArticleTermRecord || ?term_type = hto:TopicTermRecord)\n",
    "        }\n",
    "    }\n",
    "    \"\"\" % (article_sugar, article_sugar)\n",
    ")\n",
    "\n",
    "try:\n",
    "    for r in graph.query(query):\n",
    "        refersTo = r[\"see_term\"]\n",
    "        print(\"term: %s %s | see also term: %s %s\" % (article_sugar, r[\"name\"], refersTo, r[\"see_term_name\"]))\n",
    "except Exception as e:\n",
    "    print(e)"
   ],
   "metadata": {
    "collapsed": false,
    "ExecuteTime": {
     "end_time": "2024-11-04T01:17:18.436776Z",
     "start_time": "2024-11-04T01:17:18.416773Z"
    }
   },
   "outputs": [
    {
     "name": "stdout",
     "output_type": "stream",
     "text": [
      "term: <https://w3id.org/hto/ArticleTermRecord/992277653804341_144133903_6364534740_0> SUGAR | see also term: https://w3id.org/hto/ArticleTermRecord/992277653804341_144133903_790527472_0 SACCHARUM\n"
     ]
    }
   ],
   "execution_count": 54
  },
  {
   "metadata": {},
   "cell_type": "markdown",
   "source": "### Question 13: What are EB articles which has similar description to _T_?"
  },
  {
   "metadata": {
    "ExecuteTime": {
     "end_time": "2024-11-04T01:18:35.710511Z",
     "start_time": "2024-11-04T01:18:35.699823Z"
    }
   },
   "cell_type": "code",
   "source": [
    "# In current version of KGs,the similar terms are not linked as they can be queried through elastic search service. So example below will print nothing\n",
    "article_sugar = \"<https://w3id.org/hto/ArticleTermRecord/992277653804341_144133903_6364534740_0>\"\n",
    "\n",
    "query = prepareQuery(\"\"\"\n",
    "     PREFIX hto: <https://w3id.org/hto#>\n",
    "     SELECT * WHERE {\n",
    "        %s a hto:TermRecord;\n",
    "            hto:name ?name.\n",
    "        OPTIONAL {\n",
    "            %s hto:similarTo ?similar_term.\n",
    "            ?similar_term a hto:TermRecord.\n",
    "        }\n",
    "    }\n",
    "    \"\"\" % (article_sugar, article_sugar)\n",
    ")\n",
    "\n",
    "try:\n",
    "    for r in graph.query(query):\n",
    "        similar_term = r[\"similar_term\"]\n",
    "        print(\"term: %s | similar term: %s\" % (r[\"name\"], similar_term))\n",
    "except Exception as e:\n",
    "    print(e)"
   ],
   "outputs": [],
   "execution_count": 55
  },
  {
   "cell_type": "markdown",
   "source": "### Question 14: How a term with name _T_ was described in all editions?",
   "metadata": {
    "collapsed": false
   }
  },
  {
   "cell_type": "code",
   "source": [
    "term_name = \"'EARTH'\"\n",
    "# TODO: fix bug: literal value in RDFlib query does not work\n",
    "\n",
    "query = prepareQuery(\"\"\"\n",
    "     PREFIX hto: <https://w3id.org/hto#>\n",
    "     SELECT * WHERE {\n",
    "        ?term a hto:ArticleTermRecord;\n",
    "            hto:name %s;\n",
    "            hto:startsAtPage ?page;\n",
    "            hto:hasOriginalDescription ?desc.\n",
    "        ?desc hto:text ?content.\n",
    "        ?vol hto:hadMember ?page.\n",
    "        ?edition a hto:Edition;\n",
    "            hto:hadMember ?vol;\n",
    "            hto:title ?title.\n",
    "        OPTIONAL {\n",
    "            ?edition hto:number ?number.\n",
    "        }\n",
    "    } ORDER BY ?number\n",
    "    \"\"\" % term_name\n",
    ")\n",
    "\n",
    "try:\n",
    "    for r in graph.query(query):\n",
    "        edition_number = r[\"number\"]\n",
    "        print(\"term uri: %s | description: %s |  edition: %s | edition title: %s | edition number: %s\" % (r[\"term\"], r[\"content\"], r[\"edition\"], r[\"title\"], edition_number))\n",
    "except Exception as e:\n",
    "    print(e)"
   ],
   "metadata": {
    "collapsed": false,
    "ExecuteTime": {
     "end_time": "2024-11-04T01:27:55.047987Z",
     "start_time": "2024-11-04T01:27:55.029601Z"
    }
   },
   "outputs": [],
   "execution_count": 64
  },
  {
   "cell_type": "markdown",
   "source": "### Question 15: What is the text in a page?",
   "metadata": {
    "collapsed": false
   }
  },
  {
   "cell_type": "code",
   "source": [
    "# check the text of a page from Chapbooks collection\n",
    "query = prepareQuery(\"\"\"\n",
    "     PREFIX hto: <https://w3id.org/hto#>\n",
    "     SELECT * WHERE {\n",
    "        ?page a hto:Page;\n",
    "            hto:hasOriginalDescription ?desc.\n",
    "        ?desc hto:text ?text;\n",
    "            hto:hasTextQuality ?textQuality.\n",
    "    }\n",
    "    LIMIT 5\n",
    "    \"\"\"\n",
    ")\n",
    "\n",
    "try:\n",
    "    for r in graph.query(query):\n",
    "        print(\"page uri: %s | content: %s | quality: %s\" % (r[\"page\"], r[\"text\"], r[\"textQuality\"]))\n",
    "except Exception as e:\n",
    "    print(e)"
   ],
   "metadata": {
    "collapsed": false,
    "ExecuteTime": {
     "end_time": "2024-11-04T01:28:50.794972Z",
     "start_time": "2024-11-04T01:28:48.900915Z"
    }
   },
   "outputs": [],
   "execution_count": 65
  },
  {
   "cell_type": "markdown",
   "source": "### Question 16: What sources the text descriptions of article _T_ or a page _P_ are extracted from?",
   "metadata": {
    "collapsed": false
   }
  },
  {
   "cell_type": "code",
   "source": [
    "article_sugar = \"<https://w3id.org/hto/ArticleTermRecord/992277653804341_144133903_6364534740_0>\"\n",
    "\n",
    "query = prepareQuery(\"\"\"\n",
    "     PREFIX hto: <https://w3id.org/hto#>\n",
    "     PREFIX prov: <http://www.w3.org/ns/prov#>\n",
    "     SELECT * WHERE {\n",
    "        %s a hto:ArticleTermRecord;\n",
    "            hto:name ?name;\n",
    "            hto:hasOriginalDescription ?desc.\n",
    "        ?desc hto:wasExtractedFrom ?source;\n",
    "            hto:text ?text.\n",
    "        ?source prov:wasAttributedTo ?agent.\n",
    "    }\n",
    "    \"\"\" % article_sugar\n",
    ")\n",
    "\n",
    "try:\n",
    "    for r in graph.query(query):\n",
    "        print(\"name: %s | source: %s | agent: %s | description: %s \" % (r[\"name\"], r[\"source\"], r[\"agent\"], r[\"text\"]))\n",
    "except Exception as e:\n",
    "    print(e)"
   ],
   "metadata": {
    "collapsed": false,
    "ExecuteTime": {
     "end_time": "2024-11-04T01:32:08.830996Z",
     "start_time": "2024-11-04T01:32:08.816465Z"
    }
   },
   "outputs": [
    {
     "name": "stdout",
     "output_type": "stream",
     "text": [
      "name: SUGAR | source: https://w3id.org/hto/InformationResource/__data_EB_1_3_clean_cut_txt | agent: https://w3id.org/hto/Organization/Ash | description: in natural history, is properly the essential salt of the sugar-cane, as tartar is of the grape. See CHEMISTRY p. 161. and SACCHARUM. This plant tises to eight, nine, or more feet high ; the stalk, conic earthen. stalk, or cane, being round, jointed, and two or three inches in diameter at the bottom : the joints are three or four inches afunder, and in a rich foil more : the leaves are long and narrow and of a yellowish green colour whio s ornamented is is also the stalk itself, the top t ciodier of ariadincos tiowers, two with a panicle or three feet in length. They propagate the sugar-cane, by planting cuttings of it in the ground in furrows, dug parailel for that purpose ; the cuttings are laid level and even, and are covered up with earth ; they soon sho nt out new plants from their knots or joints : the ground is to be kept clear, at times, from weeds ; and the eanes grow so quick, that in cipht, ten, or twelve months, they are sit to cut for making of sugar from them. the manner of doing it is thus : They cut off the reeds at one of the joints near the roots; they are then cleared of the leaves, and tied upin bundles, and sent to the mills, which are worked eather by water or horses. The sugar-mill is composed of three rollers of an equal size, and all armed with iron plates, where the canes are to pass between them ; only the middle rolin is much higher than the rest, to give the larger sweep totthe two poles to which the horses are yoked. This great roller in the middle is furnished with a cog full of teeth, which catch the notches in the two side rollers, and force them about to bruise the canes, which pass quite reund the great roller, and come out dry and squeezed from all their juice ; which runs into a vessel or ba-k under the mill, and is thence conveyed through a narrow spout into the first boiler. After the juice is let out of the first ressel, it is rectired into another ; in which it is boiled more brisktly, and scummed from time to time with a large kind of spoon, piereed witholes to let the liquor through, while it retains the scum and foulness separated from it in boiling : towards the end of this boiling. 1 throw into it wood-ashes, wit a stror lixivium ome quick-lime : this romotes the separation of the among naty foulne and, after it has that yet remains amongst it boiled some time with thi ddition, they strain it off. The fæces left in the cloths make a kind of wine, when bolied in areAbites. firatly ties, in be inte a cons. in which it is boiled dhaco of sutr in to who attend it r a very brisk the pers tinually stirring and scumming it. Sreat caution is to the boiling matter does the a not rise over the ss which would be of buort tues. very dangerous consequence : they prerer his by raking up quantities of the boiling marter with a ladle. lifting it up high, and letting it run in again, and by now and then adding a small piece of batter, or fat of some kind, which takes down the bubbling almost instantancously. They are very careful that no lemon juice, or any other acid of that kind, comes near the ressels, a very small admixture of that being sufficient to keep the matter from granulating. When the liquor is bailed enough, which is known by its concreting on throwing a spoonful of it ap into the air, it is then let out into a fourth vessel, under which there is a very gentle fire, only kept up that it may have leisure to granulate ; when it has begun to granulate, it is let out of this last boiler into a kind of wrue i rthaed opuians, and the fiatlerein dermnitdi. its aperture being stopped with a wooden plug. It is lert in these vessels twenty four hout concrete; after thiy they are removed into sugar-houses, and are there arranlar order, with a ve ged in reI of earthen-ware under each ; the plug is then taken out of the bortom aperture of each, and are left in this condition for about forry days. that all the thick liquor, or melasses may run from them : ofter they have stood thus long to drain of themselves, a quantity of clay is diluted, with water, into a thin paste ; and this is poured on the top of every parcel of sugat in the vessels, so as to cover it two or three inches detp. This water, by degrees, all leaves the clay, and penetrating into the mass of sugar, runs through it, and carries off yet more of this foul thick liquid with it, into the vesseis placed underneath to receive it. When the clay is quite dry, it is taken off, and the first preparation of the sugar is n w finished ; they shake t out of the vessels and, cutting it into lumps, which are of a dirty, brownish, or greyish colour, they put it ap in hogsheads, and other casks, under the name of grey or brown sugar. The sugar, in this state, ought to be dry, not unctuous, and to have no taste of buraing. The liquor which has run from the sugar in standing, is hotled to a consistence, and fuld under the name of melasses, or treacle ; this affords, by fermentation, a very ciean and good spirit. This coarse sugar is afterwards refined to various degrees of purity by new folutions, and is sold at different prices, and under different names, according to the dgree of purity it is brought to. Our sugar refiners first disfalve it in water, then clarify the solution by bolling with whites of eggt and despumation ; and after due evaoration pour it into moulds ; where the fluid part being Irained off, and the sugar concreted, its surface is covered with moist clay, as before. The sugar thus onee refined, by repetition of the process becomes the doubleresined sugar of the shops. the candy sugar, or that in crystals, is prepared by boiling down solutions of sugar to a certain pitch, and then removing them into a hot ronm, with sticks placed across the vessel for the sugar to shoot upon : and these crystals prove of a white or brown coour, according as the sugar used in the process was puro or impure. \n",
      "name: SUGAR | source: https://w3id.org/hto/InformationResource/144133903_alto_144813475_34_xml | agent: https://w3id.org/hto/Organization/NLS | description: in natural history, is properly the essential fait of the sugar-cane, as tartar is of the grape. See Chemistry p. 161. and Saccharum. This plant rises to tight, nine, or more feet high ; theor cane, being round, jointed, and two or three inches in diameter at the bottom : the joints are three or four inches alunder, and in a rich soil more : the leaves are long and narrow, and of a yellowifh green colour; as is also the stalk itself, the top of which is ornamented with a panicle, or duller of arundinacecus flowers, two cr three feet in length. They propagate the sugar-cane, by planting cuttings of it in the ground in furrows, dug paradel for that purpose; the cuttings are laid level and even, and are covered up with earth ; they loon (hoot out new plants from their knots or joints : the ground is to be kept clear, at times, from weeds; and the canes grow so quick, that in eight, ten, or twelve months, they are sit to cut for making of sugar from them. The manner of doing it is thus : They cut off the reeds at one of the joints near the roots ; they are then cleared of the leaves, and tied up in bundles, and sent to the mills, which are worked either by water or horses. The sugar-mdl is composed of three rollers of an equal size, and all armed with iron-plates, where the canes are to pass between them; only the middle roll^ais much higher than the rest, to give the larger sweep to*the two poles to which the horses are yoked. This great roller in the middle is furnilhed with a cog full of teeth, which catch the notches in the two side.rollers, and force them about to bruise the canes, which pass quite round the great roller, and come out dry and squeezed from all their juice; which runs into a veftel or ba. k under the mill, and is thence conveyed through a narrow spout into After the juice is Jet out of the first vef Tel, it is received into another; in which it is boiled more brillcly, and scummed from time to time with a large kind of spoon, pierced with holes to let the liquor through, while it retains the scum and foulness separated from it in boiling: towards the end of this boiling, they throw into it a strong lixivium of wood-ashes, with some quick lime among it: this greatly promotes the reparation of the foulness that yet remains amongst it; and, after it has boiled some time with this addition, they strain it off. The faeces left in the cloths make a kind of wine, when fermented properly with water. The drained liquor, which is now tolerably clean, is let into a third boiler, in which it is boiled down to the confidence of sugar over a very brisk fire, the people who attend it continually ftirritfg and fcumming it. Great caution is to be used that the boiling matter does not rise over the sides of the vessel, which would be of very dangerous consequence : they prevent this by taking up quantities of the boiling matter with a ladle, lifting it up high, and letting it run in again, and by now' and then adding a small piece of batter, or sat of some kind, which takes down the bubbling aimoft inftantafieoufly. They are very careful that no lemon-juice, or any other acid of that kind, comes near the vessels, a very small admixture of that being sufficient to keep the matter from granulating. When the liquor is boiled enough, which is known by its concreting on throwing a fpoor.ful of it up into the air, it is then let out into a fourth veffd, under which there is a very gentle fire, only kept up that it may have leisure to granuiate ; when it has begun to granulate, it is let out. of this last bo Her into a kind of conic earthen vefiels, open at both ends ; the widest aperture is placed upwards, and the fmailer end downwards, its aperture being flopped with a wooden plug. It is left in thele vessels twenty.four hours to concrete : after this they are removed into sugar-houses, and are there arranged in regular order, with a vefl’el of earthen-ware under each ; the plug is then taken out of the bottom aperture of each, and they are left in this condition for about forty days, that all the thick liquor, or melafles, may run from them : after they have stood thus long to drain of themselves, a quantity of clay is diluted, with water, into a thin paste ; and this is poured on the top of every parcel of lugar in t the vefiels, so as to cover it two or three inches deep. This water, by degrees, all leaves the clay, and penetrating into the mass of sugar, runs through it, and carries off yet more of this soul thick liquid with it, into the vefleis placed underneath to receive it. When the clay is quite dry, it is taken off, and the first preparation of the sugar is nr w fimfhed; they ftiake it out of the vefleis , and, cutting it into lump?, which are of a dirty, browmfh, or greyilh colour, they put it up in hoglheads, and other cafics, under the name of grey or brown lugar. The sugar, in this state, ought to be dry, not undtuous, and to have n,o taste o 1 burning. The liquor which has run from the sugar in Handing, is boded to a consistence, and lold under the name of mel^lVs. or treacle ; this affords, by fermentation, a very ciean and This coarse sugar is afterwards refined to various degrees of purity by new solutions, and is sold at different prices, and under different names, according to the degree of purity it is brought to. Our sugar refiners first difiblve it in water, then clarify the solution by boiling with whites of eggs and defpumation ; and after due evaporation pour it into moulds ; where the fluid part being drained off, and the sugar concreted, its surface is covered with moist clay, as before. The sugar thus once refined, by repetition of the process becomes the doublerefined sugar of th§.shops. The candy.sugar, or that in crystals, is prepared by boiling down solutions of sugar to a certain pitch, and then removing them into a hot room, with liicks placed across the vefiel for the sugar to shoot upon : and these crystals prove of a white or brown colour, according as the sugar used in the process was pure \n"
     ]
    }
   ],
   "execution_count": 67
  },
  {
   "cell_type": "markdown",
   "source": "### Question 17: What is the High quality description of term _T_?",
   "metadata": {
    "collapsed": false
   }
  },
  {
   "cell_type": "code",
   "source": [
    "article_sugar = \"<https://w3id.org/hto/ArticleTermRecord/992277653804341_144133903_6364534740_0>\"\n",
    "\n",
    "query = prepareQuery(\"\"\"\n",
    "     PREFIX hto: <https://w3id.org/hto#>\n",
    "     PREFIX prov: <http://www.w3.org/ns/prov#>\n",
    "     SELECT * WHERE {\n",
    "        %s a hto:ArticleTermRecord;\n",
    "            hto:name ?name;\n",
    "            hto:hasOriginalDescription ?desc.\n",
    "        ?desc hto:wasExtractedFrom ?source;\n",
    "            hto:text ?text;\n",
    "            hto:hasTextQuality hto:High.\n",
    "        ?source prov:wasAttributedTo ?agent.\n",
    "\n",
    "    }\n",
    "    \"\"\" % article_sugar\n",
    ")\n",
    "\n",
    "try:\n",
    "    for r in graph.query(query):\n",
    "        print(\"name: %s | description: %s | source: %s | agent: %s\" % (r[\"name\"], r[\"text\"], r[\"source\"], r[\"agent\"]))\n",
    "except Exception as e:\n",
    "    print(e)"
   ],
   "metadata": {
    "collapsed": false,
    "ExecuteTime": {
     "end_time": "2024-11-04T01:32:55.134422Z",
     "start_time": "2024-11-04T01:32:53.988346Z"
    }
   },
   "outputs": [
    {
     "name": "stdout",
     "output_type": "stream",
     "text": [
      "name: SUGAR | description: in natural history, is properly the essential salt of the sugar-cane, as tartar is of the grape. See CHEMISTRY p. 161. and SACCHARUM. This plant tises to eight, nine, or more feet high ; the stalk, conic earthen. stalk, or cane, being round, jointed, and two or three inches in diameter at the bottom : the joints are three or four inches afunder, and in a rich foil more : the leaves are long and narrow and of a yellowish green colour whio s ornamented is is also the stalk itself, the top t ciodier of ariadincos tiowers, two with a panicle or three feet in length. They propagate the sugar-cane, by planting cuttings of it in the ground in furrows, dug parailel for that purpose ; the cuttings are laid level and even, and are covered up with earth ; they soon sho nt out new plants from their knots or joints : the ground is to be kept clear, at times, from weeds ; and the eanes grow so quick, that in cipht, ten, or twelve months, they are sit to cut for making of sugar from them. the manner of doing it is thus : They cut off the reeds at one of the joints near the roots; they are then cleared of the leaves, and tied upin bundles, and sent to the mills, which are worked eather by water or horses. The sugar-mill is composed of three rollers of an equal size, and all armed with iron plates, where the canes are to pass between them ; only the middle rolin is much higher than the rest, to give the larger sweep totthe two poles to which the horses are yoked. This great roller in the middle is furnished with a cog full of teeth, which catch the notches in the two side rollers, and force them about to bruise the canes, which pass quite reund the great roller, and come out dry and squeezed from all their juice ; which runs into a vessel or ba-k under the mill, and is thence conveyed through a narrow spout into the first boiler. After the juice is let out of the first ressel, it is rectired into another ; in which it is boiled more brisktly, and scummed from time to time with a large kind of spoon, piereed witholes to let the liquor through, while it retains the scum and foulness separated from it in boiling : towards the end of this boiling. 1 throw into it wood-ashes, wit a stror lixivium ome quick-lime : this romotes the separation of the among naty foulne and, after it has that yet remains amongst it boiled some time with thi ddition, they strain it off. The fæces left in the cloths make a kind of wine, when bolied in areAbites. firatly ties, in be inte a cons. in which it is boiled dhaco of sutr in to who attend it r a very brisk the pers tinually stirring and scumming it. Sreat caution is to the boiling matter does the a not rise over the ss which would be of buort tues. very dangerous consequence : they prerer his by raking up quantities of the boiling marter with a ladle. lifting it up high, and letting it run in again, and by now and then adding a small piece of batter, or fat of some kind, which takes down the bubbling almost instantancously. They are very careful that no lemon juice, or any other acid of that kind, comes near the ressels, a very small admixture of that being sufficient to keep the matter from granulating. When the liquor is bailed enough, which is known by its concreting on throwing a spoonful of it ap into the air, it is then let out into a fourth vessel, under which there is a very gentle fire, only kept up that it may have leisure to granulate ; when it has begun to granulate, it is let out of this last boiler into a kind of wrue i rthaed opuians, and the fiatlerein dermnitdi. its aperture being stopped with a wooden plug. It is lert in these vessels twenty four hout concrete; after thiy they are removed into sugar-houses, and are there arranlar order, with a ve ged in reI of earthen-ware under each ; the plug is then taken out of the bortom aperture of each, and are left in this condition for about forry days. that all the thick liquor, or melasses may run from them : ofter they have stood thus long to drain of themselves, a quantity of clay is diluted, with water, into a thin paste ; and this is poured on the top of every parcel of sugat in the vessels, so as to cover it two or three inches detp. This water, by degrees, all leaves the clay, and penetrating into the mass of sugar, runs through it, and carries off yet more of this foul thick liquid with it, into the vesseis placed underneath to receive it. When the clay is quite dry, it is taken off, and the first preparation of the sugar is n w finished ; they shake t out of the vessels and, cutting it into lumps, which are of a dirty, brownish, or greyish colour, they put it ap in hogsheads, and other casks, under the name of grey or brown sugar. The sugar, in this state, ought to be dry, not unctuous, and to have no taste of buraing. The liquor which has run from the sugar in standing, is hotled to a consistence, and fuld under the name of melasses, or treacle ; this affords, by fermentation, a very ciean and good spirit. This coarse sugar is afterwards refined to various degrees of purity by new folutions, and is sold at different prices, and under different names, according to the dgree of purity it is brought to. Our sugar refiners first disfalve it in water, then clarify the solution by bolling with whites of eggt and despumation ; and after due evaoration pour it into moulds ; where the fluid part being Irained off, and the sugar concreted, its surface is covered with moist clay, as before. The sugar thus onee refined, by repetition of the process becomes the doubleresined sugar of the shops. the candy sugar, or that in crystals, is prepared by boiling down solutions of sugar to a certain pitch, and then removing them into a hot ronm, with sticks placed across the vessel for the sugar to shoot upon : and these crystals prove of a white or brown coour, according as the sugar used in the process was puro or impure. | source: https://w3id.org/hto/InformationResource/__data_EB_1_3_clean_cut_txt | agent: https://w3id.org/hto/Organization/Ash\n"
     ]
    }
   ],
   "execution_count": 68
  },
  {
   "cell_type": "markdown",
   "source": "### Question 18: What are the descriptions of term _T_ with the highest text quality?",
   "metadata": {
    "collapsed": false
   }
  },
  {
   "cell_type": "code",
   "source": [
    "article_sugar = \"<https://w3id.org/hto/ArticleTermRecord/9910796233804340_193108317_6364534740_0>\"\n",
    "\n",
    "query = prepareQuery(\"\"\"\n",
    "     PREFIX hto: <https://w3id.org/hto#>\n",
    "     PREFIX prov: <http://www.w3.org/ns/prov#>\n",
    "     SELECT * WHERE {\n",
    "        %s a hto:ArticleTermRecord;\n",
    "            hto:name ?name;\n",
    "            hto:hasOriginalDescription ?desc.\n",
    "        ?desc ?derived_type ?source;\n",
    "            hto:text ?text;\n",
    "            hto:hasTextQuality ?textQuality.\n",
    "        FILTER (?derived_type = prov:wasDerivedFrom || ?derived_type = hto:wasExtractedFrom)\n",
    "        ?source prov:wasAttributedTo ?agent.\n",
    "        FILTER NOT EXISTS {\n",
    "          %s hto:hasOriginalDescription [hto:hasTextQuality [hto:isTextQualityHigherThan ?textQuality]].\n",
    "        }\n",
    "    }\n",
    "    \"\"\" % (article_sugar, article_sugar)\n",
    ")\n",
    "\n",
    "try:\n",
    "    for r in graph.query(query):\n",
    "        print(\"name: %s | description: %s | source: %s | agent: %s | text quality: %s\" % (r[\"name\"], r[\"text\"], r[\"source\"], r[\"agent\"], r[\"textQuality\"]))\n",
    "except Exception as e:\n",
    "    print(e)"
   ],
   "metadata": {
    "collapsed": false,
    "ExecuteTime": {
     "end_time": "2024-11-04T01:34:22.607444Z",
     "start_time": "2024-11-04T01:34:05.621755Z"
    }
   },
   "outputs": [
    {
     "name": "stdout",
     "output_type": "stream",
     "text": [
      "name: SUGAR | description: a solid sweet substance juice of the sugar-cane, or, according essential fair, capable of cryftallization, agreeable flavour, and contained in a greater type in almost every species of vegetables, abundant in the sugar-cane. As the sugar-cane is the principal West Indies, and the great source of is so important in a commercial view, meant which it gives to seamen, and the opens for merchants; and besides now safety of life and it may just be esteemed valuable plants in the world. The in Europe is estimated at nine million demand would probably be greater if a reduced price. Since freighter is curious a commodity, it must be an one Ct persons of curiosity and research, to obtain knowledge of the history and nature which it is produced, as well as to access by which the juice is extracted will therefore first inquire in what countries flouriftied, and when it was brought and became an article of commerce. From the few remains of the Grecian tigers which have survived the ravages find no purpose that the juice of the sugar-cane | source: https://w3id.org/hto/OriginalDescription/9910796233804340_193108317_6364534740_0NLS | agent: https://github.com/defoe-code/defoe | text quality: https://w3id.org/hto#Moderate\n"
     ]
    }
   ],
   "execution_count": 69
  },
  {
   "cell_type": "markdown",
   "source": "### Question 19: What software was used to extract the description of article _T_ or a page _P_?",
   "metadata": {
    "collapsed": false
   }
  },
  {
   "cell_type": "code",
   "source": [
    "article_sugar = \"<https://w3id.org/hto/ArticleTermRecord/992277653804341_144133903_6364534740_0>\"\n",
    "\n",
    "query = prepareQuery(\"\"\"\n",
    "     PREFIX hto: <https://w3id.org/hto#>\n",
    "     PREFIX prov: <http://www.w3.org/ns/prov#>\n",
    "     SELECT * WHERE {\n",
    "        %s a hto:ArticleTermRecord;\n",
    "            hto:name ?name;\n",
    "            hto:hasOriginalDescription ?desc.\n",
    "        ?desc ?derived_type ?source;\n",
    "            hto:text ?text;\n",
    "            prov:wasAttributedTo ?software.\n",
    "        FILTER (?derived_type = prov:wasDerivedFrom || ?derived_type = hto:wasExtractedFrom)\n",
    "        ?software a hto:SoftwareAgent.\n",
    "        ?source prov:wasAttributedTo ?agent.\n",
    "        ?agent a ?agentType.\n",
    "    }\n",
    "    \"\"\" % (article_sugar)\n",
    ")\n",
    "\n",
    "try:\n",
    "    for r in graph.query(query):\n",
    "        print(\"name: %s | description: %s | extracted using software: %s | source: %s | agent: %s \" % (r[\"name\"], r[\"text\"], r[\"software\"], r[\"source\"], r[\"agent\"]))\n",
    "except Exception as e:\n",
    "    print(e)"
   ],
   "metadata": {
    "collapsed": false,
    "ExecuteTime": {
     "end_time": "2024-11-04T01:36:22.391067Z",
     "start_time": "2024-11-04T01:35:28.034191Z"
    }
   },
   "outputs": [
    {
     "name": "stdout",
     "output_type": "stream",
     "text": [
      "name: SUGAR | description: in natural history, is properly the essential salt of the sugar-cane, as tartar is of the grape. See CHEMISTRY p. 161. and SACCHARUM. This plant tises to eight, nine, or more feet high ; the stalk, conic earthen. stalk, or cane, being round, jointed, and two or three inches in diameter at the bottom : the joints are three or four inches afunder, and in a rich foil more : the leaves are long and narrow and of a yellowish green colour whio s ornamented is is also the stalk itself, the top t ciodier of ariadincos tiowers, two with a panicle or three feet in length. They propagate the sugar-cane, by planting cuttings of it in the ground in furrows, dug parailel for that purpose ; the cuttings are laid level and even, and are covered up with earth ; they soon sho nt out new plants from their knots or joints : the ground is to be kept clear, at times, from weeds ; and the eanes grow so quick, that in cipht, ten, or twelve months, they are sit to cut for making of sugar from them. the manner of doing it is thus : They cut off the reeds at one of the joints near the roots; they are then cleared of the leaves, and tied upin bundles, and sent to the mills, which are worked eather by water or horses. The sugar-mill is composed of three rollers of an equal size, and all armed with iron plates, where the canes are to pass between them ; only the middle rolin is much higher than the rest, to give the larger sweep totthe two poles to which the horses are yoked. This great roller in the middle is furnished with a cog full of teeth, which catch the notches in the two side rollers, and force them about to bruise the canes, which pass quite reund the great roller, and come out dry and squeezed from all their juice ; which runs into a vessel or ba-k under the mill, and is thence conveyed through a narrow spout into the first boiler. After the juice is let out of the first ressel, it is rectired into another ; in which it is boiled more brisktly, and scummed from time to time with a large kind of spoon, piereed witholes to let the liquor through, while it retains the scum and foulness separated from it in boiling : towards the end of this boiling. 1 throw into it wood-ashes, wit a stror lixivium ome quick-lime : this romotes the separation of the among naty foulne and, after it has that yet remains amongst it boiled some time with thi ddition, they strain it off. The fæces left in the cloths make a kind of wine, when bolied in areAbites. firatly ties, in be inte a cons. in which it is boiled dhaco of sutr in to who attend it r a very brisk the pers tinually stirring and scumming it. Sreat caution is to the boiling matter does the a not rise over the ss which would be of buort tues. very dangerous consequence : they prerer his by raking up quantities of the boiling marter with a ladle. lifting it up high, and letting it run in again, and by now and then adding a small piece of batter, or fat of some kind, which takes down the bubbling almost instantancously. They are very careful that no lemon juice, or any other acid of that kind, comes near the ressels, a very small admixture of that being sufficient to keep the matter from granulating. When the liquor is bailed enough, which is known by its concreting on throwing a spoonful of it ap into the air, it is then let out into a fourth vessel, under which there is a very gentle fire, only kept up that it may have leisure to granulate ; when it has begun to granulate, it is let out of this last boiler into a kind of wrue i rthaed opuians, and the fiatlerein dermnitdi. its aperture being stopped with a wooden plug. It is lert in these vessels twenty four hout concrete; after thiy they are removed into sugar-houses, and are there arranlar order, with a ve ged in reI of earthen-ware under each ; the plug is then taken out of the bortom aperture of each, and are left in this condition for about forry days. that all the thick liquor, or melasses may run from them : ofter they have stood thus long to drain of themselves, a quantity of clay is diluted, with water, into a thin paste ; and this is poured on the top of every parcel of sugat in the vessels, so as to cover it two or three inches detp. This water, by degrees, all leaves the clay, and penetrating into the mass of sugar, runs through it, and carries off yet more of this foul thick liquid with it, into the vesseis placed underneath to receive it. When the clay is quite dry, it is taken off, and the first preparation of the sugar is n w finished ; they shake t out of the vessels and, cutting it into lumps, which are of a dirty, brownish, or greyish colour, they put it ap in hogsheads, and other casks, under the name of grey or brown sugar. The sugar, in this state, ought to be dry, not unctuous, and to have no taste of buraing. The liquor which has run from the sugar in standing, is hotled to a consistence, and fuld under the name of melasses, or treacle ; this affords, by fermentation, a very ciean and good spirit. This coarse sugar is afterwards refined to various degrees of purity by new folutions, and is sold at different prices, and under different names, according to the dgree of purity it is brought to. Our sugar refiners first disfalve it in water, then clarify the solution by bolling with whites of eggt and despumation ; and after due evaoration pour it into moulds ; where the fluid part being Irained off, and the sugar concreted, its surface is covered with moist clay, as before. The sugar thus onee refined, by repetition of the process becomes the doubleresined sugar of the shops. the candy sugar, or that in crystals, is prepared by boiling down solutions of sugar to a certain pitch, and then removing them into a hot ronm, with sticks placed across the vessel for the sugar to shoot upon : and these crystals prove of a white or brown coour, according as the sugar used in the process was puro or impure. | extracted using software: https://github.com/frances-ai/frances-InformationExtraction | source: https://w3id.org/hto/InformationResource/__data_EB_1_3_clean_cut_txt | agent: https://w3id.org/hto/Organization/Ash \n",
      "name: SUGAR | description: in natural history, is properly the essential fait of the sugar-cane, as tartar is of the grape. See Chemistry p. 161. and Saccharum. This plant rises to tight, nine, or more feet high ; theor cane, being round, jointed, and two or three inches in diameter at the bottom : the joints are three or four inches alunder, and in a rich soil more : the leaves are long and narrow, and of a yellowifh green colour; as is also the stalk itself, the top of which is ornamented with a panicle, or duller of arundinacecus flowers, two cr three feet in length. They propagate the sugar-cane, by planting cuttings of it in the ground in furrows, dug paradel for that purpose; the cuttings are laid level and even, and are covered up with earth ; they loon (hoot out new plants from their knots or joints : the ground is to be kept clear, at times, from weeds; and the canes grow so quick, that in eight, ten, or twelve months, they are sit to cut for making of sugar from them. The manner of doing it is thus : They cut off the reeds at one of the joints near the roots ; they are then cleared of the leaves, and tied up in bundles, and sent to the mills, which are worked either by water or horses. The sugar-mdl is composed of three rollers of an equal size, and all armed with iron-plates, where the canes are to pass between them; only the middle roll^ais much higher than the rest, to give the larger sweep to*the two poles to which the horses are yoked. This great roller in the middle is furnilhed with a cog full of teeth, which catch the notches in the two side.rollers, and force them about to bruise the canes, which pass quite round the great roller, and come out dry and squeezed from all their juice; which runs into a veftel or ba. k under the mill, and is thence conveyed through a narrow spout into After the juice is Jet out of the first vef Tel, it is received into another; in which it is boiled more brillcly, and scummed from time to time with a large kind of spoon, pierced with holes to let the liquor through, while it retains the scum and foulness separated from it in boiling: towards the end of this boiling, they throw into it a strong lixivium of wood-ashes, with some quick lime among it: this greatly promotes the reparation of the foulness that yet remains amongst it; and, after it has boiled some time with this addition, they strain it off. The faeces left in the cloths make a kind of wine, when fermented properly with water. The drained liquor, which is now tolerably clean, is let into a third boiler, in which it is boiled down to the confidence of sugar over a very brisk fire, the people who attend it continually ftirritfg and fcumming it. Great caution is to be used that the boiling matter does not rise over the sides of the vessel, which would be of very dangerous consequence : they prevent this by taking up quantities of the boiling matter with a ladle, lifting it up high, and letting it run in again, and by now' and then adding a small piece of batter, or sat of some kind, which takes down the bubbling aimoft inftantafieoufly. They are very careful that no lemon-juice, or any other acid of that kind, comes near the vessels, a very small admixture of that being sufficient to keep the matter from granulating. When the liquor is boiled enough, which is known by its concreting on throwing a fpoor.ful of it up into the air, it is then let out into a fourth veffd, under which there is a very gentle fire, only kept up that it may have leisure to granuiate ; when it has begun to granulate, it is let out. of this last bo Her into a kind of conic earthen vefiels, open at both ends ; the widest aperture is placed upwards, and the fmailer end downwards, its aperture being flopped with a wooden plug. It is left in thele vessels twenty.four hours to concrete : after this they are removed into sugar-houses, and are there arranged in regular order, with a vefl’el of earthen-ware under each ; the plug is then taken out of the bottom aperture of each, and they are left in this condition for about forty days, that all the thick liquor, or melafles, may run from them : after they have stood thus long to drain of themselves, a quantity of clay is diluted, with water, into a thin paste ; and this is poured on the top of every parcel of lugar in t the vefiels, so as to cover it two or three inches deep. This water, by degrees, all leaves the clay, and penetrating into the mass of sugar, runs through it, and carries off yet more of this soul thick liquid with it, into the vefleis placed underneath to receive it. When the clay is quite dry, it is taken off, and the first preparation of the sugar is nr w fimfhed; they ftiake it out of the vefleis , and, cutting it into lump?, which are of a dirty, browmfh, or greyilh colour, they put it up in hoglheads, and other cafics, under the name of grey or brown lugar. The sugar, in this state, ought to be dry, not undtuous, and to have n,o taste o 1 burning. The liquor which has run from the sugar in Handing, is boded to a consistence, and lold under the name of mel^lVs. or treacle ; this affords, by fermentation, a very ciean and This coarse sugar is afterwards refined to various degrees of purity by new solutions, and is sold at different prices, and under different names, according to the degree of purity it is brought to. Our sugar refiners first difiblve it in water, then clarify the solution by boiling with whites of eggs and defpumation ; and after due evaporation pour it into moulds ; where the fluid part being drained off, and the sugar concreted, its surface is covered with moist clay, as before. The sugar thus once refined, by repetition of the process becomes the doublerefined sugar of th§.shops. The candy.sugar, or that in crystals, is prepared by boiling down solutions of sugar to a certain pitch, and then removing them into a hot room, with liicks placed across the vefiel for the sugar to shoot upon : and these crystals prove of a white or brown colour, according as the sugar used in the process was pure | extracted using software: https://github.com/defoe-code/defoe | source: https://w3id.org/hto/InformationResource/144133903_alto_144813475_34_xml | agent: https://w3id.org/hto/Organization/NLS \n",
      "name: SUGAR | description: in natural history, is properly the essential part of the sugar-cane, as tartar is of the grape. See Chemistry p. 161. and Saccharum. This plant rises to light, nine, or more feet high; their cane, being round, joined, and two or three inches in diameter at the bottom: the joints are three or four inches angular, and in a rich soil more: the leaves are long and narrow, and of a yellowish green colour; as is also the stalk itself, the top of which is ornamented with a panicle, or fuller of arundinacecus flowers, two or three feet in length. They propagate the sugar-cane, by planting cuttings of it in the ground in furrows, dug parallel for that purpose; the cuttings are laid level and even, and are covered up with earth; they look ( shoot out new plants from their knots or joints: the ground is to be kept clear, at times, from weeds; and the canes grow so quick, that in eight, ten, or twelve months, they are set to cut for making of sugar from them. The manner of doing it is thus: They cut off the reeds at one of the joints near the roots; they are then cleared of the leaves, and tied up in bundles, and sent to the mills, which are worked either by water or horses. The sugar-model is composed of three rollers of an equal size, and all armed with iron-plates, where the canes are to pass between them; only the middle roll^ais much higher than the rest, to give the larger sweep those two poles to which the horses are used. This great roller in the middle is furnished with a cog full of teeth, which catch the notches in the two side.rollers, and force them about to bruise the canes, which pass quite round the great roller, and come out dry and squeezed from all their juice; which runs into a veftel or beta. k under the mill, and is then conveyed through a narrow spot into After the juice is Jet out of the first beef Tel, it is received into another; in which it is boiled more brilliantly, and summed from time to time with a large kind of spoon, pierced with holes to let the liquid through, while it retains the scum and fullness separated from it in boiling: towards the end of this boiling, they throw into it a strong lixivium of wood-ashes, with some quick lime among it: this greatly promotes the reputation of the foulness that yet remains amongst it; and, after it has boiled some time with this addition, they strain it off. The faeces left in the cloths make a kind of wine, when fermented properly with water. The drained liquor, which is now temporarily clean, is let into a third boiler, in which it is boiled down to the confidence of sugar over a very brisk fire, the people who attend it continually ftirritfg and fcumming it. Great caution is to be used that the boiling matter does not rise over the sides of the vessel, which would be of very dangerous consequence: they prevent this by taking up quantities of the boiling matter with a ladle, lifting it up high, and letting it run in again, and by now ' and then adding a small piece of butter, or set of some kind, which takes down the bubbling aimoft inftantafieoufly. They are very careful that no lemon-juice, or any other acid of that kind, comes near the vessels, a very small admixture of that being sufficient to keep the matter from granulating. When the liquor is boiled enough, which is known by its concentrating on throwing a fpoor.ful of it up into the air, it is then let out into a fourth effect, under which there is a very gentle fire, only kept up that it may have leisure to guarantee; when it has begun to granulate, it is let out. of this last two Her into a kind of iconic earthen vehicles, open at both ends; the widest aperture is placed upwards, and the familiar end downwards, its aperture being flipped with a wooden plug. It is left in these vessels twenty.four hours to concrete: after this they are removed into sugar-houses, and are there arranged in regular order, with a level of earthen-where under each; the plug is then taken out of the bottom aperture of each, and they are left in this condition for about forty days, that all the thick liquor, or melafles, may run from them: after they have stood this long to drain of themselves, a quantity of clay is diluted, with water, into a thin paste; and this is poured on the top of every parcel of sugar in the the vehicles, so as to cover it two or three inches deep. This water, by degrees, all leaves the clay, and penetrating into the mass of sugar, runs through it, and carries off yet more of this soil thick liquid with it, into the vehicles placed underneath to receive it. When the clay is quite dry, it is taken off, and the first preparation of the sugar is or we finished; they ftiake it out of the vehicles, and, cutting it into lump, which are of a dirty, browmfh, or greyilh colour, they put it up in headlights, and other cafics, under the name of grey or brown sugar. The sugar, in this state, ought to be dry, not unctuous, and to have n, to taste of 1 burning. The liquor which has run from the sugar in Handing, is boded to a consistency, and sold under the name of mel^lVs. or treacle; this affords, by fermentation, a very clean and This coarse sugar is afterwards refined to various degrees of purity by new solutions, and is sold at different prices, and under different names, according to the degree of purity it is brought to. Our sugar refiners first dissolve it in water, then clarify the solution by boiling with whites of eggs and defpumation; and after the evaporation pour it into moulds; where the fluid part being drained off, and the sugar converted, its surface is covered with moist clay, as before. The sugar thus once refined, by repetition of the process becomes the doublerefined sugar of th§.shops. The candy.sugar, or that in crystals, is prepared by boiling down solutions of sugar to a certain pitch, and then removing them into a hot room, with licks placed across the vefiel for the sugar to shoot upon: and these crystals prove of a white or brown colour, according as the sugar used in the process was pure | extracted using software: https://github.com/neuspell/neuspell | source: https://w3id.org/hto/OriginalDescription/992277653804341_144133903_6364534740_0NLS | agent: https://github.com/defoe-code/defoe \n"
     ]
    }
   ],
   "execution_count": 70
  },
  {
   "cell_type": "markdown",
   "source": "### Question 20: What software was used to digitise a document?",
   "metadata": {
    "collapsed": false
   }
  },
  {
   "cell_type": "code",
   "source": [
    "# Find software used to generate the source which the description of an article was extracted.\n",
    "article_earth = \"<https://w3id.org/hto/ArticleTermRecord/9910796273804340_193322688_5297117738_0>\"\n",
    "\n",
    "query = prepareQuery(\"\"\"\n",
    "     PREFIX hto: <https://w3id.org/hto#>\n",
    "     PREFIX prov: <http://www.w3.org/ns/prov#>\n",
    "     SELECT * WHERE {\n",
    "        %s a hto:ArticleTermRecord;\n",
    "            hto:name ?name;\n",
    "            hto:hasOriginalDescription ?desc.\n",
    "        ?desc ?derived_type ?source;\n",
    "            hto:text ?text.\n",
    "        FILTER (?derived_type = prov:wasDerivedFrom || ?derived_type = hto:wasExtractedFrom)\n",
    "        OPTIONAL {\n",
    "            ?source prov:wasAttributedTo ?software.\n",
    "            ?software a hto:SoftwareAgent.\n",
    "        }\n",
    "    }\n",
    "    \"\"\" % (article_earth)\n",
    ")\n",
    "\n",
    "try:\n",
    "    for r in graph.query(query):\n",
    "        software = r[\"software\"]\n",
    "        print(\"name: %s | description: %s | source: %s | created using %s\" % (r[\"name\"], r[\"text\"], r[\"source\"], software))\n",
    "except Exception as e:\n",
    "    print(e)"
   ],
   "metadata": {
    "collapsed": false,
    "ExecuteTime": {
     "end_time": "2024-11-04T01:37:20.407761Z",
     "start_time": "2024-11-04T01:37:20.375928Z"
    }
   },
   "outputs": [
    {
     "name": "stdout",
     "output_type": "stream",
     "text": [
      "name: EARTH | description: amongst ancient philosophers, owe of the four elements of which the whole system of nature was believed to be composed. | source: https://raw.githubusercontent.com/TU-plogan/kp-editions/main/eb07/TXT_v2/e8/kp-eb0708-039107-8218-v2.txt | created using https://pdf.abbyy.com\n",
      "name: EARTH | description: amongst ancient philosophers, one elements of which the whole system of nature was Earth, in Astronomy and Geography, one mary planets, being the terraqueous globe which habit. (See the articles Figure of the Earth, | source: https://w3id.org/hto/InformationResource/193322688_alto_193328220_34_xml | created using None\n",
      "name: EARTH | description: amongst ancient philosophers, one elements of which the whole system of nature was Earth, in Astronomy and Geography, one many planets, being the terraqueous globe which habit.( See the articles Figure of the Earth, | source: https://w3id.org/hto/OriginalDescription/9910796273804340_193322688_5297117738_0NLS | created using https://github.com/defoe-code/defoe\n"
     ]
    }
   ],
   "execution_count": 72
  },
  {
   "cell_type": "markdown",
   "source": "### Question 21: List all articles which have more than one name",
   "metadata": {
    "collapsed": false
   }
  },
  {
   "cell_type": "code",
   "source": [
    "article_aurora = \"<https://w3id.org/hto/TopicTermRecord/9910796273804340_193108322_9268244686_0>\"\n",
    "\n",
    "query = prepareQuery(\"\"\"\n",
    "     PREFIX hto: <https://w3id.org/hto#>\n",
    "     PREFIX rdfs: <http://www.w3.org/2000/01/rdf-schema#>\n",
    "     SELECT * WHERE {\n",
    "        %s a hto:TopicTermRecord;\n",
    "            hto:name ?primary_name.\n",
    "        OPTIONAL {\n",
    "          %s rdfs:label ?alter_name.\n",
    "        }\n",
    "    }\n",
    "    \"\"\" % (article_aurora, article_aurora)\n",
    ")\n",
    "\n",
    "try:\n",
    "    names = {} \n",
    "    for r in graph.query(query):\n",
    "        names[\"primary_name\"] = r[\"primary_name\"].value\n",
    "        if \"alter_names\" in names:\n",
    "            names[\"alter_names\"].append(r[\"alter_name\"].value)\n",
    "        else:\n",
    "            names[\"alter_names\"] = [r[\"alter_name\"].value]\n",
    "    print(names)       \n",
    "except Exception as e:\n",
    "    print(e)"
   ],
   "metadata": {
    "collapsed": false,
    "ExecuteTime": {
     "end_time": "2024-11-04T01:51:21.294734Z",
     "start_time": "2024-11-04T01:51:21.284004Z"
    }
   },
   "outputs": [
    {
     "name": "stdout",
     "output_type": "stream",
     "text": [
      "{'primary_name': 'AURORA BOREALIS', 'alter_names': ['NORTHERN LIGHTS', 'POLAR LIGHT', 'STREAMERS']}\n"
     ]
    }
   ],
   "execution_count": 96
  },
  {
   "cell_type": "markdown",
   "source": "### Question 22: List editions which was revision of another edition",
   "metadata": {
    "collapsed": false
   }
  },
  {
   "cell_type": "code",
   "source": [
    "query = prepareQuery(\"\"\"\n",
    "     PREFIX hto: <https://w3id.org/hto#>\n",
    "     PREFIX rdfs: <http://www.w3.org/2000/01/rdf-schema#>\n",
    "     SELECT ?term (COUNT(?alter_name) AS ?n) WHERE {\n",
    "        ?term a hto:ArticleTermRecord;\n",
    "            rdfs:label ?alter_name.\n",
    "    }\n",
    "    GROUP BY ?term\n",
    "    LIMIT 10\n",
    "    \"\"\"\n",
    ")\n",
    "\n",
    "try:\n",
    "    for r in graph.query(query):\n",
    "        print(\"term uri: %s | total number of names: %s\" % (r[\"term\"], int(r[\"n\"]) + 1))\n",
    "except Exception as e:\n",
    "    print(e)"
   ],
   "metadata": {
    "collapsed": false,
    "ExecuteTime": {
     "end_time": "2024-11-04T01:52:28.792112Z",
     "start_time": "2024-11-04T01:52:25.741085Z"
    }
   },
   "outputs": [
    {
     "name": "stdout",
     "output_type": "stream",
     "text": [
      "term uri: https://w3id.org/hto/ArticleTermRecord/9910796273804340_192693199_1079539839_0 | total number of names: 2\n",
      "term uri: https://w3id.org/hto/ArticleTermRecord/9910796273804340_192693199_1125738681_0 | total number of names: 2\n",
      "term uri: https://w3id.org/hto/ArticleTermRecord/9910796273804340_192693199_1271253687_0 | total number of names: 2\n",
      "term uri: https://w3id.org/hto/ArticleTermRecord/9910796273804340_192693199_1306982326_0 | total number of names: 3\n",
      "term uri: https://w3id.org/hto/ArticleTermRecord/9910796273804340_192693199_1356498803_0 | total number of names: 2\n",
      "term uri: https://w3id.org/hto/ArticleTermRecord/9910796273804340_192693199_1362453666_0 | total number of names: 2\n",
      "term uri: https://w3id.org/hto/ArticleTermRecord/9910796273804340_192693199_1380627302_0 | total number of names: 2\n",
      "term uri: https://w3id.org/hto/ArticleTermRecord/9910796273804340_192693199_1503725347_0 | total number of names: 2\n",
      "term uri: https://w3id.org/hto/ArticleTermRecord/9910796273804340_192693199_1515535188_0 | total number of names: 2\n",
      "term uri: https://w3id.org/hto/ArticleTermRecord/9910796273804340_192693199_1552377586_0 | total number of names: 3\n"
     ]
    }
   ],
   "execution_count": 97
  },
  {
   "metadata": {},
   "cell_type": "markdown",
   "source": "### Question 23: List editions which was revision of another edition\n"
  },
  {
   "metadata": {
    "ExecuteTime": {
     "end_time": "2024-11-04T01:54:23.337706Z",
     "start_time": "2024-11-04T01:54:23.325615Z"
    }
   },
   "cell_type": "code",
   "source": [
    "query = prepareQuery(\"\"\"\n",
    "     PREFIX hto: <https://w3id.org/hto#>\n",
    "     PREFIX prov: <http://www.w3.org/ns/prov#>\n",
    "     SELECT * WHERE {\n",
    "        ?revision a hto:Edition;\n",
    "            prov:wasRevisionOf ?edition;\n",
    "            hto:number ?r_edition_num.\n",
    "        ?edition a hto:Edition;\n",
    "            hto:number ?edition_num.\n",
    "    }\n",
    "    \"\"\"\n",
    ")\n",
    "\n",
    "try:\n",
    "    for r in graph.query(query):\n",
    "        print(\"edition %s - < %s > was revision of edition %s -< %s >\" % (r[\"revision\"], r[\"r_edition_num\"], r[\"edition\"], r[\"edition_num\"]))\n",
    "except Exception as e:\n",
    "    print(e)"
   ],
   "outputs": [
    {
     "name": "stdout",
     "output_type": "stream",
     "text": [
      "edition https://w3id.org/hto/Edition/9929192893804340 - < 1 > was revision of edition https://w3id.org/hto/Edition/992277653804341 -< 1 >\n"
     ]
    }
   ],
   "execution_count": 98
  },
  {
   "cell_type": "markdown",
   "source": "### Question 24: Find the summary of the description of a topic article _A_",
   "metadata": {
    "collapsed": false
   }
  },
  {
   "cell_type": "code",
   "source": [
    "topic_a = \"<https://w3id.org/hto/TopicTermRecord/9910796273804340_192693199_9335647130_0>\"\n",
    "\n",
    "query = prepareQuery(\"\"\"\n",
    "     PREFIX hto: <https://w3id.org/hto#>\n",
    "     SELECT * WHERE {\n",
    "        %s a hto:TopicTermRecord;\n",
    "            hto:name ?name;\n",
    "            hto:hasOriginalDescription ?description.\n",
    "        ?description a hto:OriginalDescription;\n",
    "            hto:hasSummary ?summary.\n",
    "        ?summary hto:text ?text.\n",
    "    }\n",
    "    \"\"\" % topic_a\n",
    ")\n",
    "\n",
    "try:\n",
    "    for r in graph.query(query):\n",
    "        print(\"term name: %s | summary: %s\" % (r[\"name\"], r[\"text\"]))\n",
    "except Exception as e:\n",
    "    print(e)\n"
   ],
   "metadata": {
    "collapsed": false,
    "ExecuteTime": {
     "end_time": "2024-11-04T01:55:15.953602Z",
     "start_time": "2024-11-04T01:55:10.786339Z"
    }
   },
   "outputs": [
    {
     "name": "stdout",
     "output_type": "stream",
     "text": [
      "term name: HYGROMETRY | summary: The formation of steam or aqueous vapour, and its diffusion in space or in a gaseous medium, have already been considered under the article Evaporation. We now propose first to take a view of various methods and devices which have been employed to detect the presence of aqueous vapour, and to ascertain its amount, or how much of it is contained in a given volume, whether when alone or diffused in a gaseous medium. It will, however, be proper briefly to notice a few of those either already become obsolete, or soon to be so, were it only to show their imperfection. It is therefore of no other use than as a mere toy; for the value of an instrument employed as a measure of any kind must depend not only on its being at first accurately constructed, but likewise upon its indications not being, ccBtøris paribus, liable to change. The preceding remarks upon the effects of a change of humidity on organic substances may enable us to correct what we consider a great mistake. The axis extends about half the length of the frame; and a part of it next the index is formed into a screw of fourteen or fifteen threads. Captain Kater recommended that all observations made with his hygrometer should be reduced to what they would have been had the entire scale, or the utmost range traversed by the index, consisted of a thousand degrees, which would be ten complete revolutions. The changes in the humidity of the air are then meant to be indicated by the changes in the position of the beam, arising from the gain or loss of weight in the suspended body. But the expansions and contractions of hair and of whalebone are, from the tenuity of their, substance, somewhat more expeditious in acquiring the humidity or dryness of the surrounding air. They have therefore been employed in the construction of hygrometers; the former by Saussure, and the latter by Deluc. 4, terminate in a screw which enters the hollow screw C, fig. The other end a of the hair is held by the inferior mouth of the double and moveable pincers a, seen separately at A, fig. The wire is fixed to the arbor by a small pin F. The other end D of the arbor has the form of a pulley, with a groove flat at the bottom to receive a fine silk thread, by which is suspended the counterpoise marked g in fig. At the corners of the base of the frame are four screws o, o, o, o, for the purpose of levelling the base, or making the instrument stand upright. It only remains to select those which are cleanest, softest, most brilliant, and most transparent.\n"
     ]
    }
   ],
   "execution_count": 99
  },
  {
   "metadata": {},
   "cell_type": "markdown",
   "source": "### Question 25: List all records for a concept"
  },
  {
   "metadata": {
    "ExecuteTime": {
     "end_time": "2024-11-04T01:56:18.307743Z",
     "start_time": "2024-11-04T01:56:17.469104Z"
    }
   },
   "cell_type": "code",
   "source": [
    "concept_uri = \"<https://w3id.org/hto/Concept/6194477897_2>\"\n",
    "\n",
    "queery = prepareQuery(\"\"\"\n",
    "    PREFIX hto: <https://w3id.org/hto#>\n",
    "    SELECT * WHERE {\n",
    "        %s a hto:Concept;\n",
    "            hto:hadConceptRecord ?record.\n",
    "    }\n",
    "    \"\"\" % concept_uri\n",
    ")\n",
    "\n",
    "try:\n",
    "    for r in graph.query(query):\n",
    "        print(\"record uri: %s \" % (r[\"record\"]))\n",
    "except Exception as e:\n",
    "    print(e)"
   ],
   "outputs": [
    {
     "name": "stdout",
     "output_type": "stream",
     "text": [
      "'record'\n"
     ]
    }
   ],
   "execution_count": 100
  },
  {
   "metadata": {},
   "cell_type": "markdown",
   "source": "### Question 26: Given a description uri, track the source"
  },
  {
   "metadata": {
    "ExecuteTime": {
     "end_time": "2024-11-04T02:03:16.038490Z",
     "start_time": "2024-11-04T02:03:15.992842Z"
    }
   },
   "cell_type": "code",
   "source": [
    "\"\"\"\n",
    "In this example, we show how to keep tracking the source of an article description, including what entity it was derived from (an entity here is anything with provenance information, such as another description, or a text file, or a xml file, or an image), what software was used, who created it. \n",
    "Given a given description uri, here we will return a dictionary with entity uri as the key, and entity object as the value. This entity object have the following format: {'source_uri': '', 'entity_type': '', 'agent_type': '', 'agent_name': ''}. \n",
    "For example, we have the following result:\n",
    "{'entityA': \n",
    "    {'source_uri': 'entityB', 'entity_type': 'OriginalDescription', 'agent_type': 'SoftwareAgent', 'agent_name': 'frances information extraction'}, \n",
    "'entityB': \n",
    "    {'source_uri': None, 'entity_type': 'InformationResource', 'agent_type': 'Person', 'agent_name': 'Ash Charlton'}\n",
    "}\n",
    "You can find the source of an entity by mapping the source_uri to the entity_uri. In above example, we can find that InformationResource entityB is the source of the OriginalDescription entityA. \n",
    "\"\"\"\n",
    "\n",
    "# entity_uri = \"https://raw.githubusercontent.com/TU-plogan/kp-editions/main/eb07/TXT_v2/e8/kp-eb0708-039107-8218-v2.txt\"\n",
    "\n",
    "entity_uri = \"https://w3id.org/hto/OriginalDescription/992277653804341_144133903_6364534740_0Ash\"\n",
    "#entity_uri = \"https://w3id.org/hto/InformationResource/__data_EB_1_3_clean_cut_txt\"\n",
    "\n",
    "def get_source(entity_uri):\n",
    "    if entity_uri is None:\n",
    "        return None\n",
    "\n",
    "    entity_uri = \"<\" + entity_uri + \">\"\n",
    "    query = prepareQuery(\"\"\"\n",
    "        PREFIX hto: <https://w3id.org/hto#>\n",
    "        PREFIX prov: <http://www.w3.org/ns/prov#>\n",
    "        PREFIX foaf: <http://xmlns.com/foaf/0.1/>\n",
    "        SELECT * WHERE {\n",
    "            %s a ?entity_type;\n",
    "                prov:wasAttributedTo ?agent.\n",
    "            ?agent a ?agent_type;\n",
    "                foaf:name ?agent_name.\n",
    "            OPTIONAL {\n",
    "            %s ?derived_type ?source.\n",
    "            FILTER (?derived_type = prov:wasDerivedFrom || ?derived_type = hto:wasExtractedFrom)\n",
    "            }\n",
    "        } LIMIT 20\n",
    "        \"\"\" % (entity_uri, entity_uri)\n",
    "    )\n",
    "\n",
    "    try:\n",
    "        source = {}\n",
    "        for r in graph.query(query):\n",
    "            source_uri = str(r['source'])\n",
    "            if source_uri == \"None\":\n",
    "                source_uri = None\n",
    "            source[\"source_uri\"] = source_uri\n",
    "            source[\"entity_type\"] = r['entity_type']\n",
    "            agent_type = r['agent_type']\n",
    "            agent_type_name = agent_type.split(\"#\")[-1]\n",
    "            source[\"agent_type\"] = agent_type_name\n",
    "            source[\"agent_name\"] = r['agent_name'].value\n",
    "\n",
    "        return source\n",
    "    except Exception as e:\n",
    "        print(e)\n",
    "        return None\n",
    "\n",
    "\n",
    "def track_all_sources(entity_uri):\n",
    "    sources = {}\n",
    "    tmp_source_uri = entity_uri\n",
    "    while tmp_source_uri:\n",
    "        current_source_info = get_source(tmp_source_uri)\n",
    "        sources[tmp_source_uri] = current_source_info\n",
    "        tmp_source_uri = current_source_info[\"source_uri\"]\n",
    "    return sources\n",
    "print(track_all_sources(entity_uri))"
   ],
   "outputs": [
    {
     "name": "stdout",
     "output_type": "stream",
     "text": [
      "{'https://w3id.org/hto/OriginalDescription/992277653804341_144133903_6364534740_0Ash': {'source_uri': 'https://w3id.org/hto/InformationResource/__data_EB_1_3_clean_cut_txt', 'entity_type': rdflib.term.URIRef('https://w3id.org/hto#OriginalDescription'), 'agent_type': 'SoftwareAgent', 'agent_name': 'frances information extraction'}, 'https://w3id.org/hto/InformationResource/__data_EB_1_3_clean_cut_txt': {'source_uri': None, 'entity_type': rdflib.term.URIRef('https://w3id.org/hto#InformationResource'), 'agent_type': 'Person', 'agent_name': 'Ash Charlton'}}\n"
     ]
    }
   ],
   "execution_count": 110
  },
  {
   "cell_type": "markdown",
   "source": [],
   "metadata": {
    "collapsed": false
   }
  }
 ],
 "metadata": {
  "kernelspec": {
   "display_name": "Python 3",
   "language": "python",
   "name": "python3"
  },
  "language_info": {
   "codemirror_mode": {
    "name": "ipython",
    "version": 2
   },
   "file_extension": ".py",
   "mimetype": "text/x-python",
   "name": "python",
   "nbconvert_exporter": "python",
   "pygments_lexer": "ipython2",
   "version": "2.7.6"
  }
 },
 "nbformat": 4,
 "nbformat_minor": 0
}
