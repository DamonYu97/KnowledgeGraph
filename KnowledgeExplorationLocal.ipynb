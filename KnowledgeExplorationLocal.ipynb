{
 "cells": [
  {
   "cell_type": "markdown",
   "source": [
    "# Knowledge Exploration With SPARQL queries\n",
    "This notebook explores the knowledge in knowledge graphs generated in this repository using sparql queries.\n",
    "Overall, we will parse an RDF source to a Graph using rdflib, and explore the knowledge by querying the graph.\n",
    "\n",
    "Questions this knowledge graph should answer:\n",
    "1. List all digitalised collections in this graph.\n",
    "2. What volumes, editions, or series does a digitalised collection _C_ include?\n",
    "3. What time period does a digitalised collection _C_ cover? (next version)\n",
    "4. When was edition _E_, series _S_, or volume _V_ published?\n",
    "5. Who published edition _E_, series _S_, or volume _V_?\n",
    "6. Who edited edition _E_, series _S_, or volume _V_?\n",
    "7. Which genre does an edition _E_, series _S_, or volume _V_ belongs to?\n",
    "8. Where was an edition _E_, series _S_, or volume _V_ published or printed?\n",
    "9. Which language did an edition _E_, series _S_, or volume _V_ use?\n",
    "10. In EB, what articles a volume _V_ include?\n",
    "11. Where an EB article _A_ was described (in a page, volume, edition)?\n",
    "12. What are the EB articles which appear in all edition?\n",
    "13. What EB articles were only appeared once in edition _E_?\n",
    "14. What are EB articles related to another EB article _T_?\n",
    "15. What are EB articles which has similar description to _T_?\n",
    "16. How a term with name _T_ was described in all editions?\n",
    "17. What is the text in a page?\n",
    "18. What sources the text descriptions of article _T_ or a page _P_ are extracted from?\n",
    "19. What is the clean description of term _T_?\n",
    "20. What are the descriptions of term _T_ with the highest text quality?\n",
    "21. What software was used to extract the description of article _T_ or a page _P_?\n",
    "22. What software was used to digitise a document?"
   ],
   "metadata": {
    "collapsed": false
   }
  },
  {
   "cell_type": "markdown",
   "source": [
    "## Load the graph"
   ],
   "metadata": {
    "collapsed": false
   }
  },
  {
   "cell_type": "code",
   "execution_count": 1,
   "outputs": [],
   "source": [
    "from rdflib import Graph, URIRef, Namespace\n",
    "\n",
    "# Create a new RDFLib Graph\n",
    "graph = Graph()\n",
    "\n",
    "# Load the rdf file into the graph\n",
    "ontology_file = \"results/hto_eb_total_hq.ttl\"\n",
    "graph.parse(ontology_file, format=\"turtle\")\n",
    "hto = Namespace(\"https://w3id.org/hto#\")"
   ],
   "metadata": {
    "collapsed": false
   }
  },
  {
   "cell_type": "code",
   "execution_count": 2,
   "outputs": [
    {
     "name": "stdout",
     "output_type": "stream",
     "text": [
      "Graph g has 2523802 statements.\n"
     ]
    }
   ],
   "source": [
    "# Print the number of \"triples\" in the Graph\n",
    "print(f\"Graph g has {len(graph)} statements.\")"
   ],
   "metadata": {
    "collapsed": false
   }
  },
  {
   "cell_type": "markdown",
   "source": [
    "## Query the graph\n",
    "\n",
    "### Question 1: List all digital collections"
   ],
   "metadata": {
    "collapsed": false
   }
  },
  {
   "cell_type": "code",
   "execution_count": 11,
   "outputs": [
    {
     "name": "stdout",
     "output_type": "stream",
     "text": [
      "https://w3id.org/hto/WorkCollection/ChapbooksOfScotland Chapbooks printed in Scotland Collection\n",
      "https://w3id.org/hto/WorkCollection/EncyclopaediaBritannica Encyclopaedia Britannica Collection\n"
     ]
    }
   ],
   "source": [
    "from rdflib.plugins.sparql import prepareQuery\n",
    "q1 = prepareQuery('''\n",
    "    SELECT ?collection ?name WHERE {\n",
    "        ?collection a hto:WorkCollection;\n",
    "            hto:name ?name.\n",
    "        FILTER (regex(?name, \"Collection$\", \"i\"))\n",
    "}\n",
    "  ''',\n",
    "  initNs = { \"hto\": hto}\n",
    ")\n",
    "\n",
    "for r in graph.query(q1):\n",
    "      print(\"%s %s\" % (r.collection, r.name))"
   ],
   "metadata": {
    "collapsed": false
   }
  },
  {
   "cell_type": "markdown",
   "source": [
    "### Question 2: What volumes, editions, or series does a digitalised collection _C_ include?"
   ],
   "metadata": {
    "collapsed": false
   }
  },
  {
   "cell_type": "code",
   "execution_count": 12,
   "outputs": [
    {
     "name": "stdout",
     "output_type": "stream",
     "text": [
      "uri: https://w3id.org/hto/Edition/9910796233804340 | MMSID: 9910796233804340 | title: Encyclopaedia Britannica; or, A dictionary of arts, sciences, and miscellaneous literature | subtitle: None | number: 4\n",
      "uri: https://w3id.org/hto/Edition/9910796253804340 | MMSID: 9910796253804340 | title: Encyclopaedia Britannica | subtitle: None | number: 6\n",
      "uri: https://w3id.org/hto/Edition/9910796273804340 | MMSID: 9910796273804340 | title: Encyclopaedia Britannica | subtitle: None | number: 7\n",
      "uri: https://w3id.org/hto/Edition/9910796343804340 | MMSID: 9910796343804340 | title: Supplement to the third edition of the Encyclopaedia Britannica ... Illustrated with ... copperplates | subtitle: None | number: None\n",
      "uri: https://w3id.org/hto/Edition/9910796373804340 | MMSID: 9910796373804340 | title: Supplement to the fourth, fifth and sixth editions of the Encyclopaedia Britannica | subtitle: None | number: None\n",
      "uri: https://w3id.org/hto/Edition/9922270543804340 | MMSID: 9922270543804340 | title: Encyclopaedia Britannica, or, a Dictionary of arts, sciences, and miscellaneous literature : enlarged and improved. Illustrated with nearly six hundred engravings | subtitle: None | number: 5\n",
      "uri: https://w3id.org/hto/Edition/992277653804341 | MMSID: 992277653804341 | title: Encyclopaedia Britannica; or, A dictionary of arts and sciences, compiled upon a new plan | subtitle: Illustrated with one hundred and sixty copperplates | number: 1\n",
      "uri: https://w3id.org/hto/Edition/9929192893804340 | MMSID: 9929192893804340 | title: Encyclopaedia Britannica: or, A dictionary of arts and sciences | subtitle: compiled upon a new plan. In which the different sciences and arts are digested into distinct treatises or systems; and the various technical terms, &c. are explained as they occur in the order of the alphabet. Illustrated with one hundred and sixty copperplates | number: 1\n",
      "uri: https://w3id.org/hto/Edition/9929777383804340 | MMSID: 9929777383804340 | title: Encyclopaedia Britannica | subtitle: None | number: 8\n",
      "uri: https://w3id.org/hto/Edition/997902523804341 | MMSID: 997902523804341 | title: Encyclopaedia Britannica | subtitle: or, a dictionary of arts, sciences, &c. On a plan entirely new: ... The second edition; greatly improved and enlarged. Illustrated with above two hundred copperplates | number: 2\n",
      "uri: https://w3id.org/hto/Edition/997902543804341 | MMSID: 997902543804341 | title: Encyclopaedia Britannica | subtitle: or, a dictionary of arts, sciences, and miscellaneous literature; ... The third edition, in eighteen volumes, greatly improved. Illustrated with five hundred and forty-two copperplates | number: 3\n"
     ]
    }
   ],
   "source": [
    "## List all editions of Encyclopaedia Britannica collection\n",
    "eb_collection = \"<https://w3id.org/hto/WorkCollection/EncyclopaediaBritannica>\"\n",
    "q2 = prepareQuery('''\n",
    "    SELECT * WHERE {\n",
    "        %s  a hto:WorkCollection;\n",
    "            hto:hadMember ?edition.\n",
    "        ?edition a hto:Edition;\n",
    "            hto:mmsid ?mmsid;\n",
    "            hto:title ?title.\n",
    "        OPTIONAL {\n",
    "            ?edition hto:subtitle ?subtitle;\n",
    "        }\n",
    "        OPTIONAL {\n",
    "            ?edition hto:number ?number.\n",
    "        }\n",
    "}\n",
    "  ''' % eb_collection,\n",
    "  initNs = { \"hto\": hto}\n",
    ")\n",
    "\n",
    "for r in graph.query(q2):\n",
    "      print(\"uri: %s | MMSID: %s | title: %s | subtitle: %s | number: %s\" % (r.edition, r.mmsid, r.title , r.subtitle,  r.number))"
   ],
   "metadata": {
    "collapsed": false
   }
  },
  {
   "cell_type": "code",
   "execution_count": 13,
   "outputs": [
    {
     "name": "stdout",
     "output_type": "stream",
     "text": [
      "uri: https://w3id.org/hto/Volume/9910796273804340_192547789 | title: Seventh edition, General index | number: 0 | id: 192547789 |  permanent url: https://digital.nls.uk/192547789 | letters: None\n",
      "uri: https://w3id.org/hto/Volume/9910796273804340_192693199 | title: Seventh edition, Volume 12, Hydrodynamics-KYR | number: 12 | id: 192693199 |  permanent url: https://digital.nls.uk/192693199 | letters: Hydrodynamics-KYR\n",
      "uri: https://w3id.org/hto/Volume/9910796273804340_192984258 | title: Seventh edition, Volume 1, Preliminary dissertations | number: 1 | id: 192984258 |  permanent url: https://digital.nls.uk/192984258 | letters: Preliminarydissertations\n",
      "uri: https://w3id.org/hto/Volume/9910796273804340_192984259 | title: Seventh edition, Volume 2, A-Anatomy | number: 2 | id: 192984259 |  permanent url: https://digital.nls.uk/192984259 | letters: A-Anatomy\n",
      "uri: https://w3id.org/hto/Volume/9910796273804340_193057500 | title: Seventh edition, Volume 3, Anatomy-Astronomy | number: 3 | id: 193057500 |  permanent url: https://digital.nls.uk/193057500 | letters: Anatomy-Astronomy\n",
      "uri: https://w3id.org/hto/Volume/9910796273804340_193057501 | title: Seventh edition, Volume 19, RAB-SCU | number: 19 | id: 193057501 |  permanent url: https://digital.nls.uk/193057501 | letters: RAB-SCU\n",
      "uri: https://w3id.org/hto/Volume/9910796273804340_193108322 | title: Seventh edition, Volume 4, Astronomy-BOR | number: 4 | id: 193108322 |  permanent url: https://digital.nls.uk/193108322 | letters: Astronomy-BOR\n",
      "uri: https://w3id.org/hto/Volume/9910796273804340_193108323 | title: Seventh edition, Volume 13, LAB-Magnetism | number: 13 | id: 193108323 |  permanent url: https://digital.nls.uk/193108323 | letters: LAB-Magnetism\n",
      "uri: https://w3id.org/hto/Volume/9910796273804340_193322688 | title: Seventh edition, Volume 8, DIA-England | number: 8 | id: 193322688 |  permanent url: https://digital.nls.uk/193322688 | letters: DIA-England\n",
      "uri: https://w3id.org/hto/Volume/9910796273804340_193322689 | title: Seventh edition, Volume 14, Magnetism-Mexico | number: 14 | id: 193322689 |  permanent url: https://digital.nls.uk/193322689 | letters: Magnetism-Mexico\n",
      "uri: https://w3id.org/hto/Volume/9910796273804340_193322690 | title: Seventh edition, Volume 6, CAL-Clock | number: 6 | id: 193322690 |  permanent url: https://digital.nls.uk/193322690 | letters: CAL-Clock\n",
      "uri: https://w3id.org/hto/Volume/9910796273804340_193469090 | title: Seventh edition, Volume 10, France-GRO | number: 10 | id: 193469090 |  permanent url: https://digital.nls.uk/193469090 | letters: France-GRO\n",
      "uri: https://w3id.org/hto/Volume/9910796273804340_193469091 | title: Seventh edition, Volume 17, PAN-Plastic nature | number: 17 | id: 193469091 |  permanent url: https://digital.nls.uk/193469091 | letters: PAN-Plasticnature\n",
      "uri: https://w3id.org/hto/Volume/9910796273804340_193469092 | title: Seventh edition, Volume 18, PLA-QUI | number: 18 | id: 193469092 |  permanent url: https://digital.nls.uk/193469092 | letters: PLA-QUI\n",
      "uri: https://w3id.org/hto/Volume/9910796273804340_193638940 | title: Seventh edition, Volume 11, Grotius-HYD | number: 11 | id: 193638940 |  permanent url: https://digital.nls.uk/193638940 | letters: Grotius-HYD\n",
      "uri: https://w3id.org/hto/Volume/9910796273804340_193696083 | title: Seventh edition, Volume 5, BOR-CAL | number: 5 | id: 193696083 |  permanent url: https://digital.nls.uk/193696083 | letters: BOR-CAL\n",
      "uri: https://w3id.org/hto/Volume/9910796273804340_193696084 | title: Seventh edition, Volume 9, England-FRA | number: 9 | id: 193696084 |  permanent url: https://digital.nls.uk/193696084 | letters: England-FRA\n",
      "uri: https://w3id.org/hto/Volume/9910796273804340_193819043 | title: Seventh edition, Volume 7, CLO-Dialling | number: 7 | id: 193819043 |  permanent url: https://digital.nls.uk/193819043 | letters: CLO-Dialling\n",
      "uri: https://w3id.org/hto/Volume/9910796273804340_193819044 | title: Seventh edition, Volume 15, MEY-Navigation | number: 15 | id: 193819044 |  permanent url: https://digital.nls.uk/193819044 | letters: MEY-Navigation\n",
      "uri: https://w3id.org/hto/Volume/9910796273804340_193819045 | title: Seventh edition, Volume 21, Surveying-ZYM | number: 21 | id: 193819045 |  permanent url: https://digital.nls.uk/193819045 | letters: Surveying-ZYM\n",
      "uri: https://w3id.org/hto/Volume/9910796273804340_193913444 | title: Seventh edition, Volume 20, Sculpture-SUR | number: 20 | id: 193913444 |  permanent url: https://digital.nls.uk/193913444 | letters: Sculpture-SUR\n",
      "uri: https://w3id.org/hto/Volume/9910796273804340_194474782 | title: Seventh edition, Volume 16, Navigation-PAN | number: 16 | id: 194474782 |  permanent url: https://digital.nls.uk/194474782 | letters: Navigation-PAN\n"
     ]
    }
   ],
   "source": [
    "## List all volumes in Encyclopaedia Britannica 7th Edition\n",
    "eb_edition7 = \"<https://w3id.org/hto/Edition/9910796273804340>\"\n",
    "q2 = prepareQuery('''\n",
    "    SELECT * WHERE {\n",
    "        %s  a hto:Edition;\n",
    "            hto:hadMember ?volume.\n",
    "        ?volume a hto:Volume;\n",
    "            hto:title ?title;\n",
    "            hto:number ?number;\n",
    "            hto:volumeId ?volumeId;\n",
    "            hto:permanentURL ?permanentURL.\n",
    "        OPTIONAL {\n",
    "            ?volume hto:letters ?letters;\n",
    "        }\n",
    "}\n",
    "  ''' % eb_edition7,\n",
    "  initNs = { \"hto\": hto}\n",
    ")\n",
    "\n",
    "for r in graph.query(q2):\n",
    "      print(\"uri: %s | title: %s | number: %s | id: %s |  permanent url: %s | letters: %s\" % (r.volume, r.title ,r.number, r.volumeId, r.permanentURL, r.letters))"
   ],
   "metadata": {
    "collapsed": false
   }
  },
  {
   "cell_type": "markdown",
   "source": [
    "### Question 3: What time period does a digitalised collection _C_ cover? (next version)"
   ],
   "metadata": {
    "collapsed": false
   }
  },
  {
   "cell_type": "code",
   "execution_count": 33,
   "outputs": [],
   "source": [
    "# TODO Get time period which a digitalised collection _C_ cover"
   ],
   "metadata": {
    "collapsed": false
   }
  },
  {
   "cell_type": "markdown",
   "source": [
    "### Question 4: When was edition _E_, series _S_, or volume _V_ published?"
   ],
   "metadata": {
    "collapsed": false
   }
  },
  {
   "cell_type": "code",
   "execution_count": 14,
   "outputs": [
    {
     "name": "stdout",
     "output_type": "stream",
     "text": [
      "MMSID: 9910796273804340 | title: Encyclopaedia Britannica |  number: 7 | year published: 1842 \n"
     ]
    }
   ],
   "source": [
    "eb_edition7 = \"<https://w3id.org/hto/Edition/9910796273804340>\"\n",
    "q4 = prepareQuery('''\n",
    "    SELECT * WHERE {\n",
    "        %s  a hto:Edition;\n",
    "            hto:mmsid ?mmsid;\n",
    "            hto:title ?title;\n",
    "            hto:number ?number;\n",
    "            hto:yearPublished ?year_published;\n",
    "}\n",
    "  ''' % eb_edition7,\n",
    "  initNs = { \"hto\": hto}\n",
    ")\n",
    "\n",
    "for r in graph.query(q4):\n",
    "      print(\"MMSID: %s | title: %s |  number: %s | year published: %s \" % (r.mmsid, r.title , r.number, r.year_published))"
   ],
   "metadata": {
    "collapsed": false
   }
  },
  {
   "cell_type": "markdown",
   "source": [
    "### Question 5: Who published edition _E_, series _S_, or volume _V_?"
   ],
   "metadata": {
    "collapsed": false
   }
  },
  {
   "cell_type": "code",
   "execution_count": 15,
   "outputs": [
    {
     "name": "stdout",
     "output_type": "stream",
     "text": [
      "MMSID: 9910796273804340 | title: Encyclopaedia Britannica | number: 7 | year published: 1842 | | (publisher: None | name: None) \n"
     ]
    }
   ],
   "source": [
    "from rdflib.namespace import FOAF\n",
    "\n",
    "eb_edition7 = \"<https://w3id.org/hto/Edition/9910796273804340>\"\n",
    "q5 = prepareQuery('''\n",
    "    SELECT * WHERE {\n",
    "        %s  a hto:Edition;\n",
    "            hto:mmsid ?mmsid;\n",
    "            hto:title ?title;\n",
    "            hto:number ?number;\n",
    "            hto:yearPublished ?year_published.\n",
    "        OPTIONAL {\n",
    "            %s hto:publisher ?publisher.\n",
    "            ?publisher foaf:name ?publisher_name;\n",
    "        }\n",
    "}\n",
    "  ''' % (eb_edition7, eb_edition7),\n",
    "  initNs = { \"hto\": hto, \"foaf\": FOAF}\n",
    ")\n",
    "\n",
    "for r in graph.query(q5):\n",
    "      print(\"MMSID: %s | title: %s | number: %s | year published: %s | | (publisher: %s | name: %s) \" % (r.mmsid, r.title , r.number, r.year_published, r.publisher, r.publisher_name))"
   ],
   "metadata": {
    "collapsed": false
   }
  },
  {
   "cell_type": "markdown",
   "source": [
    "### Question 6: Who edited edition _E_, series _S_, or volume _V_?"
   ],
   "metadata": {
    "collapsed": false
   }
  },
  {
   "cell_type": "code",
   "execution_count": 16,
   "outputs": [
    {
     "name": "stdout",
     "output_type": "stream",
     "text": [
      "MMSID: 9910796273804340 | title: Encyclopaedia Britannica | number: 7 | year published: 1842 | (editor: https://w3id.org/hto/Person/StewartDugald | name: Stewart, Dugald | terms of address: Sir | 1753-1828 ) \n"
     ]
    }
   ],
   "source": [
    "from rdflib.namespace import FOAF\n",
    "\n",
    "eb_edition7 = \"<https://w3id.org/hto/Edition/9910796273804340>\"\n",
    "q6 = prepareQuery('''\n",
    "    SELECT * WHERE {\n",
    "        %s  a hto:Edition;\n",
    "            hto:mmsid ?mmsid;\n",
    "            hto:title ?title;\n",
    "            hto:number ?number;\n",
    "            hto:yearPublished ?year_published.\n",
    "        OPTIONAL {\n",
    "            %s hto:editor ?editor.\n",
    "            ?editor a hto:Person;\n",
    "                foaf:name ?editor_name;\n",
    "            OPTIONAL {\n",
    "                ?editor hto:birthYear ?birthYear.\n",
    "            }\n",
    "            OPTIONAL {\n",
    "                ?editor hto:deathYear ?deathYear.\n",
    "            }\n",
    "            OPTIONAL {\n",
    "                ?editor hto:termsOfAddress ?termsOfAddress.\n",
    "            }\n",
    "        }\n",
    "}\n",
    "  ''' % (eb_edition7, eb_edition7),\n",
    "  initNs = { \"hto\": hto, \"foaf\": FOAF}\n",
    ")\n",
    "\n",
    "for r in graph.query(q6):\n",
    "      print(\"MMSID: %s | title: %s | number: %s | year published: %s | (editor: %s | name: %s | terms of address: %s | %s-%s ) \" % (r.mmsid, r.title , r.number, r.year_published, r.editor, r.editor_name, r.termsOfAddress,r.birthYear, r.deathYear))"
   ],
   "metadata": {
    "collapsed": false
   }
  },
  {
   "cell_type": "markdown",
   "source": [
    "### Question 7: Which genre does a volume _V_ belongs to?"
   ],
   "metadata": {
    "collapsed": false
   }
  },
  {
   "cell_type": "code",
   "execution_count": 17,
   "outputs": [
    {
     "name": "stdout",
     "output_type": "stream",
     "text": [
      "MMSID: 9910796273804340 | title: Encyclopaedia Britannica |  number: 7 | genre: encyclopedia \n"
     ]
    }
   ],
   "source": [
    "eb_edition7 = \"<https://w3id.org/hto/Edition/9910796273804340>\"\n",
    "q7 = prepareQuery('''\n",
    "    SELECT * WHERE {\n",
    "        %s  a hto:Edition;\n",
    "            hto:mmsid ?mmsid;\n",
    "            hto:title ?title;\n",
    "            hto:number ?number;\n",
    "            hto:genre ?genre;\n",
    "}\n",
    "  ''' % eb_edition7,\n",
    "  initNs = { \"hto\": hto}\n",
    ")\n",
    "\n",
    "for r in graph.query(q7):\n",
    "      print(\"MMSID: %s | title: %s |  number: %s | genre: %s \" % (r.mmsid, r.title , r.number, r.genre))"
   ],
   "metadata": {
    "collapsed": false
   }
  },
  {
   "cell_type": "markdown",
   "source": [
    "### Question 8: Where was a volume _V_ published or printed?"
   ],
   "metadata": {
    "collapsed": false
   }
  },
  {
   "cell_type": "code",
   "execution_count": 26,
   "outputs": [
    {
     "name": "stdout",
     "output_type": "stream",
     "text": [
      "MMSID: 9910796273804340 | title: Encyclopaedia Britannica |  number: 7 | place printed: https://w3id.org/hto/Location/Edinburgh | shelf locator: https://w3id.org/hto/Location/EB15 \n"
     ]
    }
   ],
   "source": [
    "eb_edition7 = \"<https://w3id.org/hto/Edition/9910796273804340>\"\n",
    "q8 = prepareQuery('''\n",
    "    SELECT * WHERE {\n",
    "        %s  a hto:Edition;\n",
    "            hto:mmsid ?mmsid;\n",
    "            hto:title ?title;\n",
    "            hto:number ?number;\n",
    "        OPTIONAL {\n",
    "            %s hto:printedAt ?placePrinted;\n",
    "        }\n",
    "        OPTIONAL {\n",
    "            %s hto:shelfLocator ?shelfLocator;\n",
    "        }\n",
    "}\n",
    "  ''' % (eb_edition7, eb_edition7, eb_edition7),\n",
    "  initNs = { \"hto\": hto}\n",
    ")\n",
    "\n",
    "for r in graph.query(q8):\n",
    "      print(\"MMSID: %s | title: %s |  number: %s | place printed: %s | shelf locator: %s \" % (r.mmsid, r.title , r.number, r.placePrinted, r.shelfLocator))"
   ],
   "metadata": {
    "collapsed": false
   }
  },
  {
   "cell_type": "markdown",
   "source": [
    "### Question 9: Which language does a volume _V_ use?"
   ],
   "metadata": {
    "collapsed": false
   }
  },
  {
   "cell_type": "code",
   "execution_count": 27,
   "outputs": [
    {
     "name": "stdout",
     "output_type": "stream",
     "text": [
      "MMSID: 9910796273804340 | title: Encyclopaedia Britannica |  number: 7 | language: eng \n"
     ]
    }
   ],
   "source": [
    "eb_edition7 = \"<https://w3id.org/hto/Edition/9910796273804340>\"\n",
    "q9 = prepareQuery('''\n",
    "    SELECT * WHERE {\n",
    "        %s  a hto:Edition;\n",
    "            hto:mmsid ?mmsid;\n",
    "            hto:title ?title;\n",
    "            hto:number ?number;\n",
    "            hto:language ?language;\n",
    "}\n",
    "  ''' % eb_edition7,\n",
    "  initNs = { \"hto\": hto}\n",
    ")\n",
    "\n",
    "for r in graph.query(q9):\n",
    "      print(\"MMSID: %s | title: %s |  number: %s | language: %s \" % (r.mmsid, r.title , r.number, r.language))"
   ],
   "metadata": {
    "collapsed": false
   }
  },
  {
   "cell_type": "markdown",
   "source": [
    "### Question 10: In EB, what articles a volume _V_ include?"
   ],
   "metadata": {
    "collapsed": false
   }
  },
  {
   "cell_type": "code",
   "execution_count": 32,
   "outputs": [
    {
     "name": "stdout",
     "output_type": "stream",
     "text": [
      "volume https://w3id.org/hto/ArticleTermRecord/9910796273804340_192984259_AAHUS_0\n",
      "volume https://w3id.org/hto/ArticleTermRecord/9910796273804340_192984259_AALBORG_0\n",
      "volume https://w3id.org/hto/ArticleTermRecord/9910796273804340_192984259_AALBORG_1\n",
      "volume https://w3id.org/hto/ArticleTermRecord/9910796273804340_192984259_AALEN_0\n",
      "volume https://w3id.org/hto/ArticleTermRecord/9910796273804340_192984259_AALEN_1\n",
      "volume https://w3id.org/hto/ArticleTermRecord/9910796273804340_192984259_AALSMEER_0\n",
      "volume https://w3id.org/hto/ArticleTermRecord/9910796273804340_192984259_AALTEN_0\n",
      "volume https://w3id.org/hto/ArticleTermRecord/9910796273804340_192984259_AAMADOT_0\n",
      "volume https://w3id.org/hto/ArticleTermRecord/9910796273804340_192984259_AAM_0\n",
      "volume https://w3id.org/hto/ArticleTermRecord/9910796273804340_192984259_AAM_1\n",
      "volume https://w3id.org/hto/ArticleTermRecord/9910796273804340_192984259_AARASSUS_0\n",
      "volume https://w3id.org/hto/ArticleTermRecord/9910796273804340_192984259_AARAU_0\n",
      "volume https://w3id.org/hto/ArticleTermRecord/9910796273804340_192984259_AARAU_1\n",
      "volume https://w3id.org/hto/ArticleTermRecord/9910796273804340_192984259_AARAU_2\n",
      "volume https://w3id.org/hto/ArticleTermRecord/9910796273804340_192984259_AARBURG_0\n",
      "volume https://w3id.org/hto/ArticleTermRecord/9910796273804340_192984259_AARDENBURG_0\n",
      "volume https://w3id.org/hto/ArticleTermRecord/9910796273804340_192984259_AARGAU_0\n",
      "volume https://w3id.org/hto/ArticleTermRecord/9910796273804340_192984259_AARGAU_1\n",
      "volume https://w3id.org/hto/ArticleTermRecord/9910796273804340_192984259_AARHUUS_0\n",
      "volume https://w3id.org/hto/ArticleTermRecord/9910796273804340_192984259_AARHUUS_1\n"
     ]
    }
   ],
   "source": [
    "# List 20 articles in volume 2 of 7th edition.\n",
    "eb_edition7_volume2 = \"<https://w3id.org/hto/Volume/9910796273804340_192984259>\"\n",
    "q10 = prepareQuery('''\n",
    "    SELECT * WHERE {\n",
    "        %s a hto:Volume;\n",
    "            hto:hadMember ?termRecord.\n",
    "    } LIMIT 20\n",
    "  ''' % (eb_edition7_volume2),\n",
    "  initNs = { \"hto\": hto}\n",
    ")\n",
    "\n",
    "for r in graph.query(q10):\n",
    "      print(\"volume %s\" % (r.termRecord))"
   ],
   "metadata": {
    "collapsed": false
   }
  },
  {
   "cell_type": "markdown",
   "source": [
    "### Question 11: Where an EB article _A_ was described (in a page, volume, edition)?"
   ],
   "metadata": {
    "collapsed": false
   }
  },
  {
   "cell_type": "code",
   "execution_count": 18,
   "outputs": [],
   "source": [
    "# Show which page an article starts at, which volume and edition, collection, this article was described\n",
    "article_name = \"'ACCENT'\"\n",
    "q11 = prepareQuery('''\n",
    "    SELECT * WHERE {\n",
    "        ?term a hto:ArticleTermRecord;\n",
    "            hto:name %s;\n",
    "            hto:startsAtPage ?page;\n",
    "            hto:wasMemberOf ?volume.\n",
    "        ?volume a hto:Volume.\n",
    "        OPTIONAL {\n",
    "            ?term hto:wasMemberOf ?edition.\n",
    "            ?edition a hto:Edition.\n",
    "        }\n",
    "        OPTIONAL {\n",
    "            ?term hto:wasMemberOf ?collection.\n",
    "            ?collection hto:name ?collection_name.\n",
    "            FILTER (regex(?collection_name, \"Collection$\", \"i\"))\n",
    "        }\n",
    "\n",
    "    } LIMIT 20\n",
    "  ''' % (article_name),\n",
    "  initNs = { \"hto\": hto}\n",
    ")\n",
    "\n",
    "for r in graph.query(q11):\n",
    "      print(\"term: %s | starts at page: %s | volume: %s | edition %s | collection: %s\" % (r.term, r.page, r.volume, r.edition, r.collection))"
   ],
   "metadata": {
    "collapsed": false
   }
  },
  {
   "cell_type": "markdown",
   "source": [
    "### Question 12: What are the EB articles which appear in all edition?"
   ],
   "metadata": {
    "collapsed": false
   }
  },
  {
   "cell_type": "code",
   "execution_count": 35,
   "outputs": [],
   "source": [
    "# TODO Question 12: What are the EB articles which appear in all edition?"
   ],
   "metadata": {
    "collapsed": false
   }
  },
  {
   "cell_type": "markdown",
   "source": [
    "### Question 13: What are the EB articles which appear in all edition?"
   ],
   "metadata": {
    "collapsed": false
   }
  },
  {
   "cell_type": "code",
   "execution_count": 43,
   "outputs": [],
   "source": [
    "# TODO Question 13: What EB articles were only appeared once in edition _E_?"
   ],
   "metadata": {
    "collapsed": false
   }
  },
  {
   "cell_type": "markdown",
   "source": [
    "### Question 14: What are EB articles related to another EB article _T_?"
   ],
   "metadata": {
    "collapsed": false
   }
  },
  {
   "cell_type": "code",
   "execution_count": 19,
   "outputs": [
    {
     "name": "stdout",
     "output_type": "stream",
     "text": [
      "term: ACCENT | see term: https://w3id.org/hto/ArticleTermRecord/9910796273804340_192984259_ACCENT_0\n",
      "term: ACCENT | see term: https://w3id.org/hto/ArticleTermRecord/9910796273804340_193057501_READING_0\n",
      "term: ACCENT | see term: https://w3id.org/hto/ArticleTermRecord/9910796273804340_193108323_LATIN_0\n"
     ]
    }
   ],
   "source": [
    "article_accent = \"<https://w3id.org/hto/ArticleTermRecord/9910796273804340_192984259_ACCENT_0>\"\n",
    "q14 = prepareQuery('''\n",
    "    SELECT * WHERE {\n",
    "        %s a hto:ArticleTermRecord;\n",
    "            hto:name ?name;\n",
    "        OPTIONAL {\n",
    "            %s hto:refersTo ?see_term.\n",
    "            ?see_term a hto:TermRecord.\n",
    "        }\n",
    "    } LIMIT 20\n",
    "  ''' % (article_accent, article_accent),\n",
    "  initNs = { \"hto\": hto}\n",
    ")\n",
    "\n",
    "for r in graph.query(q14):\n",
    "      print(\"term: %s | see term: %s\" % (r.name, r.see_term))"
   ],
   "metadata": {
    "collapsed": false
   }
  },
  {
   "cell_type": "markdown",
   "source": [
    "### Question 15: What are EB articles which has similar description to _T_?"
   ],
   "metadata": {
    "collapsed": false
   }
  },
  {
   "cell_type": "code",
   "execution_count": 20,
   "outputs": [
    {
     "name": "stdout",
     "output_type": "stream",
     "text": [
      "term: ACCENT | similar term: None\n"
     ]
    }
   ],
   "source": [
    "article_accent = \"<https://w3id.org/hto/ArticleTermRecord/9910796273804340_192984259_ACCENT_0>\"\n",
    "q15 = prepareQuery('''\n",
    "    SELECT * WHERE {\n",
    "        %s a hto:ArticleTermRecord;\n",
    "            hto:name ?name.\n",
    "        OPTIONAL {\n",
    "            %s hto:similarTo ?similar_term.\n",
    "            ?similar_term a hto:TermRecord.\n",
    "        }\n",
    "    } LIMIT 20\n",
    "  ''' % (article_accent, article_accent),\n",
    "  initNs = { \"hto\": hto}\n",
    ")\n",
    "\n",
    "for r in graph.query(q15):\n",
    "      print(\"term: %s | similar term: %s\" % (r.name, r.similar_term))"
   ],
   "metadata": {
    "collapsed": false
   }
  },
  {
   "cell_type": "markdown",
   "source": [
    "### Question 16: How a term with name _T_ was described in all editions?"
   ],
   "metadata": {
    "collapsed": false
   }
  },
  {
   "cell_type": "code",
   "execution_count": 19,
   "outputs": [],
   "source": [
    "term_name = \"'EARTH'\"\n",
    "q16 = prepareQuery('''\n",
    "    SELECT * WHERE {\n",
    "        ?term a hto:TermRecord;\n",
    "            hto:name %s;\n",
    "            hto:wasMemberOf ?edition;\n",
    "            hto:hasOriginalDescription ?desc.\n",
    "        ?desc hto:text ?content.\n",
    "        ?edition a hto:Edition;\n",
    "            hto:title ?title.\n",
    "    }\n",
    "  ''' % term_name,\n",
    "  initNs = { \"hto\": hto}\n",
    ")\n",
    "\n",
    "for r in graph.query(q16):\n",
    "      print(\"term uri: %s | description: %s |  edition: %s | edition title: %s\" % (r.term, r.content,  r.edition, r.title))"
   ],
   "metadata": {
    "collapsed": false
   }
  },
  {
   "cell_type": "markdown",
   "source": [
    "### Question 17: What is the text in a page?"
   ],
   "metadata": {
    "collapsed": false
   }
  },
  {
   "cell_type": "code",
   "execution_count": 39,
   "outputs": [
    {
     "name": "stdout",
     "output_type": "stream",
     "text": [
      "page uri: https://w3id.org/hto/Page/9910029463804340_104184208_1 | content: OR, THE Affectionate Lovers A T^ue Lore Song. PRINTED BY C: Mll ACHL 4N, For John Sinda r, Bock.e‘;:rr D U M f R.J £ S. | quality: https://w3id.org/hto#Low\n",
      "page uri: https://w3id.org/hto/Page/9910029463804340_104184208_2 | content: TH» Mridt's Burtd J, &f. ' » ' \\ ^ ! Come mourn, come niourn v/kir 1 ye loyal lovrs all; ( me ; Lament my loss in weeds of woe, whom gripping death doth thrall Like to the drooping vine, \" cut by the gard‘ner‘* knife, Bven so my heart, with (orryflain doth niourn for my i Trcet wife, j 15y death, that grizly Goft, my turtle dove was slain, And I’m left, unhappy man, to spend my days iavaip. 'Her beauty, late so bright, like rotes in tlieir*prime, Is jailed like the mountainfnc w; by Iro U of V , ■ ^ ' I 'll k \" V ■ • ' ’ <' ] t | quality: https://w3id.org/hto#Low\n",
      "page uri: https://w3id.org/hto/Page/9910029463804340_104184208_3 | content: ( 3 ) Her fair and coloured cheek?, now pale and wane her eyes, That late did fiiine like chryfta! alas! their light nawdies. (stars,Her pritty lilly hands, wkh fingers lo»g and finall, In colour like the e*r«y dew, yea, cold and stiff with all. • 'When, as the morning gay, her golden gates had spread. And that the glittering San arose, Forth from Theti/s bed ; Then did my lose awake, moil like the iilly flower* And as the lovely Quc«r. of may, so (hone (lie in her bower. Attired vra* (lie then, . lik# Flcwa in iisw bower. For as any of Diana's nymphs, so lookd’ my lovely h»7nr. . > / \\ . . v ■ ' r ■ * . . . V / / | quality: https://w3id.org/hto#Low\n",
      "page uri: https://w3id.org/hto/Page/9910029463804340_104184208_4 | content: I ( 4 ) And as fair Helen's face, give Grecian dames the lurch, : So did my dear in exceed, in sight all the virgins in the church. When we had knit the knot, .of holy wedlock bands, Like aiaba'tler join'd to wine, fio flood we hand and hand. Then low a ! chilling cold, — 11 ruck ev’ry vital part/ And grippling grief, like pangs of death, seiz’d on my true lov’s heart! » Dov/n in-a swoon file fe F, as cold a* any stone. Like Venu3 , picture wanting life, so was'my love brought home throughout her comely face, As Phoebus’ beams with wat’ry o’er cover’d with a space. (cloud At length a rosy red. | quality: https://w3id.org/hto#Low\n",
      "page uri: https://w3id.org/hto/Page/9910029463804340_104184208_5 | content: ( 5 ) Then with a grievous groan ! and voice both hoarse and dry Farevvel, quoth she., my lovely for I this day mud die ! (friends The meff'nger of death, with golden trump I lee, 'With many other angels mor Cj which found a call for me. In (lead of muf:c f veet, go ring my-pal Ting bell, And with f veet flowers draw my thatln my chamber smell. (grave Strip off my bride’s arry. my cork shoes from my feet. And gentle mother be so kind, as to bring my winding-lheec. My wedding-dinner dress, btifow upon the poor. And to the hungry, blind 6c lame that crav#th at the door. | quality: https://w3id.org/hto#Low\n"
     ]
    }
   ],
   "source": [
    "# check the text of a page from Chapbooks collection\n",
    "\n",
    "q17 = prepareQuery('''\n",
    "    SELECT * WHERE {\n",
    "        ?page a hto:Page;\n",
    "            hto:hasOriginalDescription ?desc.\n",
    "        ?desc hto:text ?text;\n",
    "            hto:hasTextQuality ?textQuality.\n",
    "    }\n",
    "    LIMIT 5\n",
    "  ''',\n",
    "  initNs = { \"hto\": hto}\n",
    ")\n",
    "\n",
    "for r in graph.query(q17):\n",
    "      print(\"page uri: %s | content: %s | quality: %s\" % (r.page, r.text, r.textQuality))"
   ],
   "metadata": {
    "collapsed": false
   }
  },
  {
   "cell_type": "markdown",
   "source": [
    "### Question 18: What sources the text descriptions of article _T_ or a page _P_ are extracted from?"
   ],
   "metadata": {
    "collapsed": false
   }
  },
  {
   "cell_type": "code",
   "execution_count": 13,
   "outputs": [
    {
     "name": "stdout",
     "output_type": "stream",
     "text": [
      "name: ACCENT | description: in reading or speaking, an inflection of the voice, which gives to each syllable of a word its due pitch in-respect of height or lowness. See Reading. The word is originally Latin, accentus ; a compound of ad, to, and cano, to sing. Accentus quasi adcantus, or juχtα can-turn. In this sense, accent is synonymous with the Greek τονος ; the Latin tenor, or tonor ; and the Hebrew t□yto, gustus, taste, Accent, among grammarians, is a certain mark, or  character placed over a syllable to direct the stress of its pronunciation. We generally reckon three grammatical accents in ordinary use, all borrowed from the Greeks, viz. the acute accent ('), which shows when the tone of the voice is to be raised; the grave accent ('), when the note or tone of the voice is to be depressed; and the circumflex accent ( a ), which is composed of both the acute and the grave, and points out a kind of undulation of the voice. The Latins have made the same use as the Greeks of these three accents.\n",
      "The Hebrews have a grammatical, a rhetorical, and a musical accent; though the first and last seem, in effect, to be the same, both being comprised under the general name of tonic accents, because they give the proper tones to syllables; as the rhetorical accents are said to be euphonic, because they tend to make the pronunciation more sweet and agreeable. There are four euphonic accents, and twenty-five tonic: of these some are placed above, and others below the syllables; the Hebrew accents serving not only to regulate the risings and fallings of the voice, but also to distinguish the sections, periods, and members of periods, in a discourse, and to answer the same purposes with the points in other languages. Their accents are divided into emperors, kings, dukes, &c. each bearing a title answerable to the importance of the distinction it makes. Their emperor rules over a whole phrase, and terminates the sense completely; answering to our point. Their king answers to our colon; and their duke to our comma. The king, however, occasionally becomes a duke, and the duke a king, as the phrases are more or less short. It must be noted, by the way, that the management and combination of these accents in Hebrew poetry differ from their management and combination in prose. The use of the tonic or grammatical accents has been much controverted; some holding that they distinguish the sense, while others maintain that they are only intended to regulate the music or singing, alleging that the Jews sing rather than read the Scriptures in their synagogues.^[1. Cooper, Dorn. Mosaic. Clav. p. 31. ] Be this, however, as it will, it is certain the ancient Hebrews were not acquainted with these accents. The opinion which prevails amongst the learned is, that they were invented about the sixth century, by the Jewish doctors of the school of Tiberias, called the Massorets.\n",
      "As to the Greek accents, now seen both in manuscripts and printed books, there has been no less dispute about their antiquity and use than about those of the Hebrews. Isaac Vossius endeavours to prove them of modern invention; asserting, that anciently they had nothing of this kind, but only a few notes in their poetry, which were invented by Aristophanes the grammarian, about the time of Ptolemy Philopater; and that these were of musical rather than grammatical use, serving as aids in the singing of their poems, and being very different from those afterwards introduced. He also shows, from several ancient grammarians, that the manner of writing the Greek accents in those days was quite different from that which appears in our books. The author of Lα Methode Grecque, p.546, observes, that the right pronunciation of the Greek language being natural to the Greeks, it was needless for them to mark it by accents in their writings; so that, according ţo all appearance, they only began to make use of them about the time when the Romans, wishing to learn the Greek tongue, sent their children to study at Athens, thinking thereby to fix the pronunciation, and to facilitate it to strangers; which happened, as the same author observes, a little before Cicero’s time. Wetstein, Greek professor at Basil, in a learned dissertation, endeavours to prove the Greek accents of an older standing. He owns that they were not always formed in the same manner by the ancients, but he thinks that difference owing to the different pronunciation which obtained' in the different parts of Greece. He also brings several reasons, a priori, for the use of accents, even in the earliest days: as, that all writing being then in capital letters equidistant from each other, without any distinction either of Words or phrases, it could scarcely have been rendered intelligible without accents; and that accents were necessary to distinguish ambiguous words, and to point out their proper meaning, as appears from a dispute in regard to a passage of Homer, mentioned by Aristotle in his Poetics, qhap. V. Accordingly, he observes that the Syrians, who have tonic, but not distinctive accents, have yet invented certain points, placed either below or above the words, to show their mood, tense, person, or sense.\n",
      "Mr Browne of Trinity College, Dublin, has entered more deeply into this investigation; and as he had an opportunity of conversing with the crew of a Greek ship from Patras, a town situated not far distant from the ancient Corinth, which had been driven by stress of weather into the port of Dingle in Ireland, the result of his inquiries was, that the practice of the modern Greeks is different from any of the theories that have been delivered in books. “It is true,” he observes, “they have not two pronunciations for prose and for verse, and in both they read by accent; but they make accent the cause of quantity, they make it govern and control quantity, they make the syllable long on which the acute accent falls, and they allow the acute accent to change the real quantity. They always read poetry as well as prose by accent. Whether any inference can hence be drawn as to the pronunciation of the ancients, I must leave, after what I have premised above, to men of more learning; but I think it at least so probable as to make it worth while to mention the instances which occurred in proof of this assertion more particularly. Of the two first persons whom I met, one, the steward of the ship, an inhabitant of the island of Cephalonia, had had a school education: he read Euripides, and translated some easier passages, without much difficulty. By a stay in this country of near two years, he was able to speak English very tolerably, as could also the captain and several of the crew; and almost all of them spoke Italian fluently. The companion, however, of the steward· could speak only modern Greek, in which I could discover that he was giving a description of the distress in which the ship had been; and though not able to understand the context, I could plainly distinguish many words, such as δενδξα, ξυλοv, and among the rest the sound of Aν6ξωττος pronounced short. This awoke my curiosity, which w as still more heightened when I observed that he said Av0gωπων long, with the same attention to the alteration of the accent with the variety of case, which a boy would be taught to pay at a school in England. Watching therefore more closely, and asking the other to read some ancient Greek, I found that they both uniformly pronounced according to accent, without any attention to long or short syllables where accent came in the way; and on their departure, one of them having bid me good day, by saying ^Kαλημεgα, to which I answered ^Kαλημεgα, he with strong marks of reprobation set me right, and repeated ^Kαλημεgα ; and with like censure did the captain upon another occasion observe upon my saying Socrates instead of Socrates.\n",
      "“I now had a strong wish to know whether they observed the distinction in this respect usually between verse and prose; but from the little scholarship of the two men with whom I had conversed, from the ignorance of a third whom I afterwards met, (who however read Lucian with ease, though he did not seem ever to have heard of the book,) and on account of my imperfect mode of conversing with them all, I had little hopes of satisfaction on the point-; nor was I clear that they perfectly knew the difference between verse and prose. At length, having met with the commander of the ship, and his clerk Athanasius Kονομος, and finding that the latter had been a schoolmaster in the Morea, and had here learnt to speak English fluently, I put the question to them in the presence of a very learned college friend, and at another time, to avoid any error, with the aid of a gentleman who is perfectly master of the Italian language. Both the Greeks repeatedly assured us that verse as well as prose was read by accent, and not by quantity; and exemplified it by reading several lines of Homer, with whose name they seemed perfectly well acquainted.\n",
      "“I shall give an instance or two of their mode of reading:\n",
      "Βη δ' ά£εων ¶agà ⅛ινα τrολιrpλοισζοιο ⅛dKασσης,\n",
      "Tòv δ' αvαμειZομενος πζοσf<pη ποδας ωκυς , Aχιλλευς,\n",
      "’ Eς δ' εgετας επιτηδες αγειgoμεν, 'ες δ ’ εκατoμζην.\n",
      "They made the ε in αzεwv, πgοσε<pη, and εgετctς, long. But when they read\n",
      "^Kλυ6ι μευ> ’ Aξγυg6nζ, íJ¢ Xg{ισην άμφιζεζηκας,\n",
      "they made the second syllable of the first word ~Kλυ0ι short, notwithstanding the acute accent: on my asking why, they desired me to look back on the circumflex on the first syllable, and said it thence necessarily followed; for it is impossible to pronounce the first syllable with the great length which the circumflex denotes, and not to shorten the second. The testimony of the schoolmaster might be vitiated; but what could be stronger than that of these ignorant mariners as to the vulgar common practice of modern Greece? and it is remarkable that this confirms the opinion of Bishop Horsley, that the tones of words in connection are not always the same with the tones of solitary words, though in those of more than one syllable the accentual marks do not change their position. I must here add, that these men confirmed an observation which I have heard made, that we are much mistaken in our idea of the supposed lofty sound of πολv<pλοισζοιο , i}αλασσης ; that the borderers on the coast of the Archipelago take their ideas from the gentle laving of the shore by a summer wave, and not from the roaring of a winter ocean; and they accordingly pronounced it polyphlisveo thalasses.\n",
      "“I own that the observations made by me on the pronunciation of these modern Greeks brought a perfectly new train of ideas into my mind. I propose them, with humility, for the consideration of the learned; but they have made a strong impression upon me, and approached, when compared with other admitted facts, nearly to conviction. In short, I am strongly inclined to believe, that what the famous treatise so often mentioned on the prosodies of the Greek and Latin languages mentions as the peculiarity of the English, that we always prolong the sound of the syllable on which the acute accent falls, is true, and has been true of every nation upon earth. We know it is true of the modern Italians: they read Latin in that respect just as we do, and say, Arma virumque cano, and, In nova fert animus, as much as we. And when we find the modern Greeks following the same practice, surely we have some cause to suppose that the ancients did the same. In the English language, indeed, quantity is not affected, because accent and quantity always agree. Bishop Horsley endeavoured to prove that they did so in Greek, but this is on the bold supposition that the accent doth not fall where the mark is placed. The objection to this hypothesis, which seems to have been admitted by all writers, and considered as decisive by some as to prose, by all as to verse, is, that such a mode of pronunciation or reading must destroy metre, or rhythmus. From this position, however universal, or however it may have been taken for granted, I totally dissent. That it will oppose the metre or quantity I readily agree; but that it will destroy the rhythmus, (by which, whatever learned descriptions there may have been of its meaning, I understand nothing more than the melody or smooth flowing of the verses, or their harmony, if you please, if harmony be properly applied to successive and not synchronal sounds,) I can by no means admit. On the contrary, nothing can be more disagreeable or unmelodious than the reading verse by quantity, or scanning of it, as it is vulgarly called. Let us try the line so often quoted—\n",
      "Armă vĭrūmqŭe cănō, Trōjaē qui prīmŭs ăb ōrīs,\n",
      "instead of\n",
      "Ārmă vĭrūmqūe cānŏ, Trōjaē qūi prīmŭs ăb ōrīs.\n",
      "“No man ever defined rhythmus better than Plato, ordinem quendam qui in motibus cernitur ; the motion or measure of the verse may be exact, and yet the order, arrangement, and disposition of the letters and syllables such as to be grating and unmelodious to the ear. In like manner the feet of the verse may be exact, but the stress laid upon particular syllables of it which follows the quantity may totally destroy the melody: in short, the radical error seems to be the confusion of quantity with melody, and the supposition that whatever is at war with quantity and metre must be at war with melody.\n",
      "“It will be asked, then, what is the use of metre or measure in verse, if we are not to read by it; and here is the grand difficulty; and I own with candour I cannot answer it with perfect satisfaction to my own mind: to those, indeed, who say wc are to read by accent in prose, it may be equally asked, what is the usé of long or short syllables in prose, if we are not to attend to them when, accent comes in the way; but to those who think otherwise, I can only answer, that in the first place accent doth not always interfere, and then quantity is our guide, and accent often accords with quantity. Secondly, metre determines the number of feet or measures in each verse, and thereby produces a general analogy and harmony through the whole; and it is to be observed, that, as I apprehend, accent doth not change the number of feet, though it doth the nature or species of them. Thus when we read\n",
      "Arma virumque cano, Trojae qui primus ab oris,\n",
      "we do not make more feet than when we scan the line, nor employ more time than in pronouncing the next line, in which the accent happens to accord with the quantity, viz.\n",
      "Italiam fato profiιgus, Lavinaque venit.\n",
      "Thirdly, the poet in measuring his verse certainly must be confined to some certain number and order of long and short syllables, in order to produce a concordance through the whole, and even to regulate the position of accent, which, though not subdued by quantity, will certainly have some relation to it, euphoniae gratia ; but surely the length or shortness of a syllable cannot determine where emphasis shall be placed—that must depend on the meaning and the thought; and it would be most absurd for the poet to say to the reader, you shall not rest upon this emphatic and significative word because its syllables are short, and wherever there is a rest, there must be length and intonation.” (Irish Trans, vol. vii.)\n",
      "The use of accents to prevent ambiguities is most remarkably perceived in some eastern languages, particularly the Siameseand Chinese. Among the people of China, every word, or, which is the same thing, every syllable, admits of five accents, according as it is spoken more acutely or remissly; and thus stands for many different things. The same sound ya, according to the accent affixed to it, signifies God, a wall, excellent, stupidity, and a goose. The Chinese have but 330 spoken words in their language; but these being multiplied by the different accents or tones which’ affect the vowels, furnish a language tolerably copious. By means of accents, their 330 simple sounds come to denote 1650 things; but this being hardly sufficient, they are increased further by aspirates added to each word, to double the number. The Chinese only reckon four accents, for which the missionaries use the following marks, aa, a, à, a ; to which they have added a fifth, thus α. They make a kind of modulation, wherein, prolonging the duration of the sound of the vowel, they vary the tone, raising and sinking it by a certain pitch of voice; so that their talking is a sort of music or singing. Attempts have been made to determine the quantity of the rise or fall on each accent by means of musical notes; but this is hard to effect, as being different in different persons. Hence the great difficulty of the language to foreigners, who are forced to sing most scrupulously; for if they deviate ever so little from the accent, they say quite a different thing from what was intended. Thus, meaning to compliment the person you are talking of with the title Sir, you call him a beast with the same word, only a little varied in the tone. Magalhon, however, makes the language easier to learn on this account. The Siamese are also observed to sing rather than to talk. Their alphabet begins with six characters, all only equivalent to a K, but differently accented. For though in the pronunciation the accents are naturally on the vowels, yet they have some to diversify such of their consonants as are in other respects the same. | source: https://raw.githubusercontent.com/TU-plogan/kp-editions/main/eb07/TXT_v2/a2/kp-eb0702-008305-0888-v2.txt | agent: https://pdf.abbyy.com\n",
      "name: ACCENT | description: in reading or speaking, an inflection of the voice, which gives to each syllable of a word its due pitch in-respect of height or lowness. See Reading. The word is originally Latin, accentus ; a compound of ad, to, and cano, to sing. Accentus quasi adcantus, or juχtα can-turn. In this sense, accent is synonymous with the Greek τονος ; the Latin tenor, or tonor ; and the Hebrew t□yto, gustus, taste, Accent, among grammarians, is a certain mark, or  character placed over a syllable to direct the stress of its pronunciation. We generally reckon three grammatical accents in ordinary use, all borrowed from the Greeks, viz. the acute accent ('), which shows when the tone of the voice is to be raised; the grave accent ('), when the note or tone of the voice is to be depressed; and the circumflex accent ( a ), which is composed of both the acute and the grave, and points out a kind of undulation of the voice. The Latins have made the same use as the Greeks of these three accents.\n",
      "The Hebrews have a grammatical, a rhetorical, and a musical accent; though the first and last seem, in effect, to be the same, both being comprised under the general name of tonic accents, because they give the proper tones to syllables; as the rhetorical accents are said to be euphonic, because they tend to make the pronunciation more sweet and agreeable. There are four euphonic accents, and twenty-five tonic: of these some are placed above, and others below the syllables; the Hebrew accents serving not only to regulate the risings and fallings of the voice, but also to distinguish the sections, periods, and members of periods, in a discourse, and to answer the same purposes with the points in other languages. Their accents are divided into emperors, kings, dukes, &c. each bearing a title answerable to the importance of the distinction it makes. Their emperor rules over a whole phrase, and terminates the sense completely; answering to our point. Their king answers to our colon; and their duke to our comma. The king, however, occasionally becomes a duke, and the duke a king, as the phrases are more or less short. It must be noted, by the way, that the management and combination of these accents in Hebrew poetry differ from their management and combination in prose. The use of the tonic or grammatical accents has been much controverted; some holding that they distinguish the sense, while others maintain that they are only intended to regulate the music or singing, alleging that the Jews sing rather than read the Scriptures in their synagogues.^[1. Cooper, Dorn. Mosaic. Clav. p. 31. ] Be this, however, as it will, it is certain the ancient Hebrews were not acquainted with these accents. The opinion which prevails amongst the learned is, that they were invented about the sixth century, by the Jewish doctors of the school of Tiberias, called the Massorets.\n",
      "As to the Greek accents, now seen both in manuscripts and printed books, there has been no less dispute about their antiquity and use than about those of the Hebrews. Isaac Vossius endeavours to prove them of modern invention; asserting, that anciently they had nothing of this kind, but only a few notes in their poetry, which were invented by Aristophanes the grammarian, about the time of Ptolemy Philopater; and that these were of musical rather than grammatical use, serving as aids in the singing of their poems, and being very different from those afterwards introduced. He also shows, from several ancient grammarians, that the manner of writing the Greek accents in those days was quite different from that which appears in our books. The author of Lα Methode Grecque, p.546, observes, that the right pronunciation of the Greek language being natural to the Greeks, it was needless for them to mark it by accents in their writings; so that, according ţo all appearance, they only began to make use of them about the time when the Romans, wishing to learn the Greek tongue, sent their children to study at Athens, thinking thereby to fix the pronunciation, and to facilitate it to strangers; which happened, as the same author observes, a little before Cicero’s time. Wetstein, Greek professor at Basil, in a learned dissertation, endeavours to prove the Greek accents of an older standing. He owns that they were not always formed in the same manner by the ancients, but he thinks that difference owing to the different pronunciation which obtained' in the different parts of Greece. He also brings several reasons, a priori, for the use of accents, even in the earliest days: as, that all writing being then in capital letters equidistant from each other, without any distinction either of Words or phrases, it could scarcely have been rendered intelligible without accents; and that accents were necessary to distinguish ambiguous words, and to point out their proper meaning, as appears from a dispute in regard to a passage of Homer, mentioned by Aristotle in his Poetics, qhap. V. Accordingly, he observes that the Syrians, who have tonic, but not distinctive accents, have yet invented certain points, placed either below or above the words, to show their mood, tense, person, or sense.\n",
      "Mr Browne of Trinity College, Dublin, has entered more deeply into this investigation; and as he had an opportunity of conversing with the crew of a Greek ship from Patras, a town situated not far distant from the ancient Corinth, which had been driven by stress of weather into the port of Dingle in Ireland, the result of his inquiries was, that the practice of the modern Greeks is different from any of the theories that have been delivered in books. “It is true,” he observes, “they have not two pronunciations for prose and for verse, and in both they read by accent; but they make accent the cause of quantity, they make it govern and control quantity, they make the syllable long on which the acute accent falls, and they allow the acute accent to change the real quantity. They always read poetry as well as prose by accent. Whether any inference can hence be drawn as to the pronunciation of the ancients, I must leave, after what I have premised above, to men of more learning; but I think it at least so probable as to make it worth while to mention the instances which occurred in proof of this assertion more particularly. Of the two first persons whom I met, one, the steward of the ship, an inhabitant of the island of Cephalonia, had had a school education: he read Euripides, and translated some easier passages, without much difficulty. By a stay in this country of near two years, he was able to speak English very tolerably, as could also the captain and several of the crew; and almost all of them spoke Italian fluently. The companion, however, of the steward· could speak only modern Greek, in which I could discover that he was giving a description of the distress in which the ship had been; and though not able to understand the context, I could plainly distinguish many words, such as δενδξα, ξυλοv, and among the rest the sound of Aν6ξωττος pronounced short. This awoke my curiosity, which w as still more heightened when I observed that he said Av0gωπων long, with the same attention to the alteration of the accent with the variety of case, which a boy would be taught to pay at a school in England. Watching therefore more closely, and asking the other to read some ancient Greek, I found that they both uniformly pronounced according to accent, without any attention to long or short syllables where accent came in the way; and on their departure, one of them having bid me good day, by saying ^Kαλημεgα, to which I answered ^Kαλημεgα, he with strong marks of reprobation set me right, and repeated ^Kαλημεgα ; and with like censure did the captain upon another occasion observe upon my saying Socrates instead of Socrates.\n",
      "“I now had a strong wish to know whether they observed the distinction in this respect usually between verse and prose; but from the little scholarship of the two men with whom I had conversed, from the ignorance of a third whom I afterwards met, (who however read Lucian with ease, though he did not seem ever to have heard of the book,) and on account of my imperfect mode of conversing with them all, I had little hopes of satisfaction on the point-; nor was I clear that they perfectly knew the difference between verse and prose. At length, having met with the commander of the ship, and his clerk Athanasius Kονομος, and finding that the latter had been a schoolmaster in the Morea, and had here learnt to speak English fluently, I put the question to them in the presence of a very learned college friend, and at another time, to avoid any error, with the aid of a gentleman who is perfectly master of the Italian language. Both the Greeks repeatedly assured us that verse as well as prose was read by accent, and not by quantity; and exemplified it by reading several lines of Homer, with whose name they seemed perfectly well acquainted.\n",
      "“I shall give an instance or two of their mode of reading:\n",
      "Βη δ' ά£εων ¶agà ⅛ινα τrολιrpλοισζοιο ⅛dKασσης,\n",
      "Tòv δ' αvαμειZομενος πζοσf<pη ποδας ωκυς , Aχιλλευς,\n",
      "’ Eς δ' εgετας επιτηδες αγειgoμεν, 'ες δ ’ εκατoμζην.\n",
      "They made the ε in αzεwv, πgοσε<pη, and εgετctς, long. But when they read\n",
      "^Kλυ6ι μευ> ’ Aξγυg6nζ, íJ¢ Xg{ισην άμφιζεζηκας,\n",
      "they made the second syllable of the first word ~Kλυ0ι short, notwithstanding the acute accent: on my asking why, they desired me to look back on the circumflex on the first syllable, and said it thence necessarily followed; for it is impossible to pronounce the first syllable with the great length which the circumflex denotes, and not to shorten the second. The testimony of the schoolmaster might be vitiated; but what could be stronger than that of these ignorant mariners as to the vulgar common practice of modern Greece? and it is remarkable that this confirms the opinion of Bishop Horsley, that the tones of words in connection are not always the same with the tones of solitary words, though in those of more than one syllable the accentual marks do not change their position. I must here add, that these men confirmed an observation which I have heard made, that we are much mistaken in our idea of the supposed lofty sound of πολv<pλοισζοιο , i}αλασσης ; that the borderers on the coast of the Archipelago take their ideas from the gentle laving of the shore by a summer wave, and not from the roaring of a winter ocean; and they accordingly pronounced it polyphlisveo thalasses.\n",
      "“I own that the observations made by me on the pronunciation of these modern Greeks brought a perfectly new train of ideas into my mind. I propose them, with humility, for the consideration of the learned; but they have made a strong impression upon me, and approached, when compared with other admitted facts, nearly to conviction. In short, I am strongly inclined to believe, that what the famous treatise so often mentioned on the prosodies of the Greek and Latin languages mentions as the peculiarity of the English, that we always prolong the sound of the syllable on which the acute accent falls, is true, and has been true of every nation upon earth. We know it is true of the modern Italians: they read Latin in that respect just as we do, and say, Arma virumque cano, and, In nova fert animus, as much as we. And when we find the modern Greeks following the same practice, surely we have some cause to suppose that the ancients did the same. In the English language, indeed, quantity is not affected, because accent and quantity always agree. Bishop Horsley endeavoured to prove that they did so in Greek, but this is on the bold supposition that the accent doth not fall where the mark is placed. The objection to this hypothesis, which seems to have been admitted by all writers, and considered as decisive by some as to prose, by all as to verse, is, that such a mode of pronunciation or reading must destroy metre, or rhythmus. From this position, however universal, or however it may have been taken for granted, I totally dissent. That it will oppose the metre or quantity I readily agree; but that it will destroy the rhythmus, (by which, whatever learned descriptions there may have been of its meaning, I understand nothing more than the melody or smooth flowing of the verses, or their harmony, if you please, if harmony be properly applied to successive and not synchronal sounds,) I can by no means admit. On the contrary, nothing can be more disagreeable or unmelodious than the reading verse by quantity, or scanning of it, as it is vulgarly called. Let us try the line so often quoted—\n",
      "Armă vĭrūmqŭe cănō, Trōjaē qui prīmŭs ăb ōrīs,\n",
      "instead of\n",
      "Ārmă vĭrūmqūe cānŏ, Trōjaē qūi prīmŭs ăb ōrīs.\n",
      "“No man ever defined rhythmus better than Plato, ordinem quendam qui in motibus cernitur ; the motion or measure of the verse may be exact, and yet the order, arrangement, and disposition of the letters and syllables such as to be grating and unmelodious to the ear. In like manner the feet of the verse may be exact, but the stress laid upon particular syllables of it which follows the quantity may totally destroy the melody: in short, the radical error seems to be the confusion of quantity with melody, and the supposition that whatever is at war with quantity and metre must be at war with melody.\n",
      "“It will be asked, then, what is the use of metre or measure in verse, if we are not to read by it; and here is the grand difficulty; and I own with candour I cannot answer it with perfect satisfaction to my own mind: to those, indeed, who say wc are to read by accent in prose, it may be equally asked, what is the usé of long or short syllables in prose, if we are not to attend to them when, accent comes in the way; but to those who think otherwise, I can only answer, that in the first place accent doth not always interfere, and then quantity is our guide, and accent often accords with quantity. Secondly, metre determines the number of feet or measures in each verse, and thereby produces a general analogy and harmony through the whole; and it is to be observed, that, as I apprehend, accent doth not change the number of feet, though it doth the nature or species of them. Thus when we read\n",
      "Arma virumque cano, Trojae qui primus ab oris,\n",
      "we do not make more feet than when we scan the line, nor employ more time than in pronouncing the next line, in which the accent happens to accord with the quantity, viz.\n",
      "Italiam fato profiιgus, Lavinaque venit.\n",
      "Thirdly, the poet in measuring his verse certainly must be confined to some certain number and order of long and short syllables, in order to produce a concordance through the whole, and even to regulate the position of accent, which, though not subdued by quantity, will certainly have some relation to it, euphoniae gratia ; but surely the length or shortness of a syllable cannot determine where emphasis shall be placed—that must depend on the meaning and the thought; and it would be most absurd for the poet to say to the reader, you shall not rest upon this emphatic and significative word because its syllables are short, and wherever there is a rest, there must be length and intonation.” (Irish Trans, vol. vii.)\n",
      "The use of accents to prevent ambiguities is most remarkably perceived in some eastern languages, particularly the Siameseand Chinese. Among the people of China, every word, or, which is the same thing, every syllable, admits of five accents, according as it is spoken more acutely or remissly; and thus stands for many different things. The same sound ya, according to the accent affixed to it, signifies God, a wall, excellent, stupidity, and a goose. The Chinese have but 330 spoken words in their language; but these being multiplied by the different accents or tones which’ affect the vowels, furnish a language tolerably copious. By means of accents, their 330 simple sounds come to denote 1650 things; but this being hardly sufficient, they are increased further by aspirates added to each word, to double the number. The Chinese only reckon four accents, for which the missionaries use the following marks, aa, a, à, a ; to which they have added a fifth, thus α. They make a kind of modulation, wherein, prolonging the duration of the sound of the vowel, they vary the tone, raising and sinking it by a certain pitch of voice; so that their talking is a sort of music or singing. Attempts have been made to determine the quantity of the rise or fall on each accent by means of musical notes; but this is hard to effect, as being different in different persons. Hence the great difficulty of the language to foreigners, who are forced to sing most scrupulously; for if they deviate ever so little from the accent, they say quite a different thing from what was intended. Thus, meaning to compliment the person you are talking of with the title Sir, you call him a beast with the same word, only a little varied in the tone. Magalhon, however, makes the language easier to learn on this account. The Siamese are also observed to sing rather than to talk. Their alphabet begins with six characters, all only equivalent to a K, but differently accented. For though in the pronunciation the accents are naturally on the vowels, yet they have some to diversify such of their consonants as are in other respects the same. | source: https://raw.githubusercontent.com/TU-plogan/kp-editions/main/eb07/TXT_v2/a2/kp-eb0702-008305-0888-v2.txt | agent: https://w3id.org/hto/Organization/NCKP\n",
      "name: ACCENT | description: in reading or speaking, an inflection voice, which gives to each syllable of a word its in respect of height or lowness. See Reading. word is originally Latin, accentus ; a compound and cano, to sing. Accentus quasi adcantus, or turn. In this sense, accent is synonymous with rows; the Latin tenor, or tonor; and the Hebrew Accent, among grammarians, is a certain | source: https://w3id.org/hto/InformationResource/192984259_alto_193030890_34_xml | agent: https://w3id.org/hto/Organization/NLS\n"
     ]
    }
   ],
   "source": [
    "from rdflib import PROV\n",
    "\n",
    "article_accent = \"<https://w3id.org/hto/ArticleTermRecord/9910796273804340_192984259_ACCENT_0>\"\n",
    "q18 = prepareQuery('''\n",
    "    SELECT * WHERE {\n",
    "        %s a hto:ArticleTermRecord;\n",
    "            hto:name ?name;\n",
    "            hto:hasOriginalDescription ?desc.\n",
    "        ?desc hto:wasExtractedFrom ?source;\n",
    "            hto:text ?text.\n",
    "        ?source prov:wasAttributedTo ?agent.\n",
    "    }\n",
    "  ''' % article_accent,\n",
    "  initNs = { \"hto\": hto, \"prov\": PROV}\n",
    ")\n",
    "\n",
    "for r in graph.query(q18):\n",
    "      print(\"name: %s | description: %s | source: %s | agent: %s\" % (r.name,  r.text, r.source, r.agent))"
   ],
   "metadata": {
    "collapsed": false
   }
  },
  {
   "cell_type": "markdown",
   "source": [
    "### Question 19: What is the High quality description of term _T_?"
   ],
   "metadata": {
    "collapsed": false
   }
  },
  {
   "cell_type": "code",
   "execution_count": 8,
   "outputs": [
    {
     "name": "stdout",
     "output_type": "stream",
     "text": [
      "name: ACCENT | description: in reading or speaking, an inflection of the voice, which gives to each syllable of a word its due pitch in-respect of height or lowness. See Reading. The word is originally Latin, accentus ; a compound of ad, to, and cano, to sing. Accentus quasi adcantus, or juχtα can-turn. In this sense, accent is synonymous with the Greek τονος ; the Latin tenor, or tonor ; and the Hebrew t□yto, gustus, taste, Accent, among grammarians, is a certain mark, or  character placed over a syllable to direct the stress of its pronunciation. We generally reckon three grammatical accents in ordinary use, all borrowed from the Greeks, viz. the acute accent ('), which shows when the tone of the voice is to be raised; the grave accent ('), when the note or tone of the voice is to be depressed; and the circumflex accent ( a ), which is composed of both the acute and the grave, and points out a kind of undulation of the voice. The Latins have made the same use as the Greeks of these three accents.\n",
      "The Hebrews have a grammatical, a rhetorical, and a musical accent; though the first and last seem, in effect, to be the same, both being comprised under the general name of tonic accents, because they give the proper tones to syllables; as the rhetorical accents are said to be euphonic, because they tend to make the pronunciation more sweet and agreeable. There are four euphonic accents, and twenty-five tonic: of these some are placed above, and others below the syllables; the Hebrew accents serving not only to regulate the risings and fallings of the voice, but also to distinguish the sections, periods, and members of periods, in a discourse, and to answer the same purposes with the points in other languages. Their accents are divided into emperors, kings, dukes, &c. each bearing a title answerable to the importance of the distinction it makes. Their emperor rules over a whole phrase, and terminates the sense completely; answering to our point. Their king answers to our colon; and their duke to our comma. The king, however, occasionally becomes a duke, and the duke a king, as the phrases are more or less short. It must be noted, by the way, that the management and combination of these accents in Hebrew poetry differ from their management and combination in prose. The use of the tonic or grammatical accents has been much controverted; some holding that they distinguish the sense, while others maintain that they are only intended to regulate the music or singing, alleging that the Jews sing rather than read the Scriptures in their synagogues.^[1. Cooper, Dorn. Mosaic. Clav. p. 31. ] Be this, however, as it will, it is certain the ancient Hebrews were not acquainted with these accents. The opinion which prevails amongst the learned is, that they were invented about the sixth century, by the Jewish doctors of the school of Tiberias, called the Massorets.\n",
      "As to the Greek accents, now seen both in manuscripts and printed books, there has been no less dispute about their antiquity and use than about those of the Hebrews. Isaac Vossius endeavours to prove them of modern invention; asserting, that anciently they had nothing of this kind, but only a few notes in their poetry, which were invented by Aristophanes the grammarian, about the time of Ptolemy Philopater; and that these were of musical rather than grammatical use, serving as aids in the singing of their poems, and being very different from those afterwards introduced. He also shows, from several ancient grammarians, that the manner of writing the Greek accents in those days was quite different from that which appears in our books. The author of Lα Methode Grecque, p.546, observes, that the right pronunciation of the Greek language being natural to the Greeks, it was needless for them to mark it by accents in their writings; so that, according ţo all appearance, they only began to make use of them about the time when the Romans, wishing to learn the Greek tongue, sent their children to study at Athens, thinking thereby to fix the pronunciation, and to facilitate it to strangers; which happened, as the same author observes, a little before Cicero’s time. Wetstein, Greek professor at Basil, in a learned dissertation, endeavours to prove the Greek accents of an older standing. He owns that they were not always formed in the same manner by the ancients, but he thinks that difference owing to the different pronunciation which obtained' in the different parts of Greece. He also brings several reasons, a priori, for the use of accents, even in the earliest days: as, that all writing being then in capital letters equidistant from each other, without any distinction either of Words or phrases, it could scarcely have been rendered intelligible without accents; and that accents were necessary to distinguish ambiguous words, and to point out their proper meaning, as appears from a dispute in regard to a passage of Homer, mentioned by Aristotle in his Poetics, qhap. V. Accordingly, he observes that the Syrians, who have tonic, but not distinctive accents, have yet invented certain points, placed either below or above the words, to show their mood, tense, person, or sense.\n",
      "Mr Browne of Trinity College, Dublin, has entered more deeply into this investigation; and as he had an opportunity of conversing with the crew of a Greek ship from Patras, a town situated not far distant from the ancient Corinth, which had been driven by stress of weather into the port of Dingle in Ireland, the result of his inquiries was, that the practice of the modern Greeks is different from any of the theories that have been delivered in books. “It is true,” he observes, “they have not two pronunciations for prose and for verse, and in both they read by accent; but they make accent the cause of quantity, they make it govern and control quantity, they make the syllable long on which the acute accent falls, and they allow the acute accent to change the real quantity. They always read poetry as well as prose by accent. Whether any inference can hence be drawn as to the pronunciation of the ancients, I must leave, after what I have premised above, to men of more learning; but I think it at least so probable as to make it worth while to mention the instances which occurred in proof of this assertion more particularly. Of the two first persons whom I met, one, the steward of the ship, an inhabitant of the island of Cephalonia, had had a school education: he read Euripides, and translated some easier passages, without much difficulty. By a stay in this country of near two years, he was able to speak English very tolerably, as could also the captain and several of the crew; and almost all of them spoke Italian fluently. The companion, however, of the steward· could speak only modern Greek, in which I could discover that he was giving a description of the distress in which the ship had been; and though not able to understand the context, I could plainly distinguish many words, such as δενδξα, ξυλοv, and among the rest the sound of Aν6ξωττος pronounced short. This awoke my curiosity, which w as still more heightened when I observed that he said Av0gωπων long, with the same attention to the alteration of the accent with the variety of case, which a boy would be taught to pay at a school in England. Watching therefore more closely, and asking the other to read some ancient Greek, I found that they both uniformly pronounced according to accent, without any attention to long or short syllables where accent came in the way; and on their departure, one of them having bid me good day, by saying ^Kαλημεgα, to which I answered ^Kαλημεgα, he with strong marks of reprobation set me right, and repeated ^Kαλημεgα ; and with like censure did the captain upon another occasion observe upon my saying Socrates instead of Socrates.\n",
      "“I now had a strong wish to know whether they observed the distinction in this respect usually between verse and prose; but from the little scholarship of the two men with whom I had conversed, from the ignorance of a third whom I afterwards met, (who however read Lucian with ease, though he did not seem ever to have heard of the book,) and on account of my imperfect mode of conversing with them all, I had little hopes of satisfaction on the point-; nor was I clear that they perfectly knew the difference between verse and prose. At length, having met with the commander of the ship, and his clerk Athanasius Kονομος, and finding that the latter had been a schoolmaster in the Morea, and had here learnt to speak English fluently, I put the question to them in the presence of a very learned college friend, and at another time, to avoid any error, with the aid of a gentleman who is perfectly master of the Italian language. Both the Greeks repeatedly assured us that verse as well as prose was read by accent, and not by quantity; and exemplified it by reading several lines of Homer, with whose name they seemed perfectly well acquainted.\n",
      "“I shall give an instance or two of their mode of reading:\n",
      "Βη δ' ά£εων ¶agà ⅛ινα τrολιrpλοισζοιο ⅛dKασσης,\n",
      "Tòv δ' αvαμειZομενος πζοσf<pη ποδας ωκυς , Aχιλλευς,\n",
      "’ Eς δ' εgετας επιτηδες αγειgoμεν, 'ες δ ’ εκατoμζην.\n",
      "They made the ε in αzεwv, πgοσε<pη, and εgετctς, long. But when they read\n",
      "^Kλυ6ι μευ> ’ Aξγυg6nζ, íJ¢ Xg{ισην άμφιζεζηκας,\n",
      "they made the second syllable of the first word ~Kλυ0ι short, notwithstanding the acute accent: on my asking why, they desired me to look back on the circumflex on the first syllable, and said it thence necessarily followed; for it is impossible to pronounce the first syllable with the great length which the circumflex denotes, and not to shorten the second. The testimony of the schoolmaster might be vitiated; but what could be stronger than that of these ignorant mariners as to the vulgar common practice of modern Greece? and it is remarkable that this confirms the opinion of Bishop Horsley, that the tones of words in connection are not always the same with the tones of solitary words, though in those of more than one syllable the accentual marks do not change their position. I must here add, that these men confirmed an observation which I have heard made, that we are much mistaken in our idea of the supposed lofty sound of πολv<pλοισζοιο , i}αλασσης ; that the borderers on the coast of the Archipelago take their ideas from the gentle laving of the shore by a summer wave, and not from the roaring of a winter ocean; and they accordingly pronounced it polyphlisveo thalasses.\n",
      "“I own that the observations made by me on the pronunciation of these modern Greeks brought a perfectly new train of ideas into my mind. I propose them, with humility, for the consideration of the learned; but they have made a strong impression upon me, and approached, when compared with other admitted facts, nearly to conviction. In short, I am strongly inclined to believe, that what the famous treatise so often mentioned on the prosodies of the Greek and Latin languages mentions as the peculiarity of the English, that we always prolong the sound of the syllable on which the acute accent falls, is true, and has been true of every nation upon earth. We know it is true of the modern Italians: they read Latin in that respect just as we do, and say, Arma virumque cano, and, In nova fert animus, as much as we. And when we find the modern Greeks following the same practice, surely we have some cause to suppose that the ancients did the same. In the English language, indeed, quantity is not affected, because accent and quantity always agree. Bishop Horsley endeavoured to prove that they did so in Greek, but this is on the bold supposition that the accent doth not fall where the mark is placed. The objection to this hypothesis, which seems to have been admitted by all writers, and considered as decisive by some as to prose, by all as to verse, is, that such a mode of pronunciation or reading must destroy metre, or rhythmus. From this position, however universal, or however it may have been taken for granted, I totally dissent. That it will oppose the metre or quantity I readily agree; but that it will destroy the rhythmus, (by which, whatever learned descriptions there may have been of its meaning, I understand nothing more than the melody or smooth flowing of the verses, or their harmony, if you please, if harmony be properly applied to successive and not synchronal sounds,) I can by no means admit. On the contrary, nothing can be more disagreeable or unmelodious than the reading verse by quantity, or scanning of it, as it is vulgarly called. Let us try the line so often quoted—\n",
      "Armă vĭrūmqŭe cănō, Trōjaē qui prīmŭs ăb ōrīs,\n",
      "instead of\n",
      "Ārmă vĭrūmqūe cānŏ, Trōjaē qūi prīmŭs ăb ōrīs.\n",
      "“No man ever defined rhythmus better than Plato, ordinem quendam qui in motibus cernitur ; the motion or measure of the verse may be exact, and yet the order, arrangement, and disposition of the letters and syllables such as to be grating and unmelodious to the ear. In like manner the feet of the verse may be exact, but the stress laid upon particular syllables of it which follows the quantity may totally destroy the melody: in short, the radical error seems to be the confusion of quantity with melody, and the supposition that whatever is at war with quantity and metre must be at war with melody.\n",
      "“It will be asked, then, what is the use of metre or measure in verse, if we are not to read by it; and here is the grand difficulty; and I own with candour I cannot answer it with perfect satisfaction to my own mind: to those, indeed, who say wc are to read by accent in prose, it may be equally asked, what is the usé of long or short syllables in prose, if we are not to attend to them when, accent comes in the way; but to those who think otherwise, I can only answer, that in the first place accent doth not always interfere, and then quantity is our guide, and accent often accords with quantity. Secondly, metre determines the number of feet or measures in each verse, and thereby produces a general analogy and harmony through the whole; and it is to be observed, that, as I apprehend, accent doth not change the number of feet, though it doth the nature or species of them. Thus when we read\n",
      "Arma virumque cano, Trojae qui primus ab oris,\n",
      "we do not make more feet than when we scan the line, nor employ more time than in pronouncing the next line, in which the accent happens to accord with the quantity, viz.\n",
      "Italiam fato profiιgus, Lavinaque venit.\n",
      "Thirdly, the poet in measuring his verse certainly must be confined to some certain number and order of long and short syllables, in order to produce a concordance through the whole, and even to regulate the position of accent, which, though not subdued by quantity, will certainly have some relation to it, euphoniae gratia ; but surely the length or shortness of a syllable cannot determine where emphasis shall be placed—that must depend on the meaning and the thought; and it would be most absurd for the poet to say to the reader, you shall not rest upon this emphatic and significative word because its syllables are short, and wherever there is a rest, there must be length and intonation.” (Irish Trans, vol. vii.)\n",
      "The use of accents to prevent ambiguities is most remarkably perceived in some eastern languages, particularly the Siameseand Chinese. Among the people of China, every word, or, which is the same thing, every syllable, admits of five accents, according as it is spoken more acutely or remissly; and thus stands for many different things. The same sound ya, according to the accent affixed to it, signifies God, a wall, excellent, stupidity, and a goose. The Chinese have but 330 spoken words in their language; but these being multiplied by the different accents or tones which’ affect the vowels, furnish a language tolerably copious. By means of accents, their 330 simple sounds come to denote 1650 things; but this being hardly sufficient, they are increased further by aspirates added to each word, to double the number. The Chinese only reckon four accents, for which the missionaries use the following marks, aa, a, à, a ; to which they have added a fifth, thus α. They make a kind of modulation, wherein, prolonging the duration of the sound of the vowel, they vary the tone, raising and sinking it by a certain pitch of voice; so that their talking is a sort of music or singing. Attempts have been made to determine the quantity of the rise or fall on each accent by means of musical notes; but this is hard to effect, as being different in different persons. Hence the great difficulty of the language to foreigners, who are forced to sing most scrupulously; for if they deviate ever so little from the accent, they say quite a different thing from what was intended. Thus, meaning to compliment the person you are talking of with the title Sir, you call him a beast with the same word, only a little varied in the tone. Magalhon, however, makes the language easier to learn on this account. The Siamese are also observed to sing rather than to talk. Their alphabet begins with six characters, all only equivalent to a K, but differently accented. For though in the pronunciation the accents are naturally on the vowels, yet they have some to diversify such of their consonants as are in other respects the same. | source: https://raw.githubusercontent.com/TU-plogan/kp-editions/main/eb07/TXT_v2/a2/kp-eb0702-008305-0888-v2.txt | agent: https://pdf.abbyy.com\n",
      "name: ACCENT | description: in reading or speaking, an inflection of the voice, which gives to each syllable of a word its due pitch in-respect of height or lowness. See Reading. The word is originally Latin, accentus ; a compound of ad, to, and cano, to sing. Accentus quasi adcantus, or juχtα can-turn. In this sense, accent is synonymous with the Greek τονος ; the Latin tenor, or tonor ; and the Hebrew t□yto, gustus, taste, Accent, among grammarians, is a certain mark, or  character placed over a syllable to direct the stress of its pronunciation. We generally reckon three grammatical accents in ordinary use, all borrowed from the Greeks, viz. the acute accent ('), which shows when the tone of the voice is to be raised; the grave accent ('), when the note or tone of the voice is to be depressed; and the circumflex accent ( a ), which is composed of both the acute and the grave, and points out a kind of undulation of the voice. The Latins have made the same use as the Greeks of these three accents.\n",
      "The Hebrews have a grammatical, a rhetorical, and a musical accent; though the first and last seem, in effect, to be the same, both being comprised under the general name of tonic accents, because they give the proper tones to syllables; as the rhetorical accents are said to be euphonic, because they tend to make the pronunciation more sweet and agreeable. There are four euphonic accents, and twenty-five tonic: of these some are placed above, and others below the syllables; the Hebrew accents serving not only to regulate the risings and fallings of the voice, but also to distinguish the sections, periods, and members of periods, in a discourse, and to answer the same purposes with the points in other languages. Their accents are divided into emperors, kings, dukes, &c. each bearing a title answerable to the importance of the distinction it makes. Their emperor rules over a whole phrase, and terminates the sense completely; answering to our point. Their king answers to our colon; and their duke to our comma. The king, however, occasionally becomes a duke, and the duke a king, as the phrases are more or less short. It must be noted, by the way, that the management and combination of these accents in Hebrew poetry differ from their management and combination in prose. The use of the tonic or grammatical accents has been much controverted; some holding that they distinguish the sense, while others maintain that they are only intended to regulate the music or singing, alleging that the Jews sing rather than read the Scriptures in their synagogues.^[1. Cooper, Dorn. Mosaic. Clav. p. 31. ] Be this, however, as it will, it is certain the ancient Hebrews were not acquainted with these accents. The opinion which prevails amongst the learned is, that they were invented about the sixth century, by the Jewish doctors of the school of Tiberias, called the Massorets.\n",
      "As to the Greek accents, now seen both in manuscripts and printed books, there has been no less dispute about their antiquity and use than about those of the Hebrews. Isaac Vossius endeavours to prove them of modern invention; asserting, that anciently they had nothing of this kind, but only a few notes in their poetry, which were invented by Aristophanes the grammarian, about the time of Ptolemy Philopater; and that these were of musical rather than grammatical use, serving as aids in the singing of their poems, and being very different from those afterwards introduced. He also shows, from several ancient grammarians, that the manner of writing the Greek accents in those days was quite different from that which appears in our books. The author of Lα Methode Grecque, p.546, observes, that the right pronunciation of the Greek language being natural to the Greeks, it was needless for them to mark it by accents in their writings; so that, according ţo all appearance, they only began to make use of them about the time when the Romans, wishing to learn the Greek tongue, sent their children to study at Athens, thinking thereby to fix the pronunciation, and to facilitate it to strangers; which happened, as the same author observes, a little before Cicero’s time. Wetstein, Greek professor at Basil, in a learned dissertation, endeavours to prove the Greek accents of an older standing. He owns that they were not always formed in the same manner by the ancients, but he thinks that difference owing to the different pronunciation which obtained' in the different parts of Greece. He also brings several reasons, a priori, for the use of accents, even in the earliest days: as, that all writing being then in capital letters equidistant from each other, without any distinction either of Words or phrases, it could scarcely have been rendered intelligible without accents; and that accents were necessary to distinguish ambiguous words, and to point out their proper meaning, as appears from a dispute in regard to a passage of Homer, mentioned by Aristotle in his Poetics, qhap. V. Accordingly, he observes that the Syrians, who have tonic, but not distinctive accents, have yet invented certain points, placed either below or above the words, to show their mood, tense, person, or sense.\n",
      "Mr Browne of Trinity College, Dublin, has entered more deeply into this investigation; and as he had an opportunity of conversing with the crew of a Greek ship from Patras, a town situated not far distant from the ancient Corinth, which had been driven by stress of weather into the port of Dingle in Ireland, the result of his inquiries was, that the practice of the modern Greeks is different from any of the theories that have been delivered in books. “It is true,” he observes, “they have not two pronunciations for prose and for verse, and in both they read by accent; but they make accent the cause of quantity, they make it govern and control quantity, they make the syllable long on which the acute accent falls, and they allow the acute accent to change the real quantity. They always read poetry as well as prose by accent. Whether any inference can hence be drawn as to the pronunciation of the ancients, I must leave, after what I have premised above, to men of more learning; but I think it at least so probable as to make it worth while to mention the instances which occurred in proof of this assertion more particularly. Of the two first persons whom I met, one, the steward of the ship, an inhabitant of the island of Cephalonia, had had a school education: he read Euripides, and translated some easier passages, without much difficulty. By a stay in this country of near two years, he was able to speak English very tolerably, as could also the captain and several of the crew; and almost all of them spoke Italian fluently. The companion, however, of the steward· could speak only modern Greek, in which I could discover that he was giving a description of the distress in which the ship had been; and though not able to understand the context, I could plainly distinguish many words, such as δενδξα, ξυλοv, and among the rest the sound of Aν6ξωττος pronounced short. This awoke my curiosity, which w as still more heightened when I observed that he said Av0gωπων long, with the same attention to the alteration of the accent with the variety of case, which a boy would be taught to pay at a school in England. Watching therefore more closely, and asking the other to read some ancient Greek, I found that they both uniformly pronounced according to accent, without any attention to long or short syllables where accent came in the way; and on their departure, one of them having bid me good day, by saying ^Kαλημεgα, to which I answered ^Kαλημεgα, he with strong marks of reprobation set me right, and repeated ^Kαλημεgα ; and with like censure did the captain upon another occasion observe upon my saying Socrates instead of Socrates.\n",
      "“I now had a strong wish to know whether they observed the distinction in this respect usually between verse and prose; but from the little scholarship of the two men with whom I had conversed, from the ignorance of a third whom I afterwards met, (who however read Lucian with ease, though he did not seem ever to have heard of the book,) and on account of my imperfect mode of conversing with them all, I had little hopes of satisfaction on the point-; nor was I clear that they perfectly knew the difference between verse and prose. At length, having met with the commander of the ship, and his clerk Athanasius Kονομος, and finding that the latter had been a schoolmaster in the Morea, and had here learnt to speak English fluently, I put the question to them in the presence of a very learned college friend, and at another time, to avoid any error, with the aid of a gentleman who is perfectly master of the Italian language. Both the Greeks repeatedly assured us that verse as well as prose was read by accent, and not by quantity; and exemplified it by reading several lines of Homer, with whose name they seemed perfectly well acquainted.\n",
      "“I shall give an instance or two of their mode of reading:\n",
      "Βη δ' ά£εων ¶agà ⅛ινα τrολιrpλοισζοιο ⅛dKασσης,\n",
      "Tòv δ' αvαμειZομενος πζοσf<pη ποδας ωκυς , Aχιλλευς,\n",
      "’ Eς δ' εgετας επιτηδες αγειgoμεν, 'ες δ ’ εκατoμζην.\n",
      "They made the ε in αzεwv, πgοσε<pη, and εgετctς, long. But when they read\n",
      "^Kλυ6ι μευ> ’ Aξγυg6nζ, íJ¢ Xg{ισην άμφιζεζηκας,\n",
      "they made the second syllable of the first word ~Kλυ0ι short, notwithstanding the acute accent: on my asking why, they desired me to look back on the circumflex on the first syllable, and said it thence necessarily followed; for it is impossible to pronounce the first syllable with the great length which the circumflex denotes, and not to shorten the second. The testimony of the schoolmaster might be vitiated; but what could be stronger than that of these ignorant mariners as to the vulgar common practice of modern Greece? and it is remarkable that this confirms the opinion of Bishop Horsley, that the tones of words in connection are not always the same with the tones of solitary words, though in those of more than one syllable the accentual marks do not change their position. I must here add, that these men confirmed an observation which I have heard made, that we are much mistaken in our idea of the supposed lofty sound of πολv<pλοισζοιο , i}αλασσης ; that the borderers on the coast of the Archipelago take their ideas from the gentle laving of the shore by a summer wave, and not from the roaring of a winter ocean; and they accordingly pronounced it polyphlisveo thalasses.\n",
      "“I own that the observations made by me on the pronunciation of these modern Greeks brought a perfectly new train of ideas into my mind. I propose them, with humility, for the consideration of the learned; but they have made a strong impression upon me, and approached, when compared with other admitted facts, nearly to conviction. In short, I am strongly inclined to believe, that what the famous treatise so often mentioned on the prosodies of the Greek and Latin languages mentions as the peculiarity of the English, that we always prolong the sound of the syllable on which the acute accent falls, is true, and has been true of every nation upon earth. We know it is true of the modern Italians: they read Latin in that respect just as we do, and say, Arma virumque cano, and, In nova fert animus, as much as we. And when we find the modern Greeks following the same practice, surely we have some cause to suppose that the ancients did the same. In the English language, indeed, quantity is not affected, because accent and quantity always agree. Bishop Horsley endeavoured to prove that they did so in Greek, but this is on the bold supposition that the accent doth not fall where the mark is placed. The objection to this hypothesis, which seems to have been admitted by all writers, and considered as decisive by some as to prose, by all as to verse, is, that such a mode of pronunciation or reading must destroy metre, or rhythmus. From this position, however universal, or however it may have been taken for granted, I totally dissent. That it will oppose the metre or quantity I readily agree; but that it will destroy the rhythmus, (by which, whatever learned descriptions there may have been of its meaning, I understand nothing more than the melody or smooth flowing of the verses, or their harmony, if you please, if harmony be properly applied to successive and not synchronal sounds,) I can by no means admit. On the contrary, nothing can be more disagreeable or unmelodious than the reading verse by quantity, or scanning of it, as it is vulgarly called. Let us try the line so often quoted—\n",
      "Armă vĭrūmqŭe cănō, Trōjaē qui prīmŭs ăb ōrīs,\n",
      "instead of\n",
      "Ārmă vĭrūmqūe cānŏ, Trōjaē qūi prīmŭs ăb ōrīs.\n",
      "“No man ever defined rhythmus better than Plato, ordinem quendam qui in motibus cernitur ; the motion or measure of the verse may be exact, and yet the order, arrangement, and disposition of the letters and syllables such as to be grating and unmelodious to the ear. In like manner the feet of the verse may be exact, but the stress laid upon particular syllables of it which follows the quantity may totally destroy the melody: in short, the radical error seems to be the confusion of quantity with melody, and the supposition that whatever is at war with quantity and metre must be at war with melody.\n",
      "“It will be asked, then, what is the use of metre or measure in verse, if we are not to read by it; and here is the grand difficulty; and I own with candour I cannot answer it with perfect satisfaction to my own mind: to those, indeed, who say wc are to read by accent in prose, it may be equally asked, what is the usé of long or short syllables in prose, if we are not to attend to them when, accent comes in the way; but to those who think otherwise, I can only answer, that in the first place accent doth not always interfere, and then quantity is our guide, and accent often accords with quantity. Secondly, metre determines the number of feet or measures in each verse, and thereby produces a general analogy and harmony through the whole; and it is to be observed, that, as I apprehend, accent doth not change the number of feet, though it doth the nature or species of them. Thus when we read\n",
      "Arma virumque cano, Trojae qui primus ab oris,\n",
      "we do not make more feet than when we scan the line, nor employ more time than in pronouncing the next line, in which the accent happens to accord with the quantity, viz.\n",
      "Italiam fato profiιgus, Lavinaque venit.\n",
      "Thirdly, the poet in measuring his verse certainly must be confined to some certain number and order of long and short syllables, in order to produce a concordance through the whole, and even to regulate the position of accent, which, though not subdued by quantity, will certainly have some relation to it, euphoniae gratia ; but surely the length or shortness of a syllable cannot determine where emphasis shall be placed—that must depend on the meaning and the thought; and it would be most absurd for the poet to say to the reader, you shall not rest upon this emphatic and significative word because its syllables are short, and wherever there is a rest, there must be length and intonation.” (Irish Trans, vol. vii.)\n",
      "The use of accents to prevent ambiguities is most remarkably perceived in some eastern languages, particularly the Siameseand Chinese. Among the people of China, every word, or, which is the same thing, every syllable, admits of five accents, according as it is spoken more acutely or remissly; and thus stands for many different things. The same sound ya, according to the accent affixed to it, signifies God, a wall, excellent, stupidity, and a goose. The Chinese have but 330 spoken words in their language; but these being multiplied by the different accents or tones which’ affect the vowels, furnish a language tolerably copious. By means of accents, their 330 simple sounds come to denote 1650 things; but this being hardly sufficient, they are increased further by aspirates added to each word, to double the number. The Chinese only reckon four accents, for which the missionaries use the following marks, aa, a, à, a ; to which they have added a fifth, thus α. They make a kind of modulation, wherein, prolonging the duration of the sound of the vowel, they vary the tone, raising and sinking it by a certain pitch of voice; so that their talking is a sort of music or singing. Attempts have been made to determine the quantity of the rise or fall on each accent by means of musical notes; but this is hard to effect, as being different in different persons. Hence the great difficulty of the language to foreigners, who are forced to sing most scrupulously; for if they deviate ever so little from the accent, they say quite a different thing from what was intended. Thus, meaning to compliment the person you are talking of with the title Sir, you call him a beast with the same word, only a little varied in the tone. Magalhon, however, makes the language easier to learn on this account. The Siamese are also observed to sing rather than to talk. Their alphabet begins with six characters, all only equivalent to a K, but differently accented. For though in the pronunciation the accents are naturally on the vowels, yet they have some to diversify such of their consonants as are in other respects the same. | source: https://raw.githubusercontent.com/TU-plogan/kp-editions/main/eb07/TXT_v2/a2/kp-eb0702-008305-0888-v2.txt | agent: https://w3id.org/hto/Organization/NCKP\n"
     ]
    }
   ],
   "source": [
    "from rdflib import PROV\n",
    "\n",
    "article_accent = \"<https://w3id.org/hto/ArticleTermRecord/9910796273804340_192984259_ACCENT_0>\"\n",
    "q19 = prepareQuery('''\n",
    "    SELECT * WHERE {\n",
    "        %s a hto:ArticleTermRecord;\n",
    "            hto:name ?name;\n",
    "            hto:hasOriginalDescription ?desc.\n",
    "        ?desc hto:wasExtractedFrom ?source;\n",
    "            hto:text ?text;\n",
    "            hto:hasTextQuality hto:High.\n",
    "        ?source prov:wasAttributedTo ?agent.\n",
    "\n",
    "    }\n",
    "  ''' % article_accent,\n",
    "  initNs = { \"hto\": hto, \"prov\": PROV}\n",
    ")\n",
    "\n",
    "for r in graph.query(q19):\n",
    "      print(\"name: %s | description: %s | source: %s | agent: %s\" % (r.name,  r.text, r.source, r.agent))"
   ],
   "metadata": {
    "collapsed": false
   }
  },
  {
   "cell_type": "markdown",
   "source": [
    "### Question 20: What are the descriptions of term _T_ with the highest text quality?"
   ],
   "metadata": {
    "collapsed": false
   }
  },
  {
   "cell_type": "code",
   "execution_count": 22,
   "outputs": [
    {
     "name": "stdout",
     "output_type": "stream",
     "text": [
      "name: ACCENT | description: in reading or speaking, an inflection of the voice, which gives to each syllable of a word its due pitch in-respect of height or lowness. See Reading. The word is originally Latin, accentus ; a compound of ad, to, and cano, to sing. Accentus quasi adcantus, or juχtα can-turn. In this sense, accent is synonymous with the Greek τονος ; the Latin tenor, or tonor ; and the Hebrew t□yto, gustus, taste, Accent, among grammarians, is a certain mark, or  character placed over a syllable to direct the stress of its pronunciation. We generally reckon three grammatical accents in ordinary use, all borrowed from the Greeks, viz. the acute accent ('), which shows when the tone of the voice is to be raised; the grave accent ('), when the note or tone of the voice is to be depressed; and the circumflex accent ( a ), which is composed of both the acute and the grave, and points out a kind of undulation of the voice. The Latins have made the same use as the Greeks of these three accents.\n",
      "The Hebrews have a grammatical, a rhetorical, and a musical accent; though the first and last seem, in effect, to be the same, both being comprised under the general name of tonic accents, because they give the proper tones to syllables; as the rhetorical accents are said to be euphonic, because they tend to make the pronunciation more sweet and agreeable. There are four euphonic accents, and twenty-five tonic: of these some are placed above, and others below the syllables; the Hebrew accents serving not only to regulate the risings and fallings of the voice, but also to distinguish the sections, periods, and members of periods, in a discourse, and to answer the same purposes with the points in other languages. Their accents are divided into emperors, kings, dukes, &c. each bearing a title answerable to the importance of the distinction it makes. Their emperor rules over a whole phrase, and terminates the sense completely; answering to our point. Their king answers to our colon; and their duke to our comma. The king, however, occasionally becomes a duke, and the duke a king, as the phrases are more or less short. It must be noted, by the way, that the management and combination of these accents in Hebrew poetry differ from their management and combination in prose. The use of the tonic or grammatical accents has been much controverted; some holding that they distinguish the sense, while others maintain that they are only intended to regulate the music or singing, alleging that the Jews sing rather than read the Scriptures in their synagogues.^[1. Cooper, Dorn. Mosaic. Clav. p. 31. ] Be this, however, as it will, it is certain the ancient Hebrews were not acquainted with these accents. The opinion which prevails amongst the learned is, that they were invented about the sixth century, by the Jewish doctors of the school of Tiberias, called the Massorets.\n",
      "As to the Greek accents, now seen both in manuscripts and printed books, there has been no less dispute about their antiquity and use than about those of the Hebrews. Isaac Vossius endeavours to prove them of modern invention; asserting, that anciently they had nothing of this kind, but only a few notes in their poetry, which were invented by Aristophanes the grammarian, about the time of Ptolemy Philopater; and that these were of musical rather than grammatical use, serving as aids in the singing of their poems, and being very different from those afterwards introduced. He also shows, from several ancient grammarians, that the manner of writing the Greek accents in those days was quite different from that which appears in our books. The author of Lα Methode Grecque, p.546, observes, that the right pronunciation of the Greek language being natural to the Greeks, it was needless for them to mark it by accents in their writings; so that, according ţo all appearance, they only began to make use of them about the time when the Romans, wishing to learn the Greek tongue, sent their children to study at Athens, thinking thereby to fix the pronunciation, and to facilitate it to strangers; which happened, as the same author observes, a little before Cicero’s time. Wetstein, Greek professor at Basil, in a learned dissertation, endeavours to prove the Greek accents of an older standing. He owns that they were not always formed in the same manner by the ancients, but he thinks that difference owing to the different pronunciation which obtained' in the different parts of Greece. He also brings several reasons, a priori, for the use of accents, even in the earliest days: as, that all writing being then in capital letters equidistant from each other, without any distinction either of Words or phrases, it could scarcely have been rendered intelligible without accents; and that accents were necessary to distinguish ambiguous words, and to point out their proper meaning, as appears from a dispute in regard to a passage of Homer, mentioned by Aristotle in his Poetics, qhap. V. Accordingly, he observes that the Syrians, who have tonic, but not distinctive accents, have yet invented certain points, placed either below or above the words, to show their mood, tense, person, or sense.\n",
      "Mr Browne of Trinity College, Dublin, has entered more deeply into this investigation; and as he had an opportunity of conversing with the crew of a Greek ship from Patras, a town situated not far distant from the ancient Corinth, which had been driven by stress of weather into the port of Dingle in Ireland, the result of his inquiries was, that the practice of the modern Greeks is different from any of the theories that have been delivered in books. “It is true,” he observes, “they have not two pronunciations for prose and for verse, and in both they read by accent; but they make accent the cause of quantity, they make it govern and control quantity, they make the syllable long on which the acute accent falls, and they allow the acute accent to change the real quantity. They always read poetry as well as prose by accent. Whether any inference can hence be drawn as to the pronunciation of the ancients, I must leave, after what I have premised above, to men of more learning; but I think it at least so probable as to make it worth while to mention the instances which occurred in proof of this assertion more particularly. Of the two first persons whom I met, one, the steward of the ship, an inhabitant of the island of Cephalonia, had had a school education: he read Euripides, and translated some easier passages, without much difficulty. By a stay in this country of near two years, he was able to speak English very tolerably, as could also the captain and several of the crew; and almost all of them spoke Italian fluently. The companion, however, of the steward· could speak only modern Greek, in which I could discover that he was giving a description of the distress in which the ship had been; and though not able to understand the context, I could plainly distinguish many words, such as δενδξα, ξυλοv, and among the rest the sound of Aν6ξωττος pronounced short. This awoke my curiosity, which w as still more heightened when I observed that he said Av0gωπων long, with the same attention to the alteration of the accent with the variety of case, which a boy would be taught to pay at a school in England. Watching therefore more closely, and asking the other to read some ancient Greek, I found that they both uniformly pronounced according to accent, without any attention to long or short syllables where accent came in the way; and on their departure, one of them having bid me good day, by saying ^Kαλημεgα, to which I answered ^Kαλημεgα, he with strong marks of reprobation set me right, and repeated ^Kαλημεgα ; and with like censure did the captain upon another occasion observe upon my saying Socrates instead of Socrates.\n",
      "“I now had a strong wish to know whether they observed the distinction in this respect usually between verse and prose; but from the little scholarship of the two men with whom I had conversed, from the ignorance of a third whom I afterwards met, (who however read Lucian with ease, though he did not seem ever to have heard of the book,) and on account of my imperfect mode of conversing with them all, I had little hopes of satisfaction on the point-; nor was I clear that they perfectly knew the difference between verse and prose. At length, having met with the commander of the ship, and his clerk Athanasius Kονομος, and finding that the latter had been a schoolmaster in the Morea, and had here learnt to speak English fluently, I put the question to them in the presence of a very learned college friend, and at another time, to avoid any error, with the aid of a gentleman who is perfectly master of the Italian language. Both the Greeks repeatedly assured us that verse as well as prose was read by accent, and not by quantity; and exemplified it by reading several lines of Homer, with whose name they seemed perfectly well acquainted.\n",
      "“I shall give an instance or two of their mode of reading:\n",
      "Βη δ' ά£εων ¶agà ⅛ινα τrολιrpλοισζοιο ⅛dKασσης,\n",
      "Tòv δ' αvαμειZομενος πζοσf<pη ποδας ωκυς , Aχιλλευς,\n",
      "’ Eς δ' εgετας επιτηδες αγειgoμεν, 'ες δ ’ εκατoμζην.\n",
      "They made the ε in αzεwv, πgοσε<pη, and εgετctς, long. But when they read\n",
      "^Kλυ6ι μευ> ’ Aξγυg6nζ, íJ¢ Xg{ισην άμφιζεζηκας,\n",
      "they made the second syllable of the first word ~Kλυ0ι short, notwithstanding the acute accent: on my asking why, they desired me to look back on the circumflex on the first syllable, and said it thence necessarily followed; for it is impossible to pronounce the first syllable with the great length which the circumflex denotes, and not to shorten the second. The testimony of the schoolmaster might be vitiated; but what could be stronger than that of these ignorant mariners as to the vulgar common practice of modern Greece? and it is remarkable that this confirms the opinion of Bishop Horsley, that the tones of words in connection are not always the same with the tones of solitary words, though in those of more than one syllable the accentual marks do not change their position. I must here add, that these men confirmed an observation which I have heard made, that we are much mistaken in our idea of the supposed lofty sound of πολv<pλοισζοιο , i}αλασσης ; that the borderers on the coast of the Archipelago take their ideas from the gentle laving of the shore by a summer wave, and not from the roaring of a winter ocean; and they accordingly pronounced it polyphlisveo thalasses.\n",
      "“I own that the observations made by me on the pronunciation of these modern Greeks brought a perfectly new train of ideas into my mind. I propose them, with humility, for the consideration of the learned; but they have made a strong impression upon me, and approached, when compared with other admitted facts, nearly to conviction. In short, I am strongly inclined to believe, that what the famous treatise so often mentioned on the prosodies of the Greek and Latin languages mentions as the peculiarity of the English, that we always prolong the sound of the syllable on which the acute accent falls, is true, and has been true of every nation upon earth. We know it is true of the modern Italians: they read Latin in that respect just as we do, and say, Arma virumque cano, and, In nova fert animus, as much as we. And when we find the modern Greeks following the same practice, surely we have some cause to suppose that the ancients did the same. In the English language, indeed, quantity is not affected, because accent and quantity always agree. Bishop Horsley endeavoured to prove that they did so in Greek, but this is on the bold supposition that the accent doth not fall where the mark is placed. The objection to this hypothesis, which seems to have been admitted by all writers, and considered as decisive by some as to prose, by all as to verse, is, that such a mode of pronunciation or reading must destroy metre, or rhythmus. From this position, however universal, or however it may have been taken for granted, I totally dissent. That it will oppose the metre or quantity I readily agree; but that it will destroy the rhythmus, (by which, whatever learned descriptions there may have been of its meaning, I understand nothing more than the melody or smooth flowing of the verses, or their harmony, if you please, if harmony be properly applied to successive and not synchronal sounds,) I can by no means admit. On the contrary, nothing can be more disagreeable or unmelodious than the reading verse by quantity, or scanning of it, as it is vulgarly called. Let us try the line so often quoted—\n",
      "Armă vĭrūmqŭe cănō, Trōjaē qui prīmŭs ăb ōrīs,\n",
      "instead of\n",
      "Ārmă vĭrūmqūe cānŏ, Trōjaē qūi prīmŭs ăb ōrīs.\n",
      "“No man ever defined rhythmus better than Plato, ordinem quendam qui in motibus cernitur ; the motion or measure of the verse may be exact, and yet the order, arrangement, and disposition of the letters and syllables such as to be grating and unmelodious to the ear. In like manner the feet of the verse may be exact, but the stress laid upon particular syllables of it which follows the quantity may totally destroy the melody: in short, the radical error seems to be the confusion of quantity with melody, and the supposition that whatever is at war with quantity and metre must be at war with melody.\n",
      "“It will be asked, then, what is the use of metre or measure in verse, if we are not to read by it; and here is the grand difficulty; and I own with candour I cannot answer it with perfect satisfaction to my own mind: to those, indeed, who say wc are to read by accent in prose, it may be equally asked, what is the usé of long or short syllables in prose, if we are not to attend to them when, accent comes in the way; but to those who think otherwise, I can only answer, that in the first place accent doth not always interfere, and then quantity is our guide, and accent often accords with quantity. Secondly, metre determines the number of feet or measures in each verse, and thereby produces a general analogy and harmony through the whole; and it is to be observed, that, as I apprehend, accent doth not change the number of feet, though it doth the nature or species of them. Thus when we read\n",
      "Arma virumque cano, Trojae qui primus ab oris,\n",
      "we do not make more feet than when we scan the line, nor employ more time than in pronouncing the next line, in which the accent happens to accord with the quantity, viz.\n",
      "Italiam fato profiιgus, Lavinaque venit.\n",
      "Thirdly, the poet in measuring his verse certainly must be confined to some certain number and order of long and short syllables, in order to produce a concordance through the whole, and even to regulate the position of accent, which, though not subdued by quantity, will certainly have some relation to it, euphoniae gratia ; but surely the length or shortness of a syllable cannot determine where emphasis shall be placed—that must depend on the meaning and the thought; and it would be most absurd for the poet to say to the reader, you shall not rest upon this emphatic and significative word because its syllables are short, and wherever there is a rest, there must be length and intonation.” (Irish Trans, vol. vii.)\n",
      "The use of accents to prevent ambiguities is most remarkably perceived in some eastern languages, particularly the Siameseand Chinese. Among the people of China, every word, or, which is the same thing, every syllable, admits of five accents, according as it is spoken more acutely or remissly; and thus stands for many different things. The same sound ya, according to the accent affixed to it, signifies God, a wall, excellent, stupidity, and a goose. The Chinese have but 330 spoken words in their language; but these being multiplied by the different accents or tones which’ affect the vowels, furnish a language tolerably copious. By means of accents, their 330 simple sounds come to denote 1650 things; but this being hardly sufficient, they are increased further by aspirates added to each word, to double the number. The Chinese only reckon four accents, for which the missionaries use the following marks, aa, a, à, a ; to which they have added a fifth, thus α. They make a kind of modulation, wherein, prolonging the duration of the sound of the vowel, they vary the tone, raising and sinking it by a certain pitch of voice; so that their talking is a sort of music or singing. Attempts have been made to determine the quantity of the rise or fall on each accent by means of musical notes; but this is hard to effect, as being different in different persons. Hence the great difficulty of the language to foreigners, who are forced to sing most scrupulously; for if they deviate ever so little from the accent, they say quite a different thing from what was intended. Thus, meaning to compliment the person you are talking of with the title Sir, you call him a beast with the same word, only a little varied in the tone. Magalhon, however, makes the language easier to learn on this account. The Siamese are also observed to sing rather than to talk. Their alphabet begins with six characters, all only equivalent to a K, but differently accented. For though in the pronunciation the accents are naturally on the vowels, yet they have some to diversify such of their consonants as are in other respects the same. | source: https://raw.githubusercontent.com/TU-plogan/kp-editions/main/eb07/TXT_v2/a2/kp-eb0702-008305-0888-v2.txt | agent: https://w3id.org/hto/Organization/NCKP | text quality: https://w3id.org/hto#High\n",
      "name: ACCENT | description: in reading or speaking, an inflection voice, which gives to each syllable of a word its in respect of height or lowness. See Reading. word is originally Latin, accentus ; a compound and cano, to sing. Accentus quasi adcantus, or turn. In this sense, accent is synonymous with rows; the Latin tenor, or tonor; and the Hebrew Accent, among grammarians, is a certain | source: https://w3id.org/hto/InformationResource/192984259_alto_193030890_34_xml | agent: https://w3id.org/hto/Organization/NLS | text quality: https://w3id.org/hto#Low\n"
     ]
    }
   ],
   "source": [
    "from rdflib import PROV\n",
    "\n",
    "article_accent = \"<https://w3id.org/hto/ArticleTermRecord/9910796273804340_192984259_ACCENT_0>\"\n",
    "q20 = prepareQuery('''\n",
    "    SELECT * WHERE {\n",
    "        %s a hto:ArticleTermRecord;\n",
    "            hto:name ?name;\n",
    "            hto:hasOriginalDescription ?desc.\n",
    "        ?desc hto:wasExtractedFrom ?source;\n",
    "            hto:text ?text;\n",
    "            hto:hasTextQuality ?textQuality.\n",
    "        ?source prov:wasAttributedTo ?agent.\n",
    "        ?agent a ?agentType.\n",
    "        FILTER (?agentType = hto:Person || ?agentType = hto:Organization)\n",
    "        FILTER NOT EXISTS {\n",
    "          %s hto:hasOriginalDescription [hto:hasTextQuality [hto:isTextQualityHigherThan ?textQuality]].\n",
    "        }\n",
    "    }\n",
    "  ''' % (article_accent, article_accent),\n",
    "  initNs = { \"hto\": hto, \"prov\": PROV}\n",
    ")\n",
    "\n",
    "for r in graph.query(q20):\n",
    "      print(\"name: %s | description: %s | source: %s | agent: %s | text quality: %s\" % (r.name,  r.text, r.source, r.agent, r.textQuality))"
   ],
   "metadata": {
    "collapsed": false
   }
  },
  {
   "cell_type": "markdown",
   "source": [
    "### Question 21: What software was used to extract the description of article _T_ or a page _P_?"
   ],
   "metadata": {
    "collapsed": false
   }
  },
  {
   "cell_type": "code",
   "execution_count": 22,
   "outputs": [
    {
     "name": "stdout",
     "output_type": "stream",
     "text": [
      "name: ACCENT | description: in reading or speaking, an inflection of the voice, which gives to each syllable of a word its due pitch in-respect of height or lowness. See Reading. The word is originally Latin, accentus ; a compound of ad, to, and cano, to sing. Accentus quasi adcantus, or juχtα can-turn. In this sense, accent is synonymous with the Greek τονος ; the Latin tenor, or tonor ; and the Hebrew t□yto, gustus, taste, Accent, among grammarians, is a certain mark, or  character placed over a syllable to direct the stress of its pronunciation. We generally reckon three grammatical accents in ordinary use, all borrowed from the Greeks, viz. the acute accent ('), which shows when the tone of the voice is to be raised; the grave accent ('), when the note or tone of the voice is to be depressed; and the circumflex accent ( a ), which is composed of both the acute and the grave, and points out a kind of undulation of the voice. The Latins have made the same use as the Greeks of these three accents.\n",
      "The Hebrews have a grammatical, a rhetorical, and a musical accent; though the first and last seem, in effect, to be the same, both being comprised under the general name of tonic accents, because they give the proper tones to syllables; as the rhetorical accents are said to be euphonic, because they tend to make the pronunciation more sweet and agreeable. There are four euphonic accents, and twenty-five tonic: of these some are placed above, and others below the syllables; the Hebrew accents serving not only to regulate the risings and fallings of the voice, but also to distinguish the sections, periods, and members of periods, in a discourse, and to answer the same purposes with the points in other languages. Their accents are divided into emperors, kings, dukes, &c. each bearing a title answerable to the importance of the distinction it makes. Their emperor rules over a whole phrase, and terminates the sense completely; answering to our point. Their king answers to our colon; and their duke to our comma. The king, however, occasionally becomes a duke, and the duke a king, as the phrases are more or less short. It must be noted, by the way, that the management and combination of these accents in Hebrew poetry differ from their management and combination in prose. The use of the tonic or grammatical accents has been much controverted; some holding that they distinguish the sense, while others maintain that they are only intended to regulate the music or singing, alleging that the Jews sing rather than read the Scriptures in their synagogues.^[1. Cooper, Dorn. Mosaic. Clav. p. 31. ] Be this, however, as it will, it is certain the ancient Hebrews were not acquainted with these accents. The opinion which prevails amongst the learned is, that they were invented about the sixth century, by the Jewish doctors of the school of Tiberias, called the Massorets.\n",
      "As to the Greek accents, now seen both in manuscripts and printed books, there has been no less dispute about their antiquity and use than about those of the Hebrews. Isaac Vossius endeavours to prove them of modern invention; asserting, that anciently they had nothing of this kind, but only a few notes in their poetry, which were invented by Aristophanes the grammarian, about the time of Ptolemy Philopater; and that these were of musical rather than grammatical use, serving as aids in the singing of their poems, and being very different from those afterwards introduced. He also shows, from several ancient grammarians, that the manner of writing the Greek accents in those days was quite different from that which appears in our books. The author of Lα Methode Grecque, p.546, observes, that the right pronunciation of the Greek language being natural to the Greeks, it was needless for them to mark it by accents in their writings; so that, according ţo all appearance, they only began to make use of them about the time when the Romans, wishing to learn the Greek tongue, sent their children to study at Athens, thinking thereby to fix the pronunciation, and to facilitate it to strangers; which happened, as the same author observes, a little before Cicero’s time. Wetstein, Greek professor at Basil, in a learned dissertation, endeavours to prove the Greek accents of an older standing. He owns that they were not always formed in the same manner by the ancients, but he thinks that difference owing to the different pronunciation which obtained' in the different parts of Greece. He also brings several reasons, a priori, for the use of accents, even in the earliest days: as, that all writing being then in capital letters equidistant from each other, without any distinction either of Words or phrases, it could scarcely have been rendered intelligible without accents; and that accents were necessary to distinguish ambiguous words, and to point out their proper meaning, as appears from a dispute in regard to a passage of Homer, mentioned by Aristotle in his Poetics, qhap. V. Accordingly, he observes that the Syrians, who have tonic, but not distinctive accents, have yet invented certain points, placed either below or above the words, to show their mood, tense, person, or sense.\n",
      "Mr Browne of Trinity College, Dublin, has entered more deeply into this investigation; and as he had an opportunity of conversing with the crew of a Greek ship from Patras, a town situated not far distant from the ancient Corinth, which had been driven by stress of weather into the port of Dingle in Ireland, the result of his inquiries was, that the practice of the modern Greeks is different from any of the theories that have been delivered in books. “It is true,” he observes, “they have not two pronunciations for prose and for verse, and in both they read by accent; but they make accent the cause of quantity, they make it govern and control quantity, they make the syllable long on which the acute accent falls, and they allow the acute accent to change the real quantity. They always read poetry as well as prose by accent. Whether any inference can hence be drawn as to the pronunciation of the ancients, I must leave, after what I have premised above, to men of more learning; but I think it at least so probable as to make it worth while to mention the instances which occurred in proof of this assertion more particularly. Of the two first persons whom I met, one, the steward of the ship, an inhabitant of the island of Cephalonia, had had a school education: he read Euripides, and translated some easier passages, without much difficulty. By a stay in this country of near two years, he was able to speak English very tolerably, as could also the captain and several of the crew; and almost all of them spoke Italian fluently. The companion, however, of the steward· could speak only modern Greek, in which I could discover that he was giving a description of the distress in which the ship had been; and though not able to understand the context, I could plainly distinguish many words, such as δενδξα, ξυλοv, and among the rest the sound of Aν6ξωττος pronounced short. This awoke my curiosity, which w as still more heightened when I observed that he said Av0gωπων long, with the same attention to the alteration of the accent with the variety of case, which a boy would be taught to pay at a school in England. Watching therefore more closely, and asking the other to read some ancient Greek, I found that they both uniformly pronounced according to accent, without any attention to long or short syllables where accent came in the way; and on their departure, one of them having bid me good day, by saying ^Kαλημεgα, to which I answered ^Kαλημεgα, he with strong marks of reprobation set me right, and repeated ^Kαλημεgα ; and with like censure did the captain upon another occasion observe upon my saying Socrates instead of Socrates.\n",
      "“I now had a strong wish to know whether they observed the distinction in this respect usually between verse and prose; but from the little scholarship of the two men with whom I had conversed, from the ignorance of a third whom I afterwards met, (who however read Lucian with ease, though he did not seem ever to have heard of the book,) and on account of my imperfect mode of conversing with them all, I had little hopes of satisfaction on the point-; nor was I clear that they perfectly knew the difference between verse and prose. At length, having met with the commander of the ship, and his clerk Athanasius Kονομος, and finding that the latter had been a schoolmaster in the Morea, and had here learnt to speak English fluently, I put the question to them in the presence of a very learned college friend, and at another time, to avoid any error, with the aid of a gentleman who is perfectly master of the Italian language. Both the Greeks repeatedly assured us that verse as well as prose was read by accent, and not by quantity; and exemplified it by reading several lines of Homer, with whose name they seemed perfectly well acquainted.\n",
      "“I shall give an instance or two of their mode of reading:\n",
      "Βη δ' ά£εων ¶agà ⅛ινα τrολιrpλοισζοιο ⅛dKασσης,\n",
      "Tòv δ' αvαμειZομενος πζοσf<pη ποδας ωκυς , Aχιλλευς,\n",
      "’ Eς δ' εgετας επιτηδες αγειgoμεν, 'ες δ ’ εκατoμζην.\n",
      "They made the ε in αzεwv, πgοσε<pη, and εgετctς, long. But when they read\n",
      "^Kλυ6ι μευ> ’ Aξγυg6nζ, íJ¢ Xg{ισην άμφιζεζηκας,\n",
      "they made the second syllable of the first word ~Kλυ0ι short, notwithstanding the acute accent: on my asking why, they desired me to look back on the circumflex on the first syllable, and said it thence necessarily followed; for it is impossible to pronounce the first syllable with the great length which the circumflex denotes, and not to shorten the second. The testimony of the schoolmaster might be vitiated; but what could be stronger than that of these ignorant mariners as to the vulgar common practice of modern Greece? and it is remarkable that this confirms the opinion of Bishop Horsley, that the tones of words in connection are not always the same with the tones of solitary words, though in those of more than one syllable the accentual marks do not change their position. I must here add, that these men confirmed an observation which I have heard made, that we are much mistaken in our idea of the supposed lofty sound of πολv<pλοισζοιο , i}αλασσης ; that the borderers on the coast of the Archipelago take their ideas from the gentle laving of the shore by a summer wave, and not from the roaring of a winter ocean; and they accordingly pronounced it polyphlisveo thalasses.\n",
      "“I own that the observations made by me on the pronunciation of these modern Greeks brought a perfectly new train of ideas into my mind. I propose them, with humility, for the consideration of the learned; but they have made a strong impression upon me, and approached, when compared with other admitted facts, nearly to conviction. In short, I am strongly inclined to believe, that what the famous treatise so often mentioned on the prosodies of the Greek and Latin languages mentions as the peculiarity of the English, that we always prolong the sound of the syllable on which the acute accent falls, is true, and has been true of every nation upon earth. We know it is true of the modern Italians: they read Latin in that respect just as we do, and say, Arma virumque cano, and, In nova fert animus, as much as we. And when we find the modern Greeks following the same practice, surely we have some cause to suppose that the ancients did the same. In the English language, indeed, quantity is not affected, because accent and quantity always agree. Bishop Horsley endeavoured to prove that they did so in Greek, but this is on the bold supposition that the accent doth not fall where the mark is placed. The objection to this hypothesis, which seems to have been admitted by all writers, and considered as decisive by some as to prose, by all as to verse, is, that such a mode of pronunciation or reading must destroy metre, or rhythmus. From this position, however universal, or however it may have been taken for granted, I totally dissent. That it will oppose the metre or quantity I readily agree; but that it will destroy the rhythmus, (by which, whatever learned descriptions there may have been of its meaning, I understand nothing more than the melody or smooth flowing of the verses, or their harmony, if you please, if harmony be properly applied to successive and not synchronal sounds,) I can by no means admit. On the contrary, nothing can be more disagreeable or unmelodious than the reading verse by quantity, or scanning of it, as it is vulgarly called. Let us try the line so often quoted—\n",
      "Armă vĭrūmqŭe cănō, Trōjaē qui prīmŭs ăb ōrīs,\n",
      "instead of\n",
      "Ārmă vĭrūmqūe cānŏ, Trōjaē qūi prīmŭs ăb ōrīs.\n",
      "“No man ever defined rhythmus better than Plato, ordinem quendam qui in motibus cernitur ; the motion or measure of the verse may be exact, and yet the order, arrangement, and disposition of the letters and syllables such as to be grating and unmelodious to the ear. In like manner the feet of the verse may be exact, but the stress laid upon particular syllables of it which follows the quantity may totally destroy the melody: in short, the radical error seems to be the confusion of quantity with melody, and the supposition that whatever is at war with quantity and metre must be at war with melody.\n",
      "“It will be asked, then, what is the use of metre or measure in verse, if we are not to read by it; and here is the grand difficulty; and I own with candour I cannot answer it with perfect satisfaction to my own mind: to those, indeed, who say wc are to read by accent in prose, it may be equally asked, what is the usé of long or short syllables in prose, if we are not to attend to them when, accent comes in the way; but to those who think otherwise, I can only answer, that in the first place accent doth not always interfere, and then quantity is our guide, and accent often accords with quantity. Secondly, metre determines the number of feet or measures in each verse, and thereby produces a general analogy and harmony through the whole; and it is to be observed, that, as I apprehend, accent doth not change the number of feet, though it doth the nature or species of them. Thus when we read\n",
      "Arma virumque cano, Trojae qui primus ab oris,\n",
      "we do not make more feet than when we scan the line, nor employ more time than in pronouncing the next line, in which the accent happens to accord with the quantity, viz.\n",
      "Italiam fato profiιgus, Lavinaque venit.\n",
      "Thirdly, the poet in measuring his verse certainly must be confined to some certain number and order of long and short syllables, in order to produce a concordance through the whole, and even to regulate the position of accent, which, though not subdued by quantity, will certainly have some relation to it, euphoniae gratia ; but surely the length or shortness of a syllable cannot determine where emphasis shall be placed—that must depend on the meaning and the thought; and it would be most absurd for the poet to say to the reader, you shall not rest upon this emphatic and significative word because its syllables are short, and wherever there is a rest, there must be length and intonation.” (Irish Trans, vol. vii.)\n",
      "The use of accents to prevent ambiguities is most remarkably perceived in some eastern languages, particularly the Siameseand Chinese. Among the people of China, every word, or, which is the same thing, every syllable, admits of five accents, according as it is spoken more acutely or remissly; and thus stands for many different things. The same sound ya, according to the accent affixed to it, signifies God, a wall, excellent, stupidity, and a goose. The Chinese have but 330 spoken words in their language; but these being multiplied by the different accents or tones which’ affect the vowels, furnish a language tolerably copious. By means of accents, their 330 simple sounds come to denote 1650 things; but this being hardly sufficient, they are increased further by aspirates added to each word, to double the number. The Chinese only reckon four accents, for which the missionaries use the following marks, aa, a, à, a ; to which they have added a fifth, thus α. They make a kind of modulation, wherein, prolonging the duration of the sound of the vowel, they vary the tone, raising and sinking it by a certain pitch of voice; so that their talking is a sort of music or singing. Attempts have been made to determine the quantity of the rise or fall on each accent by means of musical notes; but this is hard to effect, as being different in different persons. Hence the great difficulty of the language to foreigners, who are forced to sing most scrupulously; for if they deviate ever so little from the accent, they say quite a different thing from what was intended. Thus, meaning to compliment the person you are talking of with the title Sir, you call him a beast with the same word, only a little varied in the tone. Magalhon, however, makes the language easier to learn on this account. The Siamese are also observed to sing rather than to talk. Their alphabet begins with six characters, all only equivalent to a K, but differently accented. For though in the pronunciation the accents are naturally on the vowels, yet they have some to diversify such of their consonants as are in other respects the same. | extracted using software: https://github.com/frances-ai/frances-InformationExtraction | source: https://raw.githubusercontent.com/TU-plogan/kp-editions/main/eb07/TXT_v2/a2/kp-eb0702-008305-0888-v2.txt | agent: https://w3id.org/hto/Organization/NCKP \n",
      "name: ACCENT | description: in reading or speaking, an inflection voice, which gives to each syllable of a word its in respect of height or lowness. See Reading. word is originally Latin, accentus ; a compound and cano, to sing. Accentus quasi adcantus, or turn. In this sense, accent is synonymous with rows; the Latin tenor, or tonor; and the Hebrew Accent, among grammarians, is a certain | extracted using software: https://github.com/defoe-code/defoe | source: https://w3id.org/hto/InformationResource/192984259_alto_193030890_34_xml | agent: https://w3id.org/hto/Organization/NLS \n"
     ]
    }
   ],
   "source": [
    "from rdflib import PROV\n",
    "\n",
    "article_accent = \"<https://w3id.org/hto/ArticleTermRecord/9910796273804340_192984259_ACCENT_0>\"\n",
    "q19 = prepareQuery('''\n",
    "    SELECT * WHERE {\n",
    "        %s a hto:TermRecord;\n",
    "            hto:name ?name;\n",
    "            hto:hasOriginalDescription ?desc.\n",
    "        ?desc hto:wasExtractedFrom ?source;\n",
    "            hto:text ?text;\n",
    "            prov:wasAttributedTo ?software.\n",
    "        ?software a prov:SoftwareAgent.\n",
    "        ?source prov:wasAttributedTo ?agent.\n",
    "        ?agent a ?agentType.\n",
    "        FILTER (?agentType = prov:Person || ?agentType = prov:Organization)\n",
    "    }\n",
    "  ''' % article_accent,\n",
    "  initNs = { \"hto\": hto, \"prov\": PROV}\n",
    ")\n",
    "\n",
    "for r in graph.query(q19):\n",
    "      print(\"name: %s | description: %s | extracted using software: %s | source: %s | agent: %s \" % (r.name,  r.text, r.software, r.source, r.agent))"
   ],
   "metadata": {
    "collapsed": false
   }
  },
  {
   "cell_type": "markdown",
   "source": [
    "### Question 22: What software was used to digitise a document?"
   ],
   "metadata": {
    "collapsed": false
   }
  },
  {
   "cell_type": "code",
   "execution_count": 61,
   "outputs": [
    {
     "name": "stdout",
     "output_type": "stream",
     "text": [
      "name: ACCENT | description: in Music, is a certain enforcement of particular sounds, whether by the voice or instruments, generally used at the beginning of bars.\n",
      "Acceptance, in Commerce, is the subscribing, signing, and making one’s self debtor for the sum contained in a bill of exchange or other obligation. | source: https://raw.githubusercontent.com/TU-plogan/kp-editions/main/eb07/TXT_v2/a2/kp-eb0702-008303-0888-v2.txt | created by https://w3id.org/hto/Organization/NCKP using https://pdf.abbyy.com\n",
      "name: ACCENT | description: in antiquity, denotes aŉ inferior order of officers, appointed to attend the Roman magistrates, somewhat in the manner of ushers, serjeants, or tipstaves among us. They were thus called from accire, to send for; one part of their office being to call assemblies of the people, summon parties to appear and answer before the judges, &c.\n",
      "Accensi was also an appellation given to a kind of adjutants, appointed by the tribune to assist each centurion and decurion; in which sense accensus is synonymous with optio. In an ancient inscription, given by Torre, we meet with Accensus Equitum Romanorum ; an office nowhere else heard of. That author suspects it for a corruption; and instead thereof reads, A Censibus. | source: https://raw.githubusercontent.com/TU-plogan/kp-editions/main/eb07/TXT_v2/a2/kp-eb0702-008303-0888-v2.txt | created by https://w3id.org/hto/Organization/NCKP using https://pdf.abbyy.com\n",
      "name: ACCENT | description: in reading or speaking, an inflection of the voice, which gives to each syllable of a word its due pitch in-respect of height or lowness. See Reading. The word is originally Latin, accentus ; a compound of ad, to, and cano, to sing. Accentus quasi adcantus, or juχtα can-turn. In this sense, accent is synonymous with the Greek τονος ; the Latin tenor, or tonor ; and the Hebrew t□yto, gustus, taste, Accent, among grammarians, is a certain mark, or  character placed over a syllable to direct the stress of its pronunciation. We generally reckon three grammatical accents in ordinary use, all borrowed from the Greeks, viz. the acute accent ('), which shows when the tone of the voice is to be raised; the grave accent ('), when the note or tone of the voice is to be depressed; and the circumflex accent ( a ), which is composed of both the acute and the grave, and points out a kind of undulation of the voice. The Latins have made the same use as the Greeks of these three accents.\n",
      "The Hebrews have a grammatical, a rhetorical, and a musical accent; though the first and last seem, in effect, to be the same, both being comprised under the general name of tonic accents, because they give the proper tones to syllables; as the rhetorical accents are said to be euphonic, because they tend to make the pronunciation more sweet and agreeable. There are four euphonic accents, and twenty-five tonic: of these some are placed above, and others below the syllables; the Hebrew accents serving not only to regulate the risings and fallings of the voice, but also to distinguish the sections, periods, and members of periods, in a discourse, and to answer the same purposes with the points in other languages. Their accents are divided into emperors, kings, dukes, &c. each bearing a title answerable to the importance of the distinction it makes. Their emperor rules over a whole phrase, and terminates the sense completely; answering to our point. Their king answers to our colon; and their duke to our comma. The king, however, occasionally becomes a duke, and the duke a king, as the phrases are more or less short. It must be noted, by the way, that the management and combination of these accents in Hebrew poetry differ from their management and combination in prose. The use of the tonic or grammatical accents has been much controverted; some holding that they distinguish the sense, while others maintain that they are only intended to regulate the music or singing, alleging that the Jews sing rather than read the Scriptures in their synagogues.^[1. Cooper, Dorn. Mosaic. Clav. p. 31. ] Be this, however, as it will, it is certain the ancient Hebrews were not acquainted with these accents. The opinion which prevails amongst the learned is, that they were invented about the sixth century, by the Jewish doctors of the school of Tiberias, called the Massorets.\n",
      "As to the Greek accents, now seen both in manuscripts and printed books, there has been no less dispute about their antiquity and use than about those of the Hebrews. Isaac Vossius endeavours to prove them of modern invention; asserting, that anciently they had nothing of this kind, but only a few notes in their poetry, which were invented by Aristophanes the grammarian, about the time of Ptolemy Philopater; and that these were of musical rather than grammatical use, serving as aids in the singing of their poems, and being very different from those afterwards introduced. He also shows, from several ancient grammarians, that the manner of writing the Greek accents in those days was quite different from that which appears in our books. The author of Lα Methode Grecque, p.546, observes, that the right pronunciation of the Greek language being natural to the Greeks, it was needless for them to mark it by accents in their writings; so that, according ţo all appearance, they only began to make use of them about the time when the Romans, wishing to learn the Greek tongue, sent their children to study at Athens, thinking thereby to fix the pronunciation, and to facilitate it to strangers; which happened, as the same author observes, a little before Cicero’s time. Wetstein, Greek professor at Basil, in a learned dissertation, endeavours to prove the Greek accents of an older standing. He owns that they were not always formed in the same manner by the ancients, but he thinks that difference owing to the different pronunciation which obtained' in the different parts of Greece. He also brings several reasons, a priori, for the use of accents, even in the earliest days: as, that all writing being then in capital letters equidistant from each other, without any distinction either of Words or phrases, it could scarcely have been rendered intelligible without accents; and that accents were necessary to distinguish ambiguous words, and to point out their proper meaning, as appears from a dispute in regard to a passage of Homer, mentioned by Aristotle in his Poetics, qhap. V. Accordingly, he observes that the Syrians, who have tonic, but not distinctive accents, have yet invented certain points, placed either below or above the words, to show their mood, tense, person, or sense.\n",
      "Mr Browne of Trinity College, Dublin, has entered more deeply into this investigation; and as he had an opportunity of conversing with the crew of a Greek ship from Patras, a town situated not far distant from the ancient Corinth, which had been driven by stress of weather into the port of Dingle in Ireland, the result of his inquiries was, that the practice of the modern Greeks is different from any of the theories that have been delivered in books. “It is true,” he observes, “they have not two pronunciations for prose and for verse, and in both they read by accent; but they make accent the cause of quantity, they make it govern and control quantity, they make the syllable long on which the acute accent falls, and they allow the acute accent to change the real quantity. They always read poetry as well as prose by accent. Whether any inference can hence be drawn as to the pronunciation of the ancients, I must leave, after what I have premised above, to men of more learning; but I think it at least so probable as to make it worth while to mention the instances which occurred in proof of this assertion more particularly. Of the two first persons whom I met, one, the steward of the ship, an inhabitant of the island of Cephalonia, had had a school education: he read Euripides, and translated some easier passages, without much difficulty. By a stay in this country of near two years, he was able to speak English very tolerably, as could also the captain and several of the crew; and almost all of them spoke Italian fluently. The companion, however, of the steward· could speak only modern Greek, in which I could discover that he was giving a description of the distress in which the ship had been; and though not able to understand the context, I could plainly distinguish many words, such as δενδξα, ξυλοv, and among the rest the sound of Aν6ξωττος pronounced short. This awoke my curiosity, which w as still more heightened when I observed that he said Av0gωπων long, with the same attention to the alteration of the accent with the variety of case, which a boy would be taught to pay at a school in England. Watching therefore more closely, and asking the other to read some ancient Greek, I found that they both uniformly pronounced according to accent, without any attention to long or short syllables where accent came in the way; and on their departure, one of them having bid me good day, by saying ^Kαλημεgα, to which I answered ^Kαλημεgα, he with strong marks of reprobation set me right, and repeated ^Kαλημεgα ; and with like censure did the captain upon another occasion observe upon my saying Socrates instead of Socrates.\n",
      "“I now had a strong wish to know whether they observed the distinction in this respect usually between verse and prose; but from the little scholarship of the two men with whom I had conversed, from the ignorance of a third whom I afterwards met, (who however read Lucian with ease, though he did not seem ever to have heard of the book,) and on account of my imperfect mode of conversing with them all, I had little hopes of satisfaction on the point-; nor was I clear that they perfectly knew the difference between verse and prose. At length, having met with the commander of the ship, and his clerk Athanasius Kονομος, and finding that the latter had been a schoolmaster in the Morea, and had here learnt to speak English fluently, I put the question to them in the presence of a very learned college friend, and at another time, to avoid any error, with the aid of a gentleman who is perfectly master of the Italian language. Both the Greeks repeatedly assured us that verse as well as prose was read by accent, and not by quantity; and exemplified it by reading several lines of Homer, with whose name they seemed perfectly well acquainted.\n",
      "“I shall give an instance or two of their mode of reading:\n",
      "Βη δ' ά£εων ¶agà ⅛ινα τrολιrpλοισζοιο ⅛dKασσης,\n",
      "Tòv δ' αvαμειZομενος πζοσf<pη ποδας ωκυς , Aχιλλευς,\n",
      "’ Eς δ' εgετας επιτηδες αγειgoμεν, 'ες δ ’ εκατoμζην.\n",
      "They made the ε in αzεwv, πgοσε<pη, and εgετctς, long. But when they read\n",
      "^Kλυ6ι μευ> ’ Aξγυg6nζ, íJ¢ Xg{ισην άμφιζεζηκας,\n",
      "they made the second syllable of the first word ~Kλυ0ι short, notwithstanding the acute accent: on my asking why, they desired me to look back on the circumflex on the first syllable, and said it thence necessarily followed; for it is impossible to pronounce the first syllable with the great length which the circumflex denotes, and not to shorten the second. The testimony of the schoolmaster might be vitiated; but what could be stronger than that of these ignorant mariners as to the vulgar common practice of modern Greece? and it is remarkable that this confirms the opinion of Bishop Horsley, that the tones of words in connection are not always the same with the tones of solitary words, though in those of more than one syllable the accentual marks do not change their position. I must here add, that these men confirmed an observation which I have heard made, that we are much mistaken in our idea of the supposed lofty sound of πολv<pλοισζοιο , i}αλασσης ; that the borderers on the coast of the Archipelago take their ideas from the gentle laving of the shore by a summer wave, and not from the roaring of a winter ocean; and they accordingly pronounced it polyphlisveo thalasses.\n",
      "“I own that the observations made by me on the pronunciation of these modern Greeks brought a perfectly new train of ideas into my mind. I propose them, with humility, for the consideration of the learned; but they have made a strong impression upon me, and approached, when compared with other admitted facts, nearly to conviction. In short, I am strongly inclined to believe, that what the famous treatise so often mentioned on the prosodies of the Greek and Latin languages mentions as the peculiarity of the English, that we always prolong the sound of the syllable on which the acute accent falls, is true, and has been true of every nation upon earth. We know it is true of the modern Italians: they read Latin in that respect just as we do, and say, Arma virumque cano, and, In nova fert animus, as much as we. And when we find the modern Greeks following the same practice, surely we have some cause to suppose that the ancients did the same. In the English language, indeed, quantity is not affected, because accent and quantity always agree. Bishop Horsley endeavoured to prove that they did so in Greek, but this is on the bold supposition that the accent doth not fall where the mark is placed. The objection to this hypothesis, which seems to have been admitted by all writers, and considered as decisive by some as to prose, by all as to verse, is, that such a mode of pronunciation or reading must destroy metre, or rhythmus. From this position, however universal, or however it may have been taken for granted, I totally dissent. That it will oppose the metre or quantity I readily agree; but that it will destroy the rhythmus, (by which, whatever learned descriptions there may have been of its meaning, I understand nothing more than the melody or smooth flowing of the verses, or their harmony, if you please, if harmony be properly applied to successive and not synchronal sounds,) I can by no means admit. On the contrary, nothing can be more disagreeable or unmelodious than the reading verse by quantity, or scanning of it, as it is vulgarly called. Let us try the line so often quoted—\n",
      "Armă vĭrūmqŭe cănō, Trōjaē qui prīmŭs ăb ōrīs,\n",
      "instead of\n",
      "Ārmă vĭrūmqūe cānŏ, Trōjaē qūi prīmŭs ăb ōrīs.\n",
      "“No man ever defined rhythmus better than Plato, ordinem quendam qui in motibus cernitur ; the motion or measure of the verse may be exact, and yet the order, arrangement, and disposition of the letters and syllables such as to be grating and unmelodious to the ear. In like manner the feet of the verse may be exact, but the stress laid upon particular syllables of it which follows the quantity may totally destroy the melody: in short, the radical error seems to be the confusion of quantity with melody, and the supposition that whatever is at war with quantity and metre must be at war with melody.\n",
      "“It will be asked, then, what is the use of metre or measure in verse, if we are not to read by it; and here is the grand difficulty; and I own with candour I cannot answer it with perfect satisfaction to my own mind: to those, indeed, who say wc are to read by accent in prose, it may be equally asked, what is the usé of long or short syllables in prose, if we are not to attend to them when, accent comes in the way; but to those who think otherwise, I can only answer, that in the first place accent doth not always interfere, and then quantity is our guide, and accent often accords with quantity. Secondly, metre determines the number of feet or measures in each verse, and thereby produces a general analogy and harmony through the whole; and it is to be observed, that, as I apprehend, accent doth not change the number of feet, though it doth the nature or species of them. Thus when we read\n",
      "Arma virumque cano, Trojae qui primus ab oris,\n",
      "we do not make more feet than when we scan the line, nor employ more time than in pronouncing the next line, in which the accent happens to accord with the quantity, viz.\n",
      "Italiam fato profiιgus, Lavinaque venit.\n",
      "Thirdly, the poet in measuring his verse certainly must be confined to some certain number and order of long and short syllables, in order to produce a concordance through the whole, and even to regulate the position of accent, which, though not subdued by quantity, will certainly have some relation to it, euphoniae gratia ; but surely the length or shortness of a syllable cannot determine where emphasis shall be placed—that must depend on the meaning and the thought; and it would be most absurd for the poet to say to the reader, you shall not rest upon this emphatic and significative word because its syllables are short, and wherever there is a rest, there must be length and intonation.” (Irish Trans, vol. vii.)\n",
      "The use of accents to prevent ambiguities is most remarkably perceived in some eastern languages, particularly the Siameseand Chinese. Among the people of China, every word, or, which is the same thing, every syllable, admits of five accents, according as it is spoken more acutely or remissly; and thus stands for many different things. The same sound ya, according to the accent affixed to it, signifies God, a wall, excellent, stupidity, and a goose. The Chinese have but 330 spoken words in their language; but these being multiplied by the different accents or tones which’ affect the vowels, furnish a language tolerably copious. By means of accents, their 330 simple sounds come to denote 1650 things; but this being hardly sufficient, they are increased further by aspirates added to each word, to double the number. The Chinese only reckon four accents, for which the missionaries use the following marks, aa, a, à, a ; to which they have added a fifth, thus α. They make a kind of modulation, wherein, prolonging the duration of the sound of the vowel, they vary the tone, raising and sinking it by a certain pitch of voice; so that their talking is a sort of music or singing. Attempts have been made to determine the quantity of the rise or fall on each accent by means of musical notes; but this is hard to effect, as being different in different persons. Hence the great difficulty of the language to foreigners, who are forced to sing most scrupulously; for if they deviate ever so little from the accent, they say quite a different thing from what was intended. Thus, meaning to compliment the person you are talking of with the title Sir, you call him a beast with the same word, only a little varied in the tone. Magalhon, however, makes the language easier to learn on this account. The Siamese are also observed to sing rather than to talk. Their alphabet begins with six characters, all only equivalent to a K, but differently accented. For though in the pronunciation the accents are naturally on the vowels, yet they have some to diversify such of their consonants as are in other respects the same. | source: https://raw.githubusercontent.com/TU-plogan/kp-editions/main/eb07/TXT_v2/a2/kp-eb0702-008303-0888-v2.txt | created by https://w3id.org/hto/Organization/NCKP using https://pdf.abbyy.com\n",
      "name: ACCENT | description: the action of setting a body on fire: thus the ąccension of tinder is effected by striking fire with flint pnd steel. | source: https://raw.githubusercontent.com/TU-plogan/kp-editions/main/eb07/TXT_v2/a2/kp-eb0702-008303-0888-v2.txt | created by https://w3id.org/hto/Organization/NCKP using https://pdf.abbyy.com\n",
      "name: ACCENT | description: in Music, is a certain enforcement of particular sounds, whether by the voice or instruments, generally used at the beginning of bars.\n",
      "Acceptance, in Commerce, is the subscribing, signing, and making one’s self debtor for the sum contained in a bill of exchange or other obligation. | source: https://raw.githubusercontent.com/TU-plogan/kp-editions/main/eb07/TXT_v2/a2/kp-eb0702-008304-0888-v2.txt | created by https://w3id.org/hto/Organization/NCKP using https://pdf.abbyy.com\n",
      "name: ACCENT | description: in antiquity, denotes aŉ inferior order of officers, appointed to attend the Roman magistrates, somewhat in the manner of ushers, serjeants, or tipstaves among us. They were thus called from accire, to send for; one part of their office being to call assemblies of the people, summon parties to appear and answer before the judges, &c.\n",
      "Accensi was also an appellation given to a kind of adjutants, appointed by the tribune to assist each centurion and decurion; in which sense accensus is synonymous with optio. In an ancient inscription, given by Torre, we meet with Accensus Equitum Romanorum ; an office nowhere else heard of. That author suspects it for a corruption; and instead thereof reads, A Censibus. | source: https://raw.githubusercontent.com/TU-plogan/kp-editions/main/eb07/TXT_v2/a2/kp-eb0702-008304-0888-v2.txt | created by https://w3id.org/hto/Organization/NCKP using https://pdf.abbyy.com\n",
      "name: ACCENT | description: in reading or speaking, an inflection of the voice, which gives to each syllable of a word its due pitch in-respect of height or lowness. See Reading. The word is originally Latin, accentus ; a compound of ad, to, and cano, to sing. Accentus quasi adcantus, or juχtα can-turn. In this sense, accent is synonymous with the Greek τονος ; the Latin tenor, or tonor ; and the Hebrew t□yto, gustus, taste, Accent, among grammarians, is a certain mark, or  character placed over a syllable to direct the stress of its pronunciation. We generally reckon three grammatical accents in ordinary use, all borrowed from the Greeks, viz. the acute accent ('), which shows when the tone of the voice is to be raised; the grave accent ('), when the note or tone of the voice is to be depressed; and the circumflex accent ( a ), which is composed of both the acute and the grave, and points out a kind of undulation of the voice. The Latins have made the same use as the Greeks of these three accents.\n",
      "The Hebrews have a grammatical, a rhetorical, and a musical accent; though the first and last seem, in effect, to be the same, both being comprised under the general name of tonic accents, because they give the proper tones to syllables; as the rhetorical accents are said to be euphonic, because they tend to make the pronunciation more sweet and agreeable. There are four euphonic accents, and twenty-five tonic: of these some are placed above, and others below the syllables; the Hebrew accents serving not only to regulate the risings and fallings of the voice, but also to distinguish the sections, periods, and members of periods, in a discourse, and to answer the same purposes with the points in other languages. Their accents are divided into emperors, kings, dukes, &c. each bearing a title answerable to the importance of the distinction it makes. Their emperor rules over a whole phrase, and terminates the sense completely; answering to our point. Their king answers to our colon; and their duke to our comma. The king, however, occasionally becomes a duke, and the duke a king, as the phrases are more or less short. It must be noted, by the way, that the management and combination of these accents in Hebrew poetry differ from their management and combination in prose. The use of the tonic or grammatical accents has been much controverted; some holding that they distinguish the sense, while others maintain that they are only intended to regulate the music or singing, alleging that the Jews sing rather than read the Scriptures in their synagogues.^[1. Cooper, Dorn. Mosaic. Clav. p. 31. ] Be this, however, as it will, it is certain the ancient Hebrews were not acquainted with these accents. The opinion which prevails amongst the learned is, that they were invented about the sixth century, by the Jewish doctors of the school of Tiberias, called the Massorets.\n",
      "As to the Greek accents, now seen both in manuscripts and printed books, there has been no less dispute about their antiquity and use than about those of the Hebrews. Isaac Vossius endeavours to prove them of modern invention; asserting, that anciently they had nothing of this kind, but only a few notes in their poetry, which were invented by Aristophanes the grammarian, about the time of Ptolemy Philopater; and that these were of musical rather than grammatical use, serving as aids in the singing of their poems, and being very different from those afterwards introduced. He also shows, from several ancient grammarians, that the manner of writing the Greek accents in those days was quite different from that which appears in our books. The author of Lα Methode Grecque, p.546, observes, that the right pronunciation of the Greek language being natural to the Greeks, it was needless for them to mark it by accents in their writings; so that, according ţo all appearance, they only began to make use of them about the time when the Romans, wishing to learn the Greek tongue, sent their children to study at Athens, thinking thereby to fix the pronunciation, and to facilitate it to strangers; which happened, as the same author observes, a little before Cicero’s time. Wetstein, Greek professor at Basil, in a learned dissertation, endeavours to prove the Greek accents of an older standing. He owns that they were not always formed in the same manner by the ancients, but he thinks that difference owing to the different pronunciation which obtained' in the different parts of Greece. He also brings several reasons, a priori, for the use of accents, even in the earliest days: as, that all writing being then in capital letters equidistant from each other, without any distinction either of Words or phrases, it could scarcely have been rendered intelligible without accents; and that accents were necessary to distinguish ambiguous words, and to point out their proper meaning, as appears from a dispute in regard to a passage of Homer, mentioned by Aristotle in his Poetics, qhap. V. Accordingly, he observes that the Syrians, who have tonic, but not distinctive accents, have yet invented certain points, placed either below or above the words, to show their mood, tense, person, or sense.\n",
      "Mr Browne of Trinity College, Dublin, has entered more deeply into this investigation; and as he had an opportunity of conversing with the crew of a Greek ship from Patras, a town situated not far distant from the ancient Corinth, which had been driven by stress of weather into the port of Dingle in Ireland, the result of his inquiries was, that the practice of the modern Greeks is different from any of the theories that have been delivered in books. “It is true,” he observes, “they have not two pronunciations for prose and for verse, and in both they read by accent; but they make accent the cause of quantity, they make it govern and control quantity, they make the syllable long on which the acute accent falls, and they allow the acute accent to change the real quantity. They always read poetry as well as prose by accent. Whether any inference can hence be drawn as to the pronunciation of the ancients, I must leave, after what I have premised above, to men of more learning; but I think it at least so probable as to make it worth while to mention the instances which occurred in proof of this assertion more particularly. Of the two first persons whom I met, one, the steward of the ship, an inhabitant of the island of Cephalonia, had had a school education: he read Euripides, and translated some easier passages, without much difficulty. By a stay in this country of near two years, he was able to speak English very tolerably, as could also the captain and several of the crew; and almost all of them spoke Italian fluently. The companion, however, of the steward· could speak only modern Greek, in which I could discover that he was giving a description of the distress in which the ship had been; and though not able to understand the context, I could plainly distinguish many words, such as δενδξα, ξυλοv, and among the rest the sound of Aν6ξωττος pronounced short. This awoke my curiosity, which w as still more heightened when I observed that he said Av0gωπων long, with the same attention to the alteration of the accent with the variety of case, which a boy would be taught to pay at a school in England. Watching therefore more closely, and asking the other to read some ancient Greek, I found that they both uniformly pronounced according to accent, without any attention to long or short syllables where accent came in the way; and on their departure, one of them having bid me good day, by saying ^Kαλημεgα, to which I answered ^Kαλημεgα, he with strong marks of reprobation set me right, and repeated ^Kαλημεgα ; and with like censure did the captain upon another occasion observe upon my saying Socrates instead of Socrates.\n",
      "“I now had a strong wish to know whether they observed the distinction in this respect usually between verse and prose; but from the little scholarship of the two men with whom I had conversed, from the ignorance of a third whom I afterwards met, (who however read Lucian with ease, though he did not seem ever to have heard of the book,) and on account of my imperfect mode of conversing with them all, I had little hopes of satisfaction on the point-; nor was I clear that they perfectly knew the difference between verse and prose. At length, having met with the commander of the ship, and his clerk Athanasius Kονομος, and finding that the latter had been a schoolmaster in the Morea, and had here learnt to speak English fluently, I put the question to them in the presence of a very learned college friend, and at another time, to avoid any error, with the aid of a gentleman who is perfectly master of the Italian language. Both the Greeks repeatedly assured us that verse as well as prose was read by accent, and not by quantity; and exemplified it by reading several lines of Homer, with whose name they seemed perfectly well acquainted.\n",
      "“I shall give an instance or two of their mode of reading:\n",
      "Βη δ' ά£εων ¶agà ⅛ινα τrολιrpλοισζοιο ⅛dKασσης,\n",
      "Tòv δ' αvαμειZομενος πζοσf<pη ποδας ωκυς , Aχιλλευς,\n",
      "’ Eς δ' εgετας επιτηδες αγειgoμεν, 'ες δ ’ εκατoμζην.\n",
      "They made the ε in αzεwv, πgοσε<pη, and εgετctς, long. But when they read\n",
      "^Kλυ6ι μευ> ’ Aξγυg6nζ, íJ¢ Xg{ισην άμφιζεζηκας,\n",
      "they made the second syllable of the first word ~Kλυ0ι short, notwithstanding the acute accent: on my asking why, they desired me to look back on the circumflex on the first syllable, and said it thence necessarily followed; for it is impossible to pronounce the first syllable with the great length which the circumflex denotes, and not to shorten the second. The testimony of the schoolmaster might be vitiated; but what could be stronger than that of these ignorant mariners as to the vulgar common practice of modern Greece? and it is remarkable that this confirms the opinion of Bishop Horsley, that the tones of words in connection are not always the same with the tones of solitary words, though in those of more than one syllable the accentual marks do not change their position. I must here add, that these men confirmed an observation which I have heard made, that we are much mistaken in our idea of the supposed lofty sound of πολv<pλοισζοιο , i}αλασσης ; that the borderers on the coast of the Archipelago take their ideas from the gentle laving of the shore by a summer wave, and not from the roaring of a winter ocean; and they accordingly pronounced it polyphlisveo thalasses.\n",
      "“I own that the observations made by me on the pronunciation of these modern Greeks brought a perfectly new train of ideas into my mind. I propose them, with humility, for the consideration of the learned; but they have made a strong impression upon me, and approached, when compared with other admitted facts, nearly to conviction. In short, I am strongly inclined to believe, that what the famous treatise so often mentioned on the prosodies of the Greek and Latin languages mentions as the peculiarity of the English, that we always prolong the sound of the syllable on which the acute accent falls, is true, and has been true of every nation upon earth. We know it is true of the modern Italians: they read Latin in that respect just as we do, and say, Arma virumque cano, and, In nova fert animus, as much as we. And when we find the modern Greeks following the same practice, surely we have some cause to suppose that the ancients did the same. In the English language, indeed, quantity is not affected, because accent and quantity always agree. Bishop Horsley endeavoured to prove that they did so in Greek, but this is on the bold supposition that the accent doth not fall where the mark is placed. The objection to this hypothesis, which seems to have been admitted by all writers, and considered as decisive by some as to prose, by all as to verse, is, that such a mode of pronunciation or reading must destroy metre, or rhythmus. From this position, however universal, or however it may have been taken for granted, I totally dissent. That it will oppose the metre or quantity I readily agree; but that it will destroy the rhythmus, (by which, whatever learned descriptions there may have been of its meaning, I understand nothing more than the melody or smooth flowing of the verses, or their harmony, if you please, if harmony be properly applied to successive and not synchronal sounds,) I can by no means admit. On the contrary, nothing can be more disagreeable or unmelodious than the reading verse by quantity, or scanning of it, as it is vulgarly called. Let us try the line so often quoted—\n",
      "Armă vĭrūmqŭe cănō, Trōjaē qui prīmŭs ăb ōrīs,\n",
      "instead of\n",
      "Ārmă vĭrūmqūe cānŏ, Trōjaē qūi prīmŭs ăb ōrīs.\n",
      "“No man ever defined rhythmus better than Plato, ordinem quendam qui in motibus cernitur ; the motion or measure of the verse may be exact, and yet the order, arrangement, and disposition of the letters and syllables such as to be grating and unmelodious to the ear. In like manner the feet of the verse may be exact, but the stress laid upon particular syllables of it which follows the quantity may totally destroy the melody: in short, the radical error seems to be the confusion of quantity with melody, and the supposition that whatever is at war with quantity and metre must be at war with melody.\n",
      "“It will be asked, then, what is the use of metre or measure in verse, if we are not to read by it; and here is the grand difficulty; and I own with candour I cannot answer it with perfect satisfaction to my own mind: to those, indeed, who say wc are to read by accent in prose, it may be equally asked, what is the usé of long or short syllables in prose, if we are not to attend to them when, accent comes in the way; but to those who think otherwise, I can only answer, that in the first place accent doth not always interfere, and then quantity is our guide, and accent often accords with quantity. Secondly, metre determines the number of feet or measures in each verse, and thereby produces a general analogy and harmony through the whole; and it is to be observed, that, as I apprehend, accent doth not change the number of feet, though it doth the nature or species of them. Thus when we read\n",
      "Arma virumque cano, Trojae qui primus ab oris,\n",
      "we do not make more feet than when we scan the line, nor employ more time than in pronouncing the next line, in which the accent happens to accord with the quantity, viz.\n",
      "Italiam fato profiιgus, Lavinaque venit.\n",
      "Thirdly, the poet in measuring his verse certainly must be confined to some certain number and order of long and short syllables, in order to produce a concordance through the whole, and even to regulate the position of accent, which, though not subdued by quantity, will certainly have some relation to it, euphoniae gratia ; but surely the length or shortness of a syllable cannot determine where emphasis shall be placed—that must depend on the meaning and the thought; and it would be most absurd for the poet to say to the reader, you shall not rest upon this emphatic and significative word because its syllables are short, and wherever there is a rest, there must be length and intonation.” (Irish Trans, vol. vii.)\n",
      "The use of accents to prevent ambiguities is most remarkably perceived in some eastern languages, particularly the Siameseand Chinese. Among the people of China, every word, or, which is the same thing, every syllable, admits of five accents, according as it is spoken more acutely or remissly; and thus stands for many different things. The same sound ya, according to the accent affixed to it, signifies God, a wall, excellent, stupidity, and a goose. The Chinese have but 330 spoken words in their language; but these being multiplied by the different accents or tones which’ affect the vowels, furnish a language tolerably copious. By means of accents, their 330 simple sounds come to denote 1650 things; but this being hardly sufficient, they are increased further by aspirates added to each word, to double the number. The Chinese only reckon four accents, for which the missionaries use the following marks, aa, a, à, a ; to which they have added a fifth, thus α. They make a kind of modulation, wherein, prolonging the duration of the sound of the vowel, they vary the tone, raising and sinking it by a certain pitch of voice; so that their talking is a sort of music or singing. Attempts have been made to determine the quantity of the rise or fall on each accent by means of musical notes; but this is hard to effect, as being different in different persons. Hence the great difficulty of the language to foreigners, who are forced to sing most scrupulously; for if they deviate ever so little from the accent, they say quite a different thing from what was intended. Thus, meaning to compliment the person you are talking of with the title Sir, you call him a beast with the same word, only a little varied in the tone. Magalhon, however, makes the language easier to learn on this account. The Siamese are also observed to sing rather than to talk. Their alphabet begins with six characters, all only equivalent to a K, but differently accented. For though in the pronunciation the accents are naturally on the vowels, yet they have some to diversify such of their consonants as are in other respects the same. | source: https://raw.githubusercontent.com/TU-plogan/kp-editions/main/eb07/TXT_v2/a2/kp-eb0702-008304-0888-v2.txt | created by https://w3id.org/hto/Organization/NCKP using https://pdf.abbyy.com\n",
      "name: ACCENT | description: the action of setting a body on fire: thus the ąccension of tinder is effected by striking fire with flint pnd steel. | source: https://raw.githubusercontent.com/TU-plogan/kp-editions/main/eb07/TXT_v2/a2/kp-eb0702-008304-0888-v2.txt | created by https://w3id.org/hto/Organization/NCKP using https://pdf.abbyy.com\n",
      "name: ACCENT | description: in Music, is a certain enforcement of particular sounds, whether by the voice or instruments, generally used at the beginning of bars.\n",
      "Acceptance, in Commerce, is the subscribing, signing, and making one’s self debtor for the sum contained in a bill of exchange or other obligation. | source: https://raw.githubusercontent.com/TU-plogan/kp-editions/main/eb07/TXT_v2/a2/kp-eb0702-008305-0888-v2.txt | created by https://w3id.org/hto/Organization/NCKP using https://pdf.abbyy.com\n",
      "name: ACCENT | description: in antiquity, denotes aŉ inferior order of officers, appointed to attend the Roman magistrates, somewhat in the manner of ushers, serjeants, or tipstaves among us. They were thus called from accire, to send for; one part of their office being to call assemblies of the people, summon parties to appear and answer before the judges, &c.\n",
      "Accensi was also an appellation given to a kind of adjutants, appointed by the tribune to assist each centurion and decurion; in which sense accensus is synonymous with optio. In an ancient inscription, given by Torre, we meet with Accensus Equitum Romanorum ; an office nowhere else heard of. That author suspects it for a corruption; and instead thereof reads, A Censibus. | source: https://raw.githubusercontent.com/TU-plogan/kp-editions/main/eb07/TXT_v2/a2/kp-eb0702-008305-0888-v2.txt | created by https://w3id.org/hto/Organization/NCKP using https://pdf.abbyy.com\n",
      "name: ACCENT | description: in reading or speaking, an inflection of the voice, which gives to each syllable of a word its due pitch in-respect of height or lowness. See Reading. The word is originally Latin, accentus ; a compound of ad, to, and cano, to sing. Accentus quasi adcantus, or juχtα can-turn. In this sense, accent is synonymous with the Greek τονος ; the Latin tenor, or tonor ; and the Hebrew t□yto, gustus, taste, Accent, among grammarians, is a certain mark, or  character placed over a syllable to direct the stress of its pronunciation. We generally reckon three grammatical accents in ordinary use, all borrowed from the Greeks, viz. the acute accent ('), which shows when the tone of the voice is to be raised; the grave accent ('), when the note or tone of the voice is to be depressed; and the circumflex accent ( a ), which is composed of both the acute and the grave, and points out a kind of undulation of the voice. The Latins have made the same use as the Greeks of these three accents.\n",
      "The Hebrews have a grammatical, a rhetorical, and a musical accent; though the first and last seem, in effect, to be the same, both being comprised under the general name of tonic accents, because they give the proper tones to syllables; as the rhetorical accents are said to be euphonic, because they tend to make the pronunciation more sweet and agreeable. There are four euphonic accents, and twenty-five tonic: of these some are placed above, and others below the syllables; the Hebrew accents serving not only to regulate the risings and fallings of the voice, but also to distinguish the sections, periods, and members of periods, in a discourse, and to answer the same purposes with the points in other languages. Their accents are divided into emperors, kings, dukes, &c. each bearing a title answerable to the importance of the distinction it makes. Their emperor rules over a whole phrase, and terminates the sense completely; answering to our point. Their king answers to our colon; and their duke to our comma. The king, however, occasionally becomes a duke, and the duke a king, as the phrases are more or less short. It must be noted, by the way, that the management and combination of these accents in Hebrew poetry differ from their management and combination in prose. The use of the tonic or grammatical accents has been much controverted; some holding that they distinguish the sense, while others maintain that they are only intended to regulate the music or singing, alleging that the Jews sing rather than read the Scriptures in their synagogues.^[1. Cooper, Dorn. Mosaic. Clav. p. 31. ] Be this, however, as it will, it is certain the ancient Hebrews were not acquainted with these accents. The opinion which prevails amongst the learned is, that they were invented about the sixth century, by the Jewish doctors of the school of Tiberias, called the Massorets.\n",
      "As to the Greek accents, now seen both in manuscripts and printed books, there has been no less dispute about their antiquity and use than about those of the Hebrews. Isaac Vossius endeavours to prove them of modern invention; asserting, that anciently they had nothing of this kind, but only a few notes in their poetry, which were invented by Aristophanes the grammarian, about the time of Ptolemy Philopater; and that these were of musical rather than grammatical use, serving as aids in the singing of their poems, and being very different from those afterwards introduced. He also shows, from several ancient grammarians, that the manner of writing the Greek accents in those days was quite different from that which appears in our books. The author of Lα Methode Grecque, p.546, observes, that the right pronunciation of the Greek language being natural to the Greeks, it was needless for them to mark it by accents in their writings; so that, according ţo all appearance, they only began to make use of them about the time when the Romans, wishing to learn the Greek tongue, sent their children to study at Athens, thinking thereby to fix the pronunciation, and to facilitate it to strangers; which happened, as the same author observes, a little before Cicero’s time. Wetstein, Greek professor at Basil, in a learned dissertation, endeavours to prove the Greek accents of an older standing. He owns that they were not always formed in the same manner by the ancients, but he thinks that difference owing to the different pronunciation which obtained' in the different parts of Greece. He also brings several reasons, a priori, for the use of accents, even in the earliest days: as, that all writing being then in capital letters equidistant from each other, without any distinction either of Words or phrases, it could scarcely have been rendered intelligible without accents; and that accents were necessary to distinguish ambiguous words, and to point out their proper meaning, as appears from a dispute in regard to a passage of Homer, mentioned by Aristotle in his Poetics, qhap. V. Accordingly, he observes that the Syrians, who have tonic, but not distinctive accents, have yet invented certain points, placed either below or above the words, to show their mood, tense, person, or sense.\n",
      "Mr Browne of Trinity College, Dublin, has entered more deeply into this investigation; and as he had an opportunity of conversing with the crew of a Greek ship from Patras, a town situated not far distant from the ancient Corinth, which had been driven by stress of weather into the port of Dingle in Ireland, the result of his inquiries was, that the practice of the modern Greeks is different from any of the theories that have been delivered in books. “It is true,” he observes, “they have not two pronunciations for prose and for verse, and in both they read by accent; but they make accent the cause of quantity, they make it govern and control quantity, they make the syllable long on which the acute accent falls, and they allow the acute accent to change the real quantity. They always read poetry as well as prose by accent. Whether any inference can hence be drawn as to the pronunciation of the ancients, I must leave, after what I have premised above, to men of more learning; but I think it at least so probable as to make it worth while to mention the instances which occurred in proof of this assertion more particularly. Of the two first persons whom I met, one, the steward of the ship, an inhabitant of the island of Cephalonia, had had a school education: he read Euripides, and translated some easier passages, without much difficulty. By a stay in this country of near two years, he was able to speak English very tolerably, as could also the captain and several of the crew; and almost all of them spoke Italian fluently. The companion, however, of the steward· could speak only modern Greek, in which I could discover that he was giving a description of the distress in which the ship had been; and though not able to understand the context, I could plainly distinguish many words, such as δενδξα, ξυλοv, and among the rest the sound of Aν6ξωττος pronounced short. This awoke my curiosity, which w as still more heightened when I observed that he said Av0gωπων long, with the same attention to the alteration of the accent with the variety of case, which a boy would be taught to pay at a school in England. Watching therefore more closely, and asking the other to read some ancient Greek, I found that they both uniformly pronounced according to accent, without any attention to long or short syllables where accent came in the way; and on their departure, one of them having bid me good day, by saying ^Kαλημεgα, to which I answered ^Kαλημεgα, he with strong marks of reprobation set me right, and repeated ^Kαλημεgα ; and with like censure did the captain upon another occasion observe upon my saying Socrates instead of Socrates.\n",
      "“I now had a strong wish to know whether they observed the distinction in this respect usually between verse and prose; but from the little scholarship of the two men with whom I had conversed, from the ignorance of a third whom I afterwards met, (who however read Lucian with ease, though he did not seem ever to have heard of the book,) and on account of my imperfect mode of conversing with them all, I had little hopes of satisfaction on the point-; nor was I clear that they perfectly knew the difference between verse and prose. At length, having met with the commander of the ship, and his clerk Athanasius Kονομος, and finding that the latter had been a schoolmaster in the Morea, and had here learnt to speak English fluently, I put the question to them in the presence of a very learned college friend, and at another time, to avoid any error, with the aid of a gentleman who is perfectly master of the Italian language. Both the Greeks repeatedly assured us that verse as well as prose was read by accent, and not by quantity; and exemplified it by reading several lines of Homer, with whose name they seemed perfectly well acquainted.\n",
      "“I shall give an instance or two of their mode of reading:\n",
      "Βη δ' ά£εων ¶agà ⅛ινα τrολιrpλοισζοιο ⅛dKασσης,\n",
      "Tòv δ' αvαμειZομενος πζοσf<pη ποδας ωκυς , Aχιλλευς,\n",
      "’ Eς δ' εgετας επιτηδες αγειgoμεν, 'ες δ ’ εκατoμζην.\n",
      "They made the ε in αzεwv, πgοσε<pη, and εgετctς, long. But when they read\n",
      "^Kλυ6ι μευ> ’ Aξγυg6nζ, íJ¢ Xg{ισην άμφιζεζηκας,\n",
      "they made the second syllable of the first word ~Kλυ0ι short, notwithstanding the acute accent: on my asking why, they desired me to look back on the circumflex on the first syllable, and said it thence necessarily followed; for it is impossible to pronounce the first syllable with the great length which the circumflex denotes, and not to shorten the second. The testimony of the schoolmaster might be vitiated; but what could be stronger than that of these ignorant mariners as to the vulgar common practice of modern Greece? and it is remarkable that this confirms the opinion of Bishop Horsley, that the tones of words in connection are not always the same with the tones of solitary words, though in those of more than one syllable the accentual marks do not change their position. I must here add, that these men confirmed an observation which I have heard made, that we are much mistaken in our idea of the supposed lofty sound of πολv<pλοισζοιο , i}αλασσης ; that the borderers on the coast of the Archipelago take their ideas from the gentle laving of the shore by a summer wave, and not from the roaring of a winter ocean; and they accordingly pronounced it polyphlisveo thalasses.\n",
      "“I own that the observations made by me on the pronunciation of these modern Greeks brought a perfectly new train of ideas into my mind. I propose them, with humility, for the consideration of the learned; but they have made a strong impression upon me, and approached, when compared with other admitted facts, nearly to conviction. In short, I am strongly inclined to believe, that what the famous treatise so often mentioned on the prosodies of the Greek and Latin languages mentions as the peculiarity of the English, that we always prolong the sound of the syllable on which the acute accent falls, is true, and has been true of every nation upon earth. We know it is true of the modern Italians: they read Latin in that respect just as we do, and say, Arma virumque cano, and, In nova fert animus, as much as we. And when we find the modern Greeks following the same practice, surely we have some cause to suppose that the ancients did the same. In the English language, indeed, quantity is not affected, because accent and quantity always agree. Bishop Horsley endeavoured to prove that they did so in Greek, but this is on the bold supposition that the accent doth not fall where the mark is placed. The objection to this hypothesis, which seems to have been admitted by all writers, and considered as decisive by some as to prose, by all as to verse, is, that such a mode of pronunciation or reading must destroy metre, or rhythmus. From this position, however universal, or however it may have been taken for granted, I totally dissent. That it will oppose the metre or quantity I readily agree; but that it will destroy the rhythmus, (by which, whatever learned descriptions there may have been of its meaning, I understand nothing more than the melody or smooth flowing of the verses, or their harmony, if you please, if harmony be properly applied to successive and not synchronal sounds,) I can by no means admit. On the contrary, nothing can be more disagreeable or unmelodious than the reading verse by quantity, or scanning of it, as it is vulgarly called. Let us try the line so often quoted—\n",
      "Armă vĭrūmqŭe cănō, Trōjaē qui prīmŭs ăb ōrīs,\n",
      "instead of\n",
      "Ārmă vĭrūmqūe cānŏ, Trōjaē qūi prīmŭs ăb ōrīs.\n",
      "“No man ever defined rhythmus better than Plato, ordinem quendam qui in motibus cernitur ; the motion or measure of the verse may be exact, and yet the order, arrangement, and disposition of the letters and syllables such as to be grating and unmelodious to the ear. In like manner the feet of the verse may be exact, but the stress laid upon particular syllables of it which follows the quantity may totally destroy the melody: in short, the radical error seems to be the confusion of quantity with melody, and the supposition that whatever is at war with quantity and metre must be at war with melody.\n",
      "“It will be asked, then, what is the use of metre or measure in verse, if we are not to read by it; and here is the grand difficulty; and I own with candour I cannot answer it with perfect satisfaction to my own mind: to those, indeed, who say wc are to read by accent in prose, it may be equally asked, what is the usé of long or short syllables in prose, if we are not to attend to them when, accent comes in the way; but to those who think otherwise, I can only answer, that in the first place accent doth not always interfere, and then quantity is our guide, and accent often accords with quantity. Secondly, metre determines the number of feet or measures in each verse, and thereby produces a general analogy and harmony through the whole; and it is to be observed, that, as I apprehend, accent doth not change the number of feet, though it doth the nature or species of them. Thus when we read\n",
      "Arma virumque cano, Trojae qui primus ab oris,\n",
      "we do not make more feet than when we scan the line, nor employ more time than in pronouncing the next line, in which the accent happens to accord with the quantity, viz.\n",
      "Italiam fato profiιgus, Lavinaque venit.\n",
      "Thirdly, the poet in measuring his verse certainly must be confined to some certain number and order of long and short syllables, in order to produce a concordance through the whole, and even to regulate the position of accent, which, though not subdued by quantity, will certainly have some relation to it, euphoniae gratia ; but surely the length or shortness of a syllable cannot determine where emphasis shall be placed—that must depend on the meaning and the thought; and it would be most absurd for the poet to say to the reader, you shall not rest upon this emphatic and significative word because its syllables are short, and wherever there is a rest, there must be length and intonation.” (Irish Trans, vol. vii.)\n",
      "The use of accents to prevent ambiguities is most remarkably perceived in some eastern languages, particularly the Siameseand Chinese. Among the people of China, every word, or, which is the same thing, every syllable, admits of five accents, according as it is spoken more acutely or remissly; and thus stands for many different things. The same sound ya, according to the accent affixed to it, signifies God, a wall, excellent, stupidity, and a goose. The Chinese have but 330 spoken words in their language; but these being multiplied by the different accents or tones which’ affect the vowels, furnish a language tolerably copious. By means of accents, their 330 simple sounds come to denote 1650 things; but this being hardly sufficient, they are increased further by aspirates added to each word, to double the number. The Chinese only reckon four accents, for which the missionaries use the following marks, aa, a, à, a ; to which they have added a fifth, thus α. They make a kind of modulation, wherein, prolonging the duration of the sound of the vowel, they vary the tone, raising and sinking it by a certain pitch of voice; so that their talking is a sort of music or singing. Attempts have been made to determine the quantity of the rise or fall on each accent by means of musical notes; but this is hard to effect, as being different in different persons. Hence the great difficulty of the language to foreigners, who are forced to sing most scrupulously; for if they deviate ever so little from the accent, they say quite a different thing from what was intended. Thus, meaning to compliment the person you are talking of with the title Sir, you call him a beast with the same word, only a little varied in the tone. Magalhon, however, makes the language easier to learn on this account. The Siamese are also observed to sing rather than to talk. Their alphabet begins with six characters, all only equivalent to a K, but differently accented. For though in the pronunciation the accents are naturally on the vowels, yet they have some to diversify such of their consonants as are in other respects the same. | source: https://raw.githubusercontent.com/TU-plogan/kp-editions/main/eb07/TXT_v2/a2/kp-eb0702-008305-0888-v2.txt | created by https://w3id.org/hto/Organization/NCKP using https://pdf.abbyy.com\n",
      "name: ACCENT | description: the action of setting a body on fire: thus the ąccension of tinder is effected by striking fire with flint pnd steel. | source: https://raw.githubusercontent.com/TU-plogan/kp-editions/main/eb07/TXT_v2/a2/kp-eb0702-008305-0888-v2.txt | created by https://w3id.org/hto/Organization/NCKP using https://pdf.abbyy.com\n",
      "name: ACCENT | description: in reading or speaking, an inflection voice, which gives to each syllable of a word its in respect of height or lowness. See Reading. word is originally Latin, accentus ; a compound and cano, to sing. Accentus quasi adcantus, or turn. In this sense, accent is synonymous with rows; the Latin tenor, or tonor; and the Hebrew Accent, among grammarians, is a certain | source: https://w3id.org/hto/InformationResource/192984259_alto_193030890_34_xml | created by https://w3id.org/hto/Organization/NLS using None\n"
     ]
    }
   ],
   "source": [
    "from rdflib import PROV\n",
    "# Find software used to generate the source which the description of an article was extracted.\n",
    "article_accent = \"<https://w3id.org/hto/ArticleTermRecord/9910796273804340_192984259_ACCENT_0>\"\n",
    "q22 = prepareQuery('''\n",
    "    SELECT * WHERE {\n",
    "        %s a hto:TermRecord;\n",
    "            hto:name ?name;\n",
    "            hto:hasOriginalDescription ?desc.\n",
    "        ?desc hto:wasExtractedFrom ?source;\n",
    "            hto:text ?text.\n",
    "        ?source prov:wasAttributedTo ?agent.\n",
    "        ?agent a ?agentType.\n",
    "        FILTER (?agentType = prov:Person || ?agentType = prov:Organization)\n",
    "        OPTIONAL {\n",
    "            ?source prov:wasAttributedTo ?software.\n",
    "            ?software a prov:SoftwareAgent.\n",
    "        }\n",
    "    }\n",
    "  ''' % article_accent,\n",
    "  initNs = { \"hto\": hto, \"prov\": PROV}\n",
    ")\n",
    "\n",
    "for r in graph.query(q22):\n",
    "      print(\"name: %s | description: %s | source: %s | created by %s using %s\" % (r.name,  r.text, r.source, r.agent, r.software))"
   ],
   "metadata": {
    "collapsed": false
   }
  },
  {
   "cell_type": "markdown",
   "source": [
    "### Question 23: List all articles which have more than one name"
   ],
   "metadata": {
    "collapsed": false
   }
  },
  {
   "cell_type": "code",
   "execution_count": 56,
   "outputs": [
    {
     "name": "stdout",
     "output_type": "stream",
     "text": [
      "term uri: https://w3id.org/hto/ArticleTermRecord/9910796273804340_192693199_HYDROGRAPHICALCHARTS_0 | number of names: 2\n",
      "term uri: https://w3id.org/hto/ArticleTermRecord/9910796273804340_192693199_HYDROPHANES_0 | number of names: 2\n",
      "term uri: https://w3id.org/hto/ArticleTermRecord/9910796273804340_192693199_HYMENAEUS_0 | number of names: 2\n",
      "term uri: https://w3id.org/hto/ArticleTermRecord/9910796273804340_192693199_HYPANTE_0 | number of names: 2\n",
      "term uri: https://w3id.org/hto/ArticleTermRecord/9910796273804340_192693199_HYPOBOLE_0 | number of names: 2\n",
      "term uri: https://w3id.org/hto/ArticleTermRecord/9910796273804340_192693199_HYPOGLOTTIS_0 | number of names: 2\n",
      "term uri: https://w3id.org/hto/ArticleTermRecord/9910796273804340_192693199_HYPOGLOTTIS_1 | number of names: 2\n",
      "term uri: https://w3id.org/hto/ArticleTermRecord/9910796273804340_192693199_HYSTERICALAFFECTION_0 | number of names: 2\n",
      "term uri: https://w3id.org/hto/ArticleTermRecord/9910796273804340_192693199_ICONOCLASTES_0 | number of names: 2\n",
      "term uri: https://w3id.org/hto/ArticleTermRecord/9910796273804340_192693199_ICONOLATRAE_0 | number of names: 2\n"
     ]
    }
   ],
   "source": [
    "\n",
    "q23 = prepareQuery('''\n",
    "    SELECT ?term (COUNT(?name) AS ?n) WHERE {\n",
    "        ?term a hto:ArticleTermRecord;\n",
    "            hto:name ?name.\n",
    "    }\n",
    "    GROUP BY ?term\n",
    "    HAVING (COUNT(?name) > 1)\n",
    "    LIMIT 10\n",
    "  ''',\n",
    "  initNs = { \"hto\": hto}\n",
    ")\n",
    "\n",
    "for r in graph.query(q23):\n",
    "      print(\"term uri: %s | number of names: %s\" % (r.term, r.n))"
   ],
   "metadata": {
    "collapsed": false
   }
  },
  {
   "cell_type": "markdown",
   "source": [
    "### Question 24: List editions which was revision of another edition"
   ],
   "metadata": {
    "collapsed": false
   }
  },
  {
   "cell_type": "code",
   "execution_count": 54,
   "outputs": [
    {
     "name": "stdout",
     "output_type": "stream",
     "text": [
      "edition https://w3id.org/hto/Edition/9929192893804340 - < 1 > was revision of edition https://w3id.org/hto/Edition/992277653804341 -< 1 >\n"
     ]
    }
   ],
   "source": [
    "from rdflib.namespace import PROV\n",
    "q24 = prepareQuery('''\n",
    "    SELECT * WHERE {\n",
    "        ?revision a hto:Edition;\n",
    "            prov:wasRevisionOf ?edition;\n",
    "            hto:number ?r_edition_num.\n",
    "        ?edition a hto:Edition;\n",
    "            hto:number ?edition_num.\n",
    "    }\n",
    "  ''',\n",
    "  initNs = { \"hto\": hto, \"prov\": PROV}\n",
    ")\n",
    "\n",
    "for r in graph.query(q24):\n",
    "      print(\"edition %s - < %s > was revision of edition %s -< %s >\" % (r.revision, r.r_edition_num, r.edition, r.edition_num))"
   ],
   "metadata": {
    "collapsed": false
   }
  },
  {
   "cell_type": "markdown",
   "source": [
    "### Question 25: Find the reference articles of an article _A_\n",
    "\n",
    "In the description of article _A_ , reference articles are mentioned after the words \"See\" or \"See the article\"."
   ],
   "metadata": {
    "collapsed": false
   }
  },
  {
   "cell_type": "code",
   "execution_count": 71,
   "outputs": [
    {
     "name": "stdout",
     "output_type": "stream",
     "text": [
      "reference term uri: https://w3id.org/hto/ArticleTermRecord/9910796273804340_192547789_ARDRAH_0\n",
      "reference term uri: https://w3id.org/hto/ArticleTermRecord/9910796273804340_192547789_ASHANTEE_0\n",
      "reference term uri: https://w3id.org/hto/ArticleTermRecord/9910796273804340_192547789_CAPE_0\n",
      "reference term uri: https://w3id.org/hto/ArticleTermRecord/9910796273804340_192547789_CASTLE_0\n",
      "reference term uri: https://w3id.org/hto/ArticleTermRecord/9910796273804340_192984259_ACRA_0\n",
      "reference term uri: https://w3id.org/hto/ArticleTermRecord/9910796273804340_192984259_COAST_0\n",
      "reference term uri: https://w3id.org/hto/ArticleTermRecord/9910796273804340_193108323_LAGOS_0\n",
      "reference term uri: https://w3id.org/hto/ArticleTermRecord/9910796273804340_193696084_EUPHRATES_0\n"
     ]
    }
   ],
   "source": [
    "article = \"<https://w3id.org/hto/ArticleTermRecord/9910796273804340_193638940_GUINEA_0>\"\n",
    "q25 = prepareQuery('''\n",
    "    SELECT * WHERE {\n",
    "        %s a hto:ArticleTermRecord;\n",
    "            hto:refersTo ?reference.\n",
    "    }\n",
    "  ''' % article,\n",
    "  initNs = { \"hto\": hto}\n",
    ")\n",
    "\n",
    "for r in graph.query(q25):\n",
    "      print(\"reference term uri: %s\" % (r.reference))"
   ],
   "metadata": {
    "collapsed": false
   }
  },
  {
   "cell_type": "markdown",
   "source": [
    "### Question 26: Find the summary of the description of a topic article _A_"
   ],
   "metadata": {
    "collapsed": false
   }
  },
  {
   "cell_type": "code",
   "execution_count": 52,
   "outputs": [],
   "source": [
    "topic_a = \"<https://w3id.org/hto/TopicTermRecord/9910796273804340_192693199_HYGROMETRY_0>\"\n",
    "q26 = prepareQuery('''\n",
    "    SELECT * WHERE {\n",
    "        %s a hto:TopicTermRecord;\n",
    "            hto:name ?name;\n",
    "            hto:hasOriginalDescription ?description.\n",
    "        ?description a hto:OriginalDescription;\n",
    "            hto:hasSummary ?summary.\n",
    "        ?summary hto:text ?text.\n",
    "    }\n",
    "  ''' % topic_a,\n",
    "  initNs = { \"hto\": hto}\n",
    ")\n",
    "\n",
    "for r in graph.query(q26):\n",
    "      print(\"term: %s | summary: %s\" % (r.name, r.text))"
   ],
   "metadata": {
    "collapsed": false
   }
  },
  {
   "cell_type": "markdown",
   "source": [],
   "metadata": {
    "collapsed": false
   }
  }
 ],
 "metadata": {
  "kernelspec": {
   "display_name": "Python 3",
   "language": "python",
   "name": "python3"
  },
  "language_info": {
   "codemirror_mode": {
    "name": "ipython",
    "version": 2
   },
   "file_extension": ".py",
   "mimetype": "text/x-python",
   "name": "python",
   "nbconvert_exporter": "python",
   "pygments_lexer": "ipython2",
   "version": "2.7.6"
  }
 },
 "nbformat": 4,
 "nbformat_minor": 0
}
