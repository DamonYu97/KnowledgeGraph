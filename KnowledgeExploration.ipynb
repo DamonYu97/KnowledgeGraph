{
 "cells": [
  {
   "cell_type": "markdown",
   "source": [
    "# Knowledge Exploration With SPARQL queries\n",
    "This notebook explores the knowledge in knowledge graphs generated in this repository using sparql queries.\n",
    "Overall, we will parse an RDF source to a Graph using rdflib, and explore the knowledge by querying the graph.\n",
    "\n",
    "Questions this knowledge graph should answer:\n",
    "1. List all digitalised collections in this graph.\n",
    "2. What volumes, editions, or series does a digitalised collection _C_ include?\n",
    "3. What time period does a digitalised collection _C_ cover? (next version)\n",
    "4. When was edition _E_, series _S_, or volume _V_ published?\n",
    "5. Who published edition _E_, series _S_, or volume _V_?\n",
    "6. Who edited edition _E_, series _S_, or volume _V_?\n",
    "7. Which genre does an edition _E_, series _S_, or volume _V_ belongs to?\n",
    "8. Where was an edition _E_, series _S_, or volume _V_ published or printed?\n",
    "9. Which language did an edition _E_, series _S_, or volume _V_ use?\n",
    "10. In EB, what articles a volume _V_ include?\n",
    "11. Where an EB article _A_ was described (in a page, volume, edition)?\n",
    "12. What are the EB articles which appear in all edition?\n",
    "13. What EB articles were only appeared once in edition _E_?\n",
    "14. What are EB articles related to another EB article _T_?\n",
    "15. What are EB articles which has similar description to _T_?\n",
    "16. How a term with name _T_ was described in all editions?\n",
    "17. What is the text in a page?\n",
    "18. What sources the text descriptions of article _T_ or a page _P_ are extracted from?\n",
    "19. What is the clean description of term _T_?\n",
    "20. What are the descriptions of term _T_ with the highest text quality?\n",
    "21. What software was used to extract the description of article _T_ or a page _P_?\n",
    "22. What software was used to digitise a document?"
   ],
   "metadata": {
    "collapsed": false
   }
  },
  {
   "cell_type": "markdown",
   "source": [
    "## Load the graph"
   ],
   "metadata": {
    "collapsed": false
   }
  },
  {
   "cell_type": "code",
   "execution_count": 1,
   "outputs": [],
   "source": [
    "from rdflib import Graph, URIRef, Namespace\n",
    "\n",
    "# Create a new RDFLib Graph\n",
    "graph = Graph()\n",
    "\n",
    "# Load the rdf file into the graph\n",
    "ontology_file = \"results/hto_total.ttl\"\n",
    "graph.parse(ontology_file, format=\"turtle\")\n",
    "hto = Namespace(\"https://w3id.org/hto#\")"
   ],
   "metadata": {
    "collapsed": false
   }
  },
  {
   "cell_type": "code",
   "execution_count": 2,
   "outputs": [
    {
     "name": "stdout",
     "output_type": "stream",
     "text": [
      "Graph g has 640078 statements.\n"
     ]
    }
   ],
   "source": [
    "# Print the number of \"triples\" in the Graph\n",
    "print(f\"Graph g has {len(graph)} statements.\")"
   ],
   "metadata": {
    "collapsed": false
   }
  },
  {
   "cell_type": "markdown",
   "source": [
    "## Query the graph\n",
    "\n",
    "### Question 1: List all digital collections"
   ],
   "metadata": {
    "collapsed": false
   }
  },
  {
   "cell_type": "code",
   "execution_count": 3,
   "outputs": [
    {
     "name": "stdout",
     "output_type": "stream",
     "text": [
      "https://w3id.org/hto/WorkCollection/ChapbooksOfScotland Chapbooks printed in Scotland Collection\n"
     ]
    }
   ],
   "source": [
    "from rdflib.plugins.sparql import prepareQuery\n",
    "q1 = prepareQuery('''\n",
    "    SELECT ?collection ?name WHERE {\n",
    "        ?collection a hto:WorkCollection;\n",
    "            hto:name ?name.\n",
    "        FILTER (regex(?name, \"Collection$\", \"i\"))\n",
    "}\n",
    "  ''',\n",
    "  initNs = { \"hto\": hto}\n",
    ")\n",
    "\n",
    "for r in graph.query(q1):\n",
    "      print(\"%s %s\" % (r.collection, r.name))"
   ],
   "metadata": {
    "collapsed": false
   }
  },
  {
   "cell_type": "markdown",
   "source": [
    "### Question 2: What volumes, editions, or series does a digitalised collection _C_ include?"
   ],
   "metadata": {
    "collapsed": false
   }
  },
  {
   "cell_type": "code",
   "execution_count": 4,
   "outputs": [
    {
     "name": "stdout",
     "output_type": "stream",
     "text": [
      "uri: https://w3id.org/hto/Edition/9910796343804340 | MMSID: 9910796343804340 | title: Supplement to the third edition of the Encyclopaedia Britannica ... Illustrated with ... copperplates | subtitle: None | number: None\n",
      "uri: https://w3id.org/hto/Edition/9929192893804340 | MMSID: 9929192893804340 | title: Encyclopaedia Britannica: or, A dictionary of arts and sciences | subtitle: compiled upon a new plan. In which the different sciences and arts are digested into distinct treatises or systems; and the various technical terms, &c. are explained as they occur in the order of the alphabet. Illustrated with one hundred and sixty copperplates | number: 1\n",
      "uri: https://w3id.org/hto/Edition/992277653804341 | MMSID: 992277653804341 | title: Encyclopaedia Britannica; or, A dictionary of arts and sciences, compiled upon a new plan | subtitle: Illustrated with one hundred and sixty copperplates | number: 1\n",
      "uri: https://w3id.org/hto/Edition/9910796373804340 | MMSID: 9910796373804340 | title: Supplement to the fourth, fifth and sixth editions of the Encyclopaedia Britannica | subtitle: None | number: None\n",
      "uri: https://w3id.org/hto/Edition/997902523804341 | MMSID: 997902523804341 | title: Encyclopaedia Britannica | subtitle: or, a dictionary of arts, sciences, &c. On a plan entirely new: ... The second edition; greatly improved and enlarged. Illustrated with above two hundred copperplates | number: 2\n",
      "uri: https://w3id.org/hto/Edition/997902543804341 | MMSID: 997902543804341 | title: Encyclopaedia Britannica | subtitle: or, a dictionary of arts, sciences, and miscellaneous literature; ... The third edition, in eighteen volumes, greatly improved. Illustrated with five hundred and forty-two copperplates | number: 3\n",
      "uri: https://w3id.org/hto/Edition/9910796233804340 | MMSID: 9910796233804340 | title: Encyclopaedia Britannica; or, A dictionary of arts, sciences, and miscellaneous literature | subtitle: None | number: 4\n",
      "uri: https://w3id.org/hto/Edition/9910796253804340 | MMSID: 9910796253804340 | title: Encyclopaedia Britannica | subtitle: None | number: 6\n",
      "uri: https://w3id.org/hto/Edition/9922270543804340 | MMSID: 9922270543804340 | title: Encyclopaedia Britannica, or, a Dictionary of arts, sciences, and miscellaneous literature : enlarged and improved. Illustrated with nearly six hundred engravings | subtitle: None | number: 5\n",
      "uri: https://w3id.org/hto/Edition/9910796273804340 | MMSID: 9910796273804340 | title: Encyclopaedia Britannica | subtitle: None | number: 7\n",
      "uri: https://w3id.org/hto/Edition/9929777383804340 | MMSID: 9929777383804340 | title: Encyclopaedia Britannica | subtitle: None | number: 8\n"
     ]
    }
   ],
   "source": [
    "## List all editions of Encyclopaedia Britannica collection\n",
    "eb_collection = \"<https://w3id.org/hto/WorkCollection/EncyclopaediaBritannica>\"\n",
    "q2 = prepareQuery('''\n",
    "    SELECT * WHERE {\n",
    "        %s  a hto:WorkCollection;\n",
    "            hto:hadMember ?edition.\n",
    "        ?edition a hto:Edition;\n",
    "            hto:mmsid ?mmsid;\n",
    "            hto:title ?title.\n",
    "        OPTIONAL {\n",
    "            ?edition hto:subtitle ?subtitle;\n",
    "        }\n",
    "        OPTIONAL {\n",
    "            ?edition hto:number ?number.\n",
    "        }\n",
    "}\n",
    "  ''' % eb_collection,\n",
    "  initNs = { \"hto\": hto}\n",
    ")\n",
    "\n",
    "for r in graph.query(q2):\n",
    "      print(\"uri: %s | MMSID: %s | title: %s | subtitle: %s | number: %s\" % (r.edition, r.mmsid, r.title , r.subtitle,  r.number))"
   ],
   "metadata": {
    "collapsed": false
   }
  },
  {
   "cell_type": "code",
   "execution_count": 5,
   "outputs": [
    {
     "name": "stdout",
     "output_type": "stream",
     "text": [
      "uri: https://w3id.org/hto/Volume/9910796273804340_192547789 | title: Seventh edition, General index | number: 0 | id: 192547789 |  permanent url: https://digital.nls.uk/192547789 | letters: None\n",
      "uri: https://w3id.org/hto/Volume/9910796273804340_192693199 | title: Seventh edition, Volume 12, Hydrodynamics-KYR | number: 12 | id: 192693199 |  permanent url: https://digital.nls.uk/192693199 | letters: Hydrodynamics-KYR\n",
      "uri: https://w3id.org/hto/Volume/9910796273804340_192984258 | title: Seventh edition, Volume 1, Preliminary dissertations | number: 1 | id: 192984258 |  permanent url: https://digital.nls.uk/192984258 | letters: Preliminarydissertations\n",
      "uri: https://w3id.org/hto/Volume/9910796273804340_192984259 | title: Seventh edition, Volume 2, A-Anatomy | number: 2 | id: 192984259 |  permanent url: https://digital.nls.uk/192984259 | letters: A-Anatomy\n",
      "uri: https://w3id.org/hto/Volume/9910796273804340_193057500 | title: Seventh edition, Volume 3, Anatomy-Astronomy | number: 3 | id: 193057500 |  permanent url: https://digital.nls.uk/193057500 | letters: Anatomy-Astronomy\n",
      "uri: https://w3id.org/hto/Volume/9910796273804340_193057501 | title: Seventh edition, Volume 19, RAB-SCU | number: 19 | id: 193057501 |  permanent url: https://digital.nls.uk/193057501 | letters: RAB-SCU\n",
      "uri: https://w3id.org/hto/Volume/9910796273804340_193108322 | title: Seventh edition, Volume 4, Astronomy-BOR | number: 4 | id: 193108322 |  permanent url: https://digital.nls.uk/193108322 | letters: Astronomy-BOR\n",
      "uri: https://w3id.org/hto/Volume/9910796273804340_193108323 | title: Seventh edition, Volume 13, LAB-Magnetism | number: 13 | id: 193108323 |  permanent url: https://digital.nls.uk/193108323 | letters: LAB-Magnetism\n",
      "uri: https://w3id.org/hto/Volume/9910796273804340_193322688 | title: Seventh edition, Volume 8, DIA-England | number: 8 | id: 193322688 |  permanent url: https://digital.nls.uk/193322688 | letters: DIA-England\n",
      "uri: https://w3id.org/hto/Volume/9910796273804340_193322689 | title: Seventh edition, Volume 14, Magnetism-Mexico | number: 14 | id: 193322689 |  permanent url: https://digital.nls.uk/193322689 | letters: Magnetism-Mexico\n",
      "uri: https://w3id.org/hto/Volume/9910796273804340_193322690 | title: Seventh edition, Volume 6, CAL-Clock | number: 6 | id: 193322690 |  permanent url: https://digital.nls.uk/193322690 | letters: CAL-Clock\n",
      "uri: https://w3id.org/hto/Volume/9910796273804340_193469090 | title: Seventh edition, Volume 10, France-GRO | number: 10 | id: 193469090 |  permanent url: https://digital.nls.uk/193469090 | letters: France-GRO\n",
      "uri: https://w3id.org/hto/Volume/9910796273804340_193469091 | title: Seventh edition, Volume 17, PAN-Plastic nature | number: 17 | id: 193469091 |  permanent url: https://digital.nls.uk/193469091 | letters: PAN-Plasticnature\n",
      "uri: https://w3id.org/hto/Volume/9910796273804340_193469092 | title: Seventh edition, Volume 18, PLA-QUI | number: 18 | id: 193469092 |  permanent url: https://digital.nls.uk/193469092 | letters: PLA-QUI\n",
      "uri: https://w3id.org/hto/Volume/9910796273804340_193638940 | title: Seventh edition, Volume 11, Grotius-HYD | number: 11 | id: 193638940 |  permanent url: https://digital.nls.uk/193638940 | letters: Grotius-HYD\n",
      "uri: https://w3id.org/hto/Volume/9910796273804340_193696083 | title: Seventh edition, Volume 5, BOR-CAL | number: 5 | id: 193696083 |  permanent url: https://digital.nls.uk/193696083 | letters: BOR-CAL\n",
      "uri: https://w3id.org/hto/Volume/9910796273804340_193696084 | title: Seventh edition, Volume 9, England-FRA | number: 9 | id: 193696084 |  permanent url: https://digital.nls.uk/193696084 | letters: England-FRA\n",
      "uri: https://w3id.org/hto/Volume/9910796273804340_193819043 | title: Seventh edition, Volume 7, CLO-Dialling | number: 7 | id: 193819043 |  permanent url: https://digital.nls.uk/193819043 | letters: CLO-Dialling\n",
      "uri: https://w3id.org/hto/Volume/9910796273804340_193819044 | title: Seventh edition, Volume 15, MEY-Navigation | number: 15 | id: 193819044 |  permanent url: https://digital.nls.uk/193819044 | letters: MEY-Navigation\n",
      "uri: https://w3id.org/hto/Volume/9910796273804340_193819045 | title: Seventh edition, Volume 21, Surveying-ZYM | number: 21 | id: 193819045 |  permanent url: https://digital.nls.uk/193819045 | letters: Surveying-ZYM\n",
      "uri: https://w3id.org/hto/Volume/9910796273804340_193913444 | title: Seventh edition, Volume 20, Sculpture-SUR | number: 20 | id: 193913444 |  permanent url: https://digital.nls.uk/193913444 | letters: Sculpture-SUR\n",
      "uri: https://w3id.org/hto/Volume/9910796273804340_194474782 | title: Seventh edition, Volume 16, Navigation-PAN | number: 16 | id: 194474782 |  permanent url: https://digital.nls.uk/194474782 | letters: Navigation-PAN\n"
     ]
    }
   ],
   "source": [
    "## List all volumes in Encyclopaedia Britannica 7th Edition\n",
    "eb_edition7 = \"<https://w3id.org/hto/Edition/9910796273804340>\"\n",
    "q2 = prepareQuery('''\n",
    "    SELECT * WHERE {\n",
    "        %s  a hto:Edition;\n",
    "            hto:hadMember ?volume.\n",
    "        ?volume a hto:Volume;\n",
    "            hto:title ?title;\n",
    "            hto:number ?number;\n",
    "            hto:volumeId ?volumeId;\n",
    "            hto:permanentURL ?permanentURL.\n",
    "        OPTIONAL {\n",
    "            ?volume hto:letters ?letters;\n",
    "        }\n",
    "}\n",
    "  ''' % eb_edition7,\n",
    "  initNs = { \"hto\": hto}\n",
    ")\n",
    "\n",
    "for r in graph.query(q2):\n",
    "      print(\"uri: %s | title: %s | number: %s | id: %s |  permanent url: %s | letters: %s\" % (r.volume, r.title ,r.number, r.volumeId, r.permanentURL, r.letters))"
   ],
   "metadata": {
    "collapsed": false
   }
  },
  {
   "cell_type": "markdown",
   "source": [
    "### Question 3: What time period does a digitalised collection _C_ cover? (next version)"
   ],
   "metadata": {
    "collapsed": false
   }
  },
  {
   "cell_type": "code",
   "execution_count": 33,
   "outputs": [],
   "source": [
    "# TODO Get time period which a digitalised collection _C_ cover"
   ],
   "metadata": {
    "collapsed": false
   }
  },
  {
   "cell_type": "markdown",
   "source": [
    "### Question 4: When was edition _E_, series _S_, or volume _V_ published?"
   ],
   "metadata": {
    "collapsed": false
   }
  },
  {
   "cell_type": "code",
   "execution_count": 8,
   "outputs": [
    {
     "name": "stdout",
     "output_type": "stream",
     "text": [
      "MMSID: 992277653804341 | title: Encyclopaedia Britannica; or, A dictionary of arts and sciences, compiled upon a new plan |  number: 1 | year published: 1771 \n"
     ]
    }
   ],
   "source": [
    "eb_edition7 = \"<https://w3id.org/hto/Edition/9910796273804340>\"\n",
    "q4 = prepareQuery('''\n",
    "    SELECT * WHERE {\n",
    "        %s  a hto:Edition;\n",
    "            hto:mmsid ?mmsid;\n",
    "            hto:title ?title;\n",
    "            hto:number ?number;\n",
    "            hto:yearPublished ?year_published;\n",
    "}\n",
    "  ''' % eb_edition7,\n",
    "  initNs = { \"hto\": hto}\n",
    ")\n",
    "\n",
    "for r in graph.query(q4):\n",
    "      print(\"MMSID: %s | title: %s |  number: %s | year published: %s \" % (r.mmsid, r.title , r.number, r.year_published))"
   ],
   "metadata": {
    "collapsed": false
   }
  },
  {
   "cell_type": "markdown",
   "source": [
    "### Question 5: Who published edition _E_, series _S_, or volume _V_?"
   ],
   "metadata": {
    "collapsed": false
   }
  },
  {
   "cell_type": "code",
   "execution_count": 9,
   "outputs": [
    {
     "name": "stdout",
     "output_type": "stream",
     "text": [
      "MMSID: 992277653804341 | title: Encyclopaedia Britannica; or, A dictionary of arts and sciences, compiled upon a new plan | number: 1 | year published: 1771 | | (publisher: https://w3id.org/hto/Organization/CMacfarquharColinMacfarquhar | name: , C. Macfarquhar, Colin Macfarquhar) \n"
     ]
    }
   ],
   "source": [
    "from rdflib.namespace import FOAF\n",
    "\n",
    "eb_edition7 = \"<https://w3id.org/hto/Edition/9910796273804340>\"\n",
    "q5 = prepareQuery('''\n",
    "    SELECT * WHERE {\n",
    "        %s  a hto:Edition;\n",
    "            hto:mmsid ?mmsid;\n",
    "            hto:title ?title;\n",
    "            hto:number ?number;\n",
    "            hto:yearPublished ?year_published.\n",
    "        OPTIONAL {\n",
    "            %s hto:publisher ?publisher.\n",
    "            ?publisher foaf:name ?publisher_name;\n",
    "        }\n",
    "}\n",
    "  ''' % (eb_edition7, eb_edition7),\n",
    "  initNs = { \"hto\": hto, \"foaf\": FOAF}\n",
    ")\n",
    "\n",
    "for r in graph.query(q5):\n",
    "      print(\"MMSID: %s | title: %s | number: %s | year published: %s | | (publisher: %s | name: %s) \" % (r.mmsid, r.title , r.number, r.year_published, r.publisher, r.publisher_name))"
   ],
   "metadata": {
    "collapsed": false
   }
  },
  {
   "cell_type": "markdown",
   "source": [
    "### Question 6: Who edited edition _E_, series _S_, or volume _V_?"
   ],
   "metadata": {
    "collapsed": false
   }
  },
  {
   "cell_type": "code",
   "execution_count": 36,
   "outputs": [
    {
     "name": "stdout",
     "output_type": "stream",
     "text": [
      "MMSID: 9910796273804340 | title: Seventh edition, Volume 2, A-Anatomy | number: 7 | year published: 1842 | (editor: https://w3id.org/hto/Person/StewartDugald | name: Stewart, Dugald | terms of address: Sir | 1753-1828 ) \n"
     ]
    }
   ],
   "source": [
    "from rdflib.namespace import FOAF\n",
    "\n",
    "eb_edition7 = \"<https://w3id.org/hto/Edition/9910796273804340>\"\n",
    "q6 = prepareQuery('''\n",
    "    SELECT * WHERE {\n",
    "        %s  a hto:Edition;\n",
    "            hto:mmsid ?mmsid;\n",
    "            hto:title ?title;\n",
    "            hto:number ?number;\n",
    "            hto:yearPublished ?year_published.\n",
    "        OPTIONAL {\n",
    "            %s hto:editor ?editor.\n",
    "            ?editor a hto:Person;\n",
    "                foaf:name ?editor_name;\n",
    "            OPTIONAL {\n",
    "                ?editor hto:birthYear ?birthYear.\n",
    "            }\n",
    "            OPTIONAL {\n",
    "                ?editor hto:deathYear ?deathYear.\n",
    "            }\n",
    "            OPTIONAL {\n",
    "                ?editor hto:termsOfAddress ?termsOfAddress.\n",
    "            }\n",
    "        }\n",
    "}\n",
    "  ''' % (eb_edition7, eb_edition7),\n",
    "  initNs = { \"hto\": hto, \"foaf\": FOAF}\n",
    ")\n",
    "\n",
    "for r in graph.query(q6):\n",
    "      print(\"MMSID: %s | title: %s | number: %s | year published: %s | (editor: %s | name: %s | terms of address: %s | %s-%s ) \" % (r.mmsid, r.title , r.number, r.year_published, r.editor, r.editor_name, r.termsOfAddress,r.birthYear, r.deathYear))"
   ],
   "metadata": {
    "collapsed": false
   }
  },
  {
   "cell_type": "markdown",
   "source": [
    "### Question 7: Which genre does a volume _V_ belongs to?"
   ],
   "metadata": {
    "collapsed": false
   }
  },
  {
   "cell_type": "code",
   "execution_count": 37,
   "outputs": [
    {
     "name": "stdout",
     "output_type": "stream",
     "text": [
      "MMSID: 9910796273804340 | title: Seventh edition, Volume 2, A-Anatomy |  number: 7 | genre: encyclopedia \n"
     ]
    }
   ],
   "source": [
    "eb_edition7 = \"<https://w3id.org/hto/Edition/9910796273804340>\"\n",
    "q7 = prepareQuery('''\n",
    "    SELECT * WHERE {\n",
    "        %s  a hto:Edition;\n",
    "            hto:mmsid ?mmsid;\n",
    "            hto:title ?title;\n",
    "            hto:number ?number;\n",
    "            hto:genre ?genre;\n",
    "}\n",
    "  ''' % eb_edition7,\n",
    "  initNs = { \"hto\": hto}\n",
    ")\n",
    "\n",
    "for r in graph.query(q7):\n",
    "      print(\"MMSID: %s | title: %s |  number: %s | genre: %s \" % (r.mmsid, r.title , r.number, r.genre))"
   ],
   "metadata": {
    "collapsed": false
   }
  },
  {
   "cell_type": "markdown",
   "source": [
    "### Question 8: Where was a volume _V_ published or printed?"
   ],
   "metadata": {
    "collapsed": false
   }
  },
  {
   "cell_type": "code",
   "execution_count": 38,
   "outputs": [
    {
     "name": "stdout",
     "output_type": "stream",
     "text": [
      "MMSID: 9910796273804340 | title: Seventh edition, Volume 2, A-Anatomy |  number: 7 | place printed: https://w3id.org/hto/Location/Edinburgh | shelf locator: https://w3id.org/hto/Location/EB15 \n"
     ]
    }
   ],
   "source": [
    "eb_edition7 = \"<https://w3id.org/hto/Edition/9910796273804340>\"\n",
    "q8 = prepareQuery('''\n",
    "    SELECT * WHERE {\n",
    "        %s  a hto:Edition;\n",
    "            hto:mmsid ?mmsid;\n",
    "            hto:title ?title;\n",
    "            hto:number ?number;\n",
    "        OPTIONAL {\n",
    "            %s hto:printedAt ?placePrinted;\n",
    "        }\n",
    "        OPTIONAL {\n",
    "            %s hto:shelfLocator ?shelfLocator;\n",
    "        }\n",
    "}\n",
    "  ''' % (eb_edition7, eb_edition7, eb_edition7),\n",
    "  initNs = { \"hto\": hto}\n",
    ")\n",
    "\n",
    "for r in graph.query(q8):\n",
    "      print(\"MMSID: %s | title: %s |  number: %s | place printed: %s | shelf locator: %s \" % (r.mmsid, r.title , r.number, r.placePrinted, r.shelfLocator))"
   ],
   "metadata": {
    "collapsed": false
   }
  },
  {
   "cell_type": "markdown",
   "source": [
    "### Question 9: Which language does a volume _V_ use?"
   ],
   "metadata": {
    "collapsed": false
   }
  },
  {
   "cell_type": "code",
   "execution_count": 39,
   "outputs": [
    {
     "name": "stdout",
     "output_type": "stream",
     "text": [
      "MMSID: 9910796273804340 | title: Seventh edition, Volume 2, A-Anatomy |  number: 7 | language: eng \n"
     ]
    }
   ],
   "source": [
    "eb_edition7 = \"<https://w3id.org/hto/Edition/9910796273804340>\"\n",
    "q9 = prepareQuery('''\n",
    "    SELECT * WHERE {\n",
    "        %s  a hto:Edition;\n",
    "            hto:mmsid ?mmsid;\n",
    "            hto:title ?title;\n",
    "            hto:number ?number;\n",
    "            hto:language ?language;\n",
    "}\n",
    "  ''' % eb_edition7,\n",
    "  initNs = { \"hto\": hto}\n",
    ")\n",
    "\n",
    "for r in graph.query(q9):\n",
    "      print(\"MMSID: %s | title: %s |  number: %s | language: %s \" % (r.mmsid, r.title , r.number, r.language))"
   ],
   "metadata": {
    "collapsed": false
   }
  },
  {
   "cell_type": "markdown",
   "source": [
    "### Question 10: In EB, what articles a volume _V_ include?"
   ],
   "metadata": {
    "collapsed": false
   }
  },
  {
   "cell_type": "code",
   "execution_count": 10,
   "outputs": [
    {
     "name": "stdout",
     "output_type": "stream",
     "text": [
      "volume https://w3id.org/hto/ArticleTermRecord/992277653804341_144133902_CAABA_0\n",
      "volume https://w3id.org/hto/ArticleTermRecord/992277653804341_144133902_CABALIST_0\n",
      "volume https://w3id.org/hto/ArticleTermRecord/992277653804341_144133902_CABALLARIA_0\n",
      "volume https://w3id.org/hto/ArticleTermRecord/992277653804341_144133902_CABALLEROS_0\n",
      "volume https://w3id.org/hto/ArticleTermRecord/992277653804341_144133902_CABBAGE_0\n",
      "volume https://w3id.org/hto/ArticleTermRecord/992277653804341_144133902_CABBAGING_0\n",
      "volume https://w3id.org/hto/ArticleTermRecord/992277653804341_144133902_CABBALA_0\n",
      "volume https://w3id.org/hto/ArticleTermRecord/992277653804341_144133902_CABBALISTS_0\n",
      "volume https://w3id.org/hto/ArticleTermRecord/992277653804341_144133902_CABECA_0\n",
      "volume https://w3id.org/hto/ArticleTermRecord/992277653804341_144133902_CABERAH_0\n",
      "volume https://w3id.org/hto/ArticleTermRecord/992277653804341_144133902_CABIDOS_0\n",
      "volume https://w3id.org/hto/ArticleTermRecord/992277653804341_144133902_CABINET_0\n",
      "volume https://w3id.org/hto/ArticleTermRecord/992277653804341_144133902_CABIN_0\n",
      "volume https://w3id.org/hto/ArticleTermRecord/992277653804341_144133902_CABIRIA_0\n",
      "volume https://w3id.org/hto/ArticleTermRecord/992277653804341_144133902_CABIRI_0\n",
      "volume https://w3id.org/hto/ArticleTermRecord/992277653804341_144133902_CABLAN_0\n",
      "volume https://w3id.org/hto/ArticleTermRecord/992277653804341_144133902_CABLED_0\n",
      "volume https://w3id.org/hto/ArticleTermRecord/992277653804341_144133902_CABLE_0\n",
      "volume https://w3id.org/hto/ArticleTermRecord/992277653804341_144133902_CABLIFLOWERS_0\n",
      "volume https://w3id.org/hto/ArticleTermRecord/992277653804341_144133902_CABOCHED_0\n"
     ]
    }
   ],
   "source": [
    "# List 20 articles in volume 2 of 7th edition.\n",
    "eb_edition7_volume2 = \"<https://w3id.org/hto/Volume/9910796273804340_192984259>\"\n",
    "q10 = prepareQuery('''\n",
    "    SELECT * WHERE {\n",
    "        %s a hto:Volume;\n",
    "            hto:hadMember ?termRecord.\n",
    "        ?page a hto:TermRecord;\n",
    "    } LIMIT 20\n",
    "  ''' % eb_edition7_volume2,\n",
    "  initNs = { \"hto\": hto}\n",
    ")\n",
    "\n",
    "for r in graph.query(q10):\n",
    "      print(\"volume %s\" % (r.termRecord))"
   ],
   "metadata": {
    "collapsed": false
   }
  },
  {
   "cell_type": "markdown",
   "source": [
    "### Question 11: Where an EB article _A_ was described (in a page, volume, edition)?"
   ],
   "metadata": {
    "collapsed": false
   }
  },
  {
   "cell_type": "code",
   "execution_count": 41,
   "outputs": [
    {
     "name": "stdout",
     "output_type": "stream",
     "text": [
      "term: ACCENT | starts at page: https://w3id.org/hto/Page/9910796273804340_192984259_96 | volume: https://w3id.org/hto/Volume/9910796273804340_192984259 | edition https://w3id.org/hto/Edition/9910796273804340 | collection: https://w3id.org/hto/WorkCollection/EncyclopaediaBritannica\n"
     ]
    }
   ],
   "source": [
    "# Show which page an article starts at, which volume and edition, collection, this article was described\n",
    "article_accent = \"<https://w3id.org/hto/ArticleTermRecord/9910796273804340_192984259_ACCENT_1>\"\n",
    "q11 = prepareQuery('''\n",
    "    SELECT * WHERE {\n",
    "        %s a hto:ArticleTermRecord;\n",
    "            hto:name ?name;\n",
    "            hto:startsAtPage ?page;\n",
    "            hto:wasMemberOf ?volume.\n",
    "        ?volume a hto:Volume.\n",
    "        OPTIONAL {\n",
    "            %s hto:wasMemberOf ?edition.\n",
    "            ?edition a hto:Edition.\n",
    "        }\n",
    "        OPTIONAL {\n",
    "            %s hto:wasMemberOf ?collection.\n",
    "            ?collection hto:name ?collection_name.\n",
    "            FILTER (regex(?collection_name, \"Collection$\", \"i\"))\n",
    "        }\n",
    "\n",
    "    } LIMIT 20\n",
    "  ''' % (article_accent, article_accent, article_accent),\n",
    "  initNs = { \"hto\": hto}\n",
    ")\n",
    "\n",
    "for r in graph.query(q11):\n",
    "      print(\"term: %s | starts at page: %s | volume: %s | edition %s | collection: %s\" % (r.name, r.page, r.volume, r.edition, r.collection))"
   ],
   "metadata": {
    "collapsed": false
   }
  },
  {
   "cell_type": "markdown",
   "source": [
    "### Question 12: What are the EB articles which appear in all edition?"
   ],
   "metadata": {
    "collapsed": false
   }
  },
  {
   "cell_type": "code",
   "execution_count": 42,
   "outputs": [
    {
     "name": "stdout",
     "output_type": "stream",
     "text": [
      "term uri: https://w3id.org/hto/ArticleTermRecord/9910796273804340_192693199_HYDROGRAPHICALCHARTS_0 | name: HYDROGRAPHICAL CHARTS\n",
      "term uri: https://w3id.org/hto/ArticleTermRecord/9910796273804340_192693199_HYDROGRAPHICALCHARTS_0 | name: HYDROGRAPHICAL MAPS\n",
      "term uri: https://w3id.org/hto/ArticleTermRecord/9910796273804340_192693199_HYDROGRAPHY_0 | name: HYDROGRAPHY\n",
      "term uri: https://w3id.org/hto/ArticleTermRecord/9910796273804340_192693199_HYDROMEL_0 | name: HYDROMEL\n",
      "term uri: https://w3id.org/hto/ArticleTermRecord/9910796273804340_192693199_HYDROMETER_0 | name: HYDROMETER\n",
      "term uri: https://w3id.org/hto/ArticleTermRecord/9910796273804340_192693199_HYDROPHANES_0 | name: HYDROPHANES\n",
      "term uri: https://w3id.org/hto/ArticleTermRecord/9910796273804340_192693199_HYDROPHANES_0 | name: OCULUS MUNDI\n",
      "term uri: https://w3id.org/hto/ArticleTermRecord/9910796273804340_192693199_HYDROPHOBIA_0 | name: HYDROPHOBIA\n",
      "term uri: https://w3id.org/hto/ArticleTermRecord/9910796273804340_192693199_HYDROPHYLACIA_0 | name: HYDROPHYLACIA\n",
      "term uri: https://w3id.org/hto/ArticleTermRecord/9910796273804340_192693199_HYDROSCOPE_0 | name: HYDROSCOPE\n",
      "term uri: https://w3id.org/hto/ArticleTermRecord/9910796273804340_192693199_HYDROSTATICS_0 | name: HYDROSTATICS\n",
      "term uri: https://w3id.org/hto/ArticleTermRecord/9910796273804340_192693199_HYDROTHORAX_0 | name: HYDROTHORAX\n",
      "term uri: https://w3id.org/hto/ArticleTermRecord/9910796273804340_192693199_HYDRUNTUM_0 | name: HYDRUNTUM\n",
      "term uri: https://w3id.org/hto/ArticleTermRecord/9910796273804340_192693199_HYEMANTES_0 | name: HYEMANTES\n",
      "term uri: https://w3id.org/hto/ArticleTermRecord/9910796273804340_192693199_HYGEIA_0 | name: HYGEIA\n",
      "term uri: https://w3id.org/hto/ArticleTermRecord/9910796273804340_192693199_HYGIEINE_0 | name: HYGIEINE\n",
      "term uri: https://w3id.org/hto/ArticleTermRecord/9910796273804340_192693199_HYGIEINE_1 | name: HYGIEINE\n",
      "term uri: https://w3id.org/hto/ArticleTermRecord/9910796273804340_192693199_HYGINUSCAIUSJULIUS_0 | name: HYGINUS, CAIUS JULIUS\n",
      "term uri: https://w3id.org/hto/ArticleTermRecord/9910796273804340_192693199_HYGROSCOPE_0 | name: HYGROSCOPE\n",
      "term uri: https://w3id.org/hto/ArticleTermRecord/9910796273804340_192693199_HYLOZOISTS_0 | name: HYLOZOISTS\n"
     ]
    }
   ],
   "source": [
    "q12 = prepareQuery('''\n",
    "    SELECT * WHERE {\n",
    "        ?term a hto:TermRecord;\n",
    "            hto:name ?name.\n",
    "\n",
    "    } LIMIT 20\n",
    "  ''',\n",
    "  initNs = { \"hto\": hto}\n",
    ")\n",
    "\n",
    "for r in graph.query(q12):\n",
    "      print(\"term uri: %s | name: %s\" % (r.term, r.name))"
   ],
   "metadata": {
    "collapsed": false
   }
  },
  {
   "cell_type": "markdown",
   "source": [
    "### Question 13: What are the EB articles which appear in all edition?"
   ],
   "metadata": {
    "collapsed": false
   }
  },
  {
   "cell_type": "code",
   "execution_count": 43,
   "outputs": [],
   "source": [
    "# TODO Question 13: What EB articles were only appeared once in edition _E_?"
   ],
   "metadata": {
    "collapsed": false
   }
  },
  {
   "cell_type": "markdown",
   "source": [
    "### Question 14: What are EB articles related to another EB article _T_?"
   ],
   "metadata": {
    "collapsed": false
   }
  },
  {
   "cell_type": "code",
   "execution_count": 44,
   "outputs": [
    {
     "name": "stdout",
     "output_type": "stream",
     "text": [
      "term: ACCENT | see term: None\n"
     ]
    }
   ],
   "source": [
    "article_accent = \"<https://w3id.org/hto/ArticleTermRecord/9910796273804340_192984259_ACCENT_1>\"\n",
    "q14 = prepareQuery('''\n",
    "    SELECT * WHERE {\n",
    "        %s a hto:ArticleTermRecord;\n",
    "            hto:name ?name;\n",
    "        OPTIONAL {\n",
    "            %s hto:refersTo ?see_term.\n",
    "            ?see_term a hto:TermRecord.\n",
    "        }\n",
    "    } LIMIT 20\n",
    "  ''' % (article_accent, article_accent),\n",
    "  initNs = { \"hto\": hto}\n",
    ")\n",
    "\n",
    "for r in graph.query(q14):\n",
    "      print(\"term: %s | see term: %s\" % (r.name, r.see_term))"
   ],
   "metadata": {
    "collapsed": false
   }
  },
  {
   "cell_type": "markdown",
   "source": [
    "### Question 15: What are EB articles which has similar description to _T_?"
   ],
   "metadata": {
    "collapsed": false
   }
  },
  {
   "cell_type": "code",
   "execution_count": 45,
   "outputs": [
    {
     "name": "stdout",
     "output_type": "stream",
     "text": [
      "term: ACCENT | similar term: None\n"
     ]
    }
   ],
   "source": [
    "article_accent = \"<https://w3id.org/hto/ArticleTermRecord/9910796273804340_192984259_ACCENT_1>\"\n",
    "q15 = prepareQuery('''\n",
    "    SELECT * WHERE {\n",
    "        %s a hto:ArticleTermRecord;\n",
    "            hto:name ?name.\n",
    "        OPTIONAL {\n",
    "            %s hto:similarTo ?similar_term.\n",
    "            ?similar_term a hto:TermRecord.\n",
    "        }\n",
    "    } LIMIT 20\n",
    "  ''' % (article_accent, article_accent),\n",
    "  initNs = { \"hto\": hto}\n",
    ")\n",
    "\n",
    "for r in graph.query(q15):\n",
    "      print(\"term: %s | similar term: %s\" % (r.name, r.similar_term))"
   ],
   "metadata": {
    "collapsed": false
   }
  },
  {
   "cell_type": "markdown",
   "source": [
    "### Question 16: How a term with name _T_ was described in all editions?"
   ],
   "metadata": {
    "collapsed": false
   }
  },
  {
   "cell_type": "code",
   "execution_count": 46,
   "outputs": [
    {
     "name": "stdout",
     "output_type": "stream",
     "text": [
      "term uri: https://w3id.org/hto/ArticleTermRecord/9910796273804340_193322688_EARTH_0 | description: amongst ancient philosophers, owe of the four elements of which the whole system of nature was believed to be composed. |  edition: https://w3id.org/hto/Edition/9910796273804340 | edition title: Seventh edition, Volume 2, A-Anatomy\n",
      "term uri: https://w3id.org/hto/ArticleTermRecord/9910796273804340_193322688_EARTH_1 | description: in Astronomy and Geography, one of the primary planets, bci□g the terraqueous globe which we inhabit. (See the articles Figure of the Earth, and Geology.) |  edition: https://w3id.org/hto/Edition/9910796273804340 | edition title: Seventh edition, Volume 2, A-Anatomy\n"
     ]
    }
   ],
   "source": [
    "term_name = \"'EARTH'\"\n",
    "q16 = prepareQuery('''\n",
    "    SELECT * WHERE {\n",
    "        ?term a hto:TermRecord;\n",
    "            hto:name %s;\n",
    "            hto:wasMemberOf ?edition;\n",
    "            hto:hasOriginalDescription ?desc.\n",
    "        ?desc hto:text ?content.\n",
    "        ?edition a hto:Edition;\n",
    "            hto:title ?title.\n",
    "    }\n",
    "  ''' % term_name,\n",
    "  initNs = { \"hto\": hto}\n",
    ")\n",
    "\n",
    "for r in graph.query(q16):\n",
    "      print(\"term uri: %s | description: %s |  edition: %s | edition title: %s\" % (r.term, r.content,  r.edition, r.title))"
   ],
   "metadata": {
    "collapsed": false
   }
  },
  {
   "cell_type": "markdown",
   "source": [
    "### Question 17: What is the text in a page?"
   ],
   "metadata": {
    "collapsed": false
   }
  },
  {
   "cell_type": "code",
   "execution_count": 5,
   "outputs": [
    {
     "name": "stdout",
     "output_type": "stream",
     "text": [
      "page uri: https://w3id.org/hto/Page/9910029463804340_104184208_1 | content: OR, THE Affectionate Lovers A T^ue Lore Song. PRINTED BY C: Mll ACHL 4N, For John Sinda r, Bock.e‘;:rr D U M f R.J £ S. | quality: https://w3id.org/hto#Low\n",
      "page uri: https://w3id.org/hto/Page/9910029463804340_104184208_2 | content: TH» Mridt's Burtd J, &f. ' » ' \\ ^ ! Come mourn, come niourn v/kir 1 ye loyal lovrs all; ( me ; Lament my loss in weeds of woe, whom gripping death doth thrall Like to the drooping vine, \" cut by the gard‘ner‘* knife, Bven so my heart, with (orryflain doth niourn for my i Trcet wife, j 15y death, that grizly Goft, my turtle dove was slain, And I’m left, unhappy man, to spend my days iavaip. 'Her beauty, late so bright, like rotes in tlieir*prime, Is jailed like the mountainfnc w; by Iro U of V , ■ ^ ' I 'll k \" V ■ • ' ’ <' ] t | quality: https://w3id.org/hto#Low\n",
      "page uri: https://w3id.org/hto/Page/9910029463804340_104184208_3 | content: ( 3 ) Her fair and coloured cheek?, now pale and wane her eyes, That late did fiiine like chryfta! alas! their light nawdies. (stars,Her pritty lilly hands, wkh fingers lo»g and finall, In colour like the e*r«y dew, yea, cold and stiff with all. • 'When, as the morning gay, her golden gates had spread. And that the glittering San arose, Forth from Theti/s bed ; Then did my lose awake, moil like the iilly flower* And as the lovely Quc«r. of may, so (hone (lie in her bower. Attired vra* (lie then, . lik# Flcwa in iisw bower. For as any of Diana's nymphs, so lookd’ my lovely h»7nr. . > / \\ . . v ■ ' r ■ * . . . V / / | quality: https://w3id.org/hto#Low\n",
      "page uri: https://w3id.org/hto/Page/9910029463804340_104184208_4 | content: I ( 4 ) And as fair Helen's face, give Grecian dames the lurch, : So did my dear in exceed, in sight all the virgins in the church. When we had knit the knot, .of holy wedlock bands, Like aiaba'tler join'd to wine, fio flood we hand and hand. Then low a ! chilling cold, — 11 ruck ev’ry vital part/ And grippling grief, like pangs of death, seiz’d on my true lov’s heart! » Dov/n in-a swoon file fe F, as cold a* any stone. Like Venu3 , picture wanting life, so was'my love brought home throughout her comely face, As Phoebus’ beams with wat’ry o’er cover’d with a space. (cloud At length a rosy red. | quality: https://w3id.org/hto#Low\n",
      "page uri: https://w3id.org/hto/Page/9910029463804340_104184208_5 | content: ( 5 ) Then with a grievous groan ! and voice both hoarse and dry Farevvel, quoth she., my lovely for I this day mud die ! (friends The meff'nger of death, with golden trump I lee, 'With many other angels mor Cj which found a call for me. In (lead of muf:c f veet, go ring my-pal Ting bell, And with f veet flowers draw my thatln my chamber smell. (grave Strip off my bride’s arry. my cork shoes from my feet. And gentle mother be so kind, as to bring my winding-lheec. My wedding-dinner dress, btifow upon the poor. And to the hungry, blind 6c lame that crav#th at the door. | quality: https://w3id.org/hto#Low\n"
     ]
    }
   ],
   "source": [
    "# check the text of a page from Chapbooks collection\n",
    "\n",
    "q17 = prepareQuery('''\n",
    "    SELECT * WHERE {\n",
    "        ?page a hto:Page;\n",
    "            hto:hasOriginalDescription ?desc.\n",
    "        ?desc hto:text ?text;\n",
    "            hto:hasTextQuality ?textQuality.\n",
    "    }\n",
    "    LIMIT 5\n",
    "  ''',\n",
    "  initNs = { \"hto\": hto}\n",
    ")\n",
    "\n",
    "for r in graph.query(q17):\n",
    "      print(\"page uri: %s | content: %s | quality: %s\" % (r.page, r.text, r.textQuality))"
   ],
   "metadata": {
    "collapsed": false
   }
  },
  {
   "cell_type": "markdown",
   "source": [
    "### Question 18: What sources the text descriptions of article _T_ or a page _P_ are extracted from?"
   ],
   "metadata": {
    "collapsed": false
   }
  },
  {
   "cell_type": "code",
   "execution_count": 48,
   "outputs": [
    {
     "name": "stdout",
     "output_type": "stream",
     "text": [
      "name: ACCENT | description: in Music, is a certain enforcement of particular sounds, whether by the voice or instruments, generally used at the beginning of bars.\n",
      "Acceptance, in Commerce, is the subscribing, signing, and making one’s self debtor for the sum contained in a bill of exchange or other obligation. | source: https://raw.githubusercontent.com/TU-plogan/kp-editions/main/eb07/TXT_v2/a2/kp-eb0702-008305-0888-v2.txt | agent: https://pdf.abbyy.com\n",
      "name: ACCENT | description: in Music, is a certain enforcement of particular sounds, whether by the voice or instruments, generally used at the beginning of bars.\n",
      "Acceptance, in Commerce, is the subscribing, signing, and making one’s self debtor for the sum contained in a bill of exchange or other obligation. | source: https://raw.githubusercontent.com/TU-plogan/kp-editions/main/eb07/TXT_v2/a2/kp-eb0702-008305-0888-v2.txt | agent: https://w3id.org/hto/Organization/NCKP\n"
     ]
    }
   ],
   "source": [
    "from rdflib import PROV\n",
    "\n",
    "article_accent = \"<https://w3id.org/hto/ArticleTermRecord/9910796273804340_192984259_ACCENT_1>\"\n",
    "q18 = prepareQuery('''\n",
    "    SELECT * WHERE {\n",
    "        %s a hto:TermRecord;\n",
    "            hto:name ?name;\n",
    "            hto:hasOriginalDescription ?desc.\n",
    "        ?desc hto:wasExtractedFrom ?source;\n",
    "            hto:text ?text.\n",
    "        ?source prov:wasAttributedTo ?agent.\n",
    "    }\n",
    "  ''' % article_accent,\n",
    "  initNs = { \"hto\": hto, \"prov\": PROV}\n",
    ")\n",
    "\n",
    "for r in graph.query(q18):\n",
    "      print(\"name: %s | description: %s | source: %s | agent: %s\" % (r.name,  r.text, r.source, r.agent))"
   ],
   "metadata": {
    "collapsed": false
   }
  },
  {
   "cell_type": "markdown",
   "source": [
    "### Question 19: What is the clean description of term _T_?"
   ],
   "metadata": {
    "collapsed": false
   }
  },
  {
   "cell_type": "code",
   "execution_count": 15,
   "outputs": [],
   "source": [
    "from rdflib import PROV\n",
    "\n",
    "article_accent = \"<https://w3id.org/hto/ArticleTermRecord/9910796273804340_192984259_ACCENT_0>\"\n",
    "q19 = prepareQuery('''\n",
    "    SELECT * WHERE {\n",
    "        %s a hto:ArticleTermRecord;\n",
    "            hto:name ?name;\n",
    "            hto:hasOriginalDescription ?desc.\n",
    "        ?desc hto:wasExtractedFrom ?source;\n",
    "            hto:text ?text;\n",
    "            hto:hasTextQuality hto:Clean.\n",
    "        ?source prov:wasAttributedTo ?agent.\n",
    "\n",
    "    }\n",
    "  ''' % article_accent,\n",
    "  initNs = { \"hto\": hto, \"prov\": PROV}\n",
    ")\n",
    "\n",
    "for r in graph.query(q19):\n",
    "      print(\"name: %s | description: %s | source: %s | agent: %s\" % (r.name,  r.text, r.source, r.agent))"
   ],
   "metadata": {
    "collapsed": false
   }
  },
  {
   "cell_type": "markdown",
   "source": [
    "### Question 20: What are the descriptions of term _T_ with the highest text quality?"
   ],
   "metadata": {
    "collapsed": false
   }
  },
  {
   "cell_type": "code",
   "execution_count": 50,
   "outputs": [
    {
     "name": "stdout",
     "output_type": "stream",
     "text": [
      "name: ACCENT | description: in Music, is a certain enforcement of particular sounds, whether by the voice or instruments, generally used at the beginning of bars.\n",
      "Acceptance, in Commerce, is the subscribing, signing, and making one’s self debtor for the sum contained in a bill of exchange or other obligation. | source: https://raw.githubusercontent.com/TU-plogan/kp-editions/main/eb07/TXT_v2/a2/kp-eb0702-008305-0888-v2.txt | agent: https://w3id.org/hto/Organization/NCKP | text quality: https://w3id.org/hto#High\n"
     ]
    }
   ],
   "source": [
    "from rdflib import PROV\n",
    "\n",
    "article_accent = \"<https://w3id.org/hto/ArticleTermRecord/9910796273804340_192984259_ACCENT_1>\"\n",
    "q20 = prepareQuery('''\n",
    "    SELECT * WHERE {\n",
    "        %s a hto:TermRecord;\n",
    "            hto:name ?name;\n",
    "            hto:hasOriginalDescription ?desc.\n",
    "        ?desc hto:wasExtractedFrom ?source;\n",
    "            hto:text ?text;\n",
    "            hto:hasTextQuality ?textQuality.\n",
    "        ?source prov:wasAttributedTo ?agent.\n",
    "        ?agent a ?agentType.\n",
    "        FILTER (?agentType = prov:Person || ?agentType = prov:Organization)\n",
    "        FILTER NOT EXISTS {\n",
    "          %s hto:hasOriginalDescription [hto:hasTextQuality [hto:isTextQualityHigherThan ?textQuality]].\n",
    "        }\n",
    "    }\n",
    "  ''' % (article_accent, article_accent),\n",
    "  initNs = { \"hto\": hto, \"prov\": PROV}\n",
    ")\n",
    "\n",
    "for r in graph.query(q20):\n",
    "      print(\"name: %s | description: %s | source: %s | agent: %s | text quality: %s\" % (r.name,  r.text, r.source, r.agent, r.textQuality))"
   ],
   "metadata": {
    "collapsed": false
   }
  },
  {
   "cell_type": "markdown",
   "source": [
    "### Question 21: What software was used to extract the description of article _T_ or a page _P_?"
   ],
   "metadata": {
    "collapsed": false
   }
  },
  {
   "cell_type": "code",
   "execution_count": 51,
   "outputs": [
    {
     "name": "stdout",
     "output_type": "stream",
     "text": [
      "name: ACCENT | description: in Music, is a certain enforcement of particular sounds, whether by the voice or instruments, generally used at the beginning of bars.\n",
      "Acceptance, in Commerce, is the subscribing, signing, and making one’s self debtor for the sum contained in a bill of exchange or other obligation. | extracted using software: https://github.com/frances-ai/frances-InformationExtraction | source: https://raw.githubusercontent.com/TU-plogan/kp-editions/main/eb07/TXT_v2/a2/kp-eb0702-008305-0888-v2.txt | agent: https://w3id.org/hto/Organization/NCKP \n"
     ]
    }
   ],
   "source": [
    "from rdflib import PROV\n",
    "\n",
    "article_accent = \"<https://w3id.org/hto/ArticleTermRecord/9910796273804340_192984259_ACCENT_1>\"\n",
    "q19 = prepareQuery('''\n",
    "    SELECT * WHERE {\n",
    "        %s a hto:TermRecord;\n",
    "            hto:name ?name;\n",
    "            hto:hasOriginalDescription ?desc.\n",
    "        ?desc hto:wasExtractedFrom ?source;\n",
    "            hto:text ?text;\n",
    "            prov:wasAttributedTo ?software.\n",
    "        ?software a prov:SoftwareAgent.\n",
    "        ?source prov:wasAttributedTo ?agent.\n",
    "        ?agent a ?agentType.\n",
    "        FILTER (?agentType = prov:Person || ?agentType = prov:Organization)\n",
    "    }\n",
    "  ''' % article_accent,\n",
    "  initNs = { \"hto\": hto, \"prov\": PROV}\n",
    ")\n",
    "\n",
    "for r in graph.query(q19):\n",
    "      print(\"name: %s | description: %s | extracted using software: %s | source: %s | agent: %s \" % (r.name,  r.text, r.software, r.source, r.agent))"
   ],
   "metadata": {
    "collapsed": false
   }
  },
  {
   "cell_type": "markdown",
   "source": [
    "### Question 22: What software was used to digitise a document?"
   ],
   "metadata": {
    "collapsed": false
   }
  },
  {
   "cell_type": "code",
   "execution_count": 52,
   "outputs": [
    {
     "name": "stdout",
     "output_type": "stream",
     "text": [
      "name: ACCENT | description: in Music, is a certain enforcement of particular sounds, whether by the voice or instruments, generally used at the beginning of bars.\n",
      "Acceptance, in Commerce, is the subscribing, signing, and making one’s self debtor for the sum contained in a bill of exchange or other obligation. | source: https://raw.githubusercontent.com/TU-plogan/kp-editions/main/eb07/TXT_v2/a2/kp-eb0702-008305-0888-v2.txt | created by https://w3id.org/hto/Organization/NCKP using https://pdf.abbyy.com\n"
     ]
    }
   ],
   "source": [
    "from rdflib import PROV\n",
    "# Find software used to generate the source which the description of an article was extracted.\n",
    "article_accent = \"<https://w3id.org/hto/ArticleTermRecord/9910796273804340_192984259_ACCENT_1>\"\n",
    "q22 = prepareQuery('''\n",
    "    SELECT * WHERE {\n",
    "        %s a hto:TermRecord;\n",
    "            hto:name ?name;\n",
    "            hto:hasOriginalDescription ?desc.\n",
    "        ?desc hto:wasExtractedFrom ?source;\n",
    "            hto:text ?text.\n",
    "        ?source prov:wasAttributedTo ?agent.\n",
    "        ?agent a ?agentType.\n",
    "        FILTER (?agentType = prov:Person || ?agentType = prov:Organization)\n",
    "        OPTIONAL {\n",
    "            ?source prov:wasAttributedTo ?software.\n",
    "            ?software a prov:SoftwareAgent.\n",
    "        }\n",
    "    }\n",
    "  ''' % article_accent,\n",
    "  initNs = { \"hto\": hto, \"prov\": PROV}\n",
    ")\n",
    "\n",
    "for r in graph.query(q22):\n",
    "      print(\"name: %s | description: %s | source: %s | created by %s using %s\" % (r.name,  r.text, r.source, r.agent, r.software))"
   ],
   "metadata": {
    "collapsed": false
   }
  },
  {
   "cell_type": "markdown",
   "source": [
    "### Question 23: List all articles which have more than one name"
   ],
   "metadata": {
    "collapsed": false
   }
  },
  {
   "cell_type": "code",
   "execution_count": 31,
   "outputs": [
    {
     "name": "stdout",
     "output_type": "stream",
     "text": [
      "term uri: https://w3id.org/hto/ArticleTermRecord/992277653804341_144133901_AATTER_0 | number of names: 2\n",
      "term uri: https://w3id.org/hto/ArticleTermRecord/992277653804341_144133901_ABACTORES_0 | number of names: 2\n",
      "term uri: https://w3id.org/hto/ArticleTermRecord/992277653804341_144133901_ABANCAI_0 | number of names: 2\n",
      "term uri: https://w3id.org/hto/ArticleTermRecord/992277653804341_144133901_ABASSI_0 | number of names: 2\n",
      "term uri: https://w3id.org/hto/ArticleTermRecord/992277653804341_144133901_ABBREVIATION_0 | number of names: 2\n",
      "term uri: https://w3id.org/hto/ArticleTermRecord/992277653804341_144133901_ABCDARY_0 | number of names: 2\n",
      "term uri: https://w3id.org/hto/ArticleTermRecord/992277653804341_144133901_ABELIANS_0 | number of names: 3\n",
      "term uri: https://w3id.org/hto/ArticleTermRecord/992277653804341_144133901_ABELMOSCH_0 | number of names: 2\n",
      "term uri: https://w3id.org/hto/ArticleTermRecord/992277653804341_144133901_ABELTREE_0 | number of names: 2\n",
      "term uri: https://w3id.org/hto/ArticleTermRecord/992277653804341_144133901_ABENSBURG_0 | number of names: 2\n",
      "term uri: https://w3id.org/hto/ArticleTermRecord/992277653804341_144133901_ABIGEATUS_0 | number of names: 2\n",
      "term uri: https://w3id.org/hto/ArticleTermRecord/992277653804341_144133901_ABIT_0 | number of names: 2\n",
      "term uri: https://w3id.org/hto/ArticleTermRecord/992277653804341_144133901_ABLAY_0 | number of names: 2\n",
      "term uri: https://w3id.org/hto/ArticleTermRecord/992277653804341_144133901_ABLET_0 | number of names: 2\n",
      "term uri: https://w3id.org/hto/ArticleTermRecord/992277653804341_144133901_ABOMASUS_0 | number of names: 3\n",
      "term uri: https://w3id.org/hto/ArticleTermRecord/992277653804341_144133901_ABRASAX_0 | number of names: 2\n",
      "term uri: https://w3id.org/hto/ArticleTermRecord/992277653804341_144133901_ABUCCO_0 | number of names: 3\n",
      "term uri: https://w3id.org/hto/ArticleTermRecord/992277653804341_144133901_ACADEMIC_0 | number of names: 3\n",
      "term uri: https://w3id.org/hto/ArticleTermRecord/992277653804341_144133901_ACADES_0 | number of names: 2\n",
      "term uri: https://w3id.org/hto/ArticleTermRecord/992277653804341_144133901_ACADIE_0 | number of names: 2\n",
      "term uri: https://w3id.org/hto/ArticleTermRecord/992277653804341_144133901_ACATERY_0 | number of names: 2\n",
      "term uri: https://w3id.org/hto/ArticleTermRecord/992277653804341_144133901_ACCEPTER_0 | number of names: 2\n",
      "term uri: https://w3id.org/hto/ArticleTermRecord/992277653804341_144133901_ACCESSARY_0 | number of names: 2\n",
      "term uri: https://w3id.org/hto/ArticleTermRecord/992277653804341_144133901_ACCOUNTANT_0 | number of names: 2\n",
      "term uri: https://w3id.org/hto/ArticleTermRecord/992277653804341_144133901_ACCOUNT_0 | number of names: 2\n",
      "term uri: https://w3id.org/hto/ArticleTermRecord/992277653804341_144133901_ACENTETUM_0 | number of names: 2\n",
      "term uri: https://w3id.org/hto/ArticleTermRecord/992277653804341_144133901_ACEPHALI_0 | number of names: 2\n",
      "term uri: https://w3id.org/hto/ArticleTermRecord/992277653804341_144133901_ACETOSE_0 | number of names: 2\n",
      "term uri: https://w3id.org/hto/ArticleTermRecord/992277653804341_144133901_ACHRONICAL_0 | number of names: 3\n",
      "term uri: https://w3id.org/hto/ArticleTermRecord/992277653804341_144133901_ACH_0 | number of names: 2\n",
      "term uri: https://w3id.org/hto/ArticleTermRecord/992277653804341_144133901_ACME_0 | number of names: 2\n",
      "term uri: https://w3id.org/hto/ArticleTermRecord/992277653804341_144133901_ACMOT_0 | number of names: 2\n",
      "term uri: https://w3id.org/hto/ArticleTermRecord/992277653804341_144133901_ACQUEST_0 | number of names: 2\n",
      "term uri: https://w3id.org/hto/ArticleTermRecord/992277653804341_144133901_ACRE_0 | number of names: 2\n",
      "term uri: https://w3id.org/hto/ArticleTermRecord/992277653804341_144133901_ACROAMATIC_0 | number of names: 2\n",
      "term uri: https://w3id.org/hto/ArticleTermRecord/992277653804341_144133901_ACROBATICA_0 | number of names: 2\n",
      "term uri: https://w3id.org/hto/ArticleTermRecord/992277653804341_144133901_ACROMATIC_0 | number of names: 2\n",
      "term uri: https://w3id.org/hto/ArticleTermRecord/992277653804341_144133901_ACRONICAL_0 | number of names: 3\n",
      "term uri: https://w3id.org/hto/ArticleTermRecord/992277653804341_144133901_ACTIONARY_0 | number of names: 2\n",
      "term uri: https://w3id.org/hto/ArticleTermRecord/992277653804341_144133901_ACTUARIUS_0 | number of names: 2\n",
      "term uri: https://w3id.org/hto/ArticleTermRecord/992277653804341_144133901_ACUANITES_0 | number of names: 2\n",
      "term uri: https://w3id.org/hto/ArticleTermRecord/992277653804341_144133901_ACULEATE_0 | number of names: 2\n",
      "term uri: https://w3id.org/hto/ArticleTermRecord/992277653804341_144133901_ADAOUS_0 | number of names: 2\n",
      "term uri: https://w3id.org/hto/ArticleTermRecord/992277653804341_144133901_ADATAIS_0 | number of names: 3\n",
      "term uri: https://w3id.org/hto/ArticleTermRecord/992277653804341_144133901_ADDICE_0 | number of names: 2\n",
      "term uri: https://w3id.org/hto/ArticleTermRecord/992277653804341_144133901_ADEL_0 | number of names: 2\n",
      "term uri: https://w3id.org/hto/ArticleTermRecord/992277653804341_144133901_ADENBURG_0 | number of names: 2\n",
      "term uri: https://w3id.org/hto/ArticleTermRecord/992277653804341_144133901_ADIAPHORISTS_0 | number of names: 3\n",
      "term uri: https://w3id.org/hto/ArticleTermRecord/992277653804341_144133901_ADJA_0 | number of names: 2\n",
      "term uri: https://w3id.org/hto/ArticleTermRecord/992277653804341_144133901_ADVOUSON_0 | number of names: 2\n",
      "term uri: https://w3id.org/hto/ArticleTermRecord/992277653804341_144133901_AERY_0 | number of names: 2\n",
      "term uri: https://w3id.org/hto/ArticleTermRecord/992277653804341_144133901_AFFIDATUS_0 | number of names: 2\n",
      "term uri: https://w3id.org/hto/ArticleTermRecord/992277653804341_144133901_AFFRAY_0 | number of names: 2\n",
      "term uri: https://w3id.org/hto/ArticleTermRecord/992277653804341_144133901_AFFRI_0 | number of names: 2\n",
      "term uri: https://w3id.org/hto/ArticleTermRecord/992277653804341_144133901_AFPEERERS_0 | number of names: 2\n",
      "term uri: https://w3id.org/hto/ArticleTermRecord/992277653804341_144133901_AFRA_0 | number of names: 2\n",
      "term uri: https://w3id.org/hto/ArticleTermRecord/992277653804341_144133901_AGADES_0 | number of names: 2\n",
      "term uri: https://w3id.org/hto/ArticleTermRecord/992277653804341_144133901_AGAG_0 | number of names: 2\n",
      "term uri: https://w3id.org/hto/ArticleTermRecord/992277653804341_144133901_AGAPAE_0 | number of names: 2\n",
      "term uri: https://w3id.org/hto/ArticleTermRecord/992277653804341_144133901_AGEMOGLANS_0 | number of names: 2\n",
      "term uri: https://w3id.org/hto/ArticleTermRecord/992277653804341_144133901_AGERATUM_0 | number of names: 2\n",
      "term uri: https://w3id.org/hto/ArticleTermRecord/992277653804341_144133901_AGGA_0 | number of names: 2\n",
      "term uri: https://w3id.org/hto/ArticleTermRecord/992277653804341_144133901_AGHEN_0 | number of names: 2\n",
      "term uri: https://w3id.org/hto/ArticleTermRecord/992277653804341_144133901_AGHER_0 | number of names: 3\n",
      "term uri: https://w3id.org/hto/ArticleTermRecord/992277653804341_144133901_AGILD_0 | number of names: 2\n",
      "term uri: https://w3id.org/hto/ArticleTermRecord/992277653804341_144133901_AGISTMENT_0 | number of names: 3\n",
      "term uri: https://w3id.org/hto/ArticleTermRecord/992277653804341_144133901_AGISTOR_0 | number of names: 2\n",
      "term uri: https://w3id.org/hto/ArticleTermRecord/992277653804341_144133901_AGLA_0 | number of names: 2\n",
      "term uri: https://w3id.org/hto/ArticleTermRecord/992277653804341_144133901_AGLECTS_0 | number of names: 3\n",
      "term uri: https://w3id.org/hto/ArticleTermRecord/992277653804341_144133901_AGNUS_0 | number of names: 2\n",
      "term uri: https://w3id.org/hto/ArticleTermRecord/992277653804341_144133901_AGONOTHETA_0 | number of names: 2\n",
      "term uri: https://w3id.org/hto/ArticleTermRecord/992277653804341_144133901_AGONYCLITAE_0 | number of names: 2\n",
      "term uri: https://w3id.org/hto/ArticleTermRecord/992277653804341_144133901_AGRESSES_0 | number of names: 2\n",
      "term uri: https://w3id.org/hto/ArticleTermRecord/992277653804341_144133901_AGRI_0 | number of names: 2\n",
      "term uri: https://w3id.org/hto/ArticleTermRecord/992277653804341_144133901_AGROSTEMMA_0 | number of names: 2\n",
      "term uri: https://w3id.org/hto/ArticleTermRecord/992277653804341_144133901_AIDINELLI_0 | number of names: 2\n",
      "term uri: https://w3id.org/hto/ArticleTermRecord/992277653804341_144133901_AID_1 | number of names: 2\n",
      "term uri: https://w3id.org/hto/ArticleTermRecord/992277653804341_144133901_AIGUILLON_0 | number of names: 2\n",
      "term uri: https://w3id.org/hto/ArticleTermRecord/992277653804341_144133901_AIGUISCE_0 | number of names: 3\n",
      "term uri: https://w3id.org/hto/ArticleTermRecord/992277653804341_144133901_AILE_0 | number of names: 2\n",
      "term uri: https://w3id.org/hto/ArticleTermRecord/992277653804341_144133901_AIRY_0 | number of names: 2\n",
      "term uri: https://w3id.org/hto/ArticleTermRecord/992277653804341_144133901_AISNE_0 | number of names: 2\n",
      "term uri: https://w3id.org/hto/ArticleTermRecord/992277653804341_144133901_AJAN_0 | number of names: 2\n",
      "term uri: https://w3id.org/hto/ArticleTermRecord/992277653804341_144133901_AJUTAGE_0 | number of names: 2\n",
      "term uri: https://w3id.org/hto/ArticleTermRecord/992277653804341_144133901_AKISSAR_0 | number of names: 2\n",
      "term uri: https://w3id.org/hto/ArticleTermRecord/992277653804341_144133901_ALAMIRE_0 | number of names: 2\n",
      "term uri: https://w3id.org/hto/ArticleTermRecord/992277653804341_144133901_ALAND_0 | number of names: 2\n",
      "term uri: https://w3id.org/hto/ArticleTermRecord/992277653804341_144133901_ALANGUER_0 | number of names: 2\n",
      "term uri: https://w3id.org/hto/ArticleTermRecord/992277653804341_144133901_ALARBES_0 | number of names: 2\n",
      "term uri: https://w3id.org/hto/ArticleTermRecord/992277653804341_144133901_ALATRI_0 | number of names: 2\n",
      "term uri: https://w3id.org/hto/ArticleTermRecord/992277653804341_144133901_ALAVA_0 | number of names: 2\n",
      "term uri: https://w3id.org/hto/ArticleTermRecord/992277653804341_144133901_ALBONAALBONO_0 | number of names: 2\n",
      "term uri: https://w3id.org/hto/ArticleTermRecord/992277653804341_144133901_ALBOURG_0 | number of names: 2\n",
      "term uri: https://w3id.org/hto/ArticleTermRecord/992277653804341_144133901_ALBRET_0 | number of names: 2\n",
      "term uri: https://w3id.org/hto/ArticleTermRecord/992277653804341_144133901_ALBY_0 | number of names: 2\n",
      "term uri: https://w3id.org/hto/ArticleTermRecord/992277653804341_144133901_ALB_0 | number of names: 2\n",
      "term uri: https://w3id.org/hto/ArticleTermRecord/992277653804341_144133901_ALCAID_0 | number of names: 3\n",
      "term uri: https://w3id.org/hto/ArticleTermRecord/992277653804341_144133901_ALCEA_0 | number of names: 2\n",
      "term uri: https://w3id.org/hto/ArticleTermRecord/992277653804341_144133901_ALCE_0 | number of names: 2\n",
      "term uri: https://w3id.org/hto/ArticleTermRecord/992277653804341_144133901_ALCHEMILLA_0 | number of names: 2\n",
      "term uri: https://w3id.org/hto/ArticleTermRecord/992277653804341_144133901_ALCHITRAM_0 | number of names: 2\n",
      "term uri: https://w3id.org/hto/ArticleTermRecord/992277653804341_144133901_ALCIBIUM_0 | number of names: 2\n",
      "term uri: https://w3id.org/hto/ArticleTermRecord/992277653804341_144133901_ALCOHOL_0 | number of names: 2\n",
      "term uri: https://w3id.org/hto/ArticleTermRecord/992277653804341_144133901_ALCORAN_0 | number of names: 2\n",
      "term uri: https://w3id.org/hto/ArticleTermRecord/992277653804341_144133901_ALDERNEY_0 | number of names: 2\n",
      "term uri: https://w3id.org/hto/ArticleTermRecord/992277653804341_144133901_ALEAGAR_0 | number of names: 2\n",
      "term uri: https://w3id.org/hto/ArticleTermRecord/992277653804341_144133901_ALERION_0 | number of names: 2\n",
      "term uri: https://w3id.org/hto/ArticleTermRecord/992277653804341_144133901_ALET_0 | number of names: 2\n",
      "term uri: https://w3id.org/hto/ArticleTermRecord/992277653804341_144133901_ALEXANDRIAN_0 | number of names: 2\n",
      "term uri: https://w3id.org/hto/ArticleTermRecord/992277653804341_144133901_ALGHER_0 | number of names: 2\n",
      "term uri: https://w3id.org/hto/ArticleTermRecord/992277653804341_144133901_ALHIDADE_0 | number of names: 2\n",
      "term uri: https://w3id.org/hto/ArticleTermRecord/992277653804341_144133901_ALIPILARIUS_0 | number of names: 2\n",
      "term uri: https://w3id.org/hto/ArticleTermRecord/992277653804341_144133901_ALISE_0 | number of names: 2\n",
      "term uri: https://w3id.org/hto/ArticleTermRecord/992277653804341_144133901_ALISE_1 | number of names: 2\n",
      "term uri: https://w3id.org/hto/ArticleTermRecord/992277653804341_144133901_ALKAHEST_0 | number of names: 2\n",
      "term uri: https://w3id.org/hto/ArticleTermRecord/992277653804341_144133901_ALLANTOIS_0 | number of names: 2\n",
      "term uri: https://w3id.org/hto/ArticleTermRecord/992277653804341_144133901_ALLA_0 | number of names: 2\n",
      "term uri: https://w3id.org/hto/ArticleTermRecord/992277653804341_144133901_ALLODIUM_0 | number of names: 2\n",
      "term uri: https://w3id.org/hto/ArticleTermRecord/992277653804341_144133901_ALLOTTING_0 | number of names: 2\n",
      "term uri: https://w3id.org/hto/ArticleTermRecord/992277653804341_144133901_ALMENDINE_0 | number of names: 3\n",
      "term uri: https://w3id.org/hto/ArticleTermRecord/992277653804341_144133901_ALNAGE_0 | number of names: 2\n",
      "term uri: https://w3id.org/hto/ArticleTermRecord/992277653804341_144133901_ALSFIELD_0 | number of names: 2\n",
      "term uri: https://w3id.org/hto/ArticleTermRecord/992277653804341_144133901_ALTZHEIM_0 | number of names: 2\n",
      "term uri: https://w3id.org/hto/ArticleTermRecord/992277653804341_144133901_ALUM_0 | number of names: 2\n",
      "term uri: https://w3id.org/hto/ArticleTermRecord/992277653804341_144133901_ALUS_0 | number of names: 2\n",
      "term uri: https://w3id.org/hto/ArticleTermRecord/992277653804341_144133901_ALYSSUM_0 | number of names: 2\n",
      "term uri: https://w3id.org/hto/ArticleTermRecord/992277653804341_144133901_ALZAGI_0 | number of names: 2\n",
      "term uri: https://w3id.org/hto/ArticleTermRecord/992277653804341_144133901_AL_1 | number of names: 2\n",
      "term uri: https://w3id.org/hto/ArticleTermRecord/992277653804341_144133901_AMABYR_0 | number of names: 2\n",
      "term uri: https://w3id.org/hto/ArticleTermRecord/992277653804341_144133901_AMADAN_0 | number of names: 2\n",
      "term uri: https://w3id.org/hto/ArticleTermRecord/992277653804341_144133901_AMAIN_0 | number of names: 2\n",
      "term uri: https://w3id.org/hto/ArticleTermRecord/992277653804341_144133901_AMAK_0 | number of names: 2\n",
      "term uri: https://w3id.org/hto/ArticleTermRecord/992277653804341_144133901_AMARANTA_0 | number of names: 2\n",
      "term uri: https://w3id.org/hto/ArticleTermRecord/992277653804341_144133901_AMASTRIS_0 | number of names: 2\n",
      "term uri: https://w3id.org/hto/ArticleTermRecord/992277653804341_144133901_AMBERGREASE_0 | number of names: 2\n",
      "term uri: https://w3id.org/hto/ArticleTermRecord/992277653804341_144133901_AMBO_0 | number of names: 2\n",
      "term uri: https://w3id.org/hto/ArticleTermRecord/992277653804341_144133901_AMBRA_0 | number of names: 2\n",
      "term uri: https://w3id.org/hto/ArticleTermRecord/992277653804341_144133901_AMBUILA_0 | number of names: 2\n",
      "term uri: https://w3id.org/hto/ArticleTermRecord/992277653804341_144133901_AMBURY_0 | number of names: 2\n",
      "term uri: https://w3id.org/hto/ArticleTermRecord/992277653804341_144133901_AMBUSCADE_0 | number of names: 2\n",
      "term uri: https://w3id.org/hto/ArticleTermRecord/992277653804341_144133901_AMED_0 | number of names: 2\n",
      "term uri: https://w3id.org/hto/ArticleTermRecord/992277653804341_144133901_AMEND_0 | number of names: 2\n",
      "term uri: https://w3id.org/hto/ArticleTermRecord/992277653804341_144133901_AMERCEMENT_0 | number of names: 2\n",
      "term uri: https://w3id.org/hto/ArticleTermRecord/992277653804341_144133901_AMERGO_0 | number of names: 2\n",
      "term uri: https://w3id.org/hto/ArticleTermRecord/992277653804341_144133901_AMGAILA_0 | number of names: 2\n",
      "term uri: https://w3id.org/hto/ArticleTermRecord/992277653804341_144133901_AMHAR_0 | number of names: 2\n",
      "term uri: https://w3id.org/hto/ArticleTermRecord/992277653804341_144133901_AMISIA_0 | number of names: 2\n",
      "term uri: https://w3id.org/hto/ArticleTermRecord/992277653804341_144133901_AMMAN_0 | number of names: 2\n",
      "term uri: https://w3id.org/hto/ArticleTermRecord/992277653804341_144133901_AMMERGAW_0 | number of names: 2\n",
      "term uri: https://w3id.org/hto/ArticleTermRecord/992277653804341_144133901_AMMODYTES_0 | number of names: 2\n",
      "term uri: https://w3id.org/hto/ArticleTermRecord/992277653804341_144133901_AMMON_0 | number of names: 2\n",
      "term uri: https://w3id.org/hto/ArticleTermRecord/992277653804341_144133901_AMPER_0 | number of names: 2\n",
      "term uri: https://w3id.org/hto/ArticleTermRecord/992277653804341_144133901_AMPHIPOLIS_0 | number of names: 2\n",
      "term uri: https://w3id.org/hto/ArticleTermRecord/992277653804341_144133901_AMYGDALUS_0 | number of names: 2\n",
      "term uri: https://w3id.org/hto/ArticleTermRecord/992277653804341_144133901_AMYLON_0 | number of names: 2\n",
      "term uri: https://w3id.org/hto/ArticleTermRecord/992277653804341_144133901_ANABOLAEUM_0 | number of names: 2\n",
      "term uri: https://w3id.org/hto/ArticleTermRecord/992277653804341_144133901_ANACARDIUM_0 | number of names: 2\n",
      "term uri: https://w3id.org/hto/ArticleTermRecord/992277653804341_144133901_ANAGLYPHICE_0 | number of names: 2\n",
      "term uri: https://w3id.org/hto/ArticleTermRecord/992277653804341_144133901_ANAGNOSTA_0 | number of names: 2\n",
      "term uri: https://w3id.org/hto/ArticleTermRecord/992277653804341_144133901_ANAGOGY_0 | number of names: 2\n",
      "term uri: https://w3id.org/hto/ArticleTermRecord/992277653804341_144133901_ANALECTA_0 | number of names: 2\n",
      "term uri: https://w3id.org/hto/ArticleTermRecord/992277653804341_144133901_ANALYTIC_0 | number of names: 2\n",
      "term uri: https://w3id.org/hto/ArticleTermRecord/992277653804341_144133901_ANASSA_0 | number of names: 2\n",
      "term uri: https://w3id.org/hto/ArticleTermRecord/992277653804341_144133901_ANATRON_0 | number of names: 3\n",
      "term uri: https://w3id.org/hto/ArticleTermRecord/992277653804341_144133901_ANCHORAGE_0 | number of names: 2\n",
      "term uri: https://w3id.org/hto/ArticleTermRecord/992277653804341_144133901_ANCHORED_0 | number of names: 2\n",
      "term uri: https://w3id.org/hto/ArticleTermRecord/992277653804341_144133901_ANCOBER_0 | number of names: 2\n",
      "term uri: https://w3id.org/hto/ArticleTermRecord/992277653804341_144133901_ANDROAS_0 | number of names: 2\n",
      "term uri: https://w3id.org/hto/ArticleTermRecord/992277653804341_144133901_ANDROMOTY_0 | number of names: 2\n",
      "term uri: https://w3id.org/hto/ArticleTermRecord/992277653804341_144133901_ANELE_0 | number of names: 2\n",
      "term uri: https://w3id.org/hto/ArticleTermRecord/992277653804341_144133901_ANEURISM_0 | number of names: 2\n",
      "term uri: https://w3id.org/hto/ArticleTermRecord/992277653804341_144133901_ANGELIC_0 | number of names: 2\n",
      "term uri: https://w3id.org/hto/ArticleTermRecord/992277653804341_144133901_ANGUIAN_0 | number of names: 2\n",
      "term uri: https://w3id.org/hto/ArticleTermRecord/992277653804341_144133901_ANGUIS_0 | number of names: 2\n",
      "term uri: https://w3id.org/hto/ArticleTermRecord/992277653804341_144133901_ANHELATIO_0 | number of names: 2\n",
      "term uri: https://w3id.org/hto/ArticleTermRecord/992277653804341_144133901_ANIENS_0 | number of names: 2\n",
      "term uri: https://w3id.org/hto/ArticleTermRecord/992277653804341_144133901_ANIMATED_0 | number of names: 2\n",
      "term uri: https://w3id.org/hto/ArticleTermRecord/992277653804341_144133901_ANIMA_1 | number of names: 2\n",
      "term uri: https://w3id.org/hto/ArticleTermRecord/992277653804341_144133901_ANNEALING_0 | number of names: 2\n",
      "term uri: https://w3id.org/hto/ArticleTermRecord/992277653804341_144133901_ANNUNCIADA_0 | number of names: 3\n",
      "term uri: https://w3id.org/hto/ArticleTermRecord/992277653804341_144133901_ANN_0 | number of names: 2\n",
      "term uri: https://w3id.org/hto/ArticleTermRecord/992277653804341_144133901_ANSPACH_0 | number of names: 2\n",
      "term uri: https://w3id.org/hto/ArticleTermRecord/992277653804341_144133901_ANTHRACIAS_0 | number of names: 2\n",
      "term uri: https://w3id.org/hto/ArticleTermRecord/992277653804341_144133901_ANTICOR_0 | number of names: 2\n",
      "term uri: https://w3id.org/hto/ArticleTermRecord/992277653804341_144133901_ANTIENT_0 | number of names: 2\n",
      "term uri: https://w3id.org/hto/ArticleTermRecord/992277653804341_144133901_APAMEA_0 | number of names: 2\n",
      "term uri: https://w3id.org/hto/ArticleTermRecord/992277653804341_144133901_APANAGE_0 | number of names: 2\n",
      "term uri: https://w3id.org/hto/ArticleTermRecord/992277653804341_144133901_APERTURES_0 | number of names: 2\n",
      "term uri: https://w3id.org/hto/ArticleTermRecord/992277653804341_144133901_APETALOSE_0 | number of names: 2\n",
      "term uri: https://w3id.org/hto/ArticleTermRecord/992277653804341_144133901_APHELIUM_0 | number of names: 2\n",
      "term uri: https://w3id.org/hto/ArticleTermRecord/992277653804341_144133901_APIASTELLUM_0 | number of names: 2\n",
      "term uri: https://w3id.org/hto/ArticleTermRecord/992277653804341_144133901_APOLLINARIANS_0 | number of names: 2\n",
      "term uri: https://w3id.org/hto/ArticleTermRecord/992277653804341_144133901_APOSTHUME_0 | number of names: 2\n",
      "term uri: https://w3id.org/hto/ArticleTermRecord/992277653804341_144133901_APPERCEPTION_0 | number of names: 2\n",
      "term uri: https://w3id.org/hto/ArticleTermRecord/992277653804341_144133901_APPROACH_0 | number of names: 2\n",
      "term uri: https://w3id.org/hto/ArticleTermRecord/992277653804341_144133901_APULIA_0 | number of names: 2\n",
      "term uri: https://w3id.org/hto/ArticleTermRecord/992277653804341_144133901_AQUILEGIA_0 | number of names: 2\n",
      "term uri: https://w3id.org/hto/ArticleTermRecord/992277653804341_144133901_AQUILICIUM_0 | number of names: 2\n",
      "term uri: https://w3id.org/hto/ArticleTermRecord/992277653804341_144133901_ARABIAN_0 | number of names: 2\n",
      "term uri: https://w3id.org/hto/ArticleTermRecord/992277653804341_144133901_ARACK_0 | number of names: 3\n",
      "term uri: https://w3id.org/hto/ArticleTermRecord/992277653804341_144133901_ARAXES_0 | number of names: 2\n",
      "term uri: https://w3id.org/hto/ArticleTermRecord/992277653804341_144133901_ARBELA_0 | number of names: 2\n",
      "term uri: https://w3id.org/hto/ArticleTermRecord/992277653804341_144133901_ARBITRATION_0 | number of names: 3\n",
      "term uri: https://w3id.org/hto/ArticleTermRecord/992277653804341_144133901_ARCHAEUS_0 | number of names: 2\n",
      "term uri: https://w3id.org/hto/ArticleTermRecord/992277653804341_144133901_ARDEVIL_0 | number of names: 2\n",
      "term uri: https://w3id.org/hto/ArticleTermRecord/992277653804341_144133901_ARDRES_1 | number of names: 2\n",
      "term uri: https://w3id.org/hto/ArticleTermRecord/992277653804341_144133901_ARGEA_0 | number of names: 2\n",
      "term uri: https://w3id.org/hto/ArticleTermRecord/992277653804341_144133901_ARISTA_0 | number of names: 2\n",
      "term uri: https://w3id.org/hto/ArticleTermRecord/992277653804341_144133901_ARMONIAC_0 | number of names: 2\n",
      "term uri: https://w3id.org/hto/ArticleTermRecord/992277653804341_144133901_ASAPPES_0 | number of names: 2\n",
      "term uri: https://w3id.org/hto/ArticleTermRecord/992277653804341_144133901_ASPALATHUS_0 | number of names: 2\n",
      "term uri: https://w3id.org/hto/ArticleTermRecord/992277653804341_144133901_ASPERIFOLIATE_0 | number of names: 2\n",
      "term uri: https://w3id.org/hto/ArticleTermRecord/992277653804341_144133901_ASPER_2 | number of names: 2\n",
      "term uri: https://w3id.org/hto/ArticleTermRecord/992277653804341_144133901_ASSARON_0 | number of names: 2\n",
      "term uri: https://w3id.org/hto/ArticleTermRecord/992277653804341_144133901_ASSAY_0 | number of names: 3\n",
      "term uri: https://w3id.org/hto/ArticleTermRecord/992277653804341_144133901_ASSISER_0 | number of names: 2\n",
      "term uri: https://w3id.org/hto/ArticleTermRecord/992277653804341_144133901_ASSURANCE_0 | number of names: 2\n",
      "term uri: https://w3id.org/hto/ArticleTermRecord/992277653804341_144133901_ASSYTH_0 | number of names: 2\n",
      "term uri: https://w3id.org/hto/ArticleTermRecord/992277653804341_144133901_ASTERIAS_0 | number of names: 2\n",
      "term uri: https://w3id.org/hto/ArticleTermRecord/992277653804341_144133901_ATITAE_0 | number of names: 2\n",
      "term uri: https://w3id.org/hto/ArticleTermRecord/992277653804341_144133901_ATRICES_0 | number of names: 2\n",
      "term uri: https://w3id.org/hto/ArticleTermRecord/992277653804341_144133901_ATTACHING_0 | number of names: 2\n",
      "term uri: https://w3id.org/hto/ArticleTermRecord/992277653804341_144133901_ATTOURNMENT_0 | number of names: 2\n",
      "term uri: https://w3id.org/hto/ArticleTermRecord/992277653804341_144133901_AUGRE_0 | number of names: 2\n",
      "term uri: https://w3id.org/hto/ArticleTermRecord/992277653804341_144133901_AUGUSTA_0 | number of names: 2\n",
      "term uri: https://w3id.org/hto/ArticleTermRecord/992277653804341_144133901_AURICHALCUM_0 | number of names: 2\n",
      "term uri: https://w3id.org/hto/ArticleTermRecord/992277653804341_144133901_AUTOMATUM_0 | number of names: 2\n",
      "term uri: https://w3id.org/hto/ArticleTermRecord/992277653804341_144133901_AUX_1 | number of names: 2\n",
      "term uri: https://w3id.org/hto/ArticleTermRecord/992277653804341_144133901_AVERANCE_0 | number of names: 2\n",
      "term uri: https://w3id.org/hto/ArticleTermRecord/992277653804341_144133901_AYRY_0 | number of names: 2\n",
      "term uri: https://w3id.org/hto/ArticleTermRecord/992277653804341_144133901_BACALIAU_0 | number of names: 2\n",
      "term uri: https://w3id.org/hto/ArticleTermRecord/992277653804341_144133901_BACCEM_0 | number of names: 2\n",
      "term uri: https://w3id.org/hto/ArticleTermRecord/992277653804341_144133901_BACCHARAC_0 | number of names: 2\n",
      "term uri: https://w3id.org/hto/ArticleTermRecord/992277653804341_144133901_BADIANE_0 | number of names: 2\n",
      "term uri: https://w3id.org/hto/ArticleTermRecord/992277653804341_144133901_BAFFETAS_0 | number of names: 2\n",
      "term uri: https://w3id.org/hto/ArticleTermRecord/992277653804341_144133901_BAHAMA_0 | number of names: 2\n",
      "term uri: https://w3id.org/hto/ArticleTermRecord/992277653804341_144133901_BAHAR_0 | number of names: 2\n",
      "term uri: https://w3id.org/hto/ArticleTermRecord/992277653804341_144133901_BAILIAGE_0 | number of names: 2\n",
      "term uri: https://w3id.org/hto/ArticleTermRecord/992277653804341_144133901_BAIL_1 | number of names: 2\n",
      "term uri: https://w3id.org/hto/ArticleTermRecord/992277653804341_144133901_BALASS_0 | number of names: 2\n",
      "term uri: https://w3id.org/hto/ArticleTermRecord/992277653804341_144133901_BALDACHIN_0 | number of names: 2\n",
      "term uri: https://w3id.org/hto/ArticleTermRecord/992277653804341_144133901_BALDIVIA_0 | number of names: 2\n",
      "term uri: https://w3id.org/hto/ArticleTermRecord/992277653804341_144133901_BALKE_0 | number of names: 2\n",
      "term uri: https://w3id.org/hto/ArticleTermRecord/992277653804341_144133901_BALLAD_0 | number of names: 2\n",
      "term uri: https://w3id.org/hto/ArticleTermRecord/992277653804341_144133901_BALLANCE_0 | number of names: 2\n",
      "term uri: https://w3id.org/hto/ArticleTermRecord/992277653804341_144133901_BALLIAGE_0 | number of names: 2\n",
      "term uri: https://w3id.org/hto/ArticleTermRecord/992277653804341_144133901_BALLOON_0 | number of names: 2\n",
      "term uri: https://w3id.org/hto/ArticleTermRecord/992277653804341_144133901_BALLS_0 | number of names: 2\n",
      "term uri: https://w3id.org/hto/ArticleTermRecord/992277653804341_144133901_BALM_1 | number of names: 2\n",
      "term uri: https://w3id.org/hto/ArticleTermRecord/992277653804341_144133901_BALOTADE_0 | number of names: 2\n",
      "term uri: https://w3id.org/hto/ArticleTermRecord/992277653804341_144133901_BAMEF_0 | number of names: 2\n",
      "term uri: https://w3id.org/hto/ArticleTermRecord/992277653804341_144133901_BANC_0 | number of names: 2\n",
      "term uri: https://w3id.org/hto/ArticleTermRecord/992277653804341_144133901_BANDALEER_0 | number of names: 2\n",
      "term uri: https://w3id.org/hto/ArticleTermRecord/992277653804341_144133901_BANDA_0 | number of names: 2\n",
      "term uri: https://w3id.org/hto/ArticleTermRecord/992277653804341_144133901_BANDELET_0 | number of names: 2\n",
      "term uri: https://w3id.org/hto/ArticleTermRecord/992277653804341_144133901_BANIALUCH_0 | number of names: 2\n",
      "term uri: https://w3id.org/hto/ArticleTermRecord/992277653804341_144133901_BANILLA_0 | number of names: 2\n",
      "term uri: https://w3id.org/hto/ArticleTermRecord/992277653804341_144133901_BANN_0 | number of names: 2\n",
      "term uri: https://w3id.org/hto/ArticleTermRecord/992277653804341_144133901_BANQUET_2 | number of names: 2\n",
      "term uri: https://w3id.org/hto/ArticleTermRecord/992277653804341_144133901_BAN_0 | number of names: 2\n",
      "term uri: https://w3id.org/hto/ArticleTermRecord/992277653804341_144133901_BARACKS_0 | number of names: 2\n",
      "term uri: https://w3id.org/hto/ArticleTermRecord/992277653804341_144133901_BARBACAN_0 | number of names: 2\n",
      "term uri: https://w3id.org/hto/ArticleTermRecord/992277653804341_144133901_BARBE_2 | number of names: 2\n",
      "term uri: https://w3id.org/hto/ArticleTermRecord/992277653804341_144133901_BARBICAN_0 | number of names: 2\n",
      "term uri: https://w3id.org/hto/ArticleTermRecord/992277653804341_144133901_BARBLES_0 | number of names: 2\n",
      "term uri: https://w3id.org/hto/ArticleTermRecord/992277653804341_144133901_BARBLE_0 | number of names: 2\n",
      "term uri: https://w3id.org/hto/ArticleTermRecord/992277653804341_144133901_BARB_0 | number of names: 2\n",
      "term uri: https://w3id.org/hto/ArticleTermRecord/992277653804341_144133901_BARCELOR_0 | number of names: 2\n",
      "term uri: https://w3id.org/hto/ArticleTermRecord/992277653804341_144133901_BARRACKS_0 | number of names: 2\n",
      "term uri: https://w3id.org/hto/ArticleTermRecord/992277653804341_144133901_BASANUS_0 | number of names: 2\n",
      "term uri: https://w3id.org/hto/ArticleTermRecord/992277653804341_144133901_BASE_5 | number of names: 2\n",
      "term uri: https://w3id.org/hto/ArticleTermRecord/992277653804341_144133901_BASIGLOSSUS_0 | number of names: 2\n",
      "term uri: https://w3id.org/hto/ArticleTermRecord/992277653804341_144133901_BASQUE_0 | number of names: 2\n",
      "term uri: https://w3id.org/hto/ArticleTermRecord/992277653804341_144133901_BASSAIM_0 | number of names: 2\n",
      "term uri: https://w3id.org/hto/ArticleTermRecord/992277653804341_144133901_BASSORELIEVO_0 | number of names: 2\n",
      "term uri: https://w3id.org/hto/ArticleTermRecord/992277653804341_144133901_BASTONADE_0 | number of names: 2\n",
      "term uri: https://w3id.org/hto/ArticleTermRecord/992277653804341_144133901_BASTON_1 | number of names: 2\n",
      "term uri: https://w3id.org/hto/ArticleTermRecord/992277653804341_144133901_BASTON_2 | number of names: 2\n",
      "term uri: https://w3id.org/hto/ArticleTermRecord/992277653804341_144133901_BATCHELOR_0 | number of names: 2\n",
      "term uri: https://w3id.org/hto/ArticleTermRecord/992277653804341_144133901_BATON_0 | number of names: 2\n",
      "term uri: https://w3id.org/hto/ArticleTermRecord/992277653804341_144133901_BATRACHITES_0 | number of names: 2\n",
      "term uri: https://w3id.org/hto/ArticleTermRecord/992277653804341_144133901_BATTON_0 | number of names: 3\n",
      "term uri: https://w3id.org/hto/ArticleTermRecord/992277653804341_144133901_BAT_1 | number of names: 2\n",
      "term uri: https://w3id.org/hto/ArticleTermRecord/992277653804341_144133901_BAZAT_0 | number of names: 2\n",
      "term uri: https://w3id.org/hto/ArticleTermRecord/992277653804341_144133901_BEAM_3 | number of names: 2\n",
      "term uri: https://w3id.org/hto/ArticleTermRecord/992277653804341_144133901_BEATING_0 | number of names: 2\n",
      "term uri: https://w3id.org/hto/ArticleTermRecord/992277653804341_144133901_BECAH_0 | number of names: 2\n",
      "term uri: https://w3id.org/hto/ArticleTermRecord/992277653804341_144133901_BEGUARDI_0 | number of names: 2\n",
      "term uri: https://w3id.org/hto/ArticleTermRecord/992277653804341_144133901_BEIZA_0 | number of names: 2\n",
      "term uri: https://w3id.org/hto/ArticleTermRecord/992277653804341_144133901_BELLIS_0 | number of names: 2\n",
      "term uri: https://w3id.org/hto/ArticleTermRecord/992277653804341_144133901_BENAVARRE_0 | number of names: 2\n",
      "term uri: https://w3id.org/hto/ArticleTermRecord/992277653804341_144133901_BENCALIS_0 | number of names: 2\n",
      "term uri: https://w3id.org/hto/ArticleTermRecord/992277653804341_144133901_BENCH_0 | number of names: 2\n",
      "term uri: https://w3id.org/hto/ArticleTermRecord/992277653804341_144133901_BERCHEROIT_0 | number of names: 2\n",
      "term uri: https://w3id.org/hto/ArticleTermRecord/992277653804341_144133901_BERIRAND_0 | number of names: 2\n",
      "term uri: https://w3id.org/hto/ArticleTermRecord/992277653804341_144133901_BERSELLO_0 | number of names: 2\n",
      "term uri: https://w3id.org/hto/ArticleTermRecord/992277653804341_144133901_BERTH_0 | number of names: 2\n",
      "term uri: https://w3id.org/hto/ArticleTermRecord/992277653804341_144133901_BESANT_0 | number of names: 2\n",
      "term uri: https://w3id.org/hto/ArticleTermRecord/992277653804341_144133901_BESTAIL_0 | number of names: 2\n",
      "term uri: https://w3id.org/hto/ArticleTermRecord/992277653804341_144133901_BES_0 | number of names: 2\n",
      "term uri: https://w3id.org/hto/ArticleTermRecord/992277653804341_144133901_BETEL_0 | number of names: 2\n",
      "term uri: https://w3id.org/hto/ArticleTermRecord/992277653804341_144133901_BETUE_0 | number of names: 2\n",
      "term uri: https://w3id.org/hto/ArticleTermRecord/992277653804341_144133901_BIAS_0 | number of names: 2\n",
      "term uri: https://w3id.org/hto/ArticleTermRecord/992277653804341_144133901_BIELSRI_0 | number of names: 2\n",
      "term uri: https://w3id.org/hto/ArticleTermRecord/992277653804341_144133901_BIGNESS_0 | number of names: 2\n",
      "term uri: https://w3id.org/hto/ArticleTermRecord/992277653804341_144133901_BISNOW_0 | number of names: 2\n",
      "term uri: https://w3id.org/hto/ArticleTermRecord/992277653804341_144133901_BISOMUM_0 | number of names: 2\n",
      "term uri: https://w3id.org/hto/ArticleTermRecord/992277653804341_144133901_BISQUET_0 | number of names: 2\n",
      "term uri: https://w3id.org/hto/ArticleTermRecord/992277653804341_144133901_BISTRE_0 | number of names: 2\n",
      "term uri: https://w3id.org/hto/ArticleTermRecord/992277653804341_144133901_BIT_1 | number of names: 2\n",
      "term uri: https://w3id.org/hto/ArticleTermRecord/992277653804341_144133901_BIZOCHI_0 | number of names: 2\n",
      "term uri: https://w3id.org/hto/ArticleTermRecord/992277653804341_144133901_BLAST_0 | number of names: 2\n",
      "term uri: https://w3id.org/hto/ArticleTermRecord/992277653804341_144133901_BLATTA_0 | number of names: 2\n",
      "term uri: https://w3id.org/hto/ArticleTermRecord/992277653804341_144133901_BLAVET_0 | number of names: 2\n",
      "term uri: https://w3id.org/hto/ArticleTermRecord/992277653804341_144133901_BLAZONING_0 | number of names: 2\n",
      "term uri: https://w3id.org/hto/ArticleTermRecord/992277653804341_144133901_BLEMYES_0 | number of names: 2\n",
      "term uri: https://w3id.org/hto/ArticleTermRecord/992277653804341_144133901_BLENCH_0 | number of names: 2\n",
      "term uri: https://w3id.org/hto/ArticleTermRecord/992277653804341_144133901_BLEND_0 | number of names: 2\n",
      "term uri: https://w3id.org/hto/ArticleTermRecord/992277653804341_144133901_BLINDS_0 | number of names: 2\n",
      "term uri: https://w3id.org/hto/ArticleTermRecord/992277653804341_144133901_BLIND_1 | number of names: 3\n",
      "term uri: https://w3id.org/hto/ArticleTermRecord/992277653804341_144133901_BLOMARY_0 | number of names: 2\n",
      "term uri: https://w3id.org/hto/ArticleTermRecord/992277653804341_144133901_BLOSSOM_0 | number of names: 2\n",
      "term uri: https://w3id.org/hto/ArticleTermRecord/992277653804341_144133901_BOGHO_0 | number of names: 2\n",
      "term uri: https://w3id.org/hto/ArticleTermRecord/992277653804341_144133901_BOGOMILI_0 | number of names: 2\n",
      "term uri: https://w3id.org/hto/ArticleTermRecord/992277653804341_144133901_BOH_0 | number of names: 2\n",
      "term uri: https://w3id.org/hto/ArticleTermRecord/992277653804341_144133901_BOILING_0 | number of names: 2\n",
      "term uri: https://w3id.org/hto/ArticleTermRecord/992277653804341_144133901_BOLINGBROKE_0 | number of names: 2\n",
      "term uri: https://w3id.org/hto/ArticleTermRecord/992277653804341_144133901_BOMBAX_0 | number of names: 2\n",
      "term uri: https://w3id.org/hto/ArticleTermRecord/992277653804341_144133901_BONGO_0 | number of names: 2\n",
      "term uri: https://w3id.org/hto/ArticleTermRecord/992277653804341_144133901_BOSSORA_0 | number of names: 2\n",
      "term uri: https://w3id.org/hto/ArticleTermRecord/992277653804341_144133901_BOTELESS_0 | number of names: 2\n",
      "term uri: https://w3id.org/hto/ArticleTermRecord/992277653804341_144133901_BOULOGNE_0 | number of names: 2\n",
      "term uri: https://w3id.org/hto/ArticleTermRecord/992277653804341_144133901_BOURBON_0 | number of names: 2\n",
      "term uri: https://w3id.org/hto/ArticleTermRecord/992277653804341_144133901_BOURBOURG_0 | number of names: 2\n",
      "term uri: https://w3id.org/hto/ArticleTermRecord/992277653804341_144133901_BOUTANT_0 | number of names: 2\n",
      "term uri: https://w3id.org/hto/ArticleTermRecord/992277653804341_144133901_BOWGE_0 | number of names: 2\n",
      "term uri: https://w3id.org/hto/ArticleTermRecord/992277653804341_144133901_BOWSPRIT_0 | number of names: 2\n",
      "term uri: https://w3id.org/hto/ArticleTermRecord/992277653804341_144133901_BOX_1 | number of names: 2\n",
      "term uri: https://w3id.org/hto/ArticleTermRecord/992277653804341_144133901_BQUADRO_0 | number of names: 3\n",
      "term uri: https://w3id.org/hto/ArticleTermRecord/992277653804341_144133901_BRABEUTES_0 | number of names: 2\n",
      "term uri: https://w3id.org/hto/ArticleTermRecord/992277653804341_144133901_BRACE_0 | number of names: 2\n",
      "term uri: https://w3id.org/hto/ArticleTermRecord/992277653804341_144133901_BRACHIUM_0 | number of names: 2\n",
      "term uri: https://w3id.org/hto/ArticleTermRecord/992277653804341_144133901_BRAIL_0 | number of names: 2\n",
      "term uri: https://w3id.org/hto/ArticleTermRecord/992277653804341_144133901_BRAMBLE_0 | number of names: 2\n",
      "term uri: https://w3id.org/hto/ArticleTermRecord/992277653804341_144133901_BRASIL_0 | number of names: 2\n",
      "term uri: https://w3id.org/hto/ArticleTermRecord/992277653804341_144133901_BRASSICAVIT_0 | number of names: 2\n",
      "term uri: https://w3id.org/hto/ArticleTermRecord/992277653804341_144133901_BRASSICA_0 | number of names: 2\n",
      "term uri: https://w3id.org/hto/ArticleTermRecord/992277653804341_144133901_BRAUNAU_0 | number of names: 2\n",
      "term uri: https://w3id.org/hto/ArticleTermRecord/992277653804341_144133901_BREASIS_0 | number of names: 2\n",
      "term uri: https://w3id.org/hto/ArticleTermRecord/992277653804341_144133901_BRECON_0 | number of names: 2\n",
      "term uri: https://w3id.org/hto/ArticleTermRecord/992277653804341_144133901_BRENTWOOD_0 | number of names: 2\n",
      "term uri: https://w3id.org/hto/ArticleTermRecord/992277653804341_144133901_BRESTE_0 | number of names: 2\n",
      "term uri: https://w3id.org/hto/ArticleTermRecord/992277653804341_144133901_BRETON_0 | number of names: 2\n",
      "term uri: https://w3id.org/hto/ArticleTermRecord/992277653804341_144133901_BRIDON_0 | number of names: 2\n",
      "term uri: https://w3id.org/hto/ArticleTermRecord/992277653804341_144133901_BRIST_0 | number of names: 2\n",
      "term uri: https://w3id.org/hto/ArticleTermRecord/992277653804341_144133901_BRITE_0 | number of names: 2\n",
      "term uri: https://w3id.org/hto/ArticleTermRecord/992277653804341_144133901_BROCADE_0 | number of names: 2\n",
      "term uri: https://w3id.org/hto/ArticleTermRecord/992277653804341_144133901_BROCATEL_0 | number of names: 2\n",
      "term uri: https://w3id.org/hto/ArticleTermRecord/992277653804341_144133901_BRODERA_0 | number of names: 2\n",
      "term uri: https://w3id.org/hto/ArticleTermRecord/992277653804341_144133901_BRONTIAE_0 | number of names: 2\n",
      "term uri: https://w3id.org/hto/ArticleTermRecord/992277653804341_144133901_BROOMING_0 | number of names: 2\n",
      "term uri: https://w3id.org/hto/ArticleTermRecord/992277653804341_144133901_BROW_0 | number of names: 2\n",
      "term uri: https://w3id.org/hto/ArticleTermRecord/992277653804341_144133901_BUBO_0 | number of names: 2\n",
      "term uri: https://w3id.org/hto/ArticleTermRecord/992277653804341_144133901_BUCCARI_1 | number of names: 2\n",
      "term uri: https://w3id.org/hto/ArticleTermRecord/992277653804341_144133901_BUCCINUM_0 | number of names: 2\n",
      "term uri: https://w3id.org/hto/ArticleTermRecord/992277653804341_144133901_BUCKNHAM_0 | number of names: 2\n",
      "term uri: https://w3id.org/hto/ArticleTermRecord/992277653804341_144133901_BUG_1 | number of names: 2\n",
      "term uri: https://w3id.org/hto/ArticleTermRecord/992277653804341_144133901_BUNGO_0 | number of names: 2\n",
      "term uri: https://w3id.org/hto/ArticleTermRecord/992277653804341_144133901_BUNTZLAU_0 | number of names: 2\n",
      "term uri: https://w3id.org/hto/ArticleTermRecord/992277653804341_144133901_BURDEN_0 | number of names: 2\n",
      "term uri: https://w3id.org/hto/ArticleTermRecord/992277653804341_144133901_BURGUNDY_0 | number of names: 2\n",
      "term uri: https://w3id.org/hto/ArticleTermRecord/992277653804341_144133901_BURNING_1 | number of names: 2\n",
      "term uri: https://w3id.org/hto/ArticleTermRecord/992277653804341_144133901_BURRE_0 | number of names: 3\n",
      "term uri: https://w3id.org/hto/ArticleTermRecord/992277653804341_144133901_BURROW_0 | number of names: 2\n",
      "term uri: https://w3id.org/hto/ArticleTermRecord/992277653804341_144133901_BURRPUMP_0 | number of names: 2\n",
      "term uri: https://w3id.org/hto/ArticleTermRecord/992277653804341_144133901_BURSA_0 | number of names: 2\n",
      "term uri: https://w3id.org/hto/ArticleTermRecord/992277653804341_144133901_BUST_0 | number of names: 2\n",
      "term uri: https://w3id.org/hto/ArticleTermRecord/992277653804341_144133901_BUTT_0 | number of names: 2\n",
      "term uri: https://w3id.org/hto/ArticleTermRecord/992277653804341_144133901_BYLAWS_0 | number of names: 2\n",
      "term uri: https://w3id.org/hto/ArticleTermRecord/992277653804341_144133902_CAABA_0 | number of names: 2\n",
      "term uri: https://w3id.org/hto/ArticleTermRecord/992277653804341_144133902_CABALLEROS_0 | number of names: 2\n",
      "term uri: https://w3id.org/hto/ArticleTermRecord/992277653804341_144133902_CABECA_0 | number of names: 2\n",
      "term uri: https://w3id.org/hto/ArticleTermRecord/992277653804341_144133902_CABIDOS_0 | number of names: 2\n",
      "term uri: https://w3id.org/hto/ArticleTermRecord/992277653804341_144133902_CABINET_0 | number of names: 2\n",
      "term uri: https://w3id.org/hto/ArticleTermRecord/992277653804341_144133902_CACHEMIRE_0 | number of names: 2\n",
      "term uri: https://w3id.org/hto/ArticleTermRecord/992277653804341_144133902_CADI_0 | number of names: 2\n",
      "term uri: https://w3id.org/hto/ArticleTermRecord/992277653804341_144133902_CAG_0 | number of names: 2\n",
      "term uri: https://w3id.org/hto/ArticleTermRecord/992277653804341_144133902_CAHERAH_0 | number of names: 2\n",
      "term uri: https://w3id.org/hto/ArticleTermRecord/992277653804341_144133902_CAIMACAN_0 | number of names: 2\n",
      "term uri: https://w3id.org/hto/ArticleTermRecord/992277653804341_144133902_CAIMAN_0 | number of names: 2\n",
      "term uri: https://w3id.org/hto/ArticleTermRecord/992277653804341_144133902_CAINIANS_0 | number of names: 2\n",
      "term uri: https://w3id.org/hto/ArticleTermRecord/992277653804341_144133902_CALCULUSINTEGRALIS_0 | number of names: 2\n",
      "term uri: https://w3id.org/hto/ArticleTermRecord/992277653804341_144133902_CALCULUSSPECIALIS_0 | number of names: 2\n",
      "term uri: https://w3id.org/hto/ArticleTermRecord/992277653804341_144133902_CALIBER_0 | number of names: 2\n",
      "term uri: https://w3id.org/hto/ArticleTermRecord/992277653804341_144133902_CALLUS_0 | number of names: 2\n",
      "term uri: https://w3id.org/hto/ArticleTermRecord/992277653804341_144133902_CALQUING_0 | number of names: 2\n",
      "term uri: https://w3id.org/hto/ArticleTermRecord/992277653804341_144133902_CALVITIES_0 | number of names: 2\n",
      "term uri: https://w3id.org/hto/ArticleTermRecord/992277653804341_144133902_CAMBLET_0 | number of names: 2\n",
      "term uri: https://w3id.org/hto/ArticleTermRecord/992277653804341_144133902_CAMERY_0 | number of names: 2\n",
      "term uri: https://w3id.org/hto/ArticleTermRecord/992277653804341_144133902_CAMIS_0 | number of names: 2\n",
      "term uri: https://w3id.org/hto/ArticleTermRecord/992277653804341_144133902_CAMPANULA_0 | number of names: 2\n",
      "term uri: https://w3id.org/hto/ArticleTermRecord/992277653804341_144133902_CAMPEACHY_0 | number of names: 2\n",
      "term uri: https://w3id.org/hto/ArticleTermRecord/992277653804341_144133902_CAMPHOR_0 | number of names: 2\n",
      "term uri: https://w3id.org/hto/ArticleTermRecord/992277653804341_144133902_CANCER_0 | number of names: 2\n",
      "term uri: https://w3id.org/hto/ArticleTermRecord/992277653804341_144133902_CANCHERIZANTE_0 | number of names: 2\n",
      "term uri: https://w3id.org/hto/ArticleTermRecord/992277653804341_144133902_CANDIA_1 | number of names: 2\n",
      "term uri: https://w3id.org/hto/ArticleTermRecord/992277653804341_144133902_CANICULA_1 | number of names: 2\n",
      "term uri: https://w3id.org/hto/ArticleTermRecord/992277653804341_144133902_CANPANIFORM_0 | number of names: 2\n",
      "term uri: https://w3id.org/hto/ArticleTermRecord/992277653804341_144133902_CANTAR_0 | number of names: 2\n",
      "term uri: https://w3id.org/hto/ArticleTermRecord/992277653804341_144133902_CANTRED_0 | number of names: 2\n",
      "term uri: https://w3id.org/hto/ArticleTermRecord/992277653804341_144133902_CAPIAGA_0 | number of names: 2\n",
      "term uri: https://w3id.org/hto/ArticleTermRecord/992277653804341_144133902_CAPRIMULGUS_0 | number of names: 3\n",
      "term uri: https://w3id.org/hto/ArticleTermRecord/992277653804341_144133902_CAPRI_0 | number of names: 2\n",
      "term uri: https://w3id.org/hto/ArticleTermRecord/992277653804341_144133902_CAPSICUM_0 | number of names: 2\n",
      "term uri: https://w3id.org/hto/ArticleTermRecord/992277653804341_144133902_CARABINEERS_0 | number of names: 2\n",
      "term uri: https://w3id.org/hto/ArticleTermRecord/992277653804341_144133902_CARACT_0 | number of names: 3\n",
      "term uri: https://w3id.org/hto/ArticleTermRecord/992277653804341_144133902_CARAVANSERA_0 | number of names: 2\n",
      "term uri: https://w3id.org/hto/ArticleTermRecord/992277653804341_144133902_CARAVAN_0 | number of names: 2\n",
      "term uri: https://w3id.org/hto/ArticleTermRecord/992277653804341_144133902_CARBUNCLE_1 | number of names: 2\n",
      "term uri: https://w3id.org/hto/ArticleTermRecord/992277653804341_144133902_CARCASSE_0 | number of names: 2\n",
      "term uri: https://w3id.org/hto/ArticleTermRecord/992277653804341_144133902_CARGAPOL_0 | number of names: 2\n",
      "term uri: https://w3id.org/hto/ArticleTermRecord/992277653804341_144133902_CARIBBIANA_0 | number of names: 2\n",
      "term uri: https://w3id.org/hto/ArticleTermRecord/992277653804341_144133902_CARIGUE_0 | number of names: 2\n",
      "term uri: https://w3id.org/hto/ArticleTermRecord/992277653804341_144133902_CARLINE_0 | number of names: 2\n",
      "term uri: https://w3id.org/hto/ArticleTermRecord/992277653804341_144133902_CARLINGS_0 | number of names: 2\n",
      "term uri: https://w3id.org/hto/ArticleTermRecord/992277653804341_144133902_CARSE_0 | number of names: 2\n",
      "term uri: https://w3id.org/hto/ArticleTermRecord/992277653804341_144133902_CARS_0 | number of names: 2\n",
      "term uri: https://w3id.org/hto/ArticleTermRecord/992277653804341_144133902_CARTHAMUS_0 | number of names: 2\n",
      "term uri: https://w3id.org/hto/ArticleTermRecord/992277653804341_144133902_CARTON_0 | number of names: 2\n",
      "term uri: https://w3id.org/hto/ArticleTermRecord/992277653804341_144133902_CARUI_0 | number of names: 2\n",
      "term uri: https://w3id.org/hto/ArticleTermRecord/992277653804341_144133902_CASAN_0 | number of names: 2\n",
      "term uri: https://w3id.org/hto/ArticleTermRecord/992277653804341_144133902_CASHELL_0 | number of names: 2\n",
      "term uri: https://w3id.org/hto/ArticleTermRecord/992277653804341_144133902_CASSENHOVEN_0 | number of names: 2\n",
      "term uri: https://w3id.org/hto/ArticleTermRecord/992277653804341_144133902_CASSOCK_0 | number of names: 2\n",
      "term uri: https://w3id.org/hto/ArticleTermRecord/992277653804341_144133902_CASTILLAN_0 | number of names: 2\n",
      "term uri: https://w3id.org/hto/ArticleTermRecord/992277653804341_144133902_CATOCHE_0 | number of names: 2\n",
      "term uri: https://w3id.org/hto/ArticleTermRecord/992277653804341_144133902_CAUSUS_0 | number of names: 2\n",
      "term uri: https://w3id.org/hto/ArticleTermRecord/992277653804341_144133902_CAZEROM_0 | number of names: 2\n",
      "term uri: https://w3id.org/hto/ArticleTermRecord/992277653804341_144133902_CEMENT_0 | number of names: 2\n",
      "term uri: https://w3id.org/hto/ArticleTermRecord/992277653804341_144133902_CENOBITE_0 | number of names: 2\n",
      "term uri: https://w3id.org/hto/ArticleTermRecord/992277653804341_144133902_CERATION_1 | number of names: 2\n",
      "term uri: https://w3id.org/hto/ArticleTermRecord/992277653804341_144133902_CERIGO_0 | number of names: 2\n",
      "term uri: https://w3id.org/hto/ArticleTermRecord/992277653804341_144133902_CERUSE_0 | number of names: 2\n",
      "term uri: https://w3id.org/hto/ArticleTermRecord/992277653804341_144133902_CHALDEA_0 | number of names: 2\n",
      "term uri: https://w3id.org/hto/ArticleTermRecord/992277653804341_144133902_CHAMOIS_0 | number of names: 2\n",
      "term uri: https://w3id.org/hto/ArticleTermRecord/992277653804341_144133902_CHAM_0 | number of names: 2\n",
      "term uri: https://w3id.org/hto/ArticleTermRecord/992277653804341_144133902_CHANTRY_0 | number of names: 2\n",
      "term uri: https://w3id.org/hto/ArticleTermRecord/992277653804341_144133902_CHAPEL_0 | number of names: 2\n",
      "term uri: https://w3id.org/hto/ArticleTermRecord/992277653804341_144133902_CHARNEL_0 | number of names: 2\n",
      "term uri: https://w3id.org/hto/ArticleTermRecord/992277653804341_144133902_CHAROPHYLLUM_0 | number of names: 2\n",
      "term uri: https://w3id.org/hto/ArticleTermRecord/992277653804341_144133902_CHARTREUSE_0 | number of names: 2\n",
      "term uri: https://w3id.org/hto/ArticleTermRecord/992277653804341_144133902_CHART_0 | number of names: 2\n",
      "term uri: https://w3id.org/hto/ArticleTermRecord/992277653804341_144133902_CHECK_0 | number of names: 2\n",
      "term uri: https://w3id.org/hto/ArticleTermRecord/992277653804341_144133902_CHELTENHAM_0 | number of names: 2\n",
      "term uri: https://w3id.org/hto/ArticleTermRecord/992277653804341_144133902_CHEO_0 | number of names: 2\n",
      "term uri: https://w3id.org/hto/ArticleTermRecord/992277653804341_144133902_CHERUB_0 | number of names: 2\n",
      "term uri: https://w3id.org/hto/ArticleTermRecord/992277653804341_144133902_CHEVIOT_0 | number of names: 2\n",
      "term uri: https://w3id.org/hto/ArticleTermRecord/992277653804341_144133902_CHEVRON_0 | number of names: 2\n",
      "term uri: https://w3id.org/hto/ArticleTermRecord/992277653804341_144133902_CHIONANTHUS_0 | number of names: 2\n",
      "term uri: https://w3id.org/hto/ArticleTermRecord/992277653804341_144133902_CHIPPING_0 | number of names: 2\n",
      "term uri: https://w3id.org/hto/ArticleTermRecord/992277653804341_144133902_CHOPIN_0 | number of names: 2\n",
      "term uri: https://w3id.org/hto/ArticleTermRecord/992277653804341_144133902_CHORGES_0 | number of names: 2\n",
      "term uri: https://w3id.org/hto/ArticleTermRecord/992277653804341_144133902_CHOROBATA_0 | number of names: 2\n",
      "term uri: https://w3id.org/hto/ArticleTermRecord/992277653804341_144133902_CHRONIC_0 | number of names: 2\n",
      "term uri: https://w3id.org/hto/ArticleTermRecord/992277653804341_144133902_CHRONNS_0 | number of names: 2\n",
      "term uri: https://w3id.org/hto/ArticleTermRecord/992277653804341_144133902_CHUSAN_0 | number of names: 2\n",
      "term uri: https://w3id.org/hto/ArticleTermRecord/992277653804341_144133902_CHYME_0 | number of names: 2\n",
      "term uri: https://w3id.org/hto/ArticleTermRecord/992277653804341_144133902_CHYMISTRY_0 | number of names: 2\n",
      "term uri: https://w3id.org/hto/ArticleTermRecord/992277653804341_144133902_CICHORIUM_0 | number of names: 2\n",
      "term uri: https://w3id.org/hto/ArticleTermRecord/992277653804341_144133902_CIFALU_0 | number of names: 2\n",
      "term uri: https://w3id.org/hto/ArticleTermRecord/992277653804341_144133902_CIMA_0 | number of names: 2\n",
      "term uri: https://w3id.org/hto/ArticleTermRecord/992277653804341_144133902_CIMEX_0 | number of names: 2\n",
      "term uri: https://w3id.org/hto/ArticleTermRecord/992277653804341_144133902_CINYRA_0 | number of names: 2\n",
      "term uri: https://w3id.org/hto/ArticleTermRecord/992277653804341_144133902_CIPHER_0 | number of names: 2\n",
      "term uri: https://w3id.org/hto/ArticleTermRecord/992277653804341_144133902_CITHARISTA_0 | number of names: 2\n",
      "term uri: https://w3id.org/hto/ArticleTermRecord/992277653804341_144133902_CLARICHORD_0 | number of names: 2\n",
      "term uri: https://w3id.org/hto/ArticleTermRecord/992277653804341_144133902_CLAROOBSCURO_0 | number of names: 2\n",
      "term uri: https://w3id.org/hto/ArticleTermRecord/992277653804341_144133902_CLAROTONSCURO_0 | number of names: 2\n",
      "term uri: https://w3id.org/hto/ArticleTermRecord/992277653804341_144133902_CLASSIC_0 | number of names: 2\n",
      "term uri: https://w3id.org/hto/ArticleTermRecord/992277653804341_144133902_CLEVES_0 | number of names: 2\n",
      "term uri: https://w3id.org/hto/ArticleTermRecord/992277653804341_144133902_CLIMAX_0 | number of names: 2\n",
      "term uri: https://w3id.org/hto/ArticleTermRecord/992277653804341_144133902_CLYPEUS_0 | number of names: 2\n",
      "term uri: https://w3id.org/hto/ArticleTermRecord/992277653804341_144133902_COAL_0 | number of names: 2\n",
      "term uri: https://w3id.org/hto/ArticleTermRecord/992277653804341_144133902_COAT_0 | number of names: 2\n",
      "term uri: https://w3id.org/hto/ArticleTermRecord/992277653804341_144133902_COCKSWAIN_0 | number of names: 2\n",
      "term uri: https://w3id.org/hto/ArticleTermRecord/992277653804341_144133902_COCOA_0 | number of names: 2\n",
      "term uri: https://w3id.org/hto/ArticleTermRecord/992277653804341_144133902_COGNIZANCE_1 | number of names: 2\n",
      "term uri: https://w3id.org/hto/ArticleTermRecord/992277653804341_144133902_COGS_0 | number of names: 2\n",
      "term uri: https://w3id.org/hto/ArticleTermRecord/992277653804341_144133902_COIRE_0 | number of names: 2\n",
      "term uri: https://w3id.org/hto/ArticleTermRecord/992277653804341_144133902_COLCHICUM_0 | number of names: 2\n",
      "term uri: https://w3id.org/hto/ArticleTermRecord/992277653804341_144133902_COMA_0 | number of names: 2\n",
      "term uri: https://w3id.org/hto/ArticleTermRecord/992277653804341_144133902_COMMENTARY_0 | number of names: 2\n",
      "term uri: https://w3id.org/hto/ArticleTermRecord/992277653804341_144133902_COMMENTARY_1 | number of names: 2\n",
      "term uri: https://w3id.org/hto/ArticleTermRecord/992277653804341_144133902_COMMONS_0 | number of names: 2\n",
      "term uri: https://w3id.org/hto/ArticleTermRecord/992277653804341_144133902_COMPETENCE_0 | number of names: 2\n",
      "term uri: https://w3id.org/hto/ArticleTermRecord/992277653804341_144133902_COMPITALIA_0 | number of names: 2\n",
      "term uri: https://w3id.org/hto/ArticleTermRecord/992277653804341_144133902_COMPOUND_0 | number of names: 3\n",
      "term uri: https://w3id.org/hto/ArticleTermRecord/992277653804341_144133902_CONARION_0 | number of names: 2\n",
      "term uri: https://w3id.org/hto/ArticleTermRecord/992277653804341_144133902_CONCERT_0 | number of names: 2\n",
      "term uri: https://w3id.org/hto/ArticleTermRecord/992277653804341_144133902_CONFESSIONAL_0 | number of names: 2\n",
      "term uri: https://w3id.org/hto/ArticleTermRecord/992277653804341_144133902_CONNECTION_0 | number of names: 2\n",
      "term uri: https://w3id.org/hto/ArticleTermRecord/992277653804341_144133902_CONNECTION_1 | number of names: 2\n",
      "term uri: https://w3id.org/hto/ArticleTermRecord/992277653804341_144133902_CONVOLVULUS_0 | number of names: 2\n",
      "term uri: https://w3id.org/hto/ArticleTermRecord/992277653804341_144133902_CONYZA_0 | number of names: 2\n",
      "term uri: https://w3id.org/hto/ArticleTermRecord/992277653804341_144133902_COPIITS_0 | number of names: 3\n",
      "term uri: https://w3id.org/hto/ArticleTermRecord/992277653804341_144133902_COPPELLING_0 | number of names: 2\n",
      "term uri: https://w3id.org/hto/ArticleTermRecord/992277653804341_144133902_COPPICE_0 | number of names: 2\n",
      "term uri: https://w3id.org/hto/ArticleTermRecord/992277653804341_144133902_CORALLINA_0 | number of names: 2\n",
      "term uri: https://w3id.org/hto/ArticleTermRecord/992277653804341_144133902_CORK_0 | number of names: 2\n",
      "term uri: https://w3id.org/hto/ArticleTermRecord/992277653804341_144133902_CORLEONIS_0 | number of names: 2\n",
      "term uri: https://w3id.org/hto/ArticleTermRecord/992277653804341_144133902_CORNICHE_0 | number of names: 3\n",
      "term uri: https://w3id.org/hto/ArticleTermRecord/992277653804341_144133902_CORNUS_0 | number of names: 2\n",
      "term uri: https://w3id.org/hto/ArticleTermRecord/992277653804341_144133902_CORUNNA_0 | number of names: 2\n",
      "term uri: https://w3id.org/hto/ArticleTermRecord/992277653804341_144133902_CORZOLA_0 | number of names: 2\n",
      "term uri: https://w3id.org/hto/ArticleTermRecord/992277653804341_144133902_COTICE_0 | number of names: 2\n",
      "term uri: https://w3id.org/hto/ArticleTermRecord/992277653804341_144133902_COTULA_1 | number of names: 2\n",
      "term uri: https://w3id.org/hto/ArticleTermRecord/992277653804341_144133902_COUNCIL_0 | number of names: 2\n",
      "term uri: https://w3id.org/hto/ArticleTermRecord/992277653804341_144133902_COUNTERFACED_0 | number of names: 2\n",
      "term uri: https://w3id.org/hto/ArticleTermRecord/992277653804341_144133902_COUNTERFOIL_0 | number of names: 2\n",
      "term uri: https://w3id.org/hto/ArticleTermRecord/992277653804341_144133902_COUNTERLIGNT_0 | number of names: 2\n",
      "term uri: https://w3id.org/hto/ArticleTermRecord/992277653804341_144133902_COURTESY_0 | number of names: 2\n",
      "term uri: https://w3id.org/hto/ArticleTermRecord/992277653804341_144133902_COWL_0 | number of names: 2\n",
      "term uri: https://w3id.org/hto/ArticleTermRecord/992277653804341_144133902_CRAIL_0 | number of names: 2\n",
      "term uri: https://w3id.org/hto/ArticleTermRecord/992277653804341_144133902_CRAMPIRON_0 | number of names: 2\n",
      "term uri: https://w3id.org/hto/ArticleTermRecord/992277653804341_144133902_CRENELLE_0 | number of names: 2\n",
      "term uri: https://w3id.org/hto/ArticleTermRecord/992277653804341_144133902_CRESS_0 | number of names: 2\n",
      "term uri: https://w3id.org/hto/ArticleTermRecord/992277653804341_144133902_CRETA_0 | number of names: 2\n",
      "term uri: https://w3id.org/hto/ArticleTermRecord/992277653804341_144133902_CROCCEUS_0 | number of names: 2\n",
      "term uri: https://w3id.org/hto/ArticleTermRecord/992277653804341_144133902_CROISES_0 | number of names: 2\n",
      "term uri: https://w3id.org/hto/ArticleTermRecord/992277653804341_144133902_CRONSLOT_0 | number of names: 2\n",
      "term uri: https://w3id.org/hto/ArticleTermRecord/992277653804341_144133902_CROSIER_0 | number of names: 2\n",
      "term uri: https://w3id.org/hto/ArticleTermRecord/992277653804341_144133902_CROTALUS_0 | number of names: 2\n",
      "term uri: https://w3id.org/hto/ArticleTermRecord/992277653804341_144133902_CROW_0 | number of names: 2\n",
      "term uri: https://w3id.org/hto/ArticleTermRecord/992277653804341_144133902_CRUSADE_0 | number of names: 2\n",
      "term uri: https://w3id.org/hto/ArticleTermRecord/992277653804341_144133902_CRYSOGONUM_0 | number of names: 2\n",
      "term uri: https://w3id.org/hto/ArticleTermRecord/992277653804341_144133902_CUPPEL_0 | number of names: 2\n",
      "term uri: https://w3id.org/hto/ArticleTermRecord/992277653804341_144133902_CUPRUM_0 | number of names: 2\n",
      "term uri: https://w3id.org/hto/ArticleTermRecord/992277653804341_144133902_CURASSOW_0 | number of names: 2\n",
      "term uri: https://w3id.org/hto/ArticleTermRecord/992277653804341_144133902_CURCUMA_0 | number of names: 2\n",
      "term uri: https://w3id.org/hto/ArticleTermRecord/992277653804341_144133902_CURRANS_0 | number of names: 2\n",
      "term uri: https://w3id.org/hto/ArticleTermRecord/992277653804341_144133902_CURTIN_0 | number of names: 3\n",
      "term uri: https://w3id.org/hto/ArticleTermRecord/992277653804341_144133902_CURVET_0 | number of names: 2\n",
      "term uri: https://w3id.org/hto/ArticleTermRecord/992277653804341_144133902_CYCLAMEN_0 | number of names: 2\n",
      "term uri: https://w3id.org/hto/ArticleTermRecord/992277653804341_144133902_CYCLOPÆDIA_0 | number of names: 2\n",
      "term uri: https://w3id.org/hto/ArticleTermRecord/992277653804341_144133902_CYPHOMA_0 | number of names: 3\n",
      "term uri: https://w3id.org/hto/ArticleTermRecord/992277653804341_144133902_CÆCUM_0 | number of names: 2\n",
      "term uri: https://w3id.org/hto/ArticleTermRecord/992277653804341_144133902_DAGO_0 | number of names: 2\n",
      "term uri: https://w3id.org/hto/ArticleTermRecord/992277653804341_144133902_DAMASCUS_0 | number of names: 2\n",
      "term uri: https://w3id.org/hto/ArticleTermRecord/992277653804341_144133902_DAMASKEENING_0 | number of names: 2\n",
      "term uri: https://w3id.org/hto/ArticleTermRecord/992277653804341_144133902_DAUPHINE_0 | number of names: 2\n",
      "term uri: https://w3id.org/hto/ArticleTermRecord/992277653804341_144133902_DECLINATOR_0 | number of names: 2\n",
      "term uri: https://w3id.org/hto/ArticleTermRecord/992277653804341_144133902_DEEMSTERS_0 | number of names: 2\n",
      "term uri: https://w3id.org/hto/ArticleTermRecord/992277653804341_144133902_DEGENERATION_0 | number of names: 2\n",
      "term uri: https://w3id.org/hto/ArticleTermRecord/992277653804341_144133902_DELIVERY_0 | number of names: 2\n",
      "term uri: https://w3id.org/hto/ArticleTermRecord/992277653804341_144133902_DELPHINIUM_0 | number of names: 2\n",
      "term uri: https://w3id.org/hto/ArticleTermRecord/992277653804341_144133902_DELPHINUS_0 | number of names: 2\n",
      "term uri: https://w3id.org/hto/ArticleTermRecord/992277653804341_144133902_DELSBERG_0 | number of names: 2\n",
      "term uri: https://w3id.org/hto/ArticleTermRecord/992277653804341_144133902_DEMAIN_0 | number of names: 2\n",
      "term uri: https://w3id.org/hto/ArticleTermRecord/992277653804341_144133902_DEMAIN_1 | number of names: 2\n",
      "term uri: https://w3id.org/hto/ArticleTermRecord/992277653804341_144133902_DENTARIA_0 | number of names: 2\n",
      "term uri: https://w3id.org/hto/ArticleTermRecord/992277653804341_144133902_DESCENT_1 | number of names: 2\n",
      "term uri: https://w3id.org/hto/ArticleTermRecord/992277653804341_144133902_DESEADA_0 | number of names: 2\n",
      "term uri: https://w3id.org/hto/ArticleTermRecord/992277653804341_144133902_DESSERT_0 | number of names: 2\n",
      "term uri: https://w3id.org/hto/ArticleTermRecord/992277653804341_144133902_DESSICCATIVE_0 | number of names: 2\n",
      "term uri: https://w3id.org/hto/ArticleTermRecord/992277653804341_144133902_DEXTROCHERE_0 | number of names: 2\n",
      "term uri: https://w3id.org/hto/ArticleTermRecord/992277653804341_144133902_DIAHEXAPLA_0 | number of names: 2\n",
      "term uri: https://w3id.org/hto/ArticleTermRecord/992277653804341_144133902_DIARBEC_0 | number of names: 2\n",
      "term uri: https://w3id.org/hto/ArticleTermRecord/992277653804341_144133902_DIGITALIS_0 | number of names: 2\n",
      "term uri: https://w3id.org/hto/ArticleTermRecord/992277653804341_144133902_DIGITS_0 | number of names: 2\n",
      "term uri: https://w3id.org/hto/ArticleTermRecord/992277653804341_144133902_DIPSACUS_0 | number of names: 2\n",
      "term uri: https://w3id.org/hto/ArticleTermRecord/992277653804341_144133902_DIRIGENT_0 | number of names: 2\n",
      "term uri: https://w3id.org/hto/ArticleTermRecord/992277653804341_144133902_DISBENSARY_0 | number of names: 2\n",
      "term uri: https://w3id.org/hto/ArticleTermRecord/992277653804341_144133902_DISCERNING_0 | number of names: 2\n",
      "term uri: https://w3id.org/hto/ArticleTermRecord/992277653804341_144133902_DISDIAPASON_0 | number of names: 2\n",
      "term uri: https://w3id.org/hto/ArticleTermRecord/992277653804341_144133902_DISPENSARY_0 | number of names: 2\n",
      "term uri: https://w3id.org/hto/ArticleTermRecord/992277653804341_144133902_DIVESTING_0 | number of names: 2\n",
      "term uri: https://w3id.org/hto/ArticleTermRecord/992277653804341_144133902_DOMESDAY_0 | number of names: 2\n",
      "term uri: https://w3id.org/hto/ArticleTermRecord/992277653804341_144133902_DOMINGO_0 | number of names: 2\n",
      "term uri: https://w3id.org/hto/ArticleTermRecord/992277653804341_144133902_DORPT_0 | number of names: 2\n",
      "term uri: https://w3id.org/hto/ArticleTermRecord/992277653804341_144133902_DOUBLEPICHY_0 | number of names: 2\n",
      "term uri: https://w3id.org/hto/ArticleTermRecord/992277653804341_144133902_DOUBLON_0 | number of names: 2\n",
      "term uri: https://w3id.org/hto/ArticleTermRecord/992277653804341_144133902_DOWNETON_0 | number of names: 2\n",
      "term uri: https://w3id.org/hto/ArticleTermRecord/992277653804341_144133902_DRAGOMAN_0 | number of names: 3\n",
      "term uri: https://w3id.org/hto/ArticleTermRecord/992277653804341_144133902_DREDGE_0 | number of names: 2\n",
      "term uri: https://w3id.org/hto/ArticleTermRecord/992277653804341_144133902_DRILL_1 | number of names: 2\n",
      "term uri: https://w3id.org/hto/ArticleTermRecord/992277653804341_144133902_DUERO_0 | number of names: 2\n",
      "term uri: https://w3id.org/hto/ArticleTermRecord/992277653804341_144133902_DUPLICATEPROPORTION_0 | number of names: 2\n",
      "term uri: https://w3id.org/hto/ArticleTermRecord/992277653804341_144133902_DUYVELAND_0 | number of names: 2\n",
      "term uri: https://w3id.org/hto/ArticleTermRecord/992277653804341_144133902_ECHINATE_0 | number of names: 2\n",
      "term uri: https://w3id.org/hto/ArticleTermRecord/992277653804341_144133902_ECU_0 | number of names: 2\n",
      "term uri: https://w3id.org/hto/ArticleTermRecord/992277653804341_144133902_EDDISH_0 | number of names: 2\n",
      "term uri: https://w3id.org/hto/ArticleTermRecord/992277653804341_144133902_EDDYTIDE_0 | number of names: 2\n",
      "term uri: https://w3id.org/hto/ArticleTermRecord/992277653804341_144133902_EER_0 | number of names: 2\n",
      "term uri: https://w3id.org/hto/ArticleTermRecord/992277653804341_144133902_EFFARE_0 | number of names: 2\n",
      "term uri: https://w3id.org/hto/ArticleTermRecord/992277653804341_144133902_EGYPTIANS_0 | number of names: 2\n",
      "term uri: https://w3id.org/hto/ArticleTermRecord/992277653804341_144133902_EIFIELD_0 | number of names: 2\n",
      "term uri: https://w3id.org/hto/ArticleTermRecord/992277653804341_144133902_ELDER_0 | number of names: 2\n",
      "term uri: https://w3id.org/hto/ArticleTermRecord/992277653804341_144133902_ELEGANCE_0 | number of names: 2\n",
      "term uri: https://w3id.org/hto/ArticleTermRecord/992277653804341_144133902_ELLIPTIC_0 | number of names: 2\n",
      "term uri: https://w3id.org/hto/ArticleTermRecord/992277653804341_144133902_ELUSHING_0 | number of names: 2\n",
      "term uri: https://w3id.org/hto/ArticleTermRecord/992277653804341_144133902_ELYTROIDES_0 | number of names: 2\n",
      "term uri: https://w3id.org/hto/ArticleTermRecord/992277653804341_144133902_EMBOLISMIC_0 | number of names: 2\n",
      "term uri: https://w3id.org/hto/ArticleTermRecord/992277653804341_144133902_EMBRUN_0 | number of names: 2\n",
      "term uri: https://w3id.org/hto/ArticleTermRecord/992277653804341_144133902_EMULGENT_0 | number of names: 2\n",
      "term uri: https://w3id.org/hto/ArticleTermRecord/992277653804341_144133902_ENDEMIC_0 | number of names: 2\n",
      "term uri: https://w3id.org/hto/ArticleTermRecord/992277653804341_144133902_ENGRAFTING_0 | number of names: 2\n",
      "term uri: https://w3id.org/hto/ArticleTermRecord/992277653804341_144133902_ENGRAILED_0 | number of names: 2\n",
      "term uri: https://w3id.org/hto/ArticleTermRecord/992277653804341_144133902_ENTABLATURE_0 | number of names: 2\n",
      "term uri: https://w3id.org/hto/ArticleTermRecord/992277653804341_144133902_EOUULEUS_0 | number of names: 2\n",
      "term uri: https://w3id.org/hto/ArticleTermRecord/992277653804341_144133902_EQUISETUM_0 | number of names: 2\n",
      "term uri: https://w3id.org/hto/ArticleTermRecord/992277653804341_144133902_EQUIVOCALTERMS_0 | number of names: 2\n",
      "term uri: https://w3id.org/hto/ArticleTermRecord/992277653804341_144133902_ERICA_0 | number of names: 2\n",
      "term uri: https://w3id.org/hto/ArticleTermRecord/992277653804341_144133902_ESCUTCHEON_0 | number of names: 2\n",
      "term uri: https://w3id.org/hto/ArticleTermRecord/992277653804341_144133902_ESSENES_0 | number of names: 2\n",
      "term uri: https://w3id.org/hto/ArticleTermRecord/992277653804341_144133902_ETHIOPIA_0 | number of names: 2\n",
      "term uri: https://w3id.org/hto/ArticleTermRecord/992277653804341_144133902_EXPOSITOR_0 | number of names: 2\n",
      "term uri: https://w3id.org/hto/ArticleTermRecord/992277653804341_144133902_EXTERIOR_0 | number of names: 2\n",
      "term uri: https://w3id.org/hto/ArticleTermRecord/992277653804341_144133902_EYEMOUTH_0 | number of names: 2\n",
      "term uri: https://w3id.org/hto/ArticleTermRecord/992277653804341_144133902_EYRAC_0 | number of names: 2\n",
      "term uri: https://w3id.org/hto/ArticleTermRecord/992277653804341_144133902_EYRAC_1 | number of names: 2\n",
      "term uri: https://w3id.org/hto/ArticleTermRecord/992277653804341_144133902_EYRE_0 | number of names: 2\n",
      "term uri: https://w3id.org/hto/ArticleTermRecord/992277653804341_144133902_FACET_0 | number of names: 2\n",
      "term uri: https://w3id.org/hto/ArticleTermRecord/992277653804341_144133902_FAIRYCIRCLE_0 | number of names: 2\n",
      "term uri: https://w3id.org/hto/ArticleTermRecord/992277653804341_144133902_FANCY_0 | number of names: 2\n",
      "term uri: https://w3id.org/hto/ArticleTermRecord/992277653804341_144133902_FAST_0 | number of names: 2\n",
      "term uri: https://w3id.org/hto/ArticleTermRecord/992277653804341_144133902_FEAST_0 | number of names: 2\n",
      "term uri: https://w3id.org/hto/ArticleTermRecord/992277653804341_144133902_FELLOWSHIP_0 | number of names: 2\n",
      "term uri: https://w3id.org/hto/ArticleTermRecord/992277653804341_144133902_FERDEN_0 | number of names: 2\n",
      "term uri: https://w3id.org/hto/ArticleTermRecord/992277653804341_144133902_FERNANDO_0 | number of names: 2\n",
      "term uri: https://w3id.org/hto/ArticleTermRecord/992277653804341_144133902_FEUDATORY_0 | number of names: 2\n",
      "term uri: https://w3id.org/hto/ArticleTermRecord/992277653804341_144133902_FIEF_0 | number of names: 2\n",
      "term uri: https://w3id.org/hto/ArticleTermRecord/992277653804341_144133902_FIGURAL_0 | number of names: 3\n",
      "term uri: https://w3id.org/hto/ArticleTermRecord/992277653804341_144133902_FILBERT_0 | number of names: 2\n",
      "term uri: https://w3id.org/hto/ArticleTermRecord/992277653804341_144133902_FILLET_1 | number of names: 2\n",
      "term uri: https://w3id.org/hto/ArticleTermRecord/992277653804341_144133902_FILTER_0 | number of names: 2\n",
      "term uri: https://w3id.org/hto/ArticleTermRecord/992277653804341_144133902_FIVES_0 | number of names: 2\n",
      "term uri: https://w3id.org/hto/ArticleTermRecord/992277653804341_144133902_FLORY_0 | number of names: 3\n",
      "term uri: https://w3id.org/hto/ArticleTermRecord/992277653804341_144133902_FLOTSON_0 | number of names: 2\n",
      "term uri: https://w3id.org/hto/ArticleTermRecord/992277653804341_144133902_FLUORALBUS_0 | number of names: 2\n",
      "term uri: https://w3id.org/hto/ArticleTermRecord/992277653804341_144133902_FLUTES_0 | number of names: 2\n",
      "term uri: https://w3id.org/hto/ArticleTermRecord/992277653804341_144133902_FOAL_0 | number of names: 2\n",
      "term uri: https://w3id.org/hto/ArticleTermRecord/992277653804341_144133902_FONTICULUS_0 | number of names: 2\n",
      "term uri: https://w3id.org/hto/ArticleTermRecord/992277653804341_144133902_FORESTAFF_0 | number of names: 2\n",
      "term uri: https://w3id.org/hto/ArticleTermRecord/992277653804341_144133902_FORMULA_0 | number of names: 2\n",
      "term uri: https://w3id.org/hto/ArticleTermRecord/992277653804341_144133902_FORNACALIA_0 | number of names: 2\n",
      "term uri: https://w3id.org/hto/ArticleTermRecord/992277653804341_144133902_FOSS_0 | number of names: 2\n",
      "term uri: https://w3id.org/hto/ArticleTermRecord/992277653804341_144133902_FOUNDERY_0 | number of names: 2\n",
      "term uri: https://w3id.org/hto/ArticleTermRecord/992277653804341_144133902_FOUNT_0 | number of names: 2\n",
      "term uri: https://w3id.org/hto/ArticleTermRecord/992277653804341_144133902_FOURCHEE_0 | number of names: 2\n",
      "term uri: https://w3id.org/hto/ArticleTermRecord/992277653804341_144133902_FREETE_0 | number of names: 2\n",
      "term uri: https://w3id.org/hto/ArticleTermRecord/992277653804341_144133902_FREIGHT_0 | number of names: 2\n",
      "term uri: https://w3id.org/hto/ArticleTermRecord/992277653804341_144133902_FRET_0 | number of names: 2\n",
      "term uri: https://w3id.org/hto/ArticleTermRecord/992277653804341_144133902_FRIEZE_0 | number of names: 3\n",
      "term uri: https://w3id.org/hto/ArticleTermRecord/992277653804341_144133902_FRINWALT_0 | number of names: 2\n",
      "term uri: https://w3id.org/hto/ArticleTermRecord/992277653804341_144133902_FROTHEPIT_0 | number of names: 2\n",
      "term uri: https://w3id.org/hto/ArticleTermRecord/992277653804341_144133902_FRUSH_0 | number of names: 2\n",
      "term uri: https://w3id.org/hto/ArticleTermRecord/992277653804341_144133902_FUSEE_1 | number of names: 2\n",
      "term uri: https://w3id.org/hto/ArticleTermRecord/992277653804341_144133902_FUSTICK_0 | number of names: 2\n",
      "term uri: https://w3id.org/hto/ArticleTermRecord/992277653804341_144133902_GALICIA_1 | number of names: 2\n",
      "term uri: https://w3id.org/hto/ArticleTermRecord/992277653804341_144133902_GALILE_0 | number of names: 2\n",
      "term uri: https://w3id.org/hto/ArticleTermRecord/992277653804341_144133902_GALLION_0 | number of names: 2\n",
      "term uri: https://w3id.org/hto/ArticleTermRecord/992277653804341_144133902_GANGI_0 | number of names: 2\n",
      "term uri: https://w3id.org/hto/ArticleTermRecord/992277653804341_144133902_GANGLIO_0 | number of names: 2\n",
      "term uri: https://w3id.org/hto/ArticleTermRecord/992277653804341_144133902_GANTLET_0 | number of names: 2\n",
      "term uri: https://w3id.org/hto/ArticleTermRecord/992277653804341_144133902_GARDANT_0 | number of names: 2\n",
      "term uri: https://w3id.org/hto/ArticleTermRecord/992277653804341_144133902_GASCOIN_0 | number of names: 2\n",
      "term uri: https://w3id.org/hto/ArticleTermRecord/992277653804341_144133902_GAVEREN_0 | number of names: 2\n",
      "term uri: https://w3id.org/hto/ArticleTermRecord/992277653804341_144133902_GAWSE_0 | number of names: 2\n",
      "term uri: https://w3id.org/hto/ArticleTermRecord/992277653804341_144133902_GENERATINGLINE_0 | number of names: 2\n",
      "term uri: https://w3id.org/hto/ArticleTermRecord/992277653804341_144133902_GENEVA_1 | number of names: 2\n",
      "term uri: https://w3id.org/hto/ArticleTermRecord/992277653804341_144133902_GERFALCON_0 | number of names: 2\n",
      "term uri: https://w3id.org/hto/ArticleTermRecord/992277653804341_144133902_GERMAN_1 | number of names: 2\n",
      "term uri: https://w3id.org/hto/ArticleTermRecord/992277653804341_144133902_GERMEN_0 | number of names: 2\n",
      "term uri: https://w3id.org/hto/ArticleTermRecord/992277653804341_144133902_GHENT_0 | number of names: 2\n",
      "term uri: https://w3id.org/hto/ArticleTermRecord/992277653804341_144133902_GOLDTHREAD_0 | number of names: 2\n",
      "term uri: https://w3id.org/hto/ArticleTermRecord/992277653804341_144133902_GRABOW_0 | number of names: 2\n",
      "term uri: https://w3id.org/hto/ArticleTermRecord/992277653804341_144133902_GRAFT_0 | number of names: 2\n",
      "term uri: https://w3id.org/hto/ArticleTermRecord/992277653804341_144133902_GRANDENTZ_0 | number of names: 2\n",
      "term uri: https://w3id.org/hto/ArticleTermRecord/992277653804341_144133902_GREEK_0 | number of names: 2\n",
      "term uri: https://w3id.org/hto/ArticleTermRecord/992277653804341_144133902_GRENOCK_0 | number of names: 2\n",
      "term uri: https://w3id.org/hto/ArticleTermRecord/992277653804341_144133902_GREY_0 | number of names: 2\n",
      "term uri: https://w3id.org/hto/ArticleTermRecord/992277653804341_144133902_GROENLAND_0 | number of names: 2\n",
      "term uri: https://w3id.org/hto/ArticleTermRecord/992277653804341_144133902_GROTESQUE_0 | number of names: 2\n",
      "term uri: https://w3id.org/hto/ArticleTermRecord/992277653804341_144133902_GULA_0 | number of names: 2\n",
      "term uri: https://w3id.org/hto/ArticleTermRecord/992277653804341_144133902_GULPH_0 | number of names: 2\n",
      "term uri: https://w3id.org/hto/ArticleTermRecord/992277653804341_144133902_GUNWALE_0 | number of names: 2\n",
      "term uri: https://w3id.org/hto/ArticleTermRecord/992277653804341_144133902_GYPSUM_0 | number of names: 2\n",
      "term uri: https://w3id.org/hto/ArticleTermRecord/992277653804341_144133902_HAMA_0 | number of names: 2\n",
      "term uri: https://w3id.org/hto/ArticleTermRecord/992277653804341_144133902_HAMORRHOIDS_0 | number of names: 2\n",
      "term uri: https://w3id.org/hto/ArticleTermRecord/992277653804341_144133902_HANSE_0 | number of names: 2\n",
      "term uri: https://w3id.org/hto/ArticleTermRecord/992277653804341_144133902_HARIOT_0 | number of names: 2\n",
      "term uri: https://w3id.org/hto/ArticleTermRecord/992277653804341_144133902_HARPINEER_0 | number of names: 2\n",
      "term uri: https://w3id.org/hto/ArticleTermRecord/992277653804341_144133902_HEMIPLEGIA_0 | number of names: 2\n",
      "term uri: https://w3id.org/hto/ArticleTermRecord/992277653804341_144133902_HENRY_0 | number of names: 2\n",
      "term uri: https://w3id.org/hto/ArticleTermRecord/992277653804341_144133902_HERMETIC_0 | number of names: 2\n",
      "term uri: https://w3id.org/hto/ArticleTermRecord/992277653804341_144133902_HETEROGENOUS_0 | number of names: 2\n",
      "term uri: https://w3id.org/hto/ArticleTermRecord/992277653804341_144133902_HIGHWORTH_0 | number of names: 2\n",
      "term uri: https://w3id.org/hto/ArticleTermRecord/992277653804341_144133902_HINDOWN_0 | number of names: 2\n",
      "term uri: https://w3id.org/hto/ArticleTermRecord/992277653804341_144133902_HINE_0 | number of names: 2\n",
      "term uri: https://w3id.org/hto/ArticleTermRecord/992277653804341_144133902_HIORDICALIA_0 | number of names: 2\n",
      "term uri: https://w3id.org/hto/ArticleTermRecord/992277653804341_144133902_HURDS_0 | number of names: 2\n",
      "term uri: https://w3id.org/hto/ArticleTermRecord/992277653804341_144133902_HYPANTE_0 | number of names: 2\n",
      "term uri: https://w3id.org/hto/ArticleTermRecord/992277653804341_144133902_HÆMATITES_0 | number of names: 2\n",
      "term uri: https://w3id.org/hto/ArticleTermRecord/992277653804341_144133902_IMPOTENCE_0 | number of names: 2\n",
      "term uri: https://w3id.org/hto/ArticleTermRecord/992277653804341_144133902_INCA_0 | number of names: 2\n",
      "term uri: https://w3id.org/hto/ArticleTermRecord/992277653804341_144133902_INCENSE_0 | number of names: 2\n",
      "term uri: https://w3id.org/hto/ArticleTermRecord/992277653804341_144133902_INCUBUS_0 | number of names: 2\n",
      "term uri: https://w3id.org/hto/ArticleTermRecord/992277653804341_144133902_INTRIGUE_0 | number of names: 2\n",
      "term uri: https://w3id.org/hto/ArticleTermRecord/992277653804341_144133902_IONK_0 | number of names: 2\n",
      "term uri: https://w3id.org/hto/ArticleTermRecord/992277653804341_144133902_ISPAHAN_0 | number of names: 2\n",
      "term uri: https://w3id.org/hto/ArticleTermRecord/992277653804341_144133902_JANICAW_0 | number of names: 2\n",
      "term uri: https://w3id.org/hto/ArticleTermRecord/992277653804341_144133902_JOISTS_0 | number of names: 2\n",
      "term uri: https://w3id.org/hto/ArticleTermRecord/992277653804341_144133902_JOURNAL_0 | number of names: 2\n",
      "term uri: https://w3id.org/hto/ArticleTermRecord/992277653804341_144133902_JUCATAN_0 | number of names: 2\n",
      "term uri: https://w3id.org/hto/ArticleTermRecord/992277653804341_144133902_JUREA_0 | number of names: 2\n",
      "term uri: https://w3id.org/hto/ArticleTermRecord/992277653804341_144133902_LABDANUM_0 | number of names: 2\n",
      "term uri: https://w3id.org/hto/ArticleTermRecord/992277653804341_144133902_LABORATORY_0 | number of names: 2\n",
      "term uri: https://w3id.org/hto/ArticleTermRecord/992277653804341_144133902_LACCA_0 | number of names: 2\n",
      "term uri: https://w3id.org/hto/ArticleTermRecord/992277653804341_144133902_LANDGRAVIATE_0 | number of names: 2\n",
      "term uri: https://w3id.org/hto/ArticleTermRecord/992277653804341_144133902_LANDSKIP_0 | number of names: 2\n",
      "term uri: https://w3id.org/hto/ArticleTermRecord/992277653804341_144133902_LANNIERS_0 | number of names: 2\n",
      "term uri: https://w3id.org/hto/ArticleTermRecord/992277653804341_144133902_LASSITUDE_0 | number of names: 2\n",
      "term uri: https://w3id.org/hto/ArticleTermRecord/992277653804341_144133902_LASTAGE_0 | number of names: 2\n",
      "term uri: https://w3id.org/hto/ArticleTermRecord/992277653804341_144133902_LAZARHOUSE_0 | number of names: 2\n",
      "term uri: https://w3id.org/hto/ArticleTermRecord/992277653804341_144133902_LEGGIARDO_0 | number of names: 2\n",
      "term uri: https://w3id.org/hto/ArticleTermRecord/992277653804341_144133902_LEGHORN_0 | number of names: 2\n",
      "term uri: https://w3id.org/hto/ArticleTermRecord/992277653804341_144133902_LESBOS_0 | number of names: 2\n",
      "term uri: https://w3id.org/hto/ArticleTermRecord/992277653804341_144133902_LETRIM_0 | number of names: 2\n",
      "term uri: https://w3id.org/hto/ArticleTermRecord/992277653804341_144133902_LEVER_0 | number of names: 2\n",
      "term uri: https://w3id.org/hto/ArticleTermRecord/992277653804341_144133902_LIMINGTON_0 | number of names: 2\n",
      "term uri: https://w3id.org/hto/ArticleTermRecord/992277653804341_144133902_LINTS_0 | number of names: 2\n",
      "term uri: https://w3id.org/hto/ArticleTermRecord/992277653804341_144133902_LISLE_0 | number of names: 2\n",
      "term uri: https://w3id.org/hto/ArticleTermRecord/992277653804341_144133902_LIVERPOOL_0 | number of names: 2\n",
      "term uri: https://w3id.org/hto/ArticleTermRecord/992277653804341_144133902_LUCONIA_0 | number of names: 2\n",
      "term uri: https://w3id.org/hto/ArticleTermRecord/992277653804341_144133902_LUND_0 | number of names: 2\n",
      "term uri: https://w3id.org/hto/ArticleTermRecord/992277653804341_144133902_LUTE_0 | number of names: 2\n",
      "term uri: https://w3id.org/hto/ArticleTermRecord/992277653804341_144133903_MACKERAN_0 | number of names: 2\n",
      "term uri: https://w3id.org/hto/ArticleTermRecord/992277653804341_144133903_MAGI_0 | number of names: 2\n",
      "term uri: https://w3id.org/hto/ArticleTermRecord/992277653804341_144133903_MAGNET_0 | number of names: 2\n",
      "term uri: https://w3id.org/hto/ArticleTermRecord/992277653804341_144133903_MAIRASS_0 | number of names: 3\n",
      "term uri: https://w3id.org/hto/ArticleTermRecord/992277653804341_144133903_MANEGE_0 | number of names: 2\n",
      "term uri: https://w3id.org/hto/ArticleTermRecord/992277653804341_144133903_MANICORDON_0 | number of names: 2\n",
      "term uri: https://w3id.org/hto/ArticleTermRecord/992277653804341_144133903_MANTLE_1 | number of names: 2\n",
      "term uri: https://w3id.org/hto/ArticleTermRecord/992277653804341_144133903_MARCGRAVE_0 | number of names: 2\n",
      "term uri: https://w3id.org/hto/ArticleTermRecord/992277653804341_144133903_MARLBRO_0 | number of names: 2\n",
      "term uri: https://w3id.org/hto/ArticleTermRecord/992277653804341_144133903_MAROSCH_0 | number of names: 2\n",
      "term uri: https://w3id.org/hto/ArticleTermRecord/992277653804341_144133903_MARQUETRY_0 | number of names: 2\n",
      "term uri: https://w3id.org/hto/ArticleTermRecord/992277653804341_144133903_MARSHAL_0 | number of names: 2\n",
      "term uri: https://w3id.org/hto/ArticleTermRecord/992277653804341_144133903_MASTIGADOUR_0 | number of names: 2\n",
      "term uri: https://w3id.org/hto/ArticleTermRecord/992277653804341_144133903_MAURICE_0 | number of names: 2\n",
      "term uri: https://w3id.org/hto/ArticleTermRecord/992277653804341_144133903_MEDALLION_0 | number of names: 2\n",
      "term uri: https://w3id.org/hto/ArticleTermRecord/992277653804341_144133903_MENINGES_0 | number of names: 2\n",
      "term uri: https://w3id.org/hto/ArticleTermRecord/992277653804341_144133903_MESSASIPPI_0 | number of names: 2\n",
      "term uri: https://w3id.org/hto/ArticleTermRecord/992277653804341_144133903_MILLENARIANS_0 | number of names: 2\n",
      "term uri: https://w3id.org/hto/ArticleTermRecord/992277653804341_144133903_MILO_0 | number of names: 2\n",
      "term uri: https://w3id.org/hto/ArticleTermRecord/992277653804341_144133903_MINIUM_0 | number of names: 2\n",
      "term uri: https://w3id.org/hto/ArticleTermRecord/992277653804341_144133903_MISCHNAH_0 | number of names: 2\n",
      "term uri: https://w3id.org/hto/ArticleTermRecord/992277653804341_144133903_MIXT_0 | number of names: 2\n",
      "term uri: https://w3id.org/hto/ArticleTermRecord/992277653804341_144133903_MOGULS_0 | number of names: 2\n",
      "term uri: https://w3id.org/hto/ArticleTermRecord/992277653804341_144133903_MOMBAZA_0 | number of names: 2\n",
      "term uri: https://w3id.org/hto/ArticleTermRecord/992277653804341_144133903_MONTESANCTO_0 | number of names: 2\n",
      "term uri: https://w3id.org/hto/ArticleTermRecord/992277653804341_144133903_MOOD_0 | number of names: 2\n",
      "term uri: https://w3id.org/hto/ArticleTermRecord/992277653804341_144133903_MOOD_1 | number of names: 2\n",
      "term uri: https://w3id.org/hto/ArticleTermRecord/992277653804341_144133903_MOORCOCX_0 | number of names: 2\n",
      "term uri: https://w3id.org/hto/ArticleTermRecord/992277653804341_144133903_MOORING_0 | number of names: 2\n",
      "term uri: https://w3id.org/hto/ArticleTermRecord/992277653804341_144133903_MORESK_0 | number of names: 2\n",
      "term uri: https://w3id.org/hto/ArticleTermRecord/992277653804341_144133903_MORTISE_0 | number of names: 2\n",
      "term uri: https://w3id.org/hto/ArticleTermRecord/992277653804341_144133903_MOSPURG_0 | number of names: 2\n",
      "term uri: https://w3id.org/hto/ArticleTermRecord/992277653804341_144133903_MOULD_0 | number of names: 2\n",
      "term uri: https://w3id.org/hto/ArticleTermRecord/992277653804341_144133903_MOUSEL_0 | number of names: 2\n",
      "term uri: https://w3id.org/hto/ArticleTermRecord/992277653804341_144133903_MULLET_1 | number of names: 2\n",
      "term uri: https://w3id.org/hto/ArticleTermRecord/992277653804341_144133903_MULTAN_0 | number of names: 2\n",
      "term uri: https://w3id.org/hto/ArticleTermRecord/992277653804341_144133903_MULTIPLICATOR_0 | number of names: 2\n",
      "term uri: https://w3id.org/hto/ArticleTermRecord/992277653804341_144133903_MUNGATS_0 | number of names: 2\n",
      "term uri: https://w3id.org/hto/ArticleTermRecord/992277653804341_144133903_MURDER_0 | number of names: 2\n",
      "term uri: https://w3id.org/hto/ArticleTermRecord/992277653804341_144133903_MURRAIN_0 | number of names: 2\n",
      "term uri: https://w3id.org/hto/ArticleTermRecord/992277653804341_144133903_NEVIN_0 | number of names: 2\n",
      "term uri: https://w3id.org/hto/ArticleTermRecord/992277653804341_144133903_NEWT_0 | number of names: 2\n",
      "term uri: https://w3id.org/hto/ArticleTermRecord/992277653804341_144133903_NISNA_0 | number of names: 2\n",
      "term uri: https://w3id.org/hto/ArticleTermRecord/992277653804341_144133903_NISSA_1 | number of names: 2\n",
      "term uri: https://w3id.org/hto/ArticleTermRecord/992277653804341_144133903_NITRACHT_0 | number of names: 2\n",
      "term uri: https://w3id.org/hto/ArticleTermRecord/992277653804341_144133903_NITRE_0 | number of names: 2\n",
      "term uri: https://w3id.org/hto/ArticleTermRecord/992277653804341_144133903_NIXABOUR_0 | number of names: 2\n",
      "term uri: https://w3id.org/hto/ArticleTermRecord/992277653804341_144133903_NODUS_0 | number of names: 2\n",
      "term uri: https://w3id.org/hto/ArticleTermRecord/992277653804341_144133903_NOVATION_0 | number of names: 2\n",
      "term uri: https://w3id.org/hto/ArticleTermRecord/992277653804341_144133903_NUMERICAL_0 | number of names: 3\n",
      "term uri: https://w3id.org/hto/ArticleTermRecord/992277653804341_144133903_OBERWESEL_0 | number of names: 2\n",
      "term uri: https://w3id.org/hto/ArticleTermRecord/992277653804341_144133903_ODABACHI_0 | number of names: 2\n",
      "term uri: https://w3id.org/hto/ArticleTermRecord/992277653804341_144133903_OEDENBURG_0 | number of names: 2\n",
      "term uri: https://w3id.org/hto/ArticleTermRecord/992277653804341_144133903_OGEE_0 | number of names: 2\n",
      "term uri: https://w3id.org/hto/ArticleTermRecord/992277653804341_144133903_OLECRANUM_0 | number of names: 2\n",
      "term uri: https://w3id.org/hto/ArticleTermRecord/992277653804341_144133903_ONANIA_0 | number of names: 2\n",
      "term uri: https://w3id.org/hto/ArticleTermRecord/992277653804341_144133903_OPFING_0 | number of names: 2\n",
      "term uri: https://w3id.org/hto/ArticleTermRecord/992277653804341_144133903_ORDERII_0 | number of names: 2\n",
      "term uri: https://w3id.org/hto/ArticleTermRecord/992277653804341_144133903_ORLE_0 | number of names: 3\n",
      "term uri: https://w3id.org/hto/ArticleTermRecord/992277653804341_144133903_OVERTURE_0 | number of names: 2\n",
      "term uri: https://w3id.org/hto/ArticleTermRecord/992277653804341_144133903_PALY_0 | number of names: 2\n",
      "term uri: https://w3id.org/hto/ArticleTermRecord/992277653804341_144133903_PARHELIUM_0 | number of names: 2\n",
      "term uri: https://w3id.org/hto/ArticleTermRecord/992277653804341_144133903_PARTIPARTIE_0 | number of names: 3\n",
      "term uri: https://w3id.org/hto/ArticleTermRecord/992277653804341_144133903_PASSTORT_0 | number of names: 2\n",
      "term uri: https://w3id.org/hto/ArticleTermRecord/992277653804341_144133903_PASTURE_0 | number of names: 2\n",
      "term uri: https://w3id.org/hto/ArticleTermRecord/992277653804341_144133903_PATCHUCA_0 | number of names: 2\n",
      "term uri: https://w3id.org/hto/ArticleTermRecord/992277653804341_144133903_PATEE_0 | number of names: 2\n",
      "term uri: https://w3id.org/hto/ArticleTermRecord/992277653804341_144133903_PERINEUM_0 | number of names: 2\n",
      "term uri: https://w3id.org/hto/ArticleTermRecord/992277653804341_144133903_PERIODIC_0 | number of names: 2\n",
      "term uri: https://w3id.org/hto/ArticleTermRecord/992277653804341_144133903_PERRUKE_0 | number of names: 2\n",
      "term uri: https://w3id.org/hto/ArticleTermRecord/992277653804341_144133903_PHANATIC_0 | number of names: 2\n",
      "term uri: https://w3id.org/hto/ArticleTermRecord/992277653804341_144133903_PHAROS_1 | number of names: 2\n",
      "term uri: https://w3id.org/hto/ArticleTermRecord/992277653804341_144133903_PHILOSOPHIC_0 | number of names: 2\n",
      "term uri: https://w3id.org/hto/ArticleTermRecord/992277653804341_144133903_PHOENICOPTERUS_0 | number of names: 2\n",
      "term uri: https://w3id.org/hto/ArticleTermRecord/992277653804341_144133903_POLICY_0 | number of names: 2\n",
      "term uri: https://w3id.org/hto/ArticleTermRecord/992277653804341_144133903_POLISHER_0 | number of names: 2\n",
      "term uri: https://w3id.org/hto/ArticleTermRecord/992277653804341_144133903_POMMEL_0 | number of names: 2\n",
      "term uri: https://w3id.org/hto/ArticleTermRecord/992277653804341_144133903_POMME_0 | number of names: 2\n",
      "term uri: https://w3id.org/hto/ArticleTermRecord/992277653804341_144133903_PONTON_0 | number of names: 2\n",
      "term uri: https://w3id.org/hto/ArticleTermRecord/992277653804341_144133903_PORTGREVE_0 | number of names: 2\n",
      "term uri: https://w3id.org/hto/ArticleTermRecord/992277653804341_144133903_PORTROYAL_0 | number of names: 2\n",
      "term uri: https://w3id.org/hto/ArticleTermRecord/992277653804341_144133903_POTENT_0 | number of names: 2\n",
      "term uri: https://w3id.org/hto/ArticleTermRecord/992277653804341_144133903_POURSUIVANT_0 | number of names: 2\n",
      "term uri: https://w3id.org/hto/ArticleTermRecord/992277653804341_144133903_POURVEYANCE_0 | number of names: 2\n",
      "term uri: https://w3id.org/hto/ArticleTermRecord/992277653804341_144133903_PRATIQUE_0 | number of names: 2\n",
      "term uri: https://w3id.org/hto/ArticleTermRecord/992277653804341_144133903_PRUCK_0 | number of names: 2\n",
      "term uri: https://w3id.org/hto/ArticleTermRecord/992277653804341_144133903_PUN_0 | number of names: 2\n",
      "term uri: https://w3id.org/hto/ArticleTermRecord/992277653804341_144133903_QUARTERMASTERS_0 | number of names: 2\n",
      "term uri: https://w3id.org/hto/ArticleTermRecord/992277653804341_144133903_QUOIN_0 | number of names: 2\n",
      "term uri: https://w3id.org/hto/ArticleTermRecord/992277653804341_144133903_RAGULED_0 | number of names: 2\n",
      "term uri: https://w3id.org/hto/ArticleTermRecord/992277653804341_144133903_RANKING_0 | number of names: 2\n",
      "term uri: https://w3id.org/hto/ArticleTermRecord/992277653804341_144133903_REAL_1 | number of names: 2\n",
      "term uri: https://w3id.org/hto/ArticleTermRecord/992277653804341_144133903_REBATE_0 | number of names: 2\n",
      "term uri: https://w3id.org/hto/ArticleTermRecord/992277653804341_144133903_REGAL_0 | number of names: 2\n",
      "term uri: https://w3id.org/hto/ArticleTermRecord/992277653804341_144133903_REGEL_0 | number of names: 2\n",
      "term uri: https://w3id.org/hto/ArticleTermRecord/992277653804341_144133903_REGRATOR_0 | number of names: 2\n",
      "term uri: https://w3id.org/hto/ArticleTermRecord/992277653804341_144133903_REIISVO_0 | number of names: 2\n",
      "term uri: https://w3id.org/hto/ArticleTermRecord/992277653804341_144133903_RENCOUNTRE_0 | number of names: 2\n",
      "term uri: https://w3id.org/hto/ArticleTermRecord/992277653804341_144133903_RESTIVE_0 | number of names: 2\n",
      "term uri: https://w3id.org/hto/ArticleTermRecord/992277653804341_144133903_RETICULA_0 | number of names: 2\n",
      "term uri: https://w3id.org/hto/ArticleTermRecord/992277653804341_144133903_REVEREEVE_0 | number of names: 2\n",
      "term uri: https://w3id.org/hto/ArticleTermRecord/992277653804341_144133903_REYGATE_0 | number of names: 2\n",
      "term uri: https://w3id.org/hto/ArticleTermRecord/992277653804341_144133903_RHEIMS_0 | number of names: 2\n",
      "term uri: https://w3id.org/hto/ArticleTermRecord/992277653804341_144133903_RHE_0 | number of names: 2\n",
      "term uri: https://w3id.org/hto/ArticleTermRecord/992277653804341_144133903_RIBBAND_0 | number of names: 2\n",
      "term uri: https://w3id.org/hto/ArticleTermRecord/992277653804341_144133903_RIBBAN_0 | number of names: 2\n",
      "term uri: https://w3id.org/hto/ArticleTermRecord/992277653804341_144133903_RIDGLING_0 | number of names: 2\n",
      "term uri: https://w3id.org/hto/ArticleTermRecord/992277653804341_144133903_RITORNELLO_0 | number of names: 2\n",
      "term uri: https://w3id.org/hto/ArticleTermRecord/992277653804341_144133903_ROMPEE_0 | number of names: 2\n",
      "term uri: https://w3id.org/hto/ArticleTermRecord/992277653804341_144133903_ROSTOF_0 | number of names: 2\n",
      "term uri: https://w3id.org/hto/ArticleTermRecord/992277653804341_144133903_ROTONDO_0 | number of names: 2\n",
      "term uri: https://w3id.org/hto/ArticleTermRecord/992277653804341_144133903_ROXENTCATE_0 | number of names: 2\n",
      "term uri: https://w3id.org/hto/ArticleTermRecord/992277653804341_144133903_RULE_1 | number of names: 2\n",
      "term uri: https://w3id.org/hto/ArticleTermRecord/992277653804341_144133903_RUNNET_0 | number of names: 2\n",
      "term uri: https://w3id.org/hto/ArticleTermRecord/992277653804341_144133903_RURAL_0 | number of names: 2\n",
      "term uri: https://w3id.org/hto/ArticleTermRecord/992277653804341_144133903_RUSSIA_0 | number of names: 2\n",
      "term uri: https://w3id.org/hto/ArticleTermRecord/992277653804341_144133903_SAICK_0 | number of names: 2\n",
      "term uri: https://w3id.org/hto/ArticleTermRecord/992277653804341_144133903_SATRWA_0 | number of names: 2\n",
      "term uri: https://w3id.org/hto/ArticleTermRecord/992277653804341_144133903_SATYR_0 | number of names: 2\n",
      "term uri: https://w3id.org/hto/ArticleTermRecord/992277653804341_144133903_SAUCISSE_0 | number of names: 2\n",
      "term uri: https://w3id.org/hto/ArticleTermRecord/992277653804341_144133903_SAY_0 | number of names: 2\n",
      "term uri: https://w3id.org/hto/ArticleTermRecord/992277653804341_144133903_SCALADO_0 | number of names: 2\n",
      "term uri: https://w3id.org/hto/ArticleTermRecord/992277653804341_144133903_SCALPER_0 | number of names: 2\n",
      "term uri: https://w3id.org/hto/ArticleTermRecord/992277653804341_144133903_SCAPULAR_0 | number of names: 3\n",
      "term uri: https://w3id.org/hto/ArticleTermRecord/992277653804341_144133903_SCHIRAS_0 | number of names: 2\n",
      "term uri: https://w3id.org/hto/ArticleTermRecord/992277653804341_144133903_SCONE_0 | number of names: 2\n",
      "term uri: https://w3id.org/hto/ArticleTermRecord/992277653804341_144133903_SCOPER_0 | number of names: 2\n",
      "term uri: https://w3id.org/hto/ArticleTermRecord/992277653804341_144133903_SCORIA_0 | number of names: 2\n",
      "term uri: https://w3id.org/hto/ArticleTermRecord/992277653804341_144133903_SEAM_0 | number of names: 2\n",
      "term uri: https://w3id.org/hto/ArticleTermRecord/992277653804341_144133903_SEARCLOTH_0 | number of names: 2\n",
      "term uri: https://w3id.org/hto/ArticleTermRecord/992277653804341_144133903_SERARH_0 | number of names: 2\n",
      "term uri: https://w3id.org/hto/ArticleTermRecord/992277653804341_144133903_SET_0 | number of names: 2\n",
      "term uri: https://w3id.org/hto/ArticleTermRecord/992277653804341_144133903_SHAGREEN_0 | number of names: 2\n",
      "term uri: https://w3id.org/hto/ArticleTermRecord/992277653804341_144133903_SHANKER_0 | number of names: 2\n",
      "term uri: https://w3id.org/hto/ArticleTermRecord/992277653804341_144133903_SHASTER_0 | number of names: 2\n",
      "term uri: https://w3id.org/hto/ArticleTermRecord/992277653804341_144133903_SIDON_0 | number of names: 2\n",
      "term uri: https://w3id.org/hto/ArticleTermRecord/992277653804341_144133903_SOFFITA_0 | number of names: 2\n",
      "term uri: https://w3id.org/hto/ArticleTermRecord/992277653804341_144133903_SOLEMNITIES_0 | number of names: 2\n",
      "term uri: https://w3id.org/hto/ArticleTermRecord/992277653804341_144133903_SPAYING_0 | number of names: 2\n",
      "term uri: https://w3id.org/hto/ArticleTermRecord/992277653804341_144133903_SPINET_0 | number of names: 2\n",
      "term uri: https://w3id.org/hto/ArticleTermRecord/992277653804341_144133903_SPLENT_0 | number of names: 2\n",
      "term uri: https://w3id.org/hto/ArticleTermRecord/992277653804341_144133903_SPOUT_0 | number of names: 2\n",
      "term uri: https://w3id.org/hto/ArticleTermRecord/992277653804341_144133903_SSLIANT_0 | number of names: 3\n",
      "term uri: https://w3id.org/hto/ArticleTermRecord/992277653804341_144133903_STALLION_0 | number of names: 2\n",
      "term uri: https://w3id.org/hto/ArticleTermRecord/992277653804341_144133903_STATE_0 | number of names: 2\n",
      "term uri: https://w3id.org/hto/ArticleTermRecord/992277653804341_144133903_STORAX_0 | number of names: 2\n",
      "term uri: https://w3id.org/hto/ArticleTermRecord/992277653804341_144133903_STUPHA_0 | number of names: 2\n",
      "term uri: https://w3id.org/hto/ArticleTermRecord/992277653804341_144133903_SUBORNATION_0 | number of names: 2\n",
      "term uri: https://w3id.org/hto/ArticleTermRecord/992277653804341_144133903_SYNOCHUS_0 | number of names: 2\n",
      "term uri: https://w3id.org/hto/ArticleTermRecord/992277653804341_144133903_TABES_0 | number of names: 2\n",
      "term uri: https://w3id.org/hto/ArticleTermRecord/992277653804341_144133903_TATA_0 | number of names: 2\n",
      "term uri: https://w3id.org/hto/ArticleTermRecord/992277653804341_144133903_TAUGHT_0 | number of names: 2\n",
      "term uri: https://w3id.org/hto/ArticleTermRecord/992277653804341_144133903_TAURIS_0 | number of names: 2\n",
      "term uri: https://w3id.org/hto/ArticleTermRecord/992277653804341_144133903_TAU_0 | number of names: 2\n",
      "term uri: https://w3id.org/hto/ArticleTermRecord/992277653804341_144133903_TEA_0 | number of names: 2\n",
      "term uri: https://w3id.org/hto/ArticleTermRecord/992277653804341_144133903_TEISSE_0 | number of names: 2\n",
      "term uri: https://w3id.org/hto/ArticleTermRecord/992277653804341_144133903_TENOR_0 | number of names: 2\n",
      "term uri: https://w3id.org/hto/ArticleTermRecord/992277653804341_144133903_THANE_0 | number of names: 2\n",
      "term uri: https://w3id.org/hto/ArticleTermRecord/992277653804341_144133903_THOULON_0 | number of names: 2\n",
      "term uri: https://w3id.org/hto/ArticleTermRecord/992277653804341_144133903_THOULOSE_0 | number of names: 2\n",
      "term uri: https://w3id.org/hto/ArticleTermRecord/992277653804341_144133903_THRASHING_0 | number of names: 2\n",
      "term uri: https://w3id.org/hto/ArticleTermRecord/992277653804341_144133903_TIDLWAITERS_0 | number of names: 2\n",
      "term uri: https://w3id.org/hto/ArticleTermRecord/992277653804341_144133903_TIERCE_0 | number of names: 2\n",
      "term uri: https://w3id.org/hto/ArticleTermRecord/992277653804341_144133903_TIVIOT_0 | number of names: 2\n",
      "term uri: https://w3id.org/hto/ArticleTermRecord/992277653804341_144133903_TONE_0 | number of names: 2\n",
      "term uri: https://w3id.org/hto/ArticleTermRecord/992277653804341_144133903_TRAINING_0 | number of names: 2\n",
      "term uri: https://w3id.org/hto/ArticleTermRecord/992277653804341_144133903_TRANSCENDENTAL_0 | number of names: 2\n",
      "term uri: https://w3id.org/hto/ArticleTermRecord/992277653804341_144133903_TRAVERSE_0 | number of names: 2\n",
      "term uri: https://w3id.org/hto/ArticleTermRecord/992277653804341_144133903_TRIERS_0 | number of names: 2\n",
      "term uri: https://w3id.org/hto/ArticleTermRecord/992277653804341_144133903_TRINIDAD_0 | number of names: 2\n",
      "term uri: https://w3id.org/hto/ArticleTermRecord/992277653804341_144133903_TURBITH_0 | number of names: 2\n",
      "term uri: https://w3id.org/hto/ArticleTermRecord/992277653804341_144133903_TYGER_0 | number of names: 2\n",
      "term uri: https://w3id.org/hto/ArticleTermRecord/992277653804341_144133903_UPHOLSTER_0 | number of names: 3\n",
      "term uri: https://w3id.org/hto/ArticleTermRecord/992277653804341_144133903_URANBURG_0 | number of names: 2\n",
      "term uri: https://w3id.org/hto/ArticleTermRecord/992277653804341_144133903_URDE_0 | number of names: 2\n",
      "term uri: https://w3id.org/hto/ArticleTermRecord/992277653804341_144133903_VENAL_0 | number of names: 2\n",
      "term uri: https://w3id.org/hto/ArticleTermRecord/992277653804341_144133903_VENESECTION_0 | number of names: 2\n",
      "term uri: https://w3id.org/hto/ArticleTermRecord/992277653804341_144133903_VENT_0 | number of names: 3\n",
      "term uri: https://w3id.org/hto/ArticleTermRecord/992277653804341_144133903_VERDITER_0 | number of names: 2\n",
      "term uri: https://w3id.org/hto/ArticleTermRecord/992277653804341_144133903_VERD_0 | number of names: 2\n",
      "term uri: https://w3id.org/hto/ArticleTermRecord/992277653804341_144133903_VILLOSE_0 | number of names: 2\n",
      "term uri: https://w3id.org/hto/ArticleTermRecord/992277653804341_144133903_VIOLIN_0 | number of names: 2\n",
      "term uri: https://w3id.org/hto/ArticleTermRecord/992277653804341_144133903_VIRTUAL_0 | number of names: 2\n",
      "term uri: https://w3id.org/hto/ArticleTermRecord/992277653804341_144133903_VISCIDITY_0 | number of names: 2\n",
      "term uri: https://w3id.org/hto/ArticleTermRecord/992277653804341_144133903_VULCANO_0 | number of names: 2\n",
      "term uri: https://w3id.org/hto/ArticleTermRecord/992277653804341_144133903_WADD_0 | number of names: 2\n",
      "term uri: https://w3id.org/hto/ArticleTermRecord/992277653804341_144133903_WARDHOOK_0 | number of names: 2\n",
      "term uri: https://w3id.org/hto/ArticleTermRecord/992277653804341_144133903_WASHINGOF_0 | number of names: 2\n",
      "term uri: https://w3id.org/hto/ArticleTermRecord/992277653804341_144133903_WEER_0 | number of names: 2\n",
      "term uri: https://w3id.org/hto/ArticleTermRecord/992277653804341_144133903_WEIL_0 | number of names: 2\n",
      "term uri: https://w3id.org/hto/ArticleTermRecord/992277653804341_144133903_WEISSENBURG_0 | number of names: 2\n",
      "term uri: https://w3id.org/hto/ArticleTermRecord/992277653804341_144133903_WITENAMOT_0 | number of names: 2\n",
      "term uri: https://w3id.org/hto/ArticleTermRecord/992277653804341_144133903_WVELD_0 | number of names: 2\n",
      "term uri: https://w3id.org/hto/ArticleTermRecord/992277653804341_144133903_XYLOALOES_0 | number of names: 2\n",
      "term uri: https://w3id.org/hto/ArticleTermRecord/992277653804341_144133903_ZINZIBER_0 | number of names: 2\n",
      "term uri: https://w3id.org/hto/ArticleTermRecord/992277653804341_144133901_ACADEMICS_0 | number of names: 2\n",
      "term uri: https://w3id.org/hto/ArticleTermRecord/992277653804341_144133901_ACOEMETAE_0 | number of names: 2\n",
      "term uri: https://w3id.org/hto/ArticleTermRecord/992277653804341_144133901_ALAUDA_0 | number of names: 2\n",
      "term uri: https://w3id.org/hto/ArticleTermRecord/992277653804341_144133901_ALLOY_0 | number of names: 2\n",
      "term uri: https://w3id.org/hto/ArticleTermRecord/992277653804341_144133901_AMBAMARJAM_0 | number of names: 2\n",
      "term uri: https://w3id.org/hto/ArticleTermRecord/992277653804341_144133901_ANCHUSA_0 | number of names: 2\n",
      "term uri: https://w3id.org/hto/ArticleTermRecord/992277653804341_144133901_ANGEIOGRAPHY_0 | number of names: 2\n",
      "term uri: https://w3id.org/hto/ArticleTermRecord/992277653804341_144133901_ANTHEMIS_0 | number of names: 2\n",
      "term uri: https://w3id.org/hto/ArticleTermRecord/992277653804341_144133901_AWME_0 | number of names: 2\n",
      "term uri: https://w3id.org/hto/ArticleTermRecord/992277653804341_144133901_AÆSCULANUS_0 | number of names: 2\n",
      "term uri: https://w3id.org/hto/ArticleTermRecord/992277653804341_144133901_BALÆNA_0 | number of names: 2\n",
      "term uri: https://w3id.org/hto/ArticleTermRecord/992277653804341_144133901_BARTER_0 | number of names: 2\n",
      "term uri: https://w3id.org/hto/ArticleTermRecord/992277653804341_144133901_BIT_0 | number of names: 2\n",
      "term uri: https://w3id.org/hto/ArticleTermRecord/992277653804341_144133901_BOROUGHHEAD_0 | number of names: 2\n",
      "term uri: https://w3id.org/hto/ArticleTermRecord/992277653804341_144133901_BRANCHIAE_0 | number of names: 2\n",
      "term uri: https://w3id.org/hto/ArticleTermRecord/992277653804341_144133901_BUNK_0 | number of names: 2\n",
      "term uri: https://w3id.org/hto/ArticleTermRecord/992277653804341_144133902_CADARI_0 | number of names: 2\n",
      "term uri: https://w3id.org/hto/ArticleTermRecord/992277653804341_144133902_CALENDULA_0 | number of names: 2\n",
      "term uri: https://w3id.org/hto/ArticleTermRecord/992277653804341_144133902_CAMELUS_0 | number of names: 2\n",
      "term uri: https://w3id.org/hto/ArticleTermRecord/992277653804341_144133902_CARNIVAL_0 | number of names: 2\n",
      "term uri: https://w3id.org/hto/ArticleTermRecord/992277653804341_144133902_CARYATIDES_0 | number of names: 2\n",
      "term uri: https://w3id.org/hto/ArticleTermRecord/992277653804341_144133902_CASTUS_0 | number of names: 2\n",
      "term uri: https://w3id.org/hto/ArticleTermRecord/992277653804341_144133902_CERVUS_0 | number of names: 2\n",
      "term uri: https://w3id.org/hto/ArticleTermRecord/992277653804341_144133902_CHEST_1 | number of names: 2\n",
      "term uri: https://w3id.org/hto/ArticleTermRecord/992277653804341_144133902_CHICK_0 | number of names: 2\n",
      "term uri: https://w3id.org/hto/ArticleTermRecord/992277653804341_144133902_CHILIARCHA_0 | number of names: 2\n",
      "term uri: https://w3id.org/hto/ArticleTermRecord/992277653804341_144133902_CHRYSOPRASUS_0 | number of names: 2\n",
      "term uri: https://w3id.org/hto/ArticleTermRecord/992277653804341_144133902_CINOLOA_0 | number of names: 2\n",
      "term uri: https://w3id.org/hto/ArticleTermRecord/992277653804341_144133902_CORAN_0 | number of names: 2\n",
      "term uri: https://w3id.org/hto/ArticleTermRecord/992277653804341_144133902_CROCUS_0 | number of names: 2\n",
      "term uri: https://w3id.org/hto/ArticleTermRecord/992277653804341_144133902_CUCUMIS_0 | number of names: 2\n",
      "term uri: https://w3id.org/hto/ArticleTermRecord/992277653804341_144133902_CULM_0 | number of names: 2\n",
      "term uri: https://w3id.org/hto/ArticleTermRecord/992277653804341_144133902_CURFEW_0 | number of names: 2\n",
      "term uri: https://w3id.org/hto/ArticleTermRecord/992277653804341_144133902_ELEMI_0 | number of names: 2\n",
      "term uri: https://w3id.org/hto/ArticleTermRecord/992277653804341_144133902_EMBASSADOR_0 | number of names: 2\n",
      "term uri: https://w3id.org/hto/ArticleTermRecord/992277653804341_144133902_EMBOSSING_0 | number of names: 2\n",
      "term uri: https://w3id.org/hto/ArticleTermRecord/992277653804341_144133902_ERINACEUS_0 | number of names: 2\n",
      "term uri: https://w3id.org/hto/ArticleTermRecord/992277653804341_144133902_EVORA_0 | number of names: 2\n",
      "term uri: https://w3id.org/hto/ArticleTermRecord/992277653804341_144133902_FARCIN_0 | number of names: 3\n",
      "term uri: https://w3id.org/hto/ArticleTermRecord/992277653804341_144133903_MEDIATE_0 | number of names: 2\n",
      "term uri: https://w3id.org/hto/ArticleTermRecord/992277653804341_144133903_MORALPHILOSOPHY_0 | number of names: 2\n",
      "term uri: https://w3id.org/hto/ArticleTermRecord/992277653804341_144133903_NEPERSRODS_0 | number of names: 2\n",
      "term uri: https://w3id.org/hto/ArticleTermRecord/992277653804341_144133903_ONTARIO_0 | number of names: 2\n",
      "term uri: https://w3id.org/hto/ArticleTermRecord/992277653804341_144133903_OTTOMAN_0 | number of names: 2\n",
      "term uri: https://w3id.org/hto/ArticleTermRecord/992277653804341_144133903_QUAMTUM_0 | number of names: 2\n",
      "term uri: https://w3id.org/hto/ArticleTermRecord/992277653804341_144133903_QUICK_0 | number of names: 2\n",
      "term uri: https://w3id.org/hto/ArticleTermRecord/992277653804341_144133903_RABBI_0 | number of names: 2\n",
      "term uri: https://w3id.org/hto/ArticleTermRecord/992277653804341_144133903_RELIEVO_0 | number of names: 2\n",
      "term uri: https://w3id.org/hto/ArticleTermRecord/992277653804341_144133903_SENEGA_0 | number of names: 2\n",
      "term uri: https://w3id.org/hto/ArticleTermRecord/992277653804341_144133903_STATERAROMANA_0 | number of names: 2\n",
      "term uri: https://w3id.org/hto/ArticleTermRecord/992277653804341_144133903_VOLHENIA_0 | number of names: 2\n",
      "term uri: https://w3id.org/hto/ArticleTermRecord/992277653804341_144133903_WATERORDEAL_0 | number of names: 2\n",
      "term uri: https://w3id.org/hto/ArticleTermRecord/992277653804341_144133901_ASTRONOMY_0 | number of names: 2\n",
      "term uri: https://w3id.org/hto/ArticleTermRecord/992277653804341_144133902_ELE_0 | number of names: 2\n",
      "term uri: https://w3id.org/hto/ArticleTermRecord/992277653804341_144133902_FRUITGARDEN_0 | number of names: 2\n",
      "term uri: https://w3id.org/hto/ArticleTermRecord/992277653804341_144133902_HYPERBOLA_0 | number of names: 2\n",
      "term uri: https://w3id.org/hto/ArticleTermRecord/992277653804341_144133902_KITCHENGARDEN_0 | number of names: 3\n",
      "term uri: https://w3id.org/hto/ArticleTermRecord/992277653804341_144133903_SHORTHANDWRITING_0 | number of names: 2\n",
      "term uri: https://w3id.org/hto/ArticleTermRecord/992277653804341_144133902_CATION_0 | number of names: 2\n",
      "term uri: https://w3id.org/hto/ArticleTermRecord/992277653804341_144133903_VOLIII_0 | number of names: 2\n",
      "term uri: https://w3id.org/hto/ArticleTermRecord/992277653804341_144133902_FLOWERGARDEN_0 | number of names: 3\n"
     ]
    }
   ],
   "source": [
    "\n",
    "q23 = prepareQuery('''\n",
    "    SELECT ?term (COUNT(?name) AS ?n) WHERE {\n",
    "        ?term a hto:ArticleTermRecord;\n",
    "            hto:name ?name.\n",
    "    }\n",
    "    GROUP BY ?term\n",
    "    HAVING (COUNT(?name) > 1)\n",
    "  ''',\n",
    "  initNs = { \"hto\": hto}\n",
    ")\n",
    "\n",
    "for r in graph.query(q23):\n",
    "      print(\"term uri: %s | number of names: %s\" % (r.term, r.n))"
   ],
   "metadata": {
    "collapsed": false
   }
  },
  {
   "cell_type": "markdown",
   "source": [
    "### Question 24: List editions which was revision of another edition"
   ],
   "metadata": {
    "collapsed": false
   }
  },
  {
   "cell_type": "code",
   "execution_count": 6,
   "outputs": [
    {
     "name": "stdout",
     "output_type": "stream",
     "text": [
      "edition https://w3id.org/hto/Edition/9929192893804340 - < 1 > was revision of edition https://w3id.org/hto/Edition/992277653804341 -< 1 >\n"
     ]
    }
   ],
   "source": [
    "from rdflib.namespace import PROV\n",
    "q24 = prepareQuery('''\n",
    "    SELECT * WHERE {\n",
    "        ?revision a hto:Edition;\n",
    "            prov:wasRevisionOf ?edition;\n",
    "            hto:number ?r_edition_num.\n",
    "        ?edition a hto:Edition;\n",
    "            hto:number ?edition_num.\n",
    "    }\n",
    "  ''',\n",
    "  initNs = { \"hto\": hto, \"prov\": PROV}\n",
    ")\n",
    "\n",
    "for r in graph.query(q24):\n",
    "      print(\"edition %s - < %s > was revision of edition %s -< %s >\" % (r.revision, r.r_edition_num, r.edition, r.edition_num))"
   ],
   "metadata": {
    "collapsed": false
   }
  },
  {
   "cell_type": "markdown",
   "source": [],
   "metadata": {
    "collapsed": false
   }
  }
 ],
 "metadata": {
  "kernelspec": {
   "display_name": "Python 3",
   "language": "python",
   "name": "python3"
  },
  "language_info": {
   "codemirror_mode": {
    "name": "ipython",
    "version": 2
   },
   "file_extension": ".py",
   "mimetype": "text/x-python",
   "name": "python",
   "nbconvert_exporter": "python",
   "pygments_lexer": "ipython2",
   "version": "2.7.6"
  }
 },
 "nbformat": 4,
 "nbformat_minor": 0
}
