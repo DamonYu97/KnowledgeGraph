{
 "cells": [
  {
   "cell_type": "markdown",
   "source": [
    "# TermRecord Linkage\n",
    "\n",
    "This task aims to link ConceptRecords from different documents. This will be beneficial to remove ambiguity of historical data. Take encyclopaedia Britannica for example, a term with a specific name could have multiple meanings (concepts) - Polysemy. When studying how language changes, it would be good to link and compare the terms with same concept across years.\n",
    "\n",
    "Inputs: basic knowledge graph (terms records), dataframe with term information, uri, and embeddings.\n",
    "\n",
    "Steps:\n",
    "\n",
    "1. List all distinct term names in the dataframe\n",
    "2. For each term name: get a list of all the terms info with that name, get a list of distinct years, and sort it\n",
    "   1. for each year in the list, for each term in that year, if there is no concept uri are linked to the term, then create new one. find the most similar term with the same name in each following years, then link the same concept uri to those terms if not exists. keep the process until no further years\n",
    "3. Add concept uri to the knowledge graph, and link the concept with term record."
   ],
   "metadata": {
    "collapsed": false
   }
  },
  {
   "cell_type": "code",
   "execution_count": 1,
   "outputs": [
    {
     "data": {
      "text/plain": "                                          edition_uri  vol_num  \\\n0       https://w3id.org/hto/Edition/9922270543804340       11   \n1        https://w3id.org/hto/Edition/997902543804341        7   \n2       https://w3id.org/hto/Edition/9929777383804340        6   \n3        https://w3id.org/hto/Edition/997902523804341        1   \n4       https://w3id.org/hto/Edition/9910796233804340        8   \n...                                               ...      ...   \n177578  https://w3id.org/hto/Edition/9910796373804340        4   \n177579  https://w3id.org/hto/Edition/9910796273804340        8   \n177580  https://w3id.org/hto/Edition/9910796233804340       20   \n177581   https://w3id.org/hto/Edition/997902543804341       14   \n177582  https://w3id.org/hto/Edition/9910796273804340        8   \n\n                                                vol_title         genre  \\\n0                       Fifth edition, Volume 11, HYD-LIE  encyclopedia   \n1                        Third edition, Volume 7, ETM-GOA  encyclopedia   \n2       Eighth edition, Volume 6, Burning glasses-Climate  encyclopedia   \n3                         Second edition, Volume 1, A-AST  encyclopedia   \n4                Fourth edition, Volume 8 Part 1, ELE-FAI  encyclopedia   \n...                                                   ...           ...   \n177578  Supplement to the fourth, fifth and sixth edit...  encyclopedia   \n177579             Seventh edition, Volume 8, DIA-England  encyclopedia   \n177580          Fourth edition, Volume 20 Part 1, SUI-THE  encyclopedia   \n177581                  Third edition, Volume 14, PAS-PLA  encyclopedia   \n177582             Seventh edition, Volume 8, DIA-England  encyclopedia   \n\n       print_location  year_published  edition_num  \\\n0           Edinburgh            1815          5.0   \n1           Edinburgh            1797          3.0   \n2           Edinburgh            1853          8.0   \n3           Edinburgh            1778          2.0   \n4           Edinburgh            1810          4.0   \n...               ...             ...          ...   \n177578      Edinburgh            1824          NaN   \n177579      Edinburgh            1842          7.0   \n177580      Edinburgh            1810          4.0   \n177581      Edinburgh            1797          3.0   \n177582      Edinburgh            1842          7.0   \n\n                                                 term_uri  note  \\\n0       https://w3id.org/hto/ArticleTermRecord/9922270...  None   \n1       https://w3id.org/hto/ArticleTermRecord/9979025...  None   \n2       https://w3id.org/hto/ArticleTermRecord/9929777...  None   \n3       https://w3id.org/hto/ArticleTermRecord/9979025...  None   \n4       https://w3id.org/hto/ArticleTermRecord/9910796...  None   \n...                                                   ...   ...   \n177578  https://w3id.org/hto/TopicTermRecord/991079637...  None   \n177579  https://w3id.org/hto/TopicTermRecord/991079627...  None   \n177580  https://w3id.org/hto/TopicTermRecord/991079623...  None   \n177581  https://w3id.org/hto/TopicTermRecord/997902543...  None   \n177582  https://w3id.org/hto/TopicTermRecord/991079627...  None   \n\n                                              description  \\\n0       in antiquity, a kind of mournful song, used up...   \n1       among miners, signifies a piece of earth it wh...   \n2       Pietro, the Roman school, who was by Giotto, w...   \n3       in antiquity, a denomination given to the sena...   \n4       a French term, sometimes life authors to denot...   \n...                                                   ...   \n177578  Enwology.and those with sheathed wings; he obs...   \n177579  > EGYPT. 459 vpt. to illustrate the history, l...   \n177580  ^Conftruc^ a=: S7r~ and we go at > after divid...   \n177581  PIN of pine.trecj, which in common languages w...   \n177582  in commerce, a stuff sometimes all wool, and s...   \n\n                                          description_uri  \\\n0       https://w3id.org/hto/OriginalDescription/99222...   \n1       https://w3id.org/hto/OriginalDescription/99790...   \n2       https://w3id.org/hto/OriginalDescription/99297...   \n3       https://w3id.org/hto/OriginalDescription/99790...   \n4       https://w3id.org/hto/OriginalDescription/99107...   \n...                                                   ...   \n177578  https://w3id.org/hto/OriginalDescription/99107...   \n177579  https://w3id.org/hto/OriginalDescription/99107...   \n177580  https://w3id.org/hto/OriginalDescription/99107...   \n177581  https://w3id.org/hto/OriginalDescription/99790...   \n177582  https://w3id.org/hto/OriginalDescription/99107...   \n\n                                                  summary   term_name  \\\n0                                                    None     JALEMUS   \n1                                                    None       GLEBE   \n2                                                    None   CAVALLINI   \n3                                                    None    JEINATTE   \n4                                                    None      ESCORT   \n...                                                   ...         ...   \n177578  The modifications in the form of the antennas ...  ENTOMOLOGY   \n177579  and Age of the Monarch determined.—His Charact...        DCTT   \n177580  ^Conftruc^ a=: S7r~ and we go at > after divid...      TRICON   \n177581  PIN of pine.trecj, which in common languages w...    PIONEERS   \n177582  in commerce, a stuff sometimes all wool, and s...     DRUGGET   \n\n       term_type  start_page_num  end_page_num alter_names  \\\n0        Article              32            32          []   \n1        Article             862           862          []   \n2        Article             354           354          []   \n3        Article             117           117          []   \n4        Article             351           351          []   \n...          ...             ...           ...         ...   \n177578     Topic             267           291          []   \n177579     Topic             469           469          []   \n177580     Topic              91            92          []   \n177581     Topic             795           800          []   \n177582     Topic             212           213          []   \n\n                                          reference_terms supplements_to  \\\n0                                                      []             []   \n1                                                      []             []   \n2                                                      []             []   \n3                                                      []             []   \n4                                                      []             []   \n...                                                   ...            ...   \n177578                                                 []      [6, 4, 5]   \n177579                                                 []             []   \n177580  [{'uri': 'https://w3id.org/hto/ArticleTermReco...             []   \n177581                                                 []             []   \n177582                                                 []             []   \n\n                                                embedding  \n0       [0.0667808577, -0.1191483587, 0.0258066095, -0...  \n1       [-0.0055958461, -0.0707782134, 0.0171438232, 0...  \n2       [-0.0121824667, 0.0402460583, 0.00665577360000...  \n3       [0.0032457884, -0.0179126002, -0.0030581676000...  \n4       [0.0191970598, -0.026992561300000002, 0.029633...  \n...                                                   ...  \n177578  [0.0345440656, 0.0038321146, 0.0129572209, -0....  \n177579  [0.0283674542, 0.0216944125, -0.0273680091, -0...  \n177580  [-0.017611675, -0.1025323346, -0.0331101865, 0...  \n177581  [-0.007840358700000001, 0.0051432806, -0.00761...  \n177582  [-0.0014164502000000002, -0.07159514730000001,...  \n\n[177583 rows x 20 columns]",
      "text/html": "<div>\n<style scoped>\n    .dataframe tbody tr th:only-of-type {\n        vertical-align: middle;\n    }\n\n    .dataframe tbody tr th {\n        vertical-align: top;\n    }\n\n    .dataframe thead th {\n        text-align: right;\n    }\n</style>\n<table border=\"1\" class=\"dataframe\">\n  <thead>\n    <tr style=\"text-align: right;\">\n      <th></th>\n      <th>edition_uri</th>\n      <th>vol_num</th>\n      <th>vol_title</th>\n      <th>genre</th>\n      <th>print_location</th>\n      <th>year_published</th>\n      <th>edition_num</th>\n      <th>term_uri</th>\n      <th>note</th>\n      <th>description</th>\n      <th>description_uri</th>\n      <th>summary</th>\n      <th>term_name</th>\n      <th>term_type</th>\n      <th>start_page_num</th>\n      <th>end_page_num</th>\n      <th>alter_names</th>\n      <th>reference_terms</th>\n      <th>supplements_to</th>\n      <th>embedding</th>\n    </tr>\n  </thead>\n  <tbody>\n    <tr>\n      <th>0</th>\n      <td>https://w3id.org/hto/Edition/9922270543804340</td>\n      <td>11</td>\n      <td>Fifth edition, Volume 11, HYD-LIE</td>\n      <td>encyclopedia</td>\n      <td>Edinburgh</td>\n      <td>1815</td>\n      <td>5.0</td>\n      <td>https://w3id.org/hto/ArticleTermRecord/9922270...</td>\n      <td>None</td>\n      <td>in antiquity, a kind of mournful song, used up...</td>\n      <td>https://w3id.org/hto/OriginalDescription/99222...</td>\n      <td>None</td>\n      <td>JALEMUS</td>\n      <td>Article</td>\n      <td>32</td>\n      <td>32</td>\n      <td>[]</td>\n      <td>[]</td>\n      <td>[]</td>\n      <td>[0.0667808577, -0.1191483587, 0.0258066095, -0...</td>\n    </tr>\n    <tr>\n      <th>1</th>\n      <td>https://w3id.org/hto/Edition/997902543804341</td>\n      <td>7</td>\n      <td>Third edition, Volume 7, ETM-GOA</td>\n      <td>encyclopedia</td>\n      <td>Edinburgh</td>\n      <td>1797</td>\n      <td>3.0</td>\n      <td>https://w3id.org/hto/ArticleTermRecord/9979025...</td>\n      <td>None</td>\n      <td>among miners, signifies a piece of earth it wh...</td>\n      <td>https://w3id.org/hto/OriginalDescription/99790...</td>\n      <td>None</td>\n      <td>GLEBE</td>\n      <td>Article</td>\n      <td>862</td>\n      <td>862</td>\n      <td>[]</td>\n      <td>[]</td>\n      <td>[]</td>\n      <td>[-0.0055958461, -0.0707782134, 0.0171438232, 0...</td>\n    </tr>\n    <tr>\n      <th>2</th>\n      <td>https://w3id.org/hto/Edition/9929777383804340</td>\n      <td>6</td>\n      <td>Eighth edition, Volume 6, Burning glasses-Climate</td>\n      <td>encyclopedia</td>\n      <td>Edinburgh</td>\n      <td>1853</td>\n      <td>8.0</td>\n      <td>https://w3id.org/hto/ArticleTermRecord/9929777...</td>\n      <td>None</td>\n      <td>Pietro, the Roman school, who was by Giotto, w...</td>\n      <td>https://w3id.org/hto/OriginalDescription/99297...</td>\n      <td>None</td>\n      <td>CAVALLINI</td>\n      <td>Article</td>\n      <td>354</td>\n      <td>354</td>\n      <td>[]</td>\n      <td>[]</td>\n      <td>[]</td>\n      <td>[-0.0121824667, 0.0402460583, 0.00665577360000...</td>\n    </tr>\n    <tr>\n      <th>3</th>\n      <td>https://w3id.org/hto/Edition/997902523804341</td>\n      <td>1</td>\n      <td>Second edition, Volume 1, A-AST</td>\n      <td>encyclopedia</td>\n      <td>Edinburgh</td>\n      <td>1778</td>\n      <td>2.0</td>\n      <td>https://w3id.org/hto/ArticleTermRecord/9979025...</td>\n      <td>None</td>\n      <td>in antiquity, a denomination given to the sena...</td>\n      <td>https://w3id.org/hto/OriginalDescription/99790...</td>\n      <td>None</td>\n      <td>JEINATTE</td>\n      <td>Article</td>\n      <td>117</td>\n      <td>117</td>\n      <td>[]</td>\n      <td>[]</td>\n      <td>[]</td>\n      <td>[0.0032457884, -0.0179126002, -0.0030581676000...</td>\n    </tr>\n    <tr>\n      <th>4</th>\n      <td>https://w3id.org/hto/Edition/9910796233804340</td>\n      <td>8</td>\n      <td>Fourth edition, Volume 8 Part 1, ELE-FAI</td>\n      <td>encyclopedia</td>\n      <td>Edinburgh</td>\n      <td>1810</td>\n      <td>4.0</td>\n      <td>https://w3id.org/hto/ArticleTermRecord/9910796...</td>\n      <td>None</td>\n      <td>a French term, sometimes life authors to denot...</td>\n      <td>https://w3id.org/hto/OriginalDescription/99107...</td>\n      <td>None</td>\n      <td>ESCORT</td>\n      <td>Article</td>\n      <td>351</td>\n      <td>351</td>\n      <td>[]</td>\n      <td>[]</td>\n      <td>[]</td>\n      <td>[0.0191970598, -0.026992561300000002, 0.029633...</td>\n    </tr>\n    <tr>\n      <th>...</th>\n      <td>...</td>\n      <td>...</td>\n      <td>...</td>\n      <td>...</td>\n      <td>...</td>\n      <td>...</td>\n      <td>...</td>\n      <td>...</td>\n      <td>...</td>\n      <td>...</td>\n      <td>...</td>\n      <td>...</td>\n      <td>...</td>\n      <td>...</td>\n      <td>...</td>\n      <td>...</td>\n      <td>...</td>\n      <td>...</td>\n      <td>...</td>\n      <td>...</td>\n    </tr>\n    <tr>\n      <th>177578</th>\n      <td>https://w3id.org/hto/Edition/9910796373804340</td>\n      <td>4</td>\n      <td>Supplement to the fourth, fifth and sixth edit...</td>\n      <td>encyclopedia</td>\n      <td>Edinburgh</td>\n      <td>1824</td>\n      <td>NaN</td>\n      <td>https://w3id.org/hto/TopicTermRecord/991079637...</td>\n      <td>None</td>\n      <td>Enwology.and those with sheathed wings; he obs...</td>\n      <td>https://w3id.org/hto/OriginalDescription/99107...</td>\n      <td>The modifications in the form of the antennas ...</td>\n      <td>ENTOMOLOGY</td>\n      <td>Topic</td>\n      <td>267</td>\n      <td>291</td>\n      <td>[]</td>\n      <td>[]</td>\n      <td>[6, 4, 5]</td>\n      <td>[0.0345440656, 0.0038321146, 0.0129572209, -0....</td>\n    </tr>\n    <tr>\n      <th>177579</th>\n      <td>https://w3id.org/hto/Edition/9910796273804340</td>\n      <td>8</td>\n      <td>Seventh edition, Volume 8, DIA-England</td>\n      <td>encyclopedia</td>\n      <td>Edinburgh</td>\n      <td>1842</td>\n      <td>7.0</td>\n      <td>https://w3id.org/hto/TopicTermRecord/991079627...</td>\n      <td>None</td>\n      <td>&gt; EGYPT. 459 vpt. to illustrate the history, l...</td>\n      <td>https://w3id.org/hto/OriginalDescription/99107...</td>\n      <td>and Age of the Monarch determined.—His Charact...</td>\n      <td>DCTT</td>\n      <td>Topic</td>\n      <td>469</td>\n      <td>469</td>\n      <td>[]</td>\n      <td>[]</td>\n      <td>[]</td>\n      <td>[0.0283674542, 0.0216944125, -0.0273680091, -0...</td>\n    </tr>\n    <tr>\n      <th>177580</th>\n      <td>https://w3id.org/hto/Edition/9910796233804340</td>\n      <td>20</td>\n      <td>Fourth edition, Volume 20 Part 1, SUI-THE</td>\n      <td>encyclopedia</td>\n      <td>Edinburgh</td>\n      <td>1810</td>\n      <td>4.0</td>\n      <td>https://w3id.org/hto/TopicTermRecord/991079623...</td>\n      <td>None</td>\n      <td>^Conftruc^ a=: S7r~ and we go at &gt; after divid...</td>\n      <td>https://w3id.org/hto/OriginalDescription/99107...</td>\n      <td>^Conftruc^ a=: S7r~ and we go at &gt; after divid...</td>\n      <td>TRICON</td>\n      <td>Topic</td>\n      <td>91</td>\n      <td>92</td>\n      <td>[]</td>\n      <td>[{'uri': 'https://w3id.org/hto/ArticleTermReco...</td>\n      <td>[]</td>\n      <td>[-0.017611675, -0.1025323346, -0.0331101865, 0...</td>\n    </tr>\n    <tr>\n      <th>177581</th>\n      <td>https://w3id.org/hto/Edition/997902543804341</td>\n      <td>14</td>\n      <td>Third edition, Volume 14, PAS-PLA</td>\n      <td>encyclopedia</td>\n      <td>Edinburgh</td>\n      <td>1797</td>\n      <td>3.0</td>\n      <td>https://w3id.org/hto/TopicTermRecord/997902543...</td>\n      <td>None</td>\n      <td>PIN of pine.trecj, which in common languages w...</td>\n      <td>https://w3id.org/hto/OriginalDescription/99790...</td>\n      <td>PIN of pine.trecj, which in common languages w...</td>\n      <td>PIONEERS</td>\n      <td>Topic</td>\n      <td>795</td>\n      <td>800</td>\n      <td>[]</td>\n      <td>[]</td>\n      <td>[]</td>\n      <td>[-0.007840358700000001, 0.0051432806, -0.00761...</td>\n    </tr>\n    <tr>\n      <th>177582</th>\n      <td>https://w3id.org/hto/Edition/9910796273804340</td>\n      <td>8</td>\n      <td>Seventh edition, Volume 8, DIA-England</td>\n      <td>encyclopedia</td>\n      <td>Edinburgh</td>\n      <td>1842</td>\n      <td>7.0</td>\n      <td>https://w3id.org/hto/TopicTermRecord/991079627...</td>\n      <td>None</td>\n      <td>in commerce, a stuff sometimes all wool, and s...</td>\n      <td>https://w3id.org/hto/OriginalDescription/99107...</td>\n      <td>in commerce, a stuff sometimes all wool, and s...</td>\n      <td>DRUGGET</td>\n      <td>Topic</td>\n      <td>212</td>\n      <td>213</td>\n      <td>[]</td>\n      <td>[]</td>\n      <td>[]</td>\n      <td>[-0.0014164502000000002, -0.07159514730000001,...</td>\n    </tr>\n  </tbody>\n</table>\n<p>177583 rows × 20 columns</p>\n</div>"
     },
     "execution_count": 1,
     "metadata": {},
     "output_type": "execute_result"
    }
   ],
   "source": [
    "import math\n",
    "# Load eb kg dataframe\n",
    "import pandas as pd\n",
    "eb_kg_df = pd.read_json(\"../eb_kg_hq_with_embeddings_dataframe\", orient=\"index\")\n",
    "eb_kg_df"
   ],
   "metadata": {
    "collapsed": false
   }
  },
  {
   "cell_type": "markdown",
   "source": [
    "## Group terms into concepts"
   ],
   "metadata": {
    "collapsed": false
   }
  },
  {
   "cell_type": "code",
   "execution_count": 2,
   "outputs": [
    {
     "data": {
      "text/plain": "array(['JALEMUS', 'GLEBE', 'CAVALLINI', ..., 'LATV', 'GERG', 'DCTT'],\n      dtype=object)"
     },
     "execution_count": 2,
     "metadata": {},
     "output_type": "execute_result"
    }
   ],
   "source": [
    "# Get all distinct term names\n",
    "term_names = eb_kg_df[\"term_name\"].unique()\n",
    "term_names"
   ],
   "metadata": {
    "collapsed": false
   }
  },
  {
   "cell_type": "code",
   "execution_count": 41,
   "outputs": [],
   "source": [
    "eb_kg_df[\"concept_uri\"] = None"
   ],
   "metadata": {
    "collapsed": false
   }
  },
  {
   "cell_type": "code",
   "execution_count": 4,
   "outputs": [],
   "source": [
    "from sklearn.metrics.pairwise import cosine_similarity\n",
    "def get_similar_terms_grouped_by_years_sorted_by_score(df):\n",
    "    \"\"\"\n",
    "    This function will calculate the cosine similarities based on the embeddings in the dataframe, sort the scores and group the result by the year when the record is published.\n",
    "    :param df: input dataframe, which contain the embedding for each term, and year published information\n",
    "    :return: {\n",
    "        df_index: {\n",
    "            1771: [\n",
    "                {\n",
    "                    \"index\": <dataframe index of the similar term>,\n",
    "                    \"score\": <cosine similarity score>\n",
    "                }, ...\n",
    "            ],\n",
    "            1815: [\n",
    "            ],....\n",
    "        },\n",
    "        ......\n",
    "    }\n",
    "    \"\"\"\n",
    "    embeddings = df[\"embedding\"].values.tolist()\n",
    "    indices = df.index\n",
    "    similarities=cosine_similarity(embeddings, embeddings)\n",
    "    similarities_sorted = similarities.argsort()\n",
    "    result = {}\n",
    "    for i in range(len(similarities_sorted)):\n",
    "        for j in similarities_sorted[i][::-1]:\n",
    "            year = df.loc[indices[j], \"year_published\"]\n",
    "            sim_info = {\n",
    "                    \"index\": indices[j],\n",
    "                    \"score\": similarities[i][j]\n",
    "                }\n",
    "            if indices[i] not in result:\n",
    "                result[indices[i]] = {}\n",
    "                result[indices[i]][year] = [sim_info]\n",
    "            else:\n",
    "                if year in result[indices[i]]:\n",
    "                    result[indices[i]][year].append(sim_info)\n",
    "                else:\n",
    "                    result[indices[i]][year] = [sim_info]\n",
    "\n",
    "    return result"
   ],
   "metadata": {
    "collapsed": false
   }
  },
  {
   "cell_type": "code",
   "execution_count": 42,
   "outputs": [
    {
     "name": "stdout",
     "output_type": "stream",
     "text": [
      "[1797, 1810, 1815, 1823, 1842]\n",
      "processing terms JALEMUS in 1797 \n",
      "linking term with index 75433 with other terms across years\n",
      "year: 1810, term {'index': 169876, 'score': 0.8221958914473327} is linked\n",
      "year: 1815, term {'index': 0, 'score': 0.8772943130567592} is linked\n",
      "year: 1823, term {'index': 143547, 'score': 0.7765352175988391} is linked\n",
      "year: 1842, term {'index': 99448, 'score': 0.8602911416885433} is linked\n",
      "processing terms JALEMUS in 1810 \n",
      "linking term with index 169876 with other terms across years\n",
      "same concept uri\n",
      "year: 1815, term {'index': 0, 'score': 0.847553290689463} is skipped, because it is linked already\n",
      "same concept uri\n",
      "year: 1823, term {'index': 143547, 'score': 0.7524103150375007} is skipped, because it is linked already\n",
      "same concept uri\n",
      "year: 1842, term {'index': 99448, 'score': 0.831713609751644} is skipped, because it is linked already\n",
      "processing terms JALEMUS in 1815 \n",
      "linking term with index 0 with other terms across years\n",
      "same concept uri\n",
      "year: 1823, term {'index': 143547, 'score': 0.8148748575742857} is skipped, because it is linked already\n",
      "same concept uri\n",
      "year: 1842, term {'index': 99448, 'score': 0.9174686934632074} is skipped, because it is linked already\n",
      "processing terms JALEMUS in 1823 \n",
      "linking term with index 143547 with other terms across years\n",
      "same concept uri\n",
      "year: 1842, term {'index': 99448, 'score': 0.8348359882370455} is skipped, because it is linked already\n",
      "processing terms JALEMUS in 1842 \n",
      "linking term with index 99448 with other terms across years\n",
      "[1771, 1797, 1810, 1823, 1842, 1853]\n",
      "processing terms GLEBE in 1771 \n",
      "linking term with index 52018 with other terms across years\n",
      "year: 1797, term {'index': 1, 'score': 0.4209315797535594} is skipped, because it is not quite similar\n",
      "year: 1810, term {'index': 15336, 'score': 0.49362991673146894} is skipped, because it is not quite similar\n",
      "year: 1823, term {'index': 144909, 'score': 0.49703161471826857} is skipped, because it is not quite similar\n",
      "year: 1842, term {'index': 27519, 'score': 0.996390447144492} is linked\n",
      "year: 1853, term {'index': 47156, 'score': 0.5221621432847118} is skipped, because it is not quite similar\n",
      "linking term with index 113539 with other terms across years\n",
      "year: 1797, term {'index': 1, 'score': 0.7917272692608499} is linked\n",
      "year: 1810, term {'index': 15336, 'score': 0.8198116693602403} is linked\n",
      "year: 1823, term {'index': 144909, 'score': 0.8234925348800933} is linked\n",
      "year: 1842, term {'index': 170769, 'score': 0.9266562180495066} is linked\n",
      "year: 1853, term {'index': 47156, 'score': 0.3582764678644855} is skipped, because it is not quite similar\n",
      "processing terms GLEBE in 1797 \n",
      "linking term with index 1 with other terms across years\n",
      "same concept uri\n",
      "year: 1810, term {'index': 15336, 'score': 0.9121729871697709} is skipped, because it is linked already\n",
      "same concept uri\n",
      "year: 1823, term {'index': 144909, 'score': 0.9158313532754776} is skipped, because it is linked already\n",
      "same concept uri\n",
      "year: 1842, term {'index': 170769, 'score': 0.8050038466245296} is skipped, because it is linked already\n",
      "year: 1853, term {'index': 47156, 'score': 0.5079198954643624} is skipped, because it is not quite similar\n",
      "processing terms GLEBE in 1810 \n",
      "linking term with index 15336 with other terms across years\n",
      "same concept uri\n",
      "year: 1823, term {'index': 144909, 'score': 0.980758960269434} is skipped, because it is linked already\n",
      "same concept uri\n",
      "year: 1842, term {'index': 170769, 'score': 0.8281342861002903} is skipped, because it is linked already\n",
      "year: 1853, term {'index': 47156, 'score': 0.5161924551705954} is skipped, because it is not quite similar\n",
      "processing terms GLEBE in 1823 \n",
      "linking term with index 144909 with other terms across years\n",
      "same concept uri\n",
      "year: 1842, term {'index': 170769, 'score': 0.8146583744695257} is skipped, because it is linked already\n",
      "year: 1853, term {'index': 47156, 'score': 0.4998992926922286} is skipped, because it is not quite similar\n",
      "processing terms GLEBE in 1842 \n",
      "linking term with index 27519 with other terms across years\n",
      "year: 1853, term {'index': 47156, 'score': 0.5094334105717532} is skipped, because it is not quite similar\n",
      "linking term with index 170769 with other terms across years\n",
      "year: 1853, term {'index': 47156, 'score': 0.3876274980231973} is skipped, because it is not quite similar\n",
      "processing terms GLEBE in 1853 \n",
      "linking term with index 47156 with other terms across years\n",
      "[1853]\n",
      "processing terms CAVALLINI in 1853 \n",
      "linking term with index 2 with other terms across years\n",
      "[1778]\n",
      "processing terms JEINATTE in 1778 \n",
      "linking term with index 3 with other terms across years\n",
      "[1797, 1810, 1815, 1823]\n",
      "processing terms ESCORT in 1797 \n",
      "linking term with index 20216 with other terms across years\n",
      "year: 1810, term {'index': 4, 'score': 0.6234840553812842} is skipped, because it is not quite similar\n",
      "year: 1815, term {'index': 141164, 'score': 0.7212302650805364} is linked\n",
      "year: 1823, term {'index': 17013, 'score': 0.7335916179955627} is linked\n",
      "processing terms ESCORT in 1810 \n",
      "linking term with index 4 with other terms across years\n",
      "replace the concept uri to the one same with {'index': 141164, 'score': 0.8817153327339444}\n",
      "same concept uri\n",
      "year: 1823, term {'index': 17013, 'score': 0.8678778031306351} is skipped, because it is linked already\n",
      "processing terms ESCORT in 1815 \n",
      "linking term with index 141164 with other terms across years\n",
      "same concept uri\n",
      "year: 1823, term {'index': 17013, 'score': 0.9931437758371569} is skipped, because it is linked already\n",
      "processing terms ESCORT in 1823 \n",
      "linking term with index 17013 with other terms across years\n",
      "[1778, 1810, 1815, 1823, 1842]\n",
      "processing terms HEBRON in 1778 \n",
      "linking term with index 21780 with other terms across years\n",
      "year: 1810, term {'index': 145722, 'score': 0.6552311518777315} is skipped, because it is not quite similar\n",
      "year: 1815, term {'index': 12176, 'score': 0.6897156031979315} is skipped, because it is not quite similar\n",
      "year: 1823, term {'index': 5, 'score': 0.6612034507147727} is skipped, because it is not quite similar\n",
      "year: 1842, term {'index': 139879, 'score': 0.6332224437605101} is skipped, because it is not quite similar\n",
      "processing terms HEBRON in 1810 \n",
      "linking term with index 145722 with other terms across years\n",
      "year: 1815, term {'index': 12176, 'score': 0.9517191424491074} is linked\n",
      "year: 1823, term {'index': 5, 'score': 0.946237886607149} is linked\n",
      "year: 1842, term {'index': 139879, 'score': 0.5949543418771089} is skipped, because it is not quite similar\n",
      "processing terms HEBRON in 1815 \n",
      "linking term with index 12176 with other terms across years\n",
      "same concept uri\n",
      "year: 1823, term {'index': 5, 'score': 0.983503130523981} is skipped, because it is linked already\n",
      "year: 1842, term {'index': 139879, 'score': 0.6113442070374928} is skipped, because it is not quite similar\n",
      "processing terms HEBRON in 1823 \n",
      "linking term with index 5 with other terms across years\n",
      "year: 1842, term {'index': 139879, 'score': 0.594608913552197} is skipped, because it is not quite similar\n",
      "processing terms HEBRON in 1842 \n",
      "linking term with index 139879 with other terms across years\n",
      "[1778, 1797, 1810, 1815, 1823, 1842]\n",
      "processing terms ISSUE in 1778 \n",
      "linking term with index 30631 with other terms across years\n",
      "year: 1797, term {'index': 148653, 'score': 0.6034039659599665} is skipped, because it is not quite similar\n",
      "year: 1810, term {'index': 47279, 'score': 0.5929048214600555} is skipped, because it is not quite similar\n",
      "year: 1815, term {'index': 22807, 'score': 0.5291805681762454} is skipped, because it is not quite similar\n",
      "year: 1823, term {'index': 6, 'score': 0.560764454867224} is skipped, because it is not quite similar\n",
      "year: 1842, term {'index': 46313, 'score': 0.5761524112429787} is skipped, because it is not quite similar\n",
      "linking term with index 115665 with other terms across years\n",
      "year: 1797, term {'index': 148653, 'score': 0.44097193954779124} is skipped, because it is not quite similar\n",
      "year: 1810, term {'index': 47279, 'score': 0.43337990855413955} is skipped, because it is not quite similar\n",
      "year: 1815, term {'index': 22807, 'score': 0.4500110511375404} is skipped, because it is not quite similar\n",
      "year: 1823, term {'index': 6, 'score': 0.4413899847306916} is skipped, because it is not quite similar\n",
      "year: 1842, term {'index': 46313, 'score': 0.4181090591895649} is skipped, because it is not quite similar\n",
      "processing terms ISSUE in 1797 \n",
      "linking term with index 148653 with other terms across years\n",
      "year: 1810, term {'index': 47279, 'score': 0.9363872768558202} is linked\n",
      "year: 1815, term {'index': 22807, 'score': 0.9386967796689747} is linked\n",
      "year: 1823, term {'index': 6, 'score': 0.9265265567065335} is linked\n",
      "year: 1842, term {'index': 46313, 'score': 0.9148674278767548} is linked\n",
      "processing terms ISSUE in 1810 \n",
      "linking term with index 47279 with other terms across years\n",
      "same concept uri\n",
      "year: 1815, term {'index': 22807, 'score': 0.917779467726501} is skipped, because it is linked already\n",
      "same concept uri\n",
      "year: 1823, term {'index': 6, 'score': 0.9256118375501587} is skipped, because it is linked already\n",
      "same concept uri\n",
      "year: 1842, term {'index': 46313, 'score': 0.90004255739673} is skipped, because it is linked already\n",
      "processing terms ISSUE in 1815 \n",
      "linking term with index 22807 with other terms across years\n",
      "same concept uri\n",
      "year: 1823, term {'index': 6, 'score': 0.972551233480679} is skipped, because it is linked already\n",
      "same concept uri\n",
      "year: 1842, term {'index': 46313, 'score': 0.9151441281926579} is skipped, because it is linked already\n",
      "processing terms ISSUE in 1823 \n",
      "linking term with index 6 with other terms across years\n",
      "same concept uri\n",
      "year: 1842, term {'index': 46313, 'score': 0.921510893461589} is skipped, because it is linked already\n",
      "processing terms ISSUE in 1842 \n",
      "linking term with index 46313 with other terms across years\n",
      "[1842]\n",
      "processing terms DLNDEE in 1842 \n",
      "linking term with index 7 with other terms across years\n",
      "[1773, 1778, 1797, 1815, 1842, 1853]\n",
      "processing terms FURCHE in 1773 \n",
      "linking term with index 154311 with other terms across years\n",
      "year: 1778, term {'index': 8, 'score': 0.9999999999999996} is linked\n",
      "year: 1797, term {'index': 138860, 'score': 0.9466647234629645} is linked\n",
      "year: 1815, term {'index': 7871, 'score': 0.9466647234629645} is linked\n",
      "year: 1842, term {'index': 42721, 'score': 0.999999999999748} is linked\n",
      "year: 1853, term {'index': 136146, 'score': 0.8722913077226935} is linked\n",
      "processing terms FURCHE in 1778 \n",
      "linking term with index 8 with other terms across years\n",
      "same concept uri\n",
      "year: 1797, term {'index': 138860, 'score': 0.9466647234629645} is skipped, because it is linked already\n",
      "same concept uri\n",
      "year: 1815, term {'index': 7871, 'score': 0.9466647234629645} is skipped, because it is linked already\n",
      "same concept uri\n",
      "year: 1842, term {'index': 42721, 'score': 0.999999999999748} is skipped, because it is linked already\n",
      "same concept uri\n",
      "year: 1853, term {'index': 136146, 'score': 0.8722913077226935} is skipped, because it is linked already\n",
      "processing terms FURCHE in 1797 \n",
      "linking term with index 138860 with other terms across years\n",
      "same concept uri\n",
      "year: 1815, term {'index': 7871, 'score': 1.0} is skipped, because it is linked already\n",
      "same concept uri\n",
      "year: 1842, term {'index': 42721, 'score': 0.9466646756786781} is skipped, because it is linked already\n",
      "same concept uri\n",
      "year: 1853, term {'index': 136146, 'score': 0.9088059990440442} is skipped, because it is linked already\n",
      "processing terms FURCHE in 1815 \n",
      "linking term with index 7871 with other terms across years\n",
      "same concept uri\n",
      "year: 1842, term {'index': 42721, 'score': 0.9466646756786781} is skipped, because it is linked already\n",
      "same concept uri\n",
      "year: 1853, term {'index': 136146, 'score': 0.9088059990440442} is skipped, because it is linked already\n",
      "processing terms FURCHE in 1842 \n",
      "linking term with index 42721 with other terms across years\n",
      "same concept uri\n",
      "year: 1853, term {'index': 136146, 'score': 0.872291259079313} is skipped, because it is linked already\n",
      "processing terms FURCHE in 1853 \n",
      "linking term with index 136146 with other terms across years\n",
      "[1810, 1815, 1823]\n",
      "processing terms NAKOUS in 1810 \n",
      "linking term with index 9 with other terms across years\n",
      "year: 1815, term {'index': 112602, 'score': 0.9247745338075077} is linked\n",
      "year: 1823, term {'index': 75195, 'score': 0.8916126554536938} is linked\n",
      "processing terms NAKOUS in 1815 \n",
      "linking term with index 112602 with other terms across years\n",
      "same concept uri\n",
      "year: 1823, term {'index': 75195, 'score': 0.9655608237178946} is skipped, because it is linked already\n",
      "processing terms NAKOUS in 1823 \n",
      "linking term with index 75195 with other terms across years\n"
     ]
    }
   ],
   "source": [
    "\n",
    "for term_name in term_names[0:10]:\n",
    "    # all terms with term_name\n",
    "    terms_df = eb_kg_df[eb_kg_df[\"term_name\"] == term_name]\n",
    "    years = terms_df[\"year_published\"].unique().tolist()\n",
    "    years.sort()\n",
    "    print(years)\n",
    "    concept_count = 0\n",
    "    similarities = get_similar_terms_grouped_by_years_sorted_by_score(terms_df)\n",
    "    # generate id for the concept\n",
    "    concept_id = str(terms_df[\"term_uri\"].values.tolist()[0]).split(\"/\")[-1].split(\"_\")[-2]\n",
    "    for year_index in range(len(years)):\n",
    "        year = years[year_index]\n",
    "        print(f\"processing terms {term_name} in {year} \")\n",
    "        # all terms with term_name and the year\n",
    "        terms_year_df = terms_df[terms_df[\"year_published\"] == year]\n",
    "        for index, row in terms_year_df.iterrows():\n",
    "            print(f\"linking term with index {index} with other terms across years\")\n",
    "            #print(f\"description of the term: {row['description']}\")\n",
    "            concept_uri = eb_kg_df.loc[index, \"concept_uri\"]\n",
    "            if concept_uri is None:\n",
    "                concept_count += 1\n",
    "                concept_uri = \"https://w3id.org/hto/Concept/\" + str(concept_id) + \"_\" + str(concept_count)\n",
    "                eb_kg_df.loc[index, \"concept_uri\"] = concept_uri\n",
    "\n",
    "            # find most similar terms in each following years\n",
    "            similarity_threshold = 0.7\n",
    "            for f_year_index in years[year_index + 1:]:\n",
    "                most_similar_term = similarities[index][f_year_index][0]\n",
    "                score = most_similar_term[\"score\"]\n",
    "                similar_term_index = most_similar_term[\"index\"]\n",
    "                # skip if there is concept uri linked to it already, or the score is below the threshold, or there is another term in this year is more similar the most_similar_term\n",
    "                if score > similarity_threshold:\n",
    "                    if eb_kg_df.loc[similar_term_index, \"concept_uri\"] is None:\n",
    "                        if similarities[similar_term_index][year][0][\"index\"] == index:\n",
    "                            eb_kg_df.loc[similar_term_index, \"concept_uri\"] = concept_uri\n",
    "                            print(f\"year: {f_year_index}, term {most_similar_term} is linked\")\n",
    "                        else:\n",
    "                            print(f\"year: {f_year_index}, term {most_similar_term} is skipped, because term {similarities[similar_term_index][year][0]['index']} is more similar to the most_similar_term\")\n",
    "                    else:\n",
    "                        if eb_kg_df.loc[similar_term_index, \"concept_uri\"] == concept_uri:\n",
    "                            print(\"same concept uri\")\n",
    "                            print(f\"year: {f_year_index}, term {most_similar_term} is skipped, because it is linked already\")\n",
    "                        else:\n",
    "                            # This is the solution when the link can't be made directly. e.g. escort: 1797-1815-1823， 1810-1815-2823,\n",
    "                            concept_uri = eb_kg_df.loc[similar_term_index, \"concept_uri\"]\n",
    "                            eb_kg_df.loc[index, \"concept_uri\"] = concept_uri\n",
    "                            print(f\"replace the concept uri to the one same with {most_similar_term}\")\n",
    "                else:\n",
    "                    print(f\"year: {f_year_index}, term {most_similar_term} is skipped, because it is not quite similar\")"
   ],
   "metadata": {
    "collapsed": false
   }
  },
  {
   "cell_type": "code",
   "execution_count": 43,
   "outputs": [
    {
     "data": {
      "text/plain": "                                          edition_uri  vol_num  \\\n0       https://w3id.org/hto/Edition/9922270543804340       11   \n1        https://w3id.org/hto/Edition/997902543804341        7   \n2       https://w3id.org/hto/Edition/9929777383804340        6   \n3        https://w3id.org/hto/Edition/997902523804341        1   \n4       https://w3id.org/hto/Edition/9910796233804340        8   \n...                                               ...      ...   \n177578  https://w3id.org/hto/Edition/9910796373804340        4   \n177579  https://w3id.org/hto/Edition/9910796273804340        8   \n177580  https://w3id.org/hto/Edition/9910796233804340       20   \n177581   https://w3id.org/hto/Edition/997902543804341       14   \n177582  https://w3id.org/hto/Edition/9910796273804340        8   \n\n                                                vol_title         genre  \\\n0                       Fifth edition, Volume 11, HYD-LIE  encyclopedia   \n1                        Third edition, Volume 7, ETM-GOA  encyclopedia   \n2       Eighth edition, Volume 6, Burning glasses-Climate  encyclopedia   \n3                         Second edition, Volume 1, A-AST  encyclopedia   \n4                Fourth edition, Volume 8 Part 1, ELE-FAI  encyclopedia   \n...                                                   ...           ...   \n177578  Supplement to the fourth, fifth and sixth edit...  encyclopedia   \n177579             Seventh edition, Volume 8, DIA-England  encyclopedia   \n177580          Fourth edition, Volume 20 Part 1, SUI-THE  encyclopedia   \n177581                  Third edition, Volume 14, PAS-PLA  encyclopedia   \n177582             Seventh edition, Volume 8, DIA-England  encyclopedia   \n\n       print_location  year_published  edition_num  \\\n0           Edinburgh            1815          5.0   \n1           Edinburgh            1797          3.0   \n2           Edinburgh            1853          8.0   \n3           Edinburgh            1778          2.0   \n4           Edinburgh            1810          4.0   \n...               ...             ...          ...   \n177578      Edinburgh            1824          NaN   \n177579      Edinburgh            1842          7.0   \n177580      Edinburgh            1810          4.0   \n177581      Edinburgh            1797          3.0   \n177582      Edinburgh            1842          7.0   \n\n                                                 term_uri  note  \\\n0       https://w3id.org/hto/ArticleTermRecord/9922270...  None   \n1       https://w3id.org/hto/ArticleTermRecord/9979025...  None   \n2       https://w3id.org/hto/ArticleTermRecord/9929777...  None   \n3       https://w3id.org/hto/ArticleTermRecord/9979025...  None   \n4       https://w3id.org/hto/ArticleTermRecord/9910796...  None   \n...                                                   ...   ...   \n177578  https://w3id.org/hto/TopicTermRecord/991079637...  None   \n177579  https://w3id.org/hto/TopicTermRecord/991079627...  None   \n177580  https://w3id.org/hto/TopicTermRecord/991079623...  None   \n177581  https://w3id.org/hto/TopicTermRecord/997902543...  None   \n177582  https://w3id.org/hto/TopicTermRecord/991079627...  None   \n\n                                              description  ...  \\\n0       in antiquity, a kind of mournful song, used up...  ...   \n1       among miners, signifies a piece of earth it wh...  ...   \n2       Pietro, the Roman school, who was by Giotto, w...  ...   \n3       in antiquity, a denomination given to the sena...  ...   \n4       a French term, sometimes life authors to denot...  ...   \n...                                                   ...  ...   \n177578  Enwology.and those with sheathed wings; he obs...  ...   \n177579  > EGYPT. 459 vpt. to illustrate the history, l...  ...   \n177580  ^Conftruc^ a=: S7r~ and we go at > after divid...  ...   \n177581  PIN of pine.trecj, which in common languages w...  ...   \n177582  in commerce, a stuff sometimes all wool, and s...  ...   \n\n                                                  summary   term_name  \\\n0                                                    None     JALEMUS   \n1                                                    None       GLEBE   \n2                                                    None   CAVALLINI   \n3                                                    None    JEINATTE   \n4                                                    None      ESCORT   \n...                                                   ...         ...   \n177578  The modifications in the form of the antennas ...  ENTOMOLOGY   \n177579  and Age of the Monarch determined.—His Charact...        DCTT   \n177580  ^Conftruc^ a=: S7r~ and we go at > after divid...      TRICON   \n177581  PIN of pine.trecj, which in common languages w...    PIONEERS   \n177582  in commerce, a stuff sometimes all wool, and s...     DRUGGET   \n\n       term_type start_page_num  end_page_num  alter_names  \\\n0        Article             32            32           []   \n1        Article            862           862           []   \n2        Article            354           354           []   \n3        Article            117           117           []   \n4        Article            351           351           []   \n...          ...            ...           ...          ...   \n177578     Topic            267           291           []   \n177579     Topic            469           469           []   \n177580     Topic             91            92           []   \n177581     Topic            795           800           []   \n177582     Topic            212           213           []   \n\n                                          reference_terms supplements_to  \\\n0                                                      []             []   \n1                                                      []             []   \n2                                                      []             []   \n3                                                      []             []   \n4                                                      []             []   \n...                                                   ...            ...   \n177578                                                 []      [6, 4, 5]   \n177579                                                 []             []   \n177580  [{'uri': 'https://w3id.org/hto/ArticleTermReco...             []   \n177581                                                 []             []   \n177582                                                 []             []   \n\n                                                embedding  \\\n0       [0.0667808577, -0.1191483587, 0.0258066095, -0...   \n1       [-0.0055958461, -0.0707782134, 0.0171438232, 0...   \n2       [-0.0121824667, 0.0402460583, 0.00665577360000...   \n3       [0.0032457884, -0.0179126002, -0.0030581676000...   \n4       [0.0191970598, -0.026992561300000002, 0.029633...   \n...                                                   ...   \n177578  [0.0345440656, 0.0038321146, 0.0129572209, -0....   \n177579  [0.0283674542, 0.0216944125, -0.0273680091, -0...   \n177580  [-0.017611675, -0.1025323346, -0.0331101865, 0...   \n177581  [-0.007840358700000001, 0.0051432806, -0.00761...   \n177582  [-0.0014164502000000002, -0.07159514730000001,...   \n\n                                      concept_uri  \n0       https://w3id.org/hto/Concept/1475160240_1  \n1       https://w3id.org/hto/Concept/2743363218_2  \n2       https://w3id.org/hto/Concept/8493321351_1  \n3       https://w3id.org/hto/Concept/2241879145_1  \n4       https://w3id.org/hto/Concept/4160462161_1  \n...                                           ...  \n177578                                       None  \n177579                                       None  \n177580                                       None  \n177581                                       None  \n177582                                       None  \n\n[177583 rows x 21 columns]",
      "text/html": "<div>\n<style scoped>\n    .dataframe tbody tr th:only-of-type {\n        vertical-align: middle;\n    }\n\n    .dataframe tbody tr th {\n        vertical-align: top;\n    }\n\n    .dataframe thead th {\n        text-align: right;\n    }\n</style>\n<table border=\"1\" class=\"dataframe\">\n  <thead>\n    <tr style=\"text-align: right;\">\n      <th></th>\n      <th>edition_uri</th>\n      <th>vol_num</th>\n      <th>vol_title</th>\n      <th>genre</th>\n      <th>print_location</th>\n      <th>year_published</th>\n      <th>edition_num</th>\n      <th>term_uri</th>\n      <th>note</th>\n      <th>description</th>\n      <th>...</th>\n      <th>summary</th>\n      <th>term_name</th>\n      <th>term_type</th>\n      <th>start_page_num</th>\n      <th>end_page_num</th>\n      <th>alter_names</th>\n      <th>reference_terms</th>\n      <th>supplements_to</th>\n      <th>embedding</th>\n      <th>concept_uri</th>\n    </tr>\n  </thead>\n  <tbody>\n    <tr>\n      <th>0</th>\n      <td>https://w3id.org/hto/Edition/9922270543804340</td>\n      <td>11</td>\n      <td>Fifth edition, Volume 11, HYD-LIE</td>\n      <td>encyclopedia</td>\n      <td>Edinburgh</td>\n      <td>1815</td>\n      <td>5.0</td>\n      <td>https://w3id.org/hto/ArticleTermRecord/9922270...</td>\n      <td>None</td>\n      <td>in antiquity, a kind of mournful song, used up...</td>\n      <td>...</td>\n      <td>None</td>\n      <td>JALEMUS</td>\n      <td>Article</td>\n      <td>32</td>\n      <td>32</td>\n      <td>[]</td>\n      <td>[]</td>\n      <td>[]</td>\n      <td>[0.0667808577, -0.1191483587, 0.0258066095, -0...</td>\n      <td>https://w3id.org/hto/Concept/1475160240_1</td>\n    </tr>\n    <tr>\n      <th>1</th>\n      <td>https://w3id.org/hto/Edition/997902543804341</td>\n      <td>7</td>\n      <td>Third edition, Volume 7, ETM-GOA</td>\n      <td>encyclopedia</td>\n      <td>Edinburgh</td>\n      <td>1797</td>\n      <td>3.0</td>\n      <td>https://w3id.org/hto/ArticleTermRecord/9979025...</td>\n      <td>None</td>\n      <td>among miners, signifies a piece of earth it wh...</td>\n      <td>...</td>\n      <td>None</td>\n      <td>GLEBE</td>\n      <td>Article</td>\n      <td>862</td>\n      <td>862</td>\n      <td>[]</td>\n      <td>[]</td>\n      <td>[]</td>\n      <td>[-0.0055958461, -0.0707782134, 0.0171438232, 0...</td>\n      <td>https://w3id.org/hto/Concept/2743363218_2</td>\n    </tr>\n    <tr>\n      <th>2</th>\n      <td>https://w3id.org/hto/Edition/9929777383804340</td>\n      <td>6</td>\n      <td>Eighth edition, Volume 6, Burning glasses-Climate</td>\n      <td>encyclopedia</td>\n      <td>Edinburgh</td>\n      <td>1853</td>\n      <td>8.0</td>\n      <td>https://w3id.org/hto/ArticleTermRecord/9929777...</td>\n      <td>None</td>\n      <td>Pietro, the Roman school, who was by Giotto, w...</td>\n      <td>...</td>\n      <td>None</td>\n      <td>CAVALLINI</td>\n      <td>Article</td>\n      <td>354</td>\n      <td>354</td>\n      <td>[]</td>\n      <td>[]</td>\n      <td>[]</td>\n      <td>[-0.0121824667, 0.0402460583, 0.00665577360000...</td>\n      <td>https://w3id.org/hto/Concept/8493321351_1</td>\n    </tr>\n    <tr>\n      <th>3</th>\n      <td>https://w3id.org/hto/Edition/997902523804341</td>\n      <td>1</td>\n      <td>Second edition, Volume 1, A-AST</td>\n      <td>encyclopedia</td>\n      <td>Edinburgh</td>\n      <td>1778</td>\n      <td>2.0</td>\n      <td>https://w3id.org/hto/ArticleTermRecord/9979025...</td>\n      <td>None</td>\n      <td>in antiquity, a denomination given to the sena...</td>\n      <td>...</td>\n      <td>None</td>\n      <td>JEINATTE</td>\n      <td>Article</td>\n      <td>117</td>\n      <td>117</td>\n      <td>[]</td>\n      <td>[]</td>\n      <td>[]</td>\n      <td>[0.0032457884, -0.0179126002, -0.0030581676000...</td>\n      <td>https://w3id.org/hto/Concept/2241879145_1</td>\n    </tr>\n    <tr>\n      <th>4</th>\n      <td>https://w3id.org/hto/Edition/9910796233804340</td>\n      <td>8</td>\n      <td>Fourth edition, Volume 8 Part 1, ELE-FAI</td>\n      <td>encyclopedia</td>\n      <td>Edinburgh</td>\n      <td>1810</td>\n      <td>4.0</td>\n      <td>https://w3id.org/hto/ArticleTermRecord/9910796...</td>\n      <td>None</td>\n      <td>a French term, sometimes life authors to denot...</td>\n      <td>...</td>\n      <td>None</td>\n      <td>ESCORT</td>\n      <td>Article</td>\n      <td>351</td>\n      <td>351</td>\n      <td>[]</td>\n      <td>[]</td>\n      <td>[]</td>\n      <td>[0.0191970598, -0.026992561300000002, 0.029633...</td>\n      <td>https://w3id.org/hto/Concept/4160462161_1</td>\n    </tr>\n    <tr>\n      <th>...</th>\n      <td>...</td>\n      <td>...</td>\n      <td>...</td>\n      <td>...</td>\n      <td>...</td>\n      <td>...</td>\n      <td>...</td>\n      <td>...</td>\n      <td>...</td>\n      <td>...</td>\n      <td>...</td>\n      <td>...</td>\n      <td>...</td>\n      <td>...</td>\n      <td>...</td>\n      <td>...</td>\n      <td>...</td>\n      <td>...</td>\n      <td>...</td>\n      <td>...</td>\n      <td>...</td>\n    </tr>\n    <tr>\n      <th>177578</th>\n      <td>https://w3id.org/hto/Edition/9910796373804340</td>\n      <td>4</td>\n      <td>Supplement to the fourth, fifth and sixth edit...</td>\n      <td>encyclopedia</td>\n      <td>Edinburgh</td>\n      <td>1824</td>\n      <td>NaN</td>\n      <td>https://w3id.org/hto/TopicTermRecord/991079637...</td>\n      <td>None</td>\n      <td>Enwology.and those with sheathed wings; he obs...</td>\n      <td>...</td>\n      <td>The modifications in the form of the antennas ...</td>\n      <td>ENTOMOLOGY</td>\n      <td>Topic</td>\n      <td>267</td>\n      <td>291</td>\n      <td>[]</td>\n      <td>[]</td>\n      <td>[6, 4, 5]</td>\n      <td>[0.0345440656, 0.0038321146, 0.0129572209, -0....</td>\n      <td>None</td>\n    </tr>\n    <tr>\n      <th>177579</th>\n      <td>https://w3id.org/hto/Edition/9910796273804340</td>\n      <td>8</td>\n      <td>Seventh edition, Volume 8, DIA-England</td>\n      <td>encyclopedia</td>\n      <td>Edinburgh</td>\n      <td>1842</td>\n      <td>7.0</td>\n      <td>https://w3id.org/hto/TopicTermRecord/991079627...</td>\n      <td>None</td>\n      <td>&gt; EGYPT. 459 vpt. to illustrate the history, l...</td>\n      <td>...</td>\n      <td>and Age of the Monarch determined.—His Charact...</td>\n      <td>DCTT</td>\n      <td>Topic</td>\n      <td>469</td>\n      <td>469</td>\n      <td>[]</td>\n      <td>[]</td>\n      <td>[]</td>\n      <td>[0.0283674542, 0.0216944125, -0.0273680091, -0...</td>\n      <td>None</td>\n    </tr>\n    <tr>\n      <th>177580</th>\n      <td>https://w3id.org/hto/Edition/9910796233804340</td>\n      <td>20</td>\n      <td>Fourth edition, Volume 20 Part 1, SUI-THE</td>\n      <td>encyclopedia</td>\n      <td>Edinburgh</td>\n      <td>1810</td>\n      <td>4.0</td>\n      <td>https://w3id.org/hto/TopicTermRecord/991079623...</td>\n      <td>None</td>\n      <td>^Conftruc^ a=: S7r~ and we go at &gt; after divid...</td>\n      <td>...</td>\n      <td>^Conftruc^ a=: S7r~ and we go at &gt; after divid...</td>\n      <td>TRICON</td>\n      <td>Topic</td>\n      <td>91</td>\n      <td>92</td>\n      <td>[]</td>\n      <td>[{'uri': 'https://w3id.org/hto/ArticleTermReco...</td>\n      <td>[]</td>\n      <td>[-0.017611675, -0.1025323346, -0.0331101865, 0...</td>\n      <td>None</td>\n    </tr>\n    <tr>\n      <th>177581</th>\n      <td>https://w3id.org/hto/Edition/997902543804341</td>\n      <td>14</td>\n      <td>Third edition, Volume 14, PAS-PLA</td>\n      <td>encyclopedia</td>\n      <td>Edinburgh</td>\n      <td>1797</td>\n      <td>3.0</td>\n      <td>https://w3id.org/hto/TopicTermRecord/997902543...</td>\n      <td>None</td>\n      <td>PIN of pine.trecj, which in common languages w...</td>\n      <td>...</td>\n      <td>PIN of pine.trecj, which in common languages w...</td>\n      <td>PIONEERS</td>\n      <td>Topic</td>\n      <td>795</td>\n      <td>800</td>\n      <td>[]</td>\n      <td>[]</td>\n      <td>[]</td>\n      <td>[-0.007840358700000001, 0.0051432806, -0.00761...</td>\n      <td>None</td>\n    </tr>\n    <tr>\n      <th>177582</th>\n      <td>https://w3id.org/hto/Edition/9910796273804340</td>\n      <td>8</td>\n      <td>Seventh edition, Volume 8, DIA-England</td>\n      <td>encyclopedia</td>\n      <td>Edinburgh</td>\n      <td>1842</td>\n      <td>7.0</td>\n      <td>https://w3id.org/hto/TopicTermRecord/991079627...</td>\n      <td>None</td>\n      <td>in commerce, a stuff sometimes all wool, and s...</td>\n      <td>...</td>\n      <td>in commerce, a stuff sometimes all wool, and s...</td>\n      <td>DRUGGET</td>\n      <td>Topic</td>\n      <td>212</td>\n      <td>213</td>\n      <td>[]</td>\n      <td>[]</td>\n      <td>[]</td>\n      <td>[-0.0014164502000000002, -0.07159514730000001,...</td>\n      <td>None</td>\n    </tr>\n  </tbody>\n</table>\n<p>177583 rows × 21 columns</p>\n</div>"
     },
     "execution_count": 43,
     "metadata": {},
     "output_type": "execute_result"
    }
   ],
   "source": [
    "eb_kg_df"
   ],
   "metadata": {
    "collapsed": false
   }
  },
  {
   "cell_type": "markdown",
   "source": [
    "## Add concepts, and link concepts and terms in knowledge graph"
   ],
   "metadata": {
    "collapsed": false
   }
  },
  {
   "cell_type": "code",
   "execution_count": 1,
   "outputs": [
    {
     "data": {
      "text/plain": "382"
     },
     "execution_count": 1,
     "metadata": {},
     "output_type": "execute_result"
    }
   ],
   "source": [
    "# load the graph\n",
    "from rdflib import Graph, Namespace, RDF\n",
    "\n",
    "# Load the existing graph\n",
    "graph = Graph()\n",
    "graph.parse(location=\"../hto.ttl\", format=\"turtle\")\n",
    "\n",
    "hto = Namespace(\"https://w3id.org/hto#\")\n",
    "len(graph)"
   ],
   "metadata": {
    "collapsed": false
   }
  },
  {
   "cell_type": "code",
   "execution_count": 10,
   "outputs": [
    {
     "data": {
      "text/plain": "                                          edition_uri  vol_num  \\\n0       https://w3id.org/hto/Edition/9922270543804340       11   \n1        https://w3id.org/hto/Edition/997902543804341        7   \n2       https://w3id.org/hto/Edition/9929777383804340        6   \n3        https://w3id.org/hto/Edition/997902523804341        1   \n4       https://w3id.org/hto/Edition/9910796233804340        8   \n...                                               ...      ...   \n177578  https://w3id.org/hto/Edition/9910796373804340        4   \n177579  https://w3id.org/hto/Edition/9910796273804340        8   \n177580  https://w3id.org/hto/Edition/9910796233804340       20   \n177581   https://w3id.org/hto/Edition/997902543804341       14   \n177582  https://w3id.org/hto/Edition/9910796273804340        8   \n\n                                                vol_title         genre  \\\n0                       Fifth edition, Volume 11, HYD-LIE  encyclopedia   \n1                        Third edition, Volume 7, ETM-GOA  encyclopedia   \n2       Eighth edition, Volume 6, Burning glasses-Climate  encyclopedia   \n3                         Second edition, Volume 1, A-AST  encyclopedia   \n4                Fourth edition, Volume 8 Part 1, ELE-FAI  encyclopedia   \n...                                                   ...           ...   \n177578  Supplement to the fourth, fifth and sixth edit...  encyclopedia   \n177579             Seventh edition, Volume 8, DIA-England  encyclopedia   \n177580          Fourth edition, Volume 20 Part 1, SUI-THE  encyclopedia   \n177581                  Third edition, Volume 14, PAS-PLA  encyclopedia   \n177582             Seventh edition, Volume 8, DIA-England  encyclopedia   \n\n       print_location  year_published  edition_num  \\\n0           Edinburgh            1815          5.0   \n1           Edinburgh            1797          3.0   \n2           Edinburgh            1853          8.0   \n3           Edinburgh            1778          2.0   \n4           Edinburgh            1810          4.0   \n...               ...             ...          ...   \n177578      Edinburgh            1824          NaN   \n177579      Edinburgh            1842          7.0   \n177580      Edinburgh            1810          4.0   \n177581      Edinburgh            1797          3.0   \n177582      Edinburgh            1842          7.0   \n\n                                                 term_uri  note  \\\n0       https://w3id.org/hto/ArticleTermRecord/9922270...  None   \n1       https://w3id.org/hto/ArticleTermRecord/9979025...  None   \n2       https://w3id.org/hto/ArticleTermRecord/9929777...  None   \n3       https://w3id.org/hto/ArticleTermRecord/9979025...  None   \n4       https://w3id.org/hto/ArticleTermRecord/9910796...  None   \n...                                                   ...   ...   \n177578  https://w3id.org/hto/TopicTermRecord/991079637...  None   \n177579  https://w3id.org/hto/TopicTermRecord/991079627...  None   \n177580  https://w3id.org/hto/TopicTermRecord/991079623...  None   \n177581  https://w3id.org/hto/TopicTermRecord/997902543...  None   \n177582  https://w3id.org/hto/TopicTermRecord/991079627...  None   \n\n                                              description  ...  \\\n0       in antiquity, a kind of mournful song, used up...  ...   \n1       among miners, signifies a piece of earth it wh...  ...   \n2       Pietro, the Roman school, who was by Giotto, w...  ...   \n3       in antiquity, a denomination given to the sena...  ...   \n4       a French term, sometimes life authors to denot...  ...   \n...                                                   ...  ...   \n177578  Enwology.and those with sheathed wings; he obs...  ...   \n177579  > EGYPT. 459 vpt. to illustrate the history, l...  ...   \n177580  ^Conftruc^ a=: S7r~ and we go at > after divid...  ...   \n177581  PIN of pine.trecj, which in common languages w...  ...   \n177582  in commerce, a stuff sometimes all wool, and s...  ...   \n\n                                                  summary   term_name  \\\n0                                                    None     JALEMUS   \n1                                                    None       GLEBE   \n2                                                    None   CAVALLINI   \n3                                                    None    JEINATTE   \n4                                                    None      ESCORT   \n...                                                   ...         ...   \n177578  The modifications in the form of the antennas ...  ENTOMOLOGY   \n177579  and Age of the Monarch determined.—His Charact...        DCTT   \n177580  ^Conftruc^ a=: S7r~ and we go at > after divid...      TRICON   \n177581  PIN of pine.trecj, which in common languages w...    PIONEERS   \n177582  in commerce, a stuff sometimes all wool, and s...     DRUGGET   \n\n       term_type start_page_num  end_page_num  alter_names  \\\n0        Article             32            32           []   \n1        Article            862           862           []   \n2        Article            354           354           []   \n3        Article            117           117           []   \n4        Article            351           351           []   \n...          ...            ...           ...          ...   \n177578     Topic            267           291           []   \n177579     Topic            469           469           []   \n177580     Topic             91            92           []   \n177581     Topic            795           800           []   \n177582     Topic            212           213           []   \n\n                                          reference_terms supplements_to  \\\n0                                                      []             []   \n1                                                      []             []   \n2                                                      []             []   \n3                                                      []             []   \n4                                                      []             []   \n...                                                   ...            ...   \n177578                                                 []      [6, 4, 5]   \n177579                                                 []             []   \n177580  [{'uri': 'https://w3id.org/hto/ArticleTermReco...             []   \n177581                                                 []             []   \n177582                                                 []             []   \n\n                                                embedding  \\\n0       [0.069103919, -0.0869860128, 0.015464490300000...   \n1       [-0.0092582917, -0.0393608212, 0.0152903702, 0...   \n2       [0.0009889967, 0.045553144100000005, -0.000591...   \n3       [-0.014175045300000001, 0.0373287126, -0.01205...   \n4       [0.0222478937, -0.0197300091, 0.0230092779, 0....   \n...                                                   ...   \n177578  [0.0316150486, -0.0176730026, 0.0031530608, -0...   \n177579  [0.031784635, 0.0405623764, -0.0190234669, -0....   \n177580  [-0.0279026795, -0.0963665769, -0.0473303795, ...   \n177581  [0.0154414643, 0.0240709074, -0.0121394219, 0....   \n177582  [-0.0016067730000000001, -0.0775360838, 0.0098...   \n\n                                      concept_uri  \n0       https://w3id.org/hto/Concept/1475160240_1  \n1       https://w3id.org/hto/Concept/2743363218_2  \n2       https://w3id.org/hto/Concept/8493321351_1  \n3       https://w3id.org/hto/Concept/2241879145_1  \n4       https://w3id.org/hto/Concept/4160462161_1  \n...                                           ...  \n177578   https://w3id.org/hto/Concept/115254768_3  \n177579  https://w3id.org/hto/Concept/8357791245_1  \n177580  https://w3id.org/hto/Concept/9057981969_3  \n177581  https://w3id.org/hto/Concept/8562170582_2  \n177582   https://w3id.org/hto/Concept/550869800_1  \n\n[177583 rows x 21 columns]",
      "text/html": "<div>\n<style scoped>\n    .dataframe tbody tr th:only-of-type {\n        vertical-align: middle;\n    }\n\n    .dataframe tbody tr th {\n        vertical-align: top;\n    }\n\n    .dataframe thead th {\n        text-align: right;\n    }\n</style>\n<table border=\"1\" class=\"dataframe\">\n  <thead>\n    <tr style=\"text-align: right;\">\n      <th></th>\n      <th>edition_uri</th>\n      <th>vol_num</th>\n      <th>vol_title</th>\n      <th>genre</th>\n      <th>print_location</th>\n      <th>year_published</th>\n      <th>edition_num</th>\n      <th>term_uri</th>\n      <th>note</th>\n      <th>description</th>\n      <th>...</th>\n      <th>summary</th>\n      <th>term_name</th>\n      <th>term_type</th>\n      <th>start_page_num</th>\n      <th>end_page_num</th>\n      <th>alter_names</th>\n      <th>reference_terms</th>\n      <th>supplements_to</th>\n      <th>embedding</th>\n      <th>concept_uri</th>\n    </tr>\n  </thead>\n  <tbody>\n    <tr>\n      <th>0</th>\n      <td>https://w3id.org/hto/Edition/9922270543804340</td>\n      <td>11</td>\n      <td>Fifth edition, Volume 11, HYD-LIE</td>\n      <td>encyclopedia</td>\n      <td>Edinburgh</td>\n      <td>1815</td>\n      <td>5.0</td>\n      <td>https://w3id.org/hto/ArticleTermRecord/9922270...</td>\n      <td>None</td>\n      <td>in antiquity, a kind of mournful song, used up...</td>\n      <td>...</td>\n      <td>None</td>\n      <td>JALEMUS</td>\n      <td>Article</td>\n      <td>32</td>\n      <td>32</td>\n      <td>[]</td>\n      <td>[]</td>\n      <td>[]</td>\n      <td>[0.069103919, -0.0869860128, 0.015464490300000...</td>\n      <td>https://w3id.org/hto/Concept/1475160240_1</td>\n    </tr>\n    <tr>\n      <th>1</th>\n      <td>https://w3id.org/hto/Edition/997902543804341</td>\n      <td>7</td>\n      <td>Third edition, Volume 7, ETM-GOA</td>\n      <td>encyclopedia</td>\n      <td>Edinburgh</td>\n      <td>1797</td>\n      <td>3.0</td>\n      <td>https://w3id.org/hto/ArticleTermRecord/9979025...</td>\n      <td>None</td>\n      <td>among miners, signifies a piece of earth it wh...</td>\n      <td>...</td>\n      <td>None</td>\n      <td>GLEBE</td>\n      <td>Article</td>\n      <td>862</td>\n      <td>862</td>\n      <td>[]</td>\n      <td>[]</td>\n      <td>[]</td>\n      <td>[-0.0092582917, -0.0393608212, 0.0152903702, 0...</td>\n      <td>https://w3id.org/hto/Concept/2743363218_2</td>\n    </tr>\n    <tr>\n      <th>2</th>\n      <td>https://w3id.org/hto/Edition/9929777383804340</td>\n      <td>6</td>\n      <td>Eighth edition, Volume 6, Burning glasses-Climate</td>\n      <td>encyclopedia</td>\n      <td>Edinburgh</td>\n      <td>1853</td>\n      <td>8.0</td>\n      <td>https://w3id.org/hto/ArticleTermRecord/9929777...</td>\n      <td>None</td>\n      <td>Pietro, the Roman school, who was by Giotto, w...</td>\n      <td>...</td>\n      <td>None</td>\n      <td>CAVALLINI</td>\n      <td>Article</td>\n      <td>354</td>\n      <td>354</td>\n      <td>[]</td>\n      <td>[]</td>\n      <td>[]</td>\n      <td>[0.0009889967, 0.045553144100000005, -0.000591...</td>\n      <td>https://w3id.org/hto/Concept/8493321351_1</td>\n    </tr>\n    <tr>\n      <th>3</th>\n      <td>https://w3id.org/hto/Edition/997902523804341</td>\n      <td>1</td>\n      <td>Second edition, Volume 1, A-AST</td>\n      <td>encyclopedia</td>\n      <td>Edinburgh</td>\n      <td>1778</td>\n      <td>2.0</td>\n      <td>https://w3id.org/hto/ArticleTermRecord/9979025...</td>\n      <td>None</td>\n      <td>in antiquity, a denomination given to the sena...</td>\n      <td>...</td>\n      <td>None</td>\n      <td>JEINATTE</td>\n      <td>Article</td>\n      <td>117</td>\n      <td>117</td>\n      <td>[]</td>\n      <td>[]</td>\n      <td>[]</td>\n      <td>[-0.014175045300000001, 0.0373287126, -0.01205...</td>\n      <td>https://w3id.org/hto/Concept/2241879145_1</td>\n    </tr>\n    <tr>\n      <th>4</th>\n      <td>https://w3id.org/hto/Edition/9910796233804340</td>\n      <td>8</td>\n      <td>Fourth edition, Volume 8 Part 1, ELE-FAI</td>\n      <td>encyclopedia</td>\n      <td>Edinburgh</td>\n      <td>1810</td>\n      <td>4.0</td>\n      <td>https://w3id.org/hto/ArticleTermRecord/9910796...</td>\n      <td>None</td>\n      <td>a French term, sometimes life authors to denot...</td>\n      <td>...</td>\n      <td>None</td>\n      <td>ESCORT</td>\n      <td>Article</td>\n      <td>351</td>\n      <td>351</td>\n      <td>[]</td>\n      <td>[]</td>\n      <td>[]</td>\n      <td>[0.0222478937, -0.0197300091, 0.0230092779, 0....</td>\n      <td>https://w3id.org/hto/Concept/4160462161_1</td>\n    </tr>\n    <tr>\n      <th>...</th>\n      <td>...</td>\n      <td>...</td>\n      <td>...</td>\n      <td>...</td>\n      <td>...</td>\n      <td>...</td>\n      <td>...</td>\n      <td>...</td>\n      <td>...</td>\n      <td>...</td>\n      <td>...</td>\n      <td>...</td>\n      <td>...</td>\n      <td>...</td>\n      <td>...</td>\n      <td>...</td>\n      <td>...</td>\n      <td>...</td>\n      <td>...</td>\n      <td>...</td>\n      <td>...</td>\n    </tr>\n    <tr>\n      <th>177578</th>\n      <td>https://w3id.org/hto/Edition/9910796373804340</td>\n      <td>4</td>\n      <td>Supplement to the fourth, fifth and sixth edit...</td>\n      <td>encyclopedia</td>\n      <td>Edinburgh</td>\n      <td>1824</td>\n      <td>NaN</td>\n      <td>https://w3id.org/hto/TopicTermRecord/991079637...</td>\n      <td>None</td>\n      <td>Enwology.and those with sheathed wings; he obs...</td>\n      <td>...</td>\n      <td>The modifications in the form of the antennas ...</td>\n      <td>ENTOMOLOGY</td>\n      <td>Topic</td>\n      <td>267</td>\n      <td>291</td>\n      <td>[]</td>\n      <td>[]</td>\n      <td>[6, 4, 5]</td>\n      <td>[0.0316150486, -0.0176730026, 0.0031530608, -0...</td>\n      <td>https://w3id.org/hto/Concept/115254768_3</td>\n    </tr>\n    <tr>\n      <th>177579</th>\n      <td>https://w3id.org/hto/Edition/9910796273804340</td>\n      <td>8</td>\n      <td>Seventh edition, Volume 8, DIA-England</td>\n      <td>encyclopedia</td>\n      <td>Edinburgh</td>\n      <td>1842</td>\n      <td>7.0</td>\n      <td>https://w3id.org/hto/TopicTermRecord/991079627...</td>\n      <td>None</td>\n      <td>&gt; EGYPT. 459 vpt. to illustrate the history, l...</td>\n      <td>...</td>\n      <td>and Age of the Monarch determined.—His Charact...</td>\n      <td>DCTT</td>\n      <td>Topic</td>\n      <td>469</td>\n      <td>469</td>\n      <td>[]</td>\n      <td>[]</td>\n      <td>[]</td>\n      <td>[0.031784635, 0.0405623764, -0.0190234669, -0....</td>\n      <td>https://w3id.org/hto/Concept/8357791245_1</td>\n    </tr>\n    <tr>\n      <th>177580</th>\n      <td>https://w3id.org/hto/Edition/9910796233804340</td>\n      <td>20</td>\n      <td>Fourth edition, Volume 20 Part 1, SUI-THE</td>\n      <td>encyclopedia</td>\n      <td>Edinburgh</td>\n      <td>1810</td>\n      <td>4.0</td>\n      <td>https://w3id.org/hto/TopicTermRecord/991079623...</td>\n      <td>None</td>\n      <td>^Conftruc^ a=: S7r~ and we go at &gt; after divid...</td>\n      <td>...</td>\n      <td>^Conftruc^ a=: S7r~ and we go at &gt; after divid...</td>\n      <td>TRICON</td>\n      <td>Topic</td>\n      <td>91</td>\n      <td>92</td>\n      <td>[]</td>\n      <td>[{'uri': 'https://w3id.org/hto/ArticleTermReco...</td>\n      <td>[]</td>\n      <td>[-0.0279026795, -0.0963665769, -0.0473303795, ...</td>\n      <td>https://w3id.org/hto/Concept/9057981969_3</td>\n    </tr>\n    <tr>\n      <th>177581</th>\n      <td>https://w3id.org/hto/Edition/997902543804341</td>\n      <td>14</td>\n      <td>Third edition, Volume 14, PAS-PLA</td>\n      <td>encyclopedia</td>\n      <td>Edinburgh</td>\n      <td>1797</td>\n      <td>3.0</td>\n      <td>https://w3id.org/hto/TopicTermRecord/997902543...</td>\n      <td>None</td>\n      <td>PIN of pine.trecj, which in common languages w...</td>\n      <td>...</td>\n      <td>PIN of pine.trecj, which in common languages w...</td>\n      <td>PIONEERS</td>\n      <td>Topic</td>\n      <td>795</td>\n      <td>800</td>\n      <td>[]</td>\n      <td>[]</td>\n      <td>[]</td>\n      <td>[0.0154414643, 0.0240709074, -0.0121394219, 0....</td>\n      <td>https://w3id.org/hto/Concept/8562170582_2</td>\n    </tr>\n    <tr>\n      <th>177582</th>\n      <td>https://w3id.org/hto/Edition/9910796273804340</td>\n      <td>8</td>\n      <td>Seventh edition, Volume 8, DIA-England</td>\n      <td>encyclopedia</td>\n      <td>Edinburgh</td>\n      <td>1842</td>\n      <td>7.0</td>\n      <td>https://w3id.org/hto/TopicTermRecord/991079627...</td>\n      <td>None</td>\n      <td>in commerce, a stuff sometimes all wool, and s...</td>\n      <td>...</td>\n      <td>in commerce, a stuff sometimes all wool, and s...</td>\n      <td>DRUGGET</td>\n      <td>Topic</td>\n      <td>212</td>\n      <td>213</td>\n      <td>[]</td>\n      <td>[]</td>\n      <td>[]</td>\n      <td>[-0.0016067730000000001, -0.0775360838, 0.0098...</td>\n      <td>https://w3id.org/hto/Concept/550869800_1</td>\n    </tr>\n  </tbody>\n</table>\n<p>177583 rows × 21 columns</p>\n</div>"
     },
     "execution_count": 10,
     "metadata": {},
     "output_type": "execute_result"
    }
   ],
   "source": [
    "import pandas as pd\n",
    "eb_kg_df_with_concept_uris = pd.read_json(\"../eb_kg_hq_normalised_embeddings_concepts_dataframe\", orient=\"index\")\n",
    "eb_kg_df_with_concept_uris"
   ],
   "metadata": {
    "collapsed": false
   }
  },
  {
   "cell_type": "code",
   "execution_count": 11,
   "outputs": [
    {
     "data": {
      "text/plain": "array(['https://w3id.org/hto/Concept/1475160240_1',\n       'https://w3id.org/hto/Concept/2743363218_2',\n       'https://w3id.org/hto/Concept/8493321351_1', ...,\n       'https://w3id.org/hto/Concept/3183165528_1',\n       'https://w3id.org/hto/Concept/8357791245_1',\n       'https://w3id.org/hto/Concept/9057981969_3'], dtype=object)"
     },
     "execution_count": 11,
     "metadata": {},
     "output_type": "execute_result"
    }
   ],
   "source": [
    "concept_uris = eb_kg_df_with_concept_uris[\"concept_uri\"].unique()\n",
    "concept_uris"
   ],
   "metadata": {
    "collapsed": false
   }
  },
  {
   "cell_type": "code",
   "execution_count": 12,
   "outputs": [
    {
     "name": "stderr",
     "output_type": "stream",
     "text": [
      "100%|██████████| 88504/88504 [15:26<00:00, 95.49it/s] \n"
     ]
    }
   ],
   "source": [
    "from rdflib import URIRef\n",
    "from tqdm import tqdm\n",
    "\n",
    "for concept_uri in tqdm(concept_uris):\n",
    "    if concept_uri:\n",
    "        concept_terms_df = eb_kg_df_with_concept_uris[eb_kg_df_with_concept_uris[\"concept_uri\"] == concept_uri]\n",
    "        concept_uriref = URIRef(concept_uri)\n",
    "        graph.add((concept_uriref, RDF.type, hto.Concept))\n",
    "        for index, row in concept_terms_df.iterrows():\n",
    "            term_uri_ref = URIRef(row[\"term_uri\"])\n",
    "            graph.add((concept_uriref, hto.hadConceptRecord, term_uri_ref))\n",
    "\n",
    "    else:\n",
    "        print(\"None\")\n"
   ],
   "metadata": {
    "collapsed": false
   }
  },
  {
   "cell_type": "code",
   "execution_count": 13,
   "outputs": [
    {
     "data": {
      "text/plain": "<Graph identifier=N1974a4f60ffb4f5594114b9111592381 (<class 'rdflib.graph.Graph'>)>"
     },
     "execution_count": 13,
     "metadata": {},
     "output_type": "execute_result"
    }
   ],
   "source": [
    "graph.serialize(format=\"turtle\", destination=\"../results/extra_concepts_records_link.ttl\")"
   ],
   "metadata": {
    "collapsed": false
   }
  }
 ],
 "metadata": {
  "kernelspec": {
   "display_name": "Python 3",
   "language": "python",
   "name": "python3"
  },
  "language_info": {
   "codemirror_mode": {
    "name": "ipython",
    "version": 2
   },
   "file_extension": ".py",
   "mimetype": "text/x-python",
   "name": "python",
   "nbconvert_exporter": "python",
   "pygments_lexer": "ipython2",
   "version": "2.7.6"
  }
 },
 "nbformat": 4,
 "nbformat_minor": 0
}
