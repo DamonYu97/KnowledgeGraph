{
 "cells": [
  {
   "cell_type": "markdown",
   "source": [
    "# Knowledge Exploration With SPARQL queries\n",
    "This notebook explores the knowledge in knowledge graphs generated in this repository using sparql queries.\n",
    "Overall, we will query the graph from a remote SPARQL Query Server.\n",
    "\n",
    "Questions this knowledge graph should answer:\n",
    "1. List all digitalised collections in this graph.\n",
    "2. What volumes, editions, or series does a digitalised collection _C_ include?\n",
    "3. What time period does a digitalised collection _C_ cover?\n",
    "4. When was edition _E_, series _S_, or volume _V_ published?\n",
    "5. Who published edition _E_, series _S_, or volume _V_?\n",
    "6. Who edited edition _E_, series _S_, or volume _V_?\n",
    "7. Which genre does an edition _E_, series _S_, or volume _V_ belongs to?\n",
    "8. Where was an edition _E_, series _S_, or volume _V_ published or printed?\n",
    "9. Which language did an edition _E_, series _S_, or volume _V_ use?\n",
    "10. In EB, what articles a volume _V_ include?\n",
    "11. Where an EB article _A_ was described (in a page, volume, edition)?\n",
    "12. What are EB articles related to another EB article _T_?\n",
    "13. What are EB articles which has similar description to _T_?\n",
    "14. How a term with name _T_ was described in all editions?\n",
    "15. What is the text in a page?\n",
    "16. What sources the text descriptions of article _T_ or a page _P_ are extracted from?\n",
    "17. What is the high description of term _T_?\n",
    "18. What are the descriptions of term _T_ with the highest text quality?\n",
    "19. What software was used to extract the description of article _T_ or a page _P_?\n",
    "20. What software was used to digitise a document?\n",
    "21. What is the primary name and alternative names of an article T\n",
    "22. List all articles which have more than one name\n",
    "23. List editions which was revision of another edition\n",
    "24. Find the summary of the description of a topic article _A_\n",
    "25. List all records for a concept\n",
    "26. Given a description uri, track the source"
   ],
   "metadata": {
    "collapsed": false
   }
  },
  {
   "cell_type": "markdown",
   "source": "## Set up SPARQLWrapper",
   "metadata": {
    "collapsed": false
   }
  },
  {
   "cell_type": "code",
   "source": [
    "from SPARQLWrapper import SPARQLWrapper, JSON\n",
    "\n",
    "sparql = SPARQLWrapper(\n",
    "    \"http://query.frances-ai.com/hto\"\n",
    ")\n",
    "sparql.setReturnFormat(JSON)"
   ],
   "metadata": {
    "collapsed": false,
    "ExecuteTime": {
     "end_time": "2024-11-03T22:22:36.377924Z",
     "start_time": "2024-11-03T22:22:36.374297Z"
    }
   },
   "outputs": [],
   "execution_count": 93
  },
  {
   "cell_type": "markdown",
   "source": [
    "## Query the graph\n",
    "\n",
    "### Question 1: List all digital collections"
   ],
   "metadata": {
    "collapsed": false
   }
  },
  {
   "cell_type": "code",
   "source": [
    "sparql.setQuery(\"\"\"\n",
    "    PREFIX hto: <https://w3id.org/hto#>\n",
    "    SELECT ?collection ?name WHERE {\n",
    "        ?collection a hto:WorkCollection;\n",
    "            hto:name ?name.\n",
    "        FILTER (regex(?name, \"Collection$\", \"i\"))\n",
    "        }\n",
    "    \"\"\"\n",
    ")\n",
    "\n",
    "try:\n",
    "    ret = sparql.queryAndConvert()\n",
    "\n",
    "    for r in ret[\"results\"][\"bindings\"]:\n",
    "        print(\"collection uri: %s| name: %s\" % (r[\"collection\"][\"value\"], r[\"name\"][\"value\"]))\n",
    "except Exception as e:\n",
    "    print(e)\n"
   ],
   "metadata": {
    "collapsed": false,
    "ExecuteTime": {
     "end_time": "2024-11-03T22:22:38.754973Z",
     "start_time": "2024-11-03T22:22:38.424913Z"
    }
   },
   "outputs": [
    {
     "name": "stdout",
     "output_type": "stream",
     "text": [
      "collection uri: https://w3id.org/hto/WorkCollection/EncyclopaediaBritannica| name: Encyclopaedia Britannica Collection\n",
      "collection uri: https://w3id.org/hto/WorkCollection/LadiesEdinburghDebatingSociety| name: Ladies’ Edinburgh Debating Society Collection\n",
      "collection uri: https://w3id.org/hto/WorkCollection/ChapbooksprintedinScotland| name: Chapbooks printed in Scotland Collection\n",
      "collection uri: https://w3id.org/hto/WorkCollection/GazetteersofScotland| name: Gazetteers of Scotland Collection\n"
     ]
    }
   ],
   "execution_count": 94
  },
  {
   "cell_type": "markdown",
   "source": [
    "### Question 2: What volumes, editions, or series does a digitalised collection _C_ include?"
   ],
   "metadata": {
    "collapsed": false
   }
  },
  {
   "cell_type": "code",
   "source": [
    "## List all editions of Encyclopaedia Britannica collection\n",
    "eb_collection = \"<https://w3id.org/hto/WorkCollection/EncyclopaediaBritannica>\"\n",
    "\n",
    "sparql.setQuery(\"\"\"\n",
    "    PREFIX hto: <https://w3id.org/hto#>\n",
    "    SELECT * WHERE {\n",
    "        %s  a hto:WorkCollection;\n",
    "            hto:hadMember ?edition.\n",
    "        ?edition a hto:Edition;\n",
    "            hto:mmsid ?mmsid;\n",
    "            hto:title ?title.\n",
    "        OPTIONAL {\n",
    "            ?edition hto:subtitle ?subtitle;\n",
    "        }\n",
    "        OPTIONAL {\n",
    "            ?edition hto:number ?number.\n",
    "        }\n",
    "} ORDER BY ?number\n",
    "    \"\"\" % eb_collection\n",
    ")\n",
    "\n",
    "try:\n",
    "    ret = sparql.queryAndConvert()\n",
    "\n",
    "    for r in ret[\"results\"][\"bindings\"]:\n",
    "        subtitle = None\n",
    "        number =None\n",
    "        if \"subtitle\" in r:\n",
    "            subtitle = r[\"subtitle\"][\"value\"]\n",
    "        if \"number\" in r:\n",
    "            number = r[\"number\"][\"value\"]\n",
    "        print(\"Edition uri: %s | MMSID: %s | title: %s | subtitle: %s | number: %s\" % (r[\"edition\"][\"value\"], r[\"mmsid\"][\"value\"], r[\"title\"][\"value\"], subtitle,  number))\n",
    "except Exception as e:\n",
    "    print(e)"
   ],
   "metadata": {
    "collapsed": false,
    "ExecuteTime": {
     "end_time": "2024-11-03T22:22:42.742180Z",
     "start_time": "2024-11-03T22:22:42.474689Z"
    }
   },
   "outputs": [
    {
     "name": "stdout",
     "output_type": "stream",
     "text": [
      "Edition uri: https://w3id.org/hto/Edition/9910796343804340 | MMSID: 9910796343804340 | title: Supplement to the third edition of the Encyclopaedia Britannica ... Illustrated with ... copperplates | subtitle: None | number: None\n",
      "Edition uri: https://w3id.org/hto/Edition/9910796373804340 | MMSID: 9910796373804340 | title: Supplement to the fourth, fifth and sixth editions of the Encyclopaedia Britannica | subtitle: None | number: None\n",
      "Edition uri: https://w3id.org/hto/Edition/992277653804341 | MMSID: 992277653804341 | title: Encyclopaedia Britannica; or, A dictionary of arts and sciences, compiled upon a new plan | subtitle: Illustrated with one hundred and sixty copperplates | number: 1\n",
      "Edition uri: https://w3id.org/hto/Edition/9929192893804340 | MMSID: 9929192893804340 | title: Encyclopaedia Britannica: or, A dictionary of arts and sciences | subtitle: compiled upon a new plan. In which the different sciences and arts are digested into distinct treatises or systems; and the various technical terms, &c. are explained as they occur in the order of the alphabet. Illustrated with one hundred and sixty copperplates | number: 1\n",
      "Edition uri: https://w3id.org/hto/Edition/997902523804341 | MMSID: 997902523804341 | title: Encyclopaedia Britannica | subtitle: or, a dictionary of arts, sciences, &c. On a plan entirely new: ... The second edition; greatly improved and enlarged. Illustrated with above two hundred copperplates | number: 2\n",
      "Edition uri: https://w3id.org/hto/Edition/997902543804341 | MMSID: 997902543804341 | title: Encyclopaedia Britannica | subtitle: or, a dictionary of arts, sciences, and miscellaneous literature; ... The third edition, in eighteen volumes, greatly improved. Illustrated with five hundred and forty-two copperplates | number: 3\n",
      "Edition uri: https://w3id.org/hto/Edition/9910796233804340 | MMSID: 9910796233804340 | title: Encyclopaedia Britannica; or, A dictionary of arts, sciences, and miscellaneous literature | subtitle: None | number: 4\n",
      "Edition uri: https://w3id.org/hto/Edition/9922270543804340 | MMSID: 9922270543804340 | title: Encyclopaedia Britannica, or, a Dictionary of arts, sciences, and miscellaneous literature : enlarged and improved. Illustrated with nearly six hundred engravings | subtitle: None | number: 5\n",
      "Edition uri: https://w3id.org/hto/Edition/9910796253804340 | MMSID: 9910796253804340 | title: Encyclopaedia Britannica | subtitle: None | number: 6\n",
      "Edition uri: https://w3id.org/hto/Edition/9910796273804340 | MMSID: 9910796273804340 | title: Encyclopaedia Britannica | subtitle: None | number: 7\n",
      "Edition uri: https://w3id.org/hto/Edition/9929777383804340 | MMSID: 9929777383804340 | title: Encyclopaedia Britannica | subtitle: None | number: 8\n"
     ]
    }
   ],
   "execution_count": 95
  },
  {
   "cell_type": "code",
   "source": [
    "## List all volumes in Encyclopaedia Britannica 7th Edition\n",
    "eb_edition7_uri = \"<https://w3id.org/hto/Edition/9910796273804340>\"\n",
    "\n",
    "sparql.setQuery(\"\"\"\n",
    "     PREFIX hto: <https://w3id.org/hto#>\n",
    "     SELECT * WHERE {\n",
    "        %s  a hto:Edition;\n",
    "            hto:hadMember ?volume.\n",
    "        ?volume a hto:Volume;\n",
    "            hto:title ?title;\n",
    "            hto:number ?number;\n",
    "            hto:volumeId ?volumeId;\n",
    "            hto:permanentURL ?permanentURL.\n",
    "        OPTIONAL {\n",
    "            ?volume hto:letters ?letters;\n",
    "        }\n",
    "    } ORDER BY ?number\n",
    "    \"\"\" % eb_edition7_uri\n",
    ")\n",
    "\n",
    "try:\n",
    "    ret = sparql.queryAndConvert()\n",
    "\n",
    "    for r in ret[\"results\"][\"bindings\"]:\n",
    "        letters = None\n",
    "        if \"letters\" in r:\n",
    "            letters = r[\"letters\"][\"value\"]\n",
    "        print(\"Volume uri: %s | title: %s | number: %s | id: %s |  permanent url: %s | letters: %s\" % (r[\"volume\"][\"value\"], r[\"title\"][\"value\"] ,r[\"number\"][\"value\"], r[\"volumeId\"][\"value\"], r[\"permanentURL\"][\"value\"], letters))\n",
    "except Exception as e:\n",
    "    print(e)"
   ],
   "metadata": {
    "collapsed": false,
    "ExecuteTime": {
     "end_time": "2024-11-03T22:22:46.940891Z",
     "start_time": "2024-11-03T22:22:46.695244Z"
    }
   },
   "outputs": [
    {
     "name": "stdout",
     "output_type": "stream",
     "text": [
      "Volume uri: https://w3id.org/hto/Volume/9910796273804340_192547789 | title: Seventh edition, General index | number: 0 | id: 192547789 |  permanent url: https://digital.nls.uk/192547789 | letters: None\n",
      "Volume uri: https://w3id.org/hto/Volume/9910796273804340_192984258 | title: Seventh edition, Volume 1, Preliminary dissertations | number: 1 | id: 192984258 |  permanent url: https://digital.nls.uk/192984258 | letters: Preliminarydissertations\n",
      "Volume uri: https://w3id.org/hto/Volume/9910796273804340_192984259 | title: Seventh edition, Volume 2, A-Anatomy | number: 2 | id: 192984259 |  permanent url: https://digital.nls.uk/192984259 | letters: A-Anatomy\n",
      "Volume uri: https://w3id.org/hto/Volume/9910796273804340_193057500 | title: Seventh edition, Volume 3, Anatomy-Astronomy | number: 3 | id: 193057500 |  permanent url: https://digital.nls.uk/193057500 | letters: Anatomy-Astronomy\n",
      "Volume uri: https://w3id.org/hto/Volume/9910796273804340_193108322 | title: Seventh edition, Volume 4, Astronomy-BOR | number: 4 | id: 193108322 |  permanent url: https://digital.nls.uk/193108322 | letters: Astronomy-BOR\n",
      "Volume uri: https://w3id.org/hto/Volume/9910796273804340_193696083 | title: Seventh edition, Volume 5, BOR-CAL | number: 5 | id: 193696083 |  permanent url: https://digital.nls.uk/193696083 | letters: BOR-CAL\n",
      "Volume uri: https://w3id.org/hto/Volume/9910796273804340_193322690 | title: Seventh edition, Volume 6, CAL-Clock | number: 6 | id: 193322690 |  permanent url: https://digital.nls.uk/193322690 | letters: CAL-Clock\n",
      "Volume uri: https://w3id.org/hto/Volume/9910796273804340_193819043 | title: Seventh edition, Volume 7, CLO-Dialling | number: 7 | id: 193819043 |  permanent url: https://digital.nls.uk/193819043 | letters: CLO-Dialling\n",
      "Volume uri: https://w3id.org/hto/Volume/9910796273804340_193322688 | title: Seventh edition, Volume 8, DIA-England | number: 8 | id: 193322688 |  permanent url: https://digital.nls.uk/193322688 | letters: DIA-England\n",
      "Volume uri: https://w3id.org/hto/Volume/9910796273804340_193696084 | title: Seventh edition, Volume 9, England-FRA | number: 9 | id: 193696084 |  permanent url: https://digital.nls.uk/193696084 | letters: England-FRA\n",
      "Volume uri: https://w3id.org/hto/Volume/9910796273804340_193469090 | title: Seventh edition, Volume 10, France-GRO | number: 10 | id: 193469090 |  permanent url: https://digital.nls.uk/193469090 | letters: France-GRO\n",
      "Volume uri: https://w3id.org/hto/Volume/9910796273804340_193638940 | title: Seventh edition, Volume 11, Grotius-HYD | number: 11 | id: 193638940 |  permanent url: https://digital.nls.uk/193638940 | letters: Grotius-HYD\n",
      "Volume uri: https://w3id.org/hto/Volume/9910796273804340_192693199 | title: Seventh edition, Volume 12, Hydrodynamics-KYR | number: 12 | id: 192693199 |  permanent url: https://digital.nls.uk/192693199 | letters: Hydrodynamics-KYR\n",
      "Volume uri: https://w3id.org/hto/Volume/9910796273804340_193108323 | title: Seventh edition, Volume 13, LAB-Magnetism | number: 13 | id: 193108323 |  permanent url: https://digital.nls.uk/193108323 | letters: LAB-Magnetism\n",
      "Volume uri: https://w3id.org/hto/Volume/9910796273804340_193322689 | title: Seventh edition, Volume 14, Magnetism-Mexico | number: 14 | id: 193322689 |  permanent url: https://digital.nls.uk/193322689 | letters: Magnetism-Mexico\n",
      "Volume uri: https://w3id.org/hto/Volume/9910796273804340_193819044 | title: Seventh edition, Volume 15, MEY-Navigation | number: 15 | id: 193819044 |  permanent url: https://digital.nls.uk/193819044 | letters: MEY-Navigation\n",
      "Volume uri: https://w3id.org/hto/Volume/9910796273804340_194474782 | title: Seventh edition, Volume 16, Navigation-PAN | number: 16 | id: 194474782 |  permanent url: https://digital.nls.uk/194474782 | letters: Navigation-PAN\n",
      "Volume uri: https://w3id.org/hto/Volume/9910796273804340_193469091 | title: Seventh edition, Volume 17, PAN-Plastic nature | number: 17 | id: 193469091 |  permanent url: https://digital.nls.uk/193469091 | letters: PAN-Plasticnature\n",
      "Volume uri: https://w3id.org/hto/Volume/9910796273804340_193469092 | title: Seventh edition, Volume 18, PLA-QUI | number: 18 | id: 193469092 |  permanent url: https://digital.nls.uk/193469092 | letters: PLA-QUI\n",
      "Volume uri: https://w3id.org/hto/Volume/9910796273804340_193057501 | title: Seventh edition, Volume 19, RAB-SCU | number: 19 | id: 193057501 |  permanent url: https://digital.nls.uk/193057501 | letters: RAB-SCU\n",
      "Volume uri: https://w3id.org/hto/Volume/9910796273804340_193913444 | title: Seventh edition, Volume 20, Sculpture-SUR | number: 20 | id: 193913444 |  permanent url: https://digital.nls.uk/193913444 | letters: Sculpture-SUR\n",
      "Volume uri: https://w3id.org/hto/Volume/9910796273804340_193819045 | title: Seventh edition, Volume 21, Surveying-ZYM | number: 21 | id: 193819045 |  permanent url: https://digital.nls.uk/193819045 | letters: Surveying-ZYM\n"
     ]
    }
   ],
   "execution_count": 96
  },
  {
   "cell_type": "markdown",
   "source": "### Question 3: What time period does a digitalised collection _C_ cover?",
   "metadata": {
    "collapsed": false
   }
  },
  {
   "cell_type": "code",
   "source": [
    "# At current version, this can be done check the publication years of a collection.\n",
    "# For example, the publication year of each edition for EB collection.\n",
    "eb_collection_uri = \"<https://w3id.org/hto/WorkCollection/EncyclopaediaBritannica>\"\n",
    "sparql.setQuery(\"\"\"\n",
    "     PREFIX hto: <https://w3id.org/hto#>\n",
    "     SELECT * WHERE {\n",
    "        %s hto:hadMember ?edition.\n",
    "        ?edition hto:yearPublished ?yearPublished.\n",
    "    }\n",
    "    \"\"\" % eb_collection_uri\n",
    ")\n",
    "\n",
    "try:\n",
    "    ret = sparql.queryAndConvert()\n",
    "    years = []\n",
    "    for r in ret[\"results\"][\"bindings\"]:\n",
    "        if \"yearPublished\" in r:\n",
    "            years.append(r[\"yearPublished\"][\"value\"])\n",
    "    years.sort()\n",
    "    print(years)\n",
    "except Exception as e:\n",
    "    print(e)\n"
   ],
   "metadata": {
    "collapsed": false,
    "ExecuteTime": {
     "end_time": "2024-11-03T22:22:50.056186Z",
     "start_time": "2024-11-03T22:22:49.821112Z"
    }
   },
   "outputs": [
    {
     "name": "stdout",
     "output_type": "stream",
     "text": [
      "['1771', '1773', '1778', '1797', '1801', '1810', '1815', '1823', '1824', '1842', '1853']\n"
     ]
    }
   ],
   "execution_count": 97
  },
  {
   "metadata": {},
   "cell_type": "code",
   "outputs": [],
   "execution_count": null,
   "source": "# TODO Get time period which a digitalised collection _C_ cover through direct link to the collection (next version)"
  },
  {
   "cell_type": "markdown",
   "source": [
    "### Question 4: When was edition _E_, series _S_, or volume _V_ published?"
   ],
   "metadata": {
    "collapsed": false
   }
  },
  {
   "cell_type": "code",
   "source": [
    "eb_edition7_uri = \"<https://w3id.org/hto/Edition/9910796273804340>\"\n",
    "\n",
    "sparql.setQuery(\"\"\"\n",
    "     PREFIX hto: <https://w3id.org/hto#>\n",
    "     SELECT * WHERE {\n",
    "        %s  a hto:Edition;\n",
    "            hto:mmsid ?mmsid;\n",
    "            hto:title ?title;\n",
    "            hto:number ?number;\n",
    "            hto:yearPublished ?year_published;\n",
    "    }\n",
    "    \"\"\" % eb_edition7_uri\n",
    ")\n",
    "\n",
    "try:\n",
    "    ret = sparql.queryAndConvert()\n",
    "\n",
    "    for r in ret[\"results\"][\"bindings\"]:\n",
    "        print(\"MMSID: %s | title: %s |  number: %s | year published: %s \" % (r[\"mmsid\"][\"value\"], r[\"title\"][\"value\"] ,r[\"number\"][\"value\"], r[\"year_published\"][\"value\"]))\n",
    "except Exception as e:\n",
    "    print(e)\n"
   ],
   "metadata": {
    "collapsed": false,
    "ExecuteTime": {
     "end_time": "2024-11-03T11:36:48.653110Z",
     "start_time": "2024-11-03T11:36:48.413614Z"
    }
   },
   "outputs": [
    {
     "name": "stdout",
     "output_type": "stream",
     "text": [
      "MMSID: 9910796273804340 | title: Encyclopaedia Britannica |  number: 7 | year published: 1842 \n"
     ]
    }
   ],
   "execution_count": 5
  },
  {
   "cell_type": "markdown",
   "source": [
    "### Question 5: Who published edition _E_, series _S_, or volume _V_?"
   ],
   "metadata": {
    "collapsed": false
   }
  },
  {
   "cell_type": "code",
   "source": [
    "eb_edition7_uri = \"<https://w3id.org/hto/Edition/9910796273804340>\"\n",
    "\n",
    "sparql.setQuery(\"\"\"\n",
    "     PREFIX hto: <https://w3id.org/hto#>\n",
    "     PREFIX foaf: <http://xmlns.com/foaf/0.1/>\n",
    "     SELECT * WHERE {\n",
    "        %s  a hto:Edition;\n",
    "            hto:mmsid ?mmsid;\n",
    "            hto:title ?title;\n",
    "            hto:number ?number;\n",
    "            hto:yearPublished ?year_published.\n",
    "        OPTIONAL {\n",
    "            %s hto:publisher ?publisher.\n",
    "            ?publisher foaf:name ?publisher_name;\n",
    "        }\n",
    "    }\n",
    "    \"\"\" % (eb_edition7_uri, eb_edition7_uri)\n",
    ")\n",
    "\n",
    "try:\n",
    "    ret = sparql.queryAndConvert()\n",
    "\n",
    "    for r in ret[\"results\"][\"bindings\"]:\n",
    "        publisher = None\n",
    "        if \"publisher\" in r:\n",
    "            publisher = r[\"publisher\"][\"value\"]\n",
    "        publisher_name = None\n",
    "        if \"publisher_name\" in r:\n",
    "            publisher_name = r[\"publisher_name\"][\"value\"]\n",
    "        print(\"MMSID: %s | title: %s | number: %s | year published: %s | | (publisher: %s | name: %s) \" % (r[\"mmsid\"][\"value\"], r[\"title\"][\"value\"] ,r[\"number\"][\"value\"], r[\"year_published\"][\"value\"], publisher, publisher_name))\n",
    "except Exception as e:\n",
    "    print(e)"
   ],
   "metadata": {
    "collapsed": false,
    "ExecuteTime": {
     "end_time": "2024-11-03T11:37:00.877411Z",
     "start_time": "2024-11-03T11:37:00.039352Z"
    }
   },
   "outputs": [
    {
     "name": "stdout",
     "output_type": "stream",
     "text": [
      "MMSID: 9910796273804340 | title: Encyclopaedia Britannica | number: 7 | year published: 1842 | | (publisher: None | name: None) \n"
     ]
    }
   ],
   "execution_count": 6
  },
  {
   "cell_type": "markdown",
   "source": [
    "### Question 6: Who edited edition _E_, series _S_, or volume _V_?"
   ],
   "metadata": {
    "collapsed": false
   }
  },
  {
   "cell_type": "code",
   "source": [
    "eb_edition7_uri = \"<https://w3id.org/hto/Edition/9910796273804340>\"\n",
    "\n",
    "sparql.setQuery(\"\"\"\n",
    "     PREFIX hto: <https://w3id.org/hto#>\n",
    "     PREFIX foaf: <http://xmlns.com/foaf/0.1/>\n",
    "     SELECT * WHERE {\n",
    "        %s  a hto:Edition;\n",
    "            hto:mmsid ?mmsid;\n",
    "            hto:title ?title;\n",
    "            hto:number ?number;\n",
    "            hto:yearPublished ?year_published.\n",
    "        OPTIONAL {\n",
    "            %s hto:editor ?editor.\n",
    "            ?editor a hto:Person;\n",
    "                foaf:name ?editor_name;\n",
    "            OPTIONAL {\n",
    "                ?editor hto:birthYear ?birthYear.\n",
    "            }\n",
    "            OPTIONAL {\n",
    "                ?editor hto:deathYear ?deathYear.\n",
    "            }\n",
    "            OPTIONAL {\n",
    "                ?editor hto:termsOfAddress ?termsOfAddress.\n",
    "            }\n",
    "        }\n",
    "}\n",
    "    \"\"\" % (eb_edition7_uri, eb_edition7_uri)\n",
    ")\n",
    "\n",
    "try:\n",
    "    ret = sparql.queryAndConvert()\n",
    "\n",
    "    for r in ret[\"results\"][\"bindings\"]:\n",
    "        editor = None\n",
    "        if \"editor\" in r:\n",
    "            editor = r[\"editor\"][\"value\"]\n",
    "        editor_name = None\n",
    "        if \"editor_name\" in r:\n",
    "            editor_name = r[\"editor_name\"][\"value\"]\n",
    "        birthYear = None\n",
    "        if \"birthYear\" in r:\n",
    "            birthYear = r[\"birthYear\"][\"value\"]\n",
    "        deathYear = None\n",
    "        if \"deathYear\" in r:\n",
    "            deathYear = r[\"deathYear\"][\"value\"]\n",
    "        termsOfAddress = None\n",
    "        if \"termsOfAddress\" in r:\n",
    "            termsOfAddress = r[\"termsOfAddress\"][\"value\"]\n",
    "        print(\"MMSID: %s | title: %s | number: %s | year published: %s | (editor: %s | name: %s | terms of address: %s | %s-%s ) \" % (r[\"mmsid\"][\"value\"], r[\"title\"][\"value\"] ,r[\"number\"][\"value\"], r[\"year_published\"][\"value\"], editor, editor_name, termsOfAddress, birthYear, deathYear))\n",
    "except Exception as e:\n",
    "    print(e)"
   ],
   "metadata": {
    "collapsed": false,
    "ExecuteTime": {
     "end_time": "2024-11-03T11:37:27.582922Z",
     "start_time": "2024-11-03T11:37:27.281475Z"
    }
   },
   "outputs": [
    {
     "name": "stdout",
     "output_type": "stream",
     "text": [
      "MMSID: 9910796273804340 | title: Encyclopaedia Britannica | number: 7 | year published: 1842 | (editor: https://w3id.org/hto/Person/1436491835 | name: Stewart, Dugald | terms of address: Sir | 1753-1828 ) \n"
     ]
    }
   ],
   "execution_count": 8
  },
  {
   "cell_type": "markdown",
   "source": [
    "### Question 7: Which genre does a volume _V_ belongs to?"
   ],
   "metadata": {
    "collapsed": false
   }
  },
  {
   "cell_type": "code",
   "source": [
    "eb_edition7 = \"<https://w3id.org/hto/Edition/9910796273804340>\"\n",
    "\n",
    "sparql.setQuery(\"\"\"\n",
    "     PREFIX hto: <https://w3id.org/hto#>\n",
    "     SELECT * WHERE {\n",
    "        %s  a hto:Edition;\n",
    "            hto:mmsid ?mmsid;\n",
    "            hto:title ?title;\n",
    "            hto:number ?number;\n",
    "            hto:genre ?genre;\n",
    "    }\n",
    "    \"\"\" % eb_edition7\n",
    ")\n",
    "\n",
    "try:\n",
    "    ret = sparql.queryAndConvert()\n",
    "\n",
    "    for r in ret[\"results\"][\"bindings\"]:\n",
    "        print(\"MMSID: %s | title: %s |  number: %s | genre: %s \" % (r[\"mmsid\"][\"value\"], r[\"title\"][\"value\"] ,r[\"number\"][\"value\"], r[\"genre\"][\"value\"]))\n",
    "except Exception as e:\n",
    "    print(e)"
   ],
   "metadata": {
    "collapsed": false,
    "ExecuteTime": {
     "end_time": "2024-11-01T15:42:01.035336Z",
     "start_time": "2024-11-01T15:42:00.796256Z"
    }
   },
   "outputs": [
    {
     "name": "stdout",
     "output_type": "stream",
     "text": [
      "MMSID: 9910796273804340 | title: Encyclopaedia Britannica |  number: 7 | genre: encyclopedia \n"
     ]
    }
   ],
   "execution_count": 10
  },
  {
   "cell_type": "markdown",
   "source": [
    "### Question 8: Where was a volume _V_ published or printed?"
   ],
   "metadata": {
    "collapsed": false
   }
  },
  {
   "cell_type": "code",
   "source": [
    "eb_edition7_uri = \"<https://w3id.org/hto/Edition/9910796273804340>\"\n",
    "\n",
    "sparql.setQuery(\"\"\"\n",
    "     PREFIX hto: <https://w3id.org/hto#>\n",
    "     PREFIX rdfs: <http://www.w3.org/2000/01/rdf-schema#>\n",
    "     SELECT * WHERE {\n",
    "        %s  a hto:Edition;\n",
    "            hto:mmsid ?mmsid;\n",
    "            hto:title ?title;\n",
    "            hto:number ?number;\n",
    "            hto:printedAt ?placePrinted_uri;\n",
    "            hto:shelfLocator ?shelfLocator_uri.\n",
    "        ?placePrinted_uri rdfs:label ?placePrinted.\n",
    "        ?shelfLocator_uri rdfs:label ?shelfLocator.\n",
    "    }\n",
    "    \"\"\" % eb_edition7_uri\n",
    ")\n",
    "\n",
    "try:\n",
    "    ret = sparql.queryAndConvert()\n",
    "\n",
    "    for r in ret[\"results\"][\"bindings\"]:\n",
    "        print(\"MMSID: %s | title: %s |  number: %s | place printed: %s | shelf locator: %s \" % (r[\"mmsid\"][\"value\"], r[\"title\"][\"value\"] ,r[\"number\"][\"value\"], r[\"placePrinted\"][\"value\"], r[\"shelfLocator\"][\"value\"]))\n",
    "except Exception as e:\n",
    "    print(e)"
   ],
   "metadata": {
    "collapsed": false,
    "ExecuteTime": {
     "end_time": "2024-11-03T11:37:52.711380Z",
     "start_time": "2024-11-03T11:37:52.472214Z"
    }
   },
   "outputs": [
    {
     "name": "stdout",
     "output_type": "stream",
     "text": [
      "MMSID: 9910796273804340 | title: Encyclopaedia Britannica |  number: 7 | place printed: Edinburgh | shelf locator: EB.15 \n"
     ]
    }
   ],
   "execution_count": 10
  },
  {
   "cell_type": "markdown",
   "source": [
    "### Question 9: Which language does a volume _V_ use?"
   ],
   "metadata": {
    "collapsed": false
   }
  },
  {
   "cell_type": "code",
   "source": [
    "eb_edition7_uri = \"<https://w3id.org/hto/Edition/9910796273804340>\"\n",
    "sparql.setQuery(\"\"\"\n",
    "     PREFIX hto: <https://w3id.org/hto#>\n",
    "     SELECT * WHERE {\n",
    "        %s  a hto:Edition;\n",
    "            hto:mmsid ?mmsid;\n",
    "            hto:title ?title;\n",
    "            hto:number ?number;\n",
    "            hto:language ?language;\n",
    "}\n",
    "    \"\"\" % eb_edition7_uri\n",
    ")\n",
    "\n",
    "try:\n",
    "    ret = sparql.queryAndConvert()\n",
    "\n",
    "    for r in ret[\"results\"][\"bindings\"]:\n",
    "        print(\"MMSID: %s | title: %s |  number: %s | language: %s\" % (r[\"mmsid\"][\"value\"], r[\"title\"][\"value\"] ,r[\"number\"][\"value\"], r[\"language\"][\"value\"]))\n",
    "except Exception as e:\n",
    "    print(e)"
   ],
   "metadata": {
    "collapsed": false,
    "ExecuteTime": {
     "end_time": "2024-11-03T11:38:03.045189Z",
     "start_time": "2024-11-03T11:38:02.803960Z"
    }
   },
   "outputs": [
    {
     "name": "stdout",
     "output_type": "stream",
     "text": [
      "MMSID: 9910796273804340 | title: Encyclopaedia Britannica |  number: 7 | language: eng\n"
     ]
    }
   ],
   "execution_count": 11
  },
  {
   "cell_type": "markdown",
   "source": [
    "### Question 10: In EB, what articles a volume _V_ include?"
   ],
   "metadata": {
    "collapsed": false
   }
  },
  {
   "cell_type": "code",
   "source": [
    "# List 20 articles in volume 2 of 7th edition.\n",
    "eb_edition7_volume2 = \"<https://w3id.org/hto/Volume/9910796273804340_192984259>\"\n",
    "\n",
    "sparql.setQuery(\"\"\"\n",
    "     PREFIX hto: <https://w3id.org/hto#>\n",
    "     SELECT * WHERE {\n",
    "        %s a hto:Volume;\n",
    "            hto:hadMember ?page.\n",
    "        ?termRecord a ?term_type;\n",
    "                hto:name ?name.\n",
    "        FILTER (?term_type = hto:ArticleTermRecord || ?term_type = hto:TopicTermRecord)\n",
    "    } LIMIT 20\n",
    "    \"\"\" % eb_edition7_volume2\n",
    ")\n",
    "\n",
    "try:\n",
    "    ret = sparql.queryAndConvert()\n",
    "\n",
    "    for r in ret[\"results\"][\"bindings\"]:\n",
    "        print(\"Term uri: %s, name: %s\" % (r[\"termRecord\"][\"value\"], r[\"name\"][\"value\"]))\n",
    "except Exception as e:\n",
    "    print(e)"
   ],
   "metadata": {
    "collapsed": false,
    "ExecuteTime": {
     "end_time": "2024-11-03T11:39:21.158807Z",
     "start_time": "2024-11-03T11:39:20.892168Z"
    }
   },
   "outputs": [
    {
     "name": "stdout",
     "output_type": "stream",
     "text": [
      "Term uri: https://w3id.org/hto/ArticleTermRecord/9910796233804340_191253819_1007164464_0, name: ALZIRA\n",
      "Term uri: https://w3id.org/hto/ArticleTermRecord/9910796233804340_191253819_1018837245_0, name: ALEURITES\n",
      "Term uri: https://w3id.org/hto/ArticleTermRecord/9910796233804340_191678901_7881872715_0, name: INDEX\n",
      "Term uri: https://w3id.org/hto/ArticleTermRecord/9910796233804340_191253819_102256234_0, name: ALTIN\n",
      "Term uri: https://w3id.org/hto/ArticleTermRecord/9910796233804340_191253819_102256234_1, name: ALTIN\n",
      "Term uri: https://w3id.org/hto/ArticleTermRecord/9910796233804340_191253819_103000667_0, name: ALAN\n",
      "Term uri: https://w3id.org/hto/ArticleTermRecord/9910796233804340_191253819_1033477591_0, name: ALGOL\n",
      "Term uri: https://w3id.org/hto/ArticleTermRecord/9910796233804340_191253819_1083154598_0, name: ALMEHRAB\n",
      "Term uri: https://w3id.org/hto/ArticleTermRecord/9910796233804340_191679020_3926448654_0, name: KEBLA\n",
      "Term uri: https://w3id.org/hto/ArticleTermRecord/9910796233804340_191253819_1115449109_0, name: ALEXIS\n",
      "Term uri: https://w3id.org/hto/ArticleTermRecord/9910796233804340_191253819_1148828355_0, name: ALABARCHA\n",
      "Term uri: https://w3id.org/hto/ArticleTermRecord/9910796233804340_191253819_1177027914_0, name: ALLOPHYLLUS\n",
      "Term uri: https://w3id.org/hto/ArticleTermRecord/9910796233804340_191253819_119815541_0, name: AKISSAT\n",
      "Term uri: https://w3id.org/hto/ArticleTermRecord/9910796233804340_191253819_1204682170_0, name: AMBLYOPY\n",
      "Term uri: https://w3id.org/hto/ArticleTermRecord/9910796233804340_191253819_12218809_0, name: ALSINA\n",
      "Term uri: https://w3id.org/hto/ArticleTermRecord/9910796233804340_191253819_1241707054_0, name: ALBARII\n",
      "Term uri: https://w3id.org/hto/ArticleTermRecord/9910796233804340_191253819_1245382168_0, name: ALKADARII\n",
      "Term uri: https://w3id.org/hto/ArticleTermRecord/9910796233804340_191253819_1249268163_1, name: ALLEGRI\n",
      "Term uri: https://w3id.org/hto/ArticleTermRecord/9910796233804340_191253819_1253749493_0, name: AM\n",
      "Term uri: https://w3id.org/hto/ArticleTermRecord/9910796233804340_191253819_1253749493_1, name: AM\n"
     ]
    }
   ],
   "execution_count": 13
  },
  {
   "cell_type": "markdown",
   "source": [
    "### Question 11: Where an EB article _A_ was described (in a page, volume, edition)?"
   ],
   "metadata": {
    "collapsed": false
   }
  },
  {
   "cell_type": "code",
   "source": [
    "# Show which page an article starts at, which volume and edition, collection, this article was described\n",
    "article_name = \"'SUGAR'\"\n",
    "\n",
    "sparql.setQuery(\"\"\"\n",
    "     PREFIX hto: <https://w3id.org/hto#>\n",
    "     SELECT * WHERE {\n",
    "        ?term a hto:ArticleTermRecord;\n",
    "            hto:name %s;\n",
    "            hto:startsAtPage ?page.\n",
    "        ?volume a hto:Volume;\n",
    "                hto:hadMember ?page.\n",
    "        ?edition hto:hadMember ?volume.\n",
    "        ?collection hto:hadMember ?edition.\n",
    "    } LIMIT 20\n",
    "    \"\"\" % article_name\n",
    ")\n",
    "\n",
    "try:\n",
    "    ret = sparql.queryAndConvert()\n",
    "\n",
    "    for r in ret[\"results\"][\"bindings\"]:\n",
    "        print(\"term: %s | starts at page: %s | volume: %s | edition %s | collection: %s\" % (r[\"term\"][\"value\"], r[\"page\"][\"value\"], r[\"volume\"][\"value\"], r[\"edition\"][\"value\"], r[\"collection\"][\"value\"]))\n",
    "except Exception as e:\n",
    "    print(e)"
   ],
   "metadata": {
    "collapsed": false,
    "ExecuteTime": {
     "end_time": "2024-11-03T21:08:20.680376Z",
     "start_time": "2024-11-03T21:08:20.403177Z"
    }
   },
   "outputs": [
    {
     "name": "stdout",
     "output_type": "stream",
     "text": [
      "term: https://w3id.org/hto/ArticleTermRecord/9910796233804340_193108317_6364534740_0 | starts at page: https://w3id.org/hto/Page/9910796233804340_193108317_435 | volume: https://w3id.org/hto/Volume/9910796233804340_193108316 | edition https://w3id.org/hto/Edition/9910796233804340 | collection: https://w3id.org/hto/WorkCollection/EncyclopaediaBritannica\n",
      "term: https://w3id.org/hto/ArticleTermRecord/9910796253804340_193057497_6364534740_0 | starts at page: https://w3id.org/hto/Page/9910796253804340_193057497_877 | volume: https://w3id.org/hto/Volume/9910796253804340_193057497 | edition https://w3id.org/hto/Edition/9910796253804340 | collection: https://w3id.org/hto/WorkCollection/EncyclopaediaBritannica\n",
      "term: https://w3id.org/hto/ArticleTermRecord/9922270543804340_192200899_6364534740_0 | starts at page: https://w3id.org/hto/Page/9922270543804340_192200899_873 | volume: https://w3id.org/hto/Volume/9922270543804340_192200899 | edition https://w3id.org/hto/Edition/9922270543804340 | collection: https://w3id.org/hto/WorkCollection/EncyclopaediaBritannica\n",
      "term: https://w3id.org/hto/ArticleTermRecord/992277653804341_144133903_6364534740_0 | starts at page: https://w3id.org/hto/Page/992277653804341_144133903_744 | volume: https://w3id.org/hto/Volume/992277653804341_144133903 | edition https://w3id.org/hto/Edition/992277653804341 | collection: https://w3id.org/hto/WorkCollection/EncyclopaediaBritannica\n",
      "term: https://w3id.org/hto/ArticleTermRecord/9929192893804340_144850368_6364534740_0 | starts at page: https://w3id.org/hto/Page/9929192893804340_144850368_734 | volume: https://w3id.org/hto/Volume/9929192893804340_144850368 | edition https://w3id.org/hto/Edition/9929192893804340 | collection: https://w3id.org/hto/WorkCollection/EncyclopaediaBritannica\n",
      "term: https://w3id.org/hto/ArticleTermRecord/997902523804341_190273290_6364534740_0 | starts at page: https://w3id.org/hto/Page/997902523804341_190273290_303 | volume: https://w3id.org/hto/Volume/997902523804341_190273290 | edition https://w3id.org/hto/Edition/997902523804341 | collection: https://w3id.org/hto/WorkCollection/EncyclopaediaBritannica\n",
      "term: https://w3id.org/hto/ArticleTermRecord/997902543804341_191253817_6364534740_0 | starts at page: https://w3id.org/hto/Page/997902543804341_191253817_66 | volume: https://w3id.org/hto/Volume/997902543804341_191253817 | edition https://w3id.org/hto/Edition/997902543804341 | collection: https://w3id.org/hto/WorkCollection/EncyclopaediaBritannica\n"
     ]
    }
   ],
   "execution_count": 37
  },
  {
   "cell_type": "markdown",
   "source": "### Question 12: What are EB articles related to another EB article _T_?",
   "metadata": {
    "collapsed": false
   }
  },
  {
   "cell_type": "code",
   "source": [
    "article_sugar = \"<https://w3id.org/hto/ArticleTermRecord/992277653804341_144133903_6364534740_0>\"\n",
    "\n",
    "sparql.setQuery(\"\"\"\n",
    "     PREFIX hto: <https://w3id.org/hto#>\n",
    "     SELECT * WHERE {\n",
    "        %s a hto:ArticleTermRecord;\n",
    "            hto:name ?name;\n",
    "        OPTIONAL {\n",
    "            %s hto:refersTo ?see_term.\n",
    "            ?see_term a ?term_type;\n",
    "                hto:name ?see_term_name\n",
    "            FILTER (?term_type = hto:ArticleTermRecord || ?term_type = hto:TopicTermRecord)\n",
    "        }\n",
    "    }\n",
    "    \"\"\" % (article_sugar, article_sugar)\n",
    ")\n",
    "\n",
    "try:\n",
    "    ret = sparql.queryAndConvert()\n",
    "    for r in ret[\"results\"][\"bindings\"]:\n",
    "        refersTo = None\n",
    "        if \"see_term\" in r:\n",
    "            refersTo = r[\"see_term\"][\"value\"]\n",
    "        print(\"term: %s %s | see also term: %s %s\" % (article_sugar, r[\"name\"][\"value\"], refersTo, r[\"see_term_name\"][\"value\"]))\n",
    "except Exception as e:\n",
    "    print(e)\n"
   ],
   "metadata": {
    "collapsed": false,
    "ExecuteTime": {
     "end_time": "2024-11-03T22:23:11.025484Z",
     "start_time": "2024-11-03T22:23:10.785718Z"
    }
   },
   "outputs": [
    {
     "name": "stdout",
     "output_type": "stream",
     "text": [
      "term: <https://w3id.org/hto/ArticleTermRecord/992277653804341_144133903_6364534740_0> SUGAR | see also term: https://w3id.org/hto/ArticleTermRecord/992277653804341_144133903_790527472_0 SACCHARUM\n"
     ]
    }
   ],
   "execution_count": 98
  },
  {
   "cell_type": "markdown",
   "source": "### Question 13: What are EB articles which has similar description to _T_?",
   "metadata": {
    "collapsed": false
   }
  },
  {
   "cell_type": "code",
   "source": [
    "# In current version of KGs,the similar terms are not linked as they can be queried through elastic search service. So example below will print nothing\n",
    "article_sugar = \"<https://w3id.org/hto/ArticleTermRecord/992277653804341_144133903_6364534740_0>\"\n",
    "\n",
    "sparql.setQuery(\"\"\"\n",
    "     PREFIX hto: <https://w3id.org/hto#>\n",
    "     SELECT * WHERE {\n",
    "        %s a hto:TermRecord;\n",
    "            hto:name ?name.\n",
    "        OPTIONAL {\n",
    "            %s hto:similarTo ?similar_term.\n",
    "            ?similar_term a hto:TermRecord.\n",
    "        }\n",
    "    }\n",
    "    \"\"\" % (article_sugar, article_sugar)\n",
    ")\n",
    "\n",
    "try:\n",
    "    ret = sparql.queryAndConvert()\n",
    "    for r in ret[\"results\"][\"bindings\"]:\n",
    "        similar_term = None\n",
    "        if \"similar_term\" in r:\n",
    "            similar_term = r[\"similar_term\"][\"value\"]\n",
    "        print(\"term: %s | similar term: %s\" % (r[\"name\"][\"value\"], similar_term))\n",
    "except Exception as e:\n",
    "    print(e)"
   ],
   "metadata": {
    "collapsed": false,
    "ExecuteTime": {
     "end_time": "2024-11-03T22:23:14.400502Z",
     "start_time": "2024-11-03T22:23:14.165946Z"
    }
   },
   "outputs": [],
   "execution_count": 99
  },
  {
   "cell_type": "markdown",
   "source": "### Question 14: How a term with name _T_ was described in all editions?",
   "metadata": {
    "collapsed": false
   }
  },
  {
   "cell_type": "code",
   "source": [
    "term_name = \"'EARTH'\"\n",
    "\n",
    "sparql.setQuery(\"\"\"\n",
    "     PREFIX hto: <https://w3id.org/hto#>\n",
    "     SELECT * WHERE {\n",
    "        ?term a hto:ArticleTermRecord;\n",
    "            hto:name %s;\n",
    "            hto:startsAtPage ?page;\n",
    "            hto:hasOriginalDescription ?desc.\n",
    "        ?desc hto:text ?content.\n",
    "        ?vol hto:hadMember ?page.\n",
    "        ?edition a hto:Edition;\n",
    "            hto:hadMember ?vol;\n",
    "            hto:title ?title.\n",
    "        OPTIONAL {\n",
    "            ?edition hto:number ?number.\n",
    "        }\n",
    "    } ORDER BY ?number\n",
    "    \"\"\" % term_name\n",
    ")\n",
    "\n",
    "try:\n",
    "    ret = sparql.queryAndConvert()\n",
    "    for r in ret[\"results\"][\"bindings\"]:\n",
    "        edition_number = None\n",
    "        if \"number\" in r:\n",
    "            edition_number = r[\"number\"][\"value\"]\n",
    "        print(\"term uri: %s | description: %s |  edition: %s | edition title: %s | edition number: %s\" % (r[\"term\"][\"value\"], r[\"content\"][\"value\"], r[\"edition\"][\"value\"], r[\"title\"][\"value\"], edition_number))\n",
    "except Exception as e:\n",
    "    print(e)\n"
   ],
   "metadata": {
    "collapsed": false,
    "ExecuteTime": {
     "end_time": "2024-11-03T22:23:18.230550Z",
     "start_time": "2024-11-03T22:23:17.762335Z"
    }
   },
   "outputs": [
    {
     "name": "stdout",
     "output_type": "stream",
     "text": [
      "term uri: https://w3id.org/hto/ArticleTermRecord/992277653804341_144133902_5297117738_0 | description: a ' profile, or terreflrial matter, wherever our globe but really on lists. See Vol. I. p 67. Earth, in allronomy and geography, one of the prim w planets, being it a terraqueous globe where we inhabit. See Astronomy and Geography..E-ARTHQUAKE, in natural history, a violent agitation and sometimes with an eruption of fire, water, wind, be. See Pneumatics. EASEL-pieces, a denomination given by painters to such pieces as are contained in frames, in contradiction from those painted on ceilings, be. |  edition: https://w3id.org/hto/Edition/992277653804341 | edition title: Encyclopaedia Britannica; or, A dictionary of arts and sciences, compiled upon a new plan | edition number: 1\n",
      "term uri: https://w3id.org/hto/ArticleTermRecord/9929192893804340_144850367_5297117738_0 | description: a follile, or terredrial matter, whereof our globe partly confids. See Vol. I. p 67. Earth, in adronoray and geography, one of the primary planets, being this terraqueous globe whereon we inhabit. See Astronomy and Geography. |  edition: https://w3id.org/hto/Edition/9929192893804340 | edition title: Encyclopaedia Britannica: or, A dictionary of arts and sciences | edition number: 1\n",
      "term uri: https://w3id.org/hto/ArticleTermRecord/9929192893804340_144850367_5297117738_0 | description: a follile, or territorial matter, thereof our globe partly confides. See Vol. I. p 67. Earth, in adronoray and geography, one of the primary planets, being this treacherous globe wherever we inhabit. See Astronomy and Geography. |  edition: https://w3id.org/hto/Edition/9929192893804340 | edition title: Encyclopaedia Britannica: or, A dictionary of arts and sciences | edition number: 1\n",
      "term uri: https://w3id.org/hto/ArticleTermRecord/992277653804341_144133902_5297117738_0 | description: a' foffile, or terreflrial matter, whereof our globe p rtly con lists. See Vol. I. p 67. Earth, in allronomy and geography, one of the prim w planets, being th s terraqueous globe whereon we inhabit. See Astronomy and Geography. .E-ARTHQUAKE, in natural history, a violent agitati4 and sometimes with an eruption of fire, water, wind, be. See Pneumatics. EASEL-fieces, a denomination given by painters to such pieces as are contained in frames, in contradiftinction from those painted on cielings, be. |  edition: https://w3id.org/hto/Edition/992277653804341 | edition title: Encyclopaedia Britannica; or, A dictionary of arts and sciences, compiled upon a new plan | edition number: 1\n",
      "term uri: https://w3id.org/hto/ArticleTermRecord/992277653804341_144133902_5297117738_1 | description: in astrone ny and geopraphy, one of the priwe inhabit. See ASTRONOMY and GEOGRAPHY. |  edition: https://w3id.org/hto/Edition/992277653804341 | edition title: Encyclopaedia Britannica; or, A dictionary of arts and sciences, compiled upon a new plan | edition number: 1\n",
      "term uri: https://w3id.org/hto/ArticleTermRecord/997902523804341_144850375_5297117738_0 | description: among ancient philosophers and chemists, one of the four elements of which the whole system of nature was thought to be composed. See Element ; and Chemistry, n° 10. Earth, in astronomy and geography, one of the primary planets; being this terraqueous globe which The cosmogony, or knowledge of the original formation of the earth, the materials of which it was composed, and by what means they were disposed in the order in which we see them at present, is a fubjedt which, though perhaps above the reach of human sagacity, has exercised the wit of philoiophers in all ages. To recount the opinions of all the eminent philosophers of antiquity upon this fubjeft would be very tedious: it may therefore suffice to observe, that, ever since the fubjeft began to becanvaffed, the opinions of those who have treated it may be divided into two classes. 1. Those who believed the earth, and whole visible system of nature, to be the Deity himself, or conne&ed with him in the same manner that a human body is with its soul. 2. Those who believed the materials of it to have been eternal, but diltinel from the Deity, and put into the present order by some power either inherent in themselves, or belonging to the Deity. Of the first opinion were Xenophanes, the founder of the eleatic ses, Strato of Lampfacus, the Pe The second opinion, namely, that the substance of the earth or universe (for it is impossible to speak of the one without the other) was eternal, though not the form, was most generally held among the ancients. From that established axiom, that “ nothing can be produced from nothing,” they concluded that creation was an impossibility; but at the same time they thought they had good reason to believe the world had not been always in its present form. They who held this opinion may again be divided into two classes : first, those who endeavoured to account for the generation of the world, or its redu&ion into the present form, by principles merely mechanical, without having recourse to any assistance from divine power ; and secondly, those who introduced an intelligent mind as the author and disposer of all things. To the first of these classes belonged the cosmogony of the Babylonians, Phoenicians, Earth, and Egyptians; the particulars of which are too ahfurd to deserve notice. Of the same opinion also' were most of the poets; the philosophers Thales, Anaximander, Anaximenes, Anaxagoras, &c. The latter attempted to reform the philosophy of his matter Anaximenes by introducing^ an intelligent principle into the world, diftindf from matter ; thus making his intelli, gent principle, or God, the soul of the world. Dioenes of Apollonia supposed air, which he made the rft principle of all things, to be endued with reason : His manner of philofophifing differed very little from that of Des Cartes. “ All things, (says he,) being in motion, some became condensed, and others rarefied. In those places where condensation prevailed, a whirling motion, or vortex, was formed; which by its revolution drew in the rest, and the lighter parts flying upwards formed the sun.” The most remarkable of the atheiftic systems, how Syftems ever, was the atomic one, supposed to have been in Democritus vented by Democritus ; though Laertius attributes it and to Leucippus, and some make it much older. Acrus ‘ cording to this system, the first principles of all things were an infinite multitude of atoms, or indivisible particles of different sixes and figures ; which, moving fortuitously, or without design, from all eternity, in infinite space, and encountering with one another, became variously entangled during their confiift. This first produced a confused chaos of all kinds of particles; which afterwards, by continual agitation, striking and repelling each other, disposed themselves into a vortex, or vortices, where, after innumerable revolutions, and motions in all possible dire&ions, they at last settled into their present order. The hypothesis of Democritus agrees in the main with that of Epicurus as represented by Lucretius; excepting that no mention is made of those vortices, which yet were an essential part of the former. To the two properties of magnitude and figure which Democritus attributed to his atoms, Epicurus added a third, namely, weight; and without this, he did not imagine they could move at all. The system of Democritus necessarily introduced absolute fatal necessity; which Epicurus not choosing to agree to, he invented a third motion of the atoms, unknown to those who had gone before him. His predecessors allowed them to have a perpendicular and reflexive motion : but Epicurus, though he allowed these motions to be absolutely necessary and unavoidable, asserted that the atoms could also of themselves decline from the right line; and from this declination of the atoms, he explained the free-will of man.—The most material difference between the two systems, however, was, that Epicurus admitted no principle but the atoms themselves ; whereas Democritus believed them to be ani Of those who held two diftinfl and coeternal prinof Pythaciples, viz. God and Matter, we (hall only take notice goras, of the opinions of Pythagoras, Plato, and Aristotle, as t0 », and being the most remarkable. Pythagoras is said to have Ariflot!e asserted two substantial self-existent principles: a monad, or unity ; and a dyad, or duality. The meaning of these terms is now somewhat yncertain. .Some, think, that by the monad, he meant the Deity; and, by the dyad, matter. Others think, that the Pythagoric mo-nads were atoms. The dyad Is sometimes thought to lignify a demon or evil principle; but Porphyry’s interpretation, which seems the most probable, is as follows. The cause, says he, of that sympathy, harmony, and agreement which is in things, and of the confervation of the whole, which is always the same and like itself, was by Pythagoras called is in the things themselves, being but a participation of the first cause: but the reason of difference, inequality, and constant irrregularity in things, was by him called a dyad. This philosopher held numbers to be the principles of all things, and from them he accounted for the produftion of the world in the following manner. He supposed that the monad and dyad were the two sources of numbers, from whence proceeded points; from points, lines; from lines, plane figures; from planes, folids ; from folids, sensible bodies. The elements of ferifible bodies are four ; but besides these, there was a fifth (never yet discovered.) The four elements which manifest themselves to our senses are fire, air, earth, and water. These are in a perpetual change, and from them the world was formed ; which is animated, intelligent, and spherical ; containing, in the midst of it, the earth, a globose and inhabited body. The world, he said, began from fire, and the fifth element ; and that as there were five figures of solid bodies, called mathematical or regular, the earth was made of the cube, fire of the pyramid or tetrahedron, the air of the oftahedron, water of the icofahedron, and the sphere of the universe of the dodecahedron.— This method of philofophizing, which has no manner of foundation sa nature, was adopted by Plato and Aristotle ; and hence proceeded all the absurdities concerning ideas, forms, qualities, &c. with which the Ariftotelian philosophy was loaded. For a long time, however, the philosophy of Aristotle prevailed, and the world was thought to be upheld by forms, qualities, and other unintelligible and imaginary beings.—At last the French philosopher, Defcartes, superseded the Ariftotelian, by introducing the atomic, or Democritic, and Epicurean philofophyf. The Cartefian system w^as quickly superseded the Newtonian; which still continues, though considerably different from what it was left by that S reat mat1, —His opinions, indeed, concerning the coffnmogony seem to have been in a flu&uating {fate ; and the hence he delivers himself in such a manner, that he hath °^t en * DC Urr ed the charge of contradicting himself.— He maintained, for instance, that matter was infinitely divisible, and the mathematical demonstrations of this proposition are well known. Notwithrtanding this, However, when he comes particularly to speak of the original conftru&ion of the world, he seems to retrad this opinion, and adopt the atomic philosophy. He tells us, that it seems probable, that in the beginning God formed matter in solid, massy, impenetrable, partides, &c.*; and that of these particles, endowed with j. various powers of attraction and repulsion, the present system of nature is formed. His primary laws of natore are only three in number, and very simple. The , mat p er has a tendency to continue in that state in which it is once placed, whether of rest or motion. If it is at rest, for example, it wijl continue at rest for ever, without beginning motion of itself; but if it is once set in motion, by any cause whatever, it will for ever continue to move in a right line, until something either stops it altogether, or forces it to move in another dire&ion. 2. That the change of motion is always equivalent to the moving force employed to produce it, and in the direction of the right line in which it is impressed; that is, if a certain force produces a certain motion, double that force will produce double that motion, ice. 3. Rea Ction is always contrary and equal to a Ction; or the a Ctions of two bodies upon one another are always equal and contrary to From these three laws, together with the two contrary forces of attraction and repulsion, Sir Isaac Newton and his followers have attempted to explain all the phenomena of nature. When they come to explain the nature of the attractive and repulsive forces, however, they are exceedingly embarrassed. Sir Isaac hath expressed himself in two different ways concerning them. In his Principia, he pretty positively determines them to be owing to a cause that is not material; and in his Queries, he supposes they may be effe Cts of same subtile matter which he calls ether. This Difagrce-. disagreement with himself hath produced no small difment agreement among his followers. One party, laying mon hold of his assertions in the Principia, determine the Shower*, world to be upheld by immaterial powers; while the other, neglecting the Principia, and taking notice only of the Queries at the end of the Optics, strenuously maintain, that attraction and repulsion are owing to the a Ction of forne exceedingly fine and subtile ether.— The first of these fuppofitions, it is argued, necessarily involves us in one of the following dilemmas. 1. If the attractive and repulsive forces are not material, they must either be occasioned by spiritual beings, or they must be qualities of matter. If they are occasioned by the a Ction of immaterial beings, these beings must either be created or uncreated. If they are produced by the a Ction of created beings, we run into the supposition of.some of the ancient heathens, that the world is governed by demons or subordinate intelligences; and thus may make an easy transition to polytheifm. If attraction and repulsion are the immediate a Ction of the Dei y himself, we run into the do Ctrine of making God the soul of the world.—This last hypothesis hath been most strenuously adopted by Mr Baxter in his treatise of the Immateriality of the human Soul. Mr Bofcovich, Mr Mr Mitchel, and Df Prieftley, have likewise adopted the c^e hypothesis of immaterial powers to such a degree, that, j)r according to them, the whole world conlifts of nothing ley’s else but attractions and repuljions mixed with phyjical nions. poisits*. 2. If we suppose the attractive and repulsive * powers to be only properties, qualities, or laws, imf pressed on matter by the Deity, we might as well have been contented with the occult qualities of Aristotle. —If attraction and repulsion are occasioned by the action of mere matter, and all the powers in nature are only material, the charge is incurred of making nature dire Ct itself in such a manner, that there is no occasion for the interposition, or even the existence, of a Deity Thus we see, the Newtonian cosmogony must incline either to the Platonic and Ariftotelian, or to the Atomic or Epicurean ; according to the hypothecs we lay down concerning the nature of attraction. Des Car-, tes’s system was plainly a revival of that of Democri[ 2 57 6 1 |  edition: https://w3id.org/hto/Edition/997902523804341 | edition title: Encyclopaedia Britannica | edition number: 2\n",
      "term uri: https://w3id.org/hto/ArticleTermRecord/997902523804341_144850375_5297117738_0 | description: among ancient philosophers and chemists, one of the four elements of which the whole system of nature was thought to be composed. See Element; and Chemistry, in and 10. Earth, in astronomy and geography, one of the primary planets; being this terraqueous globe which The cosmogony, or knowledge of the original formation of the earth, the materials of which it was composed, and by what means they were disposed in the order in which we see them at present, is a subject which, though perhaps above the reach of human sagacity, has exercised the wit of philosophers in all ages. To recount the opinions of all the eminent philosophers of antiquity upon this project would be very tedious: it may therefore suffice to observe, that, ever since the subject began to becanvaffed, the opinions of those who have treated it may be divided into two classes. 1. Those who believed the earth, and whole visible system of nature, to be the deity himself, or concerned with him in the same manner that a human body is with its soul. 2. Those who believed the materials of it to have been eternal, but diltinel from the deity, and put into the present order by some power either inherent in themselves, or belonging to the deity. Of the first opinion were Xenophanes, the founder of the reality sea, Strato of Lampfacus, the Pe The second opinion, namely, that the substance of the earth or universe ( for it is impossible to speak of the one without the other ) was eternal, though not the form, was most generally held among the ancient. From that established axiom, that and nothing can be produced from nothing, and they concluded that creation was an impossibility; but at the same time they thought they had good reason to believe the world had not been always in its present form. They who held this opinion may again be divided into two classes: first, those who endeavoured to account for the generation of the world, or its religion into the present form, by principles merely mechanical, without having recourse to any assistance from divine power; and secondly, those who introduced an intelligent mind as the author and disposer of all things. To the first of these classes belonged the cosmogony of the Babylonians, Phoenicians, Earth, and Egyptians; the particulars of which are too adhered to deserve notice. Of the same opinion also ' were most of the poets; the philosophers Thales, Anaximander, Anaximenes, Anaxagoras, c. The latter attempted to reform the philosophy of his matter Anaximenes by introducing an intelligent principle into the world, shifting from matter; thus making his intellect, great principle, or God, the soul of the world. Dioenes of Apollonia supposed air, which he made the right principle of all things, to be endured with reason: His manner of philofophifing differed very little from that of Des Cartes. and All things, says he, being in motion, some became condensed, and others rarefied. In those places where condensation prevailed, a whirling motion, or vortex, was formed; which by its revolution drew in the rest, and the lighter parts flying upwards formed the sun. and The most remarkable of the atheiftic systems, how Syftems ever, was the atomic one, supposed to have been in Democritus vented by Democritus; though Laertius attributes it and to Leucippus, and some make it much older. Acrus and according to this system, the first principles of all things were an infinite multitude of atoms, or indivisible particles of different sizes and figures; which, moving fortuitously, or without design, from all eternity, in infinite space, and encountering with one another, became variously entangled during their conflict. This first produced a confused chaos of all kinds of particles; which afterwards, by continual agitation, striking and repelling each other, disposed themselves into a vortex, or victories, where, after innumerable revolutions, and motions in all possible dimensions, they at last settled into their present order. The hypothesis of Democritus agrees in the main with that of Epicurus as represented by Lucretius; expecting that no mention is made of those pictures, which yet were an essential part of the former. To the two properties of magnitude and figure which Democritus attributed to his atoms, Epicurus added a third, namely, weight; and without this, he did not imagine they could move at all. The system of Democritus necessarily introduced absolute fatal necessity; which Epicurus not choosing to agree to, he invented a third motion of the atoms, unknown to those who had gone before him. His predecessors allowed them to have a perpendicular and reflexive motion: but Epicurus, though he allowed these motions to be absolutely necessary and unavoidable, asserted that the atoms could also of themselves decline from the right line; and from the declination of the atoms, he explained the free-full of man.—The most material difference between the two systems, however, was, that Epicurus admitted no principle but the atoms themselves; whereas Democritus believed them to be any Of those who held two diftinfl and coeternal proof Pythaciples, viz. God and Matter, we ( has only take notice goras, of the opinions of Pythagoras, Plato, and Aristotle, as t0 and, and being the most remarkable. Pythagoras is said to have Ariflot!e asserted two substantial self-existing principles: a mood, or unity; and a date, or duality. The meaning of these terms is now somewhat uncertain..Some, think, that by the mood, he meant the deity; and, by the date, matter. Others think, that the Pythagoric me-nads were atoms. The dead Is sometimes thought to signify a demon or evil principle; but Porphyry is interpretation, which seems the most probable, is as follows. The cause, says he, of that sympathy, harmony, and agreement which is in things, and of the conservation of the whole, which is always the same and like itself, was by Pythagoras called is in the things themselves, being but a participation of the first cause: but the reason of difference, inequality, and constant irregularity in things, was by him called a dead. This philosopher held numbers to be the principles of all things, and from them he accounted for the production of the world in the following manner. He supposed that the moon and dead were the two sources of numbers, from whence proceeded points; from points, lines; from lines, plane figures; from planets, fields; from fossils, sensible bodies. The elements of ferifible bodies are four; but besides these, there was a fifth ( never yet discovered ) The four elements which manifest themselves to our senses are fire, air, earth, and water. These are in a perpetual change, and from them the world was formed; which is animated, intelligent, and spherical; containing, in the midst of it, the earth, a possible and inhabited body. The world, he said, began from fire, and the fifth element; and that as there were five figures of solid bodies, called mathematical or regular, the earth was made of the cube, fire of the pyramid or tetrahedron, the air of the oftahedron, water of the icofahedron, and the sphere of the universe of the dodecahedron. and This method of philofophizing, which has no manner of foundation in nature, was adopted by Plato and Aristotle; and hence proceeded all the absurdities concerning ideas, forms, qualities,.. with which the Ariftotelian philosophy was loaded. For a long time, however, the philosophy of Aristotle prevailed, and the world was thought to be upheld by forms, qualities, and other unintelligible and imaginary beings.—At last the French philosopher, Descartes, superseded the Ariftotelian, by introducing the atomic, or Democratic, and European philosopher. The Cartefian system was quickly superseded the Newtonian; which still continues, though considerably different from what it was left by the S that mat1, and His opinions, indeed, concerning the coffnmogony seem to have been in a featuring { fate; and the hence he delivers himself in such a manner, that he hath and t en * DC Ur and the charge of contradicting himself. and He maintained, for instance, that matter was infinitely invisible, and the mathematical demonstrations of this proposition are well known. Notwithstanding this, However, when he comes particularly to speak of the original continuum of the world, he seems to regard this opinion, and adopt the atomic philosophy. He tells us, that it seems probable, that in the beginning God formed matter in solid, messy, impenetrable, periods, C.; and that of these particles, endowed with j. various powers of attraction and resolution, the present system of nature is formed. His primary laws of nature are only three in number, and very simple. The, mate but er has a tendency to continue in that state in which it is once placed, whether of rest or motion. If it is at rest, for example, it will continue at rest for ever, without beginning motion of itself; but if it is once set in motion, by any cause whatever, it will for ever continue to move in a right line, until something either stops it altogether, or forces it to move in another direction. 2. That the change of motion is always equivalent to the moving force employed to produce it, and in the direction of the right line in which it is impressed; that is, if a certain force produces a certain motion, double that force will produce double that motion, ice. 3. Real Clinton is always contrary and equal to a Ction; or the a Ctions of two bodies upon one another are always equal and contrary to From these three laws, together with the two contrary forces of attraction and resolution, Sir Isaac Newton and his followers have attempted to explain all the phenomena of nature. When they come to explain the nature of the attractive and repulsive forces, however, they are exceedingly embarrassed. Sir Isaac hath expressed himself in two different ways concerning them. In his Principle, he pretty positively determines them to be owing to a cause that is not material; and in his Queries, he supposes they may be safe Cts of same suitable matter which he calls either. This Difagrce-. disagreement with himself has produced no small different agreement among his followers. One party, laying on hold of his assertions in the Principia, determines the Shower, world to be upheld by immaterial powers; while the other, neglecting the Principia, and taking notice only of the Queries at the end of the Optics, strenuously maintain, that attraction and resolution are owing to the a Ction of form exceedingly fine and suitable either. and The first of these fuppofitions, it is argued, necessarily involves us in one of the following dilemmas. 1. If the attractive and repulsive forces are not material, they must either be occasioned by spiritual beings, or they must be qualities of matter. If they are occasioned by the a Ction of immaterial beings, these beings must either be created or uncreated. If they are produced by the a Ction of created beings, we run into the supposition of.some of the ancient heathens, that the world is governed by demons or subordinate intelligence; and thus may make an easy transition to polytheifm. If attraction and resolution are the immediate a Ction of the Dei y himself, we run into the do Ctrine of making God the soul of the world.—This last hypothesis that been most strenuously adopted by Mr Baxter in his treatise of the Immateriality of the human Soul. Mr Bofcovich, Mr Mr Mitchell, and Dr Prieftley, have likewise adopted the same hypothesis of immaterial powers to such a degree, that, or according to them, the whole world conflicts of nothing key is else but attractions and religions mixed with physical notions. politics * 2. If we suppose the attractive and repulsive * powers to be only properties, qualities, or laws, if pressed on matter by the deity, we might as well have been contented with the occult qualities of Aristotle. and If attraction and resolution are occasioned by the action of mere matter, and all the powers in nature are only material, the charge is incurred of making nature more At itself in such a manner, that there is no occasion for the interposition, or even the existence, of a Deity Thus we see, the Newtonian cosmogony must incline either to the Platonic and Ariftotelian, or to the Atomic or Epicurean; according to the hypothesis we lay down concerning the nature of attraction. Des Car-, these its system was plainly a revival of that of Democri [ 2 57 6 1 |  edition: https://w3id.org/hto/Edition/997902523804341 | edition title: Encyclopaedia Britannica | edition number: 2\n",
      "term uri: https://w3id.org/hto/ArticleTermRecord/997902523804341_190273290_5297117738_0 | description: that it is needless to mention any thing further concerning them in this place. Others there are who argue strenuously for the continual incre^feof dry land, and decrease of the sea. Their principal argument is drawn from a fnppofition of the vegetation of stone, and a petrifying quality inherent in sea water. A Scotch gentleman, who w’as at Boulogne in the summer 1750, has favoured us with a remarkable instance of this petrifying quality in sea-water. He observed, that the Britilh channel, which washes the bottom of a hill near that place, (commonly called ■Ctffar’s Font, from a Roman encampment still visible on it, said to have been conttru&ed by Julius Ctefar when he invaded Britain), had worn in thro* a great part of the hill, which consists mostly of mixed land, with about three or four feet of a strong bluilh clay soil above. As the Tandy part is washed away, the clay falls down in large mafl'es, and, as the inhabitants there affirm, is petrified by the fait water. In sa<st, one sees, about 40 or 50 yards within the present highwater mark, a large stratum of rocks, much resembling the black-rocks at Leith; and between these and the hill many huge maffies of rock, though there appears nothing rocky on the bare side of the hill next the channel. And the inhabitants of Boulogne are every day seen blowfng up these rocky masses with gun-powder, burning the (tones into lime, and using them also as (tones for their buildings This gentleman, walking one day on the sands, saw a large lump of clay fallen from the hill, and so lying to be washed by the tide. He impressed a mark on it with his ilick, which, being soft, it then easily received. But passing the same way about three weeks afterwards, he could not force his (tick into the same lump. From some limeftone quarries also in the neighbourhood of Kirkcaldy in Fife, and which are taken notice of under the article |  edition: https://w3id.org/hto/Edition/997902523804341 | edition title: Encyclopaedia Britannica | edition number: 2\n",
      "term uri: https://w3id.org/hto/ArticleTermRecord/997902523804341_190273290_5297117738_0 | description: that it is needless to mention any thing further concerning them in this place. Others there are who argue strenuously for the continual incre^feof dry land, and decrease of the sea. Their principal argument is drawn from a fnppofition of the vegetation of stone, and a terrifying quality inherent in sea water. A Scotch gentleman, who was at Boulogne in the summer 1750, has favoured us with a remarkable instance of this terrifying quality in sea-water. He observed, that the British channel, which washes the bottom of a hill near that place, commonly called and Ctffar is Font, from a Roman encampment still visible on it, said to have been construed by Julius Ctefar when he invaded Britain, had worn in true * a great part of the hill, which consists mostly of mixed land, with about three or four feet of a strong bluish clay soil above. As the Tandy part is washed away, the clay falls down in large mafl'es, and, as the inhabitants there affirm, is petrified by the faint water. In sea < set, one seas, about 40 or 50 yards within the present highwater mark, a large stratum of rocks, much resembling the black-rocks at Leith; and between these and the hill many huge maffies of rock, though there appears nothing rocky on the bare side of the hill next the channel. And the inhabitants of Boulogne are every day seen blowing up these rocky masses with guns-powder, burning the ( stones into lime, and using them also as ( stones for their buildings This gentleman, walking one day on the sands, saw a large lump of clay fallen from the hill, and so lying to be washed by the tide. He impressed a mark on it with his click, which, being soft, it then easily received. But passing the same way about three weeks afterwards, he could not force his ( tick into the same lump. From some lifetime quarries also in the neighbourhood of Kirkcaldy in Fife, and which are taken notice of under the article |  edition: https://w3id.org/hto/Edition/997902523804341 | edition title: Encyclopaedia Britannica | edition number: 2\n",
      "term uri: https://w3id.org/hto/ArticleTermRecord/997902543804341_149979622_5297117738_0 | description: among ancient philosophers, one of the four elements of which the whole form of nature was thought to be composed. See Elements. Earths, in chemistry, are defined by Considered to be such fubdances as are not dudlile, mostly indidbluble in water or oil, and that preserve their conditions in a strong heat. Mr Bergman remarks that they are unified, and not soluble in good times their weight of boiling water; though, by augmenting the heat as in Spain is digeder, perhaps all the kinds we are yet acquainted with may be found capable of solutions, especially when precipitated from some other mendruura; their surface being then greatly augmented. In the chain of nature they proceed by an. invisible formation towards the salts, so that they can not be separated but by artificial limits. A moderate heat does not change their form, nor are they dissipated by a more violent one. Dr Black defines them to be such bodies as are not soluble in water, not inflammable, and their specific gravity not more than four times the weight of water. They are didinguiflied from the salts by their insolubility; from the inflammables, by their want of inflammability; and from the metals, by their deficiency in weight. Some opinions have been made to this definition, as not being directly applicable to those earths which are known to be soluble in water: but this objection may be accounted of little weight, when we consider the extreme disparity between the possibility of the earths and salts, a few grains of the earths faturating some pounds of water; Co that if they have any folubility, they must be allowed to possess but a very { mall ( share of it. Another property, which is not usually taken into the definition, makes nevertheless a remarkable part and of the character of earthy bodies, viz. their great fixedness in the fire. All the other clafles of bodies ( how themselves volatile in more or less violent degrees of heat. All the salts can be made to evaporate; all the inflammable fubdances are volatile; all the metals, gold not expected, have been converted into vapour; but the earths, as far as we know, have never been volatilized, except only two, the diamond and albedos. Some phenomena attending the volatilization of the diamond give reason to forget that it is not a pure earthy abundance. There is an appearance of inflammation; and it seems to be a compound, having an earthy matter for its b ' surface, and deriving its volatility from other matters. In general therefore, the earths have been found fixed in any degree of heat of which we have had experience; though there is no doubt a possibility, that heat might be raised to such an intensity as to volatilize the mood fixed body in nature; but until the means of doing so ( has be found out, the earth may be considered as absolutely fixed. The earths called primitive or funk, because they can not be decomposed by any method hitherto known, were by Crondedt supposed to be nine; but later chemids have reduced them to five. Some reduce the number fall further; but Mr Bergman informs us that these and read their opinions upon fanciful metamorphoses unsupported by faithful experiments. As experiments teach us that there are five primitive earths, it is evident that the species arising from their mixture can not exceed 24, via. ten double, confiding of two earths; and six triple, three quadruple, and the five primitive earths. Even all these different mixtures havent been found, though they probably do exist in nature. The natural compositions of acids with the earths, forming fubdances not soluble in 1000 times their weight of boiling, water, and which may be called faline earths, are undoubtedly chemical combinations. The five primitive earths are, terra ponderofa; calx or calcareous earth, capable of being reduced into quicklime; magnefia; argilla-or argillaceous earth; and But though, we must consider these as the model pure of all the earthy bodies, they are never found native in a date of above late purity; nor indeed can they be made perfectly pure even by artificial means. Water and aerial acid unite readily with the four bird; and ' when expelled by fire, a little of the matter of heat is added, until driven out by a more powerful attraction. But in this date they poffdss a degree of purity not to be attained by any other known method. Therefore it necessary to examine them when sufficiently burnt, in order to distinguish better what properties depend upon adhering heterogeneous matters. and Our author at first added the earth of gems to the five cliffs already mentioned, but he found afterwards that all kinds of gems are compounded of some of the five kinds already mentioned, particularly of the argillaceous kind, insomuch that they may be said aimed entirely to belong, to this class. Still, however, the earth of diamonds seems to possess properties essentially divided from the five already mentioned, and therefore may not unjustly be reckoned a sixth class, though its characters have as yet been but very imI. Terra Ponderofa This was discovered in Sweden about the year 1774, and is found in several. different I. Combined with aerial acid, called by Dr Witheiv in terra, ponderofa aerata This abundance has been-met with in England; and an account of it, with Dr Withering is analysis, is given under the article Che2. The spa-like gypfum, marmor metallicum, lapis bononienfis, phosphorus nativus, baro-felehite, c. of very thin flattiih lenses put together, and like rocks combs. Varieties of it are all ' so found of white and reddish colours. It is likewise met with of a brush texture in the form of zeolite or aibeftos in filaments. M. Monet is of opinion that these maps form of very considerable fpecillc gravity, approaching times contain phlogifion, having observed that they do that of tin or iron; on which account it has been ' become a liver of sulphur in a strong heat; but supposed to contain something metallic. But no ex Woulfe is of opinion that this gentleman was deceived periments hitherto made have evinced the existence of by charcoal falling into his crucible, any metal in it, depicting a few traces of iron, which 4. The lapis hepaticus, or leberltein of the Germans and.. n * 1.. z. r and r, and and are to be met with in all the j^ypfa. It is met with of two kinds, femitranfparent and opaque 5 the latter being either of a white or reddish colour. The fpecilic gravity is about 4,500, water being and Swedes. Some specimens of this stone constantly smell like liver of sulphur, but others only when rubbed. It does not effective with acids, and according to M. Magellan is a medium between the gypfum and counted loop. It contains about 84 parts of pondefetid calcareous stones with which it has generally been rose earth, 13 of the most concentrated vitriolic acid, confounded; but it will not yield any time, though and three of water. The method of preparing the the latter are more set for the purpose than any other, phosphorus from this substance is mentioned under the Mr Kirwan informs us that this ( tone is generally cornarticle Chemistry; but Crbnftedt observes, that the pedal, but not hard enough to strike fire; its texture ? phofphorelcent quality of these stones is different from is either equable or laminar, scaly or fparry; and that of the fparry colours and limeftones, which is only takes a pohih like alabaster, does not effective with produced by their being slowly heated, and see as to acids, and when cancelled is partially reduced to. a kind-arise from a 1 phlogifton which is destroyed by a glowing plaster of Paris. According to the analysis of this wing heat. M. Scheffer, in the Stockholm Memories stone given us by Professor Bergman, 100 parts of for 1753, relates from experiments ' on a stone of this contain 33 of baro-felenite, 38 of liliceous earth, kind from China, which show that it is exactly the of asylum, seven of gypfum, and five of mineral oil. same with the petuntfe of that country, an ingredient Gronftedt denies that these stones contain any volatile in their porcelain manufaflories. This stone does not actually, though his assertion is contradicted by Walleburn into plaster as gypfum does, and is infufible by ruins, who affirms, that a volatile alkali certainly exists itself. It frequently. contains calcareous earth, and in them, and may be discovered by a chemical analysis. sometimes is met with in the cores of metals, and it and The method which nature takes to combine the inlikewife forms the basis of some petrifications. Somegredients of the lapis hepaticus ( says Cronftedt ) may run the Txr or x of irnri { n the hlinnerhims the same as when a Kmeftrvne is let / i in times it contains one or two parts of 3. The major metallicum druficum, or ponderous drufen spa, is found in the lead-mines at Alftonmoor in Cumberland, regularly crystallized in the form by perhaps the same as when a limestone is laid in shape of mundic while it is roasting; because there the sulphur units itself with the limestone, whereby the latter acquires the smell of liver of sulphur, instead which the vitriolic acid alone enters the composition of adult, solid, and femitranfparent. M. Magellan gypfum. How the sulphur combines itself may likefays that he has showed some fine specimens of this wife be observed in the Hate-balls or kernels from the mineral by a Mr Thomfon, who informed him that Andrarum all mines to be afterwards mentioned, and j it ( seems to affect the peculiarity of having its everywhere it sometimes combines with a martial earth with flats laminated, as radiating from a centre; but that which this slate abounds, and with it forms pictures this radiation seldom amounts to a whole circle. The within the very slate-balls. The fetid or swine intensity corners of these flat-crystals are truncated like those of as well as the liver-stones, are, with regard to the ftrucalum and thicker on one side than the other of the true of their parts, subject to the same varieties with parallelogram, in such a manner as to sit one another the other kinds of limeftones. and This kind of stone in the kind of arches vault which they form together, found, 1. Scaly, of which there are two varieties; one and have some small ones adhering to their sides like having coarse sleeves, the other of a whitiffi yellow codrufen spars, having internal angles, as the makes lower. 2. With fine glittering fcnles. This is met with of the French, or the cruciform cryftallizations. and The of a black colour at Andrarum in Sweden, in the film specific gravity of these crystals were found by Mr Niflate above mentioned. Bergman says that this kind cholfon, with an instrument of his own invention, to be consists of a ponderous earth combined with vitriolic to water as 44,745 to do, too. This species of cryacid, mixed with a rock oil, and with the cancerous * flats is found in Auvergne in France, and has been described by Mr Bayen, who supposed its basis to be cancerous. It was extremely refraftory, and the surface of its crystals covered with ferruginous ochre. A variety of this is found jagged like rocks bombs. This is met with in cliffs and fissures, accreted on the four * argillaceous, and delicious earths. He adds, that by a chemical analysis one of these kernels gave 29 parts of cauftie ponderous earth, 33 of filiceous, almost 5 the argillaceous, and 3.7 of lime, besides the waves and vitriolic acid which entered its composition. II. Calcareous Earths, when freed from impurities faces of balls of the same fubfbmce. In Derby ( higher as far as possible, have the following properties, i. They this substance is called call or chalk. M. Magella ( bowed some specimens of it by Mr Whitehurft, which had not onlyconvex but flat surfaces. Those of the Upper aggregated ' parts were rather like the edges become fragile when burnt in the fire. 2. They more readily fall into powder by being thrown into water, or having it thrown upon them after cancellation * 3. They can not be melted by themselves into glass |  edition: https://w3id.org/hto/Edition/997902543804341 | edition title: Encyclopaedia Britannica | edition number: 3\n",
      "term uri: https://w3id.org/hto/ArticleTermRecord/997902543804341_149979622_5297117738_0 | description: among ancient philosophers, one of the four elements of which the whole fydem of nature was thought to be composed. See Element. Earths, in chemidry, are defined by Crondedt to be such fubdances as are not dudlile, modly indidbluble in water or oil, and that preserve their conditution in a drong heat. Mr Bergman remarks that they are infipid, and not soluble in jooo times their weight of boiling water; though, by augmenting the heat as in Papin’s digeder, perhaps all the kinds we are yet acquainted with may be found capable of solution, especially when precipitated from some other mendruura ; their surface being then greatly augmented. In the chain of nature they proceed by an. insensible gradation towards the salts, so that they cannot be separated but by artificial limits. A moderate heat does not change their form, nor are they dissipated by a more violent one. Dr Black defines them to be such bodies as are not soluble in water, not inflammable, and their specific gravity not more than four times the weight of water. They are didinguiflied from the salts by their insolubility ; from the inflammables, by their want of inflammability ; and from the metals, by their deficiency in weight. Some obje&ions have been made to this definition, as not being driftly applicable to those earths which are known to be soluble in water : but this obje&ion may be accounted of little weight, when we consider the extreme disparity betwixt the folubility of the earths and salts, a few grains of the earths faturating some pounds of water ; Co that if they have any folubility, they mud be allowed to possess but a very {mall (hare of it. Another property, which is not usually taken into the definition, makes nevertheless a remarkable part ©f the character of earthy bodies, viz. their great fixedness in the fire. All the other clafles of bodies (how themselves volatile in more or less violent degrees of heat. All the salts can be made to evaporate; all the inflammable fubdances ate volatile; all the metals, gold not excepted, have been converted into vapour; but the earths, as far as we know, have never been volatilized, excepting only two, the diamond and albedos. Some phenomena attending the volatilization of the diamond give reason to fufpedt that it is not a pure earthy fubdance. There is an appearance of inflammation ; and it seems to be a compound, having an earthy matter for its b' afis, and deriving its volatility from other matters. In general therefore, the earths have been found fixed in any degree of heat of which we have had experience ; though there is no doubt a poflibility, that heat might be raised to such an inteniity as to volatilize the mod fixed body in nature; but till the means of doing so (hall be found out, the eartha may be cqnfidered as absolutely fixed. The earths called primitive or funpk,. because they cannot be decomposed by any method hitherto known, were by Crondedt supposed to be nine ; but later chemids have reduced them to five. Some reduce the number dill farther; but Mr Bergman informs us that these “ red their opinions upon fanciful metamorphoses unsupported by faithful experiments. As experiments teach us that there are five primitive earths, it is evident that the species arising from their mixture cannot exceed 24, viz. ten double, confiding of twa earths;’ six triple, three quadruple, and the five primitive earths. Even all these different mixtures havenot been found, though they probably do exid in nature. The natural compositions of acids with the earths, forming fubdances not soluble in 1000 times their weight of boiling, water, and which may be called faline earths, are undoubtedly chemical combinations. The five primitive earths are, terra ponderofa ; calx or calcareous earth, capable of being reduced into quicklime; magnefia ; argilla-or argillaceous earth; “ But though, we mud consider these as the modi pure of all the earthy bodies, they are never found native in a date of abfi lute purity ; nor indeed can they be made perfe&ly pure even by artificial means. Water and aerial acid unite readily with the four fird ; and' when expelled by fire, a little of the matter of heat is added, until driven out by a more powerful attraction. But in this date they poffdss a degree of purity not to be attained by any other known method. Therefore it ia.necessary to examine them when fuffieiently burnt, in order to didinguifla be.tter what properties depend upon adhering heterogeneous matters.” Our author at fird adderf the earth of gems to the five ckffes already mentioned;, but he found afterwards that all kinds of gems are compounded of some of the five kinds already mentioned, particularly of the argillaceous kind, insomuch that they may be said aimed entirely to belong, to this class. Still, however, the earth of diamonds seems to possess properties essentially didincf from the five already mentioned, and therefore may not unjustly be reckoned a sixth class, though its characters have as yet been but verv imI. Terra Ponderofa This was difeovered in Sweden about the year 1774, and is found in several. different I. Combined with aerial acid, called by Dr Witheiv ing terra, ponderofa aerata This fubdance has been-met with in England; and an account of it, with Dr Withering’s analylis, is given under the article Che2. The spar-like gypfum, marmor metallicum, lapis bononienfis, phosphorus nativus, baro-felehite, &c. of very thin flattiih lenses put together, than like cocks combs. Varieties of it are al' so found of white and reddilh colours. It is likewise met with of a brous texture in the form of zeolite or aibeftos in filaments. M. Monnet is of opinion that these spars fomeis of very considerable fpecillc gravity, approaching times contain phlogifion, having observed that they to that of tin or iron ; on which account it has been' become a liver of sulphur in a strong heat; but supposed to contain something metallic. But no ex Woulfe is of opinion that this gentleman was deceived periments hitherto made have evinced the existence of by charcoal falling into his crucible, any metal in it, excepting a few traces of iron, which 4. The lapis hepaticus, or leberltein of the Germans • ..n *1.. z. r„ r* * , ■ „ are to be met with in all the j^ypfa. It is met with of two kinds, femitranfparent and opaque 5 the latter being either of a white or reddish colour. The fpecilic gravity is about 4,500, w^ater being acand Swedes. Some specimens of this stone constantly smell like liver of sulphur, but others only when rubbed. It does not effervefce with acids, and according to M. Magellan is a medium between the gypfum and counted loop. It contains about 84 parts of pondefetid calcareous stones with which it has generally been rous earth, 13 of the most concentrated vitriolic acid, confounded; but it will not yield any lime, though and three of water. The method of preparing the the latter are more sit for the purpose than any other, phosphorus from this substance is mentioned under the Mr Kirwan informs us that this (tone is generally cornarticle Chemistry ; but Crbnftedt observes, that the padl, but not hard enough to strike fire; its texture? phofphorelcent quality of these stones is different from is either equable or laminar, scaly or fparry ; and that of the fparry fluors and limeftones, which is only takes a pohih like alabaster, does not effervefce with produced by their being llowly heated, and see ms to acids, and when calcined is partially reduced to. a kind -arise from a 1 phlogifton which is destroyed by a glowof plaster of Paris. According to the analysis of this ing heat. M. Scheffer, in the Stockholm Memoirs stone given us by Professor Bergman, 100 parts of for 1753, relates feme experiments' on a stone of this contain 33 of baro-felenite, 38 of liliceous earth, kind from China, which show that it is exa&ly the of alum, seven of gypfum, and five of mineral oil. same with the petuntfe of that country, an ingredient Gronftedt denies that these stones contain any volatile in their porcelain manufaflories. This stone does not alkali, though his assertion is contradifted by Walleburn into plaster as gypfum does, and is infufible by rius, who affirms, that a volatile alkali certainly exilts itself. It frequently. contains calcareous earth, and in them, and may be difeovered by a chemical analysis. sometimes is met with in the ores of metals, and it “ The method which nature takes to combine the inlikewife forms the basis of some petrifications. Somegredients of the lapis hepaticus (says Cronftedt), may rxv t Txr r x of irnri {n the hlinnerhims thp same as when a Kmeftrvne is lat/i in times it contains one or two parts of 3. The marmor metallicum druficum, or ponderous drufen spar, is found in the lead-mines at Alftonmoor in Cumberland, regularly cryftallized in the form be perhaps the same as when a limeftone is laid in heap of mundic while it is roasting; because there the sulphur unites itself with the limeftone, whereby the latter acquires the smell of liver of sulphur, instead which the vitriolic acid alone enters the composition of alum, solid, and femitranfparent. M. Magellan gypfum. How the sulphur combines itself may likefays that he was showed some fine specimens of this wife be observed in the Hate-balls or kernels from the mineral by a Mr Thomfon, who informed him that Andrarum alum mines to be afterwards mentioned, « j t (eems to affeft the peculiarity of having its crywhere it sometimes combines with a martial earth with ftals laminated, as radiating from a centre; but that which this slate abounds, and with it forms pyrites this radiation seldom amounts to a whole circle. The within the very slate-balls. The fetid or swine itonesy corners of these flat-crystals are truncated like those of as well as the liver-stones, are, with regard to the ftrucalum and thicker on one side than the other of the ture of their parts, fubjeft to the same varieties with parallelogram, in such a manner as to sit one another the other kinds of limeftones.” This kind of stone in the kind of archei vault which they form together, found, 1. Scaly, of which there are two varieties ; one and have some small ones adhering to their sides like having coarse seales, the other of a whitiffi yellow codrufen spars, having internal angles, as the macks lour. 2. With fine glittering fcnles. This is met with of the French, or the cruciform cryftallizations.” The of a black colour at Andrarum in Sweden, in the alum specific gravity of these crystals were found by Mr Niflate above mentioned. Bergman says that this kind cholfon, with an instrument of his own invention, to be consists of a ponderous earth combined with vitriolic to water as 44,745 to io,coo. This species of cryacid, mixed with a rock oil, and with the calcareous* ftals is found in Auvergne in France, and has been deferibed by Mr Bayen, who supposed its basis to be calcareous. It was extremely refraftory, and the surface of its crystals covered with ferruginous ochre. A variety of this is found jagged like cocks combs. This is met with in clifts and fissures, accreted on the fur* argillaceous, and filiceous earths. He adds, that by a chemical analysis one of these kernels gave 29 parts of cauftie ponderous earth, 33 of filiceous, almost 5 the argillaceous, and 3.7 of lime, besides the wates and vitriolic acid which entered its composition. II. Calcareous Earths, when freed from impurities faces of balls of the same fubfbmce. In Derby (hire as far as possible, have the following properties, i. They this substance is called caul or calk. M. Magella (bowed some specimens of it by Mr Whitehurft, which had not onlyconvex but flat surfaces. Those of the Upper aggregated' parts were rather like the edges become friable when burnt in the lire. 2. They more readily fall into powder by being thrown into water, or having it thrown upon them after calcination* 3. They cannot be melted by themselves into glass |  edition: https://w3id.org/hto/Edition/997902543804341 | edition title: Encyclopaedia Britannica | edition number: 3\n",
      "term uri: https://w3id.org/hto/ArticleTermRecord/9910796233804340_193109110_5297117738_0 | description: upon which they dress their valuables. |  edition: https://w3id.org/hto/Edition/9910796233804340 | edition title: Encyclopaedia Britannica; or, A dictionary of arts, sciences, and miscellaneous literature | edition number: 4\n",
      "term uri: https://w3id.org/hto/ArticleTermRecord/9910796233804340_193109110_5297117738_0 | description: upon which they dress their vibluals. |  edition: https://w3id.org/hto/Edition/9910796233804340 | edition title: Encyclopaedia Britannica; or, A dictionary of arts, sciences, and miscellaneous literature | edition number: 4\n",
      "term uri: https://w3id.org/hto/ArticleTermRecord/9922270543804340_192984256_5297117738_0 | description: of which is thrown up on its side, to ferveas a parapet for covering the men. |  edition: https://w3id.org/hto/Edition/9922270543804340 | edition title: Encyclopaedia Britannica, or, a Dictionary of arts, sciences, and miscellaneous literature : enlarged and improved. Illustrated with nearly six hundred engravings | edition number: 5\n",
      "term uri: https://w3id.org/hto/ArticleTermRecord/9922270543804340_192984256_5297117738_0 | description: of which is thrown up on its side, to ferveas a parapet for covering the men. |  edition: https://w3id.org/hto/Edition/9922270543804340 | edition title: Encyclopaedia Britannica, or, a Dictionary of arts, sciences, and miscellaneous literature : enlarged and improved. Illustrated with nearly six hundred engravings | edition number: 5\n",
      "term uri: https://w3id.org/hto/ArticleTermRecord/9910796253804340_192547781_5297117738_0 | description: a name given to common red clay, alluding to that species of earth of which the first man is supposed to have been made. ADAMI pomum, in Anatomy, a protuberance in the sore part of the throat, formed by the or hyoides. It is thought to be so called upon a strange conceit, that a piece of the forbidden apple, which Adam ate, stuck by the way and occasioned it. |  edition: https://w3id.org/hto/Edition/9910796253804340 | edition title: Encyclopaedia Britannica | edition number: 6\n",
      "term uri: https://w3id.org/hto/ArticleTermRecord/9910796253804340_192547781_5297117738_0 | description: a name given to common red clay, alluding to that species of earth of which the first man is supposed to have been made. ADAMI pomum, in Anatomy, a protuberance in the sore part of the throat, formed by the os hyoides. It is thought to be so called upon a strange conceit, that a piece of the forbidden apple, which Adam ate, stuck by the way and occasioned it. |  edition: https://w3id.org/hto/Edition/9910796253804340 | edition title: Encyclopaedia Britannica | edition number: 6\n",
      "term uri: https://w3id.org/hto/ArticleTermRecord/9910796253804340_192015838_5297117738_0 | description: among ancient philosophers, one of the elements of which the whole system of nature was to be composed. See Element. Earths, in Chemistry, are such substances as have taste nor smell, are incombustible, are nearly in water, and have a specific gravity under Such are lime, barytes, &c. See Chemistry Inin Astronomy and Geography, one of the planets $ being this terraqueous globe which the astronomical facts with regard to the earth, Astronomy j for its geographical history, see Geography j and for the opinions or theories formation and changes, see Geology Index. |  edition: https://w3id.org/hto/Edition/9910796253804340 | edition title: Encyclopaedia Britannica | edition number: 6\n",
      "term uri: https://w3id.org/hto/ArticleTermRecord/9910796253804340_192015838_5297117738_0 | description: among ancient philosophers, one of the elements of which the whole system of nature was to be composed. See Element. Earths, in Chemistry, are such substances as have taste nor smell, are incombustible, are nearly in water, and have a specific gravity under Such are time, barytes, C. See Chemistry In Astronomy and Geography, one of the planets $ being this terraqueous globe which the astronomical facts with regard to the earth, Astronomy or for its geographical history, see Geography on and for the opinions of theories formation and changes, see Geology Index. |  edition: https://w3id.org/hto/Edition/9910796253804340 | edition title: Encyclopaedia Britannica | edition number: 6\n",
      "term uri: https://w3id.org/hto/ArticleTermRecord/9910796273804340_193322688_5297117738_0 | description: amongst ancient philosophers, one elements of which the whole system of nature was Earth, in Astronomy and Geography, one many planets, being the terraqueous globe which habit.( See the articles Figure of the Earth, |  edition: https://w3id.org/hto/Edition/9910796273804340 | edition title: Encyclopaedia Britannica | edition number: 7\n",
      "term uri: https://w3id.org/hto/ArticleTermRecord/9910796273804340_193322688_5297117738_0 | description: amongst ancient philosophers, one elements of which the whole system of nature was Earth, in Astronomy and Geography, one mary planets, being the terraqueous globe which habit. (See the articles Figure of the Earth, |  edition: https://w3id.org/hto/Edition/9910796273804340 | edition title: Encyclopaedia Britannica | edition number: 7\n",
      "term uri: https://w3id.org/hto/ArticleTermRecord/9910796273804340_193322688_5297117738_0 | description: amongst ancient philosophers, owe of the four elements of which the whole system of nature was believed to be composed. |  edition: https://w3id.org/hto/Edition/9910796273804340 | edition title: Encyclopaedia Britannica | edition number: 7\n",
      "term uri: https://w3id.org/hto/ArticleTermRecord/9910796273804340_193322688_5297117738_1 | description: in Astronomy and Geography, one of the primary planets, bci□g the terraqueous globe which we inhabit. (See the articles Figure of the Earth, and Geology.) |  edition: https://w3id.org/hto/Edition/9910796273804340 | edition title: Encyclopaedia Britannica | edition number: 7\n",
      "term uri: https://w3id.org/hto/ArticleTermRecord/9929777383804340_193322702_5297117738_0 | description: II. 128. |  edition: https://w3id.org/hto/Edition/9929777383804340 | edition title: Encyclopaedia Britannica | edition number: 8\n",
      "term uri: https://w3id.org/hto/ArticleTermRecord/9929777383804340_193322702_5297117738_0 | description: II. 128. |  edition: https://w3id.org/hto/Edition/9929777383804340 | edition title: Encyclopaedia Britannica | edition number: 8\n"
     ]
    }
   ],
   "execution_count": 100
  },
  {
   "cell_type": "markdown",
   "source": "### Question 15: What is the text in a page?",
   "metadata": {
    "collapsed": false
   }
  },
  {
   "cell_type": "code",
   "source": [
    "# check the text of a page from Chapbooks collection\n",
    "sparql.setQuery(\"\"\"\n",
    "     PREFIX hto: <https://w3id.org/hto#>\n",
    "     SELECT * WHERE {\n",
    "        ?page a hto:Page;\n",
    "            hto:hasOriginalDescription ?desc.\n",
    "        ?desc hto:text ?text;\n",
    "            hto:hasTextQuality ?textQuality.\n",
    "    }\n",
    "    LIMIT 5\n",
    "    \"\"\"\n",
    ")\n",
    "\n",
    "try:\n",
    "    ret = sparql.queryAndConvert()\n",
    "    for r in ret[\"results\"][\"bindings\"]:\n",
    "        print(\"page uri: %s | content: %s | quality: %s\" % (r[\"page\"][\"value\"], r[\"text\"][\"value\"], r[\"textQuality\"][\"value\"]))\n",
    "except Exception as e:\n",
    "    print(e)"
   ],
   "metadata": {
    "collapsed": false,
    "ExecuteTime": {
     "end_time": "2024-11-03T22:23:24.067627Z",
     "start_time": "2024-11-03T22:23:23.607265Z"
    }
   },
   "outputs": [
    {
     "name": "stdout",
     "output_type": "stream",
     "text": [
      "page uri: https://w3id.org/hto/Page/9927010233804340_103655658_1 | content:  | quality: https://w3id.org/hto#Low\n",
      "page uri: https://w3id.org/hto/Page/9927010233804340_103655658_10 | content: 2 The Ladies Edinhuagh Magazine. may be the light of our lives, but Avhich no act of our own will can bring back. It is not till the distinction has been appreciated between nature as it is and nature as we make it to be, between that which we see and that which ' having not seen, we love,' that any branch of art can be reckoned in its proper value.\" The writer of these remarks then goes on to contrast the matter-of-fact aspect of the source of our knowledge with the aspect of philosophy, art, and religion. The former takes our knowledge to be exclusively the result of the action of human thought; the latter admits the co-operation of nature by the transmission of images. The view of art, taking its stand on this basis, involves the absolute fusion of thought and things. The habitual interpretation of natural events by the analogy of human design, is but an anticipation of, and a step towards, such a true conquest of nature. This habitual interpretation is a proof that, \" to the ordinary man, nature presents itself, not as something external, but, like a friend, as ' another liimself.'\" Pure emotion is the medium of the true conquest of nature thus daily anticipated. In it \" the experiences of life are held together, and the animal element is so fused with the spiritual as to form one organisation, through which the same impulse runs with unimpeded energy. Then man has made nature his own, by becoming a conscious partaker of the reason which animates him and it. The attainment of this consummation can only approach realisation through the operation of a power which can penetrate the whole man, and act on every moment of his life. But that power, which, in the form of religion, can make every meal a sacrament, and transform human passion into the likeness of divine love, is represented at a lower stage, not only by the unifying action of speculative philosophy, but by the combining force of art.\" Art, then, is the celebration of the union of man with nature. And he must be one with her, else whence those untold feelings of sympathy with her sublime moods, of yearning after her loveliness ? That only arouses our feeling, which has something akin to ourselves; we know this from our intercourse with our fellow-men ; we may know it too from our intercourse with nature. Those thoughts of the Oxford graduate present to our minds a philosophy, under the shadow of which we may | quality: https://w3id.org/hto#Low\n",
      "page uri: https://w3id.org/hto/Page/9927010233804340_103655658_100 | content: 92 The Ladies Edinburgh Magazine. ing. So he walked straight up the nave, peered along the transepts, then went straight through the choir and presbytery to the Lady Chapel. But no one was to be seen, save here and there an old woman at her prayers. The choir was no Av filled with a dim religious hght of many colours, that tempered the gloom of the old carved oak with motley hues. Randall, on retracing his steps down the church, paused a little west of the lectern, in front of the choristers' seats. Casting his eye over the rich stall-work, he looked at the lofty main arch east of the choir, into which the organ seemed to soar on brazen wings. Gazing then upwards beyond the arch, he felt himself dwindling into awe-struck insignificance. The warm light upon the stalls greeted him like a cheering message as he again looked around him. He was weary in body and in mind; and reassuring himself with the thought that his friends had not yet arrived, he seated himself in one of the choristers' seats, to gaze more at leisure on the wonders around him. What he gazed ou in reality was the land of dreams. Randall, on re-entering the Cathedral from the cloisters, had not failed to observe, over the porch opposite to him, a canopied niche with an antique stone figure in it. This he had supposed to be the figure of Werburga, the patron saint of the Cathedral. He had observed it mechanically and unthirddngly ; yet it formed, notwithstanding, a link in the chain of his remembrances. And no sooner had he entered dreamland, than his figure came to join itself to that which was now the central image in his thoughts. He fancied he sa AV the figure of Werburga float down from her niche, and glide noiselessly up the nave till she stood in fr(jnt of him. The figure wore a long, almost colourless robe ; her hair hung in loose ringlets over her shoulders. With a face of unearthly paleness, and eyes full of spiritual meaning, she told him that this her Cathedral was the type of her own life. Oppressed by vain and worldly suitors, she had built herself round by the walls of monastic seclusion, and fled from those who would take no denial. And thus, in a pure and saintly life, in sounding religious houses, she had found the highest happiness. Her concluding words were distinct in Randall's mind when he awoke. \" Should anyone cross your path who is crafty and vain as Werbode my suitor was, do not stay to contend with him ; remember mv words ; withd)-aw.\" | quality: https://w3id.org/hto#Low\n",
      "page uri: https://w3id.org/hto/Page/9927010233804340_103655658_101 | content: The Ladies' Edinburgh Magazine. 93 Randall was rudely awakened by a sensation that made him fancy he was falling over a precipice. On opening his eyes, he found himself thrown forward upon the reading-desk, and on standing up, discovered to his surprise that the seat was so constructed as to prevent the occupant from acquiring a habit of sleeping during service; it was movable, and as soon as the head bent forward the seat did likewise. He was glad that no one was present to witness his discomfiture; and the last word of the saint, \" Withdraw,\" which haunted him, seemed peculiarly applicable to his present situation. He reflected, however, that this was somewhat pusillanimous advice, sit only to be followed by a woman and a nun. He was even inclined to beheve that had St. Werburga met with a suitor more congenial than the crafty Werbode, she might not have been so willing to withdraw from the world, and the calendar might have boasted of one saint fewer than it possessed. Preparing now to leave the Cathedral, Randall was arrested by the sound of a voice talking. It seemed to come from the wall behind him. He looked in that direction, but an old arch which had been built up seemed to yield a double denial to the possibility of any sound penetrating it. Walking down to the north-west angle of the choir, he perceived where it joined the transept a small and ancient-looking portal. It was half open, and beyond the screen that stretched across the doorway he peeped into a email room. A row of white robes hanging along the wall, showed that this was the choristers' vestry. That it was also the music-room, was shown by the piles of music-books on the table opposite the door. Within the door, and half-hidden by the screen, was an ancient sedile of curious construction. Advancing cautiously and silently, Randall seated himself on the portion of the sedile which was hidden by the screen. Here, by bending his head forward so as to bring it into a line with the screen, he was able to see all the occupants of the chamber without being perceived by them. Six chorister boys in white surplices were seated on a bench at the further end of the room, while opposite to them, the side of her face towards Randall, stood a woman—the same he had seen in the bow-window. Was he, then, again so near her as even to hear her speak % Were these the features he had seen in his dream? It was like another dream; he dared hardly No. 3.—MARCH 1875. N | quality: https://w3id.org/hto#Low\n",
      "page uri: https://w3id.org/hto/Page/9927010233804340_103655658_102 | content: 94 The Ladies' Edinburgh Magazine. trust his eyesight. Her attitude was noble and natural, as, with the same flowing garment and simple tresses, she stood, with one hand slightly raised, the other hanging gracefully at her side, her eyes gazing intently before her, her lips moving eloquently. She must have been speaking for some time already, yet Randall, by listening attentively, was able to conjecture that the Avords now pronounced with such clearness, and accompanied by such grace of manner, formed part of an improvised lecture on music. PROCLA. (To he continued.) i^\\u hit §r. i^isthfttdorf. To many in this country the tidings of Dr. Tischendorf's death came with something of the pang of a personal loss. Not only was the department of scholarship in which he laboured one that has an interest for all, but his own career was marked by a brilliance of achievement, which never suffered expectation to fail till, ere yet the end had been thought of, hope was checked by the knowledge, first that failure of health, and now that death had arrested the cunning hand and brain, till then unresting. Now we can but turn to the past, and sorrowfully count the gains that, as his, can be added to no more. But it is well to do so, not only that Ave may know the greatness gone from us, and gratefully appreciate what this man has done, but also that, giving him his due place in the line of biblical critics, we may understand what is the work he has left behind, and, so understanding, be ready to welcome those who after him shall carry it on further towards completion. The few pages that follow cannot indeed claim to do anything towards this end; they crave indulgence merely as a feeble attempt to contribute towards making generally known the history of a scholar whose labours were for the benefit of all. Few personal details can indeed be given. This, however, seems to be of the less consequence that Tischendorf's was one of those lives which, devoted to the pursuit of a single absorbing aim, derive all meaning and interest from that aim:—nay, he may be said to have had no life apart from the central purpose that gathered to itself all his | quality: https://w3id.org/hto#Low\n"
     ]
    }
   ],
   "execution_count": 101
  },
  {
   "cell_type": "markdown",
   "source": "### Question 16: What sources the text descriptions of article _T_ or a page _P_ are extracted from?",
   "metadata": {
    "collapsed": false
   }
  },
  {
   "cell_type": "code",
   "source": [
    "article_sugar = \"<https://w3id.org/hto/ArticleTermRecord/992277653804341_144133903_6364534740_0>\"\n",
    "\n",
    "sparql.setQuery(\"\"\"\n",
    "     PREFIX hto: <https://w3id.org/hto#>\n",
    "     PREFIX prov: <http://www.w3.org/ns/prov#>\n",
    "     SELECT * WHERE {\n",
    "        %s a hto:ArticleTermRecord;\n",
    "            hto:name ?name;\n",
    "            hto:hasOriginalDescription ?desc.\n",
    "        ?desc hto:wasExtractedFrom ?source;\n",
    "            hto:text ?text.\n",
    "        ?source prov:wasAttributedTo ?agent.\n",
    "    }\n",
    "    \"\"\" % article_sugar\n",
    ")\n",
    "\n",
    "try:\n",
    "    ret = sparql.queryAndConvert()\n",
    "    for r in ret[\"results\"][\"bindings\"]:\n",
    "        print(\"name: %s | source: %s | agent: %s | description: %s \" % (r[\"name\"][\"value\"], r[\"source\"][\"value\"], r[\"agent\"][\"value\"], r[\"text\"][\"value\"]))\n",
    "except Exception as e:\n",
    "    print(e)\n"
   ],
   "metadata": {
    "collapsed": false,
    "ExecuteTime": {
     "end_time": "2024-11-03T22:23:37.138466Z",
     "start_time": "2024-11-03T22:23:36.896051Z"
    }
   },
   "outputs": [
    {
     "name": "stdout",
     "output_type": "stream",
     "text": [
      "name: SUGAR | source: https://w3id.org/hto/InformationResource/__data_EB_1_3_clean_cut_txt | agent: https://w3id.org/hto/Organization/Ash | description: in natural history, is properly the essential salt of the sugar-cane, as tartar is of the grape. See CHEMISTRY p. 161. and SACCHARUM. This plant tises to eight, nine, or more feet high ; the stalk, conic earthen. stalk, or cane, being round, jointed, and two or three inches in diameter at the bottom : the joints are three or four inches afunder, and in a rich foil more : the leaves are long and narrow and of a yellowish green colour whio s ornamented is is also the stalk itself, the top t ciodier of ariadincos tiowers, two with a panicle or three feet in length. They propagate the sugar-cane, by planting cuttings of it in the ground in furrows, dug parailel for that purpose ; the cuttings are laid level and even, and are covered up with earth ; they soon sho nt out new plants from their knots or joints : the ground is to be kept clear, at times, from weeds ; and the eanes grow so quick, that in cipht, ten, or twelve months, they are sit to cut for making of sugar from them. the manner of doing it is thus : They cut off the reeds at one of the joints near the roots; they are then cleared of the leaves, and tied upin bundles, and sent to the mills, which are worked eather by water or horses. The sugar-mill is composed of three rollers of an equal size, and all armed with iron plates, where the canes are to pass between them ; only the middle rolin is much higher than the rest, to give the larger sweep totthe two poles to which the horses are yoked. This great roller in the middle is furnished with a cog full of teeth, which catch the notches in the two side rollers, and force them about to bruise the canes, which pass quite reund the great roller, and come out dry and squeezed from all their juice ; which runs into a vessel or ba-k under the mill, and is thence conveyed through a narrow spout into the first boiler. After the juice is let out of the first ressel, it is rectired into another ; in which it is boiled more brisktly, and scummed from time to time with a large kind of spoon, piereed witholes to let the liquor through, while it retains the scum and foulness separated from it in boiling : towards the end of this boiling. 1 throw into it wood-ashes, wit a stror lixivium ome quick-lime : this romotes the separation of the among naty foulne and, after it has that yet remains amongst it boiled some time with thi ddition, they strain it off. The fæces left in the cloths make a kind of wine, when bolied in areAbites. firatly ties, in be inte a cons. in which it is boiled dhaco of sutr in to who attend it r a very brisk the pers tinually stirring and scumming it. Sreat caution is to the boiling matter does the a not rise over the ss which would be of buort tues. very dangerous consequence : they prerer his by raking up quantities of the boiling marter with a ladle. lifting it up high, and letting it run in again, and by now and then adding a small piece of batter, or fat of some kind, which takes down the bubbling almost instantancously. They are very careful that no lemon juice, or any other acid of that kind, comes near the ressels, a very small admixture of that being sufficient to keep the matter from granulating. When the liquor is bailed enough, which is known by its concreting on throwing a spoonful of it ap into the air, it is then let out into a fourth vessel, under which there is a very gentle fire, only kept up that it may have leisure to granulate ; when it has begun to granulate, it is let out of this last boiler into a kind of wrue i rthaed opuians, and the fiatlerein dermnitdi. its aperture being stopped with a wooden plug. It is lert in these vessels twenty four hout concrete; after thiy they are removed into sugar-houses, and are there arranlar order, with a ve ged in reI of earthen-ware under each ; the plug is then taken out of the bortom aperture of each, and are left in this condition for about forry days. that all the thick liquor, or melasses may run from them : ofter they have stood thus long to drain of themselves, a quantity of clay is diluted, with water, into a thin paste ; and this is poured on the top of every parcel of sugat in the vessels, so as to cover it two or three inches detp. This water, by degrees, all leaves the clay, and penetrating into the mass of sugar, runs through it, and carries off yet more of this foul thick liquid with it, into the vesseis placed underneath to receive it. When the clay is quite dry, it is taken off, and the first preparation of the sugar is n w finished ; they shake t out of the vessels and, cutting it into lumps, which are of a dirty, brownish, or greyish colour, they put it ap in hogsheads, and other casks, under the name of grey or brown sugar. The sugar, in this state, ought to be dry, not unctuous, and to have no taste of buraing. The liquor which has run from the sugar in standing, is hotled to a consistence, and fuld under the name of melasses, or treacle ; this affords, by fermentation, a very ciean and good spirit. This coarse sugar is afterwards refined to various degrees of purity by new folutions, and is sold at different prices, and under different names, according to the dgree of purity it is brought to. Our sugar refiners first disfalve it in water, then clarify the solution by bolling with whites of eggt and despumation ; and after due evaoration pour it into moulds ; where the fluid part being Irained off, and the sugar concreted, its surface is covered with moist clay, as before. The sugar thus onee refined, by repetition of the process becomes the doubleresined sugar of the shops. the candy sugar, or that in crystals, is prepared by boiling down solutions of sugar to a certain pitch, and then removing them into a hot ronm, with sticks placed across the vessel for the sugar to shoot upon : and these crystals prove of a white or brown coour, according as the sugar used in the process was puro or impure. \n",
      "name: SUGAR | source: https://w3id.org/hto/InformationResource/144133903_alto_144813475_34_xml | agent: https://w3id.org/hto/Organization/NLS | description: in natural history, is properly the essential fait of the sugar-cane, as tartar is of the grape. See Chemistry p. 161. and Saccharum. This plant rises to tight, nine, or more feet high ; theor cane, being round, jointed, and two or three inches in diameter at the bottom : the joints are three or four inches alunder, and in a rich soil more : the leaves are long and narrow, and of a yellowifh green colour; as is also the stalk itself, the top of which is ornamented with a panicle, or duller of arundinacecus flowers, two cr three feet in length. They propagate the sugar-cane, by planting cuttings of it in the ground in furrows, dug paradel for that purpose; the cuttings are laid level and even, and are covered up with earth ; they loon (hoot out new plants from their knots or joints : the ground is to be kept clear, at times, from weeds; and the canes grow so quick, that in eight, ten, or twelve months, they are sit to cut for making of sugar from them. The manner of doing it is thus : They cut off the reeds at one of the joints near the roots ; they are then cleared of the leaves, and tied up in bundles, and sent to the mills, which are worked either by water or horses. The sugar-mdl is composed of three rollers of an equal size, and all armed with iron-plates, where the canes are to pass between them; only the middle roll^ais much higher than the rest, to give the larger sweep to*the two poles to which the horses are yoked. This great roller in the middle is furnilhed with a cog full of teeth, which catch the notches in the two side.rollers, and force them about to bruise the canes, which pass quite round the great roller, and come out dry and squeezed from all their juice; which runs into a veftel or ba. k under the mill, and is thence conveyed through a narrow spout into After the juice is Jet out of the first vef Tel, it is received into another; in which it is boiled more brillcly, and scummed from time to time with a large kind of spoon, pierced with holes to let the liquor through, while it retains the scum and foulness separated from it in boiling: towards the end of this boiling, they throw into it a strong lixivium of wood-ashes, with some quick lime among it: this greatly promotes the reparation of the foulness that yet remains amongst it; and, after it has boiled some time with this addition, they strain it off. The faeces left in the cloths make a kind of wine, when fermented properly with water. The drained liquor, which is now tolerably clean, is let into a third boiler, in which it is boiled down to the confidence of sugar over a very brisk fire, the people who attend it continually ftirritfg and fcumming it. Great caution is to be used that the boiling matter does not rise over the sides of the vessel, which would be of very dangerous consequence : they prevent this by taking up quantities of the boiling matter with a ladle, lifting it up high, and letting it run in again, and by now' and then adding a small piece of batter, or sat of some kind, which takes down the bubbling aimoft inftantafieoufly. They are very careful that no lemon-juice, or any other acid of that kind, comes near the vessels, a very small admixture of that being sufficient to keep the matter from granulating. When the liquor is boiled enough, which is known by its concreting on throwing a fpoor.ful of it up into the air, it is then let out into a fourth veffd, under which there is a very gentle fire, only kept up that it may have leisure to granuiate ; when it has begun to granulate, it is let out. of this last bo Her into a kind of conic earthen vefiels, open at both ends ; the widest aperture is placed upwards, and the fmailer end downwards, its aperture being flopped with a wooden plug. It is left in thele vessels twenty.four hours to concrete : after this they are removed into sugar-houses, and are there arranged in regular order, with a vefl’el of earthen-ware under each ; the plug is then taken out of the bottom aperture of each, and they are left in this condition for about forty days, that all the thick liquor, or melafles, may run from them : after they have stood thus long to drain of themselves, a quantity of clay is diluted, with water, into a thin paste ; and this is poured on the top of every parcel of lugar in t the vefiels, so as to cover it two or three inches deep. This water, by degrees, all leaves the clay, and penetrating into the mass of sugar, runs through it, and carries off yet more of this soul thick liquid with it, into the vefleis placed underneath to receive it. When the clay is quite dry, it is taken off, and the first preparation of the sugar is nr w fimfhed; they ftiake it out of the vefleis , and, cutting it into lump?, which are of a dirty, browmfh, or greyilh colour, they put it up in hoglheads, and other cafics, under the name of grey or brown lugar. The sugar, in this state, ought to be dry, not undtuous, and to have n,o taste o 1 burning. The liquor which has run from the sugar in Handing, is boded to a consistence, and lold under the name of mel^lVs. or treacle ; this affords, by fermentation, a very ciean and This coarse sugar is afterwards refined to various degrees of purity by new solutions, and is sold at different prices, and under different names, according to the degree of purity it is brought to. Our sugar refiners first difiblve it in water, then clarify the solution by boiling with whites of eggs and defpumation ; and after due evaporation pour it into moulds ; where the fluid part being drained off, and the sugar concreted, its surface is covered with moist clay, as before. The sugar thus once refined, by repetition of the process becomes the doublerefined sugar of th§.shops. The candy.sugar, or that in crystals, is prepared by boiling down solutions of sugar to a certain pitch, and then removing them into a hot room, with liicks placed across the vefiel for the sugar to shoot upon : and these crystals prove of a white or brown colour, according as the sugar used in the process was pure \n"
     ]
    }
   ],
   "execution_count": 102
  },
  {
   "cell_type": "markdown",
   "source": "### Question 17: What is the High quality description of term _T_?",
   "metadata": {
    "collapsed": false
   }
  },
  {
   "cell_type": "code",
   "source": [
    "article_sugar = \"<https://w3id.org/hto/ArticleTermRecord/992277653804341_144133903_6364534740_0>\"\n",
    "\n",
    "sparql.setQuery(\"\"\"\n",
    "     PREFIX hto: <https://w3id.org/hto#>\n",
    "     PREFIX prov: <http://www.w3.org/ns/prov#>\n",
    "     SELECT * WHERE {\n",
    "        %s a hto:ArticleTermRecord;\n",
    "            hto:name ?name;\n",
    "            hto:hasOriginalDescription ?desc.\n",
    "        ?desc hto:wasExtractedFrom ?source;\n",
    "            hto:text ?text;\n",
    "            hto:hasTextQuality hto:High.\n",
    "        ?source prov:wasAttributedTo ?agent.\n",
    "\n",
    "    }\n",
    "    \"\"\" % article_sugar\n",
    ")\n",
    "\n",
    "try:\n",
    "    ret = sparql.queryAndConvert()\n",
    "    for r in ret[\"results\"][\"bindings\"]:\n",
    "        print(\"name: %s | description: %s | source: %s | agent: %s\" % (r[\"name\"][\"value\"], r[\"text\"][\"value\"], r[\"source\"][\"value\"], r[\"agent\"][\"value\"]))\n",
    "except Exception as e:\n",
    "    print(e)\n"
   ],
   "metadata": {
    "collapsed": false,
    "ExecuteTime": {
     "end_time": "2024-11-03T22:23:40.150552Z",
     "start_time": "2024-11-03T22:23:39.908604Z"
    }
   },
   "outputs": [
    {
     "name": "stdout",
     "output_type": "stream",
     "text": [
      "name: SUGAR | description: in natural history, is properly the essential salt of the sugar-cane, as tartar is of the grape. See CHEMISTRY p. 161. and SACCHARUM. This plant tises to eight, nine, or more feet high ; the stalk, conic earthen. stalk, or cane, being round, jointed, and two or three inches in diameter at the bottom : the joints are three or four inches afunder, and in a rich foil more : the leaves are long and narrow and of a yellowish green colour whio s ornamented is is also the stalk itself, the top t ciodier of ariadincos tiowers, two with a panicle or three feet in length. They propagate the sugar-cane, by planting cuttings of it in the ground in furrows, dug parailel for that purpose ; the cuttings are laid level and even, and are covered up with earth ; they soon sho nt out new plants from their knots or joints : the ground is to be kept clear, at times, from weeds ; and the eanes grow so quick, that in cipht, ten, or twelve months, they are sit to cut for making of sugar from them. the manner of doing it is thus : They cut off the reeds at one of the joints near the roots; they are then cleared of the leaves, and tied upin bundles, and sent to the mills, which are worked eather by water or horses. The sugar-mill is composed of three rollers of an equal size, and all armed with iron plates, where the canes are to pass between them ; only the middle rolin is much higher than the rest, to give the larger sweep totthe two poles to which the horses are yoked. This great roller in the middle is furnished with a cog full of teeth, which catch the notches in the two side rollers, and force them about to bruise the canes, which pass quite reund the great roller, and come out dry and squeezed from all their juice ; which runs into a vessel or ba-k under the mill, and is thence conveyed through a narrow spout into the first boiler. After the juice is let out of the first ressel, it is rectired into another ; in which it is boiled more brisktly, and scummed from time to time with a large kind of spoon, piereed witholes to let the liquor through, while it retains the scum and foulness separated from it in boiling : towards the end of this boiling. 1 throw into it wood-ashes, wit a stror lixivium ome quick-lime : this romotes the separation of the among naty foulne and, after it has that yet remains amongst it boiled some time with thi ddition, they strain it off. The fæces left in the cloths make a kind of wine, when bolied in areAbites. firatly ties, in be inte a cons. in which it is boiled dhaco of sutr in to who attend it r a very brisk the pers tinually stirring and scumming it. Sreat caution is to the boiling matter does the a not rise over the ss which would be of buort tues. very dangerous consequence : they prerer his by raking up quantities of the boiling marter with a ladle. lifting it up high, and letting it run in again, and by now and then adding a small piece of batter, or fat of some kind, which takes down the bubbling almost instantancously. They are very careful that no lemon juice, or any other acid of that kind, comes near the ressels, a very small admixture of that being sufficient to keep the matter from granulating. When the liquor is bailed enough, which is known by its concreting on throwing a spoonful of it ap into the air, it is then let out into a fourth vessel, under which there is a very gentle fire, only kept up that it may have leisure to granulate ; when it has begun to granulate, it is let out of this last boiler into a kind of wrue i rthaed opuians, and the fiatlerein dermnitdi. its aperture being stopped with a wooden plug. It is lert in these vessels twenty four hout concrete; after thiy they are removed into sugar-houses, and are there arranlar order, with a ve ged in reI of earthen-ware under each ; the plug is then taken out of the bortom aperture of each, and are left in this condition for about forry days. that all the thick liquor, or melasses may run from them : ofter they have stood thus long to drain of themselves, a quantity of clay is diluted, with water, into a thin paste ; and this is poured on the top of every parcel of sugat in the vessels, so as to cover it two or three inches detp. This water, by degrees, all leaves the clay, and penetrating into the mass of sugar, runs through it, and carries off yet more of this foul thick liquid with it, into the vesseis placed underneath to receive it. When the clay is quite dry, it is taken off, and the first preparation of the sugar is n w finished ; they shake t out of the vessels and, cutting it into lumps, which are of a dirty, brownish, or greyish colour, they put it ap in hogsheads, and other casks, under the name of grey or brown sugar. The sugar, in this state, ought to be dry, not unctuous, and to have no taste of buraing. The liquor which has run from the sugar in standing, is hotled to a consistence, and fuld under the name of melasses, or treacle ; this affords, by fermentation, a very ciean and good spirit. This coarse sugar is afterwards refined to various degrees of purity by new folutions, and is sold at different prices, and under different names, according to the dgree of purity it is brought to. Our sugar refiners first disfalve it in water, then clarify the solution by bolling with whites of eggt and despumation ; and after due evaoration pour it into moulds ; where the fluid part being Irained off, and the sugar concreted, its surface is covered with moist clay, as before. The sugar thus onee refined, by repetition of the process becomes the doubleresined sugar of the shops. the candy sugar, or that in crystals, is prepared by boiling down solutions of sugar to a certain pitch, and then removing them into a hot ronm, with sticks placed across the vessel for the sugar to shoot upon : and these crystals prove of a white or brown coour, according as the sugar used in the process was puro or impure. | source: https://w3id.org/hto/InformationResource/__data_EB_1_3_clean_cut_txt | agent: https://w3id.org/hto/Organization/Ash\n"
     ]
    }
   ],
   "execution_count": 103
  },
  {
   "cell_type": "markdown",
   "source": "### Question 18: What are the descriptions of term _T_ with the highest text quality?",
   "metadata": {
    "collapsed": false
   }
  },
  {
   "cell_type": "code",
   "source": [
    "article_sugar = \"<https://w3id.org/hto/ArticleTermRecord/9910796233804340_193108317_6364534740_0>\"\n",
    "\n",
    "sparql.setQuery(\"\"\"\n",
    "     PREFIX hto: <https://w3id.org/hto#>\n",
    "     PREFIX prov: <http://www.w3.org/ns/prov#>\n",
    "     SELECT * WHERE {\n",
    "        %s a hto:ArticleTermRecord;\n",
    "            hto:name ?name;\n",
    "            hto:hasOriginalDescription ?desc.\n",
    "        ?desc ?derived_type ?source;\n",
    "            hto:text ?text;\n",
    "            hto:hasTextQuality ?textQuality.\n",
    "        FILTER (?derived_type = prov:wasDerivedFrom || ?derived_type = hto:wasExtractedFrom)\n",
    "        ?source prov:wasAttributedTo ?agent.\n",
    "        FILTER NOT EXISTS {\n",
    "          %s hto:hasOriginalDescription [hto:hasTextQuality [hto:isTextQualityHigherThan ?textQuality]].\n",
    "        }\n",
    "    }\n",
    "    \"\"\" % (article_sugar, article_sugar)\n",
    ")\n",
    "\n",
    "try:\n",
    "    ret = sparql.queryAndConvert()\n",
    "    for r in ret[\"results\"][\"bindings\"]:\n",
    "        print(\"name: %s | description: %s | source: %s | agent: %s | text quality: %s\" % (r[\"name\"][\"value\"], r[\"text\"][\"value\"], r[\"source\"][\"value\"], r[\"agent\"][\"value\"], r[\"textQuality\"][\"value\"]))\n",
    "except Exception as e:\n",
    "    print(e)\n"
   ],
   "metadata": {
    "collapsed": false,
    "ExecuteTime": {
     "end_time": "2024-11-03T22:32:34.243952Z",
     "start_time": "2024-11-03T22:32:34.004835Z"
    }
   },
   "outputs": [
    {
     "name": "stdout",
     "output_type": "stream",
     "text": [
      "name: SUGAR | description: a solid sweet substance juice of the sugar-cane, or, according essential fair, capable of cryftallization, agreeable flavour, and contained in a greater type in almost every species of vegetables, abundant in the sugar-cane. As the sugar-cane is the principal West Indies, and the great source of is so important in a commercial view, meant which it gives to seamen, and the opens for merchants; and besides now safety of life and it may just be esteemed valuable plants in the world. The in Europe is estimated at nine million demand would probably be greater if a reduced price. Since freighter is curious a commodity, it must be an one Ct persons of curiosity and research, to obtain knowledge of the history and nature which it is produced, as well as to access by which the juice is extracted will therefore first inquire in what countries flouriftied, and when it was brought and became an article of commerce. From the few remains of the Grecian tigers which have survived the ravages find no purpose that the juice of the sugar-cane | source: https://w3id.org/hto/OriginalDescription/9910796233804340_193108317_6364534740_0NLS | agent: https://github.com/defoe-code/defoe | text quality: https://w3id.org/hto#Moderate\n"
     ]
    }
   ],
   "execution_count": 115
  },
  {
   "cell_type": "markdown",
   "source": "### Question 19: What software was used to extract the description of article _T_ or a page _P_?",
   "metadata": {
    "collapsed": false
   }
  },
  {
   "cell_type": "code",
   "source": [
    "article_sugar = \"<https://w3id.org/hto/ArticleTermRecord/992277653804341_144133903_6364534740_0>\"\n",
    "\n",
    "sparql.setQuery(\"\"\"\n",
    "     PREFIX hto: <https://w3id.org/hto#>\n",
    "     PREFIX prov: <http://www.w3.org/ns/prov#>\n",
    "     SELECT * WHERE {\n",
    "        %s a hto:ArticleTermRecord;\n",
    "            hto:name ?name;\n",
    "            hto:hasOriginalDescription ?desc.\n",
    "        ?desc ?derived_type ?source;\n",
    "            hto:text ?text;\n",
    "            prov:wasAttributedTo ?software.\n",
    "        FILTER (?derived_type = prov:wasDerivedFrom || ?derived_type = hto:wasExtractedFrom)\n",
    "        ?software a hto:SoftwareAgent.\n",
    "        ?source prov:wasAttributedTo ?agent.\n",
    "        ?agent a ?agentType.\n",
    "    }\n",
    "    \"\"\" % (article_sugar)\n",
    ")\n",
    "\n",
    "try:\n",
    "    ret = sparql.queryAndConvert()\n",
    "    for r in ret[\"results\"][\"bindings\"]:\n",
    "        print(\"name: %s | description: %s | extracted using software: %s | source: %s | agent: %s \" % (r[\"name\"][\"value\"], r[\"text\"][\"value\"], r[\"software\"][\"value\"], r[\"source\"][\"value\"], r[\"agent\"][\"value\"]))\n",
    "except Exception as e:\n",
    "    print(e)\n"
   ],
   "metadata": {
    "collapsed": false,
    "ExecuteTime": {
     "end_time": "2024-11-03T22:35:37.194345Z",
     "start_time": "2024-11-03T22:35:36.810568Z"
    }
   },
   "outputs": [
    {
     "name": "stdout",
     "output_type": "stream",
     "text": [
      "name: SUGAR | description: in natural history, is properly the essential part of the sugar-cane, as tartar is of the grape. See Chemistry p. 161. and Saccharum. This plant rises to light, nine, or more feet high; their cane, being round, joined, and two or three inches in diameter at the bottom: the joints are three or four inches angular, and in a rich soil more: the leaves are long and narrow, and of a yellowish green colour; as is also the stalk itself, the top of which is ornamented with a panicle, or fuller of arundinacecus flowers, two or three feet in length. They propagate the sugar-cane, by planting cuttings of it in the ground in furrows, dug parallel for that purpose; the cuttings are laid level and even, and are covered up with earth; they look ( shoot out new plants from their knots or joints: the ground is to be kept clear, at times, from weeds; and the canes grow so quick, that in eight, ten, or twelve months, they are set to cut for making of sugar from them. The manner of doing it is thus: They cut off the reeds at one of the joints near the roots; they are then cleared of the leaves, and tied up in bundles, and sent to the mills, which are worked either by water or horses. The sugar-model is composed of three rollers of an equal size, and all armed with iron-plates, where the canes are to pass between them; only the middle roll^ais much higher than the rest, to give the larger sweep those two poles to which the horses are used. This great roller in the middle is furnished with a cog full of teeth, which catch the notches in the two side.rollers, and force them about to bruise the canes, which pass quite round the great roller, and come out dry and squeezed from all their juice; which runs into a veftel or beta. k under the mill, and is then conveyed through a narrow spot into After the juice is Jet out of the first beef Tel, it is received into another; in which it is boiled more brilliantly, and summed from time to time with a large kind of spoon, pierced with holes to let the liquid through, while it retains the scum and fullness separated from it in boiling: towards the end of this boiling, they throw into it a strong lixivium of wood-ashes, with some quick lime among it: this greatly promotes the reputation of the foulness that yet remains amongst it; and, after it has boiled some time with this addition, they strain it off. The faeces left in the cloths make a kind of wine, when fermented properly with water. The drained liquor, which is now temporarily clean, is let into a third boiler, in which it is boiled down to the confidence of sugar over a very brisk fire, the people who attend it continually ftirritfg and fcumming it. Great caution is to be used that the boiling matter does not rise over the sides of the vessel, which would be of very dangerous consequence: they prevent this by taking up quantities of the boiling matter with a ladle, lifting it up high, and letting it run in again, and by now ' and then adding a small piece of butter, or set of some kind, which takes down the bubbling aimoft inftantafieoufly. They are very careful that no lemon-juice, or any other acid of that kind, comes near the vessels, a very small admixture of that being sufficient to keep the matter from granulating. When the liquor is boiled enough, which is known by its concentrating on throwing a fpoor.ful of it up into the air, it is then let out into a fourth effect, under which there is a very gentle fire, only kept up that it may have leisure to guarantee; when it has begun to granulate, it is let out. of this last two Her into a kind of iconic earthen vehicles, open at both ends; the widest aperture is placed upwards, and the familiar end downwards, its aperture being flipped with a wooden plug. It is left in these vessels twenty.four hours to concrete: after this they are removed into sugar-houses, and are there arranged in regular order, with a level of earthen-where under each; the plug is then taken out of the bottom aperture of each, and they are left in this condition for about forty days, that all the thick liquor, or melafles, may run from them: after they have stood this long to drain of themselves, a quantity of clay is diluted, with water, into a thin paste; and this is poured on the top of every parcel of sugar in the the vehicles, so as to cover it two or three inches deep. This water, by degrees, all leaves the clay, and penetrating into the mass of sugar, runs through it, and carries off yet more of this soil thick liquid with it, into the vehicles placed underneath to receive it. When the clay is quite dry, it is taken off, and the first preparation of the sugar is or we finished; they ftiake it out of the vehicles, and, cutting it into lump, which are of a dirty, browmfh, or greyilh colour, they put it up in headlights, and other cafics, under the name of grey or brown sugar. The sugar, in this state, ought to be dry, not unctuous, and to have n, to taste of 1 burning. The liquor which has run from the sugar in Handing, is boded to a consistency, and sold under the name of mel^lVs. or treacle; this affords, by fermentation, a very clean and This coarse sugar is afterwards refined to various degrees of purity by new solutions, and is sold at different prices, and under different names, according to the degree of purity it is brought to. Our sugar refiners first dissolve it in water, then clarify the solution by boiling with whites of eggs and defpumation; and after the evaporation pour it into moulds; where the fluid part being drained off, and the sugar converted, its surface is covered with moist clay, as before. The sugar thus once refined, by repetition of the process becomes the doublerefined sugar of th§.shops. The candy.sugar, or that in crystals, is prepared by boiling down solutions of sugar to a certain pitch, and then removing them into a hot room, with licks placed across the vefiel for the sugar to shoot upon: and these crystals prove of a white or brown colour, according as the sugar used in the process was pure | extracted using software: https://github.com/neuspell/neuspell | source: https://w3id.org/hto/OriginalDescription/992277653804341_144133903_6364534740_0NLS | agent: https://github.com/defoe-code/defoe \n",
      "name: SUGAR | description: in natural history, is properly the essential salt of the sugar-cane, as tartar is of the grape. See CHEMISTRY p. 161. and SACCHARUM. This plant tises to eight, nine, or more feet high ; the stalk, conic earthen. stalk, or cane, being round, jointed, and two or three inches in diameter at the bottom : the joints are three or four inches afunder, and in a rich foil more : the leaves are long and narrow and of a yellowish green colour whio s ornamented is is also the stalk itself, the top t ciodier of ariadincos tiowers, two with a panicle or three feet in length. They propagate the sugar-cane, by planting cuttings of it in the ground in furrows, dug parailel for that purpose ; the cuttings are laid level and even, and are covered up with earth ; they soon sho nt out new plants from their knots or joints : the ground is to be kept clear, at times, from weeds ; and the eanes grow so quick, that in cipht, ten, or twelve months, they are sit to cut for making of sugar from them. the manner of doing it is thus : They cut off the reeds at one of the joints near the roots; they are then cleared of the leaves, and tied upin bundles, and sent to the mills, which are worked eather by water or horses. The sugar-mill is composed of three rollers of an equal size, and all armed with iron plates, where the canes are to pass between them ; only the middle rolin is much higher than the rest, to give the larger sweep totthe two poles to which the horses are yoked. This great roller in the middle is furnished with a cog full of teeth, which catch the notches in the two side rollers, and force them about to bruise the canes, which pass quite reund the great roller, and come out dry and squeezed from all their juice ; which runs into a vessel or ba-k under the mill, and is thence conveyed through a narrow spout into the first boiler. After the juice is let out of the first ressel, it is rectired into another ; in which it is boiled more brisktly, and scummed from time to time with a large kind of spoon, piereed witholes to let the liquor through, while it retains the scum and foulness separated from it in boiling : towards the end of this boiling. 1 throw into it wood-ashes, wit a stror lixivium ome quick-lime : this romotes the separation of the among naty foulne and, after it has that yet remains amongst it boiled some time with thi ddition, they strain it off. The fæces left in the cloths make a kind of wine, when bolied in areAbites. firatly ties, in be inte a cons. in which it is boiled dhaco of sutr in to who attend it r a very brisk the pers tinually stirring and scumming it. Sreat caution is to the boiling matter does the a not rise over the ss which would be of buort tues. very dangerous consequence : they prerer his by raking up quantities of the boiling marter with a ladle. lifting it up high, and letting it run in again, and by now and then adding a small piece of batter, or fat of some kind, which takes down the bubbling almost instantancously. They are very careful that no lemon juice, or any other acid of that kind, comes near the ressels, a very small admixture of that being sufficient to keep the matter from granulating. When the liquor is bailed enough, which is known by its concreting on throwing a spoonful of it ap into the air, it is then let out into a fourth vessel, under which there is a very gentle fire, only kept up that it may have leisure to granulate ; when it has begun to granulate, it is let out of this last boiler into a kind of wrue i rthaed opuians, and the fiatlerein dermnitdi. its aperture being stopped with a wooden plug. It is lert in these vessels twenty four hout concrete; after thiy they are removed into sugar-houses, and are there arranlar order, with a ve ged in reI of earthen-ware under each ; the plug is then taken out of the bortom aperture of each, and are left in this condition for about forry days. that all the thick liquor, or melasses may run from them : ofter they have stood thus long to drain of themselves, a quantity of clay is diluted, with water, into a thin paste ; and this is poured on the top of every parcel of sugat in the vessels, so as to cover it two or three inches detp. This water, by degrees, all leaves the clay, and penetrating into the mass of sugar, runs through it, and carries off yet more of this foul thick liquid with it, into the vesseis placed underneath to receive it. When the clay is quite dry, it is taken off, and the first preparation of the sugar is n w finished ; they shake t out of the vessels and, cutting it into lumps, which are of a dirty, brownish, or greyish colour, they put it ap in hogsheads, and other casks, under the name of grey or brown sugar. The sugar, in this state, ought to be dry, not unctuous, and to have no taste of buraing. The liquor which has run from the sugar in standing, is hotled to a consistence, and fuld under the name of melasses, or treacle ; this affords, by fermentation, a very ciean and good spirit. This coarse sugar is afterwards refined to various degrees of purity by new folutions, and is sold at different prices, and under different names, according to the dgree of purity it is brought to. Our sugar refiners first disfalve it in water, then clarify the solution by bolling with whites of eggt and despumation ; and after due evaoration pour it into moulds ; where the fluid part being Irained off, and the sugar concreted, its surface is covered with moist clay, as before. The sugar thus onee refined, by repetition of the process becomes the doubleresined sugar of the shops. the candy sugar, or that in crystals, is prepared by boiling down solutions of sugar to a certain pitch, and then removing them into a hot ronm, with sticks placed across the vessel for the sugar to shoot upon : and these crystals prove of a white or brown coour, according as the sugar used in the process was puro or impure. | extracted using software: https://github.com/frances-ai/frances-InformationExtraction | source: https://w3id.org/hto/InformationResource/__data_EB_1_3_clean_cut_txt | agent: https://w3id.org/hto/Organization/Ash \n",
      "name: SUGAR | description: in natural history, is properly the essential fait of the sugar-cane, as tartar is of the grape. See Chemistry p. 161. and Saccharum. This plant rises to tight, nine, or more feet high ; theor cane, being round, jointed, and two or three inches in diameter at the bottom : the joints are three or four inches alunder, and in a rich soil more : the leaves are long and narrow, and of a yellowifh green colour; as is also the stalk itself, the top of which is ornamented with a panicle, or duller of arundinacecus flowers, two cr three feet in length. They propagate the sugar-cane, by planting cuttings of it in the ground in furrows, dug paradel for that purpose; the cuttings are laid level and even, and are covered up with earth ; they loon (hoot out new plants from their knots or joints : the ground is to be kept clear, at times, from weeds; and the canes grow so quick, that in eight, ten, or twelve months, they are sit to cut for making of sugar from them. The manner of doing it is thus : They cut off the reeds at one of the joints near the roots ; they are then cleared of the leaves, and tied up in bundles, and sent to the mills, which are worked either by water or horses. The sugar-mdl is composed of three rollers of an equal size, and all armed with iron-plates, where the canes are to pass between them; only the middle roll^ais much higher than the rest, to give the larger sweep to*the two poles to which the horses are yoked. This great roller in the middle is furnilhed with a cog full of teeth, which catch the notches in the two side.rollers, and force them about to bruise the canes, which pass quite round the great roller, and come out dry and squeezed from all their juice; which runs into a veftel or ba. k under the mill, and is thence conveyed through a narrow spout into After the juice is Jet out of the first vef Tel, it is received into another; in which it is boiled more brillcly, and scummed from time to time with a large kind of spoon, pierced with holes to let the liquor through, while it retains the scum and foulness separated from it in boiling: towards the end of this boiling, they throw into it a strong lixivium of wood-ashes, with some quick lime among it: this greatly promotes the reparation of the foulness that yet remains amongst it; and, after it has boiled some time with this addition, they strain it off. The faeces left in the cloths make a kind of wine, when fermented properly with water. The drained liquor, which is now tolerably clean, is let into a third boiler, in which it is boiled down to the confidence of sugar over a very brisk fire, the people who attend it continually ftirritfg and fcumming it. Great caution is to be used that the boiling matter does not rise over the sides of the vessel, which would be of very dangerous consequence : they prevent this by taking up quantities of the boiling matter with a ladle, lifting it up high, and letting it run in again, and by now' and then adding a small piece of batter, or sat of some kind, which takes down the bubbling aimoft inftantafieoufly. They are very careful that no lemon-juice, or any other acid of that kind, comes near the vessels, a very small admixture of that being sufficient to keep the matter from granulating. When the liquor is boiled enough, which is known by its concreting on throwing a fpoor.ful of it up into the air, it is then let out into a fourth veffd, under which there is a very gentle fire, only kept up that it may have leisure to granuiate ; when it has begun to granulate, it is let out. of this last bo Her into a kind of conic earthen vefiels, open at both ends ; the widest aperture is placed upwards, and the fmailer end downwards, its aperture being flopped with a wooden plug. It is left in thele vessels twenty.four hours to concrete : after this they are removed into sugar-houses, and are there arranged in regular order, with a vefl’el of earthen-ware under each ; the plug is then taken out of the bottom aperture of each, and they are left in this condition for about forty days, that all the thick liquor, or melafles, may run from them : after they have stood thus long to drain of themselves, a quantity of clay is diluted, with water, into a thin paste ; and this is poured on the top of every parcel of lugar in t the vefiels, so as to cover it two or three inches deep. This water, by degrees, all leaves the clay, and penetrating into the mass of sugar, runs through it, and carries off yet more of this soul thick liquid with it, into the vefleis placed underneath to receive it. When the clay is quite dry, it is taken off, and the first preparation of the sugar is nr w fimfhed; they ftiake it out of the vefleis , and, cutting it into lump?, which are of a dirty, browmfh, or greyilh colour, they put it up in hoglheads, and other cafics, under the name of grey or brown lugar. The sugar, in this state, ought to be dry, not undtuous, and to have n,o taste o 1 burning. The liquor which has run from the sugar in Handing, is boded to a consistence, and lold under the name of mel^lVs. or treacle ; this affords, by fermentation, a very ciean and This coarse sugar is afterwards refined to various degrees of purity by new solutions, and is sold at different prices, and under different names, according to the degree of purity it is brought to. Our sugar refiners first difiblve it in water, then clarify the solution by boiling with whites of eggs and defpumation ; and after due evaporation pour it into moulds ; where the fluid part being drained off, and the sugar concreted, its surface is covered with moist clay, as before. The sugar thus once refined, by repetition of the process becomes the doublerefined sugar of th§.shops. The candy.sugar, or that in crystals, is prepared by boiling down solutions of sugar to a certain pitch, and then removing them into a hot room, with liicks placed across the vefiel for the sugar to shoot upon : and these crystals prove of a white or brown colour, according as the sugar used in the process was pure | extracted using software: https://github.com/defoe-code/defoe | source: https://w3id.org/hto/InformationResource/144133903_alto_144813475_34_xml | agent: https://w3id.org/hto/Organization/NLS \n"
     ]
    }
   ],
   "execution_count": 118
  },
  {
   "cell_type": "markdown",
   "source": "### Question 20: What software was used to digitise a document?",
   "metadata": {
    "collapsed": false
   }
  },
  {
   "cell_type": "code",
   "source": [
    "# Find software used to generate the source which the description of an article was extracted.\n",
    "article_earth = \"<https://w3id.org/hto/ArticleTermRecord/9910796273804340_193322688_5297117738_0>\"\n",
    "\n",
    "sparql.setQuery(\"\"\"\n",
    "     PREFIX hto: <https://w3id.org/hto#>\n",
    "     PREFIX prov: <http://www.w3.org/ns/prov#>\n",
    "     SELECT * WHERE {\n",
    "        %s a hto:ArticleTermRecord;\n",
    "            hto:name ?name;\n",
    "            hto:hasOriginalDescription ?desc.\n",
    "        ?desc ?derived_type ?source;\n",
    "            hto:text ?text.\n",
    "        FILTER (?derived_type = prov:wasDerivedFrom || ?derived_type = hto:wasExtractedFrom)\n",
    "        OPTIONAL {\n",
    "            ?source prov:wasAttributedTo ?software.\n",
    "            ?software a hto:SoftwareAgent.\n",
    "        }\n",
    "    }\n",
    "    \"\"\" % (article_earth)\n",
    ")\n",
    "\n",
    "try:\n",
    "    ret = sparql.queryAndConvert()\n",
    "    for r in ret[\"results\"][\"bindings\"]:\n",
    "        software = None\n",
    "        if \"software\" in r:\n",
    "            software = r[\"software\"][\"value\"]\n",
    "        print(\"name: %s | description: %s | source: %s | created using %s\" % (r[\"name\"][\"value\"], r[\"text\"][\"value\"], r[\"source\"][\"value\"], software))\n",
    "except Exception as e:\n",
    "    print(e)\n"
   ],
   "metadata": {
    "collapsed": false,
    "ExecuteTime": {
     "end_time": "2024-11-03T22:47:25.146755Z",
     "start_time": "2024-11-03T22:47:24.878507Z"
    }
   },
   "outputs": [
    {
     "name": "stdout",
     "output_type": "stream",
     "text": [
      "name: EARTH | description: amongst ancient philosophers, one elements of which the whole system of nature was Earth, in Astronomy and Geography, one many planets, being the terraqueous globe which habit.( See the articles Figure of the Earth, | source: https://w3id.org/hto/OriginalDescription/9910796273804340_193322688_5297117738_0NLS | created using https://github.com/defoe-code/defoe\n",
      "name: EARTH | description: amongst ancient philosophers, owe of the four elements of which the whole system of nature was believed to be composed. | source: https://raw.githubusercontent.com/TU-plogan/kp-editions/main/eb07/TXT_v2/e8/kp-eb0708-039107-8218-v2.txt | created using https://pdf.abbyy.com\n",
      "name: EARTH | description: amongst ancient philosophers, one elements of which the whole system of nature was Earth, in Astronomy and Geography, one mary planets, being the terraqueous globe which habit. (See the articles Figure of the Earth, | source: https://w3id.org/hto/InformationResource/193322688_alto_193328220_34_xml | created using None\n"
     ]
    }
   ],
   "execution_count": 128
  },
  {
   "metadata": {},
   "cell_type": "markdown",
   "source": "### Question 21: What is the primary name and alternative names of an article T"
  },
  {
   "metadata": {
    "ExecuteTime": {
     "end_time": "2024-11-03T23:19:01.002392Z",
     "start_time": "2024-11-03T23:19:00.759720Z"
    }
   },
   "cell_type": "code",
   "source": [
    "article_aurora = \"<https://w3id.org/hto/TopicTermRecord/9910796273804340_193108322_9268244686_0>\"\n",
    "\n",
    "sparql.setQuery(\"\"\"\n",
    "     PREFIX hto: <https://w3id.org/hto#>\n",
    "     PREFIX rdfs: <http://www.w3.org/2000/01/rdf-schema#>\n",
    "     SELECT * WHERE {\n",
    "        %s a hto:TopicTermRecord;\n",
    "            hto:name ?primary_name.\n",
    "        OPTIONAL {\n",
    "          %s rdfs:label ?alter_name.\n",
    "        }\n",
    "    }\n",
    "    \"\"\" % (article_aurora, article_aurora)\n",
    ")\n",
    "\n",
    "try:\n",
    "    ret = sparql.queryAndConvert()\n",
    "    names = {} \n",
    "    for r in ret[\"results\"][\"bindings\"]:\n",
    "        names[\"primary_name\"] = r[\"primary_name\"][\"value\"]\n",
    "        if \"alter_names\" in names:\n",
    "            names[\"alter_names\"].append(r[\"alter_name\"][\"value\"])\n",
    "        else:\n",
    "            names[\"alter_names\"] = [r[\"alter_name\"][\"value\"]]\n",
    "    print(names)       \n",
    "except Exception as e:\n",
    "    print(e)"
   ],
   "outputs": [
    {
     "name": "stdout",
     "output_type": "stream",
     "text": [
      "{'primary_name': 'AURORA BOREALIS', 'alter_names': ['NORTHERN LIGHTS', 'POLAR LIGHT', 'STREAMERS']}\n"
     ]
    }
   ],
   "execution_count": 138
  },
  {
   "cell_type": "markdown",
   "source": "### Question 22: List all articles which have more than one name",
   "metadata": {
    "collapsed": false
   }
  },
  {
   "cell_type": "code",
   "source": [
    "sparql.setQuery(\"\"\"\n",
    "     PREFIX hto: <https://w3id.org/hto#>\n",
    "     PREFIX rdfs: <http://www.w3.org/2000/01/rdf-schema#>\n",
    "     SELECT ?term (COUNT(?alter_name) AS ?n) WHERE {\n",
    "        ?term a hto:ArticleTermRecord;\n",
    "            rdfs:label ?alter_name.\n",
    "    }\n",
    "    GROUP BY ?term\n",
    "    LIMIT 10\n",
    "    \"\"\"\n",
    ")\n",
    "\n",
    "try:\n",
    "    ret = sparql.queryAndConvert()\n",
    "    for r in ret[\"results\"][\"bindings\"]:\n",
    "        if \"term\" in r:\n",
    "            print(\"term uri: %s | total number of names: %s\" % (r[\"term\"][\"value\"], int(r[\"n\"][\"value\"]) + 1))\n",
    "except Exception as e:\n",
    "    print(e)\n"
   ],
   "metadata": {
    "collapsed": false,
    "ExecuteTime": {
     "end_time": "2024-11-03T22:53:07.599677Z",
     "start_time": "2024-11-03T22:53:07.331858Z"
    }
   },
   "outputs": [
    {
     "name": "stdout",
     "output_type": "stream",
     "text": [
      "term uri: https://w3id.org/hto/ArticleTermRecord/992277653804341_144133902_5359492829_0 | total number of names: 3\n",
      "term uri: https://w3id.org/hto/ArticleTermRecord/9910796273804340_192984259_5290102410_0 | total number of names: 2\n",
      "term uri: https://w3id.org/hto/ArticleTermRecord/992277653804341_144133902_7766210292_0 | total number of names: 2\n",
      "term uri: https://w3id.org/hto/ArticleTermRecord/9910796273804340_193819043_206098831_0 | total number of names: 2\n",
      "term uri: https://w3id.org/hto/ArticleTermRecord/9910796273804340_193322690_9390612085_0 | total number of names: 2\n",
      "term uri: https://w3id.org/hto/ArticleTermRecord/992277653804341_144133902_3676360847_0 | total number of names: 2\n",
      "term uri: https://w3id.org/hto/ArticleTermRecord/9910796273804340_193057500_1074856715_0 | total number of names: 2\n",
      "term uri: https://w3id.org/hto/ArticleTermRecord/9910796273804340_193057500_3869508535_1 | total number of names: 2\n",
      "term uri: https://w3id.org/hto/ArticleTermRecord/9910796273804340_193469091_3256066965_0 | total number of names: 2\n",
      "term uri: https://w3id.org/hto/ArticleTermRecord/9910796273804340_193057500_9467760648_0 | total number of names: 2\n"
     ]
    }
   ],
   "execution_count": 133
  },
  {
   "cell_type": "markdown",
   "source": "### Question 23: List editions which was revision of another edition",
   "metadata": {
    "collapsed": false
   }
  },
  {
   "cell_type": "code",
   "source": [
    "sparql.setQuery(\"\"\"\n",
    "     PREFIX hto: <https://w3id.org/hto#>\n",
    "     PREFIX prov: <http://www.w3.org/ns/prov#>\n",
    "     SELECT * WHERE {\n",
    "        ?revision a hto:Edition;\n",
    "            prov:wasRevisionOf ?edition;\n",
    "            hto:number ?r_edition_num.\n",
    "        ?edition a hto:Edition;\n",
    "            hto:number ?edition_num.\n",
    "    }\n",
    "    \"\"\"\n",
    ")\n",
    "\n",
    "try:\n",
    "    ret = sparql.queryAndConvert()\n",
    "    for r in ret[\"results\"][\"bindings\"]:\n",
    "        print(\"edition %s - < %s > was revision of edition %s -< %s >\" % (r[\"revision\"][\"value\"], r[\"r_edition_num\"][\"value\"], r[\"edition\"][\"value\"], r[\"edition_num\"][\"value\"]))\n",
    "except Exception as e:\n",
    "    print(e)\n"
   ],
   "metadata": {
    "collapsed": false,
    "ExecuteTime": {
     "end_time": "2024-11-03T21:32:07.269045Z",
     "start_time": "2024-11-03T21:32:07.022335Z"
    }
   },
   "outputs": [
    {
     "name": "stdout",
     "output_type": "stream",
     "text": [
      "edition https://w3id.org/hto/Edition/9929192893804340 - < 1 > was revision of edition https://w3id.org/hto/Edition/992277653804341 -< 1 >\n"
     ]
    }
   ],
   "execution_count": 71
  },
  {
   "cell_type": "markdown",
   "source": "### Question 24: Find the summary of the description of a topic article _A_",
   "metadata": {
    "collapsed": false
   }
  },
  {
   "cell_type": "code",
   "source": [
    "topic_a = \"<https://w3id.org/hto/TopicTermRecord/9910796273804340_192693199_9335647130_0>\"\n",
    "\n",
    "sparql.setQuery(\"\"\"\n",
    "     PREFIX hto: <https://w3id.org/hto#>\n",
    "     SELECT * WHERE {\n",
    "        %s a hto:TopicTermRecord;\n",
    "            hto:name ?name;\n",
    "            hto:hasOriginalDescription ?description.\n",
    "        ?description a hto:OriginalDescription;\n",
    "            hto:hasSummary ?summary.\n",
    "        ?summary hto:text ?text.\n",
    "    }\n",
    "    \"\"\" % topic_a\n",
    ")\n",
    "\n",
    "try:\n",
    "    ret = sparql.queryAndConvert()\n",
    "    for r in ret[\"results\"][\"bindings\"]:\n",
    "        print(\"term name: %s | summary: %s\" % (r[\"name\"][\"value\"], r[\"text\"][\"value\"]))\n",
    "except Exception as e:\n",
    "    print(e)\n"
   ],
   "metadata": {
    "collapsed": false,
    "ExecuteTime": {
     "end_time": "2024-11-03T21:32:12.457379Z",
     "start_time": "2024-11-03T21:32:12.090928Z"
    }
   },
   "outputs": [
    {
     "name": "stdout",
     "output_type": "stream",
     "text": [
      "term name: HYGROMETRY | summary: The formation of steam or aqueous vapour, and its diffusion in space or in a gaseous medium, have already been considered under the article Evaporation. We now propose first to take a view of various methods and devices which have been employed to detect the presence of aqueous vapour, and to ascertain its amount, or how much of it is contained in a given volume, whether when alone or diffused in a gaseous medium. It will, however, be proper briefly to notice a few of those either already become obsolete, or soon to be so, were it only to show their imperfection. It is therefore of no other use than as a mere toy; for the value of an instrument employed as a measure of any kind must depend not only on its being at first accurately constructed, but likewise upon its indications not being, ccBtøris paribus, liable to change. The preceding remarks upon the effects of a change of humidity on organic substances may enable us to correct what we consider a great mistake. The axis extends about half the length of the frame; and a part of it next the index is formed into a screw of fourteen or fifteen threads. Captain Kater recommended that all observations made with his hygrometer should be reduced to what they would have been had the entire scale, or the utmost range traversed by the index, consisted of a thousand degrees, which would be ten complete revolutions. The changes in the humidity of the air are then meant to be indicated by the changes in the position of the beam, arising from the gain or loss of weight in the suspended body. But the expansions and contractions of hair and of whalebone are, from the tenuity of their, substance, somewhat more expeditious in acquiring the humidity or dryness of the surrounding air. They have therefore been employed in the construction of hygrometers; the former by Saussure, and the latter by Deluc. 4, terminate in a screw which enters the hollow screw C, fig. The other end a of the hair is held by the inferior mouth of the double and moveable pincers a, seen separately at A, fig. The wire is fixed to the arbor by a small pin F. The other end D of the arbor has the form of a pulley, with a groove flat at the bottom to receive a fine silk thread, by which is suspended the counterpoise marked g in fig. At the corners of the base of the frame are four screws o, o, o, o, for the purpose of levelling the base, or making the instrument stand upright. It only remains to select those which are cleanest, softest, most brilliant, and most transparent.\n"
     ]
    }
   ],
   "execution_count": 72
  },
  {
   "cell_type": "markdown",
   "source": "### Question 25: List all records for a concept",
   "metadata": {
    "collapsed": false
   }
  },
  {
   "cell_type": "code",
   "source": [
    "concept_uri = \"<https://w3id.org/hto/Concept/6194477897_2>\"\n",
    "\n",
    "sparql.setQuery(\"\"\"\n",
    "    PREFIX hto: <https://w3id.org/hto#>\n",
    "    SELECT * WHERE {\n",
    "        %s a hto:Concept;\n",
    "            hto:hadConceptRecord ?record.\n",
    "    }\n",
    "    \"\"\" % concept_uri\n",
    ")\n",
    "\n",
    "try:\n",
    "    ret = sparql.queryAndConvert()\n",
    "    for r in ret[\"results\"][\"bindings\"]:\n",
    "        print(\"record uri: %s \" % (r[\"record\"][\"value\"]))\n",
    "except Exception as e:\n",
    "    print(e)"
   ],
   "metadata": {
    "collapsed": false,
    "ExecuteTime": {
     "end_time": "2024-11-03T21:41:19.205852Z",
     "start_time": "2024-11-03T21:41:17.922377Z"
    }
   },
   "outputs": [
    {
     "name": "stdout",
     "output_type": "stream",
     "text": [
      "record uri: http://www.wikidata.org/entity/Q1226939 \n",
      "record uri: https://w3id.org/hto/ArticleTermRecord/9910796273804340_193322688_6194477897_1 \n",
      "record uri: https://w3id.org/hto/ArticleTermRecord/992277653804341_144133902_6194477897_0 \n",
      "record uri: https://w3id.org/hto/ArticleTermRecord/9929192893804340_144850367_6194477897_0 \n"
     ]
    }
   ],
   "execution_count": 89
  },
  {
   "cell_type": "markdown",
   "source": "### Question 26: Given a description uri, track the source",
   "metadata": {
    "collapsed": false
   }
  },
  {
   "cell_type": "code",
   "source": [
    "\"\"\"\n",
    "In this example, we show how to keep tracking the source of an article description, including what entity it was derived from (an entity here is anything with provenance information, such as another description, or a text file, or a xml file, or an image), what software was used, who created it. \n",
    "Given a given description uri, here we will return a dictionary with entity uri as the key, and entity object as the value. This entity object have the following format: {'source_uri': '', 'entity_type': '', 'agent_type': '', 'agent_name': ''}. \n",
    "For example, we have the following result:\n",
    "{'entityA': \n",
    "    {'source_uri': 'entityB', 'entity_type': 'OriginalDescription', 'agent_type': 'SoftwareAgent', 'agent_name': 'frances information extraction'}, \n",
    "'entityB': \n",
    "    {'source_uri': None, 'entity_type': 'InformationResource', 'agent_type': 'Person', 'agent_name': 'Ash Charlton'}\n",
    "}\n",
    "You can find the source of an entity by mapping the source_uri to the entity_uri. In above example, we can find that InformationResource entityB is the source of the OriginalDescription entityA. \n",
    "\"\"\"\n",
    "\n",
    "# entity_uri = \"https://raw.githubusercontent.com/TU-plogan/kp-editions/main/eb07/TXT_v2/e8/kp-eb0708-039107-8218-v2.txt\"\n",
    "\n",
    "entity_uri = \"https://w3id.org/hto/OriginalDescription/992277653804341_144133903_6364534740_0Ash\"\n",
    "#entity_uri = \"https://w3id.org/hto/InformationResource/__data_EB_1_3_clean_cut_txt\"\n",
    "\n",
    "def get_source(entity_uri):\n",
    "    if entity_uri is None:\n",
    "        return None\n",
    "\n",
    "    entity_uri = \"<\" + entity_uri + \">\"\n",
    "    sparql.setQuery(\"\"\"\n",
    "        PREFIX hto: <https://w3id.org/hto#>\n",
    "        PREFIX prov: <http://www.w3.org/ns/prov#>\n",
    "        PREFIX foaf: <http://xmlns.com/foaf/0.1/>\n",
    "        SELECT * WHERE {\n",
    "            %s a ?entity_type;\n",
    "                prov:wasAttributedTo ?agent.\n",
    "            ?agent a ?agent_type;\n",
    "                foaf:name ?agent_name.\n",
    "            OPTIONAL {\n",
    "            %s ?derived_type ?source.\n",
    "            FILTER (?derived_type = prov:wasDerivedFrom || ?derived_type = hto:wasExtractedFrom)\n",
    "            }\n",
    "        } LIMIT 20\n",
    "        \"\"\" % (entity_uri, entity_uri)\n",
    "    )\n",
    "\n",
    "    try:\n",
    "        ret = sparql.queryAndConvert()\n",
    "        source = {}\n",
    "        for r in ret[\"results\"][\"bindings\"]:\n",
    "            source_uri = None\n",
    "            if 'source' in r:\n",
    "                source_uri = r['source']['value']\n",
    "            source[\"source_uri\"] = source_uri\n",
    "            source[\"entity_type\"] = r['entity_type']['value']\n",
    "            agent_type = r['agent_type']['value']\n",
    "            agent_type_name = agent_type.split(\"#\")[-1]\n",
    "            source[\"agent_type\"] = agent_type_name\n",
    "            source[\"agent_name\"] = r['agent_name']['value']\n",
    "\n",
    "        return source\n",
    "    except Exception as e:\n",
    "        print(e)\n",
    "        return None\n",
    "\n",
    "\n",
    "def track_all_sources(entity_uri):\n",
    "    sources = {}\n",
    "    tmp_source_uri = entity_uri\n",
    "    while tmp_source_uri:\n",
    "        current_source_info = get_source(tmp_source_uri)\n",
    "        sources[tmp_source_uri] = current_source_info\n",
    "        tmp_source_uri = current_source_info[\"source_uri\"]\n",
    "    return sources\n",
    "print(track_all_sources(entity_uri))"
   ],
   "metadata": {
    "collapsed": false,
    "ExecuteTime": {
     "end_time": "2024-11-04T00:06:47.326587Z",
     "start_time": "2024-11-04T00:06:46.826655Z"
    }
   },
   "outputs": [
    {
     "name": "stdout",
     "output_type": "stream",
     "text": [
      "{'https://w3id.org/hto/OriginalDescription/992277653804341_144133903_6364534740_0Ash': {'source_uri': 'https://w3id.org/hto/InformationResource/__data_EB_1_3_clean_cut_txt', 'entity_type': 'https://w3id.org/hto#OriginalDescription', 'agent_type': 'SoftwareAgent', 'agent_name': 'frances information extraction'}, 'https://w3id.org/hto/InformationResource/__data_EB_1_3_clean_cut_txt': {'source_uri': None, 'entity_type': 'https://w3id.org/hto#InformationResource', 'agent_type': 'Person', 'agent_name': 'Ash Charlton'}}\n"
     ]
    }
   ],
   "execution_count": 142
  },
  {
   "cell_type": "markdown",
   "source": [],
   "metadata": {
    "collapsed": false
   }
  }
 ],
 "metadata": {
  "kernelspec": {
   "display_name": "Python 3",
   "language": "python",
   "name": "python3"
  },
  "language_info": {
   "codemirror_mode": {
    "name": "ipython",
    "version": 2
   },
   "file_extension": ".py",
   "mimetype": "text/x-python",
   "name": "python",
   "nbconvert_exporter": "python",
   "pygments_lexer": "ipython2",
   "version": "2.7.6"
  }
 },
 "nbformat": 4,
 "nbformat_minor": 0
}
