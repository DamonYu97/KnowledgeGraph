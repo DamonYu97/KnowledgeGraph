{
 "cells": [
  {
   "cell_type": "markdown",
   "source": [
    "# Knowledge Exploration With SPARQL queries\n",
    "This notebook explores the knowledge in knowledge graphs generated in this repository using sparql queries.\n",
    "Overall, we will query the graph from a remote SPARQL Query Server.\n",
    "\n",
    "Questions this knowledge graph should answer:\n",
    "1. List all digitalised collections in this graph.\n",
    "2. What volumes, editions, or series does a digitalised collection _C_ include?\n",
    "3. What time period does a digitalised collection _C_ cover? (next version)\n",
    "4. When was edition _E_, series _S_, or volume _V_ published?\n",
    "5. Who published edition _E_, series _S_, or volume _V_?\n",
    "6. Who edited edition _E_, series _S_, or volume _V_?\n",
    "7. Which genre does an edition _E_, series _S_, or volume _V_ belongs to?\n",
    "8. Where was an edition _E_, series _S_, or volume _V_ published or printed?\n",
    "9. Which language did an edition _E_, series _S_, or volume _V_ use?\n",
    "10. In EB, what articles a volume _V_ include?\n",
    "11. Where an EB article _A_ was described (in a page, volume, edition)?\n",
    "12. What are the EB articles which appear in all edition?\n",
    "13. What EB articles were only appeared once in edition _E_?\n",
    "14. What are EB articles related to another EB article _T_?\n",
    "15. What are EB articles which has similar description to _T_?\n",
    "16. How a term with name _T_ was described in all editions?\n",
    "17. What is the text in a page?\n",
    "18. What sources the text descriptions of article _T_ or a page _P_ are extracted from?\n",
    "19. What is the clean description of term _T_?\n",
    "20. What are the descriptions of term _T_ with the highest text quality?\n",
    "21. What software was used to extract the description of article _T_ or a page _P_?\n",
    "22. What software was used to digitise a document?"
   ],
   "metadata": {
    "collapsed": false
   }
  },
  {
   "cell_type": "markdown",
   "source": [
    "## Load the graph"
   ],
   "metadata": {
    "collapsed": false
   }
  },
  {
   "cell_type": "code",
   "execution_count": 21,
   "outputs": [],
   "source": [
    "from SPARQLWrapper import SPARQLWrapper, JSON\n",
    "\n",
    "sparql = SPARQLWrapper(\n",
    "    \"http://query.frances-ai.com/hto\"\n",
    ")\n",
    "sparql.setReturnFormat(JSON)"
   ],
   "metadata": {
    "collapsed": false
   }
  },
  {
   "cell_type": "markdown",
   "source": [
    "## Query the graph\n",
    "\n",
    "### Question 1: List all digital collections"
   ],
   "metadata": {
    "collapsed": false
   }
  },
  {
   "cell_type": "code",
   "execution_count": 2,
   "outputs": [
    {
     "name": "stdout",
     "output_type": "stream",
     "text": [
      "collection uri: https://w3id.org/hto/WorkCollection/EncyclopaediaBritannica| name: Encyclopaedia Britannica Collection\n"
     ]
    }
   ],
   "source": [
    "sparql.setQuery(\"\"\"\n",
    "    PREFIX hto: <https://w3id.org/hto#>\n",
    "    SELECT ?collection ?name WHERE {\n",
    "        ?collection a hto:WorkCollection;\n",
    "            hto:name ?name.\n",
    "        FILTER (regex(?name, \"Collection$\", \"i\"))\n",
    "        }\n",
    "    \"\"\"\n",
    ")\n",
    "\n",
    "try:\n",
    "    ret = sparql.queryAndConvert()\n",
    "\n",
    "    for r in ret[\"results\"][\"bindings\"]:\n",
    "        print(\"collection uri: %s| name: %s\" % (r[\"collection\"][\"value\"], r[\"name\"][\"value\"]))\n",
    "except Exception as e:\n",
    "    print(e)\n"
   ],
   "metadata": {
    "collapsed": false
   }
  },
  {
   "cell_type": "markdown",
   "source": [
    "### Question 2: What volumes, editions, or series does a digitalised collection _C_ include?"
   ],
   "metadata": {
    "collapsed": false
   }
  },
  {
   "cell_type": "code",
   "execution_count": 3,
   "outputs": [
    {
     "name": "stdout",
     "output_type": "stream",
     "text": [
      "Edition uri: https://w3id.org/hto/Edition/9910796343804340 | MMSID: 9910796343804340 | title: Supplement to the third edition of the Encyclopaedia Britannica ... Illustrated with ... copperplates | subtitle: None | number: None\n",
      "Edition uri: https://w3id.org/hto/Edition/9910796373804340 | MMSID: 9910796373804340 | title: Supplement to the fourth, fifth and sixth editions of the Encyclopaedia Britannica | subtitle: None | number: None\n",
      "Edition uri: https://w3id.org/hto/Edition/992277653804341 | MMSID: 992277653804341 | title: Encyclopaedia Britannica; or, A dictionary of arts and sciences, compiled upon a new plan | subtitle: Illustrated with one hundred and sixty copperplates | number: 1\n",
      "Edition uri: https://w3id.org/hto/Edition/9929192893804340 | MMSID: 9929192893804340 | title: Encyclopaedia Britannica: or, A dictionary of arts and sciences | subtitle: compiled upon a new plan. In which the different sciences and arts are digested into distinct treatises or systems; and the various technical terms, &c. are explained as they occur in the order of the alphabet. Illustrated with one hundred and sixty copperplates | number: 1\n",
      "Edition uri: https://w3id.org/hto/Edition/997902523804341 | MMSID: 997902523804341 | title: Encyclopaedia Britannica | subtitle: or, a dictionary of arts, sciences, &c. On a plan entirely new: ... The second edition; greatly improved and enlarged. Illustrated with above two hundred copperplates | number: 2\n",
      "Edition uri: https://w3id.org/hto/Edition/997902543804341 | MMSID: 997902543804341 | title: Encyclopaedia Britannica | subtitle: or, a dictionary of arts, sciences, and miscellaneous literature; ... The third edition, in eighteen volumes, greatly improved. Illustrated with five hundred and forty-two copperplates | number: 3\n",
      "Edition uri: https://w3id.org/hto/Edition/9910796233804340 | MMSID: 9910796233804340 | title: Encyclopaedia Britannica; or, A dictionary of arts, sciences, and miscellaneous literature | subtitle: None | number: 4\n",
      "Edition uri: https://w3id.org/hto/Edition/9922270543804340 | MMSID: 9922270543804340 | title: Encyclopaedia Britannica, or, a Dictionary of arts, sciences, and miscellaneous literature : enlarged and improved. Illustrated with nearly six hundred engravings | subtitle: None | number: 5\n",
      "Edition uri: https://w3id.org/hto/Edition/9910796253804340 | MMSID: 9910796253804340 | title: Encyclopaedia Britannica | subtitle: None | number: 6\n",
      "Edition uri: https://w3id.org/hto/Edition/9910796273804340 | MMSID: 9910796273804340 | title: Encyclopaedia Britannica | subtitle: None | number: 7\n",
      "Edition uri: https://w3id.org/hto/Edition/9929777383804340 | MMSID: 9929777383804340 | title: Encyclopaedia Britannica | subtitle: None | number: 8\n"
     ]
    }
   ],
   "source": [
    "## List all editions of Encyclopaedia Britannica collection\n",
    "eb_collection = \"<https://w3id.org/hto/WorkCollection/EncyclopaediaBritannica>\"\n",
    "\n",
    "sparql.setQuery(\"\"\"\n",
    "    PREFIX hto: <https://w3id.org/hto#>\n",
    "    SELECT * WHERE {\n",
    "        %s  a hto:WorkCollection;\n",
    "            hto:hadMember ?edition.\n",
    "        ?edition a hto:Edition;\n",
    "            hto:mmsid ?mmsid;\n",
    "            hto:title ?title.\n",
    "        OPTIONAL {\n",
    "            ?edition hto:subtitle ?subtitle;\n",
    "        }\n",
    "        OPTIONAL {\n",
    "            ?edition hto:number ?number.\n",
    "        }\n",
    "} ORDER BY ?number\n",
    "    \"\"\" % eb_collection\n",
    ")\n",
    "\n",
    "try:\n",
    "    ret = sparql.queryAndConvert()\n",
    "\n",
    "    for r in ret[\"results\"][\"bindings\"]:\n",
    "        subtitle = None\n",
    "        number =None\n",
    "        if \"subtitle\" in r:\n",
    "            subtitle = r[\"subtitle\"][\"value\"]\n",
    "        if \"number\" in r:\n",
    "            number = r[\"number\"][\"value\"]\n",
    "        print(\"Edition uri: %s | MMSID: %s | title: %s | subtitle: %s | number: %s\" % (r[\"edition\"][\"value\"], r[\"mmsid\"][\"value\"], r[\"title\"][\"value\"], subtitle,  number))\n",
    "except Exception as e:\n",
    "    print(e)"
   ],
   "metadata": {
    "collapsed": false
   }
  },
  {
   "cell_type": "code",
   "execution_count": 4,
   "outputs": [
    {
     "name": "stdout",
     "output_type": "stream",
     "text": [
      "Volume uri: https://w3id.org/hto/Volume/9910796273804340_192547789 | title: Seventh edition, General index | number: 0 | id: 192547789 |  permanent url: https://digital.nls.uk/192547789 | letters: None\n",
      "Volume uri: https://w3id.org/hto/Volume/9910796273804340_192984258 | title: Seventh edition, Volume 1, Preliminary dissertations | number: 1 | id: 192984258 |  permanent url: https://digital.nls.uk/192984258 | letters: Preliminarydissertations\n",
      "Volume uri: https://w3id.org/hto/Volume/9910796273804340_192984259 | title: Seventh edition, Volume 2, A-Anatomy | number: 2 | id: 192984259 |  permanent url: https://digital.nls.uk/192984259 | letters: A-Anatomy\n",
      "Volume uri: https://w3id.org/hto/Volume/9910796273804340_193057500 | title: Seventh edition, Volume 3, Anatomy-Astronomy | number: 3 | id: 193057500 |  permanent url: https://digital.nls.uk/193057500 | letters: Anatomy-Astronomy\n",
      "Volume uri: https://w3id.org/hto/Volume/9910796273804340_193108322 | title: Seventh edition, Volume 4, Astronomy-BOR | number: 4 | id: 193108322 |  permanent url: https://digital.nls.uk/193108322 | letters: Astronomy-BOR\n",
      "Volume uri: https://w3id.org/hto/Volume/9910796273804340_193696083 | title: Seventh edition, Volume 5, BOR-CAL | number: 5 | id: 193696083 |  permanent url: https://digital.nls.uk/193696083 | letters: BOR-CAL\n",
      "Volume uri: https://w3id.org/hto/Volume/9910796273804340_193322690 | title: Seventh edition, Volume 6, CAL-Clock | number: 6 | id: 193322690 |  permanent url: https://digital.nls.uk/193322690 | letters: CAL-Clock\n",
      "Volume uri: https://w3id.org/hto/Volume/9910796273804340_193819043 | title: Seventh edition, Volume 7, CLO-Dialling | number: 7 | id: 193819043 |  permanent url: https://digital.nls.uk/193819043 | letters: CLO-Dialling\n",
      "Volume uri: https://w3id.org/hto/Volume/9910796273804340_193322688 | title: Seventh edition, Volume 8, DIA-England | number: 8 | id: 193322688 |  permanent url: https://digital.nls.uk/193322688 | letters: DIA-England\n",
      "Volume uri: https://w3id.org/hto/Volume/9910796273804340_193696084 | title: Seventh edition, Volume 9, England-FRA | number: 9 | id: 193696084 |  permanent url: https://digital.nls.uk/193696084 | letters: England-FRA\n",
      "Volume uri: https://w3id.org/hto/Volume/9910796273804340_193469090 | title: Seventh edition, Volume 10, France-GRO | number: 10 | id: 193469090 |  permanent url: https://digital.nls.uk/193469090 | letters: France-GRO\n",
      "Volume uri: https://w3id.org/hto/Volume/9910796273804340_193638940 | title: Seventh edition, Volume 11, Grotius-HYD | number: 11 | id: 193638940 |  permanent url: https://digital.nls.uk/193638940 | letters: Grotius-HYD\n",
      "Volume uri: https://w3id.org/hto/Volume/9910796273804340_192693199 | title: Seventh edition, Volume 12, Hydrodynamics-KYR | number: 12 | id: 192693199 |  permanent url: https://digital.nls.uk/192693199 | letters: Hydrodynamics-KYR\n",
      "Volume uri: https://w3id.org/hto/Volume/9910796273804340_193108323 | title: Seventh edition, Volume 13, LAB-Magnetism | number: 13 | id: 193108323 |  permanent url: https://digital.nls.uk/193108323 | letters: LAB-Magnetism\n",
      "Volume uri: https://w3id.org/hto/Volume/9910796273804340_193322689 | title: Seventh edition, Volume 14, Magnetism-Mexico | number: 14 | id: 193322689 |  permanent url: https://digital.nls.uk/193322689 | letters: Magnetism-Mexico\n",
      "Volume uri: https://w3id.org/hto/Volume/9910796273804340_193819044 | title: Seventh edition, Volume 15, MEY-Navigation | number: 15 | id: 193819044 |  permanent url: https://digital.nls.uk/193819044 | letters: MEY-Navigation\n",
      "Volume uri: https://w3id.org/hto/Volume/9910796273804340_194474782 | title: Seventh edition, Volume 16, Navigation-PAN | number: 16 | id: 194474782 |  permanent url: https://digital.nls.uk/194474782 | letters: Navigation-PAN\n",
      "Volume uri: https://w3id.org/hto/Volume/9910796273804340_193469091 | title: Seventh edition, Volume 17, PAN-Plastic nature | number: 17 | id: 193469091 |  permanent url: https://digital.nls.uk/193469091 | letters: PAN-Plasticnature\n",
      "Volume uri: https://w3id.org/hto/Volume/9910796273804340_193469092 | title: Seventh edition, Volume 18, PLA-QUI | number: 18 | id: 193469092 |  permanent url: https://digital.nls.uk/193469092 | letters: PLA-QUI\n",
      "Volume uri: https://w3id.org/hto/Volume/9910796273804340_193057501 | title: Seventh edition, Volume 19, RAB-SCU | number: 19 | id: 193057501 |  permanent url: https://digital.nls.uk/193057501 | letters: RAB-SCU\n",
      "Volume uri: https://w3id.org/hto/Volume/9910796273804340_193913444 | title: Seventh edition, Volume 20, Sculpture-SUR | number: 20 | id: 193913444 |  permanent url: https://digital.nls.uk/193913444 | letters: Sculpture-SUR\n",
      "Volume uri: https://w3id.org/hto/Volume/9910796273804340_193819045 | title: Seventh edition, Volume 21, Surveying-ZYM | number: 21 | id: 193819045 |  permanent url: https://digital.nls.uk/193819045 | letters: Surveying-ZYM\n"
     ]
    }
   ],
   "source": [
    "## List all volumes in Encyclopaedia Britannica 7th Edition\n",
    "eb_edition7 = \"<https://w3id.org/hto/Edition/9910796273804340>\"\n",
    "\n",
    "sparql.setQuery(\"\"\"\n",
    "     PREFIX hto: <https://w3id.org/hto#>\n",
    "     SELECT * WHERE {\n",
    "        %s  a hto:Edition;\n",
    "            hto:hadMember ?volume.\n",
    "        ?volume a hto:Volume;\n",
    "            hto:title ?title;\n",
    "            hto:number ?number;\n",
    "            hto:volumeId ?volumeId;\n",
    "            hto:permanentURL ?permanentURL.\n",
    "        OPTIONAL {\n",
    "            ?volume hto:letters ?letters;\n",
    "        }\n",
    "    } ORDER BY ?number\n",
    "    \"\"\" % eb_edition7\n",
    ")\n",
    "\n",
    "try:\n",
    "    ret = sparql.queryAndConvert()\n",
    "\n",
    "    for r in ret[\"results\"][\"bindings\"]:\n",
    "        letters = None\n",
    "        if \"letters\" in r:\n",
    "            letters = r[\"letters\"][\"value\"]\n",
    "        print(\"Volume uri: %s | title: %s | number: %s | id: %s |  permanent url: %s | letters: %s\" % (r[\"volume\"][\"value\"], r[\"title\"][\"value\"] ,r[\"number\"][\"value\"], r[\"volumeId\"][\"value\"], r[\"permanentURL\"][\"value\"], letters))\n",
    "except Exception as e:\n",
    "    print(e)"
   ],
   "metadata": {
    "collapsed": false
   }
  },
  {
   "cell_type": "markdown",
   "source": [
    "### Question 3: What time period does a digitalised collection _C_ cover? (next version)"
   ],
   "metadata": {
    "collapsed": false
   }
  },
  {
   "cell_type": "code",
   "execution_count": 33,
   "outputs": [],
   "source": [
    "# TODO Get time period which a digitalised collection _C_ cover"
   ],
   "metadata": {
    "collapsed": false
   }
  },
  {
   "cell_type": "markdown",
   "source": [
    "### Question 4: When was edition _E_, series _S_, or volume _V_ published?"
   ],
   "metadata": {
    "collapsed": false
   }
  },
  {
   "cell_type": "code",
   "execution_count": 5,
   "outputs": [
    {
     "name": "stdout",
     "output_type": "stream",
     "text": [
      "MMSID: 9910796273804340 | title: Encyclopaedia Britannica |  number: 7 | year published: 1842 \n"
     ]
    }
   ],
   "source": [
    "eb_edition7 = \"<https://w3id.org/hto/Edition/9910796273804340>\"\n",
    "\n",
    "sparql.setQuery(\"\"\"\n",
    "     PREFIX hto: <https://w3id.org/hto#>\n",
    "     SELECT * WHERE {\n",
    "        %s  a hto:Edition;\n",
    "            hto:mmsid ?mmsid;\n",
    "            hto:title ?title;\n",
    "            hto:number ?number;\n",
    "            hto:yearPublished ?year_published;\n",
    "    }\n",
    "    \"\"\" % eb_edition7\n",
    ")\n",
    "\n",
    "try:\n",
    "    ret = sparql.queryAndConvert()\n",
    "\n",
    "    for r in ret[\"results\"][\"bindings\"]:\n",
    "        print(\"MMSID: %s | title: %s |  number: %s | year published: %s \" % (r[\"mmsid\"][\"value\"], r[\"title\"][\"value\"] ,r[\"number\"][\"value\"], r[\"year_published\"][\"value\"]))\n",
    "except Exception as e:\n",
    "    print(e)\n"
   ],
   "metadata": {
    "collapsed": false
   }
  },
  {
   "cell_type": "markdown",
   "source": [
    "### Question 5: Who published edition _E_, series _S_, or volume _V_?"
   ],
   "metadata": {
    "collapsed": false
   }
  },
  {
   "cell_type": "code",
   "execution_count": 6,
   "outputs": [
    {
     "name": "stdout",
     "output_type": "stream",
     "text": [
      "MMSID: 9910796273804340 | title: Encyclopaedia Britannica | number: 7 | year published: 1842 | | (publisher: None | name: None) \n"
     ]
    }
   ],
   "source": [
    "from rdflib.namespace import FOAF\n",
    "\n",
    "eb_edition7 = \"<https://w3id.org/hto/Edition/9910796273804340>\"\n",
    "\n",
    "sparql.setQuery(\"\"\"\n",
    "     PREFIX hto: <https://w3id.org/hto#>\n",
    "     PREFIX foaf: <http://xmlns.com/foaf/0.1/>\n",
    "     SELECT * WHERE {\n",
    "        %s  a hto:Edition;\n",
    "            hto:mmsid ?mmsid;\n",
    "            hto:title ?title;\n",
    "            hto:number ?number;\n",
    "            hto:yearPublished ?year_published.\n",
    "        OPTIONAL {\n",
    "            %s hto:publisher ?publisher.\n",
    "            ?publisher foaf:name ?publisher_name;\n",
    "        }\n",
    "    }\n",
    "    \"\"\" % (eb_edition7, eb_edition7)\n",
    ")\n",
    "\n",
    "try:\n",
    "    ret = sparql.queryAndConvert()\n",
    "\n",
    "    for r in ret[\"results\"][\"bindings\"]:\n",
    "        publisher = None\n",
    "        if \"publisher\" in r:\n",
    "            publisher = r[\"publisher\"][\"value\"]\n",
    "        publisher_name = None\n",
    "        if \"publisher_name\" in r:\n",
    "            publisher_name = r[\"publisher_name\"][\"value\"]\n",
    "        print(\"MMSID: %s | title: %s | number: %s | year published: %s | | (publisher: %s | name: %s) \" % (r[\"mmsid\"][\"value\"], r[\"title\"][\"value\"] ,r[\"number\"][\"value\"], r[\"year_published\"][\"value\"], publisher, publisher_name))\n",
    "except Exception as e:\n",
    "    print(e)"
   ],
   "metadata": {
    "collapsed": false
   }
  },
  {
   "cell_type": "markdown",
   "source": [
    "### Question 6: Who edited edition _E_, series _S_, or volume _V_?"
   ],
   "metadata": {
    "collapsed": false
   }
  },
  {
   "cell_type": "code",
   "execution_count": 7,
   "outputs": [
    {
     "name": "stdout",
     "output_type": "stream",
     "text": [
      "MMSID: 9910796273804340 | title: Encyclopaedia Britannica | number: 7 | year published: 1842 | (editor: https://w3id.org/hto/Person/1436491835 | name: Stewart, Dugald | terms of address: Sir | 1753-1828 ) \n"
     ]
    }
   ],
   "source": [
    "from rdflib.namespace import FOAF\n",
    "\n",
    "eb_edition7 = \"<https://w3id.org/hto/Edition/9910796273804340>\"\n",
    "\n",
    "sparql.setQuery(\"\"\"\n",
    "     PREFIX hto: <https://w3id.org/hto#>\n",
    "     PREFIX foaf: <http://xmlns.com/foaf/0.1/>\n",
    "     SELECT * WHERE {\n",
    "        %s  a hto:Edition;\n",
    "            hto:mmsid ?mmsid;\n",
    "            hto:title ?title;\n",
    "            hto:number ?number;\n",
    "            hto:yearPublished ?year_published.\n",
    "        OPTIONAL {\n",
    "            %s hto:editor ?editor.\n",
    "            ?editor a hto:Person;\n",
    "                foaf:name ?editor_name;\n",
    "            OPTIONAL {\n",
    "                ?editor hto:birthYear ?birthYear.\n",
    "            }\n",
    "            OPTIONAL {\n",
    "                ?editor hto:deathYear ?deathYear.\n",
    "            }\n",
    "            OPTIONAL {\n",
    "                ?editor hto:termsOfAddress ?termsOfAddress.\n",
    "            }\n",
    "        }\n",
    "}\n",
    "    \"\"\" % (eb_edition7, eb_edition7)\n",
    ")\n",
    "\n",
    "try:\n",
    "    ret = sparql.queryAndConvert()\n",
    "\n",
    "    for r in ret[\"results\"][\"bindings\"]:\n",
    "        editor = None\n",
    "        if \"editor\" in r:\n",
    "            editor = r[\"editor\"][\"value\"]\n",
    "        editor_name = None\n",
    "        if \"editor_name\" in r:\n",
    "            editor_name = r[\"editor_name\"][\"value\"]\n",
    "        birthYear = None\n",
    "        if \"birthYear\" in r:\n",
    "            birthYear = r[\"birthYear\"][\"value\"]\n",
    "        deathYear = None\n",
    "        if \"deathYear\" in r:\n",
    "            deathYear = r[\"deathYear\"][\"value\"]\n",
    "        termsOfAddress = None\n",
    "        if \"termsOfAddress\" in r:\n",
    "            termsOfAddress = r[\"termsOfAddress\"][\"value\"]\n",
    "        print(\"MMSID: %s | title: %s | number: %s | year published: %s | (editor: %s | name: %s | terms of address: %s | %s-%s ) \" % (r[\"mmsid\"][\"value\"], r[\"title\"][\"value\"] ,r[\"number\"][\"value\"], r[\"year_published\"][\"value\"], editor, editor_name, termsOfAddress, birthYear, deathYear))\n",
    "except Exception as e:\n",
    "    print(e)"
   ],
   "metadata": {
    "collapsed": false
   }
  },
  {
   "cell_type": "markdown",
   "source": [
    "### Question 7: Which genre does a volume _V_ belongs to?"
   ],
   "metadata": {
    "collapsed": false
   }
  },
  {
   "cell_type": "code",
   "execution_count": 8,
   "outputs": [
    {
     "name": "stdout",
     "output_type": "stream",
     "text": [
      "MMSID: 9910796273804340 | title: Encyclopaedia Britannica |  number: 7 | genre: encyclopedia \n"
     ]
    }
   ],
   "source": [
    "eb_edition7 = \"<https://w3id.org/hto/Edition/9910796273804340>\"\n",
    "\n",
    "sparql.setQuery(\"\"\"\n",
    "     PREFIX hto: <https://w3id.org/hto#>\n",
    "     SELECT * WHERE {\n",
    "        %s  a hto:Edition;\n",
    "            hto:mmsid ?mmsid;\n",
    "            hto:title ?title;\n",
    "            hto:number ?number;\n",
    "            hto:genre ?genre;\n",
    "    }\n",
    "    \"\"\" % eb_edition7\n",
    ")\n",
    "\n",
    "try:\n",
    "    ret = sparql.queryAndConvert()\n",
    "\n",
    "    for r in ret[\"results\"][\"bindings\"]:\n",
    "        print(\"MMSID: %s | title: %s |  number: %s | genre: %s \" % (r[\"mmsid\"][\"value\"], r[\"title\"][\"value\"] ,r[\"number\"][\"value\"], r[\"genre\"][\"value\"]))\n",
    "except Exception as e:\n",
    "    print(e)"
   ],
   "metadata": {
    "collapsed": false
   }
  },
  {
   "cell_type": "markdown",
   "source": [
    "### Question 8: Where was a volume _V_ published or printed?"
   ],
   "metadata": {
    "collapsed": false
   }
  },
  {
   "cell_type": "code",
   "execution_count": 9,
   "outputs": [
    {
     "name": "stdout",
     "output_type": "stream",
     "text": [
      "MMSID: 9910796273804340 | title: Encyclopaedia Britannica |  number: 7 | place printed: https://w3id.org/hto/Location/3744239112 | shelf locator: https://w3id.org/hto/Location/881055320 \n"
     ]
    }
   ],
   "source": [
    "eb_edition7 = \"<https://w3id.org/hto/Edition/9910796273804340>\"\n",
    "\n",
    "sparql.setQuery(\"\"\"\n",
    "     PREFIX hto: <https://w3id.org/hto#>\n",
    "     SELECT * WHERE {\n",
    "        %s  a hto:Edition;\n",
    "            hto:mmsid ?mmsid;\n",
    "            hto:title ?title;\n",
    "            hto:number ?number;\n",
    "            hto:printedAt ?placePrinted;\n",
    "            hto:shelfLocator ?shelfLocator.\n",
    "    }\n",
    "    \"\"\" % eb_edition7\n",
    ")\n",
    "\n",
    "try:\n",
    "    ret = sparql.queryAndConvert()\n",
    "\n",
    "    for r in ret[\"results\"][\"bindings\"]:\n",
    "        print(\"MMSID: %s | title: %s |  number: %s | place printed: %s | shelf locator: %s \" % (r[\"mmsid\"][\"value\"], r[\"title\"][\"value\"] ,r[\"number\"][\"value\"], r[\"placePrinted\"][\"value\"], r[\"shelfLocator\"][\"value\"]))\n",
    "except Exception as e:\n",
    "    print(e)"
   ],
   "metadata": {
    "collapsed": false
   }
  },
  {
   "cell_type": "markdown",
   "source": [
    "### Question 9: Which language does a volume _V_ use?"
   ],
   "metadata": {
    "collapsed": false
   }
  },
  {
   "cell_type": "code",
   "execution_count": 10,
   "outputs": [
    {
     "name": "stdout",
     "output_type": "stream",
     "text": [
      "MMSID: 9910796273804340 | title: Encyclopaedia Britannica |  number: 7 | language: eng\n"
     ]
    }
   ],
   "source": [
    "eb_edition7 = \"<https://w3id.org/hto/Edition/9910796273804340>\"\n",
    "sparql.setQuery(\"\"\"\n",
    "     PREFIX hto: <https://w3id.org/hto#>\n",
    "     SELECT * WHERE {\n",
    "        %s  a hto:Edition;\n",
    "            hto:mmsid ?mmsid;\n",
    "            hto:title ?title;\n",
    "            hto:number ?number;\n",
    "            hto:language ?language;\n",
    "}\n",
    "    \"\"\" % eb_edition7\n",
    ")\n",
    "\n",
    "try:\n",
    "    ret = sparql.queryAndConvert()\n",
    "\n",
    "    for r in ret[\"results\"][\"bindings\"]:\n",
    "        print(\"MMSID: %s | title: %s |  number: %s | language: %s\" % (r[\"mmsid\"][\"value\"], r[\"title\"][\"value\"] ,r[\"number\"][\"value\"], r[\"language\"][\"value\"]))\n",
    "except Exception as e:\n",
    "    print(e)"
   ],
   "metadata": {
    "collapsed": false
   }
  },
  {
   "cell_type": "markdown",
   "source": [
    "### Question 10: In EB, what articles a volume _V_ include?"
   ],
   "metadata": {
    "collapsed": false
   }
  },
  {
   "cell_type": "code",
   "execution_count": 14,
   "outputs": [
    {
     "name": "stdout",
     "output_type": "stream",
     "text": [
      "Term uri: https://w3id.org/hto/ArticleTermRecord/9910796273804340_192984259_7983463252_0\n",
      "Term uri: https://w3id.org/hto/ArticleTermRecord/9910796273804340_192984259_189797561_0\n",
      "Term uri: https://w3id.org/hto/ArticleTermRecord/9910796273804340_192984259_163232880_0\n",
      "Term uri: https://w3id.org/hto/ArticleTermRecord/9910796273804340_192984259_5725605898_1\n",
      "Term uri: https://w3id.org/hto/ArticleTermRecord/9910796273804340_192984259_158244943_0\n",
      "Term uri: https://w3id.org/hto/ArticleTermRecord/9910796273804340_192984259_391757613_0\n",
      "Term uri: https://w3id.org/hto/ArticleTermRecord/9910796273804340_192984259_9018018225_0\n",
      "Term uri: https://w3id.org/hto/ArticleTermRecord/9910796273804340_192984259_140356593_0\n",
      "Term uri: https://w3id.org/hto/ArticleTermRecord/9910796273804340_192984259_720629256_0\n",
      "Term uri: https://w3id.org/hto/ArticleTermRecord/9910796273804340_192984259_3666381975_0\n",
      "Term uri: https://w3id.org/hto/ArticleTermRecord/9910796273804340_192984259_1563118920_0\n",
      "Term uri: https://w3id.org/hto/ArticleTermRecord/9910796273804340_192984259_5140910663_0\n",
      "Term uri: https://w3id.org/hto/ArticleTermRecord/9910796273804340_192984259_1506312311_0\n",
      "Term uri: https://w3id.org/hto/ArticleTermRecord/9910796273804340_192984259_9258279314_0\n",
      "Term uri: https://w3id.org/hto/ArticleTermRecord/9910796273804340_192984259_7628054624_0\n",
      "Term uri: https://w3id.org/hto/ArticleTermRecord/9910796273804340_192984259_7191597469_0\n",
      "Term uri: https://w3id.org/hto/ArticleTermRecord/9910796273804340_192984259_963421943_0\n",
      "Term uri: https://w3id.org/hto/ArticleTermRecord/9910796273804340_192984259_6894654555_0\n",
      "Term uri: https://w3id.org/hto/ArticleTermRecord/9910796273804340_192984259_3327879341_0\n",
      "Term uri: https://w3id.org/hto/ArticleTermRecord/9910796273804340_192984259_4785203662_0\n"
     ]
    }
   ],
   "source": [
    "# List 20 articles in volume 2 of 7th edition.\n",
    "eb_edition7_volume2 = \"<https://w3id.org/hto/Volume/9910796273804340_192984259>\"\n",
    "\n",
    "sparql.setQuery(\"\"\"\n",
    "     PREFIX hto: <https://w3id.org/hto#>\n",
    "     SELECT * WHERE {\n",
    "        %s a hto:Volume;\n",
    "            hto:hadMember ?page.\n",
    "        ?termRecord a ?term_type;\n",
    "                hto:startsAtPage ?page.\n",
    "        FILTER (?term_type = hto:ArticleTermRecord || ?term_type = hto:TopicTermRecord)\n",
    "    } LIMIT 20\n",
    "    \"\"\" % eb_edition7_volume2\n",
    ")\n",
    "\n",
    "try:\n",
    "    ret = sparql.queryAndConvert()\n",
    "\n",
    "    for r in ret[\"results\"][\"bindings\"]:\n",
    "        print(\"Term uri: %s\" % (r[\"termRecord\"][\"value\"]))\n",
    "except Exception as e:\n",
    "    print(e)"
   ],
   "metadata": {
    "collapsed": false
   }
  },
  {
   "cell_type": "markdown",
   "source": [
    "### Question 11: Where an EB article _A_ was described (in a page, volume, edition)?"
   ],
   "metadata": {
    "collapsed": false
   }
  },
  {
   "cell_type": "code",
   "execution_count": 15,
   "outputs": [],
   "source": [
    "# Show which page an article starts at, which volume and edition, collection, this article was described\n",
    "article_name = \"'ACCENT'\"\n",
    "\n",
    "sparql.setQuery(\"\"\"\n",
    "     PREFIX hto: <https://w3id.org/hto#>\n",
    "     SELECT * WHERE {\n",
    "        ?term a hto:ArticleTermRecord;\n",
    "            hto:name %s;\n",
    "            hto:startsAtPage ?page;\n",
    "            hto:wasMemberOf ?volume.\n",
    "        ?volume a hto:Volume.\n",
    "        OPTIONAL {\n",
    "            ?term hto:wasMemberOf ?edition.\n",
    "            ?edition a hto:Edition.\n",
    "        }\n",
    "        OPTIONAL {\n",
    "            ?term hto:wasMemberOf ?collection.\n",
    "            ?collection hto:name ?collection_name.\n",
    "            FILTER (regex(?collection_name, \"Collection$\", \"i\"))\n",
    "        }\n",
    "\n",
    "    } LIMIT 20\n",
    "    \"\"\" % article_name\n",
    ")\n",
    "\n",
    "try:\n",
    "    ret = sparql.queryAndConvert()\n",
    "\n",
    "    for r in ret[\"results\"][\"bindings\"]:\n",
    "        print(\"term: %s | starts at page: %s | volume: %s | edition %s | collection: %s\" % (r[\"term\"][\"value\"], r[\"page\"][\"value\"], r[\"volume\"][\"value\"], r[\"edition\"][\"value\"], r[\"collection\"][\"value\"]))\n",
    "except Exception as e:\n",
    "    print(e)"
   ],
   "metadata": {
    "collapsed": false
   }
  },
  {
   "cell_type": "markdown",
   "source": [
    "### Question 12: What are the EB articles which appear in all edition?"
   ],
   "metadata": {
    "collapsed": false
   }
  },
  {
   "cell_type": "code",
   "execution_count": 35,
   "outputs": [],
   "source": [
    "# TODO Question 12: What are the EB articles which appear in all edition?"
   ],
   "metadata": {
    "collapsed": false
   }
  },
  {
   "cell_type": "markdown",
   "source": [
    "### Question 13: What are the EB articles which appear in all edition?"
   ],
   "metadata": {
    "collapsed": false
   }
  },
  {
   "cell_type": "code",
   "execution_count": 43,
   "outputs": [],
   "source": [
    "# TODO Question 13: What EB articles were only appeared once in edition _E_?"
   ],
   "metadata": {
    "collapsed": false
   }
  },
  {
   "cell_type": "markdown",
   "source": [
    "### Question 14: What are EB articles related to another EB article _T_?"
   ],
   "metadata": {
    "collapsed": false
   }
  },
  {
   "cell_type": "code",
   "execution_count": 68,
   "outputs": [],
   "source": [
    "article_accent = \"<https://w3id.org/hto/ArticleTermRecord/9910796273804340_192984259_ACCENT_0>\"\n",
    "\n",
    "sparql.setQuery(\"\"\"\n",
    "     PREFIX hto: <https://w3id.org/hto#>\n",
    "     SELECT * WHERE {\n",
    "        %s a hto:TermRecord;\n",
    "            hto:name ?name;\n",
    "        OPTIONAL {\n",
    "            %s hto:refersTo ?see_term.\n",
    "            ?see_term a hto:TermRecord.\n",
    "        }\n",
    "    }\n",
    "    \"\"\" % (article_accent, article_accent)\n",
    ")\n",
    "\n",
    "try:\n",
    "    ret = sparql.queryAndConvert()\n",
    "    for r in ret[\"results\"][\"bindings\"]:\n",
    "        refersTo = None\n",
    "        if \"see_term\" in r:\n",
    "            refersTo = r[\"see_term\"][\"value\"]\n",
    "        print(\"term: %s | see term: %s\" % (r[\"name\"][\"value\"], refersTo))\n",
    "except Exception as e:\n",
    "    print(e)\n"
   ],
   "metadata": {
    "collapsed": false
   }
  },
  {
   "cell_type": "markdown",
   "source": [
    "### Question 15: What are EB articles which has similar description to _T_?"
   ],
   "metadata": {
    "collapsed": false
   }
  },
  {
   "cell_type": "code",
   "execution_count": 72,
   "outputs": [
    {
     "name": "stdout",
     "output_type": "stream",
     "text": [
      "term: ACCENT | similar term: None\n"
     ]
    }
   ],
   "source": [
    "article_accent = \"<https://w3id.org/hto/ArticleTermRecord/9910796273804340_192984259_ACCENT_0>\"\n",
    "\n",
    "sparql.setQuery(\"\"\"\n",
    "     PREFIX hto: <https://w3id.org/hto#>\n",
    "     SELECT * WHERE {\n",
    "        %s a hto:TermRecord;\n",
    "            hto:name ?name.\n",
    "        OPTIONAL {\n",
    "            %s hto:similarTo ?similar_term.\n",
    "            ?similar_term a hto:TermRecord.\n",
    "        }\n",
    "    }\n",
    "    \"\"\" % (article_accent, article_accent)\n",
    ")\n",
    "\n",
    "try:\n",
    "    ret = sparql.queryAndConvert()\n",
    "    for r in ret[\"results\"][\"bindings\"]:\n",
    "        similar_term = None\n",
    "        if \"similar_term\" in r:\n",
    "            similar_term = r[\"similar_term\"][\"value\"]\n",
    "        print(\"term: %s | similar term: %s\" % (r[\"name\"][\"value\"], similar_term))\n",
    "except Exception as e:\n",
    "    print(e)"
   ],
   "metadata": {
    "collapsed": false
   }
  },
  {
   "cell_type": "markdown",
   "source": [
    "### Question 16: How a term with name _T_ was described in all editions?"
   ],
   "metadata": {
    "collapsed": false
   }
  },
  {
   "cell_type": "code",
   "execution_count": 23,
   "outputs": [
    {
     "name": "stdout",
     "output_type": "stream",
     "text": [
      "term uri: https://w3id.org/hto/ArticleTermRecord/992277653804341_144133902_5297117738_0 | description: a ' profile, or terreflrial matter, wherever our globe but really on lists. See Vol. I. p 67. Earth, in allronomy and geography, one of the prim w planets, being it a terraqueous globe where we inhabit. See Astronomy and Geography..E-ARTHQUAKE, in natural history, a violent agitation and sometimes with an eruption of fire, water, wind, be. See Pneumatics. EASEL-pieces, a denomination given by painters to such pieces as are contained in frames, in contradiction from those painted on ceilings, be. |  edition: https://w3id.org/hto/Edition/992277653804341 | edition title: Encyclopaedia Britannica; or, A dictionary of arts and sciences, compiled upon a new plan | edition number: 1\n",
      "term uri: https://w3id.org/hto/ArticleTermRecord/9929192893804340_144850367_5297117738_0 | description: a follile, or terredrial matter, whereof our globe partly confids. See Vol. I. p 67. Earth, in adronoray and geography, one of the primary planets, being this terraqueous globe whereon we inhabit. See Astronomy and Geography. |  edition: https://w3id.org/hto/Edition/9929192893804340 | edition title: Encyclopaedia Britannica: or, A dictionary of arts and sciences | edition number: 1\n",
      "term uri: https://w3id.org/hto/ArticleTermRecord/9929192893804340_144850367_5297117738_0 | description: a follile, or territorial matter, thereof our globe partly confides. See Vol. I. p 67. Earth, in adronoray and geography, one of the primary planets, being this treacherous globe wherever we inhabit. See Astronomy and Geography. |  edition: https://w3id.org/hto/Edition/9929192893804340 | edition title: Encyclopaedia Britannica: or, A dictionary of arts and sciences | edition number: 1\n",
      "term uri: https://w3id.org/hto/ArticleTermRecord/992277653804341_144133902_5297117738_0 | description: a' foffile, or terreflrial matter, whereof our globe p rtly con lists. See Vol. I. p 67. Earth, in allronomy and geography, one of the prim w planets, being th s terraqueous globe whereon we inhabit. See Astronomy and Geography. .E-ARTHQUAKE, in natural history, a violent agitati4 and sometimes with an eruption of fire, water, wind, be. See Pneumatics. EASEL-fieces, a denomination given by painters to such pieces as are contained in frames, in contradiftinction from those painted on cielings, be. |  edition: https://w3id.org/hto/Edition/992277653804341 | edition title: Encyclopaedia Britannica; or, A dictionary of arts and sciences, compiled upon a new plan | edition number: 1\n",
      "term uri: https://w3id.org/hto/ArticleTermRecord/992277653804341_144133902_5297117738_1 | description: in astrone ny and geopraphy, one of the priwe inhabit. See ASTRONOMY and GEOGRAPHY. |  edition: https://w3id.org/hto/Edition/992277653804341 | edition title: Encyclopaedia Britannica; or, A dictionary of arts and sciences, compiled upon a new plan | edition number: 1\n",
      "term uri: https://w3id.org/hto/ArticleTermRecord/997902523804341_144850375_5297117738_0 | description: among ancient philosophers and chemists, one of the four elements of which the whole system of nature was thought to be composed. See Element ; and Chemistry, n° 10. Earth, in astronomy and geography, one of the primary planets; being this terraqueous globe which The cosmogony, or knowledge of the original formation of the earth, the materials of which it was composed, and by what means they were disposed in the order in which we see them at present, is a fubjedt which, though perhaps above the reach of human sagacity, has exercised the wit of philoiophers in all ages. To recount the opinions of all the eminent philosophers of antiquity upon this fubjeft would be very tedious: it may therefore suffice to observe, that, ever since the fubjeft began to becanvaffed, the opinions of those who have treated it may be divided into two classes. 1. Those who believed the earth, and whole visible system of nature, to be the Deity himself, or conne&ed with him in the same manner that a human body is with its soul. 2. Those who believed the materials of it to have been eternal, but diltinel from the Deity, and put into the present order by some power either inherent in themselves, or belonging to the Deity. Of the first opinion were Xenophanes, the founder of the eleatic ses, Strato of Lampfacus, the Pe The second opinion, namely, that the substance of the earth or universe (for it is impossible to speak of the one without the other) was eternal, though not the form, was most generally held among the ancients. From that established axiom, that “ nothing can be produced from nothing,” they concluded that creation was an impossibility; but at the same time they thought they had good reason to believe the world had not been always in its present form. They who held this opinion may again be divided into two classes : first, those who endeavoured to account for the generation of the world, or its redu&ion into the present form, by principles merely mechanical, without having recourse to any assistance from divine power ; and secondly, those who introduced an intelligent mind as the author and disposer of all things. To the first of these classes belonged the cosmogony of the Babylonians, Phoenicians, Earth, and Egyptians; the particulars of which are too ahfurd to deserve notice. Of the same opinion also' were most of the poets; the philosophers Thales, Anaximander, Anaximenes, Anaxagoras, &c. The latter attempted to reform the philosophy of his matter Anaximenes by introducing^ an intelligent principle into the world, diftindf from matter ; thus making his intelli, gent principle, or God, the soul of the world. Dioenes of Apollonia supposed air, which he made the rft principle of all things, to be endued with reason : His manner of philofophifing differed very little from that of Des Cartes. “ All things, (says he,) being in motion, some became condensed, and others rarefied. In those places where condensation prevailed, a whirling motion, or vortex, was formed; which by its revolution drew in the rest, and the lighter parts flying upwards formed the sun.” The most remarkable of the atheiftic systems, how Syftems ever, was the atomic one, supposed to have been in Democritus vented by Democritus ; though Laertius attributes it and to Leucippus, and some make it much older. Acrus ‘ cording to this system, the first principles of all things were an infinite multitude of atoms, or indivisible particles of different sixes and figures ; which, moving fortuitously, or without design, from all eternity, in infinite space, and encountering with one another, became variously entangled during their confiift. This first produced a confused chaos of all kinds of particles; which afterwards, by continual agitation, striking and repelling each other, disposed themselves into a vortex, or vortices, where, after innumerable revolutions, and motions in all possible dire&ions, they at last settled into their present order. The hypothesis of Democritus agrees in the main with that of Epicurus as represented by Lucretius; excepting that no mention is made of those vortices, which yet were an essential part of the former. To the two properties of magnitude and figure which Democritus attributed to his atoms, Epicurus added a third, namely, weight; and without this, he did not imagine they could move at all. The system of Democritus necessarily introduced absolute fatal necessity; which Epicurus not choosing to agree to, he invented a third motion of the atoms, unknown to those who had gone before him. His predecessors allowed them to have a perpendicular and reflexive motion : but Epicurus, though he allowed these motions to be absolutely necessary and unavoidable, asserted that the atoms could also of themselves decline from the right line; and from this declination of the atoms, he explained the free-will of man.—The most material difference between the two systems, however, was, that Epicurus admitted no principle but the atoms themselves ; whereas Democritus believed them to be ani Of those who held two diftinfl and coeternal prinof Pythaciples, viz. God and Matter, we (hall only take notice goras, of the opinions of Pythagoras, Plato, and Aristotle, as t0 », and being the most remarkable. Pythagoras is said to have Ariflot!e asserted two substantial self-existent principles: a monad, or unity ; and a dyad, or duality. The meaning of these terms is now somewhat yncertain. .Some, think, that by the monad, he meant the Deity; and, by the dyad, matter. Others think, that the Pythagoric mo-nads were atoms. The dyad Is sometimes thought to lignify a demon or evil principle; but Porphyry’s interpretation, which seems the most probable, is as follows. The cause, says he, of that sympathy, harmony, and agreement which is in things, and of the confervation of the whole, which is always the same and like itself, was by Pythagoras called is in the things themselves, being but a participation of the first cause: but the reason of difference, inequality, and constant irrregularity in things, was by him called a dyad. This philosopher held numbers to be the principles of all things, and from them he accounted for the produftion of the world in the following manner. He supposed that the monad and dyad were the two sources of numbers, from whence proceeded points; from points, lines; from lines, plane figures; from planes, folids ; from folids, sensible bodies. The elements of ferifible bodies are four ; but besides these, there was a fifth (never yet discovered.) The four elements which manifest themselves to our senses are fire, air, earth, and water. These are in a perpetual change, and from them the world was formed ; which is animated, intelligent, and spherical ; containing, in the midst of it, the earth, a globose and inhabited body. The world, he said, began from fire, and the fifth element ; and that as there were five figures of solid bodies, called mathematical or regular, the earth was made of the cube, fire of the pyramid or tetrahedron, the air of the oftahedron, water of the icofahedron, and the sphere of the universe of the dodecahedron.— This method of philofophizing, which has no manner of foundation sa nature, was adopted by Plato and Aristotle ; and hence proceeded all the absurdities concerning ideas, forms, qualities, &c. with which the Ariftotelian philosophy was loaded. For a long time, however, the philosophy of Aristotle prevailed, and the world was thought to be upheld by forms, qualities, and other unintelligible and imaginary beings.—At last the French philosopher, Defcartes, superseded the Ariftotelian, by introducing the atomic, or Democritic, and Epicurean philofophyf. The Cartefian system w^as quickly superseded the Newtonian; which still continues, though considerably different from what it was left by that S reat mat1, —His opinions, indeed, concerning the coffnmogony seem to have been in a flu&uating {fate ; and the hence he delivers himself in such a manner, that he hath °^t en * DC Urr ed the charge of contradicting himself.— He maintained, for instance, that matter was infinitely divisible, and the mathematical demonstrations of this proposition are well known. Notwithrtanding this, However, when he comes particularly to speak of the original conftru&ion of the world, he seems to retrad this opinion, and adopt the atomic philosophy. He tells us, that it seems probable, that in the beginning God formed matter in solid, massy, impenetrable, partides, &c.*; and that of these particles, endowed with j. various powers of attraction and repulsion, the present system of nature is formed. His primary laws of natore are only three in number, and very simple. The , mat p er has a tendency to continue in that state in which it is once placed, whether of rest or motion. If it is at rest, for example, it wijl continue at rest for ever, without beginning motion of itself; but if it is once set in motion, by any cause whatever, it will for ever continue to move in a right line, until something either stops it altogether, or forces it to move in another dire&ion. 2. That the change of motion is always equivalent to the moving force employed to produce it, and in the direction of the right line in which it is impressed; that is, if a certain force produces a certain motion, double that force will produce double that motion, ice. 3. Rea Ction is always contrary and equal to a Ction; or the a Ctions of two bodies upon one another are always equal and contrary to From these three laws, together with the two contrary forces of attraction and repulsion, Sir Isaac Newton and his followers have attempted to explain all the phenomena of nature. When they come to explain the nature of the attractive and repulsive forces, however, they are exceedingly embarrassed. Sir Isaac hath expressed himself in two different ways concerning them. In his Principia, he pretty positively determines them to be owing to a cause that is not material; and in his Queries, he supposes they may be effe Cts of same subtile matter which he calls ether. This Difagrce-. disagreement with himself hath produced no small difment agreement among his followers. One party, laying mon hold of his assertions in the Principia, determine the Shower*, world to be upheld by immaterial powers; while the other, neglecting the Principia, and taking notice only of the Queries at the end of the Optics, strenuously maintain, that attraction and repulsion are owing to the a Ction of forne exceedingly fine and subtile ether.— The first of these fuppofitions, it is argued, necessarily involves us in one of the following dilemmas. 1. If the attractive and repulsive forces are not material, they must either be occasioned by spiritual beings, or they must be qualities of matter. If they are occasioned by the a Ction of immaterial beings, these beings must either be created or uncreated. If they are produced by the a Ction of created beings, we run into the supposition of.some of the ancient heathens, that the world is governed by demons or subordinate intelligences; and thus may make an easy transition to polytheifm. If attraction and repulsion are the immediate a Ction of the Dei y himself, we run into the do Ctrine of making God the soul of the world.—This last hypothesis hath been most strenuously adopted by Mr Baxter in his treatise of the Immateriality of the human Soul. Mr Bofcovich, Mr Mr Mitchel, and Df Prieftley, have likewise adopted the c^e hypothesis of immaterial powers to such a degree, that, j)r according to them, the whole world conlifts of nothing ley’s else but attractions and repuljions mixed with phyjical nions. poisits*. 2. If we suppose the attractive and repulsive * powers to be only properties, qualities, or laws, imf pressed on matter by the Deity, we might as well have been contented with the occult qualities of Aristotle. —If attraction and repulsion are occasioned by the action of mere matter, and all the powers in nature are only material, the charge is incurred of making nature dire Ct itself in such a manner, that there is no occasion for the interposition, or even the existence, of a Deity Thus we see, the Newtonian cosmogony must incline either to the Platonic and Ariftotelian, or to the Atomic or Epicurean ; according to the hypothecs we lay down concerning the nature of attraction. Des Car-, tes’s system was plainly a revival of that of Democri[ 2 57 6 1 |  edition: https://w3id.org/hto/Edition/997902523804341 | edition title: Encyclopaedia Britannica | edition number: 2\n",
      "term uri: https://w3id.org/hto/ArticleTermRecord/997902523804341_144850375_5297117738_0 | description: among ancient philosophers and chemists, one of the four elements of which the whole system of nature was thought to be composed. See Element; and Chemistry, in and 10. Earth, in astronomy and geography, one of the primary planets; being this terraqueous globe which The cosmogony, or knowledge of the original formation of the earth, the materials of which it was composed, and by what means they were disposed in the order in which we see them at present, is a subject which, though perhaps above the reach of human sagacity, has exercised the wit of philosophers in all ages. To recount the opinions of all the eminent philosophers of antiquity upon this project would be very tedious: it may therefore suffice to observe, that, ever since the subject began to becanvaffed, the opinions of those who have treated it may be divided into two classes. 1. Those who believed the earth, and whole visible system of nature, to be the deity himself, or concerned with him in the same manner that a human body is with its soul. 2. Those who believed the materials of it to have been eternal, but diltinel from the deity, and put into the present order by some power either inherent in themselves, or belonging to the deity. Of the first opinion were Xenophanes, the founder of the reality sea, Strato of Lampfacus, the Pe The second opinion, namely, that the substance of the earth or universe ( for it is impossible to speak of the one without the other ) was eternal, though not the form, was most generally held among the ancient. From that established axiom, that and nothing can be produced from nothing, and they concluded that creation was an impossibility; but at the same time they thought they had good reason to believe the world had not been always in its present form. They who held this opinion may again be divided into two classes: first, those who endeavoured to account for the generation of the world, or its religion into the present form, by principles merely mechanical, without having recourse to any assistance from divine power; and secondly, those who introduced an intelligent mind as the author and disposer of all things. To the first of these classes belonged the cosmogony of the Babylonians, Phoenicians, Earth, and Egyptians; the particulars of which are too adhered to deserve notice. Of the same opinion also ' were most of the poets; the philosophers Thales, Anaximander, Anaximenes, Anaxagoras, c. The latter attempted to reform the philosophy of his matter Anaximenes by introducing an intelligent principle into the world, shifting from matter; thus making his intellect, great principle, or God, the soul of the world. Dioenes of Apollonia supposed air, which he made the right principle of all things, to be endured with reason: His manner of philofophifing differed very little from that of Des Cartes. and All things, says he, being in motion, some became condensed, and others rarefied. In those places where condensation prevailed, a whirling motion, or vortex, was formed; which by its revolution drew in the rest, and the lighter parts flying upwards formed the sun. and The most remarkable of the atheiftic systems, how Syftems ever, was the atomic one, supposed to have been in Democritus vented by Democritus; though Laertius attributes it and to Leucippus, and some make it much older. Acrus and according to this system, the first principles of all things were an infinite multitude of atoms, or indivisible particles of different sizes and figures; which, moving fortuitously, or without design, from all eternity, in infinite space, and encountering with one another, became variously entangled during their conflict. This first produced a confused chaos of all kinds of particles; which afterwards, by continual agitation, striking and repelling each other, disposed themselves into a vortex, or victories, where, after innumerable revolutions, and motions in all possible dimensions, they at last settled into their present order. The hypothesis of Democritus agrees in the main with that of Epicurus as represented by Lucretius; expecting that no mention is made of those pictures, which yet were an essential part of the former. To the two properties of magnitude and figure which Democritus attributed to his atoms, Epicurus added a third, namely, weight; and without this, he did not imagine they could move at all. The system of Democritus necessarily introduced absolute fatal necessity; which Epicurus not choosing to agree to, he invented a third motion of the atoms, unknown to those who had gone before him. His predecessors allowed them to have a perpendicular and reflexive motion: but Epicurus, though he allowed these motions to be absolutely necessary and unavoidable, asserted that the atoms could also of themselves decline from the right line; and from the declination of the atoms, he explained the free-full of man.—The most material difference between the two systems, however, was, that Epicurus admitted no principle but the atoms themselves; whereas Democritus believed them to be any Of those who held two diftinfl and coeternal proof Pythaciples, viz. God and Matter, we ( has only take notice goras, of the opinions of Pythagoras, Plato, and Aristotle, as t0 and, and being the most remarkable. Pythagoras is said to have Ariflot!e asserted two substantial self-existing principles: a mood, or unity; and a date, or duality. The meaning of these terms is now somewhat uncertain..Some, think, that by the mood, he meant the deity; and, by the date, matter. Others think, that the Pythagoric me-nads were atoms. The dead Is sometimes thought to signify a demon or evil principle; but Porphyry is interpretation, which seems the most probable, is as follows. The cause, says he, of that sympathy, harmony, and agreement which is in things, and of the conservation of the whole, which is always the same and like itself, was by Pythagoras called is in the things themselves, being but a participation of the first cause: but the reason of difference, inequality, and constant irregularity in things, was by him called a dead. This philosopher held numbers to be the principles of all things, and from them he accounted for the production of the world in the following manner. He supposed that the moon and dead were the two sources of numbers, from whence proceeded points; from points, lines; from lines, plane figures; from planets, fields; from fossils, sensible bodies. The elements of ferifible bodies are four; but besides these, there was a fifth ( never yet discovered ) The four elements which manifest themselves to our senses are fire, air, earth, and water. These are in a perpetual change, and from them the world was formed; which is animated, intelligent, and spherical; containing, in the midst of it, the earth, a possible and inhabited body. The world, he said, began from fire, and the fifth element; and that as there were five figures of solid bodies, called mathematical or regular, the earth was made of the cube, fire of the pyramid or tetrahedron, the air of the oftahedron, water of the icofahedron, and the sphere of the universe of the dodecahedron. and This method of philofophizing, which has no manner of foundation in nature, was adopted by Plato and Aristotle; and hence proceeded all the absurdities concerning ideas, forms, qualities,.. with which the Ariftotelian philosophy was loaded. For a long time, however, the philosophy of Aristotle prevailed, and the world was thought to be upheld by forms, qualities, and other unintelligible and imaginary beings.—At last the French philosopher, Descartes, superseded the Ariftotelian, by introducing the atomic, or Democratic, and European philosopher. The Cartefian system was quickly superseded the Newtonian; which still continues, though considerably different from what it was left by the S that mat1, and His opinions, indeed, concerning the coffnmogony seem to have been in a featuring { fate; and the hence he delivers himself in such a manner, that he hath and t en * DC Ur and the charge of contradicting himself. and He maintained, for instance, that matter was infinitely invisible, and the mathematical demonstrations of this proposition are well known. Notwithstanding this, However, when he comes particularly to speak of the original continuum of the world, he seems to regard this opinion, and adopt the atomic philosophy. He tells us, that it seems probable, that in the beginning God formed matter in solid, messy, impenetrable, periods, C.; and that of these particles, endowed with j. various powers of attraction and resolution, the present system of nature is formed. His primary laws of nature are only three in number, and very simple. The, mate but er has a tendency to continue in that state in which it is once placed, whether of rest or motion. If it is at rest, for example, it will continue at rest for ever, without beginning motion of itself; but if it is once set in motion, by any cause whatever, it will for ever continue to move in a right line, until something either stops it altogether, or forces it to move in another direction. 2. That the change of motion is always equivalent to the moving force employed to produce it, and in the direction of the right line in which it is impressed; that is, if a certain force produces a certain motion, double that force will produce double that motion, ice. 3. Real Clinton is always contrary and equal to a Ction; or the a Ctions of two bodies upon one another are always equal and contrary to From these three laws, together with the two contrary forces of attraction and resolution, Sir Isaac Newton and his followers have attempted to explain all the phenomena of nature. When they come to explain the nature of the attractive and repulsive forces, however, they are exceedingly embarrassed. Sir Isaac hath expressed himself in two different ways concerning them. In his Principle, he pretty positively determines them to be owing to a cause that is not material; and in his Queries, he supposes they may be safe Cts of same suitable matter which he calls either. This Difagrce-. disagreement with himself has produced no small different agreement among his followers. One party, laying on hold of his assertions in the Principia, determines the Shower, world to be upheld by immaterial powers; while the other, neglecting the Principia, and taking notice only of the Queries at the end of the Optics, strenuously maintain, that attraction and resolution are owing to the a Ction of form exceedingly fine and suitable either. and The first of these fuppofitions, it is argued, necessarily involves us in one of the following dilemmas. 1. If the attractive and repulsive forces are not material, they must either be occasioned by spiritual beings, or they must be qualities of matter. If they are occasioned by the a Ction of immaterial beings, these beings must either be created or uncreated. If they are produced by the a Ction of created beings, we run into the supposition of.some of the ancient heathens, that the world is governed by demons or subordinate intelligence; and thus may make an easy transition to polytheifm. If attraction and resolution are the immediate a Ction of the Dei y himself, we run into the do Ctrine of making God the soul of the world.—This last hypothesis that been most strenuously adopted by Mr Baxter in his treatise of the Immateriality of the human Soul. Mr Bofcovich, Mr Mr Mitchell, and Dr Prieftley, have likewise adopted the same hypothesis of immaterial powers to such a degree, that, or according to them, the whole world conflicts of nothing key is else but attractions and religions mixed with physical notions. politics * 2. If we suppose the attractive and repulsive * powers to be only properties, qualities, or laws, if pressed on matter by the deity, we might as well have been contented with the occult qualities of Aristotle. and If attraction and resolution are occasioned by the action of mere matter, and all the powers in nature are only material, the charge is incurred of making nature more At itself in such a manner, that there is no occasion for the interposition, or even the existence, of a Deity Thus we see, the Newtonian cosmogony must incline either to the Platonic and Ariftotelian, or to the Atomic or Epicurean; according to the hypothesis we lay down concerning the nature of attraction. Des Car-, these its system was plainly a revival of that of Democri [ 2 57 6 1 |  edition: https://w3id.org/hto/Edition/997902523804341 | edition title: Encyclopaedia Britannica | edition number: 2\n",
      "term uri: https://w3id.org/hto/ArticleTermRecord/997902523804341_190273290_5297117738_0 | description: that it is needless to mention any thing further concerning them in this place. Others there are who argue strenuously for the continual incre^feof dry land, and decrease of the sea. Their principal argument is drawn from a fnppofition of the vegetation of stone, and a petrifying quality inherent in sea water. A Scotch gentleman, who w’as at Boulogne in the summer 1750, has favoured us with a remarkable instance of this petrifying quality in sea-water. He observed, that the Britilh channel, which washes the bottom of a hill near that place, (commonly called ■Ctffar’s Font, from a Roman encampment still visible on it, said to have been conttru&ed by Julius Ctefar when he invaded Britain), had worn in thro* a great part of the hill, which consists mostly of mixed land, with about three or four feet of a strong bluilh clay soil above. As the Tandy part is washed away, the clay falls down in large mafl'es, and, as the inhabitants there affirm, is petrified by the fait water. In sa<st, one sees, about 40 or 50 yards within the present highwater mark, a large stratum of rocks, much resembling the black-rocks at Leith; and between these and the hill many huge maffies of rock, though there appears nothing rocky on the bare side of the hill next the channel. And the inhabitants of Boulogne are every day seen blowfng up these rocky masses with gun-powder, burning the (tones into lime, and using them also as (tones for their buildings This gentleman, walking one day on the sands, saw a large lump of clay fallen from the hill, and so lying to be washed by the tide. He impressed a mark on it with his ilick, which, being soft, it then easily received. But passing the same way about three weeks afterwards, he could not force his (tick into the same lump. From some limeftone quarries also in the neighbourhood of Kirkcaldy in Fife, and which are taken notice of under the article |  edition: https://w3id.org/hto/Edition/997902523804341 | edition title: Encyclopaedia Britannica | edition number: 2\n",
      "term uri: https://w3id.org/hto/ArticleTermRecord/997902523804341_190273290_5297117738_0 | description: that it is needless to mention any thing further concerning them in this place. Others there are who argue strenuously for the continual incre^feof dry land, and decrease of the sea. Their principal argument is drawn from a fnppofition of the vegetation of stone, and a terrifying quality inherent in sea water. A Scotch gentleman, who was at Boulogne in the summer 1750, has favoured us with a remarkable instance of this terrifying quality in sea-water. He observed, that the British channel, which washes the bottom of a hill near that place, commonly called and Ctffar is Font, from a Roman encampment still visible on it, said to have been construed by Julius Ctefar when he invaded Britain, had worn in true * a great part of the hill, which consists mostly of mixed land, with about three or four feet of a strong bluish clay soil above. As the Tandy part is washed away, the clay falls down in large mafl'es, and, as the inhabitants there affirm, is petrified by the faint water. In sea < set, one seas, about 40 or 50 yards within the present highwater mark, a large stratum of rocks, much resembling the black-rocks at Leith; and between these and the hill many huge maffies of rock, though there appears nothing rocky on the bare side of the hill next the channel. And the inhabitants of Boulogne are every day seen blowing up these rocky masses with guns-powder, burning the ( stones into lime, and using them also as ( stones for their buildings This gentleman, walking one day on the sands, saw a large lump of clay fallen from the hill, and so lying to be washed by the tide. He impressed a mark on it with his click, which, being soft, it then easily received. But passing the same way about three weeks afterwards, he could not force his ( tick into the same lump. From some lifetime quarries also in the neighbourhood of Kirkcaldy in Fife, and which are taken notice of under the article |  edition: https://w3id.org/hto/Edition/997902523804341 | edition title: Encyclopaedia Britannica | edition number: 2\n",
      "term uri: https://w3id.org/hto/ArticleTermRecord/997902543804341_149979622_5297117738_0 | description: among ancient philosophers, one of the four elements of which the whole form of nature was thought to be composed. See Elements. Earths, in chemistry, are defined by Considered to be such fubdances as are not dudlile, mostly indidbluble in water or oil, and that preserve their conditions in a strong heat. Mr Bergman remarks that they are unified, and not soluble in good times their weight of boiling water; though, by augmenting the heat as in Spain is digeder, perhaps all the kinds we are yet acquainted with may be found capable of solutions, especially when precipitated from some other mendruura; their surface being then greatly augmented. In the chain of nature they proceed by an. invisible formation towards the salts, so that they can not be separated but by artificial limits. A moderate heat does not change their form, nor are they dissipated by a more violent one. Dr Black defines them to be such bodies as are not soluble in water, not inflammable, and their specific gravity not more than four times the weight of water. They are didinguiflied from the salts by their insolubility; from the inflammables, by their want of inflammability; and from the metals, by their deficiency in weight. Some opinions have been made to this definition, as not being directly applicable to those earths which are known to be soluble in water: but this objection may be accounted of little weight, when we consider the extreme disparity between the possibility of the earths and salts, a few grains of the earths faturating some pounds of water; Co that if they have any folubility, they must be allowed to possess but a very { mall ( share of it. Another property, which is not usually taken into the definition, makes nevertheless a remarkable part and of the character of earthy bodies, viz. their great fixedness in the fire. All the other clafles of bodies ( how themselves volatile in more or less violent degrees of heat. All the salts can be made to evaporate; all the inflammable fubdances are volatile; all the metals, gold not expected, have been converted into vapour; but the earths, as far as we know, have never been volatilized, except only two, the diamond and albedos. Some phenomena attending the volatilization of the diamond give reason to forget that it is not a pure earthy abundance. There is an appearance of inflammation; and it seems to be a compound, having an earthy matter for its b ' surface, and deriving its volatility from other matters. In general therefore, the earths have been found fixed in any degree of heat of which we have had experience; though there is no doubt a possibility, that heat might be raised to such an intensity as to volatilize the mood fixed body in nature; but until the means of doing so ( has be found out, the earth may be considered as absolutely fixed. The earths called primitive or funk, because they can not be decomposed by any method hitherto known, were by Crondedt supposed to be nine; but later chemids have reduced them to five. Some reduce the number fall further; but Mr Bergman informs us that these and read their opinions upon fanciful metamorphoses unsupported by faithful experiments. As experiments teach us that there are five primitive earths, it is evident that the species arising from their mixture can not exceed 24, via. ten double, confiding of two earths; and six triple, three quadruple, and the five primitive earths. Even all these different mixtures havent been found, though they probably do exist in nature. The natural compositions of acids with the earths, forming fubdances not soluble in 1000 times their weight of boiling, water, and which may be called faline earths, are undoubtedly chemical combinations. The five primitive earths are, terra ponderofa; calx or calcareous earth, capable of being reduced into quicklime; magnefia; argilla-or argillaceous earth; and But though, we must consider these as the model pure of all the earthy bodies, they are never found native in a date of above late purity; nor indeed can they be made perfectly pure even by artificial means. Water and aerial acid unite readily with the four bird; and ' when expelled by fire, a little of the matter of heat is added, until driven out by a more powerful attraction. But in this date they poffdss a degree of purity not to be attained by any other known method. Therefore it necessary to examine them when sufficiently burnt, in order to distinguish better what properties depend upon adhering heterogeneous matters. and Our author at first added the earth of gems to the five cliffs already mentioned, but he found afterwards that all kinds of gems are compounded of some of the five kinds already mentioned, particularly of the argillaceous kind, insomuch that they may be said aimed entirely to belong, to this class. Still, however, the earth of diamonds seems to possess properties essentially divided from the five already mentioned, and therefore may not unjustly be reckoned a sixth class, though its characters have as yet been but very imI. Terra Ponderofa This was discovered in Sweden about the year 1774, and is found in several. different I. Combined with aerial acid, called by Dr Witheiv in terra, ponderofa aerata This abundance has been-met with in England; and an account of it, with Dr Withering is analysis, is given under the article Che2. The spa-like gypfum, marmor metallicum, lapis bononienfis, phosphorus nativus, baro-felehite, c. of very thin flattiih lenses put together, and like rocks combs. Varieties of it are all ' so found of white and reddish colours. It is likewise met with of a brush texture in the form of zeolite or aibeftos in filaments. M. Monet is of opinion that these maps form of very considerable fpecillc gravity, approaching times contain phlogifion, having observed that they do that of tin or iron; on which account it has been ' become a liver of sulphur in a strong heat; but supposed to contain something metallic. But no ex Woulfe is of opinion that this gentleman was deceived periments hitherto made have evinced the existence of by charcoal falling into his crucible, any metal in it, depicting a few traces of iron, which 4. The lapis hepaticus, or leberltein of the Germans and.. n * 1.. z. r and r, and and are to be met with in all the j^ypfa. It is met with of two kinds, femitranfparent and opaque 5 the latter being either of a white or reddish colour. The fpecilic gravity is about 4,500, water being and Swedes. Some specimens of this stone constantly smell like liver of sulphur, but others only when rubbed. It does not effective with acids, and according to M. Magellan is a medium between the gypfum and counted loop. It contains about 84 parts of pondefetid calcareous stones with which it has generally been rose earth, 13 of the most concentrated vitriolic acid, confounded; but it will not yield any time, though and three of water. The method of preparing the the latter are more set for the purpose than any other, phosphorus from this substance is mentioned under the Mr Kirwan informs us that this ( tone is generally cornarticle Chemistry; but Crbnftedt observes, that the pedal, but not hard enough to strike fire; its texture ? phofphorelcent quality of these stones is different from is either equable or laminar, scaly or fparry; and that of the fparry colours and limeftones, which is only takes a pohih like alabaster, does not effective with produced by their being slowly heated, and see as to acids, and when cancelled is partially reduced to. a kind-arise from a 1 phlogifton which is destroyed by a glowing plaster of Paris. According to the analysis of this wing heat. M. Scheffer, in the Stockholm Memories stone given us by Professor Bergman, 100 parts of for 1753, relates from experiments ' on a stone of this contain 33 of baro-felenite, 38 of liliceous earth, kind from China, which show that it is exactly the of asylum, seven of gypfum, and five of mineral oil. same with the petuntfe of that country, an ingredient Gronftedt denies that these stones contain any volatile in their porcelain manufaflories. This stone does not actually, though his assertion is contradicted by Walleburn into plaster as gypfum does, and is infufible by ruins, who affirms, that a volatile alkali certainly exists itself. It frequently. contains calcareous earth, and in them, and may be discovered by a chemical analysis. sometimes is met with in the cores of metals, and it and The method which nature takes to combine the inlikewife forms the basis of some petrifications. Somegredients of the lapis hepaticus ( says Cronftedt ) may run the Txr or x of irnri { n the hlinnerhims the same as when a Kmeftrvne is let / i in times it contains one or two parts of 3. The major metallicum druficum, or ponderous drufen spa, is found in the lead-mines at Alftonmoor in Cumberland, regularly crystallized in the form by perhaps the same as when a limestone is laid in shape of mundic while it is roasting; because there the sulphur units itself with the limestone, whereby the latter acquires the smell of liver of sulphur, instead which the vitriolic acid alone enters the composition of adult, solid, and femitranfparent. M. Magellan gypfum. How the sulphur combines itself may likefays that he has showed some fine specimens of this wife be observed in the Hate-balls or kernels from the mineral by a Mr Thomfon, who informed him that Andrarum all mines to be afterwards mentioned, and j it ( seems to affect the peculiarity of having its everywhere it sometimes combines with a martial earth with flats laminated, as radiating from a centre; but that which this slate abounds, and with it forms pictures this radiation seldom amounts to a whole circle. The within the very slate-balls. The fetid or swine intensity corners of these flat-crystals are truncated like those of as well as the liver-stones, are, with regard to the ftrucalum and thicker on one side than the other of the true of their parts, subject to the same varieties with parallelogram, in such a manner as to sit one another the other kinds of limeftones. and This kind of stone in the kind of arches vault which they form together, found, 1. Scaly, of which there are two varieties; one and have some small ones adhering to their sides like having coarse sleeves, the other of a whitiffi yellow codrufen spars, having internal angles, as the makes lower. 2. With fine glittering fcnles. This is met with of the French, or the cruciform cryftallizations. and The of a black colour at Andrarum in Sweden, in the film specific gravity of these crystals were found by Mr Niflate above mentioned. Bergman says that this kind cholfon, with an instrument of his own invention, to be consists of a ponderous earth combined with vitriolic to water as 44,745 to do, too. This species of cryacid, mixed with a rock oil, and with the cancerous * flats is found in Auvergne in France, and has been described by Mr Bayen, who supposed its basis to be cancerous. It was extremely refraftory, and the surface of its crystals covered with ferruginous ochre. A variety of this is found jagged like rocks bombs. This is met with in cliffs and fissures, accreted on the four * argillaceous, and delicious earths. He adds, that by a chemical analysis one of these kernels gave 29 parts of cauftie ponderous earth, 33 of filiceous, almost 5 the argillaceous, and 3.7 of lime, besides the waves and vitriolic acid which entered its composition. II. Calcareous Earths, when freed from impurities faces of balls of the same fubfbmce. In Derby ( higher as far as possible, have the following properties, i. They this substance is called call or chalk. M. Magella ( bowed some specimens of it by Mr Whitehurft, which had not onlyconvex but flat surfaces. Those of the Upper aggregated ' parts were rather like the edges become fragile when burnt in the fire. 2. They more readily fall into powder by being thrown into water, or having it thrown upon them after cancellation * 3. They can not be melted by themselves into glass |  edition: https://w3id.org/hto/Edition/997902543804341 | edition title: Encyclopaedia Britannica | edition number: 3\n",
      "term uri: https://w3id.org/hto/ArticleTermRecord/997902543804341_149979622_5297117738_0 | description: among ancient philosophers, one of the four elements of which the whole fydem of nature was thought to be composed. See Element. Earths, in chemidry, are defined by Crondedt to be such fubdances as are not dudlile, modly indidbluble in water or oil, and that preserve their conditution in a drong heat. Mr Bergman remarks that they are infipid, and not soluble in jooo times their weight of boiling water; though, by augmenting the heat as in Papin’s digeder, perhaps all the kinds we are yet acquainted with may be found capable of solution, especially when precipitated from some other mendruura ; their surface being then greatly augmented. In the chain of nature they proceed by an. insensible gradation towards the salts, so that they cannot be separated but by artificial limits. A moderate heat does not change their form, nor are they dissipated by a more violent one. Dr Black defines them to be such bodies as are not soluble in water, not inflammable, and their specific gravity not more than four times the weight of water. They are didinguiflied from the salts by their insolubility ; from the inflammables, by their want of inflammability ; and from the metals, by their deficiency in weight. Some obje&ions have been made to this definition, as not being driftly applicable to those earths which are known to be soluble in water : but this obje&ion may be accounted of little weight, when we consider the extreme disparity betwixt the folubility of the earths and salts, a few grains of the earths faturating some pounds of water ; Co that if they have any folubility, they mud be allowed to possess but a very {mall (hare of it. Another property, which is not usually taken into the definition, makes nevertheless a remarkable part ©f the character of earthy bodies, viz. their great fixedness in the fire. All the other clafles of bodies (how themselves volatile in more or less violent degrees of heat. All the salts can be made to evaporate; all the inflammable fubdances ate volatile; all the metals, gold not excepted, have been converted into vapour; but the earths, as far as we know, have never been volatilized, excepting only two, the diamond and albedos. Some phenomena attending the volatilization of the diamond give reason to fufpedt that it is not a pure earthy fubdance. There is an appearance of inflammation ; and it seems to be a compound, having an earthy matter for its b' afis, and deriving its volatility from other matters. In general therefore, the earths have been found fixed in any degree of heat of which we have had experience ; though there is no doubt a poflibility, that heat might be raised to such an inteniity as to volatilize the mod fixed body in nature; but till the means of doing so (hall be found out, the eartha may be cqnfidered as absolutely fixed. The earths called primitive or funpk,. because they cannot be decomposed by any method hitherto known, were by Crondedt supposed to be nine ; but later chemids have reduced them to five. Some reduce the number dill farther; but Mr Bergman informs us that these “ red their opinions upon fanciful metamorphoses unsupported by faithful experiments. As experiments teach us that there are five primitive earths, it is evident that the species arising from their mixture cannot exceed 24, viz. ten double, confiding of twa earths;’ six triple, three quadruple, and the five primitive earths. Even all these different mixtures havenot been found, though they probably do exid in nature. The natural compositions of acids with the earths, forming fubdances not soluble in 1000 times their weight of boiling, water, and which may be called faline earths, are undoubtedly chemical combinations. The five primitive earths are, terra ponderofa ; calx or calcareous earth, capable of being reduced into quicklime; magnefia ; argilla-or argillaceous earth; “ But though, we mud consider these as the modi pure of all the earthy bodies, they are never found native in a date of abfi lute purity ; nor indeed can they be made perfe&ly pure even by artificial means. Water and aerial acid unite readily with the four fird ; and' when expelled by fire, a little of the matter of heat is added, until driven out by a more powerful attraction. But in this date they poffdss a degree of purity not to be attained by any other known method. Therefore it ia.necessary to examine them when fuffieiently burnt, in order to didinguifla be.tter what properties depend upon adhering heterogeneous matters.” Our author at fird adderf the earth of gems to the five ckffes already mentioned;, but he found afterwards that all kinds of gems are compounded of some of the five kinds already mentioned, particularly of the argillaceous kind, insomuch that they may be said aimed entirely to belong, to this class. Still, however, the earth of diamonds seems to possess properties essentially didincf from the five already mentioned, and therefore may not unjustly be reckoned a sixth class, though its characters have as yet been but verv imI. Terra Ponderofa This was difeovered in Sweden about the year 1774, and is found in several. different I. Combined with aerial acid, called by Dr Witheiv ing terra, ponderofa aerata This fubdance has been-met with in England; and an account of it, with Dr Withering’s analylis, is given under the article Che2. The spar-like gypfum, marmor metallicum, lapis bononienfis, phosphorus nativus, baro-felehite, &c. of very thin flattiih lenses put together, than like cocks combs. Varieties of it are al' so found of white and reddilh colours. It is likewise met with of a brous texture in the form of zeolite or aibeftos in filaments. M. Monnet is of opinion that these spars fomeis of very considerable fpecillc gravity, approaching times contain phlogifion, having observed that they to that of tin or iron ; on which account it has been' become a liver of sulphur in a strong heat; but supposed to contain something metallic. But no ex Woulfe is of opinion that this gentleman was deceived periments hitherto made have evinced the existence of by charcoal falling into his crucible, any metal in it, excepting a few traces of iron, which 4. The lapis hepaticus, or leberltein of the Germans • ..n *1.. z. r„ r* * , ■ „ are to be met with in all the j^ypfa. It is met with of two kinds, femitranfparent and opaque 5 the latter being either of a white or reddish colour. The fpecilic gravity is about 4,500, w^ater being acand Swedes. Some specimens of this stone constantly smell like liver of sulphur, but others only when rubbed. It does not effervefce with acids, and according to M. Magellan is a medium between the gypfum and counted loop. It contains about 84 parts of pondefetid calcareous stones with which it has generally been rous earth, 13 of the most concentrated vitriolic acid, confounded; but it will not yield any lime, though and three of water. The method of preparing the the latter are more sit for the purpose than any other, phosphorus from this substance is mentioned under the Mr Kirwan informs us that this (tone is generally cornarticle Chemistry ; but Crbnftedt observes, that the padl, but not hard enough to strike fire; its texture? phofphorelcent quality of these stones is different from is either equable or laminar, scaly or fparry ; and that of the fparry fluors and limeftones, which is only takes a pohih like alabaster, does not effervefce with produced by their being llowly heated, and see ms to acids, and when calcined is partially reduced to. a kind -arise from a 1 phlogifton which is destroyed by a glowof plaster of Paris. According to the analysis of this ing heat. M. Scheffer, in the Stockholm Memoirs stone given us by Professor Bergman, 100 parts of for 1753, relates feme experiments' on a stone of this contain 33 of baro-felenite, 38 of liliceous earth, kind from China, which show that it is exa&ly the of alum, seven of gypfum, and five of mineral oil. same with the petuntfe of that country, an ingredient Gronftedt denies that these stones contain any volatile in their porcelain manufaflories. This stone does not alkali, though his assertion is contradifted by Walleburn into plaster as gypfum does, and is infufible by rius, who affirms, that a volatile alkali certainly exilts itself. It frequently. contains calcareous earth, and in them, and may be difeovered by a chemical analysis. sometimes is met with in the ores of metals, and it “ The method which nature takes to combine the inlikewife forms the basis of some petrifications. Somegredients of the lapis hepaticus (says Cronftedt), may rxv t Txr r x of irnri {n the hlinnerhims thp same as when a Kmeftrvne is lat/i in times it contains one or two parts of 3. The marmor metallicum druficum, or ponderous drufen spar, is found in the lead-mines at Alftonmoor in Cumberland, regularly cryftallized in the form be perhaps the same as when a limeftone is laid in heap of mundic while it is roasting; because there the sulphur unites itself with the limeftone, whereby the latter acquires the smell of liver of sulphur, instead which the vitriolic acid alone enters the composition of alum, solid, and femitranfparent. M. Magellan gypfum. How the sulphur combines itself may likefays that he was showed some fine specimens of this wife be observed in the Hate-balls or kernels from the mineral by a Mr Thomfon, who informed him that Andrarum alum mines to be afterwards mentioned, « j t (eems to affeft the peculiarity of having its crywhere it sometimes combines with a martial earth with ftals laminated, as radiating from a centre; but that which this slate abounds, and with it forms pyrites this radiation seldom amounts to a whole circle. The within the very slate-balls. The fetid or swine itonesy corners of these flat-crystals are truncated like those of as well as the liver-stones, are, with regard to the ftrucalum and thicker on one side than the other of the ture of their parts, fubjeft to the same varieties with parallelogram, in such a manner as to sit one another the other kinds of limeftones.” This kind of stone in the kind of archei vault which they form together, found, 1. Scaly, of which there are two varieties ; one and have some small ones adhering to their sides like having coarse seales, the other of a whitiffi yellow codrufen spars, having internal angles, as the macks lour. 2. With fine glittering fcnles. This is met with of the French, or the cruciform cryftallizations.” The of a black colour at Andrarum in Sweden, in the alum specific gravity of these crystals were found by Mr Niflate above mentioned. Bergman says that this kind cholfon, with an instrument of his own invention, to be consists of a ponderous earth combined with vitriolic to water as 44,745 to io,coo. This species of cryacid, mixed with a rock oil, and with the calcareous* ftals is found in Auvergne in France, and has been deferibed by Mr Bayen, who supposed its basis to be calcareous. It was extremely refraftory, and the surface of its crystals covered with ferruginous ochre. A variety of this is found jagged like cocks combs. This is met with in clifts and fissures, accreted on the fur* argillaceous, and filiceous earths. He adds, that by a chemical analysis one of these kernels gave 29 parts of cauftie ponderous earth, 33 of filiceous, almost 5 the argillaceous, and 3.7 of lime, besides the wates and vitriolic acid which entered its composition. II. Calcareous Earths, when freed from impurities faces of balls of the same fubfbmce. In Derby (hire as far as possible, have the following properties, i. They this substance is called caul or calk. M. Magella (bowed some specimens of it by Mr Whitehurft, which had not onlyconvex but flat surfaces. Those of the Upper aggregated' parts were rather like the edges become friable when burnt in the lire. 2. They more readily fall into powder by being thrown into water, or having it thrown upon them after calcination* 3. They cannot be melted by themselves into glass |  edition: https://w3id.org/hto/Edition/997902543804341 | edition title: Encyclopaedia Britannica | edition number: 3\n",
      "term uri: https://w3id.org/hto/ArticleTermRecord/9910796233804340_193109110_5297117738_0 | description: upon which they dress their valuables. |  edition: https://w3id.org/hto/Edition/9910796233804340 | edition title: Encyclopaedia Britannica; or, A dictionary of arts, sciences, and miscellaneous literature | edition number: 4\n",
      "term uri: https://w3id.org/hto/ArticleTermRecord/9910796233804340_193109110_5297117738_0 | description: upon which they dress their vibluals. |  edition: https://w3id.org/hto/Edition/9910796233804340 | edition title: Encyclopaedia Britannica; or, A dictionary of arts, sciences, and miscellaneous literature | edition number: 4\n",
      "term uri: https://w3id.org/hto/ArticleTermRecord/9922270543804340_192984256_5297117738_0 | description: of which is thrown up on its side, to ferveas a parapet for covering the men. |  edition: https://w3id.org/hto/Edition/9922270543804340 | edition title: Encyclopaedia Britannica, or, a Dictionary of arts, sciences, and miscellaneous literature : enlarged and improved. Illustrated with nearly six hundred engravings | edition number: 5\n",
      "term uri: https://w3id.org/hto/ArticleTermRecord/9922270543804340_192984256_5297117738_0 | description: of which is thrown up on its side, to ferveas a parapet for covering the men. |  edition: https://w3id.org/hto/Edition/9922270543804340 | edition title: Encyclopaedia Britannica, or, a Dictionary of arts, sciences, and miscellaneous literature : enlarged and improved. Illustrated with nearly six hundred engravings | edition number: 5\n",
      "term uri: https://w3id.org/hto/ArticleTermRecord/9910796253804340_192547781_5297117738_0 | description: a name given to common red clay, alluding to that species of earth of which the first man is supposed to have been made. ADAMI pomum, in Anatomy, a protuberance in the sore part of the throat, formed by the or hyoides. It is thought to be so called upon a strange conceit, that a piece of the forbidden apple, which Adam ate, stuck by the way and occasioned it. |  edition: https://w3id.org/hto/Edition/9910796253804340 | edition title: Encyclopaedia Britannica | edition number: 6\n",
      "term uri: https://w3id.org/hto/ArticleTermRecord/9910796253804340_192547781_5297117738_0 | description: a name given to common red clay, alluding to that species of earth of which the first man is supposed to have been made. ADAMI pomum, in Anatomy, a protuberance in the sore part of the throat, formed by the os hyoides. It is thought to be so called upon a strange conceit, that a piece of the forbidden apple, which Adam ate, stuck by the way and occasioned it. |  edition: https://w3id.org/hto/Edition/9910796253804340 | edition title: Encyclopaedia Britannica | edition number: 6\n",
      "term uri: https://w3id.org/hto/ArticleTermRecord/9910796253804340_192015838_5297117738_0 | description: among ancient philosophers, one of the elements of which the whole system of nature was to be composed. See Element. Earths, in Chemistry, are such substances as have taste nor smell, are incombustible, are nearly in water, and have a specific gravity under Such are lime, barytes, &c. See Chemistry Inin Astronomy and Geography, one of the planets $ being this terraqueous globe which the astronomical facts with regard to the earth, Astronomy j for its geographical history, see Geography j and for the opinions or theories formation and changes, see Geology Index. |  edition: https://w3id.org/hto/Edition/9910796253804340 | edition title: Encyclopaedia Britannica | edition number: 6\n",
      "term uri: https://w3id.org/hto/ArticleTermRecord/9910796253804340_192015838_5297117738_0 | description: among ancient philosophers, one of the elements of which the whole system of nature was to be composed. See Element. Earths, in Chemistry, are such substances as have taste nor smell, are incombustible, are nearly in water, and have a specific gravity under Such are time, barytes, C. See Chemistry In Astronomy and Geography, one of the planets $ being this terraqueous globe which the astronomical facts with regard to the earth, Astronomy or for its geographical history, see Geography on and for the opinions of theories formation and changes, see Geology Index. |  edition: https://w3id.org/hto/Edition/9910796253804340 | edition title: Encyclopaedia Britannica | edition number: 6\n",
      "term uri: https://w3id.org/hto/ArticleTermRecord/9910796273804340_193322688_5297117738_0 | description: amongst ancient philosophers, one elements of which the whole system of nature was Earth, in Astronomy and Geography, one many planets, being the terraqueous globe which habit.( See the articles Figure of the Earth, |  edition: https://w3id.org/hto/Edition/9910796273804340 | edition title: Encyclopaedia Britannica | edition number: 7\n",
      "term uri: https://w3id.org/hto/ArticleTermRecord/9910796273804340_193322688_5297117738_0 | description: amongst ancient philosophers, one elements of which the whole system of nature was Earth, in Astronomy and Geography, one mary planets, being the terraqueous globe which habit. (See the articles Figure of the Earth, |  edition: https://w3id.org/hto/Edition/9910796273804340 | edition title: Encyclopaedia Britannica | edition number: 7\n",
      "term uri: https://w3id.org/hto/ArticleTermRecord/9910796273804340_193322688_5297117738_0 | description: amongst ancient philosophers, owe of the four elements of which the whole system of nature was believed to be composed. |  edition: https://w3id.org/hto/Edition/9910796273804340 | edition title: Encyclopaedia Britannica | edition number: 7\n",
      "term uri: https://w3id.org/hto/ArticleTermRecord/9910796273804340_193322688_5297117738_1 | description: in Astronomy and Geography, one of the primary planets, bci□g the terraqueous globe which we inhabit. (See the articles Figure of the Earth, and Geology.) |  edition: https://w3id.org/hto/Edition/9910796273804340 | edition title: Encyclopaedia Britannica | edition number: 7\n",
      "term uri: https://w3id.org/hto/ArticleTermRecord/9929777383804340_193322702_5297117738_0 | description: II. 128. |  edition: https://w3id.org/hto/Edition/9929777383804340 | edition title: Encyclopaedia Britannica | edition number: 8\n",
      "term uri: https://w3id.org/hto/ArticleTermRecord/9929777383804340_193322702_5297117738_0 | description: II. 128. |  edition: https://w3id.org/hto/Edition/9929777383804340 | edition title: Encyclopaedia Britannica | edition number: 8\n"
     ]
    }
   ],
   "source": [
    "term_name = \"'EARTH'\"\n",
    "\n",
    "sparql.setQuery(\"\"\"\n",
    "     PREFIX hto: <https://w3id.org/hto#>\n",
    "     SELECT * WHERE {\n",
    "        ?term a hto:ArticleTermRecord;\n",
    "            hto:name %s;\n",
    "            hto:startsAtPage ?page;\n",
    "            hto:hasOriginalDescription ?desc.\n",
    "        ?desc hto:text ?content.\n",
    "        ?vol hto:hadMember ?page.\n",
    "        ?edition a hto:Edition;\n",
    "            hto:hadMember ?vol;\n",
    "            hto:title ?title.\n",
    "        OPTIONAL {\n",
    "            ?edition hto:number ?number.\n",
    "        }\n",
    "    } ORDER BY ?number\n",
    "    \"\"\" % term_name\n",
    ")\n",
    "\n",
    "try:\n",
    "    ret = sparql.queryAndConvert()\n",
    "    for r in ret[\"results\"][\"bindings\"]:\n",
    "        edition_number = None\n",
    "        if \"number\" in r:\n",
    "            edition_number = r[\"number\"][\"value\"]\n",
    "        print(\"term uri: %s | description: %s |  edition: %s | edition title: %s | edition number: %s\" % (r[\"term\"][\"value\"], r[\"content\"][\"value\"], r[\"edition\"][\"value\"], r[\"title\"][\"value\"], edition_number))\n",
    "except Exception as e:\n",
    "    print(e)\n"
   ],
   "metadata": {
    "collapsed": false
   }
  },
  {
   "cell_type": "markdown",
   "source": [
    "### Question 17: What is the text in a page?"
   ],
   "metadata": {
    "collapsed": false
   }
  },
  {
   "cell_type": "code",
   "execution_count": 19,
   "outputs": [],
   "source": [
    "# check the text of a page from Chapbooks collection\n",
    "sparql.setQuery(\"\"\"\n",
    "     PREFIX hto: <https://w3id.org/hto#>\n",
    "     SELECT * WHERE {\n",
    "        ?page a hto:Page;\n",
    "            hto:hasOriginalDescription ?desc.\n",
    "        ?desc hto:text ?text;\n",
    "            hto:hasTextQuality ?textQuality.\n",
    "    }\n",
    "    LIMIT 5\n",
    "    \"\"\"\n",
    ")\n",
    "\n",
    "try:\n",
    "    ret = sparql.queryAndConvert()\n",
    "    for r in ret[\"results\"][\"bindings\"]:\n",
    "        print(\"page uri: %s | content: %s | quality: %s\" % (r[\"page\"][\"value\"], r[\"text\"][\"value\"], r[\"textQuality\"][\"value\"]))\n",
    "except Exception as e:\n",
    "    print(e)"
   ],
   "metadata": {
    "collapsed": false
   }
  },
  {
   "cell_type": "markdown",
   "source": [
    "### Question 18: What sources the text descriptions of article _T_ or a page _P_ are extracted from?"
   ],
   "metadata": {
    "collapsed": false
   }
  },
  {
   "cell_type": "code",
   "execution_count": 80,
   "outputs": [
    {
     "name": "stdout",
     "output_type": "stream",
     "text": [
      "name: ACCENT | description: in reading or speaking, an inflection of the voice, which gives to each syllable of a word its due pitch in-respect of height or lowness. See Reading. The word is originally Latin, accentus ; a compound of ad, to, and cano, to sing. Accentus quasi adcantus, or juχtα can-turn. In this sense, accent is synonymous with the Greek τονος ; the Latin tenor, or tonor ; and the Hebrew t□yto, gustus, taste, Accent, among grammarians, is a certain mark, or  character placed over a syllable to direct the stress of its pronunciation. We generally reckon three grammatical accents in ordinary use, all borrowed from the Greeks, viz. the acute accent ('), which shows when the tone of the voice is to be raised; the grave accent ('), when the note or tone of the voice is to be depressed; and the circumflex accent ( a ), which is composed of both the acute and the grave, and points out a kind of undulation of the voice. The Latins have made the same use as the Greeks of these three accents.\n",
      "The Hebrews have a grammatical, a rhetorical, and a musical accent; though the first and last seem, in effect, to be the same, both being comprised under the general name of tonic accents, because they give the proper tones to syllables; as the rhetorical accents are said to be euphonic, because they tend to make the pronunciation more sweet and agreeable. There are four euphonic accents, and twenty-five tonic: of these some are placed above, and others below the syllables; the Hebrew accents serving not only to regulate the risings and fallings of the voice, but also to distinguish the sections, periods, and members of periods, in a discourse, and to answer the same purposes with the points in other languages. Their accents are divided into emperors, kings, dukes, &c. each bearing a title answerable to the importance of the distinction it makes. Their emperor rules over a whole phrase, and terminates the sense completely; answering to our point. Their king answers to our colon; and their duke to our comma. The king, however, occasionally becomes a duke, and the duke a king, as the phrases are more or less short. It must be noted, by the way, that the management and combination of these accents in Hebrew poetry differ from their management and combination in prose. The use of the tonic or grammatical accents has been much controverted; some holding that they distinguish the sense, while others maintain that they are only intended to regulate the music or singing, alleging that the Jews sing rather than read the Scriptures in their synagogues.^[1. Cooper, Dorn. Mosaic. Clav. p. 31. ] Be this, however, as it will, it is certain the ancient Hebrews were not acquainted with these accents. The opinion which prevails amongst the learned is, that they were invented about the sixth century, by the Jewish doctors of the school of Tiberias, called the Massorets.\n",
      "As to the Greek accents, now seen both in manuscripts and printed books, there has been no less dispute about their antiquity and use than about those of the Hebrews. Isaac Vossius endeavours to prove them of modern invention; asserting, that anciently they had nothing of this kind, but only a few notes in their poetry, which were invented by Aristophanes the grammarian, about the time of Ptolemy Philopater; and that these were of musical rather than grammatical use, serving as aids in the singing of their poems, and being very different from those afterwards introduced. He also shows, from several ancient grammarians, that the manner of writing the Greek accents in those days was quite different from that which appears in our books. The author of Lα Methode Grecque, p.546, observes, that the right pronunciation of the Greek language being natural to the Greeks, it was needless for them to mark it by accents in their writings; so that, according ţo all appearance, they only began to make use of them about the time when the Romans, wishing to learn the Greek tongue, sent their children to study at Athens, thinking thereby to fix the pronunciation, and to facilitate it to strangers; which happened, as the same author observes, a little before Cicero’s time. Wetstein, Greek professor at Basil, in a learned dissertation, endeavours to prove the Greek accents of an older standing. He owns that they were not always formed in the same manner by the ancients, but he thinks that difference owing to the different pronunciation which obtained' in the different parts of Greece. He also brings several reasons, a priori, for the use of accents, even in the earliest days: as, that all writing being then in capital letters equidistant from each other, without any distinction either of Words or phrases, it could scarcely have been rendered intelligible without accents; and that accents were necessary to distinguish ambiguous words, and to point out their proper meaning, as appears from a dispute in regard to a passage of Homer, mentioned by Aristotle in his Poetics, qhap. V. Accordingly, he observes that the Syrians, who have tonic, but not distinctive accents, have yet invented certain points, placed either below or above the words, to show their mood, tense, person, or sense.\n",
      "Mr Browne of Trinity College, Dublin, has entered more deeply into this investigation; and as he had an opportunity of conversing with the crew of a Greek ship from Patras, a town situated not far distant from the ancient Corinth, which had been driven by stress of weather into the port of Dingle in Ireland, the result of his inquiries was, that the practice of the modern Greeks is different from any of the theories that have been delivered in books. “It is true,” he observes, “they have not two pronunciations for prose and for verse, and in both they read by accent; but they make accent the cause of quantity, they make it govern and control quantity, they make the syllable long on which the acute accent falls, and they allow the acute accent to change the real quantity. They always read poetry as well as prose by accent. Whether any inference can hence be drawn as to the pronunciation of the ancients, I must leave, after what I have premised above, to men of more learning; but I think it at least so probable as to make it worth while to mention the instances which occurred in proof of this assertion more particularly. Of the two first persons whom I met, one, the steward of the ship, an inhabitant of the island of Cephalonia, had had a school education: he read Euripides, and translated some easier passages, without much difficulty. By a stay in this country of near two years, he was able to speak English very tolerably, as could also the captain and several of the crew; and almost all of them spoke Italian fluently. The companion, however, of the steward· could speak only modern Greek, in which I could discover that he was giving a description of the distress in which the ship had been; and though not able to understand the context, I could plainly distinguish many words, such as δενδξα, ξυλοv, and among the rest the sound of Aν6ξωττος pronounced short. This awoke my curiosity, which w as still more heightened when I observed that he said Av0gωπων long, with the same attention to the alteration of the accent with the variety of case, which a boy would be taught to pay at a school in England. Watching therefore more closely, and asking the other to read some ancient Greek, I found that they both uniformly pronounced according to accent, without any attention to long or short syllables where accent came in the way; and on their departure, one of them having bid me good day, by saying ^Kαλημεgα, to which I answered ^Kαλημεgα, he with strong marks of reprobation set me right, and repeated ^Kαλημεgα ; and with like censure did the captain upon another occasion observe upon my saying Socrates instead of Socrates.\n",
      "“I now had a strong wish to know whether they observed the distinction in this respect usually between verse and prose; but from the little scholarship of the two men with whom I had conversed, from the ignorance of a third whom I afterwards met, (who however read Lucian with ease, though he did not seem ever to have heard of the book,) and on account of my imperfect mode of conversing with them all, I had little hopes of satisfaction on the point-; nor was I clear that they perfectly knew the difference between verse and prose. At length, having met with the commander of the ship, and his clerk Athanasius Kονομος, and finding that the latter had been a schoolmaster in the Morea, and had here learnt to speak English fluently, I put the question to them in the presence of a very learned college friend, and at another time, to avoid any error, with the aid of a gentleman who is perfectly master of the Italian language. Both the Greeks repeatedly assured us that verse as well as prose was read by accent, and not by quantity; and exemplified it by reading several lines of Homer, with whose name they seemed perfectly well acquainted.\n",
      "“I shall give an instance or two of their mode of reading:\n",
      "Βη δ' ά£εων ¶agà ⅛ινα τrολιrpλοισζοιο ⅛dKασσης,\n",
      "Tòv δ' αvαμειZομενος πζοσf<pη ποδας ωκυς , Aχιλλευς,\n",
      "’ Eς δ' εgετας επιτηδες αγειgoμεν, 'ες δ ’ εκατoμζην.\n",
      "They made the ε in αzεwv, πgοσε<pη, and εgετctς, long. But when they read\n",
      "^Kλυ6ι μευ> ’ Aξγυg6nζ, íJ¢ Xg{ισην άμφιζεζηκας,\n",
      "they made the second syllable of the first word ~Kλυ0ι short, notwithstanding the acute accent: on my asking why, they desired me to look back on the circumflex on the first syllable, and said it thence necessarily followed; for it is impossible to pronounce the first syllable with the great length which the circumflex denotes, and not to shorten the second. The testimony of the schoolmaster might be vitiated; but what could be stronger than that of these ignorant mariners as to the vulgar common practice of modern Greece? and it is remarkable that this confirms the opinion of Bishop Horsley, that the tones of words in connection are not always the same with the tones of solitary words, though in those of more than one syllable the accentual marks do not change their position. I must here add, that these men confirmed an observation which I have heard made, that we are much mistaken in our idea of the supposed lofty sound of πολv<pλοισζοιο , i}αλασσης ; that the borderers on the coast of the Archipelago take their ideas from the gentle laving of the shore by a summer wave, and not from the roaring of a winter ocean; and they accordingly pronounced it polyphlisveo thalasses.\n",
      "“I own that the observations made by me on the pronunciation of these modern Greeks brought a perfectly new train of ideas into my mind. I propose them, with humility, for the consideration of the learned; but they have made a strong impression upon me, and approached, when compared with other admitted facts, nearly to conviction. In short, I am strongly inclined to believe, that what the famous treatise so often mentioned on the prosodies of the Greek and Latin languages mentions as the peculiarity of the English, that we always prolong the sound of the syllable on which the acute accent falls, is true, and has been true of every nation upon earth. We know it is true of the modern Italians: they read Latin in that respect just as we do, and say, Arma virumque cano, and, In nova fert animus, as much as we. And when we find the modern Greeks following the same practice, surely we have some cause to suppose that the ancients did the same. In the English language, indeed, quantity is not affected, because accent and quantity always agree. Bishop Horsley endeavoured to prove that they did so in Greek, but this is on the bold supposition that the accent doth not fall where the mark is placed. The objection to this hypothesis, which seems to have been admitted by all writers, and considered as decisive by some as to prose, by all as to verse, is, that such a mode of pronunciation or reading must destroy metre, or rhythmus. From this position, however universal, or however it may have been taken for granted, I totally dissent. That it will oppose the metre or quantity I readily agree; but that it will destroy the rhythmus, (by which, whatever learned descriptions there may have been of its meaning, I understand nothing more than the melody or smooth flowing of the verses, or their harmony, if you please, if harmony be properly applied to successive and not synchronal sounds,) I can by no means admit. On the contrary, nothing can be more disagreeable or unmelodious than the reading verse by quantity, or scanning of it, as it is vulgarly called. Let us try the line so often quoted—\n",
      "Armă vĭrūmqŭe cănō, Trōjaē qui prīmŭs ăb ōrīs,\n",
      "instead of\n",
      "Ārmă vĭrūmqūe cānŏ, Trōjaē qūi prīmŭs ăb ōrīs.\n",
      "“No man ever defined rhythmus better than Plato, ordinem quendam qui in motibus cernitur ; the motion or measure of the verse may be exact, and yet the order, arrangement, and disposition of the letters and syllables such as to be grating and unmelodious to the ear. In like manner the feet of the verse may be exact, but the stress laid upon particular syllables of it which follows the quantity may totally destroy the melody: in short, the radical error seems to be the confusion of quantity with melody, and the supposition that whatever is at war with quantity and metre must be at war with melody.\n",
      "“It will be asked, then, what is the use of metre or measure in verse, if we are not to read by it; and here is the grand difficulty; and I own with candour I cannot answer it with perfect satisfaction to my own mind: to those, indeed, who say wc are to read by accent in prose, it may be equally asked, what is the usé of long or short syllables in prose, if we are not to attend to them when, accent comes in the way; but to those who think otherwise, I can only answer, that in the first place accent doth not always interfere, and then quantity is our guide, and accent often accords with quantity. Secondly, metre determines the number of feet or measures in each verse, and thereby produces a general analogy and harmony through the whole; and it is to be observed, that, as I apprehend, accent doth not change the number of feet, though it doth the nature or species of them. Thus when we read\n",
      "Arma virumque cano, Trojae qui primus ab oris,\n",
      "we do not make more feet than when we scan the line, nor employ more time than in pronouncing the next line, in which the accent happens to accord with the quantity, viz.\n",
      "Italiam fato profiιgus, Lavinaque venit.\n",
      "Thirdly, the poet in measuring his verse certainly must be confined to some certain number and order of long and short syllables, in order to produce a concordance through the whole, and even to regulate the position of accent, which, though not subdued by quantity, will certainly have some relation to it, euphoniae gratia ; but surely the length or shortness of a syllable cannot determine where emphasis shall be placed—that must depend on the meaning and the thought; and it would be most absurd for the poet to say to the reader, you shall not rest upon this emphatic and significative word because its syllables are short, and wherever there is a rest, there must be length and intonation.” (Irish Trans, vol. vii.)\n",
      "The use of accents to prevent ambiguities is most remarkably perceived in some eastern languages, particularly the Siameseand Chinese. Among the people of China, every word, or, which is the same thing, every syllable, admits of five accents, according as it is spoken more acutely or remissly; and thus stands for many different things. The same sound ya, according to the accent affixed to it, signifies God, a wall, excellent, stupidity, and a goose. The Chinese have but 330 spoken words in their language; but these being multiplied by the different accents or tones which’ affect the vowels, furnish a language tolerably copious. By means of accents, their 330 simple sounds come to denote 1650 things; but this being hardly sufficient, they are increased further by aspirates added to each word, to double the number. The Chinese only reckon four accents, for which the missionaries use the following marks, aa, a, à, a ; to which they have added a fifth, thus α. They make a kind of modulation, wherein, prolonging the duration of the sound of the vowel, they vary the tone, raising and sinking it by a certain pitch of voice; so that their talking is a sort of music or singing. Attempts have been made to determine the quantity of the rise or fall on each accent by means of musical notes; but this is hard to effect, as being different in different persons. Hence the great difficulty of the language to foreigners, who are forced to sing most scrupulously; for if they deviate ever so little from the accent, they say quite a different thing from what was intended. Thus, meaning to compliment the person you are talking of with the title Sir, you call him a beast with the same word, only a little varied in the tone. Magalhon, however, makes the language easier to learn on this account. The Siamese are also observed to sing rather than to talk. Their alphabet begins with six characters, all only equivalent to a K, but differently accented. For though in the pronunciation the accents are naturally on the vowels, yet they have some to diversify such of their consonants as are in other respects the same. | source: https://raw.githubusercontent.com/TU-plogan/kp-editions/main/eb07/TXT_v2/a2/kp-eb0702-008305-0888-v2.txt | agent: https://pdf.abbyy.com\n",
      "name: ACCENT | description: in reading or speaking, an inflection of the voice, which gives to each syllable of a word its due pitch in-respect of height or lowness. See Reading. The word is originally Latin, accentus ; a compound of ad, to, and cano, to sing. Accentus quasi adcantus, or juχtα can-turn. In this sense, accent is synonymous with the Greek τονος ; the Latin tenor, or tonor ; and the Hebrew t□yto, gustus, taste, Accent, among grammarians, is a certain mark, or  character placed over a syllable to direct the stress of its pronunciation. We generally reckon three grammatical accents in ordinary use, all borrowed from the Greeks, viz. the acute accent ('), which shows when the tone of the voice is to be raised; the grave accent ('), when the note or tone of the voice is to be depressed; and the circumflex accent ( a ), which is composed of both the acute and the grave, and points out a kind of undulation of the voice. The Latins have made the same use as the Greeks of these three accents.\n",
      "The Hebrews have a grammatical, a rhetorical, and a musical accent; though the first and last seem, in effect, to be the same, both being comprised under the general name of tonic accents, because they give the proper tones to syllables; as the rhetorical accents are said to be euphonic, because they tend to make the pronunciation more sweet and agreeable. There are four euphonic accents, and twenty-five tonic: of these some are placed above, and others below the syllables; the Hebrew accents serving not only to regulate the risings and fallings of the voice, but also to distinguish the sections, periods, and members of periods, in a discourse, and to answer the same purposes with the points in other languages. Their accents are divided into emperors, kings, dukes, &c. each bearing a title answerable to the importance of the distinction it makes. Their emperor rules over a whole phrase, and terminates the sense completely; answering to our point. Their king answers to our colon; and their duke to our comma. The king, however, occasionally becomes a duke, and the duke a king, as the phrases are more or less short. It must be noted, by the way, that the management and combination of these accents in Hebrew poetry differ from their management and combination in prose. The use of the tonic or grammatical accents has been much controverted; some holding that they distinguish the sense, while others maintain that they are only intended to regulate the music or singing, alleging that the Jews sing rather than read the Scriptures in their synagogues.^[1. Cooper, Dorn. Mosaic. Clav. p. 31. ] Be this, however, as it will, it is certain the ancient Hebrews were not acquainted with these accents. The opinion which prevails amongst the learned is, that they were invented about the sixth century, by the Jewish doctors of the school of Tiberias, called the Massorets.\n",
      "As to the Greek accents, now seen both in manuscripts and printed books, there has been no less dispute about their antiquity and use than about those of the Hebrews. Isaac Vossius endeavours to prove them of modern invention; asserting, that anciently they had nothing of this kind, but only a few notes in their poetry, which were invented by Aristophanes the grammarian, about the time of Ptolemy Philopater; and that these were of musical rather than grammatical use, serving as aids in the singing of their poems, and being very different from those afterwards introduced. He also shows, from several ancient grammarians, that the manner of writing the Greek accents in those days was quite different from that which appears in our books. The author of Lα Methode Grecque, p.546, observes, that the right pronunciation of the Greek language being natural to the Greeks, it was needless for them to mark it by accents in their writings; so that, according ţo all appearance, they only began to make use of them about the time when the Romans, wishing to learn the Greek tongue, sent their children to study at Athens, thinking thereby to fix the pronunciation, and to facilitate it to strangers; which happened, as the same author observes, a little before Cicero’s time. Wetstein, Greek professor at Basil, in a learned dissertation, endeavours to prove the Greek accents of an older standing. He owns that they were not always formed in the same manner by the ancients, but he thinks that difference owing to the different pronunciation which obtained' in the different parts of Greece. He also brings several reasons, a priori, for the use of accents, even in the earliest days: as, that all writing being then in capital letters equidistant from each other, without any distinction either of Words or phrases, it could scarcely have been rendered intelligible without accents; and that accents were necessary to distinguish ambiguous words, and to point out their proper meaning, as appears from a dispute in regard to a passage of Homer, mentioned by Aristotle in his Poetics, qhap. V. Accordingly, he observes that the Syrians, who have tonic, but not distinctive accents, have yet invented certain points, placed either below or above the words, to show their mood, tense, person, or sense.\n",
      "Mr Browne of Trinity College, Dublin, has entered more deeply into this investigation; and as he had an opportunity of conversing with the crew of a Greek ship from Patras, a town situated not far distant from the ancient Corinth, which had been driven by stress of weather into the port of Dingle in Ireland, the result of his inquiries was, that the practice of the modern Greeks is different from any of the theories that have been delivered in books. “It is true,” he observes, “they have not two pronunciations for prose and for verse, and in both they read by accent; but they make accent the cause of quantity, they make it govern and control quantity, they make the syllable long on which the acute accent falls, and they allow the acute accent to change the real quantity. They always read poetry as well as prose by accent. Whether any inference can hence be drawn as to the pronunciation of the ancients, I must leave, after what I have premised above, to men of more learning; but I think it at least so probable as to make it worth while to mention the instances which occurred in proof of this assertion more particularly. Of the two first persons whom I met, one, the steward of the ship, an inhabitant of the island of Cephalonia, had had a school education: he read Euripides, and translated some easier passages, without much difficulty. By a stay in this country of near two years, he was able to speak English very tolerably, as could also the captain and several of the crew; and almost all of them spoke Italian fluently. The companion, however, of the steward· could speak only modern Greek, in which I could discover that he was giving a description of the distress in which the ship had been; and though not able to understand the context, I could plainly distinguish many words, such as δενδξα, ξυλοv, and among the rest the sound of Aν6ξωττος pronounced short. This awoke my curiosity, which w as still more heightened when I observed that he said Av0gωπων long, with the same attention to the alteration of the accent with the variety of case, which a boy would be taught to pay at a school in England. Watching therefore more closely, and asking the other to read some ancient Greek, I found that they both uniformly pronounced according to accent, without any attention to long or short syllables where accent came in the way; and on their departure, one of them having bid me good day, by saying ^Kαλημεgα, to which I answered ^Kαλημεgα, he with strong marks of reprobation set me right, and repeated ^Kαλημεgα ; and with like censure did the captain upon another occasion observe upon my saying Socrates instead of Socrates.\n",
      "“I now had a strong wish to know whether they observed the distinction in this respect usually between verse and prose; but from the little scholarship of the two men with whom I had conversed, from the ignorance of a third whom I afterwards met, (who however read Lucian with ease, though he did not seem ever to have heard of the book,) and on account of my imperfect mode of conversing with them all, I had little hopes of satisfaction on the point-; nor was I clear that they perfectly knew the difference between verse and prose. At length, having met with the commander of the ship, and his clerk Athanasius Kονομος, and finding that the latter had been a schoolmaster in the Morea, and had here learnt to speak English fluently, I put the question to them in the presence of a very learned college friend, and at another time, to avoid any error, with the aid of a gentleman who is perfectly master of the Italian language. Both the Greeks repeatedly assured us that verse as well as prose was read by accent, and not by quantity; and exemplified it by reading several lines of Homer, with whose name they seemed perfectly well acquainted.\n",
      "“I shall give an instance or two of their mode of reading:\n",
      "Βη δ' ά£εων ¶agà ⅛ινα τrολιrpλοισζοιο ⅛dKασσης,\n",
      "Tòv δ' αvαμειZομενος πζοσf<pη ποδας ωκυς , Aχιλλευς,\n",
      "’ Eς δ' εgετας επιτηδες αγειgoμεν, 'ες δ ’ εκατoμζην.\n",
      "They made the ε in αzεwv, πgοσε<pη, and εgετctς, long. But when they read\n",
      "^Kλυ6ι μευ> ’ Aξγυg6nζ, íJ¢ Xg{ισην άμφιζεζηκας,\n",
      "they made the second syllable of the first word ~Kλυ0ι short, notwithstanding the acute accent: on my asking why, they desired me to look back on the circumflex on the first syllable, and said it thence necessarily followed; for it is impossible to pronounce the first syllable with the great length which the circumflex denotes, and not to shorten the second. The testimony of the schoolmaster might be vitiated; but what could be stronger than that of these ignorant mariners as to the vulgar common practice of modern Greece? and it is remarkable that this confirms the opinion of Bishop Horsley, that the tones of words in connection are not always the same with the tones of solitary words, though in those of more than one syllable the accentual marks do not change their position. I must here add, that these men confirmed an observation which I have heard made, that we are much mistaken in our idea of the supposed lofty sound of πολv<pλοισζοιο , i}αλασσης ; that the borderers on the coast of the Archipelago take their ideas from the gentle laving of the shore by a summer wave, and not from the roaring of a winter ocean; and they accordingly pronounced it polyphlisveo thalasses.\n",
      "“I own that the observations made by me on the pronunciation of these modern Greeks brought a perfectly new train of ideas into my mind. I propose them, with humility, for the consideration of the learned; but they have made a strong impression upon me, and approached, when compared with other admitted facts, nearly to conviction. In short, I am strongly inclined to believe, that what the famous treatise so often mentioned on the prosodies of the Greek and Latin languages mentions as the peculiarity of the English, that we always prolong the sound of the syllable on which the acute accent falls, is true, and has been true of every nation upon earth. We know it is true of the modern Italians: they read Latin in that respect just as we do, and say, Arma virumque cano, and, In nova fert animus, as much as we. And when we find the modern Greeks following the same practice, surely we have some cause to suppose that the ancients did the same. In the English language, indeed, quantity is not affected, because accent and quantity always agree. Bishop Horsley endeavoured to prove that they did so in Greek, but this is on the bold supposition that the accent doth not fall where the mark is placed. The objection to this hypothesis, which seems to have been admitted by all writers, and considered as decisive by some as to prose, by all as to verse, is, that such a mode of pronunciation or reading must destroy metre, or rhythmus. From this position, however universal, or however it may have been taken for granted, I totally dissent. That it will oppose the metre or quantity I readily agree; but that it will destroy the rhythmus, (by which, whatever learned descriptions there may have been of its meaning, I understand nothing more than the melody or smooth flowing of the verses, or their harmony, if you please, if harmony be properly applied to successive and not synchronal sounds,) I can by no means admit. On the contrary, nothing can be more disagreeable or unmelodious than the reading verse by quantity, or scanning of it, as it is vulgarly called. Let us try the line so often quoted—\n",
      "Armă vĭrūmqŭe cănō, Trōjaē qui prīmŭs ăb ōrīs,\n",
      "instead of\n",
      "Ārmă vĭrūmqūe cānŏ, Trōjaē qūi prīmŭs ăb ōrīs.\n",
      "“No man ever defined rhythmus better than Plato, ordinem quendam qui in motibus cernitur ; the motion or measure of the verse may be exact, and yet the order, arrangement, and disposition of the letters and syllables such as to be grating and unmelodious to the ear. In like manner the feet of the verse may be exact, but the stress laid upon particular syllables of it which follows the quantity may totally destroy the melody: in short, the radical error seems to be the confusion of quantity with melody, and the supposition that whatever is at war with quantity and metre must be at war with melody.\n",
      "“It will be asked, then, what is the use of metre or measure in verse, if we are not to read by it; and here is the grand difficulty; and I own with candour I cannot answer it with perfect satisfaction to my own mind: to those, indeed, who say wc are to read by accent in prose, it may be equally asked, what is the usé of long or short syllables in prose, if we are not to attend to them when, accent comes in the way; but to those who think otherwise, I can only answer, that in the first place accent doth not always interfere, and then quantity is our guide, and accent often accords with quantity. Secondly, metre determines the number of feet or measures in each verse, and thereby produces a general analogy and harmony through the whole; and it is to be observed, that, as I apprehend, accent doth not change the number of feet, though it doth the nature or species of them. Thus when we read\n",
      "Arma virumque cano, Trojae qui primus ab oris,\n",
      "we do not make more feet than when we scan the line, nor employ more time than in pronouncing the next line, in which the accent happens to accord with the quantity, viz.\n",
      "Italiam fato profiιgus, Lavinaque venit.\n",
      "Thirdly, the poet in measuring his verse certainly must be confined to some certain number and order of long and short syllables, in order to produce a concordance through the whole, and even to regulate the position of accent, which, though not subdued by quantity, will certainly have some relation to it, euphoniae gratia ; but surely the length or shortness of a syllable cannot determine where emphasis shall be placed—that must depend on the meaning and the thought; and it would be most absurd for the poet to say to the reader, you shall not rest upon this emphatic and significative word because its syllables are short, and wherever there is a rest, there must be length and intonation.” (Irish Trans, vol. vii.)\n",
      "The use of accents to prevent ambiguities is most remarkably perceived in some eastern languages, particularly the Siameseand Chinese. Among the people of China, every word, or, which is the same thing, every syllable, admits of five accents, according as it is spoken more acutely or remissly; and thus stands for many different things. The same sound ya, according to the accent affixed to it, signifies God, a wall, excellent, stupidity, and a goose. The Chinese have but 330 spoken words in their language; but these being multiplied by the different accents or tones which’ affect the vowels, furnish a language tolerably copious. By means of accents, their 330 simple sounds come to denote 1650 things; but this being hardly sufficient, they are increased further by aspirates added to each word, to double the number. The Chinese only reckon four accents, for which the missionaries use the following marks, aa, a, à, a ; to which they have added a fifth, thus α. They make a kind of modulation, wherein, prolonging the duration of the sound of the vowel, they vary the tone, raising and sinking it by a certain pitch of voice; so that their talking is a sort of music or singing. Attempts have been made to determine the quantity of the rise or fall on each accent by means of musical notes; but this is hard to effect, as being different in different persons. Hence the great difficulty of the language to foreigners, who are forced to sing most scrupulously; for if they deviate ever so little from the accent, they say quite a different thing from what was intended. Thus, meaning to compliment the person you are talking of with the title Sir, you call him a beast with the same word, only a little varied in the tone. Magalhon, however, makes the language easier to learn on this account. The Siamese are also observed to sing rather than to talk. Their alphabet begins with six characters, all only equivalent to a K, but differently accented. For though in the pronunciation the accents are naturally on the vowels, yet they have some to diversify such of their consonants as are in other respects the same. | source: https://raw.githubusercontent.com/TU-plogan/kp-editions/main/eb07/TXT_v2/a2/kp-eb0702-008305-0888-v2.txt | agent: https://w3id.org/hto/Organization/NCKP\n",
      "name: ACCENT | description: in reading or speaking, an inflection voice, which gives to each syllable of a word its in respect of height or lowness. See Reading. word is originally Latin, accentus ; a compound and cano, to sing. Accentus quasi adcantus, or turn. In this sense, accent is synonymous with rows; the Latin tenor, or tonor; and the Hebrew Accent, among grammarians, is a certain | source: https://w3id.org/hto/InformationResource/192984259_alto_193030890_34_xml | agent: https://w3id.org/hto/Organization/NLS\n"
     ]
    }
   ],
   "source": [
    "from rdflib import PROV\n",
    "\n",
    "article_accent = \"<https://w3id.org/hto/ArticleTermRecord/9910796273804340_192984259_ACCENT_0>\"\n",
    "\n",
    "sparql.setQuery(\"\"\"\n",
    "     PREFIX hto: <https://w3id.org/hto#>\n",
    "     PREFIX prov: <http://www.w3.org/ns/prov#>\n",
    "     SELECT * WHERE {\n",
    "        %s a hto:ArticleTermRecord;\n",
    "            hto:name ?name;\n",
    "            hto:hasOriginalDescription ?desc.\n",
    "        ?desc hto:wasExtractedFrom ?source;\n",
    "            hto:text ?text.\n",
    "        ?source prov:wasAttributedTo ?agent.\n",
    "    }\n",
    "    \"\"\" % article_accent\n",
    ")\n",
    "\n",
    "try:\n",
    "    ret = sparql.queryAndConvert()\n",
    "    for r in ret[\"results\"][\"bindings\"]:\n",
    "        print(\"name: %s | description: %s | source: %s | agent: %s\" % (r[\"name\"][\"value\"], r[\"text\"][\"value\"], r[\"source\"][\"value\"], r[\"agent\"][\"value\"]))\n",
    "except Exception as e:\n",
    "    print(e)\n"
   ],
   "metadata": {
    "collapsed": false
   }
  },
  {
   "cell_type": "markdown",
   "source": [
    "### Question 19: What is the High quality description of term _T_?"
   ],
   "metadata": {
    "collapsed": false
   }
  },
  {
   "cell_type": "code",
   "execution_count": 81,
   "outputs": [
    {
     "name": "stdout",
     "output_type": "stream",
     "text": [
      "name: ACCENT | description: in reading or speaking, an inflection of the voice, which gives to each syllable of a word its due pitch in-respect of height or lowness. See Reading. The word is originally Latin, accentus ; a compound of ad, to, and cano, to sing. Accentus quasi adcantus, or juχtα can-turn. In this sense, accent is synonymous with the Greek τονος ; the Latin tenor, or tonor ; and the Hebrew t□yto, gustus, taste, Accent, among grammarians, is a certain mark, or  character placed over a syllable to direct the stress of its pronunciation. We generally reckon three grammatical accents in ordinary use, all borrowed from the Greeks, viz. the acute accent ('), which shows when the tone of the voice is to be raised; the grave accent ('), when the note or tone of the voice is to be depressed; and the circumflex accent ( a ), which is composed of both the acute and the grave, and points out a kind of undulation of the voice. The Latins have made the same use as the Greeks of these three accents.\n",
      "The Hebrews have a grammatical, a rhetorical, and a musical accent; though the first and last seem, in effect, to be the same, both being comprised under the general name of tonic accents, because they give the proper tones to syllables; as the rhetorical accents are said to be euphonic, because they tend to make the pronunciation more sweet and agreeable. There are four euphonic accents, and twenty-five tonic: of these some are placed above, and others below the syllables; the Hebrew accents serving not only to regulate the risings and fallings of the voice, but also to distinguish the sections, periods, and members of periods, in a discourse, and to answer the same purposes with the points in other languages. Their accents are divided into emperors, kings, dukes, &c. each bearing a title answerable to the importance of the distinction it makes. Their emperor rules over a whole phrase, and terminates the sense completely; answering to our point. Their king answers to our colon; and their duke to our comma. The king, however, occasionally becomes a duke, and the duke a king, as the phrases are more or less short. It must be noted, by the way, that the management and combination of these accents in Hebrew poetry differ from their management and combination in prose. The use of the tonic or grammatical accents has been much controverted; some holding that they distinguish the sense, while others maintain that they are only intended to regulate the music or singing, alleging that the Jews sing rather than read the Scriptures in their synagogues.^[1. Cooper, Dorn. Mosaic. Clav. p. 31. ] Be this, however, as it will, it is certain the ancient Hebrews were not acquainted with these accents. The opinion which prevails amongst the learned is, that they were invented about the sixth century, by the Jewish doctors of the school of Tiberias, called the Massorets.\n",
      "As to the Greek accents, now seen both in manuscripts and printed books, there has been no less dispute about their antiquity and use than about those of the Hebrews. Isaac Vossius endeavours to prove them of modern invention; asserting, that anciently they had nothing of this kind, but only a few notes in their poetry, which were invented by Aristophanes the grammarian, about the time of Ptolemy Philopater; and that these were of musical rather than grammatical use, serving as aids in the singing of their poems, and being very different from those afterwards introduced. He also shows, from several ancient grammarians, that the manner of writing the Greek accents in those days was quite different from that which appears in our books. The author of Lα Methode Grecque, p.546, observes, that the right pronunciation of the Greek language being natural to the Greeks, it was needless for them to mark it by accents in their writings; so that, according ţo all appearance, they only began to make use of them about the time when the Romans, wishing to learn the Greek tongue, sent their children to study at Athens, thinking thereby to fix the pronunciation, and to facilitate it to strangers; which happened, as the same author observes, a little before Cicero’s time. Wetstein, Greek professor at Basil, in a learned dissertation, endeavours to prove the Greek accents of an older standing. He owns that they were not always formed in the same manner by the ancients, but he thinks that difference owing to the different pronunciation which obtained' in the different parts of Greece. He also brings several reasons, a priori, for the use of accents, even in the earliest days: as, that all writing being then in capital letters equidistant from each other, without any distinction either of Words or phrases, it could scarcely have been rendered intelligible without accents; and that accents were necessary to distinguish ambiguous words, and to point out their proper meaning, as appears from a dispute in regard to a passage of Homer, mentioned by Aristotle in his Poetics, qhap. V. Accordingly, he observes that the Syrians, who have tonic, but not distinctive accents, have yet invented certain points, placed either below or above the words, to show their mood, tense, person, or sense.\n",
      "Mr Browne of Trinity College, Dublin, has entered more deeply into this investigation; and as he had an opportunity of conversing with the crew of a Greek ship from Patras, a town situated not far distant from the ancient Corinth, which had been driven by stress of weather into the port of Dingle in Ireland, the result of his inquiries was, that the practice of the modern Greeks is different from any of the theories that have been delivered in books. “It is true,” he observes, “they have not two pronunciations for prose and for verse, and in both they read by accent; but they make accent the cause of quantity, they make it govern and control quantity, they make the syllable long on which the acute accent falls, and they allow the acute accent to change the real quantity. They always read poetry as well as prose by accent. Whether any inference can hence be drawn as to the pronunciation of the ancients, I must leave, after what I have premised above, to men of more learning; but I think it at least so probable as to make it worth while to mention the instances which occurred in proof of this assertion more particularly. Of the two first persons whom I met, one, the steward of the ship, an inhabitant of the island of Cephalonia, had had a school education: he read Euripides, and translated some easier passages, without much difficulty. By a stay in this country of near two years, he was able to speak English very tolerably, as could also the captain and several of the crew; and almost all of them spoke Italian fluently. The companion, however, of the steward· could speak only modern Greek, in which I could discover that he was giving a description of the distress in which the ship had been; and though not able to understand the context, I could plainly distinguish many words, such as δενδξα, ξυλοv, and among the rest the sound of Aν6ξωττος pronounced short. This awoke my curiosity, which w as still more heightened when I observed that he said Av0gωπων long, with the same attention to the alteration of the accent with the variety of case, which a boy would be taught to pay at a school in England. Watching therefore more closely, and asking the other to read some ancient Greek, I found that they both uniformly pronounced according to accent, without any attention to long or short syllables where accent came in the way; and on their departure, one of them having bid me good day, by saying ^Kαλημεgα, to which I answered ^Kαλημεgα, he with strong marks of reprobation set me right, and repeated ^Kαλημεgα ; and with like censure did the captain upon another occasion observe upon my saying Socrates instead of Socrates.\n",
      "“I now had a strong wish to know whether they observed the distinction in this respect usually between verse and prose; but from the little scholarship of the two men with whom I had conversed, from the ignorance of a third whom I afterwards met, (who however read Lucian with ease, though he did not seem ever to have heard of the book,) and on account of my imperfect mode of conversing with them all, I had little hopes of satisfaction on the point-; nor was I clear that they perfectly knew the difference between verse and prose. At length, having met with the commander of the ship, and his clerk Athanasius Kονομος, and finding that the latter had been a schoolmaster in the Morea, and had here learnt to speak English fluently, I put the question to them in the presence of a very learned college friend, and at another time, to avoid any error, with the aid of a gentleman who is perfectly master of the Italian language. Both the Greeks repeatedly assured us that verse as well as prose was read by accent, and not by quantity; and exemplified it by reading several lines of Homer, with whose name they seemed perfectly well acquainted.\n",
      "“I shall give an instance or two of their mode of reading:\n",
      "Βη δ' ά£εων ¶agà ⅛ινα τrολιrpλοισζοιο ⅛dKασσης,\n",
      "Tòv δ' αvαμειZομενος πζοσf<pη ποδας ωκυς , Aχιλλευς,\n",
      "’ Eς δ' εgετας επιτηδες αγειgoμεν, 'ες δ ’ εκατoμζην.\n",
      "They made the ε in αzεwv, πgοσε<pη, and εgετctς, long. But when they read\n",
      "^Kλυ6ι μευ> ’ Aξγυg6nζ, íJ¢ Xg{ισην άμφιζεζηκας,\n",
      "they made the second syllable of the first word ~Kλυ0ι short, notwithstanding the acute accent: on my asking why, they desired me to look back on the circumflex on the first syllable, and said it thence necessarily followed; for it is impossible to pronounce the first syllable with the great length which the circumflex denotes, and not to shorten the second. The testimony of the schoolmaster might be vitiated; but what could be stronger than that of these ignorant mariners as to the vulgar common practice of modern Greece? and it is remarkable that this confirms the opinion of Bishop Horsley, that the tones of words in connection are not always the same with the tones of solitary words, though in those of more than one syllable the accentual marks do not change their position. I must here add, that these men confirmed an observation which I have heard made, that we are much mistaken in our idea of the supposed lofty sound of πολv<pλοισζοιο , i}αλασσης ; that the borderers on the coast of the Archipelago take their ideas from the gentle laving of the shore by a summer wave, and not from the roaring of a winter ocean; and they accordingly pronounced it polyphlisveo thalasses.\n",
      "“I own that the observations made by me on the pronunciation of these modern Greeks brought a perfectly new train of ideas into my mind. I propose them, with humility, for the consideration of the learned; but they have made a strong impression upon me, and approached, when compared with other admitted facts, nearly to conviction. In short, I am strongly inclined to believe, that what the famous treatise so often mentioned on the prosodies of the Greek and Latin languages mentions as the peculiarity of the English, that we always prolong the sound of the syllable on which the acute accent falls, is true, and has been true of every nation upon earth. We know it is true of the modern Italians: they read Latin in that respect just as we do, and say, Arma virumque cano, and, In nova fert animus, as much as we. And when we find the modern Greeks following the same practice, surely we have some cause to suppose that the ancients did the same. In the English language, indeed, quantity is not affected, because accent and quantity always agree. Bishop Horsley endeavoured to prove that they did so in Greek, but this is on the bold supposition that the accent doth not fall where the mark is placed. The objection to this hypothesis, which seems to have been admitted by all writers, and considered as decisive by some as to prose, by all as to verse, is, that such a mode of pronunciation or reading must destroy metre, or rhythmus. From this position, however universal, or however it may have been taken for granted, I totally dissent. That it will oppose the metre or quantity I readily agree; but that it will destroy the rhythmus, (by which, whatever learned descriptions there may have been of its meaning, I understand nothing more than the melody or smooth flowing of the verses, or their harmony, if you please, if harmony be properly applied to successive and not synchronal sounds,) I can by no means admit. On the contrary, nothing can be more disagreeable or unmelodious than the reading verse by quantity, or scanning of it, as it is vulgarly called. Let us try the line so often quoted—\n",
      "Armă vĭrūmqŭe cănō, Trōjaē qui prīmŭs ăb ōrīs,\n",
      "instead of\n",
      "Ārmă vĭrūmqūe cānŏ, Trōjaē qūi prīmŭs ăb ōrīs.\n",
      "“No man ever defined rhythmus better than Plato, ordinem quendam qui in motibus cernitur ; the motion or measure of the verse may be exact, and yet the order, arrangement, and disposition of the letters and syllables such as to be grating and unmelodious to the ear. In like manner the feet of the verse may be exact, but the stress laid upon particular syllables of it which follows the quantity may totally destroy the melody: in short, the radical error seems to be the confusion of quantity with melody, and the supposition that whatever is at war with quantity and metre must be at war with melody.\n",
      "“It will be asked, then, what is the use of metre or measure in verse, if we are not to read by it; and here is the grand difficulty; and I own with candour I cannot answer it with perfect satisfaction to my own mind: to those, indeed, who say wc are to read by accent in prose, it may be equally asked, what is the usé of long or short syllables in prose, if we are not to attend to them when, accent comes in the way; but to those who think otherwise, I can only answer, that in the first place accent doth not always interfere, and then quantity is our guide, and accent often accords with quantity. Secondly, metre determines the number of feet or measures in each verse, and thereby produces a general analogy and harmony through the whole; and it is to be observed, that, as I apprehend, accent doth not change the number of feet, though it doth the nature or species of them. Thus when we read\n",
      "Arma virumque cano, Trojae qui primus ab oris,\n",
      "we do not make more feet than when we scan the line, nor employ more time than in pronouncing the next line, in which the accent happens to accord with the quantity, viz.\n",
      "Italiam fato profiιgus, Lavinaque venit.\n",
      "Thirdly, the poet in measuring his verse certainly must be confined to some certain number and order of long and short syllables, in order to produce a concordance through the whole, and even to regulate the position of accent, which, though not subdued by quantity, will certainly have some relation to it, euphoniae gratia ; but surely the length or shortness of a syllable cannot determine where emphasis shall be placed—that must depend on the meaning and the thought; and it would be most absurd for the poet to say to the reader, you shall not rest upon this emphatic and significative word because its syllables are short, and wherever there is a rest, there must be length and intonation.” (Irish Trans, vol. vii.)\n",
      "The use of accents to prevent ambiguities is most remarkably perceived in some eastern languages, particularly the Siameseand Chinese. Among the people of China, every word, or, which is the same thing, every syllable, admits of five accents, according as it is spoken more acutely or remissly; and thus stands for many different things. The same sound ya, according to the accent affixed to it, signifies God, a wall, excellent, stupidity, and a goose. The Chinese have but 330 spoken words in their language; but these being multiplied by the different accents or tones which’ affect the vowels, furnish a language tolerably copious. By means of accents, their 330 simple sounds come to denote 1650 things; but this being hardly sufficient, they are increased further by aspirates added to each word, to double the number. The Chinese only reckon four accents, for which the missionaries use the following marks, aa, a, à, a ; to which they have added a fifth, thus α. They make a kind of modulation, wherein, prolonging the duration of the sound of the vowel, they vary the tone, raising and sinking it by a certain pitch of voice; so that their talking is a sort of music or singing. Attempts have been made to determine the quantity of the rise or fall on each accent by means of musical notes; but this is hard to effect, as being different in different persons. Hence the great difficulty of the language to foreigners, who are forced to sing most scrupulously; for if they deviate ever so little from the accent, they say quite a different thing from what was intended. Thus, meaning to compliment the person you are talking of with the title Sir, you call him a beast with the same word, only a little varied in the tone. Magalhon, however, makes the language easier to learn on this account. The Siamese are also observed to sing rather than to talk. Their alphabet begins with six characters, all only equivalent to a K, but differently accented. For though in the pronunciation the accents are naturally on the vowels, yet they have some to diversify such of their consonants as are in other respects the same. | source: https://raw.githubusercontent.com/TU-plogan/kp-editions/main/eb07/TXT_v2/a2/kp-eb0702-008305-0888-v2.txt | agent: https://pdf.abbyy.com\n",
      "name: ACCENT | description: in reading or speaking, an inflection of the voice, which gives to each syllable of a word its due pitch in-respect of height or lowness. See Reading. The word is originally Latin, accentus ; a compound of ad, to, and cano, to sing. Accentus quasi adcantus, or juχtα can-turn. In this sense, accent is synonymous with the Greek τονος ; the Latin tenor, or tonor ; and the Hebrew t□yto, gustus, taste, Accent, among grammarians, is a certain mark, or  character placed over a syllable to direct the stress of its pronunciation. We generally reckon three grammatical accents in ordinary use, all borrowed from the Greeks, viz. the acute accent ('), which shows when the tone of the voice is to be raised; the grave accent ('), when the note or tone of the voice is to be depressed; and the circumflex accent ( a ), which is composed of both the acute and the grave, and points out a kind of undulation of the voice. The Latins have made the same use as the Greeks of these three accents.\n",
      "The Hebrews have a grammatical, a rhetorical, and a musical accent; though the first and last seem, in effect, to be the same, both being comprised under the general name of tonic accents, because they give the proper tones to syllables; as the rhetorical accents are said to be euphonic, because they tend to make the pronunciation more sweet and agreeable. There are four euphonic accents, and twenty-five tonic: of these some are placed above, and others below the syllables; the Hebrew accents serving not only to regulate the risings and fallings of the voice, but also to distinguish the sections, periods, and members of periods, in a discourse, and to answer the same purposes with the points in other languages. Their accents are divided into emperors, kings, dukes, &c. each bearing a title answerable to the importance of the distinction it makes. Their emperor rules over a whole phrase, and terminates the sense completely; answering to our point. Their king answers to our colon; and their duke to our comma. The king, however, occasionally becomes a duke, and the duke a king, as the phrases are more or less short. It must be noted, by the way, that the management and combination of these accents in Hebrew poetry differ from their management and combination in prose. The use of the tonic or grammatical accents has been much controverted; some holding that they distinguish the sense, while others maintain that they are only intended to regulate the music or singing, alleging that the Jews sing rather than read the Scriptures in their synagogues.^[1. Cooper, Dorn. Mosaic. Clav. p. 31. ] Be this, however, as it will, it is certain the ancient Hebrews were not acquainted with these accents. The opinion which prevails amongst the learned is, that they were invented about the sixth century, by the Jewish doctors of the school of Tiberias, called the Massorets.\n",
      "As to the Greek accents, now seen both in manuscripts and printed books, there has been no less dispute about their antiquity and use than about those of the Hebrews. Isaac Vossius endeavours to prove them of modern invention; asserting, that anciently they had nothing of this kind, but only a few notes in their poetry, which were invented by Aristophanes the grammarian, about the time of Ptolemy Philopater; and that these were of musical rather than grammatical use, serving as aids in the singing of their poems, and being very different from those afterwards introduced. He also shows, from several ancient grammarians, that the manner of writing the Greek accents in those days was quite different from that which appears in our books. The author of Lα Methode Grecque, p.546, observes, that the right pronunciation of the Greek language being natural to the Greeks, it was needless for them to mark it by accents in their writings; so that, according ţo all appearance, they only began to make use of them about the time when the Romans, wishing to learn the Greek tongue, sent their children to study at Athens, thinking thereby to fix the pronunciation, and to facilitate it to strangers; which happened, as the same author observes, a little before Cicero’s time. Wetstein, Greek professor at Basil, in a learned dissertation, endeavours to prove the Greek accents of an older standing. He owns that they were not always formed in the same manner by the ancients, but he thinks that difference owing to the different pronunciation which obtained' in the different parts of Greece. He also brings several reasons, a priori, for the use of accents, even in the earliest days: as, that all writing being then in capital letters equidistant from each other, without any distinction either of Words or phrases, it could scarcely have been rendered intelligible without accents; and that accents were necessary to distinguish ambiguous words, and to point out their proper meaning, as appears from a dispute in regard to a passage of Homer, mentioned by Aristotle in his Poetics, qhap. V. Accordingly, he observes that the Syrians, who have tonic, but not distinctive accents, have yet invented certain points, placed either below or above the words, to show their mood, tense, person, or sense.\n",
      "Mr Browne of Trinity College, Dublin, has entered more deeply into this investigation; and as he had an opportunity of conversing with the crew of a Greek ship from Patras, a town situated not far distant from the ancient Corinth, which had been driven by stress of weather into the port of Dingle in Ireland, the result of his inquiries was, that the practice of the modern Greeks is different from any of the theories that have been delivered in books. “It is true,” he observes, “they have not two pronunciations for prose and for verse, and in both they read by accent; but they make accent the cause of quantity, they make it govern and control quantity, they make the syllable long on which the acute accent falls, and they allow the acute accent to change the real quantity. They always read poetry as well as prose by accent. Whether any inference can hence be drawn as to the pronunciation of the ancients, I must leave, after what I have premised above, to men of more learning; but I think it at least so probable as to make it worth while to mention the instances which occurred in proof of this assertion more particularly. Of the two first persons whom I met, one, the steward of the ship, an inhabitant of the island of Cephalonia, had had a school education: he read Euripides, and translated some easier passages, without much difficulty. By a stay in this country of near two years, he was able to speak English very tolerably, as could also the captain and several of the crew; and almost all of them spoke Italian fluently. The companion, however, of the steward· could speak only modern Greek, in which I could discover that he was giving a description of the distress in which the ship had been; and though not able to understand the context, I could plainly distinguish many words, such as δενδξα, ξυλοv, and among the rest the sound of Aν6ξωττος pronounced short. This awoke my curiosity, which w as still more heightened when I observed that he said Av0gωπων long, with the same attention to the alteration of the accent with the variety of case, which a boy would be taught to pay at a school in England. Watching therefore more closely, and asking the other to read some ancient Greek, I found that they both uniformly pronounced according to accent, without any attention to long or short syllables where accent came in the way; and on their departure, one of them having bid me good day, by saying ^Kαλημεgα, to which I answered ^Kαλημεgα, he with strong marks of reprobation set me right, and repeated ^Kαλημεgα ; and with like censure did the captain upon another occasion observe upon my saying Socrates instead of Socrates.\n",
      "“I now had a strong wish to know whether they observed the distinction in this respect usually between verse and prose; but from the little scholarship of the two men with whom I had conversed, from the ignorance of a third whom I afterwards met, (who however read Lucian with ease, though he did not seem ever to have heard of the book,) and on account of my imperfect mode of conversing with them all, I had little hopes of satisfaction on the point-; nor was I clear that they perfectly knew the difference between verse and prose. At length, having met with the commander of the ship, and his clerk Athanasius Kονομος, and finding that the latter had been a schoolmaster in the Morea, and had here learnt to speak English fluently, I put the question to them in the presence of a very learned college friend, and at another time, to avoid any error, with the aid of a gentleman who is perfectly master of the Italian language. Both the Greeks repeatedly assured us that verse as well as prose was read by accent, and not by quantity; and exemplified it by reading several lines of Homer, with whose name they seemed perfectly well acquainted.\n",
      "“I shall give an instance or two of their mode of reading:\n",
      "Βη δ' ά£εων ¶agà ⅛ινα τrολιrpλοισζοιο ⅛dKασσης,\n",
      "Tòv δ' αvαμειZομενος πζοσf<pη ποδας ωκυς , Aχιλλευς,\n",
      "’ Eς δ' εgετας επιτηδες αγειgoμεν, 'ες δ ’ εκατoμζην.\n",
      "They made the ε in αzεwv, πgοσε<pη, and εgετctς, long. But when they read\n",
      "^Kλυ6ι μευ> ’ Aξγυg6nζ, íJ¢ Xg{ισην άμφιζεζηκας,\n",
      "they made the second syllable of the first word ~Kλυ0ι short, notwithstanding the acute accent: on my asking why, they desired me to look back on the circumflex on the first syllable, and said it thence necessarily followed; for it is impossible to pronounce the first syllable with the great length which the circumflex denotes, and not to shorten the second. The testimony of the schoolmaster might be vitiated; but what could be stronger than that of these ignorant mariners as to the vulgar common practice of modern Greece? and it is remarkable that this confirms the opinion of Bishop Horsley, that the tones of words in connection are not always the same with the tones of solitary words, though in those of more than one syllable the accentual marks do not change their position. I must here add, that these men confirmed an observation which I have heard made, that we are much mistaken in our idea of the supposed lofty sound of πολv<pλοισζοιο , i}αλασσης ; that the borderers on the coast of the Archipelago take their ideas from the gentle laving of the shore by a summer wave, and not from the roaring of a winter ocean; and they accordingly pronounced it polyphlisveo thalasses.\n",
      "“I own that the observations made by me on the pronunciation of these modern Greeks brought a perfectly new train of ideas into my mind. I propose them, with humility, for the consideration of the learned; but they have made a strong impression upon me, and approached, when compared with other admitted facts, nearly to conviction. In short, I am strongly inclined to believe, that what the famous treatise so often mentioned on the prosodies of the Greek and Latin languages mentions as the peculiarity of the English, that we always prolong the sound of the syllable on which the acute accent falls, is true, and has been true of every nation upon earth. We know it is true of the modern Italians: they read Latin in that respect just as we do, and say, Arma virumque cano, and, In nova fert animus, as much as we. And when we find the modern Greeks following the same practice, surely we have some cause to suppose that the ancients did the same. In the English language, indeed, quantity is not affected, because accent and quantity always agree. Bishop Horsley endeavoured to prove that they did so in Greek, but this is on the bold supposition that the accent doth not fall where the mark is placed. The objection to this hypothesis, which seems to have been admitted by all writers, and considered as decisive by some as to prose, by all as to verse, is, that such a mode of pronunciation or reading must destroy metre, or rhythmus. From this position, however universal, or however it may have been taken for granted, I totally dissent. That it will oppose the metre or quantity I readily agree; but that it will destroy the rhythmus, (by which, whatever learned descriptions there may have been of its meaning, I understand nothing more than the melody or smooth flowing of the verses, or their harmony, if you please, if harmony be properly applied to successive and not synchronal sounds,) I can by no means admit. On the contrary, nothing can be more disagreeable or unmelodious than the reading verse by quantity, or scanning of it, as it is vulgarly called. Let us try the line so often quoted—\n",
      "Armă vĭrūmqŭe cănō, Trōjaē qui prīmŭs ăb ōrīs,\n",
      "instead of\n",
      "Ārmă vĭrūmqūe cānŏ, Trōjaē qūi prīmŭs ăb ōrīs.\n",
      "“No man ever defined rhythmus better than Plato, ordinem quendam qui in motibus cernitur ; the motion or measure of the verse may be exact, and yet the order, arrangement, and disposition of the letters and syllables such as to be grating and unmelodious to the ear. In like manner the feet of the verse may be exact, but the stress laid upon particular syllables of it which follows the quantity may totally destroy the melody: in short, the radical error seems to be the confusion of quantity with melody, and the supposition that whatever is at war with quantity and metre must be at war with melody.\n",
      "“It will be asked, then, what is the use of metre or measure in verse, if we are not to read by it; and here is the grand difficulty; and I own with candour I cannot answer it with perfect satisfaction to my own mind: to those, indeed, who say wc are to read by accent in prose, it may be equally asked, what is the usé of long or short syllables in prose, if we are not to attend to them when, accent comes in the way; but to those who think otherwise, I can only answer, that in the first place accent doth not always interfere, and then quantity is our guide, and accent often accords with quantity. Secondly, metre determines the number of feet or measures in each verse, and thereby produces a general analogy and harmony through the whole; and it is to be observed, that, as I apprehend, accent doth not change the number of feet, though it doth the nature or species of them. Thus when we read\n",
      "Arma virumque cano, Trojae qui primus ab oris,\n",
      "we do not make more feet than when we scan the line, nor employ more time than in pronouncing the next line, in which the accent happens to accord with the quantity, viz.\n",
      "Italiam fato profiιgus, Lavinaque venit.\n",
      "Thirdly, the poet in measuring his verse certainly must be confined to some certain number and order of long and short syllables, in order to produce a concordance through the whole, and even to regulate the position of accent, which, though not subdued by quantity, will certainly have some relation to it, euphoniae gratia ; but surely the length or shortness of a syllable cannot determine where emphasis shall be placed—that must depend on the meaning and the thought; and it would be most absurd for the poet to say to the reader, you shall not rest upon this emphatic and significative word because its syllables are short, and wherever there is a rest, there must be length and intonation.” (Irish Trans, vol. vii.)\n",
      "The use of accents to prevent ambiguities is most remarkably perceived in some eastern languages, particularly the Siameseand Chinese. Among the people of China, every word, or, which is the same thing, every syllable, admits of five accents, according as it is spoken more acutely or remissly; and thus stands for many different things. The same sound ya, according to the accent affixed to it, signifies God, a wall, excellent, stupidity, and a goose. The Chinese have but 330 spoken words in their language; but these being multiplied by the different accents or tones which’ affect the vowels, furnish a language tolerably copious. By means of accents, their 330 simple sounds come to denote 1650 things; but this being hardly sufficient, they are increased further by aspirates added to each word, to double the number. The Chinese only reckon four accents, for which the missionaries use the following marks, aa, a, à, a ; to which they have added a fifth, thus α. They make a kind of modulation, wherein, prolonging the duration of the sound of the vowel, they vary the tone, raising and sinking it by a certain pitch of voice; so that their talking is a sort of music or singing. Attempts have been made to determine the quantity of the rise or fall on each accent by means of musical notes; but this is hard to effect, as being different in different persons. Hence the great difficulty of the language to foreigners, who are forced to sing most scrupulously; for if they deviate ever so little from the accent, they say quite a different thing from what was intended. Thus, meaning to compliment the person you are talking of with the title Sir, you call him a beast with the same word, only a little varied in the tone. Magalhon, however, makes the language easier to learn on this account. The Siamese are also observed to sing rather than to talk. Their alphabet begins with six characters, all only equivalent to a K, but differently accented. For though in the pronunciation the accents are naturally on the vowels, yet they have some to diversify such of their consonants as are in other respects the same. | source: https://raw.githubusercontent.com/TU-plogan/kp-editions/main/eb07/TXT_v2/a2/kp-eb0702-008305-0888-v2.txt | agent: https://w3id.org/hto/Organization/NCKP\n"
     ]
    }
   ],
   "source": [
    "from rdflib import PROV\n",
    "\n",
    "article_accent = \"<https://w3id.org/hto/ArticleTermRecord/9910796273804340_192984259_ACCENT_0>\"\n",
    "\n",
    "sparql.setQuery(\"\"\"\n",
    "     PREFIX hto: <https://w3id.org/hto#>\n",
    "     PREFIX prov: <http://www.w3.org/ns/prov#>\n",
    "     SELECT * WHERE {\n",
    "        %s a hto:ArticleTermRecord;\n",
    "            hto:name ?name;\n",
    "            hto:hasOriginalDescription ?desc.\n",
    "        ?desc hto:wasExtractedFrom ?source;\n",
    "            hto:text ?text;\n",
    "            hto:hasTextQuality hto:High.\n",
    "        ?source prov:wasAttributedTo ?agent.\n",
    "\n",
    "    }\n",
    "    \"\"\" % article_accent\n",
    ")\n",
    "\n",
    "try:\n",
    "    ret = sparql.queryAndConvert()\n",
    "    for r in ret[\"results\"][\"bindings\"]:\n",
    "        print(\"name: %s | description: %s | source: %s | agent: %s\" % (r[\"name\"][\"value\"], r[\"text\"][\"value\"], r[\"source\"][\"value\"], r[\"agent\"][\"value\"]))\n",
    "except Exception as e:\n",
    "    print(e)\n"
   ],
   "metadata": {
    "collapsed": false
   }
  },
  {
   "cell_type": "markdown",
   "source": [
    "### Question 20: What are the descriptions of term _T_ with the highest text quality?"
   ],
   "metadata": {
    "collapsed": false
   }
  },
  {
   "cell_type": "code",
   "execution_count": 82,
   "outputs": [
    {
     "name": "stdout",
     "output_type": "stream",
     "text": [
      "name: ACCENT | description: in reading or speaking, an inflection of the voice, which gives to each syllable of a word its due pitch in-respect of height or lowness. See Reading. The word is originally Latin, accentus ; a compound of ad, to, and cano, to sing. Accentus quasi adcantus, or juχtα can-turn. In this sense, accent is synonymous with the Greek τονος ; the Latin tenor, or tonor ; and the Hebrew t□yto, gustus, taste, Accent, among grammarians, is a certain mark, or  character placed over a syllable to direct the stress of its pronunciation. We generally reckon three grammatical accents in ordinary use, all borrowed from the Greeks, viz. the acute accent ('), which shows when the tone of the voice is to be raised; the grave accent ('), when the note or tone of the voice is to be depressed; and the circumflex accent ( a ), which is composed of both the acute and the grave, and points out a kind of undulation of the voice. The Latins have made the same use as the Greeks of these three accents.\n",
      "The Hebrews have a grammatical, a rhetorical, and a musical accent; though the first and last seem, in effect, to be the same, both being comprised under the general name of tonic accents, because they give the proper tones to syllables; as the rhetorical accents are said to be euphonic, because they tend to make the pronunciation more sweet and agreeable. There are four euphonic accents, and twenty-five tonic: of these some are placed above, and others below the syllables; the Hebrew accents serving not only to regulate the risings and fallings of the voice, but also to distinguish the sections, periods, and members of periods, in a discourse, and to answer the same purposes with the points in other languages. Their accents are divided into emperors, kings, dukes, &c. each bearing a title answerable to the importance of the distinction it makes. Their emperor rules over a whole phrase, and terminates the sense completely; answering to our point. Their king answers to our colon; and their duke to our comma. The king, however, occasionally becomes a duke, and the duke a king, as the phrases are more or less short. It must be noted, by the way, that the management and combination of these accents in Hebrew poetry differ from their management and combination in prose. The use of the tonic or grammatical accents has been much controverted; some holding that they distinguish the sense, while others maintain that they are only intended to regulate the music or singing, alleging that the Jews sing rather than read the Scriptures in their synagogues.^[1. Cooper, Dorn. Mosaic. Clav. p. 31. ] Be this, however, as it will, it is certain the ancient Hebrews were not acquainted with these accents. The opinion which prevails amongst the learned is, that they were invented about the sixth century, by the Jewish doctors of the school of Tiberias, called the Massorets.\n",
      "As to the Greek accents, now seen both in manuscripts and printed books, there has been no less dispute about their antiquity and use than about those of the Hebrews. Isaac Vossius endeavours to prove them of modern invention; asserting, that anciently they had nothing of this kind, but only a few notes in their poetry, which were invented by Aristophanes the grammarian, about the time of Ptolemy Philopater; and that these were of musical rather than grammatical use, serving as aids in the singing of their poems, and being very different from those afterwards introduced. He also shows, from several ancient grammarians, that the manner of writing the Greek accents in those days was quite different from that which appears in our books. The author of Lα Methode Grecque, p.546, observes, that the right pronunciation of the Greek language being natural to the Greeks, it was needless for them to mark it by accents in their writings; so that, according ţo all appearance, they only began to make use of them about the time when the Romans, wishing to learn the Greek tongue, sent their children to study at Athens, thinking thereby to fix the pronunciation, and to facilitate it to strangers; which happened, as the same author observes, a little before Cicero’s time. Wetstein, Greek professor at Basil, in a learned dissertation, endeavours to prove the Greek accents of an older standing. He owns that they were not always formed in the same manner by the ancients, but he thinks that difference owing to the different pronunciation which obtained' in the different parts of Greece. He also brings several reasons, a priori, for the use of accents, even in the earliest days: as, that all writing being then in capital letters equidistant from each other, without any distinction either of Words or phrases, it could scarcely have been rendered intelligible without accents; and that accents were necessary to distinguish ambiguous words, and to point out their proper meaning, as appears from a dispute in regard to a passage of Homer, mentioned by Aristotle in his Poetics, qhap. V. Accordingly, he observes that the Syrians, who have tonic, but not distinctive accents, have yet invented certain points, placed either below or above the words, to show their mood, tense, person, or sense.\n",
      "Mr Browne of Trinity College, Dublin, has entered more deeply into this investigation; and as he had an opportunity of conversing with the crew of a Greek ship from Patras, a town situated not far distant from the ancient Corinth, which had been driven by stress of weather into the port of Dingle in Ireland, the result of his inquiries was, that the practice of the modern Greeks is different from any of the theories that have been delivered in books. “It is true,” he observes, “they have not two pronunciations for prose and for verse, and in both they read by accent; but they make accent the cause of quantity, they make it govern and control quantity, they make the syllable long on which the acute accent falls, and they allow the acute accent to change the real quantity. They always read poetry as well as prose by accent. Whether any inference can hence be drawn as to the pronunciation of the ancients, I must leave, after what I have premised above, to men of more learning; but I think it at least so probable as to make it worth while to mention the instances which occurred in proof of this assertion more particularly. Of the two first persons whom I met, one, the steward of the ship, an inhabitant of the island of Cephalonia, had had a school education: he read Euripides, and translated some easier passages, without much difficulty. By a stay in this country of near two years, he was able to speak English very tolerably, as could also the captain and several of the crew; and almost all of them spoke Italian fluently. The companion, however, of the steward· could speak only modern Greek, in which I could discover that he was giving a description of the distress in which the ship had been; and though not able to understand the context, I could plainly distinguish many words, such as δενδξα, ξυλοv, and among the rest the sound of Aν6ξωττος pronounced short. This awoke my curiosity, which w as still more heightened when I observed that he said Av0gωπων long, with the same attention to the alteration of the accent with the variety of case, which a boy would be taught to pay at a school in England. Watching therefore more closely, and asking the other to read some ancient Greek, I found that they both uniformly pronounced according to accent, without any attention to long or short syllables where accent came in the way; and on their departure, one of them having bid me good day, by saying ^Kαλημεgα, to which I answered ^Kαλημεgα, he with strong marks of reprobation set me right, and repeated ^Kαλημεgα ; and with like censure did the captain upon another occasion observe upon my saying Socrates instead of Socrates.\n",
      "“I now had a strong wish to know whether they observed the distinction in this respect usually between verse and prose; but from the little scholarship of the two men with whom I had conversed, from the ignorance of a third whom I afterwards met, (who however read Lucian with ease, though he did not seem ever to have heard of the book,) and on account of my imperfect mode of conversing with them all, I had little hopes of satisfaction on the point-; nor was I clear that they perfectly knew the difference between verse and prose. At length, having met with the commander of the ship, and his clerk Athanasius Kονομος, and finding that the latter had been a schoolmaster in the Morea, and had here learnt to speak English fluently, I put the question to them in the presence of a very learned college friend, and at another time, to avoid any error, with the aid of a gentleman who is perfectly master of the Italian language. Both the Greeks repeatedly assured us that verse as well as prose was read by accent, and not by quantity; and exemplified it by reading several lines of Homer, with whose name they seemed perfectly well acquainted.\n",
      "“I shall give an instance or two of their mode of reading:\n",
      "Βη δ' ά£εων ¶agà ⅛ινα τrολιrpλοισζοιο ⅛dKασσης,\n",
      "Tòv δ' αvαμειZομενος πζοσf<pη ποδας ωκυς , Aχιλλευς,\n",
      "’ Eς δ' εgετας επιτηδες αγειgoμεν, 'ες δ ’ εκατoμζην.\n",
      "They made the ε in αzεwv, πgοσε<pη, and εgετctς, long. But when they read\n",
      "^Kλυ6ι μευ> ’ Aξγυg6nζ, íJ¢ Xg{ισην άμφιζεζηκας,\n",
      "they made the second syllable of the first word ~Kλυ0ι short, notwithstanding the acute accent: on my asking why, they desired me to look back on the circumflex on the first syllable, and said it thence necessarily followed; for it is impossible to pronounce the first syllable with the great length which the circumflex denotes, and not to shorten the second. The testimony of the schoolmaster might be vitiated; but what could be stronger than that of these ignorant mariners as to the vulgar common practice of modern Greece? and it is remarkable that this confirms the opinion of Bishop Horsley, that the tones of words in connection are not always the same with the tones of solitary words, though in those of more than one syllable the accentual marks do not change their position. I must here add, that these men confirmed an observation which I have heard made, that we are much mistaken in our idea of the supposed lofty sound of πολv<pλοισζοιο , i}αλασσης ; that the borderers on the coast of the Archipelago take their ideas from the gentle laving of the shore by a summer wave, and not from the roaring of a winter ocean; and they accordingly pronounced it polyphlisveo thalasses.\n",
      "“I own that the observations made by me on the pronunciation of these modern Greeks brought a perfectly new train of ideas into my mind. I propose them, with humility, for the consideration of the learned; but they have made a strong impression upon me, and approached, when compared with other admitted facts, nearly to conviction. In short, I am strongly inclined to believe, that what the famous treatise so often mentioned on the prosodies of the Greek and Latin languages mentions as the peculiarity of the English, that we always prolong the sound of the syllable on which the acute accent falls, is true, and has been true of every nation upon earth. We know it is true of the modern Italians: they read Latin in that respect just as we do, and say, Arma virumque cano, and, In nova fert animus, as much as we. And when we find the modern Greeks following the same practice, surely we have some cause to suppose that the ancients did the same. In the English language, indeed, quantity is not affected, because accent and quantity always agree. Bishop Horsley endeavoured to prove that they did so in Greek, but this is on the bold supposition that the accent doth not fall where the mark is placed. The objection to this hypothesis, which seems to have been admitted by all writers, and considered as decisive by some as to prose, by all as to verse, is, that such a mode of pronunciation or reading must destroy metre, or rhythmus. From this position, however universal, or however it may have been taken for granted, I totally dissent. That it will oppose the metre or quantity I readily agree; but that it will destroy the rhythmus, (by which, whatever learned descriptions there may have been of its meaning, I understand nothing more than the melody or smooth flowing of the verses, or their harmony, if you please, if harmony be properly applied to successive and not synchronal sounds,) I can by no means admit. On the contrary, nothing can be more disagreeable or unmelodious than the reading verse by quantity, or scanning of it, as it is vulgarly called. Let us try the line so often quoted—\n",
      "Armă vĭrūmqŭe cănō, Trōjaē qui prīmŭs ăb ōrīs,\n",
      "instead of\n",
      "Ārmă vĭrūmqūe cānŏ, Trōjaē qūi prīmŭs ăb ōrīs.\n",
      "“No man ever defined rhythmus better than Plato, ordinem quendam qui in motibus cernitur ; the motion or measure of the verse may be exact, and yet the order, arrangement, and disposition of the letters and syllables such as to be grating and unmelodious to the ear. In like manner the feet of the verse may be exact, but the stress laid upon particular syllables of it which follows the quantity may totally destroy the melody: in short, the radical error seems to be the confusion of quantity with melody, and the supposition that whatever is at war with quantity and metre must be at war with melody.\n",
      "“It will be asked, then, what is the use of metre or measure in verse, if we are not to read by it; and here is the grand difficulty; and I own with candour I cannot answer it with perfect satisfaction to my own mind: to those, indeed, who say wc are to read by accent in prose, it may be equally asked, what is the usé of long or short syllables in prose, if we are not to attend to them when, accent comes in the way; but to those who think otherwise, I can only answer, that in the first place accent doth not always interfere, and then quantity is our guide, and accent often accords with quantity. Secondly, metre determines the number of feet or measures in each verse, and thereby produces a general analogy and harmony through the whole; and it is to be observed, that, as I apprehend, accent doth not change the number of feet, though it doth the nature or species of them. Thus when we read\n",
      "Arma virumque cano, Trojae qui primus ab oris,\n",
      "we do not make more feet than when we scan the line, nor employ more time than in pronouncing the next line, in which the accent happens to accord with the quantity, viz.\n",
      "Italiam fato profiιgus, Lavinaque venit.\n",
      "Thirdly, the poet in measuring his verse certainly must be confined to some certain number and order of long and short syllables, in order to produce a concordance through the whole, and even to regulate the position of accent, which, though not subdued by quantity, will certainly have some relation to it, euphoniae gratia ; but surely the length or shortness of a syllable cannot determine where emphasis shall be placed—that must depend on the meaning and the thought; and it would be most absurd for the poet to say to the reader, you shall not rest upon this emphatic and significative word because its syllables are short, and wherever there is a rest, there must be length and intonation.” (Irish Trans, vol. vii.)\n",
      "The use of accents to prevent ambiguities is most remarkably perceived in some eastern languages, particularly the Siameseand Chinese. Among the people of China, every word, or, which is the same thing, every syllable, admits of five accents, according as it is spoken more acutely or remissly; and thus stands for many different things. The same sound ya, according to the accent affixed to it, signifies God, a wall, excellent, stupidity, and a goose. The Chinese have but 330 spoken words in their language; but these being multiplied by the different accents or tones which’ affect the vowels, furnish a language tolerably copious. By means of accents, their 330 simple sounds come to denote 1650 things; but this being hardly sufficient, they are increased further by aspirates added to each word, to double the number. The Chinese only reckon four accents, for which the missionaries use the following marks, aa, a, à, a ; to which they have added a fifth, thus α. They make a kind of modulation, wherein, prolonging the duration of the sound of the vowel, they vary the tone, raising and sinking it by a certain pitch of voice; so that their talking is a sort of music or singing. Attempts have been made to determine the quantity of the rise or fall on each accent by means of musical notes; but this is hard to effect, as being different in different persons. Hence the great difficulty of the language to foreigners, who are forced to sing most scrupulously; for if they deviate ever so little from the accent, they say quite a different thing from what was intended. Thus, meaning to compliment the person you are talking of with the title Sir, you call him a beast with the same word, only a little varied in the tone. Magalhon, however, makes the language easier to learn on this account. The Siamese are also observed to sing rather than to talk. Their alphabet begins with six characters, all only equivalent to a K, but differently accented. For though in the pronunciation the accents are naturally on the vowels, yet they have some to diversify such of their consonants as are in other respects the same. | source: https://raw.githubusercontent.com/TU-plogan/kp-editions/main/eb07/TXT_v2/a2/kp-eb0702-008305-0888-v2.txt | agent: https://w3id.org/hto/Organization/NCKP | text quality: https://w3id.org/hto#High\n",
      "name: ACCENT | description: in reading or speaking, an inflection voice, which gives to each syllable of a word its in respect of height or lowness. See Reading. word is originally Latin, accentus ; a compound and cano, to sing. Accentus quasi adcantus, or turn. In this sense, accent is synonymous with rows; the Latin tenor, or tonor; and the Hebrew Accent, among grammarians, is a certain | source: https://w3id.org/hto/InformationResource/192984259_alto_193030890_34_xml | agent: https://w3id.org/hto/Organization/NLS | text quality: https://w3id.org/hto#Low\n"
     ]
    }
   ],
   "source": [
    "from rdflib import PROV\n",
    "\n",
    "article_accent = \"<https://w3id.org/hto/ArticleTermRecord/9910796273804340_192984259_ACCENT_0>\"\n",
    "\n",
    "sparql.setQuery(\"\"\"\n",
    "     PREFIX hto: <https://w3id.org/hto#>\n",
    "     PREFIX prov: <http://www.w3.org/ns/prov#>\n",
    "     SELECT * WHERE {\n",
    "        %s a hto:ArticleTermRecord;\n",
    "            hto:name ?name;\n",
    "            hto:hasOriginalDescription ?desc.\n",
    "        ?desc hto:wasExtractedFrom ?source;\n",
    "            hto:text ?text;\n",
    "            hto:hasTextQuality ?textQuality.\n",
    "        ?source prov:wasAttributedTo ?agent.\n",
    "        ?agent a ?agentType.\n",
    "        FILTER (?agentType = hto:Person || ?agentType = hto:Organization)\n",
    "        FILTER NOT EXISTS {\n",
    "          %s hto:hasOriginalDescription [hto:hasTextQuality [hto:isTextQualityHigherThan ?textQuality]].\n",
    "        }\n",
    "    }\n",
    "    \"\"\" % (article_accent, article_accent)\n",
    ")\n",
    "\n",
    "try:\n",
    "    ret = sparql.queryAndConvert()\n",
    "    for r in ret[\"results\"][\"bindings\"]:\n",
    "        print(\"name: %s | description: %s | source: %s | agent: %s | text quality: %s\" % (r[\"name\"][\"value\"], r[\"text\"][\"value\"], r[\"source\"][\"value\"], r[\"agent\"][\"value\"], r[\"textQuality\"][\"value\"]))\n",
    "except Exception as e:\n",
    "    print(e)\n"
   ],
   "metadata": {
    "collapsed": false
   }
  },
  {
   "cell_type": "markdown",
   "source": [
    "### Question 21: What software was used to extract the description of article _T_ or a page _P_?"
   ],
   "metadata": {
    "collapsed": false
   }
  },
  {
   "cell_type": "code",
   "execution_count": 84,
   "outputs": [
    {
     "name": "stdout",
     "output_type": "stream",
     "text": [
      "name: ACCENT | description: in reading or speaking, an inflection of the voice, which gives to each syllable of a word its due pitch in-respect of height or lowness. See Reading. The word is originally Latin, accentus ; a compound of ad, to, and cano, to sing. Accentus quasi adcantus, or juχtα can-turn. In this sense, accent is synonymous with the Greek τονος ; the Latin tenor, or tonor ; and the Hebrew t□yto, gustus, taste, Accent, among grammarians, is a certain mark, or  character placed over a syllable to direct the stress of its pronunciation. We generally reckon three grammatical accents in ordinary use, all borrowed from the Greeks, viz. the acute accent ('), which shows when the tone of the voice is to be raised; the grave accent ('), when the note or tone of the voice is to be depressed; and the circumflex accent ( a ), which is composed of both the acute and the grave, and points out a kind of undulation of the voice. The Latins have made the same use as the Greeks of these three accents.\n",
      "The Hebrews have a grammatical, a rhetorical, and a musical accent; though the first and last seem, in effect, to be the same, both being comprised under the general name of tonic accents, because they give the proper tones to syllables; as the rhetorical accents are said to be euphonic, because they tend to make the pronunciation more sweet and agreeable. There are four euphonic accents, and twenty-five tonic: of these some are placed above, and others below the syllables; the Hebrew accents serving not only to regulate the risings and fallings of the voice, but also to distinguish the sections, periods, and members of periods, in a discourse, and to answer the same purposes with the points in other languages. Their accents are divided into emperors, kings, dukes, &c. each bearing a title answerable to the importance of the distinction it makes. Their emperor rules over a whole phrase, and terminates the sense completely; answering to our point. Their king answers to our colon; and their duke to our comma. The king, however, occasionally becomes a duke, and the duke a king, as the phrases are more or less short. It must be noted, by the way, that the management and combination of these accents in Hebrew poetry differ from their management and combination in prose. The use of the tonic or grammatical accents has been much controverted; some holding that they distinguish the sense, while others maintain that they are only intended to regulate the music or singing, alleging that the Jews sing rather than read the Scriptures in their synagogues.^[1. Cooper, Dorn. Mosaic. Clav. p. 31. ] Be this, however, as it will, it is certain the ancient Hebrews were not acquainted with these accents. The opinion which prevails amongst the learned is, that they were invented about the sixth century, by the Jewish doctors of the school of Tiberias, called the Massorets.\n",
      "As to the Greek accents, now seen both in manuscripts and printed books, there has been no less dispute about their antiquity and use than about those of the Hebrews. Isaac Vossius endeavours to prove them of modern invention; asserting, that anciently they had nothing of this kind, but only a few notes in their poetry, which were invented by Aristophanes the grammarian, about the time of Ptolemy Philopater; and that these were of musical rather than grammatical use, serving as aids in the singing of their poems, and being very different from those afterwards introduced. He also shows, from several ancient grammarians, that the manner of writing the Greek accents in those days was quite different from that which appears in our books. The author of Lα Methode Grecque, p.546, observes, that the right pronunciation of the Greek language being natural to the Greeks, it was needless for them to mark it by accents in their writings; so that, according ţo all appearance, they only began to make use of them about the time when the Romans, wishing to learn the Greek tongue, sent their children to study at Athens, thinking thereby to fix the pronunciation, and to facilitate it to strangers; which happened, as the same author observes, a little before Cicero’s time. Wetstein, Greek professor at Basil, in a learned dissertation, endeavours to prove the Greek accents of an older standing. He owns that they were not always formed in the same manner by the ancients, but he thinks that difference owing to the different pronunciation which obtained' in the different parts of Greece. He also brings several reasons, a priori, for the use of accents, even in the earliest days: as, that all writing being then in capital letters equidistant from each other, without any distinction either of Words or phrases, it could scarcely have been rendered intelligible without accents; and that accents were necessary to distinguish ambiguous words, and to point out their proper meaning, as appears from a dispute in regard to a passage of Homer, mentioned by Aristotle in his Poetics, qhap. V. Accordingly, he observes that the Syrians, who have tonic, but not distinctive accents, have yet invented certain points, placed either below or above the words, to show their mood, tense, person, or sense.\n",
      "Mr Browne of Trinity College, Dublin, has entered more deeply into this investigation; and as he had an opportunity of conversing with the crew of a Greek ship from Patras, a town situated not far distant from the ancient Corinth, which had been driven by stress of weather into the port of Dingle in Ireland, the result of his inquiries was, that the practice of the modern Greeks is different from any of the theories that have been delivered in books. “It is true,” he observes, “they have not two pronunciations for prose and for verse, and in both they read by accent; but they make accent the cause of quantity, they make it govern and control quantity, they make the syllable long on which the acute accent falls, and they allow the acute accent to change the real quantity. They always read poetry as well as prose by accent. Whether any inference can hence be drawn as to the pronunciation of the ancients, I must leave, after what I have premised above, to men of more learning; but I think it at least so probable as to make it worth while to mention the instances which occurred in proof of this assertion more particularly. Of the two first persons whom I met, one, the steward of the ship, an inhabitant of the island of Cephalonia, had had a school education: he read Euripides, and translated some easier passages, without much difficulty. By a stay in this country of near two years, he was able to speak English very tolerably, as could also the captain and several of the crew; and almost all of them spoke Italian fluently. The companion, however, of the steward· could speak only modern Greek, in which I could discover that he was giving a description of the distress in which the ship had been; and though not able to understand the context, I could plainly distinguish many words, such as δενδξα, ξυλοv, and among the rest the sound of Aν6ξωττος pronounced short. This awoke my curiosity, which w as still more heightened when I observed that he said Av0gωπων long, with the same attention to the alteration of the accent with the variety of case, which a boy would be taught to pay at a school in England. Watching therefore more closely, and asking the other to read some ancient Greek, I found that they both uniformly pronounced according to accent, without any attention to long or short syllables where accent came in the way; and on their departure, one of them having bid me good day, by saying ^Kαλημεgα, to which I answered ^Kαλημεgα, he with strong marks of reprobation set me right, and repeated ^Kαλημεgα ; and with like censure did the captain upon another occasion observe upon my saying Socrates instead of Socrates.\n",
      "“I now had a strong wish to know whether they observed the distinction in this respect usually between verse and prose; but from the little scholarship of the two men with whom I had conversed, from the ignorance of a third whom I afterwards met, (who however read Lucian with ease, though he did not seem ever to have heard of the book,) and on account of my imperfect mode of conversing with them all, I had little hopes of satisfaction on the point-; nor was I clear that they perfectly knew the difference between verse and prose. At length, having met with the commander of the ship, and his clerk Athanasius Kονομος, and finding that the latter had been a schoolmaster in the Morea, and had here learnt to speak English fluently, I put the question to them in the presence of a very learned college friend, and at another time, to avoid any error, with the aid of a gentleman who is perfectly master of the Italian language. Both the Greeks repeatedly assured us that verse as well as prose was read by accent, and not by quantity; and exemplified it by reading several lines of Homer, with whose name they seemed perfectly well acquainted.\n",
      "“I shall give an instance or two of their mode of reading:\n",
      "Βη δ' ά£εων ¶agà ⅛ινα τrολιrpλοισζοιο ⅛dKασσης,\n",
      "Tòv δ' αvαμειZομενος πζοσf<pη ποδας ωκυς , Aχιλλευς,\n",
      "’ Eς δ' εgετας επιτηδες αγειgoμεν, 'ες δ ’ εκατoμζην.\n",
      "They made the ε in αzεwv, πgοσε<pη, and εgετctς, long. But when they read\n",
      "^Kλυ6ι μευ> ’ Aξγυg6nζ, íJ¢ Xg{ισην άμφιζεζηκας,\n",
      "they made the second syllable of the first word ~Kλυ0ι short, notwithstanding the acute accent: on my asking why, they desired me to look back on the circumflex on the first syllable, and said it thence necessarily followed; for it is impossible to pronounce the first syllable with the great length which the circumflex denotes, and not to shorten the second. The testimony of the schoolmaster might be vitiated; but what could be stronger than that of these ignorant mariners as to the vulgar common practice of modern Greece? and it is remarkable that this confirms the opinion of Bishop Horsley, that the tones of words in connection are not always the same with the tones of solitary words, though in those of more than one syllable the accentual marks do not change their position. I must here add, that these men confirmed an observation which I have heard made, that we are much mistaken in our idea of the supposed lofty sound of πολv<pλοισζοιο , i}αλασσης ; that the borderers on the coast of the Archipelago take their ideas from the gentle laving of the shore by a summer wave, and not from the roaring of a winter ocean; and they accordingly pronounced it polyphlisveo thalasses.\n",
      "“I own that the observations made by me on the pronunciation of these modern Greeks brought a perfectly new train of ideas into my mind. I propose them, with humility, for the consideration of the learned; but they have made a strong impression upon me, and approached, when compared with other admitted facts, nearly to conviction. In short, I am strongly inclined to believe, that what the famous treatise so often mentioned on the prosodies of the Greek and Latin languages mentions as the peculiarity of the English, that we always prolong the sound of the syllable on which the acute accent falls, is true, and has been true of every nation upon earth. We know it is true of the modern Italians: they read Latin in that respect just as we do, and say, Arma virumque cano, and, In nova fert animus, as much as we. And when we find the modern Greeks following the same practice, surely we have some cause to suppose that the ancients did the same. In the English language, indeed, quantity is not affected, because accent and quantity always agree. Bishop Horsley endeavoured to prove that they did so in Greek, but this is on the bold supposition that the accent doth not fall where the mark is placed. The objection to this hypothesis, which seems to have been admitted by all writers, and considered as decisive by some as to prose, by all as to verse, is, that such a mode of pronunciation or reading must destroy metre, or rhythmus. From this position, however universal, or however it may have been taken for granted, I totally dissent. That it will oppose the metre or quantity I readily agree; but that it will destroy the rhythmus, (by which, whatever learned descriptions there may have been of its meaning, I understand nothing more than the melody or smooth flowing of the verses, or their harmony, if you please, if harmony be properly applied to successive and not synchronal sounds,) I can by no means admit. On the contrary, nothing can be more disagreeable or unmelodious than the reading verse by quantity, or scanning of it, as it is vulgarly called. Let us try the line so often quoted—\n",
      "Armă vĭrūmqŭe cănō, Trōjaē qui prīmŭs ăb ōrīs,\n",
      "instead of\n",
      "Ārmă vĭrūmqūe cānŏ, Trōjaē qūi prīmŭs ăb ōrīs.\n",
      "“No man ever defined rhythmus better than Plato, ordinem quendam qui in motibus cernitur ; the motion or measure of the verse may be exact, and yet the order, arrangement, and disposition of the letters and syllables such as to be grating and unmelodious to the ear. In like manner the feet of the verse may be exact, but the stress laid upon particular syllables of it which follows the quantity may totally destroy the melody: in short, the radical error seems to be the confusion of quantity with melody, and the supposition that whatever is at war with quantity and metre must be at war with melody.\n",
      "“It will be asked, then, what is the use of metre or measure in verse, if we are not to read by it; and here is the grand difficulty; and I own with candour I cannot answer it with perfect satisfaction to my own mind: to those, indeed, who say wc are to read by accent in prose, it may be equally asked, what is the usé of long or short syllables in prose, if we are not to attend to them when, accent comes in the way; but to those who think otherwise, I can only answer, that in the first place accent doth not always interfere, and then quantity is our guide, and accent often accords with quantity. Secondly, metre determines the number of feet or measures in each verse, and thereby produces a general analogy and harmony through the whole; and it is to be observed, that, as I apprehend, accent doth not change the number of feet, though it doth the nature or species of them. Thus when we read\n",
      "Arma virumque cano, Trojae qui primus ab oris,\n",
      "we do not make more feet than when we scan the line, nor employ more time than in pronouncing the next line, in which the accent happens to accord with the quantity, viz.\n",
      "Italiam fato profiιgus, Lavinaque venit.\n",
      "Thirdly, the poet in measuring his verse certainly must be confined to some certain number and order of long and short syllables, in order to produce a concordance through the whole, and even to regulate the position of accent, which, though not subdued by quantity, will certainly have some relation to it, euphoniae gratia ; but surely the length or shortness of a syllable cannot determine where emphasis shall be placed—that must depend on the meaning and the thought; and it would be most absurd for the poet to say to the reader, you shall not rest upon this emphatic and significative word because its syllables are short, and wherever there is a rest, there must be length and intonation.” (Irish Trans, vol. vii.)\n",
      "The use of accents to prevent ambiguities is most remarkably perceived in some eastern languages, particularly the Siameseand Chinese. Among the people of China, every word, or, which is the same thing, every syllable, admits of five accents, according as it is spoken more acutely or remissly; and thus stands for many different things. The same sound ya, according to the accent affixed to it, signifies God, a wall, excellent, stupidity, and a goose. The Chinese have but 330 spoken words in their language; but these being multiplied by the different accents or tones which’ affect the vowels, furnish a language tolerably copious. By means of accents, their 330 simple sounds come to denote 1650 things; but this being hardly sufficient, they are increased further by aspirates added to each word, to double the number. The Chinese only reckon four accents, for which the missionaries use the following marks, aa, a, à, a ; to which they have added a fifth, thus α. They make a kind of modulation, wherein, prolonging the duration of the sound of the vowel, they vary the tone, raising and sinking it by a certain pitch of voice; so that their talking is a sort of music or singing. Attempts have been made to determine the quantity of the rise or fall on each accent by means of musical notes; but this is hard to effect, as being different in different persons. Hence the great difficulty of the language to foreigners, who are forced to sing most scrupulously; for if they deviate ever so little from the accent, they say quite a different thing from what was intended. Thus, meaning to compliment the person you are talking of with the title Sir, you call him a beast with the same word, only a little varied in the tone. Magalhon, however, makes the language easier to learn on this account. The Siamese are also observed to sing rather than to talk. Their alphabet begins with six characters, all only equivalent to a K, but differently accented. For though in the pronunciation the accents are naturally on the vowels, yet they have some to diversify such of their consonants as are in other respects the same. | extracted using software: https://github.com/frances-ai/frances-InformationExtraction | source: https://raw.githubusercontent.com/TU-plogan/kp-editions/main/eb07/TXT_v2/a2/kp-eb0702-008305-0888-v2.txt | agent: https://w3id.org/hto/Organization/NCKP \n",
      "name: ACCENT | description: in reading or speaking, an inflection voice, which gives to each syllable of a word its in respect of height or lowness. See Reading. word is originally Latin, accentus ; a compound and cano, to sing. Accentus quasi adcantus, or turn. In this sense, accent is synonymous with rows; the Latin tenor, or tonor; and the Hebrew Accent, among grammarians, is a certain | extracted using software: https://github.com/defoe-code/defoe | source: https://w3id.org/hto/InformationResource/192984259_alto_193030890_34_xml | agent: https://w3id.org/hto/Organization/NLS \n"
     ]
    }
   ],
   "source": [
    "from rdflib import PROV\n",
    "\n",
    "article_accent = \"<https://w3id.org/hto/ArticleTermRecord/9910796273804340_192984259_ACCENT_0>\"\n",
    "\n",
    "sparql.setQuery(\"\"\"\n",
    "     PREFIX hto: <https://w3id.org/hto#>\n",
    "     PREFIX prov: <http://www.w3.org/ns/prov#>\n",
    "     SELECT * WHERE {\n",
    "        %s a hto:TermRecord;\n",
    "            hto:name ?name;\n",
    "            hto:hasOriginalDescription ?desc.\n",
    "        ?desc hto:wasExtractedFrom ?source;\n",
    "            hto:text ?text;\n",
    "            prov:wasAttributedTo ?software.\n",
    "        ?software a prov:SoftwareAgent.\n",
    "        ?source prov:wasAttributedTo ?agent.\n",
    "        ?agent a ?agentType.\n",
    "        FILTER (?agentType = prov:Person || ?agentType = prov:Organization)\n",
    "    }\n",
    "    \"\"\" % (article_accent)\n",
    ")\n",
    "\n",
    "try:\n",
    "    ret = sparql.queryAndConvert()\n",
    "    for r in ret[\"results\"][\"bindings\"]:\n",
    "        print(\"name: %s | description: %s | extracted using software: %s | source: %s | agent: %s \" % (r[\"name\"][\"value\"], r[\"text\"][\"value\"], r[\"software\"][\"value\"], r[\"source\"][\"value\"], r[\"agent\"][\"value\"]))\n",
    "except Exception as e:\n",
    "    print(e)\n"
   ],
   "metadata": {
    "collapsed": false
   }
  },
  {
   "cell_type": "markdown",
   "source": [
    "### Question 22: What software was used to digitise a document?"
   ],
   "metadata": {
    "collapsed": false
   }
  },
  {
   "cell_type": "code",
   "execution_count": 87,
   "outputs": [
    {
     "name": "stdout",
     "output_type": "stream",
     "text": [
      "name: ACCENT | description: in reading or speaking, an inflection of the voice, which gives to each syllable of a word its due pitch in-respect of height or lowness. See Reading. The word is originally Latin, accentus ; a compound of ad, to, and cano, to sing. Accentus quasi adcantus, or juχtα can-turn. In this sense, accent is synonymous with the Greek τονος ; the Latin tenor, or tonor ; and the Hebrew t□yto, gustus, taste, Accent, among grammarians, is a certain mark, or  character placed over a syllable to direct the stress of its pronunciation. We generally reckon three grammatical accents in ordinary use, all borrowed from the Greeks, viz. the acute accent ('), which shows when the tone of the voice is to be raised; the grave accent ('), when the note or tone of the voice is to be depressed; and the circumflex accent ( a ), which is composed of both the acute and the grave, and points out a kind of undulation of the voice. The Latins have made the same use as the Greeks of these three accents.\n",
      "The Hebrews have a grammatical, a rhetorical, and a musical accent; though the first and last seem, in effect, to be the same, both being comprised under the general name of tonic accents, because they give the proper tones to syllables; as the rhetorical accents are said to be euphonic, because they tend to make the pronunciation more sweet and agreeable. There are four euphonic accents, and twenty-five tonic: of these some are placed above, and others below the syllables; the Hebrew accents serving not only to regulate the risings and fallings of the voice, but also to distinguish the sections, periods, and members of periods, in a discourse, and to answer the same purposes with the points in other languages. Their accents are divided into emperors, kings, dukes, &c. each bearing a title answerable to the importance of the distinction it makes. Their emperor rules over a whole phrase, and terminates the sense completely; answering to our point. Their king answers to our colon; and their duke to our comma. The king, however, occasionally becomes a duke, and the duke a king, as the phrases are more or less short. It must be noted, by the way, that the management and combination of these accents in Hebrew poetry differ from their management and combination in prose. The use of the tonic or grammatical accents has been much controverted; some holding that they distinguish the sense, while others maintain that they are only intended to regulate the music or singing, alleging that the Jews sing rather than read the Scriptures in their synagogues.^[1. Cooper, Dorn. Mosaic. Clav. p. 31. ] Be this, however, as it will, it is certain the ancient Hebrews were not acquainted with these accents. The opinion which prevails amongst the learned is, that they were invented about the sixth century, by the Jewish doctors of the school of Tiberias, called the Massorets.\n",
      "As to the Greek accents, now seen both in manuscripts and printed books, there has been no less dispute about their antiquity and use than about those of the Hebrews. Isaac Vossius endeavours to prove them of modern invention; asserting, that anciently they had nothing of this kind, but only a few notes in their poetry, which were invented by Aristophanes the grammarian, about the time of Ptolemy Philopater; and that these were of musical rather than grammatical use, serving as aids in the singing of their poems, and being very different from those afterwards introduced. He also shows, from several ancient grammarians, that the manner of writing the Greek accents in those days was quite different from that which appears in our books. The author of Lα Methode Grecque, p.546, observes, that the right pronunciation of the Greek language being natural to the Greeks, it was needless for them to mark it by accents in their writings; so that, according ţo all appearance, they only began to make use of them about the time when the Romans, wishing to learn the Greek tongue, sent their children to study at Athens, thinking thereby to fix the pronunciation, and to facilitate it to strangers; which happened, as the same author observes, a little before Cicero’s time. Wetstein, Greek professor at Basil, in a learned dissertation, endeavours to prove the Greek accents of an older standing. He owns that they were not always formed in the same manner by the ancients, but he thinks that difference owing to the different pronunciation which obtained' in the different parts of Greece. He also brings several reasons, a priori, for the use of accents, even in the earliest days: as, that all writing being then in capital letters equidistant from each other, without any distinction either of Words or phrases, it could scarcely have been rendered intelligible without accents; and that accents were necessary to distinguish ambiguous words, and to point out their proper meaning, as appears from a dispute in regard to a passage of Homer, mentioned by Aristotle in his Poetics, qhap. V. Accordingly, he observes that the Syrians, who have tonic, but not distinctive accents, have yet invented certain points, placed either below or above the words, to show their mood, tense, person, or sense.\n",
      "Mr Browne of Trinity College, Dublin, has entered more deeply into this investigation; and as he had an opportunity of conversing with the crew of a Greek ship from Patras, a town situated not far distant from the ancient Corinth, which had been driven by stress of weather into the port of Dingle in Ireland, the result of his inquiries was, that the practice of the modern Greeks is different from any of the theories that have been delivered in books. “It is true,” he observes, “they have not two pronunciations for prose and for verse, and in both they read by accent; but they make accent the cause of quantity, they make it govern and control quantity, they make the syllable long on which the acute accent falls, and they allow the acute accent to change the real quantity. They always read poetry as well as prose by accent. Whether any inference can hence be drawn as to the pronunciation of the ancients, I must leave, after what I have premised above, to men of more learning; but I think it at least so probable as to make it worth while to mention the instances which occurred in proof of this assertion more particularly. Of the two first persons whom I met, one, the steward of the ship, an inhabitant of the island of Cephalonia, had had a school education: he read Euripides, and translated some easier passages, without much difficulty. By a stay in this country of near two years, he was able to speak English very tolerably, as could also the captain and several of the crew; and almost all of them spoke Italian fluently. The companion, however, of the steward· could speak only modern Greek, in which I could discover that he was giving a description of the distress in which the ship had been; and though not able to understand the context, I could plainly distinguish many words, such as δενδξα, ξυλοv, and among the rest the sound of Aν6ξωττος pronounced short. This awoke my curiosity, which w as still more heightened when I observed that he said Av0gωπων long, with the same attention to the alteration of the accent with the variety of case, which a boy would be taught to pay at a school in England. Watching therefore more closely, and asking the other to read some ancient Greek, I found that they both uniformly pronounced according to accent, without any attention to long or short syllables where accent came in the way; and on their departure, one of them having bid me good day, by saying ^Kαλημεgα, to which I answered ^Kαλημεgα, he with strong marks of reprobation set me right, and repeated ^Kαλημεgα ; and with like censure did the captain upon another occasion observe upon my saying Socrates instead of Socrates.\n",
      "“I now had a strong wish to know whether they observed the distinction in this respect usually between verse and prose; but from the little scholarship of the two men with whom I had conversed, from the ignorance of a third whom I afterwards met, (who however read Lucian with ease, though he did not seem ever to have heard of the book,) and on account of my imperfect mode of conversing with them all, I had little hopes of satisfaction on the point-; nor was I clear that they perfectly knew the difference between verse and prose. At length, having met with the commander of the ship, and his clerk Athanasius Kονομος, and finding that the latter had been a schoolmaster in the Morea, and had here learnt to speak English fluently, I put the question to them in the presence of a very learned college friend, and at another time, to avoid any error, with the aid of a gentleman who is perfectly master of the Italian language. Both the Greeks repeatedly assured us that verse as well as prose was read by accent, and not by quantity; and exemplified it by reading several lines of Homer, with whose name they seemed perfectly well acquainted.\n",
      "“I shall give an instance or two of their mode of reading:\n",
      "Βη δ' ά£εων ¶agà ⅛ινα τrολιrpλοισζοιο ⅛dKασσης,\n",
      "Tòv δ' αvαμειZομενος πζοσf<pη ποδας ωκυς , Aχιλλευς,\n",
      "’ Eς δ' εgετας επιτηδες αγειgoμεν, 'ες δ ’ εκατoμζην.\n",
      "They made the ε in αzεwv, πgοσε<pη, and εgετctς, long. But when they read\n",
      "^Kλυ6ι μευ> ’ Aξγυg6nζ, íJ¢ Xg{ισην άμφιζεζηκας,\n",
      "they made the second syllable of the first word ~Kλυ0ι short, notwithstanding the acute accent: on my asking why, they desired me to look back on the circumflex on the first syllable, and said it thence necessarily followed; for it is impossible to pronounce the first syllable with the great length which the circumflex denotes, and not to shorten the second. The testimony of the schoolmaster might be vitiated; but what could be stronger than that of these ignorant mariners as to the vulgar common practice of modern Greece? and it is remarkable that this confirms the opinion of Bishop Horsley, that the tones of words in connection are not always the same with the tones of solitary words, though in those of more than one syllable the accentual marks do not change their position. I must here add, that these men confirmed an observation which I have heard made, that we are much mistaken in our idea of the supposed lofty sound of πολv<pλοισζοιο , i}αλασσης ; that the borderers on the coast of the Archipelago take their ideas from the gentle laving of the shore by a summer wave, and not from the roaring of a winter ocean; and they accordingly pronounced it polyphlisveo thalasses.\n",
      "“I own that the observations made by me on the pronunciation of these modern Greeks brought a perfectly new train of ideas into my mind. I propose them, with humility, for the consideration of the learned; but they have made a strong impression upon me, and approached, when compared with other admitted facts, nearly to conviction. In short, I am strongly inclined to believe, that what the famous treatise so often mentioned on the prosodies of the Greek and Latin languages mentions as the peculiarity of the English, that we always prolong the sound of the syllable on which the acute accent falls, is true, and has been true of every nation upon earth. We know it is true of the modern Italians: they read Latin in that respect just as we do, and say, Arma virumque cano, and, In nova fert animus, as much as we. And when we find the modern Greeks following the same practice, surely we have some cause to suppose that the ancients did the same. In the English language, indeed, quantity is not affected, because accent and quantity always agree. Bishop Horsley endeavoured to prove that they did so in Greek, but this is on the bold supposition that the accent doth not fall where the mark is placed. The objection to this hypothesis, which seems to have been admitted by all writers, and considered as decisive by some as to prose, by all as to verse, is, that such a mode of pronunciation or reading must destroy metre, or rhythmus. From this position, however universal, or however it may have been taken for granted, I totally dissent. That it will oppose the metre or quantity I readily agree; but that it will destroy the rhythmus, (by which, whatever learned descriptions there may have been of its meaning, I understand nothing more than the melody or smooth flowing of the verses, or their harmony, if you please, if harmony be properly applied to successive and not synchronal sounds,) I can by no means admit. On the contrary, nothing can be more disagreeable or unmelodious than the reading verse by quantity, or scanning of it, as it is vulgarly called. Let us try the line so often quoted—\n",
      "Armă vĭrūmqŭe cănō, Trōjaē qui prīmŭs ăb ōrīs,\n",
      "instead of\n",
      "Ārmă vĭrūmqūe cānŏ, Trōjaē qūi prīmŭs ăb ōrīs.\n",
      "“No man ever defined rhythmus better than Plato, ordinem quendam qui in motibus cernitur ; the motion or measure of the verse may be exact, and yet the order, arrangement, and disposition of the letters and syllables such as to be grating and unmelodious to the ear. In like manner the feet of the verse may be exact, but the stress laid upon particular syllables of it which follows the quantity may totally destroy the melody: in short, the radical error seems to be the confusion of quantity with melody, and the supposition that whatever is at war with quantity and metre must be at war with melody.\n",
      "“It will be asked, then, what is the use of metre or measure in verse, if we are not to read by it; and here is the grand difficulty; and I own with candour I cannot answer it with perfect satisfaction to my own mind: to those, indeed, who say wc are to read by accent in prose, it may be equally asked, what is the usé of long or short syllables in prose, if we are not to attend to them when, accent comes in the way; but to those who think otherwise, I can only answer, that in the first place accent doth not always interfere, and then quantity is our guide, and accent often accords with quantity. Secondly, metre determines the number of feet or measures in each verse, and thereby produces a general analogy and harmony through the whole; and it is to be observed, that, as I apprehend, accent doth not change the number of feet, though it doth the nature or species of them. Thus when we read\n",
      "Arma virumque cano, Trojae qui primus ab oris,\n",
      "we do not make more feet than when we scan the line, nor employ more time than in pronouncing the next line, in which the accent happens to accord with the quantity, viz.\n",
      "Italiam fato profiιgus, Lavinaque venit.\n",
      "Thirdly, the poet in measuring his verse certainly must be confined to some certain number and order of long and short syllables, in order to produce a concordance through the whole, and even to regulate the position of accent, which, though not subdued by quantity, will certainly have some relation to it, euphoniae gratia ; but surely the length or shortness of a syllable cannot determine where emphasis shall be placed—that must depend on the meaning and the thought; and it would be most absurd for the poet to say to the reader, you shall not rest upon this emphatic and significative word because its syllables are short, and wherever there is a rest, there must be length and intonation.” (Irish Trans, vol. vii.)\n",
      "The use of accents to prevent ambiguities is most remarkably perceived in some eastern languages, particularly the Siameseand Chinese. Among the people of China, every word, or, which is the same thing, every syllable, admits of five accents, according as it is spoken more acutely or remissly; and thus stands for many different things. The same sound ya, according to the accent affixed to it, signifies God, a wall, excellent, stupidity, and a goose. The Chinese have but 330 spoken words in their language; but these being multiplied by the different accents or tones which’ affect the vowels, furnish a language tolerably copious. By means of accents, their 330 simple sounds come to denote 1650 things; but this being hardly sufficient, they are increased further by aspirates added to each word, to double the number. The Chinese only reckon four accents, for which the missionaries use the following marks, aa, a, à, a ; to which they have added a fifth, thus α. They make a kind of modulation, wherein, prolonging the duration of the sound of the vowel, they vary the tone, raising and sinking it by a certain pitch of voice; so that their talking is a sort of music or singing. Attempts have been made to determine the quantity of the rise or fall on each accent by means of musical notes; but this is hard to effect, as being different in different persons. Hence the great difficulty of the language to foreigners, who are forced to sing most scrupulously; for if they deviate ever so little from the accent, they say quite a different thing from what was intended. Thus, meaning to compliment the person you are talking of with the title Sir, you call him a beast with the same word, only a little varied in the tone. Magalhon, however, makes the language easier to learn on this account. The Siamese are also observed to sing rather than to talk. Their alphabet begins with six characters, all only equivalent to a K, but differently accented. For though in the pronunciation the accents are naturally on the vowels, yet they have some to diversify such of their consonants as are in other respects the same. | source: https://raw.githubusercontent.com/TU-plogan/kp-editions/main/eb07/TXT_v2/a2/kp-eb0702-008305-0888-v2.txt | created by https://w3id.org/hto/Organization/NCKP using https://pdf.abbyy.com\n",
      "name: ACCENT | description: in reading or speaking, an inflection voice, which gives to each syllable of a word its in respect of height or lowness. See Reading. word is originally Latin, accentus ; a compound and cano, to sing. Accentus quasi adcantus, or turn. In this sense, accent is synonymous with rows; the Latin tenor, or tonor; and the Hebrew Accent, among grammarians, is a certain | source: https://w3id.org/hto/InformationResource/192984259_alto_193030890_34_xml | created by https://w3id.org/hto/Organization/NLS using None\n"
     ]
    }
   ],
   "source": [
    "from rdflib import PROV\n",
    "# Find software used to generate the source which the description of an article was extracted.\n",
    "article_accent = \"<https://w3id.org/hto/ArticleTermRecord/9910796273804340_192984259_ACCENT_0>\"\n",
    "\n",
    "sparql.setQuery(\"\"\"\n",
    "     PREFIX hto: <https://w3id.org/hto#>\n",
    "     PREFIX prov: <http://www.w3.org/ns/prov#>\n",
    "     SELECT * WHERE {\n",
    "        %s a hto:TermRecord;\n",
    "            hto:name ?name;\n",
    "            hto:hasOriginalDescription ?desc.\n",
    "        ?desc hto:wasExtractedFrom ?source;\n",
    "            hto:text ?text.\n",
    "        ?source prov:wasAttributedTo ?agent.\n",
    "        ?agent a ?agentType.\n",
    "        FILTER (?agentType = prov:Person || ?agentType = prov:Organization)\n",
    "        OPTIONAL {\n",
    "            ?source prov:wasAttributedTo ?software.\n",
    "            ?software a prov:SoftwareAgent.\n",
    "        }\n",
    "    }\n",
    "    \"\"\" % (article_accent)\n",
    ")\n",
    "\n",
    "try:\n",
    "    ret = sparql.queryAndConvert()\n",
    "    for r in ret[\"results\"][\"bindings\"]:\n",
    "        software = None\n",
    "        if \"software\" in r:\n",
    "            software = r[\"software\"][\"value\"]\n",
    "        print(\"name: %s | description: %s | source: %s | created by %s using %s\" % (r[\"name\"][\"value\"], r[\"text\"][\"value\"], r[\"source\"][\"value\"], r[\"agent\"][\"value\"], software))\n",
    "except Exception as e:\n",
    "    print(e)\n"
   ],
   "metadata": {
    "collapsed": false
   }
  },
  {
   "cell_type": "markdown",
   "source": [
    "### Question 23: List all articles which have more than one name"
   ],
   "metadata": {
    "collapsed": false
   }
  },
  {
   "cell_type": "code",
   "execution_count": 18,
   "outputs": [],
   "source": [
    "sparql.setQuery(\"\"\"\n",
    "     PREFIX hto: <https://w3id.org/hto#>\n",
    "     SELECT ?term (COUNT(?name) AS ?n) WHERE {\n",
    "        ?term a hto:ArticleTermRecord;\n",
    "            hto:name ?name.\n",
    "    }\n",
    "    GROUP BY ?term\n",
    "    HAVING (COUNT(?name) > 1)\n",
    "    LIMIT 10\n",
    "    \"\"\"\n",
    ")\n",
    "\n",
    "try:\n",
    "    ret = sparql.queryAndConvert()\n",
    "    for r in ret[\"results\"][\"bindings\"]:\n",
    "        if \"term\" in r:\n",
    "            print(\"term uri: %s | number of names: %s\" % (r[\"term\"][\"value\"], r[\"n\"][\"value\"]))\n",
    "except Exception as e:\n",
    "    print(e)\n"
   ],
   "metadata": {
    "collapsed": false
   }
  },
  {
   "cell_type": "markdown",
   "source": [
    "### Question 24: List editions which was revision of another edition"
   ],
   "metadata": {
    "collapsed": false
   }
  },
  {
   "cell_type": "code",
   "execution_count": 13,
   "outputs": [],
   "source": [
    "sparql.setQuery(\"\"\"\n",
    "     PREFIX hto: <https://w3id.org/hto#>\n",
    "     PREFIX prov: <http://www.w3.org/ns/prov#>\n",
    "     SELECT * WHERE {\n",
    "        ?revision a hto:Edition;\n",
    "            prov:wasRevisionOf ?edition;\n",
    "            hto:number ?r_edition_num.\n",
    "        ?edition a hto:Edition;\n",
    "            hto:number ?edition_num.\n",
    "    }\n",
    "    \"\"\"\n",
    ")\n",
    "\n",
    "try:\n",
    "    ret = sparql.queryAndConvert()\n",
    "    for r in ret[\"results\"][\"bindings\"]:\n",
    "        print(\"edition %s - < %s > was revision of edition %s -< %s >\" % (r[\"revision\"][\"value\"], r[\"r_edition_num\"][\"value\"], r[\"edition\"][\"value\"], r[\"edition_num\"][\"value\"]))\n",
    "except Exception as e:\n",
    "    print(e)\n"
   ],
   "metadata": {
    "collapsed": false
   }
  },
  {
   "cell_type": "markdown",
   "source": [
    "### Question 25: Find the summary of the description of a topic article _A_"
   ],
   "metadata": {
    "collapsed": false
   }
  },
  {
   "cell_type": "code",
   "execution_count": 16,
   "outputs": [],
   "source": [
    "topic_a = \"<https://w3id.org/hto/TopicTermRecord/9910796273804340_192693199_HYGROMETRY_0>\"\n",
    "\n",
    "sparql.setQuery(\"\"\"\n",
    "     PREFIX hto: <https://w3id.org/hto#>\n",
    "     SELECT * WHERE {\n",
    "        %s a hto:TopicTermRecord;\n",
    "            hto:name ?name;\n",
    "            hto:hasOriginalDescription ?description.\n",
    "        ?description a hto:OriginalDescription;\n",
    "            hto:hasSummary ?summary.\n",
    "        ?summary hto:text ?text.\n",
    "    }\n",
    "    \"\"\" % topic_a\n",
    ")\n",
    "\n",
    "try:\n",
    "    ret = sparql.queryAndConvert()\n",
    "    for r in ret[\"results\"][\"bindings\"]:\n",
    "        print(\"term uri: %s | summary: %s\" % (r[\"term\"][\"value\"], r[\"summary\"][\"value\"]))\n",
    "except Exception as e:\n",
    "    print(e)\n"
   ],
   "metadata": {
    "collapsed": false
   }
  },
  {
   "cell_type": "code",
   "execution_count": 24,
   "outputs": [
    {
     "name": "stdout",
     "output_type": "stream",
     "text": [
      "AGENT: Ash Charlton\n",
      "AGENT: Nineteenth-Century Knowledge Project\n",
      "AGENT: National Library of Scotland\n"
     ]
    }
   ],
   "source": [
    "# List the source provider who provides the highest quality of textual dataset in each edition.\n",
    "sparql.setQuery(\"\"\"\n",
    "    PREFIX hto: <https://w3id.org/hto#>\n",
    "    PREFIX foaf: <http://xmlns.com/foaf/0.1/>\n",
    "    PREFIX prov: <http://www.w3.org/ns/prov#>\n",
    "    SELECT DISTINCT ?agent ?name WHERE {\n",
    "        ?desc hto:wasExtractedFrom ?source.\n",
    "        ?source prov:wasAttributedTo ?agent.\n",
    "        ?agent a ?agentType;\n",
    "            foaf:name ?name.\n",
    "        FILTER (?agentType = prov:Person || ?agentType = prov:Organization)\n",
    "    }\n",
    "    \"\"\"\n",
    ")\n",
    "\n",
    "try:\n",
    "    ret = sparql.queryAndConvert()\n",
    "    for r in ret[\"results\"][\"bindings\"]:\n",
    "        print(\"AGENT: %s\" % (r[\"name\"][\"value\"]))\n",
    "except Exception as e:\n",
    "    print(e)\n"
   ],
   "metadata": {
    "collapsed": false
   }
  },
  {
   "cell_type": "markdown",
   "source": [
    "### Question 26: List all concepts"
   ],
   "metadata": {
    "collapsed": false
   }
  },
  {
   "cell_type": "code",
   "execution_count": 25,
   "outputs": [
    {
     "name": "stdout",
     "output_type": "stream",
     "text": [
      "Concept uri: https://w3id.org/hto/Concept/5209900143_1\n",
      "Concept uri: https://w3id.org/hto/Concept/6194477897_2\n",
      "Concept uri: https://w3id.org/hto/Concept/9438111967_1\n",
      "Concept uri: https://w3id.org/hto/Concept/528009415_1\n",
      "Concept uri: https://w3id.org/hto/Concept/6957054916_1\n",
      "Concept uri: https://w3id.org/hto/Concept/3646294525_1\n",
      "Concept uri: https://w3id.org/hto/Concept/8992274475_1\n",
      "Concept uri: https://w3id.org/hto/Concept/6536088635_1\n",
      "Concept uri: https://w3id.org/hto/Concept/1224675172_2\n",
      "Concept uri: https://w3id.org/hto/Concept/2771374226_1\n",
      "Concept uri: https://w3id.org/hto/Concept/2441206593_1\n",
      "Concept uri: https://w3id.org/hto/Concept/5451806916_27\n",
      "Concept uri: https://w3id.org/hto/Concept/6005223580_1\n",
      "Concept uri: https://w3id.org/hto/Concept/5932165500_1\n",
      "Concept uri: https://w3id.org/hto/Concept/1310772381_1\n",
      "Concept uri: https://w3id.org/hto/Concept/120789143_2\n",
      "Concept uri: https://w3id.org/hto/Concept/4803695092_2\n",
      "Concept uri: https://w3id.org/hto/Concept/274228744_2\n",
      "Concept uri: https://w3id.org/hto/Concept/3814240180_2\n",
      "Concept uri: https://w3id.org/hto/Concept/9091631603_2\n"
     ]
    }
   ],
   "source": [
    "sparql.setQuery(\"\"\"\n",
    "    PREFIX hto: <https://w3id.org/hto#>\n",
    "    SELECT * WHERE {\n",
    "        ?concept a hto:Concept.\n",
    "    } LIMIT 20\n",
    "    \"\"\"\n",
    ")\n",
    "\n",
    "try:\n",
    "    ret = sparql.queryAndConvert()\n",
    "    for r in ret[\"results\"][\"bindings\"]:\n",
    "        print(\"Concept uri: %s\" % (r[\"concept\"][\"value\"]))\n",
    "except Exception as e:\n",
    "    print(e)"
   ],
   "metadata": {
    "collapsed": false
   }
  },
  {
   "cell_type": "markdown",
   "source": [
    "### Question 26: List all term records for a concept"
   ],
   "metadata": {
    "collapsed": false
   }
  },
  {
   "cell_type": "code",
   "execution_count": 2,
   "outputs": [
    {
     "name": "stdout",
     "output_type": "stream",
     "text": [
      "record name: DIVISION | uri: https://w3id.org/hto/ArticleTermRecord/992277653804341_144133902_6194477897_0 | description: in general, is the separating a thing into two or more parts. Division, in arithmetic. SeeVol. I.p. 376. Division, in algebra. SeeVol.I. p. 82. \n",
      "record name: DIVISION | uri: https://w3id.org/hto/ArticleTermRecord/9929192893804340_144850367_6194477897_0 | description: in general, is the separating a thing into two or more parts. Division, in arithmetic., See Vol. I.p. 376. Division, in algebra. SeeVol.I. p. 82. \n"
     ]
    }
   ],
   "source": [
    "concept_uri = \"<https://w3id.org/hto/Concept/6194477897_2>\"\n",
    "\n",
    "sparql.setQuery(\"\"\"\n",
    "    PREFIX hto: <https://w3id.org/hto#>\n",
    "    SELECT * WHERE {\n",
    "        %s a hto:Concept;\n",
    "            hto:hadConceptRecord ?record.\n",
    "        ?record a ?term_type;\n",
    "                hto:name ?name;\n",
    "                hto:hasOriginalDescription ?desc.\n",
    "        ?desc hto:text ?content;\n",
    "            hto:hasTextQuality hto:Low.\n",
    "        FILTER (?term_type = hto:ArticleTermRecord || ?term_type = hto:TopicTermRecord)\n",
    "\n",
    "    } LIMIT 20\n",
    "    \"\"\" % concept_uri\n",
    ")\n",
    "\n",
    "try:\n",
    "    ret = sparql.queryAndConvert()\n",
    "    for r in ret[\"results\"][\"bindings\"]:\n",
    "        print(\"record name: %s | uri: %s | description: %s \" % (r[\"name\"][\"value\"], r[\"record\"][\"value\"], r[\"content\"][\"value\"]))\n",
    "except Exception as e:\n",
    "    print(e)"
   ],
   "metadata": {
    "collapsed": false
   }
  },
  {
   "cell_type": "markdown",
   "source": [
    "### Question 27: Given a description, track the source"
   ],
   "metadata": {
    "collapsed": false
   }
  },
  {
   "cell_type": "code",
   "execution_count": 23,
   "outputs": [
    {
     "name": "stdout",
     "output_type": "stream",
     "text": [
      "{'https://raw.githubusercontent.com/TU-plogan/kp-editions/main/eb07/TXT_v2/e8/kp-eb0708-039107-8218-v2.txt': {'source_uri': None, 'entity_type': 'https://w3id.org/hto#InformationResource', 'Organization': 'Nineteenth-Century Knowledge Project', 'SoftwareAgent': 'ABBYY FineReader'}}\n"
     ]
    }
   ],
   "source": [
    "description_uri = \"https://raw.githubusercontent.com/TU-plogan/kp-editions/main/eb07/TXT_v2/e8/kp-eb0708-039107-8218-v2.txt\"\n",
    "\n",
    "#description_uri = \"https://w3id.org/hto/OriginalDescription/992277653804341_144133903_6364534740_0Ash\"\n",
    "#description_uri = \"https://w3id.org/hto/InformationResource/__data_EB_1_3_clean_cut_txt\"\n",
    "\n",
    "def get_source(entity_uri):\n",
    "    if entity_uri is None:\n",
    "        return None\n",
    "\n",
    "    entity_uri = \"<\" + entity_uri + \">\"\n",
    "    sparql.setQuery(\"\"\"\n",
    "        PREFIX hto: <https://w3id.org/hto#>\n",
    "        PREFIX prov: <http://www.w3.org/ns/prov#>\n",
    "        PREFIX foaf: <http://xmlns.com/foaf/0.1/>\n",
    "        SELECT * WHERE {\n",
    "            %s a ?entity_type;\n",
    "                prov:wasAttributedTo ?agent.\n",
    "            ?agent a ?agent_type;\n",
    "                foaf:name ?agent_name.\n",
    "            OPTIONAL {\n",
    "            %s ?derived_type ?source.\n",
    "            FILTER (?derived_type = prov:wasDerivedFrom || ?derived_type = hto:wasExtractedFrom)\n",
    "            }\n",
    "        } LIMIT 20\n",
    "        \"\"\" % (entity_uri, entity_uri)\n",
    "    )\n",
    "\n",
    "    # wasAttributedTo peron, Organization, software agent\n",
    "    # wasDerivedFrom - description, wasExtractedFrom - information resource\n",
    "\n",
    "    try:\n",
    "        ret = sparql.queryAndConvert()\n",
    "        source = {}\n",
    "        for r in ret[\"results\"][\"bindings\"]:\n",
    "            source_uri = None\n",
    "            if 'source' in r:\n",
    "                source_uri = r['source']['value']\n",
    "            source[\"source_uri\"] = source_uri\n",
    "            source[\"entity_type\"] = r['entity_type']['value']\n",
    "            agent_type = r['agent_type']['value']\n",
    "            agent_type_name = agent_type.split(\"#\")[-1]\n",
    "            source[agent_type_name] = r['agent_name']['value']\n",
    "\n",
    "        return source\n",
    "    except Exception as e:\n",
    "        print(e)\n",
    "        return None\n",
    "\n",
    "\n",
    "def track_all_sources(entity_uri):\n",
    "    sources = {}\n",
    "    tmp_source_uri = entity_uri\n",
    "    while tmp_source_uri:\n",
    "        current_source_info = get_source(tmp_source_uri)\n",
    "        sources[tmp_source_uri] = current_source_info\n",
    "        tmp_source_uri = current_source_info[\"source_uri\"]\n",
    "    return sources\n",
    "print(track_all_sources(description_uri))"
   ],
   "metadata": {
    "collapsed": false
   }
  },
  {
   "cell_type": "markdown",
   "source": [],
   "metadata": {
    "collapsed": false
   }
  }
 ],
 "metadata": {
  "kernelspec": {
   "display_name": "Python 3",
   "language": "python",
   "name": "python3"
  },
  "language_info": {
   "codemirror_mode": {
    "name": "ipython",
    "version": 2
   },
   "file_extension": ".py",
   "mimetype": "text/x-python",
   "name": "python",
   "nbconvert_exporter": "python",
   "pygments_lexer": "ipython2",
   "version": "2.7.6"
  }
 },
 "nbformat": 4,
 "nbformat_minor": 0
}
